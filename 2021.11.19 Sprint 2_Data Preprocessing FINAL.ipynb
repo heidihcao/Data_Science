{
 "cells": [
  {
   "cell_type": "markdown",
   "metadata": {},
   "source": [
    "# Analyzing borrowers’ risk of defaulting\n",
    "\n",
    "This project is prepares a report for a bank’s loan division. The goal is to find out if a customer’s marital status and number of children has an impact on whether they will default on a loan. The bank already has some data on customers’ credit worthiness. My report is used for building the credit score of a potential customer. "
   ]
  },
  {
   "cell_type": "markdown",
   "metadata": {},
   "source": [
    "## Open the data file and inspect general information: "
   ]
  },
  {
   "cell_type": "code",
   "execution_count": 1,
   "metadata": {},
   "outputs": [],
   "source": [
    "# Loading all the libraries\n",
    "import pandas as pd\n",
    "import numpy as np\n",
    "import scipy.stats\n",
    "import warnings\n",
    "warnings.filterwarnings(\"ignore\")"
   ]
  },
  {
   "cell_type": "code",
   "execution_count": 2,
   "metadata": {},
   "outputs": [],
   "source": [
    "# Load the data\n",
    "df = pd.read_csv('/datasets/credit_scoring_eng.csv')"
   ]
  },
  {
   "cell_type": "code",
   "execution_count": 3,
   "metadata": {
    "scrolled": true
   },
   "outputs": [
    {
     "data": {
      "text/plain": [
       "(21525, 12)"
      ]
     },
     "execution_count": 3,
     "metadata": {},
     "output_type": "execute_result"
    }
   ],
   "source": [
    "\n",
    "# Check for rows and columns of the dataset\n",
    "df.shape"
   ]
  },
  {
   "cell_type": "markdown",
   "metadata": {},
   "source": [
    "## Task 1. Data exploration\n",
    "\n",
    "**Description of the data**\n",
    "- `children` - the number of children in the family\n",
    "- `days_employed` - work experience in days\n",
    "- `dob_years` - client's age in years\n",
    "- `education` - client's education\n",
    "- `education_id` - education identifier\n",
    "- `family_status` - marital status\n",
    "- `family_status_id` - marital status identifier\n",
    "- `gender` - gender of the client\n",
    "- `income_type` - type of employment\n",
    "- `debt` - was there any debt on loan repayment\n",
    "- `total_income` - monthly income\n",
    "- `purpose` - the purpose of obtaining a loan"
   ]
  },
  {
   "cell_type": "code",
   "execution_count": 4,
   "metadata": {
    "scrolled": true
   },
   "outputs": [
    {
     "name": "stdout",
     "output_type": "stream",
     "text": [
      "   children  days_employed  dob_years            education  education_id  \\\n",
      "0         1   -8437.673028         42    bachelor's degree             0   \n",
      "1         1   -4024.803754         36  secondary education             1   \n",
      "2         0   -5623.422610         33  Secondary Education             1   \n",
      "3         3   -4124.747207         32  secondary education             1   \n",
      "4         0  340266.072047         53  secondary education             1   \n",
      "5         0    -926.185831         27    bachelor's degree             0   \n",
      "6         0   -2879.202052         43    bachelor's degree             0   \n",
      "7         0    -152.779569         50  SECONDARY EDUCATION             1   \n",
      "8         2   -6929.865299         35    BACHELOR'S DEGREE             0   \n",
      "9         0   -2188.756445         41  secondary education             1   \n",
      "\n",
      "       family_status  family_status_id gender income_type  debt  total_income  \\\n",
      "0            married                 0      F    employee     0     40620.102   \n",
      "1            married                 0      F    employee     0     17932.802   \n",
      "2            married                 0      M    employee     0     23341.752   \n",
      "3            married                 0      M    employee     0     42820.568   \n",
      "4  civil partnership                 1      F     retiree     0     25378.572   \n",
      "5  civil partnership                 1      M    business     0     40922.170   \n",
      "6            married                 0      F    business     0     38484.156   \n",
      "7            married                 0      M    employee     0     21731.829   \n",
      "8  civil partnership                 1      F    employee     0     15337.093   \n",
      "9            married                 0      M    employee     0     23108.150   \n",
      "\n",
      "                               purpose  \n",
      "0                purchase of the house  \n",
      "1                         car purchase  \n",
      "2                purchase of the house  \n",
      "3              supplementary education  \n",
      "4                    to have a wedding  \n",
      "5                purchase of the house  \n",
      "6                 housing transactions  \n",
      "7                            education  \n",
      "8                     having a wedding  \n",
      "9  purchase of the house for my family  \n"
     ]
    }
   ],
   "source": [
    "# Print the first N rows\n",
    "print(df.head(10))"
   ]
  },
  {
   "cell_type": "markdown",
   "metadata": {},
   "source": [
    "#### There are issues with the data sample:\n",
    "\n",
    "1. days employed are showing negative values - which is illogical.\n",
    "2. spellings are not standardly formatting - for example, within the education column, capitalization and spellings are varied.\n",
    "3. within the purpose column, there's a great variety of information, which might make sorting and categorization difficult.\n",
    "4. unclear exactly what the 0 and 1 siginifies within \"family_status_id\" and \"education_id\". One's best guess is a boolean value indicating yes/no or true/false for these columns."
   ]
  },
  {
   "cell_type": "code",
   "execution_count": 5,
   "metadata": {
    "scrolled": false
   },
   "outputs": [
    {
     "name": "stdout",
     "output_type": "stream",
     "text": [
      "<class 'pandas.core.frame.DataFrame'>\n",
      "RangeIndex: 21525 entries, 0 to 21524\n",
      "Data columns (total 12 columns):\n",
      "children            21525 non-null int64\n",
      "days_employed       19351 non-null float64\n",
      "dob_years           21525 non-null int64\n",
      "education           21525 non-null object\n",
      "education_id        21525 non-null int64\n",
      "family_status       21525 non-null object\n",
      "family_status_id    21525 non-null int64\n",
      "gender              21525 non-null object\n",
      "income_type         21525 non-null object\n",
      "debt                21525 non-null int64\n",
      "total_income        19351 non-null float64\n",
      "purpose             21525 non-null object\n",
      "dtypes: float64(2), int64(5), object(5)\n",
      "memory usage: 2.0+ MB\n"
     ]
    }
   ],
   "source": [
    "# Get info on data\n",
    "df.info()"
   ]
  },
  {
   "cell_type": "markdown",
   "metadata": {},
   "source": [
    "####  There are missing values across a few columns:\n",
    "\n",
    "Specifically, there are missing values for \"days employed\" and \"total income\" columns. Total row number should be 21525, but these columns only show 19351 rows/values."
   ]
  },
  {
   "cell_type": "code",
   "execution_count": 6,
   "metadata": {
    "scrolled": true
   },
   "outputs": [
    {
     "name": "stdout",
     "output_type": "stream",
     "text": [
      "Empty DataFrame\n",
      "Columns: [children, days_employed, dob_years, education, education_id, family_status, family_status_id, gender, income_type, debt, total_income, purpose]\n",
      "Index: []\n"
     ]
    }
   ],
   "source": [
    "# Examine the filtered table with missing values in the the first column with missing data\n",
    "missing = df.loc[:, ['days_employed','total_income']]\n",
    "print(df.loc[ (df['days_employed'] == '') & (df['total_income'] == '') ] )"
   ]
  },
  {
   "cell_type": "markdown",
   "metadata": {},
   "source": [
    "#### In the \"days_employed\" and \"total_income\" columns, when I print just the first 50 rows, I can see a few things:\n",
    "\n",
    "1. the missing values seem symmetric, since there are corresponding NaN across these two columns.\n",
    "2. all missing values are \"NaN\", which indicates it is not a number and is a float type, and that I can perform mathematical operations on it if needed. "
   ]
  },
  {
   "cell_type": "code",
   "execution_count": 7,
   "metadata": {},
   "outputs": [
    {
     "name": "stdout",
     "output_type": "stream",
     "text": [
      "<class 'pandas.core.frame.DataFrame'>\n",
      "Int64Index: 21525 entries, 0 to 21524\n",
      "Data columns (total 12 columns):\n",
      "children            21525 non-null int64\n",
      "days_employed       19351 non-null float64\n",
      "dob_years           21525 non-null int64\n",
      "education           21525 non-null object\n",
      "education_id        21525 non-null int64\n",
      "family_status       21525 non-null object\n",
      "family_status_id    21525 non-null int64\n",
      "gender              21525 non-null object\n",
      "income_type         21525 non-null object\n",
      "debt                21525 non-null int64\n",
      "total_income        19351 non-null float64\n",
      "purpose             21525 non-null object\n",
      "dtypes: float64(2), int64(5), object(5)\n",
      "memory usage: 2.1+ MB\n"
     ]
    },
    {
     "data": {
      "text/html": [
       "<div>\n",
       "<style scoped>\n",
       "    .dataframe tbody tr th:only-of-type {\n",
       "        vertical-align: middle;\n",
       "    }\n",
       "\n",
       "    .dataframe tbody tr th {\n",
       "        vertical-align: top;\n",
       "    }\n",
       "\n",
       "    .dataframe thead th {\n",
       "        text-align: right;\n",
       "    }\n",
       "</style>\n",
       "<table border=\"1\" class=\"dataframe\">\n",
       "  <thead>\n",
       "    <tr style=\"text-align: right;\">\n",
       "      <th></th>\n",
       "      <th>days_employed</th>\n",
       "      <th>total_income</th>\n",
       "    </tr>\n",
       "  </thead>\n",
       "  <tbody>\n",
       "    <tr>\n",
       "      <td>0</td>\n",
       "      <td>-8437.673028</td>\n",
       "      <td>40620.102</td>\n",
       "    </tr>\n",
       "    <tr>\n",
       "      <td>1</td>\n",
       "      <td>-4024.803754</td>\n",
       "      <td>17932.802</td>\n",
       "    </tr>\n",
       "    <tr>\n",
       "      <td>2</td>\n",
       "      <td>-5623.422610</td>\n",
       "      <td>23341.752</td>\n",
       "    </tr>\n",
       "    <tr>\n",
       "      <td>3</td>\n",
       "      <td>-4124.747207</td>\n",
       "      <td>42820.568</td>\n",
       "    </tr>\n",
       "    <tr>\n",
       "      <td>4</td>\n",
       "      <td>340266.072047</td>\n",
       "      <td>25378.572</td>\n",
       "    </tr>\n",
       "    <tr>\n",
       "      <td>...</td>\n",
       "      <td>...</td>\n",
       "      <td>...</td>\n",
       "    </tr>\n",
       "    <tr>\n",
       "      <td>21520</td>\n",
       "      <td>-4529.316663</td>\n",
       "      <td>35966.698</td>\n",
       "    </tr>\n",
       "    <tr>\n",
       "      <td>21521</td>\n",
       "      <td>343937.404131</td>\n",
       "      <td>24959.969</td>\n",
       "    </tr>\n",
       "    <tr>\n",
       "      <td>21522</td>\n",
       "      <td>-2113.346888</td>\n",
       "      <td>14347.610</td>\n",
       "    </tr>\n",
       "    <tr>\n",
       "      <td>21523</td>\n",
       "      <td>-3112.481705</td>\n",
       "      <td>39054.888</td>\n",
       "    </tr>\n",
       "    <tr>\n",
       "      <td>21524</td>\n",
       "      <td>-1984.507589</td>\n",
       "      <td>13127.587</td>\n",
       "    </tr>\n",
       "  </tbody>\n",
       "</table>\n",
       "<p>19351 rows × 2 columns</p>\n",
       "</div>"
      ],
      "text/plain": [
       "       days_employed  total_income\n",
       "0       -8437.673028     40620.102\n",
       "1       -4024.803754     17932.802\n",
       "2       -5623.422610     23341.752\n",
       "3       -4124.747207     42820.568\n",
       "4      340266.072047     25378.572\n",
       "...              ...           ...\n",
       "21520   -4529.316663     35966.698\n",
       "21521  343937.404131     24959.969\n",
       "21522   -2113.346888     14347.610\n",
       "21523   -3112.481705     39054.888\n",
       "21524   -1984.507589     13127.587\n",
       "\n",
       "[19351 rows x 2 columns]"
      ]
     },
     "execution_count": 7,
     "metadata": {},
     "output_type": "execute_result"
    }
   ],
   "source": [
    "# Apply multiple conditions for filtering data and look at the number of rows in the filtered table.\n",
    "missed = df[(df.days_employed != 0) & (df.total_income != 0)]\n",
    "missed.info()\n",
    "missing.dropna()"
   ]
  },
  {
   "cell_type": "markdown",
   "metadata": {},
   "source": [
    "**Intermediate conclusion**\n",
    "\n",
    "The number of rows in the filtered table now match the number of missing values earlier, which we identified with df.info(). The size of the table has reduced down to 19351 rows, without NaN missing values.\n",
    "\n",
    "As calculated below, the missing values account for roughly 10% of the data. It is not astronomically large, but I think it's nevertheless worthy to consider whether the missing data could be due to the specific client characteristic. Here's what I think might be the reason: \n",
    "1) the missing values for income and days_employed is 0 for SOME 'retiree'.\n",
    "2) one's education level seems to have an influence on your income and days_employed: not all \"secondary education\" folks have a missing value in these columns, but all the missing columns store data of a person whose education is that of \"secondary education\"\n",
    "\n",
    "I printed the head and tail of the dataframe, and sampled roughly 100 data points to discern for any specific client characteristic I think might be the reason. I realized it makes sense that retirees could have income and employment days equal to zero. One's education level seems to have an influence on your income and days_employed: not all \"secondary education\" folks have a missing value in these columns, but all the missing columns store data of a person whose education is that of \"secondary education\""
   ]
  },
  {
   "cell_type": "code",
   "execution_count": 8,
   "metadata": {},
   "outputs": [
    {
     "data": {
      "text/plain": [
       "10.099883855981417"
      ]
     },
     "execution_count": 8,
     "metadata": {},
     "output_type": "execute_result"
    }
   ],
   "source": [
    "(21525-19351)/21525*100"
   ]
  },
  {
   "cell_type": "code",
   "execution_count": 9,
   "metadata": {},
   "outputs": [
    {
     "name": "stdout",
     "output_type": "stream",
     "text": [
      "    children  days_employed  dob_years            education  education_id  \\\n",
      "0          1   -8437.673028         42    bachelor's degree             0   \n",
      "1          1   -4024.803754         36  secondary education             1   \n",
      "2          0   -5623.422610         33  Secondary Education             1   \n",
      "3          3   -4124.747207         32  secondary education             1   \n",
      "4          0  340266.072047         53  secondary education             1   \n",
      "5          0    -926.185831         27    bachelor's degree             0   \n",
      "6          0   -2879.202052         43    bachelor's degree             0   \n",
      "7          0    -152.779569         50  SECONDARY EDUCATION             1   \n",
      "8          2   -6929.865299         35    BACHELOR'S DEGREE             0   \n",
      "9          0   -2188.756445         41  secondary education             1   \n",
      "10         2   -4171.483647         36    bachelor's degree             0   \n",
      "11         0    -792.701887         40  secondary education             1   \n",
      "12         0            NaN         65  secondary education             1   \n",
      "13         0   -1846.641941         54         some college             2   \n",
      "14         0   -1844.956182         56    bachelor's degree             0   \n",
      "15         1    -972.364419         26  secondary education             1   \n",
      "16         0   -1719.934226         35  secondary education             1   \n",
      "17         0   -2369.999720         33    bachelor's degree             0   \n",
      "18         0  400281.136913         53  secondary education             1   \n",
      "19         0  -10038.818549         48  SECONDARY EDUCATION             1   \n",
      "20         1   -1311.604166         36  secondary education             1   \n",
      "21         1    -253.685166         33  secondary education             1   \n",
      "22         1   -1766.644138         24  secondary education             1   \n",
      "23         0    -272.981385         21    bachelor's degree             0   \n",
      "24         1  338551.952911         57  secondary education             1   \n",
      "25         0  363548.489348         67  secondary education             1   \n",
      "26         0            NaN         41  secondary education             1   \n",
      "27         0    -529.191635         28    bachelor's degree             0   \n",
      "28         1    -717.274324         26    bachelor's degree             0   \n",
      "29         0            NaN         63  secondary education             1   \n",
      "30         1  335581.668515         62  secondary education             1   \n",
      "31         0   -1682.083438         47    primary education             3   \n",
      "32         0   -4649.910832         34  SECONDARY EDUCATION             1   \n",
      "33         0   -1548.637544         48  secondary education             1   \n",
      "34         0   -4488.067031         35  secondary education             1   \n",
      "35         0  394021.072184         68  secondary education             1   \n",
      "36         0    -176.216688         33  secondary education             1   \n",
      "37         0   -6448.810860         43    BACHELOR'S DEGREE             0   \n",
      "38         0    -597.881827         25    bachelor's degree             0   \n",
      "39         0    -650.587796         31    bachelor's degree             0   \n",
      "40         0   -1030.362606         30  secondary education             1   \n",
      "41         0            NaN         50  secondary education             1   \n",
      "42         0   -1257.496190         20         some college             2   \n",
      "43         0   -4375.681384         43         some college             2   \n",
      "44         1   -1362.041728         26  SECONDARY EDUCATION             1   \n",
      "45         1   -1039.451741         49  secondary education             1   \n",
      "46         2   -2262.712304         37  secondary education             1   \n",
      "47         1   -2689.137274         33    bachelor's degree             0   \n",
      "48         0   -3341.067886         45  secondary education             1   \n",
      "49         0   -1181.443228         54  secondary education             1   \n",
      "\n",
      "        family_status  family_status_id gender    income_type  debt  \\\n",
      "0             married                 0      F       employee     0   \n",
      "1             married                 0      F       employee     0   \n",
      "2             married                 0      M       employee     0   \n",
      "3             married                 0      M       employee     0   \n",
      "4   civil partnership                 1      F        retiree     0   \n",
      "5   civil partnership                 1      M       business     0   \n",
      "6             married                 0      F       business     0   \n",
      "7             married                 0      M       employee     0   \n",
      "8   civil partnership                 1      F       employee     0   \n",
      "9             married                 0      M       employee     0   \n",
      "10            married                 0      M       business     0   \n",
      "11            married                 0      F       employee     0   \n",
      "12  civil partnership                 1      M        retiree     0   \n",
      "13            married                 0      F       employee     0   \n",
      "14  civil partnership                 1      F       business     1   \n",
      "15            married                 0      F       employee     0   \n",
      "16            married                 0      F       employee     0   \n",
      "17  civil partnership                 1      M       employee     0   \n",
      "18    widow / widower                 2      F        retiree     0   \n",
      "19           divorced                 3      F       employee     0   \n",
      "20            married                 0      M       employee     0   \n",
      "21  civil partnership                 1      F       employee     0   \n",
      "22  civil partnership                 1      F       employee     0   \n",
      "23  civil partnership                 1      M       employee     0   \n",
      "24          unmarried                 4      F        retiree     0   \n",
      "25            married                 0      M        retiree     0   \n",
      "26            married                 0      M  civil servant     0   \n",
      "27            married                 0      M       employee     0   \n",
      "28            married                 0      F       employee     0   \n",
      "29          unmarried                 4      F        retiree     0   \n",
      "30            married                 0      F        retiree     0   \n",
      "31            married                 0      F       employee     0   \n",
      "32  civil partnership                 1      F       employee     1   \n",
      "33            married                 0      F       business     0   \n",
      "34            married                 0      F       employee     0   \n",
      "35  civil partnership                 1      M        retiree     0   \n",
      "36          unmarried                 4      M       employee     0   \n",
      "37  civil partnership                 1      F       business     0   \n",
      "38          unmarried                 4      M       employee     1   \n",
      "39  civil partnership                 1      F       business     0   \n",
      "40          unmarried                 4      M       business     0   \n",
      "41            married                 0      F  civil servant     0   \n",
      "42          unmarried                 4      F       employee     0   \n",
      "43           divorced                 3      F       business     0   \n",
      "44            married                 0      F       employee     0   \n",
      "45          unmarried                 4      F       employee     0   \n",
      "46            married                 0      F       business     0   \n",
      "47  civil partnership                 1      M  civil servant     0   \n",
      "48            married                 0      F       employee     0   \n",
      "49            married                 0      F       employee     0   \n",
      "\n",
      "    total_income                                   purpose  \n",
      "0      40620.102                     purchase of the house  \n",
      "1      17932.802                              car purchase  \n",
      "2      23341.752                     purchase of the house  \n",
      "3      42820.568                   supplementary education  \n",
      "4      25378.572                         to have a wedding  \n",
      "5      40922.170                     purchase of the house  \n",
      "6      38484.156                      housing transactions  \n",
      "7      21731.829                                 education  \n",
      "8      15337.093                          having a wedding  \n",
      "9      23108.150       purchase of the house for my family  \n",
      "10     18230.959                           buy real estate  \n",
      "11     12331.077                buy commercial real estate  \n",
      "12           NaN                         to have a wedding  \n",
      "13     20873.317                              car purchase  \n",
      "14     26420.466               buy residential real estate  \n",
      "15     18691.345              construction of own property  \n",
      "16     46272.433                                  property  \n",
      "17     14465.694                       building a property  \n",
      "18      9091.804                  buying a second-hand car  \n",
      "19     38852.977                         buying my own car  \n",
      "20     33528.423                                  property  \n",
      "21     21089.953                              car purchase  \n",
      "22     23948.983                  buying a second-hand car  \n",
      "23     20522.515                         to have a wedding  \n",
      "24     46487.558  transactions with commercial real estate  \n",
      "25      8818.041                           buy real estate  \n",
      "26           NaN                                 education  \n",
      "27     49415.837              construction of own property  \n",
      "28     30058.118              construction of own property  \n",
      "29           NaN                    building a real estate  \n",
      "30     27432.971  transactions with commercial real estate  \n",
      "31     44077.710                                   housing  \n",
      "32     22249.194                          having a wedding  \n",
      "33     25159.326                     purchase of the house  \n",
      "34     16745.672          transactions with my real estate  \n",
      "35     12448.908                          having a wedding  \n",
      "36     22212.904                                      cars  \n",
      "37     24660.621                              car purchase  \n",
      "38     30759.568                                 education  \n",
      "39    120678.528                        to become educated  \n",
      "40     22858.493                           buy real estate  \n",
      "41           NaN                  second-hand car purchase  \n",
      "42     13130.414                      getting an education  \n",
      "43     43673.141                              car purchase  \n",
      "44     16124.879                         buying my own car  \n",
      "45     17021.747                        to become educated  \n",
      "46     29229.194                  second-hand car purchase  \n",
      "47     57004.465                          having a wedding  \n",
      "48     25930.483              construction of own property  \n",
      "49      7134.689                                       car  \n",
      "       children  days_employed  dob_years            education  education_id  \\\n",
      "21475         0  365213.306266         52  secondary education             1   \n",
      "21476         0   -2539.502794         52    bachelor's degree             0   \n",
      "21477         0   -1628.432350         54  secondary education             1   \n",
      "21478         1    -921.332705         28    Bachelor's Degree             0   \n",
      "21479         0    -685.565994         26  secondary education             1   \n",
      "21480         0   -8799.354717         45    bachelor's degree             0   \n",
      "21481         0    -829.519627         30         some college             2   \n",
      "21482         1    -865.081118         25  secondary education             1   \n",
      "21483         2   -2917.035232         38    primary education             3   \n",
      "21484         3    -968.718123         35  secondary education             1   \n",
      "21485         0  363996.449108         59    bachelor's degree             0   \n",
      "21486         0   -1614.022809         36  SECONDARY EDUCATION             1   \n",
      "21487         0   -2376.789344         30  SECONDARY EDUCATION             1   \n",
      "21488         0    -354.755760         35    bachelor's degree             0   \n",
      "21489         2            NaN         47  Secondary Education             1   \n",
      "21490         2   -1867.006757         32  secondary education             1   \n",
      "21491        20    -173.954460         27  secondary education             1   \n",
      "21492         0   -1618.645283         54  secondary education             1   \n",
      "21493         1   -1214.858885         38  secondary education             1   \n",
      "21494         0    -960.095747         39  secondary education             1   \n",
      "21495         1            NaN         50  secondary education             1   \n",
      "21496         1    -759.680851         31  secondary education             1   \n",
      "21497         0            NaN         48    BACHELOR'S DEGREE             0   \n",
      "21498         1   -1330.627998         32  secondary education             1   \n",
      "21499         0   -9929.015065         57  secondary education             1   \n",
      "21500         0    -578.082757         26         some college             2   \n",
      "21501         0  334343.096304         57  secondary education             1   \n",
      "21502         1            NaN         42  secondary education             1   \n",
      "21503         0   -3096.881131         58  secondary education             1   \n",
      "21504         0  355235.728158         68  secondary education             1   \n",
      "21505         0  338904.866406         53  secondary education             1   \n",
      "21506         1   -1556.249906         33    BACHELOR'S DEGREE             0   \n",
      "21507         1     -79.832064         32  secondary education             1   \n",
      "21508         0  386497.714078         62  secondary education             1   \n",
      "21509         0  362161.054124         59    bachelor's degree             0   \n",
      "21510         2            NaN         28  secondary education             1   \n",
      "21511         0    -612.569129         29    bachelor's degree             0   \n",
      "21512         0    -165.377752         26    bachelor's degree             0   \n",
      "21513         0   -1166.216789         35  secondary education             1   \n",
      "21514         0    -280.469996         27         some college             2   \n",
      "21515         1    -467.685130         28  secondary education             1   \n",
      "21516         0    -914.391429         42    bachelor's degree             0   \n",
      "21517         0    -404.679034         42    bachelor's degree             0   \n",
      "21518         0  373995.710838         59  SECONDARY EDUCATION             1   \n",
      "21519         1   -2351.431934         37      graduate degree             4   \n",
      "21520         1   -4529.316663         43  secondary education             1   \n",
      "21521         0  343937.404131         67  secondary education             1   \n",
      "21522         1   -2113.346888         38  secondary education             1   \n",
      "21523         3   -3112.481705         38  secondary education             1   \n",
      "21524         2   -1984.507589         40  secondary education             1   \n",
      "\n",
      "           family_status  family_status_id gender    income_type  debt  \\\n",
      "21475            married                 0      F        retiree     1   \n",
      "21476            married                 0      M       business     0   \n",
      "21477  civil partnership                 1      F       employee     0   \n",
      "21478            married                 0      F       employee     0   \n",
      "21479            married                 0      M       employee     0   \n",
      "21480          unmarried                 4      F       employee     0   \n",
      "21481  civil partnership                 1      M       employee     0   \n",
      "21482            married                 0      F       business     0   \n",
      "21483  civil partnership                 1      F       employee     1   \n",
      "21484            married                 0      M       employee     0   \n",
      "21485            married                 0      F        retiree     0   \n",
      "21486            married                 0      F       employee     1   \n",
      "21487  civil partnership                 1      F       employee     0   \n",
      "21488          unmarried                 4      F       business     0   \n",
      "21489            married                 0      M       business     0   \n",
      "21490            married                 0      F       employee     0   \n",
      "21491            married                 0      F       employee     0   \n",
      "21492            married                 0      M       business     0   \n",
      "21493            married                 0      F       employee     0   \n",
      "21494  civil partnership                 1      M       business     1   \n",
      "21495  civil partnership                 1      F       employee     0   \n",
      "21496            married                 0      F       employee     0   \n",
      "21497            married                 0      F       business     0   \n",
      "21498  civil partnership                 1      M       employee     0   \n",
      "21499  civil partnership                 1      M       business     0   \n",
      "21500          unmarried                 4      M       business     0   \n",
      "21501            married                 0      F        retiree     0   \n",
      "21502            married                 0      F       employee     0   \n",
      "21503            married                 0      F       employee     0   \n",
      "21504            married                 0      F        retiree     0   \n",
      "21505  civil partnership                 1      M        retiree     0   \n",
      "21506  civil partnership                 1      F       employee     0   \n",
      "21507  civil partnership                 1      F  civil servant     0   \n",
      "21508            married                 0      M        retiree     0   \n",
      "21509            married                 0      M        retiree     0   \n",
      "21510            married                 0      F       employee     0   \n",
      "21511  civil partnership                 1      F       employee     1   \n",
      "21512          unmarried                 4      M       business     0   \n",
      "21513            married                 0      F       employee     0   \n",
      "21514          unmarried                 4      M       business     0   \n",
      "21515            married                 0      F       employee     1   \n",
      "21516            married                 0      F       business     0   \n",
      "21517  civil partnership                 1      F       business     0   \n",
      "21518            married                 0      F        retiree     0   \n",
      "21519           divorced                 3      M       employee     0   \n",
      "21520  civil partnership                 1      F       business     0   \n",
      "21521            married                 0      F        retiree     0   \n",
      "21522  civil partnership                 1      M       employee     1   \n",
      "21523            married                 0      M       employee     1   \n",
      "21524            married                 0      F       employee     0   \n",
      "\n",
      "       total_income                                   purpose  \n",
      "21475      7718.290                              to own a car  \n",
      "21476     84392.453          transactions with my real estate  \n",
      "21477     11477.425                          having a wedding  \n",
      "21478     28989.738                              to own a car  \n",
      "21479     27440.696           buying property for renting out  \n",
      "21480     23511.207                        housing renovation  \n",
      "21481     70475.341                              to buy a car  \n",
      "21482     15050.405                              to own a car  \n",
      "21483     12386.810                  real estate transactions  \n",
      "21484     15306.792                                   housing  \n",
      "21485     42720.117                  buying a second-hand car  \n",
      "21486     12922.217                                       car  \n",
      "21487     14053.530                                  property  \n",
      "21488     20623.598                                  property  \n",
      "21489           NaN                         purchase of a car  \n",
      "21490      5562.874  transactions with commercial real estate  \n",
      "21491     24883.344                  buying a second-hand car  \n",
      "21492     47237.474               buy residential real estate  \n",
      "21493     23600.416       purchase of the house for my family  \n",
      "21494     28219.135                   supplementary education  \n",
      "21495           NaN                          wedding ceremony  \n",
      "21496     19102.819                              to buy a car  \n",
      "21497           NaN                       building a property  \n",
      "21498     38522.812                         to have a wedding  \n",
      "21499     25208.505                          wedding ceremony  \n",
      "21500     12450.127  transactions with commercial real estate  \n",
      "21501     13797.140                                   housing  \n",
      "21502           NaN                    building a real estate  \n",
      "21503     42280.160                        to become educated  \n",
      "21504     12890.611                   supplementary education  \n",
      "21505     12070.399                         to have a wedding  \n",
      "21506     23286.719                          wedding ceremony  \n",
      "21507     15708.845                  second-hand car purchase  \n",
      "21508     11622.175                                  property  \n",
      "21509     11684.650                  real estate transactions  \n",
      "21510           NaN                              car purchase  \n",
      "21511     22410.956           buying property for renting out  \n",
      "21512     23568.233          to get a supplementary education  \n",
      "21513     40157.783                     purchase of the house  \n",
      "21514     56958.145                       building a property  \n",
      "21515     17517.812                        to become educated  \n",
      "21516     51649.244                  purchase of my own house  \n",
      "21517     28489.529                         buying my own car  \n",
      "21518     24618.344                         purchase of a car  \n",
      "21519     18551.846                buy commercial real estate  \n",
      "21520     35966.698                      housing transactions  \n",
      "21521     24959.969                         purchase of a car  \n",
      "21522     14347.610                                  property  \n",
      "21523     39054.888                         buying my own car  \n",
      "21524     13127.587                              to buy a car  \n"
     ]
    }
   ],
   "source": [
    "# Investigate clients who do not have data on identified characteristic and the column with the missing values\n",
    "print(df.head(50))\n",
    "print(df.tail(50))"
   ]
  },
  {
   "cell_type": "code",
   "execution_count": 10,
   "metadata": {},
   "outputs": [
    {
     "name": "stdout",
     "output_type": "stream",
     "text": [
      "<class 'pandas.core.frame.DataFrame'>\n",
      "Int64Index: 3856 entries, 4 to 21521\n",
      "Data columns (total 12 columns):\n",
      "children            3856 non-null int64\n",
      "days_employed       3443 non-null float64\n",
      "dob_years           3856 non-null int64\n",
      "education           3856 non-null object\n",
      "education_id        3856 non-null int64\n",
      "family_status       3856 non-null object\n",
      "family_status_id    3856 non-null int64\n",
      "gender              3856 non-null object\n",
      "income_type         3856 non-null object\n",
      "debt                3856 non-null int64\n",
      "total_income        3443 non-null float64\n",
      "purpose             3856 non-null object\n",
      "dtypes: float64(2), int64(5), object(5)\n",
      "memory usage: 391.6+ KB\n"
     ]
    },
    {
     "data": {
      "text/html": [
       "<div>\n",
       "<style scoped>\n",
       "    .dataframe tbody tr th:only-of-type {\n",
       "        vertical-align: middle;\n",
       "    }\n",
       "\n",
       "    .dataframe tbody tr th {\n",
       "        vertical-align: top;\n",
       "    }\n",
       "\n",
       "    .dataframe thead th {\n",
       "        text-align: right;\n",
       "    }\n",
       "</style>\n",
       "<table border=\"1\" class=\"dataframe\">\n",
       "  <thead>\n",
       "    <tr style=\"text-align: right;\">\n",
       "      <th></th>\n",
       "      <th>children</th>\n",
       "      <th>days_employed</th>\n",
       "      <th>dob_years</th>\n",
       "      <th>education_id</th>\n",
       "      <th>family_status_id</th>\n",
       "      <th>debt</th>\n",
       "      <th>total_income</th>\n",
       "    </tr>\n",
       "  </thead>\n",
       "  <tbody>\n",
       "    <tr>\n",
       "      <td>count</td>\n",
       "      <td>3856.000000</td>\n",
       "      <td>3443.000000</td>\n",
       "      <td>3856.000000</td>\n",
       "      <td>3856.000000</td>\n",
       "      <td>3856.000000</td>\n",
       "      <td>3856.000000</td>\n",
       "      <td>3443.000000</td>\n",
       "    </tr>\n",
       "    <tr>\n",
       "      <td>mean</td>\n",
       "      <td>0.132002</td>\n",
       "      <td>365003.491245</td>\n",
       "      <td>59.063019</td>\n",
       "      <td>0.913900</td>\n",
       "      <td>0.985737</td>\n",
       "      <td>0.056017</td>\n",
       "      <td>21940.394503</td>\n",
       "    </tr>\n",
       "    <tr>\n",
       "      <td>std</td>\n",
       "      <td>1.014271</td>\n",
       "      <td>21069.606065</td>\n",
       "      <td>7.618526</td>\n",
       "      <td>0.510185</td>\n",
       "      <td>1.315202</td>\n",
       "      <td>0.229984</td>\n",
       "      <td>12839.512522</td>\n",
       "    </tr>\n",
       "    <tr>\n",
       "      <td>min</td>\n",
       "      <td>-1.000000</td>\n",
       "      <td>328728.720605</td>\n",
       "      <td>0.000000</td>\n",
       "      <td>0.000000</td>\n",
       "      <td>0.000000</td>\n",
       "      <td>0.000000</td>\n",
       "      <td>3306.762000</td>\n",
       "    </tr>\n",
       "    <tr>\n",
       "      <td>25%</td>\n",
       "      <td>0.000000</td>\n",
       "      <td>346649.346146</td>\n",
       "      <td>56.000000</td>\n",
       "      <td>1.000000</td>\n",
       "      <td>0.000000</td>\n",
       "      <td>0.000000</td>\n",
       "      <td>13261.031000</td>\n",
       "    </tr>\n",
       "    <tr>\n",
       "      <td>50%</td>\n",
       "      <td>0.000000</td>\n",
       "      <td>365213.306266</td>\n",
       "      <td>60.000000</td>\n",
       "      <td>1.000000</td>\n",
       "      <td>0.000000</td>\n",
       "      <td>0.000000</td>\n",
       "      <td>18962.318000</td>\n",
       "    </tr>\n",
       "    <tr>\n",
       "      <td>75%</td>\n",
       "      <td>0.000000</td>\n",
       "      <td>383231.396871</td>\n",
       "      <td>64.000000</td>\n",
       "      <td>1.000000</td>\n",
       "      <td>2.000000</td>\n",
       "      <td>0.000000</td>\n",
       "      <td>27152.069000</td>\n",
       "    </tr>\n",
       "    <tr>\n",
       "      <td>max</td>\n",
       "      <td>20.000000</td>\n",
       "      <td>401755.400475</td>\n",
       "      <td>74.000000</td>\n",
       "      <td>4.000000</td>\n",
       "      <td>4.000000</td>\n",
       "      <td>1.000000</td>\n",
       "      <td>117616.523000</td>\n",
       "    </tr>\n",
       "  </tbody>\n",
       "</table>\n",
       "</div>"
      ],
      "text/plain": [
       "          children  days_employed    dob_years  education_id  \\\n",
       "count  3856.000000    3443.000000  3856.000000   3856.000000   \n",
       "mean      0.132002  365003.491245    59.063019      0.913900   \n",
       "std       1.014271   21069.606065     7.618526      0.510185   \n",
       "min      -1.000000  328728.720605     0.000000      0.000000   \n",
       "25%       0.000000  346649.346146    56.000000      1.000000   \n",
       "50%       0.000000  365213.306266    60.000000      1.000000   \n",
       "75%       0.000000  383231.396871    64.000000      1.000000   \n",
       "max      20.000000  401755.400475    74.000000      4.000000   \n",
       "\n",
       "       family_status_id         debt   total_income  \n",
       "count       3856.000000  3856.000000    3443.000000  \n",
       "mean           0.985737     0.056017   21940.394503  \n",
       "std            1.315202     0.229984   12839.512522  \n",
       "min            0.000000     0.000000    3306.762000  \n",
       "25%            0.000000     0.000000   13261.031000  \n",
       "50%            0.000000     0.000000   18962.318000  \n",
       "75%            2.000000     0.000000   27152.069000  \n",
       "max            4.000000     1.000000  117616.523000  "
      ]
     },
     "execution_count": 10,
     "metadata": {},
     "output_type": "execute_result"
    }
   ],
   "source": [
    "# Checking distribution\n",
    "retiree = df[df.income_type.str.startswith('r')]\n",
    "retiree.info()\n",
    "retiree.describe()"
   ]
  },
  {
   "cell_type": "code",
   "execution_count": 11,
   "metadata": {},
   "outputs": [
    {
     "name": "stdout",
     "output_type": "stream",
     "text": [
      "<class 'pandas.core.frame.DataFrame'>\n",
      "Int64Index: 3443 entries, 4 to 21521\n",
      "Data columns (total 12 columns):\n",
      "children            3443 non-null int64\n",
      "days_employed       3443 non-null float64\n",
      "dob_years           3443 non-null int64\n",
      "education           3443 non-null object\n",
      "education_id        3443 non-null int64\n",
      "family_status       3443 non-null object\n",
      "family_status_id    3443 non-null int64\n",
      "gender              3443 non-null object\n",
      "income_type         3443 non-null object\n",
      "debt                3443 non-null int64\n",
      "total_income        3443 non-null float64\n",
      "purpose             3443 non-null object\n",
      "dtypes: float64(2), int64(5), object(5)\n",
      "memory usage: 349.7+ KB\n"
     ]
    },
    {
     "data": {
      "text/html": [
       "<div>\n",
       "<style scoped>\n",
       "    .dataframe tbody tr th:only-of-type {\n",
       "        vertical-align: middle;\n",
       "    }\n",
       "\n",
       "    .dataframe tbody tr th {\n",
       "        vertical-align: top;\n",
       "    }\n",
       "\n",
       "    .dataframe thead th {\n",
       "        text-align: right;\n",
       "    }\n",
       "</style>\n",
       "<table border=\"1\" class=\"dataframe\">\n",
       "  <thead>\n",
       "    <tr style=\"text-align: right;\">\n",
       "      <th></th>\n",
       "      <th>children</th>\n",
       "      <th>days_employed</th>\n",
       "      <th>dob_years</th>\n",
       "      <th>education_id</th>\n",
       "      <th>family_status_id</th>\n",
       "      <th>debt</th>\n",
       "      <th>total_income</th>\n",
       "    </tr>\n",
       "  </thead>\n",
       "  <tbody>\n",
       "    <tr>\n",
       "      <td>count</td>\n",
       "      <td>3443.000000</td>\n",
       "      <td>3443.000000</td>\n",
       "      <td>3443.000000</td>\n",
       "      <td>3443.000000</td>\n",
       "      <td>3443.000000</td>\n",
       "      <td>3443.000000</td>\n",
       "      <td>3443.000000</td>\n",
       "    </tr>\n",
       "    <tr>\n",
       "      <td>mean</td>\n",
       "      <td>0.128086</td>\n",
       "      <td>365003.491245</td>\n",
       "      <td>59.137090</td>\n",
       "      <td>0.914900</td>\n",
       "      <td>0.984606</td>\n",
       "      <td>0.052570</td>\n",
       "      <td>21940.394503</td>\n",
       "    </tr>\n",
       "    <tr>\n",
       "      <td>std</td>\n",
       "      <td>0.955201</td>\n",
       "      <td>21069.606065</td>\n",
       "      <td>7.563777</td>\n",
       "      <td>0.517016</td>\n",
       "      <td>1.316346</td>\n",
       "      <td>0.223207</td>\n",
       "      <td>12839.512522</td>\n",
       "    </tr>\n",
       "    <tr>\n",
       "      <td>min</td>\n",
       "      <td>-1.000000</td>\n",
       "      <td>328728.720605</td>\n",
       "      <td>0.000000</td>\n",
       "      <td>0.000000</td>\n",
       "      <td>0.000000</td>\n",
       "      <td>0.000000</td>\n",
       "      <td>3306.762000</td>\n",
       "    </tr>\n",
       "    <tr>\n",
       "      <td>25%</td>\n",
       "      <td>0.000000</td>\n",
       "      <td>346649.346146</td>\n",
       "      <td>56.000000</td>\n",
       "      <td>1.000000</td>\n",
       "      <td>0.000000</td>\n",
       "      <td>0.000000</td>\n",
       "      <td>13261.031000</td>\n",
       "    </tr>\n",
       "    <tr>\n",
       "      <td>50%</td>\n",
       "      <td>0.000000</td>\n",
       "      <td>365213.306266</td>\n",
       "      <td>60.000000</td>\n",
       "      <td>1.000000</td>\n",
       "      <td>0.000000</td>\n",
       "      <td>0.000000</td>\n",
       "      <td>18962.318000</td>\n",
       "    </tr>\n",
       "    <tr>\n",
       "      <td>75%</td>\n",
       "      <td>0.000000</td>\n",
       "      <td>383231.396871</td>\n",
       "      <td>64.000000</td>\n",
       "      <td>1.000000</td>\n",
       "      <td>2.000000</td>\n",
       "      <td>0.000000</td>\n",
       "      <td>27152.069000</td>\n",
       "    </tr>\n",
       "    <tr>\n",
       "      <td>max</td>\n",
       "      <td>20.000000</td>\n",
       "      <td>401755.400475</td>\n",
       "      <td>74.000000</td>\n",
       "      <td>4.000000</td>\n",
       "      <td>4.000000</td>\n",
       "      <td>1.000000</td>\n",
       "      <td>117616.523000</td>\n",
       "    </tr>\n",
       "  </tbody>\n",
       "</table>\n",
       "</div>"
      ],
      "text/plain": [
       "          children  days_employed    dob_years  education_id  \\\n",
       "count  3443.000000    3443.000000  3443.000000   3443.000000   \n",
       "mean      0.128086  365003.491245    59.137090      0.914900   \n",
       "std       0.955201   21069.606065     7.563777      0.517016   \n",
       "min      -1.000000  328728.720605     0.000000      0.000000   \n",
       "25%       0.000000  346649.346146    56.000000      1.000000   \n",
       "50%       0.000000  365213.306266    60.000000      1.000000   \n",
       "75%       0.000000  383231.396871    64.000000      1.000000   \n",
       "max      20.000000  401755.400475    74.000000      4.000000   \n",
       "\n",
       "       family_status_id         debt   total_income  \n",
       "count       3443.000000  3443.000000    3443.000000  \n",
       "mean           0.984606     0.052570   21940.394503  \n",
       "std            1.316346     0.223207   12839.512522  \n",
       "min            0.000000     0.000000    3306.762000  \n",
       "25%            0.000000     0.000000   13261.031000  \n",
       "50%            0.000000     0.000000   18962.318000  \n",
       "75%            2.000000     0.000000   27152.069000  \n",
       "max            4.000000     1.000000  117616.523000  "
      ]
     },
     "execution_count": 11,
     "metadata": {},
     "output_type": "execute_result"
    }
   ],
   "source": [
    "retiree_dropped = retiree.dropna()\n",
    "retiree_dropped.info()\n",
    "retiree_dropped.describe()"
   ]
  },
  {
   "cell_type": "markdown",
   "metadata": {},
   "source": [
    "**Possible reasons for missing values in data**\n",
    "\n",
    "There are not apparent and solid patterns for why data can be missing. Values are haphazardly amiss due to possibly two factors:\n",
    "\n",
    "1) It makes sense that some retirees have missing values for income and days_employed. The data points aren't applicable for them anyways.\n",
    "2) one's education level seems to have an influence on your income and days_employed: not all \"secondary education\" folks have a missing value in these columns, but all the missing columns store data of a person whose education is that of \"secondary education\". Maybe these null values indicated unemployment."
   ]
  },
  {
   "cell_type": "code",
   "execution_count": 12,
   "metadata": {},
   "outputs": [
    {
     "data": {
      "text/html": [
       "<div>\n",
       "<style scoped>\n",
       "    .dataframe tbody tr th:only-of-type {\n",
       "        vertical-align: middle;\n",
       "    }\n",
       "\n",
       "    .dataframe tbody tr th {\n",
       "        vertical-align: top;\n",
       "    }\n",
       "\n",
       "    .dataframe thead th {\n",
       "        text-align: right;\n",
       "    }\n",
       "</style>\n",
       "<table border=\"1\" class=\"dataframe\">\n",
       "  <thead>\n",
       "    <tr style=\"text-align: right;\">\n",
       "      <th></th>\n",
       "      <th>children</th>\n",
       "      <th>days_employed</th>\n",
       "      <th>dob_years</th>\n",
       "      <th>education_id</th>\n",
       "      <th>family_status_id</th>\n",
       "      <th>debt</th>\n",
       "      <th>total_income</th>\n",
       "    </tr>\n",
       "  </thead>\n",
       "  <tbody>\n",
       "    <tr>\n",
       "      <td>count</td>\n",
       "      <td>19351.000000</td>\n",
       "      <td>19351.000000</td>\n",
       "      <td>19351.000000</td>\n",
       "      <td>19351.000000</td>\n",
       "      <td>19351.000000</td>\n",
       "      <td>19351.000000</td>\n",
       "      <td>19351.000000</td>\n",
       "    </tr>\n",
       "    <tr>\n",
       "      <td>mean</td>\n",
       "      <td>0.537388</td>\n",
       "      <td>63046.497661</td>\n",
       "      <td>43.255336</td>\n",
       "      <td>0.819079</td>\n",
       "      <td>0.972249</td>\n",
       "      <td>0.081184</td>\n",
       "      <td>26787.568355</td>\n",
       "    </tr>\n",
       "    <tr>\n",
       "      <td>std</td>\n",
       "      <td>1.371408</td>\n",
       "      <td>140827.311974</td>\n",
       "      <td>12.579170</td>\n",
       "      <td>0.550104</td>\n",
       "      <td>1.420596</td>\n",
       "      <td>0.273125</td>\n",
       "      <td>16475.450632</td>\n",
       "    </tr>\n",
       "    <tr>\n",
       "      <td>min</td>\n",
       "      <td>-1.000000</td>\n",
       "      <td>-18388.949901</td>\n",
       "      <td>0.000000</td>\n",
       "      <td>0.000000</td>\n",
       "      <td>0.000000</td>\n",
       "      <td>0.000000</td>\n",
       "      <td>3306.762000</td>\n",
       "    </tr>\n",
       "    <tr>\n",
       "      <td>25%</td>\n",
       "      <td>0.000000</td>\n",
       "      <td>-2747.423625</td>\n",
       "      <td>33.000000</td>\n",
       "      <td>1.000000</td>\n",
       "      <td>0.000000</td>\n",
       "      <td>0.000000</td>\n",
       "      <td>16488.504500</td>\n",
       "    </tr>\n",
       "    <tr>\n",
       "      <td>50%</td>\n",
       "      <td>0.000000</td>\n",
       "      <td>-1203.369529</td>\n",
       "      <td>42.000000</td>\n",
       "      <td>1.000000</td>\n",
       "      <td>0.000000</td>\n",
       "      <td>0.000000</td>\n",
       "      <td>23202.870000</td>\n",
       "    </tr>\n",
       "    <tr>\n",
       "      <td>75%</td>\n",
       "      <td>1.000000</td>\n",
       "      <td>-291.095954</td>\n",
       "      <td>53.000000</td>\n",
       "      <td>1.000000</td>\n",
       "      <td>1.000000</td>\n",
       "      <td>0.000000</td>\n",
       "      <td>32549.611000</td>\n",
       "    </tr>\n",
       "    <tr>\n",
       "      <td>max</td>\n",
       "      <td>20.000000</td>\n",
       "      <td>401755.400475</td>\n",
       "      <td>75.000000</td>\n",
       "      <td>4.000000</td>\n",
       "      <td>4.000000</td>\n",
       "      <td>1.000000</td>\n",
       "      <td>362496.645000</td>\n",
       "    </tr>\n",
       "  </tbody>\n",
       "</table>\n",
       "</div>"
      ],
      "text/plain": [
       "           children  days_employed     dob_years  education_id  \\\n",
       "count  19351.000000   19351.000000  19351.000000  19351.000000   \n",
       "mean       0.537388   63046.497661     43.255336      0.819079   \n",
       "std        1.371408  140827.311974     12.579170      0.550104   \n",
       "min       -1.000000  -18388.949901      0.000000      0.000000   \n",
       "25%        0.000000   -2747.423625     33.000000      1.000000   \n",
       "50%        0.000000   -1203.369529     42.000000      1.000000   \n",
       "75%        1.000000    -291.095954     53.000000      1.000000   \n",
       "max       20.000000  401755.400475     75.000000      4.000000   \n",
       "\n",
       "       family_status_id          debt   total_income  \n",
       "count      19351.000000  19351.000000   19351.000000  \n",
       "mean           0.972249      0.081184   26787.568355  \n",
       "std            1.420596      0.273125   16475.450632  \n",
       "min            0.000000      0.000000    3306.762000  \n",
       "25%            0.000000      0.000000   16488.504500  \n",
       "50%            0.000000      0.000000   23202.870000  \n",
       "75%            1.000000      0.000000   32549.611000  \n",
       "max            4.000000      1.000000  362496.645000  "
      ]
     },
     "execution_count": 12,
     "metadata": {},
     "output_type": "execute_result"
    }
   ],
   "source": [
    "filtered = df.dropna()\n",
    "filtered.describe()"
   ]
  },
  {
   "cell_type": "code",
   "execution_count": 13,
   "metadata": {},
   "outputs": [
    {
     "data": {
      "text/html": [
       "<div>\n",
       "<style scoped>\n",
       "    .dataframe tbody tr th:only-of-type {\n",
       "        vertical-align: middle;\n",
       "    }\n",
       "\n",
       "    .dataframe tbody tr th {\n",
       "        vertical-align: top;\n",
       "    }\n",
       "\n",
       "    .dataframe thead th {\n",
       "        text-align: right;\n",
       "    }\n",
       "</style>\n",
       "<table border=\"1\" class=\"dataframe\">\n",
       "  <thead>\n",
       "    <tr style=\"text-align: right;\">\n",
       "      <th></th>\n",
       "      <th>children</th>\n",
       "      <th>days_employed</th>\n",
       "      <th>dob_years</th>\n",
       "      <th>education_id</th>\n",
       "      <th>family_status_id</th>\n",
       "      <th>debt</th>\n",
       "      <th>total_income</th>\n",
       "    </tr>\n",
       "  </thead>\n",
       "  <tbody>\n",
       "    <tr>\n",
       "      <td>count</td>\n",
       "      <td>21525.000000</td>\n",
       "      <td>19351.000000</td>\n",
       "      <td>21525.000000</td>\n",
       "      <td>21525.000000</td>\n",
       "      <td>21525.000000</td>\n",
       "      <td>21525.000000</td>\n",
       "      <td>19351.000000</td>\n",
       "    </tr>\n",
       "    <tr>\n",
       "      <td>mean</td>\n",
       "      <td>0.538908</td>\n",
       "      <td>63046.497661</td>\n",
       "      <td>43.293380</td>\n",
       "      <td>0.817236</td>\n",
       "      <td>0.972544</td>\n",
       "      <td>0.080883</td>\n",
       "      <td>26787.568355</td>\n",
       "    </tr>\n",
       "    <tr>\n",
       "      <td>std</td>\n",
       "      <td>1.381587</td>\n",
       "      <td>140827.311974</td>\n",
       "      <td>12.574584</td>\n",
       "      <td>0.548138</td>\n",
       "      <td>1.420324</td>\n",
       "      <td>0.272661</td>\n",
       "      <td>16475.450632</td>\n",
       "    </tr>\n",
       "    <tr>\n",
       "      <td>min</td>\n",
       "      <td>-1.000000</td>\n",
       "      <td>-18388.949901</td>\n",
       "      <td>0.000000</td>\n",
       "      <td>0.000000</td>\n",
       "      <td>0.000000</td>\n",
       "      <td>0.000000</td>\n",
       "      <td>3306.762000</td>\n",
       "    </tr>\n",
       "    <tr>\n",
       "      <td>25%</td>\n",
       "      <td>0.000000</td>\n",
       "      <td>-2747.423625</td>\n",
       "      <td>33.000000</td>\n",
       "      <td>1.000000</td>\n",
       "      <td>0.000000</td>\n",
       "      <td>0.000000</td>\n",
       "      <td>16488.504500</td>\n",
       "    </tr>\n",
       "    <tr>\n",
       "      <td>50%</td>\n",
       "      <td>0.000000</td>\n",
       "      <td>-1203.369529</td>\n",
       "      <td>42.000000</td>\n",
       "      <td>1.000000</td>\n",
       "      <td>0.000000</td>\n",
       "      <td>0.000000</td>\n",
       "      <td>23202.870000</td>\n",
       "    </tr>\n",
       "    <tr>\n",
       "      <td>75%</td>\n",
       "      <td>1.000000</td>\n",
       "      <td>-291.095954</td>\n",
       "      <td>53.000000</td>\n",
       "      <td>1.000000</td>\n",
       "      <td>1.000000</td>\n",
       "      <td>0.000000</td>\n",
       "      <td>32549.611000</td>\n",
       "    </tr>\n",
       "    <tr>\n",
       "      <td>max</td>\n",
       "      <td>20.000000</td>\n",
       "      <td>401755.400475</td>\n",
       "      <td>75.000000</td>\n",
       "      <td>4.000000</td>\n",
       "      <td>4.000000</td>\n",
       "      <td>1.000000</td>\n",
       "      <td>362496.645000</td>\n",
       "    </tr>\n",
       "  </tbody>\n",
       "</table>\n",
       "</div>"
      ],
      "text/plain": [
       "           children  days_employed     dob_years  education_id  \\\n",
       "count  21525.000000   19351.000000  21525.000000  21525.000000   \n",
       "mean       0.538908   63046.497661     43.293380      0.817236   \n",
       "std        1.381587  140827.311974     12.574584      0.548138   \n",
       "min       -1.000000  -18388.949901      0.000000      0.000000   \n",
       "25%        0.000000   -2747.423625     33.000000      1.000000   \n",
       "50%        0.000000   -1203.369529     42.000000      1.000000   \n",
       "75%        1.000000    -291.095954     53.000000      1.000000   \n",
       "max       20.000000  401755.400475     75.000000      4.000000   \n",
       "\n",
       "       family_status_id          debt   total_income  \n",
       "count      21525.000000  21525.000000   19351.000000  \n",
       "mean           0.972544      0.080883   26787.568355  \n",
       "std            1.420324      0.272661   16475.450632  \n",
       "min            0.000000      0.000000    3306.762000  \n",
       "25%            0.000000      0.000000   16488.504500  \n",
       "50%            0.000000      0.000000   23202.870000  \n",
       "75%            1.000000      0.000000   32549.611000  \n",
       "max            4.000000      1.000000  362496.645000  "
      ]
     },
     "execution_count": 13,
     "metadata": {},
     "output_type": "execute_result"
    }
   ],
   "source": [
    "# Checking the distribution in the whole dataset\n",
    "df.describe()"
   ]
  },
  {
   "cell_type": "markdown",
   "metadata": {},
   "source": [
    "**Intermediate conclusion**\n",
    "\n",
    "The distribution is not entirely the same, and there's some noticeable deviations with regard to days_employed, and total_income. This means that these missing values do impact our analysis and investigations, and we need to do something about them/drop them in order to arrive at the accurate conclusion."
   ]
  },
  {
   "cell_type": "markdown",
   "metadata": {},
   "source": [
    "**Intermediate conclusion**\n",
    "\n",
    "I confirm that missing values are random, and thereby accidental. There's no strong correlation with other values in rows where they appear. Looking at line 168 and line 169, when I explored whether or not all retirees have missing income or employment value, the answer is no - there's no patterns. Furthermore, the missing values in the retiree group did nto significantly alter statistical distributions. The same applies to the missing values in total_income, which is checked below."
   ]
  },
  {
   "cell_type": "code",
   "execution_count": 15,
   "metadata": {
    "scrolled": true
   },
   "outputs": [
    {
     "name": "stdout",
     "output_type": "stream",
     "text": [
      "<class 'pandas.core.frame.DataFrame'>\n",
      "Int64Index: 13750 entries, 1 to 21524\n",
      "Data columns (total 12 columns):\n",
      "children            13750 non-null int64\n",
      "days_employed       12342 non-null float64\n",
      "dob_years           13750 non-null int64\n",
      "education           13750 non-null object\n",
      "education_id        13750 non-null int64\n",
      "family_status       13750 non-null object\n",
      "family_status_id    13750 non-null int64\n",
      "gender              13750 non-null object\n",
      "income_type         13750 non-null object\n",
      "debt                13750 non-null int64\n",
      "total_income        12342 non-null float64\n",
      "purpose             13750 non-null object\n",
      "dtypes: float64(2), int64(5), object(5)\n",
      "memory usage: 1.4+ MB\n"
     ]
    },
    {
     "data": {
      "text/html": [
       "<div>\n",
       "<style scoped>\n",
       "    .dataframe tbody tr th:only-of-type {\n",
       "        vertical-align: middle;\n",
       "    }\n",
       "\n",
       "    .dataframe tbody tr th {\n",
       "        vertical-align: top;\n",
       "    }\n",
       "\n",
       "    .dataframe thead th {\n",
       "        text-align: right;\n",
       "    }\n",
       "</style>\n",
       "<table border=\"1\" class=\"dataframe\">\n",
       "  <thead>\n",
       "    <tr style=\"text-align: right;\">\n",
       "      <th></th>\n",
       "      <th>children</th>\n",
       "      <th>days_employed</th>\n",
       "      <th>dob_years</th>\n",
       "      <th>education_id</th>\n",
       "      <th>family_status_id</th>\n",
       "      <th>debt</th>\n",
       "      <th>total_income</th>\n",
       "    </tr>\n",
       "  </thead>\n",
       "  <tbody>\n",
       "    <tr>\n",
       "      <td>count</td>\n",
       "      <td>13750.000000</td>\n",
       "      <td>12342.000000</td>\n",
       "      <td>13750.000000</td>\n",
       "      <td>13750.0</td>\n",
       "      <td>13750.000000</td>\n",
       "      <td>13750.000000</td>\n",
       "      <td>12342.000000</td>\n",
       "    </tr>\n",
       "    <tr>\n",
       "      <td>mean</td>\n",
       "      <td>0.529309</td>\n",
       "      <td>72324.534813</td>\n",
       "      <td>44.502255</td>\n",
       "      <td>1.0</td>\n",
       "      <td>0.929091</td>\n",
       "      <td>0.089673</td>\n",
       "      <td>24616.530030</td>\n",
       "    </tr>\n",
       "    <tr>\n",
       "      <td>std</td>\n",
       "      <td>1.414925</td>\n",
       "      <td>148211.992345</td>\n",
       "      <td>12.419444</td>\n",
       "      <td>0.0</td>\n",
       "      <td>1.377369</td>\n",
       "      <td>0.285723</td>\n",
       "      <td>13735.872743</td>\n",
       "    </tr>\n",
       "    <tr>\n",
       "      <td>min</td>\n",
       "      <td>-1.000000</td>\n",
       "      <td>-18388.949901</td>\n",
       "      <td>0.000000</td>\n",
       "      <td>1.0</td>\n",
       "      <td>0.000000</td>\n",
       "      <td>0.000000</td>\n",
       "      <td>3306.762000</td>\n",
       "    </tr>\n",
       "    <tr>\n",
       "      <td>25%</td>\n",
       "      <td>0.000000</td>\n",
       "      <td>-2761.775723</td>\n",
       "      <td>35.000000</td>\n",
       "      <td>1.0</td>\n",
       "      <td>0.000000</td>\n",
       "      <td>0.000000</td>\n",
       "      <td>15638.180250</td>\n",
       "    </tr>\n",
       "    <tr>\n",
       "      <td>50%</td>\n",
       "      <td>0.000000</td>\n",
       "      <td>-1182.950507</td>\n",
       "      <td>44.000000</td>\n",
       "      <td>1.0</td>\n",
       "      <td>0.000000</td>\n",
       "      <td>0.000000</td>\n",
       "      <td>21862.935500</td>\n",
       "    </tr>\n",
       "    <tr>\n",
       "      <td>75%</td>\n",
       "      <td>1.000000</td>\n",
       "      <td>-228.599584</td>\n",
       "      <td>54.000000</td>\n",
       "      <td>1.0</td>\n",
       "      <td>1.000000</td>\n",
       "      <td>0.000000</td>\n",
       "      <td>30243.999500</td>\n",
       "    </tr>\n",
       "    <tr>\n",
       "      <td>max</td>\n",
       "      <td>20.000000</td>\n",
       "      <td>401755.400475</td>\n",
       "      <td>75.000000</td>\n",
       "      <td>1.0</td>\n",
       "      <td>4.000000</td>\n",
       "      <td>1.000000</td>\n",
       "      <td>276204.162000</td>\n",
       "    </tr>\n",
       "  </tbody>\n",
       "</table>\n",
       "</div>"
      ],
      "text/plain": [
       "           children  days_employed     dob_years  education_id  \\\n",
       "count  13750.000000   12342.000000  13750.000000       13750.0   \n",
       "mean       0.529309   72324.534813     44.502255           1.0   \n",
       "std        1.414925  148211.992345     12.419444           0.0   \n",
       "min       -1.000000  -18388.949901      0.000000           1.0   \n",
       "25%        0.000000   -2761.775723     35.000000           1.0   \n",
       "50%        0.000000   -1182.950507     44.000000           1.0   \n",
       "75%        1.000000    -228.599584     54.000000           1.0   \n",
       "max       20.000000  401755.400475     75.000000           1.0   \n",
       "\n",
       "       family_status_id          debt   total_income  \n",
       "count      13750.000000  13750.000000   12342.000000  \n",
       "mean           0.929091      0.089673   24616.530030  \n",
       "std            1.377369      0.285723   13735.872743  \n",
       "min            0.000000      0.000000    3306.762000  \n",
       "25%            0.000000      0.000000   15638.180250  \n",
       "50%            0.000000      0.000000   21862.935500  \n",
       "75%            1.000000      0.000000   30243.999500  \n",
       "max            4.000000      1.000000  276204.162000  "
      ]
     },
     "execution_count": 15,
     "metadata": {},
     "output_type": "execute_result"
    }
   ],
   "source": [
    "# Checking for other patterns - explain which: \n",
    "# checking to see if there are any patterns on missing values regarding EDUCATION LEVEL\n",
    "education = df[df.education.str.startswith('se')]\n",
    "education.info()\n",
    "education.describe()"
   ]
  },
  {
   "cell_type": "code",
   "execution_count": 16,
   "metadata": {},
   "outputs": [
    {
     "name": "stdout",
     "output_type": "stream",
     "text": [
      "<class 'pandas.core.frame.DataFrame'>\n",
      "Int64Index: 12342 entries, 1 to 21524\n",
      "Data columns (total 12 columns):\n",
      "children            12342 non-null int64\n",
      "days_employed       12342 non-null float64\n",
      "dob_years           12342 non-null int64\n",
      "education           12342 non-null object\n",
      "education_id        12342 non-null int64\n",
      "family_status       12342 non-null object\n",
      "family_status_id    12342 non-null int64\n",
      "gender              12342 non-null object\n",
      "income_type         12342 non-null object\n",
      "debt                12342 non-null int64\n",
      "total_income        12342 non-null float64\n",
      "purpose             12342 non-null object\n",
      "dtypes: float64(2), int64(5), object(5)\n",
      "memory usage: 1.2+ MB\n"
     ]
    },
    {
     "data": {
      "text/html": [
       "<div>\n",
       "<style scoped>\n",
       "    .dataframe tbody tr th:only-of-type {\n",
       "        vertical-align: middle;\n",
       "    }\n",
       "\n",
       "    .dataframe tbody tr th {\n",
       "        vertical-align: top;\n",
       "    }\n",
       "\n",
       "    .dataframe thead th {\n",
       "        text-align: right;\n",
       "    }\n",
       "</style>\n",
       "<table border=\"1\" class=\"dataframe\">\n",
       "  <thead>\n",
       "    <tr style=\"text-align: right;\">\n",
       "      <th></th>\n",
       "      <th>children</th>\n",
       "      <th>days_employed</th>\n",
       "      <th>dob_years</th>\n",
       "      <th>education_id</th>\n",
       "      <th>family_status_id</th>\n",
       "      <th>debt</th>\n",
       "      <th>total_income</th>\n",
       "    </tr>\n",
       "  </thead>\n",
       "  <tbody>\n",
       "    <tr>\n",
       "      <td>count</td>\n",
       "      <td>12342.000000</td>\n",
       "      <td>12342.000000</td>\n",
       "      <td>12342.000000</td>\n",
       "      <td>12342.0</td>\n",
       "      <td>12342.000000</td>\n",
       "      <td>12342.000000</td>\n",
       "      <td>12342.000000</td>\n",
       "    </tr>\n",
       "    <tr>\n",
       "      <td>mean</td>\n",
       "      <td>0.528439</td>\n",
       "      <td>72324.534813</td>\n",
       "      <td>44.497407</td>\n",
       "      <td>1.0</td>\n",
       "      <td>0.931048</td>\n",
       "      <td>0.089532</td>\n",
       "      <td>24616.530030</td>\n",
       "    </tr>\n",
       "    <tr>\n",
       "      <td>std</td>\n",
       "      <td>1.406789</td>\n",
       "      <td>148211.992345</td>\n",
       "      <td>12.404062</td>\n",
       "      <td>0.0</td>\n",
       "      <td>1.379592</td>\n",
       "      <td>0.285521</td>\n",
       "      <td>13735.872743</td>\n",
       "    </tr>\n",
       "    <tr>\n",
       "      <td>min</td>\n",
       "      <td>-1.000000</td>\n",
       "      <td>-18388.949901</td>\n",
       "      <td>0.000000</td>\n",
       "      <td>1.0</td>\n",
       "      <td>0.000000</td>\n",
       "      <td>0.000000</td>\n",
       "      <td>3306.762000</td>\n",
       "    </tr>\n",
       "    <tr>\n",
       "      <td>25%</td>\n",
       "      <td>0.000000</td>\n",
       "      <td>-2761.775723</td>\n",
       "      <td>35.000000</td>\n",
       "      <td>1.0</td>\n",
       "      <td>0.000000</td>\n",
       "      <td>0.000000</td>\n",
       "      <td>15638.180250</td>\n",
       "    </tr>\n",
       "    <tr>\n",
       "      <td>50%</td>\n",
       "      <td>0.000000</td>\n",
       "      <td>-1182.950507</td>\n",
       "      <td>44.000000</td>\n",
       "      <td>1.0</td>\n",
       "      <td>0.000000</td>\n",
       "      <td>0.000000</td>\n",
       "      <td>21862.935500</td>\n",
       "    </tr>\n",
       "    <tr>\n",
       "      <td>75%</td>\n",
       "      <td>1.000000</td>\n",
       "      <td>-228.599584</td>\n",
       "      <td>54.000000</td>\n",
       "      <td>1.0</td>\n",
       "      <td>1.000000</td>\n",
       "      <td>0.000000</td>\n",
       "      <td>30243.999500</td>\n",
       "    </tr>\n",
       "    <tr>\n",
       "      <td>max</td>\n",
       "      <td>20.000000</td>\n",
       "      <td>401755.400475</td>\n",
       "      <td>75.000000</td>\n",
       "      <td>1.0</td>\n",
       "      <td>4.000000</td>\n",
       "      <td>1.000000</td>\n",
       "      <td>276204.162000</td>\n",
       "    </tr>\n",
       "  </tbody>\n",
       "</table>\n",
       "</div>"
      ],
      "text/plain": [
       "           children  days_employed     dob_years  education_id  \\\n",
       "count  12342.000000   12342.000000  12342.000000       12342.0   \n",
       "mean       0.528439   72324.534813     44.497407           1.0   \n",
       "std        1.406789  148211.992345     12.404062           0.0   \n",
       "min       -1.000000  -18388.949901      0.000000           1.0   \n",
       "25%        0.000000   -2761.775723     35.000000           1.0   \n",
       "50%        0.000000   -1182.950507     44.000000           1.0   \n",
       "75%        1.000000    -228.599584     54.000000           1.0   \n",
       "max       20.000000  401755.400475     75.000000           1.0   \n",
       "\n",
       "       family_status_id          debt   total_income  \n",
       "count      12342.000000  12342.000000   12342.000000  \n",
       "mean           0.931048      0.089532   24616.530030  \n",
       "std            1.379592      0.285521   13735.872743  \n",
       "min            0.000000      0.000000    3306.762000  \n",
       "25%            0.000000      0.000000   15638.180250  \n",
       "50%            0.000000      0.000000   21862.935500  \n",
       "75%            1.000000      0.000000   30243.999500  \n",
       "max            4.000000      1.000000  276204.162000  "
      ]
     },
     "execution_count": 16,
     "metadata": {},
     "output_type": "execute_result"
    }
   ],
   "source": [
    "education_dropped = education.dropna()\n",
    "education_dropped.info()\n",
    "education_dropped.describe()"
   ]
  },
  {
   "cell_type": "markdown",
   "metadata": {},
   "source": [
    "**Conclusions**\n",
    "\n",
    "I confirm that missing values are random, and thereby accidental. There's no strong correlation with other values in rows where they appear. Looking at line 168 and line 169, when I explored whether or not all retirees have missing income or employment value, the answer is no - there's no patterns. Furthermore, the missing values in the retiree group did nto significantly alter statistical distributions. The same applies to the missing values in total_income, which is checked in line 171. \n",
    "\n",
    "The distribution is not entirely the same when we run it on the original dataset with missing values vs. the dataset without the missing values, and there's some noticeable deviations with regard to days_employed, and total_income. This means that these missing values do impact our analysis and investigations, and we need to drop them in order to arrive at the accurate conclusion. \n",
    "\n",
    "Since the days_employed and total_income are QUANTITATIVE missing values, we need to:\n",
    "1. Determine whether your data has significant outliers.\n",
    "2. If there aren't any significant outliers, сalculate the mean of your data — apply the mean() method to the column or the entire dataset.\n",
    "3. If data has significant outliers, calculate the median of your data — apply the median() method to the column or the entire dataset.\n",
    "4. Replace missing values with the mean or median using the fillna() method.\n",
    "\n",
    "In addition to the 4 steps addressed above for missing values, I need to correct the spellings, look for implicit duplicates in the categories, consolidate reasons for taking out a loan, and figure out why some quantitative values are negative and whether or not that makes sense."
   ]
  },
  {
   "cell_type": "markdown",
   "metadata": {},
   "source": [
    "## Data transformation\n",
    "\n",
    "Examine each column to see what issues we may have, beginning with removing duplicates and fixing educational information."
   ]
  },
  {
   "cell_type": "code",
   "execution_count": 17,
   "metadata": {},
   "outputs": [
    {
     "data": {
      "text/plain": [
       "secondary education    13750\n",
       "bachelor's degree       4718\n",
       "SECONDARY EDUCATION      772\n",
       "Secondary Education      711\n",
       "some college             668\n",
       "BACHELOR'S DEGREE        274\n",
       "Bachelor's Degree        268\n",
       "primary education        250\n",
       "Some College              47\n",
       "SOME COLLEGE              29\n",
       "PRIMARY EDUCATION         17\n",
       "Primary Education         15\n",
       "graduate degree            4\n",
       "Graduate Degree            1\n",
       "GRADUATE DEGREE            1\n",
       "Name: education, dtype: int64"
      ]
     },
     "execution_count": 17,
     "metadata": {},
     "output_type": "execute_result"
    }
   ],
   "source": [
    "# Check to see all values in education column to check if and what spellings will need to be fixed\n",
    "\n",
    "df['education'].value_counts()"
   ]
  },
  {
   "cell_type": "code",
   "execution_count": 18,
   "metadata": {
    "scrolled": true
   },
   "outputs": [],
   "source": [
    "# Fix the registers if required\n",
    "df['education']=df['education'].str.lower()"
   ]
  },
  {
   "cell_type": "code",
   "execution_count": 19,
   "metadata": {},
   "outputs": [
    {
     "data": {
      "text/plain": [
       "secondary education    15233\n",
       "bachelor's degree       5260\n",
       "some college             744\n",
       "primary education        282\n",
       "graduate degree            6\n",
       "Name: education, dtype: int64"
      ]
     },
     "execution_count": 19,
     "metadata": {},
     "output_type": "execute_result"
    }
   ],
   "source": [
    "# Checking the `education` column again to make sure it's fixed\n",
    "df['education'].value_counts()"
   ]
  },
  {
   "cell_type": "markdown",
   "metadata": {},
   "source": [
    "[Check the data the `children` column]"
   ]
  },
  {
   "cell_type": "code",
   "execution_count": 20,
   "metadata": {},
   "outputs": [
    {
     "data": {
      "text/plain": [
       " 0     14149\n",
       " 1      4818\n",
       " 2      2055\n",
       " 3       330\n",
       " 20       76\n",
       "-1        47\n",
       " 4        41\n",
       " 5         9\n",
       "Name: children, dtype: int64"
      ]
     },
     "execution_count": 20,
     "metadata": {},
     "output_type": "execute_result"
    }
   ],
   "source": [
    "# Inspect the distribution of values in the `children` column\n",
    "df['children'].value_counts()"
   ]
  },
  {
   "cell_type": "markdown",
   "metadata": {},
   "source": [
    "It is very strange that the minimum number of children in the family is negative, or has 20 children, or is a float number of children.\n",
    "Since it is a quantitative variable, here's what I will do:\n",
    "1. Calculate the mean of data — apply the mean() method to these values since there are not many of these outliers/issue data.\n",
    "2. Round the median number to a sensible integer.\n",
    "3. Replace children number is < 0, float, and 20 children with the rounded mean number (1). "
   ]
  },
  {
   "cell_type": "code",
   "execution_count": 21,
   "metadata": {},
   "outputs": [
    {
     "name": "stdout",
     "output_type": "stream",
     "text": [
      "0.5389082462253194\n"
     ]
    }
   ],
   "source": [
    "# [fix the data based on your decision]\n",
    "mean_value = df['children'].mean()\n",
    "print(mean_value)\n",
    "mean_value2 = 1\n",
    "df['children'].replace(20, 1, inplace =True)\n",
    "df['children'].replace(-1, 1, inplace =True)\n",
    "# df['children'] = np.where(df['children'].between(0.1,1), mean_value2, df['children'])"
   ]
  },
  {
   "cell_type": "code",
   "execution_count": 22,
   "metadata": {},
   "outputs": [
    {
     "data": {
      "text/plain": [
       "0    14149\n",
       "1     4941\n",
       "2     2055\n",
       "3      330\n",
       "4       41\n",
       "5        9\n",
       "Name: children, dtype: int64"
      ]
     },
     "execution_count": 22,
     "metadata": {},
     "output_type": "execute_result"
    }
   ],
   "source": [
    "# Checking the `children` column again to make sure it's fixed\n",
    "df['children'].value_counts()"
   ]
  },
  {
   "cell_type": "markdown",
   "metadata": {},
   "source": [
    "[Check the data in the `days_employed` column.]"
   ]
  },
  {
   "cell_type": "code",
   "execution_count": 23,
   "metadata": {},
   "outputs": [
    {
     "data": {
      "text/plain": [
       "count     19351.000000\n",
       "mean      63046.497661\n",
       "std      140827.311974\n",
       "min      -18388.949901\n",
       "25%       -2747.423625\n",
       "50%       -1203.369529\n",
       "75%        -291.095954\n",
       "max      401755.400475\n",
       "Name: days_employed, dtype: float64"
      ]
     },
     "execution_count": 23,
     "metadata": {},
     "output_type": "execute_result"
    }
   ],
   "source": [
    "# Find problematic data in `days_employed`, if they exist, and calculate the percentage\n",
    "df['days_employed'].describe()"
   ]
  },
  {
   "cell_type": "markdown",
   "metadata": {},
   "source": [
    "Negative/problematic values in days employed account for a significiant amount of data (15K+ rows). The most obvious and probable way this error could have happened, and the best corresponding way to address this error is by taking the absolute value of the days employed."
   ]
  },
  {
   "cell_type": "code",
   "execution_count": 24,
   "metadata": {},
   "outputs": [],
   "source": [
    "# Address the problematic values, if they exist\n",
    "days_employed = df[df.days_employed < 0]\n",
    "days_employed.count()\n",
    "df['days_employed'] = df['days_employed'].abs()"
   ]
  },
  {
   "cell_type": "code",
   "execution_count": 25,
   "metadata": {},
   "outputs": [
    {
     "data": {
      "text/plain": [
       "count     19351.000000\n",
       "mean      66914.728907\n",
       "std      139030.880527\n",
       "min          24.141633\n",
       "25%         927.009265\n",
       "50%        2194.220567\n",
       "75%        5537.882441\n",
       "max      401755.400475\n",
       "Name: days_employed, dtype: float64"
      ]
     },
     "execution_count": 25,
     "metadata": {},
     "output_type": "execute_result"
    }
   ],
   "source": [
    "# Check the result - make sure it's fixed\n",
    "df['days_employed'].describe()"
   ]
  },
  {
   "cell_type": "code",
   "execution_count": 26,
   "metadata": {
    "scrolled": true
   },
   "outputs": [
    {
     "data": {
      "text/plain": [
       "count    21525.000000\n",
       "mean        43.293380\n",
       "std         12.574584\n",
       "min          0.000000\n",
       "25%         33.000000\n",
       "50%         42.000000\n",
       "75%         53.000000\n",
       "max         75.000000\n",
       "Name: dob_years, dtype: float64"
      ]
     },
     "execution_count": 26,
     "metadata": {},
     "output_type": "execute_result"
    }
   ],
   "source": [
    "# Check the `dob_years` for suspicious values and count the percentage\n",
    "df['dob_years'].describe()"
   ]
  },
  {
   "cell_type": "markdown",
   "metadata": {},
   "source": [
    "Essentially, it is very strange that the minimum age of a customer who is taking out loans is 0 years old. Ideally, this number should be higher than 18 years old. Check for the amount of times this deviation occurs. If only a few times occur, replace 0 with mean. If this happens many times, it could be a missing value. Consider replacing with median."
   ]
  },
  {
   "cell_type": "code",
   "execution_count": 27,
   "metadata": {},
   "outputs": [],
   "source": [
    "# Address the issues in the `dob_years` column, if they exist\n",
    "df[df.dob_years==0].count()\n",
    "mean_value2 = df['dob_years'].mean()\n",
    "df['dob_years'].replace(0, mean_value2, inplace=True)"
   ]
  },
  {
   "cell_type": "code",
   "execution_count": 28,
   "metadata": {},
   "outputs": [
    {
     "data": {
      "text/plain": [
       "count    21525.000000\n",
       "mean        43.496522\n",
       "std         12.218174\n",
       "min         19.000000\n",
       "25%         34.000000\n",
       "50%         43.000000\n",
       "75%         53.000000\n",
       "max         75.000000\n",
       "Name: dob_years, dtype: float64"
      ]
     },
     "execution_count": 28,
     "metadata": {},
     "output_type": "execute_result"
    }
   ],
   "source": [
    "# Check the result - make sure it's fixed\n",
    "df['dob_years'].describe()"
   ]
  },
  {
   "cell_type": "markdown",
   "metadata": {},
   "source": [
    "[Check the `family_status` column for any data issues.]"
   ]
  },
  {
   "cell_type": "code",
   "execution_count": 29,
   "metadata": {},
   "outputs": [
    {
     "data": {
      "text/plain": [
       "0"
      ]
     },
     "execution_count": 29,
     "metadata": {},
     "output_type": "execute_result"
    }
   ],
   "source": [
    "# See the values for the column\n",
    "\n",
    "df['family_status'].value_counts()\n",
    "df['family_status'].describe()\n",
    "df['family_status'].isnull().sum()"
   ]
  },
  {
   "cell_type": "markdown",
   "metadata": {},
   "source": [
    "[Check the `gender` column for any data issues.]"
   ]
  },
  {
   "cell_type": "code",
   "execution_count": 32,
   "metadata": {},
   "outputs": [
    {
     "data": {
      "text/plain": [
       "count     21525\n",
       "unique        3\n",
       "top           F\n",
       "freq      14236\n",
       "Name: gender, dtype: object"
      ]
     },
     "execution_count": 32,
     "metadata": {},
     "output_type": "execute_result"
    }
   ],
   "source": [
    "# Check the values in the column\n",
    "df['gender'].value_counts()\n",
    "df[df.gender=='XNA'].count()\n",
    "df['gender'].describe()"
   ]
  },
  {
   "cell_type": "code",
   "execution_count": 33,
   "metadata": {},
   "outputs": [],
   "source": [
    "# Address the problematic values, if they exist\n",
    "df[df.gender=='XNA']\n",
    "df.drop(df.index[[10701,12]],inplace=True)"
   ]
  },
  {
   "cell_type": "code",
   "execution_count": 34,
   "metadata": {},
   "outputs": [
    {
     "data": {
      "text/plain": [
       "F    14236\n",
       "M     7287\n",
       "Name: gender, dtype: int64"
      ]
     },
     "execution_count": 34,
     "metadata": {},
     "output_type": "execute_result"
    }
   ],
   "source": [
    "# Check the result - make sure it's fixed\n",
    "df['gender'].value_counts()"
   ]
  },
  {
   "cell_type": "markdown",
   "metadata": {},
   "source": [
    "[Check the `income_type` column for data issues]"
   ]
  },
  {
   "cell_type": "code",
   "execution_count": 35,
   "metadata": {},
   "outputs": [
    {
     "data": {
      "text/plain": [
       "employee                       11119\n",
       "business                        5084\n",
       "retiree                         3855\n",
       "civil servant                   1459\n",
       "unemployed                         2\n",
       "entrepreneur                       2\n",
       "paternity / maternity leave        1\n",
       "student                            1\n",
       "Name: income_type, dtype: int64"
      ]
     },
     "execution_count": 35,
     "metadata": {},
     "output_type": "execute_result"
    }
   ],
   "source": [
    "# Check the values in the column\n",
    "df['income_type'].value_counts()"
   ]
  },
  {
   "cell_type": "code",
   "execution_count": 36,
   "metadata": {},
   "outputs": [],
   "source": [
    "# Address the problematic values, if they exist\n",
    "## entrepreneur IS business, consolidate\n",
    "df['income_type'].replace('entrepreneur', 'business', inplace =True)"
   ]
  },
  {
   "cell_type": "code",
   "execution_count": 37,
   "metadata": {},
   "outputs": [
    {
     "data": {
      "text/plain": [
       "employee                       11119\n",
       "business                        5086\n",
       "retiree                         3855\n",
       "civil servant                   1459\n",
       "unemployed                         2\n",
       "paternity / maternity leave        1\n",
       "student                            1\n",
       "Name: income_type, dtype: int64"
      ]
     },
     "execution_count": 37,
     "metadata": {},
     "output_type": "execute_result"
    }
   ],
   "source": [
    "# Check the result - make sure it's fixed\n",
    "df['income_type'].value_counts()"
   ]
  },
  {
   "cell_type": "markdown",
   "metadata": {},
   "source": [
    "[Check to see if there are duplicates in our data.]"
   ]
  },
  {
   "cell_type": "code",
   "execution_count": 38,
   "metadata": {},
   "outputs": [
    {
     "data": {
      "text/plain": [
       "71"
      ]
     },
     "execution_count": 38,
     "metadata": {},
     "output_type": "execute_result"
    }
   ],
   "source": [
    "# Checking duplicates\n",
    "df.duplicated().sum()"
   ]
  },
  {
   "cell_type": "code",
   "execution_count": 39,
   "metadata": {},
   "outputs": [],
   "source": [
    "# Address the duplicates, if they exist\n",
    "df=df.drop_duplicates()"
   ]
  },
  {
   "cell_type": "code",
   "execution_count": 40,
   "metadata": {},
   "outputs": [
    {
     "data": {
      "text/plain": [
       "0"
      ]
     },
     "execution_count": 40,
     "metadata": {},
     "output_type": "execute_result"
    }
   ],
   "source": [
    "# Last check whether we have any duplicates\n",
    "df.duplicated().sum()"
   ]
  },
  {
   "cell_type": "code",
   "execution_count": 41,
   "metadata": {},
   "outputs": [
    {
     "name": "stdout",
     "output_type": "stream",
     "text": [
      "<class 'pandas.core.frame.DataFrame'>\n",
      "Int64Index: 21452 entries, 0 to 21524\n",
      "Data columns (total 12 columns):\n",
      "children            21452 non-null int64\n",
      "days_employed       19350 non-null float64\n",
      "dob_years           21452 non-null float64\n",
      "education           21452 non-null object\n",
      "education_id        21452 non-null int64\n",
      "family_status       21452 non-null object\n",
      "family_status_id    21452 non-null int64\n",
      "gender              21452 non-null object\n",
      "income_type         21452 non-null object\n",
      "debt                21452 non-null int64\n",
      "total_income        19350 non-null float64\n",
      "purpose             21452 non-null object\n",
      "dtypes: float64(3), int64(4), object(5)\n",
      "memory usage: 2.1+ MB\n"
     ]
    }
   ],
   "source": [
    "# Check the size of the dataset that you now have after your first manipulations with it\n",
    "df.info()"
   ]
  },
  {
   "cell_type": "markdown",
   "metadata": {},
   "source": [
    "\n",
    "#### Summary:\n",
    "\n",
    "1. Dropped 71 duplicates, now row numbers have reduced to 21452 rows.\n",
    "2. Consolidated 'income type' by merging \"entrepreneur\" into \"business\" category.\n",
    "3. Dropped 1 value of \"XNA\" in the gender column.\n",
    "4. Replaced customer age value where it is \"0\" with the mean value of customer age.\n",
    "5. Days employed column - took an absolute value of the entries to correct file errors.\n",
    "6. Streamlined spelling for the Education column.\n",
    "7. Replaced children values where it is negative with the mean value of children.\n"
   ]
  },
  {
   "cell_type": "markdown",
   "metadata": {},
   "source": [
    "# Working with missing values"
   ]
  },
  {
   "cell_type": "markdown",
   "metadata": {},
   "source": [
    "### Restoring missing values in `total_income`"
   ]
  },
  {
   "cell_type": "markdown",
   "metadata": {},
   "source": [
    "Total_income and Days_employed have missing values that I need to address.\n",
    "Strategies to fixing:\n",
    "\n",
    "- Determine whether your data has significant outliers.\n",
    "-  If there aren't any significant outliers, сalculate the mean of your data — apply the mean() method to the column or the entire dataset.\n",
    "- If your data has significant outliers, calculate the median of your data — apply the median() method to the column or the entire dataset.\n",
    "- Replace missing values with the mean or median using the fillna() method."
   ]
  },
  {
   "cell_type": "code",
   "execution_count": 43,
   "metadata": {},
   "outputs": [],
   "source": [
    "# Write a function that calculates the age category\n",
    "\n",
    "def age_group(dob_years):\n",
    "    if dob_years <= 18:\n",
    "        return 'children'\n",
    "    if 19 <= dob_years <= 30:\n",
    "        return 'young adults'\n",
    "    if 31 <= dob_years <= 50:\n",
    "        return 'middle-aged adults'\n",
    "    return 'senior adults'"
   ]
  },
  {
   "cell_type": "code",
   "execution_count": 44,
   "metadata": {
    "scrolled": true
   },
   "outputs": [
    {
     "name": "stdout",
     "output_type": "stream",
     "text": [
      "middle-aged adults\n",
      "children\n",
      "senior adults\n",
      "young adults\n"
     ]
    }
   ],
   "source": [
    "# Test if the function works\n",
    "print(age_group(40))\n",
    "print(age_group(10))\n",
    "print(age_group(60))\n",
    "print(age_group(20))"
   ]
  },
  {
   "cell_type": "code",
   "execution_count": 45,
   "metadata": {},
   "outputs": [],
   "source": [
    "# Creating new column based on function\n",
    "df['age_group'] = df['dob_years'].apply(age_group)"
   ]
  },
  {
   "cell_type": "code",
   "execution_count": 46,
   "metadata": {},
   "outputs": [
    {
     "name": "stdout",
     "output_type": "stream",
     "text": [
      "   children  days_employed  dob_years            education  education_id  \\\n",
      "0         1    8437.673028       42.0    bachelor's degree             0   \n",
      "1         1    4024.803754       36.0  secondary education             1   \n",
      "2         0    5623.422610       33.0  secondary education             1   \n",
      "3         3    4124.747207       32.0  secondary education             1   \n",
      "4         0  340266.072047       53.0  secondary education             1   \n",
      "5         0     926.185831       27.0    bachelor's degree             0   \n",
      "6         0    2879.202052       43.0    bachelor's degree             0   \n",
      "7         0     152.779569       50.0  secondary education             1   \n",
      "8         2    6929.865299       35.0    bachelor's degree             0   \n",
      "9         0    2188.756445       41.0  secondary education             1   \n",
      "\n",
      "       family_status  family_status_id gender income_type  debt  total_income  \\\n",
      "0            married                 0      F    employee     0     40620.102   \n",
      "1            married                 0      F    employee     0     17932.802   \n",
      "2            married                 0      M    employee     0     23341.752   \n",
      "3            married                 0      M    employee     0     42820.568   \n",
      "4  civil partnership                 1      F     retiree     0     25378.572   \n",
      "5  civil partnership                 1      M    business     0     40922.170   \n",
      "6            married                 0      F    business     0     38484.156   \n",
      "7            married                 0      M    employee     0     21731.829   \n",
      "8  civil partnership                 1      F    employee     0     15337.093   \n",
      "9            married                 0      M    employee     0     23108.150   \n",
      "\n",
      "                               purpose           age_group  \n",
      "0                purchase of the house  middle-aged adults  \n",
      "1                         car purchase  middle-aged adults  \n",
      "2                purchase of the house  middle-aged adults  \n",
      "3              supplementary education  middle-aged adults  \n",
      "4                    to have a wedding       senior adults  \n",
      "5                purchase of the house        young adults  \n",
      "6                 housing transactions  middle-aged adults  \n",
      "7                            education  middle-aged adults  \n",
      "8                     having a wedding  middle-aged adults  \n",
      "9  purchase of the house for my family  middle-aged adults  \n"
     ]
    }
   ],
   "source": [
    "# Checking how values in the new column\n",
    "print(df.head(10))"
   ]
  },
  {
   "cell_type": "markdown",
   "metadata": {},
   "source": [
    "Create a table that only has data without missing values. This data will be used to restore the missing values."
   ]
  },
  {
   "cell_type": "code",
   "execution_count": 47,
   "metadata": {},
   "outputs": [
    {
     "name": "stdout",
     "output_type": "stream",
     "text": [
      "<class 'pandas.core.frame.DataFrame'>\n",
      "Int64Index: 19350 entries, 0 to 21524\n",
      "Data columns (total 13 columns):\n",
      "children            19350 non-null int64\n",
      "days_employed       19350 non-null float64\n",
      "dob_years           19350 non-null float64\n",
      "education           19350 non-null object\n",
      "education_id        19350 non-null int64\n",
      "family_status       19350 non-null object\n",
      "family_status_id    19350 non-null int64\n",
      "gender              19350 non-null object\n",
      "income_type         19350 non-null object\n",
      "debt                19350 non-null int64\n",
      "total_income        19350 non-null float64\n",
      "purpose             19350 non-null object\n",
      "age_group           19350 non-null object\n",
      "dtypes: float64(3), int64(4), object(6)\n",
      "memory usage: 2.1+ MB\n",
      "    children  days_employed  dob_years            education  education_id  \\\n",
      "0          1    8437.673028       42.0    bachelor's degree             0   \n",
      "1          1    4024.803754       36.0  secondary education             1   \n",
      "2          0    5623.422610       33.0  secondary education             1   \n",
      "3          3    4124.747207       32.0  secondary education             1   \n",
      "4          0  340266.072047       53.0  secondary education             1   \n",
      "5          0     926.185831       27.0    bachelor's degree             0   \n",
      "6          0    2879.202052       43.0    bachelor's degree             0   \n",
      "7          0     152.779569       50.0  secondary education             1   \n",
      "8          2    6929.865299       35.0    bachelor's degree             0   \n",
      "9          0    2188.756445       41.0  secondary education             1   \n",
      "10         2    4171.483647       36.0    bachelor's degree             0   \n",
      "11         0     792.701887       40.0  secondary education             1   \n",
      "13         0    1846.641941       54.0         some college             2   \n",
      "14         0    1844.956182       56.0    bachelor's degree             0   \n",
      "15         1     972.364419       26.0  secondary education             1   \n",
      "16         0    1719.934226       35.0  secondary education             1   \n",
      "17         0    2369.999720       33.0    bachelor's degree             0   \n",
      "18         0  400281.136913       53.0  secondary education             1   \n",
      "19         0   10038.818549       48.0  secondary education             1   \n",
      "20         1    1311.604166       36.0  secondary education             1   \n",
      "\n",
      "        family_status  family_status_id gender income_type  debt  \\\n",
      "0             married                 0      F    employee     0   \n",
      "1             married                 0      F    employee     0   \n",
      "2             married                 0      M    employee     0   \n",
      "3             married                 0      M    employee     0   \n",
      "4   civil partnership                 1      F     retiree     0   \n",
      "5   civil partnership                 1      M    business     0   \n",
      "6             married                 0      F    business     0   \n",
      "7             married                 0      M    employee     0   \n",
      "8   civil partnership                 1      F    employee     0   \n",
      "9             married                 0      M    employee     0   \n",
      "10            married                 0      M    business     0   \n",
      "11            married                 0      F    employee     0   \n",
      "13            married                 0      F    employee     0   \n",
      "14  civil partnership                 1      F    business     1   \n",
      "15            married                 0      F    employee     0   \n",
      "16            married                 0      F    employee     0   \n",
      "17  civil partnership                 1      M    employee     0   \n",
      "18    widow / widower                 2      F     retiree     0   \n",
      "19           divorced                 3      F    employee     0   \n",
      "20            married                 0      M    employee     0   \n",
      "\n",
      "    total_income                              purpose           age_group  \n",
      "0      40620.102                purchase of the house  middle-aged adults  \n",
      "1      17932.802                         car purchase  middle-aged adults  \n",
      "2      23341.752                purchase of the house  middle-aged adults  \n",
      "3      42820.568              supplementary education  middle-aged adults  \n",
      "4      25378.572                    to have a wedding       senior adults  \n",
      "5      40922.170                purchase of the house        young adults  \n",
      "6      38484.156                 housing transactions  middle-aged adults  \n",
      "7      21731.829                            education  middle-aged adults  \n",
      "8      15337.093                     having a wedding  middle-aged adults  \n",
      "9      23108.150  purchase of the house for my family  middle-aged adults  \n",
      "10     18230.959                      buy real estate  middle-aged adults  \n",
      "11     12331.077           buy commercial real estate  middle-aged adults  \n",
      "13     20873.317                         car purchase       senior adults  \n",
      "14     26420.466          buy residential real estate       senior adults  \n",
      "15     18691.345         construction of own property        young adults  \n",
      "16     46272.433                             property  middle-aged adults  \n",
      "17     14465.694                  building a property  middle-aged adults  \n",
      "18      9091.804             buying a second-hand car       senior adults  \n",
      "19     38852.977                    buying my own car  middle-aged adults  \n",
      "20     33528.423                             property  middle-aged adults  \n"
     ]
    }
   ],
   "source": [
    "# Create a table without missing values and print a few of its rows to make sure it looks fine\n",
    "df= df.dropna()\n",
    "df.info()\n",
    "print(df.head(20))"
   ]
  },
  {
   "cell_type": "code",
   "execution_count": 48,
   "metadata": {
    "scrolled": true
   },
   "outputs": [
    {
     "name": "stdout",
     "output_type": "stream",
     "text": [
      "26787.26668764858\n"
     ]
    },
    {
     "data": {
      "text/plain": [
       "count     19350.000000\n",
       "mean      26787.266688\n",
       "std       16475.822926\n",
       "min        3306.762000\n",
       "25%       16486.515250\n",
       "50%       23201.873500\n",
       "75%       32547.910750\n",
       "max      362496.645000\n",
       "Name: total_income, dtype: float64"
      ]
     },
     "execution_count": 48,
     "metadata": {},
     "output_type": "execute_result"
    }
   ],
   "source": [
    "# Look at the mean values for income based on your identified factors\n",
    "total_income_avg = df['total_income'].mean()\n",
    "print(total_income_avg)\n",
    "df['total_income'].describe()"
   ]
  },
  {
   "cell_type": "code",
   "execution_count": 49,
   "metadata": {
    "scrolled": true
   },
   "outputs": [
    {
     "name": "stdout",
     "output_type": "stream",
     "text": [
      "23201.8735\n"
     ]
    }
   ],
   "source": [
    "# Look at the median values for income based on your identified factors\n",
    "total_income_median = df['total_income'].median()\n",
    "print(total_income_median)"
   ]
  },
  {
   "cell_type": "markdown",
   "metadata": {},
   "source": [
    "I have chosen to replace the missing values with Median, because the dataset contains significant outliers for total_income."
   ]
  },
  {
   "cell_type": "code",
   "execution_count": 50,
   "metadata": {},
   "outputs": [],
   "source": [
    "#  Write a function that we will use for filling in missing values\n",
    "df['total_income'].fillna(value=total_income_median,inplace=True)\n",
    "\n",
    "def median_income (total_income):\n",
    "    if total_income <= total_income_median:\n",
    "        return 'Below Median Total Income'\n",
    "    return 'Above Median Total Income'"
   ]
  },
  {
   "cell_type": "code",
   "execution_count": 51,
   "metadata": {},
   "outputs": [
    {
     "name": "stdout",
     "output_type": "stream",
     "text": [
      "Below Median Total Income\n",
      "Above Median Total Income\n"
     ]
    },
    {
     "data": {
      "text/plain": [
       "0"
      ]
     },
     "execution_count": 51,
     "metadata": {},
     "output_type": "execute_result"
    }
   ],
   "source": [
    "# Check if it works\n",
    "print(median_income(2))\n",
    "print(median_income(200000))\n",
    "df['total_income'].isnull().sum()"
   ]
  },
  {
   "cell_type": "code",
   "execution_count": 52,
   "metadata": {},
   "outputs": [],
   "source": [
    "# Apply it to every row\n",
    "df['median_income'] = df['total_income'].apply(median_income)"
   ]
  },
  {
   "cell_type": "code",
   "execution_count": 53,
   "metadata": {},
   "outputs": [
    {
     "data": {
      "text/html": [
       "<div>\n",
       "<style scoped>\n",
       "    .dataframe tbody tr th:only-of-type {\n",
       "        vertical-align: middle;\n",
       "    }\n",
       "\n",
       "    .dataframe tbody tr th {\n",
       "        vertical-align: top;\n",
       "    }\n",
       "\n",
       "    .dataframe thead th {\n",
       "        text-align: right;\n",
       "    }\n",
       "</style>\n",
       "<table border=\"1\" class=\"dataframe\">\n",
       "  <thead>\n",
       "    <tr style=\"text-align: right;\">\n",
       "      <th></th>\n",
       "      <th>children</th>\n",
       "      <th>days_employed</th>\n",
       "      <th>dob_years</th>\n",
       "      <th>education</th>\n",
       "      <th>education_id</th>\n",
       "      <th>family_status</th>\n",
       "      <th>family_status_id</th>\n",
       "      <th>gender</th>\n",
       "      <th>income_type</th>\n",
       "      <th>debt</th>\n",
       "      <th>total_income</th>\n",
       "      <th>purpose</th>\n",
       "      <th>age_group</th>\n",
       "      <th>median_income</th>\n",
       "    </tr>\n",
       "  </thead>\n",
       "  <tbody>\n",
       "    <tr>\n",
       "      <td>0</td>\n",
       "      <td>1</td>\n",
       "      <td>8437.673028</td>\n",
       "      <td>42.0</td>\n",
       "      <td>bachelor's degree</td>\n",
       "      <td>0</td>\n",
       "      <td>married</td>\n",
       "      <td>0</td>\n",
       "      <td>F</td>\n",
       "      <td>employee</td>\n",
       "      <td>0</td>\n",
       "      <td>40620.102</td>\n",
       "      <td>purchase of the house</td>\n",
       "      <td>middle-aged adults</td>\n",
       "      <td>Above Median Total Income</td>\n",
       "    </tr>\n",
       "    <tr>\n",
       "      <td>1</td>\n",
       "      <td>1</td>\n",
       "      <td>4024.803754</td>\n",
       "      <td>36.0</td>\n",
       "      <td>secondary education</td>\n",
       "      <td>1</td>\n",
       "      <td>married</td>\n",
       "      <td>0</td>\n",
       "      <td>F</td>\n",
       "      <td>employee</td>\n",
       "      <td>0</td>\n",
       "      <td>17932.802</td>\n",
       "      <td>car purchase</td>\n",
       "      <td>middle-aged adults</td>\n",
       "      <td>Below Median Total Income</td>\n",
       "    </tr>\n",
       "    <tr>\n",
       "      <td>2</td>\n",
       "      <td>0</td>\n",
       "      <td>5623.422610</td>\n",
       "      <td>33.0</td>\n",
       "      <td>secondary education</td>\n",
       "      <td>1</td>\n",
       "      <td>married</td>\n",
       "      <td>0</td>\n",
       "      <td>M</td>\n",
       "      <td>employee</td>\n",
       "      <td>0</td>\n",
       "      <td>23341.752</td>\n",
       "      <td>purchase of the house</td>\n",
       "      <td>middle-aged adults</td>\n",
       "      <td>Above Median Total Income</td>\n",
       "    </tr>\n",
       "    <tr>\n",
       "      <td>3</td>\n",
       "      <td>3</td>\n",
       "      <td>4124.747207</td>\n",
       "      <td>32.0</td>\n",
       "      <td>secondary education</td>\n",
       "      <td>1</td>\n",
       "      <td>married</td>\n",
       "      <td>0</td>\n",
       "      <td>M</td>\n",
       "      <td>employee</td>\n",
       "      <td>0</td>\n",
       "      <td>42820.568</td>\n",
       "      <td>supplementary education</td>\n",
       "      <td>middle-aged adults</td>\n",
       "      <td>Above Median Total Income</td>\n",
       "    </tr>\n",
       "    <tr>\n",
       "      <td>4</td>\n",
       "      <td>0</td>\n",
       "      <td>340266.072047</td>\n",
       "      <td>53.0</td>\n",
       "      <td>secondary education</td>\n",
       "      <td>1</td>\n",
       "      <td>civil partnership</td>\n",
       "      <td>1</td>\n",
       "      <td>F</td>\n",
       "      <td>retiree</td>\n",
       "      <td>0</td>\n",
       "      <td>25378.572</td>\n",
       "      <td>to have a wedding</td>\n",
       "      <td>senior adults</td>\n",
       "      <td>Above Median Total Income</td>\n",
       "    </tr>\n",
       "    <tr>\n",
       "      <td>5</td>\n",
       "      <td>0</td>\n",
       "      <td>926.185831</td>\n",
       "      <td>27.0</td>\n",
       "      <td>bachelor's degree</td>\n",
       "      <td>0</td>\n",
       "      <td>civil partnership</td>\n",
       "      <td>1</td>\n",
       "      <td>M</td>\n",
       "      <td>business</td>\n",
       "      <td>0</td>\n",
       "      <td>40922.170</td>\n",
       "      <td>purchase of the house</td>\n",
       "      <td>young adults</td>\n",
       "      <td>Above Median Total Income</td>\n",
       "    </tr>\n",
       "    <tr>\n",
       "      <td>6</td>\n",
       "      <td>0</td>\n",
       "      <td>2879.202052</td>\n",
       "      <td>43.0</td>\n",
       "      <td>bachelor's degree</td>\n",
       "      <td>0</td>\n",
       "      <td>married</td>\n",
       "      <td>0</td>\n",
       "      <td>F</td>\n",
       "      <td>business</td>\n",
       "      <td>0</td>\n",
       "      <td>38484.156</td>\n",
       "      <td>housing transactions</td>\n",
       "      <td>middle-aged adults</td>\n",
       "      <td>Above Median Total Income</td>\n",
       "    </tr>\n",
       "    <tr>\n",
       "      <td>7</td>\n",
       "      <td>0</td>\n",
       "      <td>152.779569</td>\n",
       "      <td>50.0</td>\n",
       "      <td>secondary education</td>\n",
       "      <td>1</td>\n",
       "      <td>married</td>\n",
       "      <td>0</td>\n",
       "      <td>M</td>\n",
       "      <td>employee</td>\n",
       "      <td>0</td>\n",
       "      <td>21731.829</td>\n",
       "      <td>education</td>\n",
       "      <td>middle-aged adults</td>\n",
       "      <td>Below Median Total Income</td>\n",
       "    </tr>\n",
       "    <tr>\n",
       "      <td>8</td>\n",
       "      <td>2</td>\n",
       "      <td>6929.865299</td>\n",
       "      <td>35.0</td>\n",
       "      <td>bachelor's degree</td>\n",
       "      <td>0</td>\n",
       "      <td>civil partnership</td>\n",
       "      <td>1</td>\n",
       "      <td>F</td>\n",
       "      <td>employee</td>\n",
       "      <td>0</td>\n",
       "      <td>15337.093</td>\n",
       "      <td>having a wedding</td>\n",
       "      <td>middle-aged adults</td>\n",
       "      <td>Below Median Total Income</td>\n",
       "    </tr>\n",
       "    <tr>\n",
       "      <td>9</td>\n",
       "      <td>0</td>\n",
       "      <td>2188.756445</td>\n",
       "      <td>41.0</td>\n",
       "      <td>secondary education</td>\n",
       "      <td>1</td>\n",
       "      <td>married</td>\n",
       "      <td>0</td>\n",
       "      <td>M</td>\n",
       "      <td>employee</td>\n",
       "      <td>0</td>\n",
       "      <td>23108.150</td>\n",
       "      <td>purchase of the house for my family</td>\n",
       "      <td>middle-aged adults</td>\n",
       "      <td>Below Median Total Income</td>\n",
       "    </tr>\n",
       "    <tr>\n",
       "      <td>10</td>\n",
       "      <td>2</td>\n",
       "      <td>4171.483647</td>\n",
       "      <td>36.0</td>\n",
       "      <td>bachelor's degree</td>\n",
       "      <td>0</td>\n",
       "      <td>married</td>\n",
       "      <td>0</td>\n",
       "      <td>M</td>\n",
       "      <td>business</td>\n",
       "      <td>0</td>\n",
       "      <td>18230.959</td>\n",
       "      <td>buy real estate</td>\n",
       "      <td>middle-aged adults</td>\n",
       "      <td>Below Median Total Income</td>\n",
       "    </tr>\n",
       "    <tr>\n",
       "      <td>11</td>\n",
       "      <td>0</td>\n",
       "      <td>792.701887</td>\n",
       "      <td>40.0</td>\n",
       "      <td>secondary education</td>\n",
       "      <td>1</td>\n",
       "      <td>married</td>\n",
       "      <td>0</td>\n",
       "      <td>F</td>\n",
       "      <td>employee</td>\n",
       "      <td>0</td>\n",
       "      <td>12331.077</td>\n",
       "      <td>buy commercial real estate</td>\n",
       "      <td>middle-aged adults</td>\n",
       "      <td>Below Median Total Income</td>\n",
       "    </tr>\n",
       "    <tr>\n",
       "      <td>13</td>\n",
       "      <td>0</td>\n",
       "      <td>1846.641941</td>\n",
       "      <td>54.0</td>\n",
       "      <td>some college</td>\n",
       "      <td>2</td>\n",
       "      <td>married</td>\n",
       "      <td>0</td>\n",
       "      <td>F</td>\n",
       "      <td>employee</td>\n",
       "      <td>0</td>\n",
       "      <td>20873.317</td>\n",
       "      <td>car purchase</td>\n",
       "      <td>senior adults</td>\n",
       "      <td>Below Median Total Income</td>\n",
       "    </tr>\n",
       "    <tr>\n",
       "      <td>14</td>\n",
       "      <td>0</td>\n",
       "      <td>1844.956182</td>\n",
       "      <td>56.0</td>\n",
       "      <td>bachelor's degree</td>\n",
       "      <td>0</td>\n",
       "      <td>civil partnership</td>\n",
       "      <td>1</td>\n",
       "      <td>F</td>\n",
       "      <td>business</td>\n",
       "      <td>1</td>\n",
       "      <td>26420.466</td>\n",
       "      <td>buy residential real estate</td>\n",
       "      <td>senior adults</td>\n",
       "      <td>Above Median Total Income</td>\n",
       "    </tr>\n",
       "    <tr>\n",
       "      <td>15</td>\n",
       "      <td>1</td>\n",
       "      <td>972.364419</td>\n",
       "      <td>26.0</td>\n",
       "      <td>secondary education</td>\n",
       "      <td>1</td>\n",
       "      <td>married</td>\n",
       "      <td>0</td>\n",
       "      <td>F</td>\n",
       "      <td>employee</td>\n",
       "      <td>0</td>\n",
       "      <td>18691.345</td>\n",
       "      <td>construction of own property</td>\n",
       "      <td>young adults</td>\n",
       "      <td>Below Median Total Income</td>\n",
       "    </tr>\n",
       "    <tr>\n",
       "      <td>16</td>\n",
       "      <td>0</td>\n",
       "      <td>1719.934226</td>\n",
       "      <td>35.0</td>\n",
       "      <td>secondary education</td>\n",
       "      <td>1</td>\n",
       "      <td>married</td>\n",
       "      <td>0</td>\n",
       "      <td>F</td>\n",
       "      <td>employee</td>\n",
       "      <td>0</td>\n",
       "      <td>46272.433</td>\n",
       "      <td>property</td>\n",
       "      <td>middle-aged adults</td>\n",
       "      <td>Above Median Total Income</td>\n",
       "    </tr>\n",
       "    <tr>\n",
       "      <td>17</td>\n",
       "      <td>0</td>\n",
       "      <td>2369.999720</td>\n",
       "      <td>33.0</td>\n",
       "      <td>bachelor's degree</td>\n",
       "      <td>0</td>\n",
       "      <td>civil partnership</td>\n",
       "      <td>1</td>\n",
       "      <td>M</td>\n",
       "      <td>employee</td>\n",
       "      <td>0</td>\n",
       "      <td>14465.694</td>\n",
       "      <td>building a property</td>\n",
       "      <td>middle-aged adults</td>\n",
       "      <td>Below Median Total Income</td>\n",
       "    </tr>\n",
       "    <tr>\n",
       "      <td>18</td>\n",
       "      <td>0</td>\n",
       "      <td>400281.136913</td>\n",
       "      <td>53.0</td>\n",
       "      <td>secondary education</td>\n",
       "      <td>1</td>\n",
       "      <td>widow / widower</td>\n",
       "      <td>2</td>\n",
       "      <td>F</td>\n",
       "      <td>retiree</td>\n",
       "      <td>0</td>\n",
       "      <td>9091.804</td>\n",
       "      <td>buying a second-hand car</td>\n",
       "      <td>senior adults</td>\n",
       "      <td>Below Median Total Income</td>\n",
       "    </tr>\n",
       "    <tr>\n",
       "      <td>19</td>\n",
       "      <td>0</td>\n",
       "      <td>10038.818549</td>\n",
       "      <td>48.0</td>\n",
       "      <td>secondary education</td>\n",
       "      <td>1</td>\n",
       "      <td>divorced</td>\n",
       "      <td>3</td>\n",
       "      <td>F</td>\n",
       "      <td>employee</td>\n",
       "      <td>0</td>\n",
       "      <td>38852.977</td>\n",
       "      <td>buying my own car</td>\n",
       "      <td>middle-aged adults</td>\n",
       "      <td>Above Median Total Income</td>\n",
       "    </tr>\n",
       "    <tr>\n",
       "      <td>20</td>\n",
       "      <td>1</td>\n",
       "      <td>1311.604166</td>\n",
       "      <td>36.0</td>\n",
       "      <td>secondary education</td>\n",
       "      <td>1</td>\n",
       "      <td>married</td>\n",
       "      <td>0</td>\n",
       "      <td>M</td>\n",
       "      <td>employee</td>\n",
       "      <td>0</td>\n",
       "      <td>33528.423</td>\n",
       "      <td>property</td>\n",
       "      <td>middle-aged adults</td>\n",
       "      <td>Above Median Total Income</td>\n",
       "    </tr>\n",
       "  </tbody>\n",
       "</table>\n",
       "</div>"
      ],
      "text/plain": [
       "    children  days_employed  dob_years            education  education_id  \\\n",
       "0          1    8437.673028       42.0    bachelor's degree             0   \n",
       "1          1    4024.803754       36.0  secondary education             1   \n",
       "2          0    5623.422610       33.0  secondary education             1   \n",
       "3          3    4124.747207       32.0  secondary education             1   \n",
       "4          0  340266.072047       53.0  secondary education             1   \n",
       "5          0     926.185831       27.0    bachelor's degree             0   \n",
       "6          0    2879.202052       43.0    bachelor's degree             0   \n",
       "7          0     152.779569       50.0  secondary education             1   \n",
       "8          2    6929.865299       35.0    bachelor's degree             0   \n",
       "9          0    2188.756445       41.0  secondary education             1   \n",
       "10         2    4171.483647       36.0    bachelor's degree             0   \n",
       "11         0     792.701887       40.0  secondary education             1   \n",
       "13         0    1846.641941       54.0         some college             2   \n",
       "14         0    1844.956182       56.0    bachelor's degree             0   \n",
       "15         1     972.364419       26.0  secondary education             1   \n",
       "16         0    1719.934226       35.0  secondary education             1   \n",
       "17         0    2369.999720       33.0    bachelor's degree             0   \n",
       "18         0  400281.136913       53.0  secondary education             1   \n",
       "19         0   10038.818549       48.0  secondary education             1   \n",
       "20         1    1311.604166       36.0  secondary education             1   \n",
       "\n",
       "        family_status  family_status_id gender income_type  debt  \\\n",
       "0             married                 0      F    employee     0   \n",
       "1             married                 0      F    employee     0   \n",
       "2             married                 0      M    employee     0   \n",
       "3             married                 0      M    employee     0   \n",
       "4   civil partnership                 1      F     retiree     0   \n",
       "5   civil partnership                 1      M    business     0   \n",
       "6             married                 0      F    business     0   \n",
       "7             married                 0      M    employee     0   \n",
       "8   civil partnership                 1      F    employee     0   \n",
       "9             married                 0      M    employee     0   \n",
       "10            married                 0      M    business     0   \n",
       "11            married                 0      F    employee     0   \n",
       "13            married                 0      F    employee     0   \n",
       "14  civil partnership                 1      F    business     1   \n",
       "15            married                 0      F    employee     0   \n",
       "16            married                 0      F    employee     0   \n",
       "17  civil partnership                 1      M    employee     0   \n",
       "18    widow / widower                 2      F     retiree     0   \n",
       "19           divorced                 3      F    employee     0   \n",
       "20            married                 0      M    employee     0   \n",
       "\n",
       "    total_income                              purpose           age_group  \\\n",
       "0      40620.102                purchase of the house  middle-aged adults   \n",
       "1      17932.802                         car purchase  middle-aged adults   \n",
       "2      23341.752                purchase of the house  middle-aged adults   \n",
       "3      42820.568              supplementary education  middle-aged adults   \n",
       "4      25378.572                    to have a wedding       senior adults   \n",
       "5      40922.170                purchase of the house        young adults   \n",
       "6      38484.156                 housing transactions  middle-aged adults   \n",
       "7      21731.829                            education  middle-aged adults   \n",
       "8      15337.093                     having a wedding  middle-aged adults   \n",
       "9      23108.150  purchase of the house for my family  middle-aged adults   \n",
       "10     18230.959                      buy real estate  middle-aged adults   \n",
       "11     12331.077           buy commercial real estate  middle-aged adults   \n",
       "13     20873.317                         car purchase       senior adults   \n",
       "14     26420.466          buy residential real estate       senior adults   \n",
       "15     18691.345         construction of own property        young adults   \n",
       "16     46272.433                             property  middle-aged adults   \n",
       "17     14465.694                  building a property  middle-aged adults   \n",
       "18      9091.804             buying a second-hand car       senior adults   \n",
       "19     38852.977                    buying my own car  middle-aged adults   \n",
       "20     33528.423                             property  middle-aged adults   \n",
       "\n",
       "                median_income  \n",
       "0   Above Median Total Income  \n",
       "1   Below Median Total Income  \n",
       "2   Above Median Total Income  \n",
       "3   Above Median Total Income  \n",
       "4   Above Median Total Income  \n",
       "5   Above Median Total Income  \n",
       "6   Above Median Total Income  \n",
       "7   Below Median Total Income  \n",
       "8   Below Median Total Income  \n",
       "9   Below Median Total Income  \n",
       "10  Below Median Total Income  \n",
       "11  Below Median Total Income  \n",
       "13  Below Median Total Income  \n",
       "14  Above Median Total Income  \n",
       "15  Below Median Total Income  \n",
       "16  Above Median Total Income  \n",
       "17  Below Median Total Income  \n",
       "18  Below Median Total Income  \n",
       "19  Above Median Total Income  \n",
       "20  Above Median Total Income  "
      ]
     },
     "execution_count": 53,
     "metadata": {},
     "output_type": "execute_result"
    }
   ],
   "source": [
    "# Check if we got any errors\n",
    "df.head(20)"
   ]
  },
  {
   "cell_type": "markdown",
   "metadata": {},
   "source": [
    "[Check that the total number of values in the `total_income`column matches the number of values in other ones post-application.]"
   ]
  },
  {
   "cell_type": "code",
   "execution_count": 55,
   "metadata": {},
   "outputs": [
    {
     "name": "stdout",
     "output_type": "stream",
     "text": [
      "<class 'pandas.core.frame.DataFrame'>\n",
      "Int64Index: 19350 entries, 0 to 21524\n",
      "Data columns (total 14 columns):\n",
      "children            19350 non-null int64\n",
      "days_employed       19350 non-null float64\n",
      "dob_years           19350 non-null float64\n",
      "education           19350 non-null object\n",
      "education_id        19350 non-null int64\n",
      "family_status       19350 non-null object\n",
      "family_status_id    19350 non-null int64\n",
      "gender              19350 non-null object\n",
      "income_type         19350 non-null object\n",
      "debt                19350 non-null int64\n",
      "total_income        19350 non-null float64\n",
      "purpose             19350 non-null object\n",
      "age_group           19350 non-null object\n",
      "median_income       19350 non-null object\n",
      "dtypes: float64(3), int64(4), object(7)\n",
      "memory usage: 2.2+ MB\n"
     ]
    }
   ],
   "source": [
    "# Checking the number of entries in the columns\n",
    "df.info()"
   ]
  },
  {
   "cell_type": "markdown",
   "metadata": {},
   "source": [
    "###  Restoring values in `days_employed`"
   ]
  },
  {
   "cell_type": "code",
   "execution_count": 56,
   "metadata": {
    "pycharm": {
     "name": "#%%\n"
    }
   },
   "outputs": [
    {
     "name": "stdout",
     "output_type": "stream",
     "text": [
      "2194.218767670908\n"
     ]
    }
   ],
   "source": [
    "# Distribution of `days_employed` medians based on your identified parameters\n",
    "days_median=df['days_employed'].median()\n",
    "print(days_median)"
   ]
  },
  {
   "cell_type": "code",
   "execution_count": 57,
   "metadata": {},
   "outputs": [
    {
     "data": {
      "text/plain": [
       "66918.06514084846"
      ]
     },
     "execution_count": 57,
     "metadata": {},
     "output_type": "execute_result"
    }
   ],
   "source": [
    "# Distribution of `days_employed` means based on your identified parameters\n",
    "df['days_employed'].mean()"
   ]
  },
  {
   "cell_type": "markdown",
   "metadata": {},
   "source": [
    "The large difference between mean and median show that my data has significant outliers, so to minimize impact to the dataset, one should apply the median() method to the column or the entire dataset."
   ]
  },
  {
   "cell_type": "code",
   "execution_count": 58,
   "metadata": {},
   "outputs": [],
   "source": [
    "# Write a function that calculates  medians based on identified parameter\n",
    "\n",
    "def income_type (days_employed):\n",
    "    if days_employed <= days_median:\n",
    "        return 'Below Median Days Employed'\n",
    "    return 'Above Median Days Employed'"
   ]
  },
  {
   "cell_type": "code",
   "execution_count": 59,
   "metadata": {},
   "outputs": [
    {
     "name": "stdout",
     "output_type": "stream",
     "text": [
      "Above Median Days Employed\n",
      "Below Median Days Employed\n"
     ]
    }
   ],
   "source": [
    "# Check that the function works\n",
    "print(income_type(20000))\n",
    "print(income_type(2000))"
   ]
  },
  {
   "cell_type": "code",
   "execution_count": 60,
   "metadata": {},
   "outputs": [],
   "source": [
    "# Apply function to the income_type\n",
    "df['income_type'] = df['days_employed'].apply(income_type)"
   ]
  },
  {
   "cell_type": "code",
   "execution_count": 61,
   "metadata": {},
   "outputs": [
    {
     "data": {
      "text/html": [
       "<div>\n",
       "<style scoped>\n",
       "    .dataframe tbody tr th:only-of-type {\n",
       "        vertical-align: middle;\n",
       "    }\n",
       "\n",
       "    .dataframe tbody tr th {\n",
       "        vertical-align: top;\n",
       "    }\n",
       "\n",
       "    .dataframe thead th {\n",
       "        text-align: right;\n",
       "    }\n",
       "</style>\n",
       "<table border=\"1\" class=\"dataframe\">\n",
       "  <thead>\n",
       "    <tr style=\"text-align: right;\">\n",
       "      <th></th>\n",
       "      <th>children</th>\n",
       "      <th>days_employed</th>\n",
       "      <th>dob_years</th>\n",
       "      <th>education</th>\n",
       "      <th>education_id</th>\n",
       "      <th>family_status</th>\n",
       "      <th>family_status_id</th>\n",
       "      <th>gender</th>\n",
       "      <th>income_type</th>\n",
       "      <th>debt</th>\n",
       "      <th>total_income</th>\n",
       "      <th>purpose</th>\n",
       "      <th>age_group</th>\n",
       "      <th>median_income</th>\n",
       "    </tr>\n",
       "  </thead>\n",
       "  <tbody>\n",
       "    <tr>\n",
       "      <td>0</td>\n",
       "      <td>1</td>\n",
       "      <td>8437.673028</td>\n",
       "      <td>42.0</td>\n",
       "      <td>bachelor's degree</td>\n",
       "      <td>0</td>\n",
       "      <td>married</td>\n",
       "      <td>0</td>\n",
       "      <td>F</td>\n",
       "      <td>Above Median Days Employed</td>\n",
       "      <td>0</td>\n",
       "      <td>40620.102</td>\n",
       "      <td>purchase of the house</td>\n",
       "      <td>middle-aged adults</td>\n",
       "      <td>Above Median Total Income</td>\n",
       "    </tr>\n",
       "    <tr>\n",
       "      <td>1</td>\n",
       "      <td>1</td>\n",
       "      <td>4024.803754</td>\n",
       "      <td>36.0</td>\n",
       "      <td>secondary education</td>\n",
       "      <td>1</td>\n",
       "      <td>married</td>\n",
       "      <td>0</td>\n",
       "      <td>F</td>\n",
       "      <td>Above Median Days Employed</td>\n",
       "      <td>0</td>\n",
       "      <td>17932.802</td>\n",
       "      <td>car purchase</td>\n",
       "      <td>middle-aged adults</td>\n",
       "      <td>Below Median Total Income</td>\n",
       "    </tr>\n",
       "    <tr>\n",
       "      <td>2</td>\n",
       "      <td>0</td>\n",
       "      <td>5623.422610</td>\n",
       "      <td>33.0</td>\n",
       "      <td>secondary education</td>\n",
       "      <td>1</td>\n",
       "      <td>married</td>\n",
       "      <td>0</td>\n",
       "      <td>M</td>\n",
       "      <td>Above Median Days Employed</td>\n",
       "      <td>0</td>\n",
       "      <td>23341.752</td>\n",
       "      <td>purchase of the house</td>\n",
       "      <td>middle-aged adults</td>\n",
       "      <td>Above Median Total Income</td>\n",
       "    </tr>\n",
       "    <tr>\n",
       "      <td>3</td>\n",
       "      <td>3</td>\n",
       "      <td>4124.747207</td>\n",
       "      <td>32.0</td>\n",
       "      <td>secondary education</td>\n",
       "      <td>1</td>\n",
       "      <td>married</td>\n",
       "      <td>0</td>\n",
       "      <td>M</td>\n",
       "      <td>Above Median Days Employed</td>\n",
       "      <td>0</td>\n",
       "      <td>42820.568</td>\n",
       "      <td>supplementary education</td>\n",
       "      <td>middle-aged adults</td>\n",
       "      <td>Above Median Total Income</td>\n",
       "    </tr>\n",
       "    <tr>\n",
       "      <td>4</td>\n",
       "      <td>0</td>\n",
       "      <td>340266.072047</td>\n",
       "      <td>53.0</td>\n",
       "      <td>secondary education</td>\n",
       "      <td>1</td>\n",
       "      <td>civil partnership</td>\n",
       "      <td>1</td>\n",
       "      <td>F</td>\n",
       "      <td>Above Median Days Employed</td>\n",
       "      <td>0</td>\n",
       "      <td>25378.572</td>\n",
       "      <td>to have a wedding</td>\n",
       "      <td>senior adults</td>\n",
       "      <td>Above Median Total Income</td>\n",
       "    </tr>\n",
       "    <tr>\n",
       "      <td>5</td>\n",
       "      <td>0</td>\n",
       "      <td>926.185831</td>\n",
       "      <td>27.0</td>\n",
       "      <td>bachelor's degree</td>\n",
       "      <td>0</td>\n",
       "      <td>civil partnership</td>\n",
       "      <td>1</td>\n",
       "      <td>M</td>\n",
       "      <td>Below Median Days Employed</td>\n",
       "      <td>0</td>\n",
       "      <td>40922.170</td>\n",
       "      <td>purchase of the house</td>\n",
       "      <td>young adults</td>\n",
       "      <td>Above Median Total Income</td>\n",
       "    </tr>\n",
       "    <tr>\n",
       "      <td>6</td>\n",
       "      <td>0</td>\n",
       "      <td>2879.202052</td>\n",
       "      <td>43.0</td>\n",
       "      <td>bachelor's degree</td>\n",
       "      <td>0</td>\n",
       "      <td>married</td>\n",
       "      <td>0</td>\n",
       "      <td>F</td>\n",
       "      <td>Above Median Days Employed</td>\n",
       "      <td>0</td>\n",
       "      <td>38484.156</td>\n",
       "      <td>housing transactions</td>\n",
       "      <td>middle-aged adults</td>\n",
       "      <td>Above Median Total Income</td>\n",
       "    </tr>\n",
       "    <tr>\n",
       "      <td>7</td>\n",
       "      <td>0</td>\n",
       "      <td>152.779569</td>\n",
       "      <td>50.0</td>\n",
       "      <td>secondary education</td>\n",
       "      <td>1</td>\n",
       "      <td>married</td>\n",
       "      <td>0</td>\n",
       "      <td>M</td>\n",
       "      <td>Below Median Days Employed</td>\n",
       "      <td>0</td>\n",
       "      <td>21731.829</td>\n",
       "      <td>education</td>\n",
       "      <td>middle-aged adults</td>\n",
       "      <td>Below Median Total Income</td>\n",
       "    </tr>\n",
       "    <tr>\n",
       "      <td>8</td>\n",
       "      <td>2</td>\n",
       "      <td>6929.865299</td>\n",
       "      <td>35.0</td>\n",
       "      <td>bachelor's degree</td>\n",
       "      <td>0</td>\n",
       "      <td>civil partnership</td>\n",
       "      <td>1</td>\n",
       "      <td>F</td>\n",
       "      <td>Above Median Days Employed</td>\n",
       "      <td>0</td>\n",
       "      <td>15337.093</td>\n",
       "      <td>having a wedding</td>\n",
       "      <td>middle-aged adults</td>\n",
       "      <td>Below Median Total Income</td>\n",
       "    </tr>\n",
       "    <tr>\n",
       "      <td>9</td>\n",
       "      <td>0</td>\n",
       "      <td>2188.756445</td>\n",
       "      <td>41.0</td>\n",
       "      <td>secondary education</td>\n",
       "      <td>1</td>\n",
       "      <td>married</td>\n",
       "      <td>0</td>\n",
       "      <td>M</td>\n",
       "      <td>Below Median Days Employed</td>\n",
       "      <td>0</td>\n",
       "      <td>23108.150</td>\n",
       "      <td>purchase of the house for my family</td>\n",
       "      <td>middle-aged adults</td>\n",
       "      <td>Below Median Total Income</td>\n",
       "    </tr>\n",
       "    <tr>\n",
       "      <td>10</td>\n",
       "      <td>2</td>\n",
       "      <td>4171.483647</td>\n",
       "      <td>36.0</td>\n",
       "      <td>bachelor's degree</td>\n",
       "      <td>0</td>\n",
       "      <td>married</td>\n",
       "      <td>0</td>\n",
       "      <td>M</td>\n",
       "      <td>Above Median Days Employed</td>\n",
       "      <td>0</td>\n",
       "      <td>18230.959</td>\n",
       "      <td>buy real estate</td>\n",
       "      <td>middle-aged adults</td>\n",
       "      <td>Below Median Total Income</td>\n",
       "    </tr>\n",
       "    <tr>\n",
       "      <td>11</td>\n",
       "      <td>0</td>\n",
       "      <td>792.701887</td>\n",
       "      <td>40.0</td>\n",
       "      <td>secondary education</td>\n",
       "      <td>1</td>\n",
       "      <td>married</td>\n",
       "      <td>0</td>\n",
       "      <td>F</td>\n",
       "      <td>Below Median Days Employed</td>\n",
       "      <td>0</td>\n",
       "      <td>12331.077</td>\n",
       "      <td>buy commercial real estate</td>\n",
       "      <td>middle-aged adults</td>\n",
       "      <td>Below Median Total Income</td>\n",
       "    </tr>\n",
       "    <tr>\n",
       "      <td>13</td>\n",
       "      <td>0</td>\n",
       "      <td>1846.641941</td>\n",
       "      <td>54.0</td>\n",
       "      <td>some college</td>\n",
       "      <td>2</td>\n",
       "      <td>married</td>\n",
       "      <td>0</td>\n",
       "      <td>F</td>\n",
       "      <td>Below Median Days Employed</td>\n",
       "      <td>0</td>\n",
       "      <td>20873.317</td>\n",
       "      <td>car purchase</td>\n",
       "      <td>senior adults</td>\n",
       "      <td>Below Median Total Income</td>\n",
       "    </tr>\n",
       "    <tr>\n",
       "      <td>14</td>\n",
       "      <td>0</td>\n",
       "      <td>1844.956182</td>\n",
       "      <td>56.0</td>\n",
       "      <td>bachelor's degree</td>\n",
       "      <td>0</td>\n",
       "      <td>civil partnership</td>\n",
       "      <td>1</td>\n",
       "      <td>F</td>\n",
       "      <td>Below Median Days Employed</td>\n",
       "      <td>1</td>\n",
       "      <td>26420.466</td>\n",
       "      <td>buy residential real estate</td>\n",
       "      <td>senior adults</td>\n",
       "      <td>Above Median Total Income</td>\n",
       "    </tr>\n",
       "    <tr>\n",
       "      <td>15</td>\n",
       "      <td>1</td>\n",
       "      <td>972.364419</td>\n",
       "      <td>26.0</td>\n",
       "      <td>secondary education</td>\n",
       "      <td>1</td>\n",
       "      <td>married</td>\n",
       "      <td>0</td>\n",
       "      <td>F</td>\n",
       "      <td>Below Median Days Employed</td>\n",
       "      <td>0</td>\n",
       "      <td>18691.345</td>\n",
       "      <td>construction of own property</td>\n",
       "      <td>young adults</td>\n",
       "      <td>Below Median Total Income</td>\n",
       "    </tr>\n",
       "    <tr>\n",
       "      <td>16</td>\n",
       "      <td>0</td>\n",
       "      <td>1719.934226</td>\n",
       "      <td>35.0</td>\n",
       "      <td>secondary education</td>\n",
       "      <td>1</td>\n",
       "      <td>married</td>\n",
       "      <td>0</td>\n",
       "      <td>F</td>\n",
       "      <td>Below Median Days Employed</td>\n",
       "      <td>0</td>\n",
       "      <td>46272.433</td>\n",
       "      <td>property</td>\n",
       "      <td>middle-aged adults</td>\n",
       "      <td>Above Median Total Income</td>\n",
       "    </tr>\n",
       "    <tr>\n",
       "      <td>17</td>\n",
       "      <td>0</td>\n",
       "      <td>2369.999720</td>\n",
       "      <td>33.0</td>\n",
       "      <td>bachelor's degree</td>\n",
       "      <td>0</td>\n",
       "      <td>civil partnership</td>\n",
       "      <td>1</td>\n",
       "      <td>M</td>\n",
       "      <td>Above Median Days Employed</td>\n",
       "      <td>0</td>\n",
       "      <td>14465.694</td>\n",
       "      <td>building a property</td>\n",
       "      <td>middle-aged adults</td>\n",
       "      <td>Below Median Total Income</td>\n",
       "    </tr>\n",
       "    <tr>\n",
       "      <td>18</td>\n",
       "      <td>0</td>\n",
       "      <td>400281.136913</td>\n",
       "      <td>53.0</td>\n",
       "      <td>secondary education</td>\n",
       "      <td>1</td>\n",
       "      <td>widow / widower</td>\n",
       "      <td>2</td>\n",
       "      <td>F</td>\n",
       "      <td>Above Median Days Employed</td>\n",
       "      <td>0</td>\n",
       "      <td>9091.804</td>\n",
       "      <td>buying a second-hand car</td>\n",
       "      <td>senior adults</td>\n",
       "      <td>Below Median Total Income</td>\n",
       "    </tr>\n",
       "    <tr>\n",
       "      <td>19</td>\n",
       "      <td>0</td>\n",
       "      <td>10038.818549</td>\n",
       "      <td>48.0</td>\n",
       "      <td>secondary education</td>\n",
       "      <td>1</td>\n",
       "      <td>divorced</td>\n",
       "      <td>3</td>\n",
       "      <td>F</td>\n",
       "      <td>Above Median Days Employed</td>\n",
       "      <td>0</td>\n",
       "      <td>38852.977</td>\n",
       "      <td>buying my own car</td>\n",
       "      <td>middle-aged adults</td>\n",
       "      <td>Above Median Total Income</td>\n",
       "    </tr>\n",
       "    <tr>\n",
       "      <td>20</td>\n",
       "      <td>1</td>\n",
       "      <td>1311.604166</td>\n",
       "      <td>36.0</td>\n",
       "      <td>secondary education</td>\n",
       "      <td>1</td>\n",
       "      <td>married</td>\n",
       "      <td>0</td>\n",
       "      <td>M</td>\n",
       "      <td>Below Median Days Employed</td>\n",
       "      <td>0</td>\n",
       "      <td>33528.423</td>\n",
       "      <td>property</td>\n",
       "      <td>middle-aged adults</td>\n",
       "      <td>Above Median Total Income</td>\n",
       "    </tr>\n",
       "    <tr>\n",
       "      <td>21</td>\n",
       "      <td>1</td>\n",
       "      <td>253.685166</td>\n",
       "      <td>33.0</td>\n",
       "      <td>secondary education</td>\n",
       "      <td>1</td>\n",
       "      <td>civil partnership</td>\n",
       "      <td>1</td>\n",
       "      <td>F</td>\n",
       "      <td>Below Median Days Employed</td>\n",
       "      <td>0</td>\n",
       "      <td>21089.953</td>\n",
       "      <td>car purchase</td>\n",
       "      <td>middle-aged adults</td>\n",
       "      <td>Below Median Total Income</td>\n",
       "    </tr>\n",
       "    <tr>\n",
       "      <td>22</td>\n",
       "      <td>1</td>\n",
       "      <td>1766.644138</td>\n",
       "      <td>24.0</td>\n",
       "      <td>secondary education</td>\n",
       "      <td>1</td>\n",
       "      <td>civil partnership</td>\n",
       "      <td>1</td>\n",
       "      <td>F</td>\n",
       "      <td>Below Median Days Employed</td>\n",
       "      <td>0</td>\n",
       "      <td>23948.983</td>\n",
       "      <td>buying a second-hand car</td>\n",
       "      <td>young adults</td>\n",
       "      <td>Above Median Total Income</td>\n",
       "    </tr>\n",
       "    <tr>\n",
       "      <td>23</td>\n",
       "      <td>0</td>\n",
       "      <td>272.981385</td>\n",
       "      <td>21.0</td>\n",
       "      <td>bachelor's degree</td>\n",
       "      <td>0</td>\n",
       "      <td>civil partnership</td>\n",
       "      <td>1</td>\n",
       "      <td>M</td>\n",
       "      <td>Below Median Days Employed</td>\n",
       "      <td>0</td>\n",
       "      <td>20522.515</td>\n",
       "      <td>to have a wedding</td>\n",
       "      <td>young adults</td>\n",
       "      <td>Below Median Total Income</td>\n",
       "    </tr>\n",
       "    <tr>\n",
       "      <td>24</td>\n",
       "      <td>1</td>\n",
       "      <td>338551.952911</td>\n",
       "      <td>57.0</td>\n",
       "      <td>secondary education</td>\n",
       "      <td>1</td>\n",
       "      <td>unmarried</td>\n",
       "      <td>4</td>\n",
       "      <td>F</td>\n",
       "      <td>Above Median Days Employed</td>\n",
       "      <td>0</td>\n",
       "      <td>46487.558</td>\n",
       "      <td>transactions with commercial real estate</td>\n",
       "      <td>senior adults</td>\n",
       "      <td>Above Median Total Income</td>\n",
       "    </tr>\n",
       "    <tr>\n",
       "      <td>25</td>\n",
       "      <td>0</td>\n",
       "      <td>363548.489348</td>\n",
       "      <td>67.0</td>\n",
       "      <td>secondary education</td>\n",
       "      <td>1</td>\n",
       "      <td>married</td>\n",
       "      <td>0</td>\n",
       "      <td>M</td>\n",
       "      <td>Above Median Days Employed</td>\n",
       "      <td>0</td>\n",
       "      <td>8818.041</td>\n",
       "      <td>buy real estate</td>\n",
       "      <td>senior adults</td>\n",
       "      <td>Below Median Total Income</td>\n",
       "    </tr>\n",
       "    <tr>\n",
       "      <td>27</td>\n",
       "      <td>0</td>\n",
       "      <td>529.191635</td>\n",
       "      <td>28.0</td>\n",
       "      <td>bachelor's degree</td>\n",
       "      <td>0</td>\n",
       "      <td>married</td>\n",
       "      <td>0</td>\n",
       "      <td>M</td>\n",
       "      <td>Below Median Days Employed</td>\n",
       "      <td>0</td>\n",
       "      <td>49415.837</td>\n",
       "      <td>construction of own property</td>\n",
       "      <td>young adults</td>\n",
       "      <td>Above Median Total Income</td>\n",
       "    </tr>\n",
       "    <tr>\n",
       "      <td>28</td>\n",
       "      <td>1</td>\n",
       "      <td>717.274324</td>\n",
       "      <td>26.0</td>\n",
       "      <td>bachelor's degree</td>\n",
       "      <td>0</td>\n",
       "      <td>married</td>\n",
       "      <td>0</td>\n",
       "      <td>F</td>\n",
       "      <td>Below Median Days Employed</td>\n",
       "      <td>0</td>\n",
       "      <td>30058.118</td>\n",
       "      <td>construction of own property</td>\n",
       "      <td>young adults</td>\n",
       "      <td>Above Median Total Income</td>\n",
       "    </tr>\n",
       "    <tr>\n",
       "      <td>30</td>\n",
       "      <td>1</td>\n",
       "      <td>335581.668515</td>\n",
       "      <td>62.0</td>\n",
       "      <td>secondary education</td>\n",
       "      <td>1</td>\n",
       "      <td>married</td>\n",
       "      <td>0</td>\n",
       "      <td>F</td>\n",
       "      <td>Above Median Days Employed</td>\n",
       "      <td>0</td>\n",
       "      <td>27432.971</td>\n",
       "      <td>transactions with commercial real estate</td>\n",
       "      <td>senior adults</td>\n",
       "      <td>Above Median Total Income</td>\n",
       "    </tr>\n",
       "    <tr>\n",
       "      <td>31</td>\n",
       "      <td>0</td>\n",
       "      <td>1682.083438</td>\n",
       "      <td>47.0</td>\n",
       "      <td>primary education</td>\n",
       "      <td>3</td>\n",
       "      <td>married</td>\n",
       "      <td>0</td>\n",
       "      <td>F</td>\n",
       "      <td>Below Median Days Employed</td>\n",
       "      <td>0</td>\n",
       "      <td>44077.710</td>\n",
       "      <td>housing</td>\n",
       "      <td>middle-aged adults</td>\n",
       "      <td>Above Median Total Income</td>\n",
       "    </tr>\n",
       "    <tr>\n",
       "      <td>32</td>\n",
       "      <td>0</td>\n",
       "      <td>4649.910832</td>\n",
       "      <td>34.0</td>\n",
       "      <td>secondary education</td>\n",
       "      <td>1</td>\n",
       "      <td>civil partnership</td>\n",
       "      <td>1</td>\n",
       "      <td>F</td>\n",
       "      <td>Above Median Days Employed</td>\n",
       "      <td>1</td>\n",
       "      <td>22249.194</td>\n",
       "      <td>having a wedding</td>\n",
       "      <td>middle-aged adults</td>\n",
       "      <td>Below Median Total Income</td>\n",
       "    </tr>\n",
       "    <tr>\n",
       "      <td>33</td>\n",
       "      <td>0</td>\n",
       "      <td>1548.637544</td>\n",
       "      <td>48.0</td>\n",
       "      <td>secondary education</td>\n",
       "      <td>1</td>\n",
       "      <td>married</td>\n",
       "      <td>0</td>\n",
       "      <td>F</td>\n",
       "      <td>Below Median Days Employed</td>\n",
       "      <td>0</td>\n",
       "      <td>25159.326</td>\n",
       "      <td>purchase of the house</td>\n",
       "      <td>middle-aged adults</td>\n",
       "      <td>Above Median Total Income</td>\n",
       "    </tr>\n",
       "    <tr>\n",
       "      <td>34</td>\n",
       "      <td>0</td>\n",
       "      <td>4488.067031</td>\n",
       "      <td>35.0</td>\n",
       "      <td>secondary education</td>\n",
       "      <td>1</td>\n",
       "      <td>married</td>\n",
       "      <td>0</td>\n",
       "      <td>F</td>\n",
       "      <td>Above Median Days Employed</td>\n",
       "      <td>0</td>\n",
       "      <td>16745.672</td>\n",
       "      <td>transactions with my real estate</td>\n",
       "      <td>middle-aged adults</td>\n",
       "      <td>Below Median Total Income</td>\n",
       "    </tr>\n",
       "    <tr>\n",
       "      <td>35</td>\n",
       "      <td>0</td>\n",
       "      <td>394021.072184</td>\n",
       "      <td>68.0</td>\n",
       "      <td>secondary education</td>\n",
       "      <td>1</td>\n",
       "      <td>civil partnership</td>\n",
       "      <td>1</td>\n",
       "      <td>M</td>\n",
       "      <td>Above Median Days Employed</td>\n",
       "      <td>0</td>\n",
       "      <td>12448.908</td>\n",
       "      <td>having a wedding</td>\n",
       "      <td>senior adults</td>\n",
       "      <td>Below Median Total Income</td>\n",
       "    </tr>\n",
       "    <tr>\n",
       "      <td>36</td>\n",
       "      <td>0</td>\n",
       "      <td>176.216688</td>\n",
       "      <td>33.0</td>\n",
       "      <td>secondary education</td>\n",
       "      <td>1</td>\n",
       "      <td>unmarried</td>\n",
       "      <td>4</td>\n",
       "      <td>M</td>\n",
       "      <td>Below Median Days Employed</td>\n",
       "      <td>0</td>\n",
       "      <td>22212.904</td>\n",
       "      <td>cars</td>\n",
       "      <td>middle-aged adults</td>\n",
       "      <td>Below Median Total Income</td>\n",
       "    </tr>\n",
       "    <tr>\n",
       "      <td>37</td>\n",
       "      <td>0</td>\n",
       "      <td>6448.810860</td>\n",
       "      <td>43.0</td>\n",
       "      <td>bachelor's degree</td>\n",
       "      <td>0</td>\n",
       "      <td>civil partnership</td>\n",
       "      <td>1</td>\n",
       "      <td>F</td>\n",
       "      <td>Above Median Days Employed</td>\n",
       "      <td>0</td>\n",
       "      <td>24660.621</td>\n",
       "      <td>car purchase</td>\n",
       "      <td>middle-aged adults</td>\n",
       "      <td>Above Median Total Income</td>\n",
       "    </tr>\n",
       "    <tr>\n",
       "      <td>38</td>\n",
       "      <td>0</td>\n",
       "      <td>597.881827</td>\n",
       "      <td>25.0</td>\n",
       "      <td>bachelor's degree</td>\n",
       "      <td>0</td>\n",
       "      <td>unmarried</td>\n",
       "      <td>4</td>\n",
       "      <td>M</td>\n",
       "      <td>Below Median Days Employed</td>\n",
       "      <td>1</td>\n",
       "      <td>30759.568</td>\n",
       "      <td>education</td>\n",
       "      <td>young adults</td>\n",
       "      <td>Above Median Total Income</td>\n",
       "    </tr>\n",
       "    <tr>\n",
       "      <td>39</td>\n",
       "      <td>0</td>\n",
       "      <td>650.587796</td>\n",
       "      <td>31.0</td>\n",
       "      <td>bachelor's degree</td>\n",
       "      <td>0</td>\n",
       "      <td>civil partnership</td>\n",
       "      <td>1</td>\n",
       "      <td>F</td>\n",
       "      <td>Below Median Days Employed</td>\n",
       "      <td>0</td>\n",
       "      <td>120678.528</td>\n",
       "      <td>to become educated</td>\n",
       "      <td>middle-aged adults</td>\n",
       "      <td>Above Median Total Income</td>\n",
       "    </tr>\n",
       "    <tr>\n",
       "      <td>40</td>\n",
       "      <td>0</td>\n",
       "      <td>1030.362606</td>\n",
       "      <td>30.0</td>\n",
       "      <td>secondary education</td>\n",
       "      <td>1</td>\n",
       "      <td>unmarried</td>\n",
       "      <td>4</td>\n",
       "      <td>M</td>\n",
       "      <td>Below Median Days Employed</td>\n",
       "      <td>0</td>\n",
       "      <td>22858.493</td>\n",
       "      <td>buy real estate</td>\n",
       "      <td>young adults</td>\n",
       "      <td>Below Median Total Income</td>\n",
       "    </tr>\n",
       "    <tr>\n",
       "      <td>42</td>\n",
       "      <td>0</td>\n",
       "      <td>1257.496190</td>\n",
       "      <td>20.0</td>\n",
       "      <td>some college</td>\n",
       "      <td>2</td>\n",
       "      <td>unmarried</td>\n",
       "      <td>4</td>\n",
       "      <td>F</td>\n",
       "      <td>Below Median Days Employed</td>\n",
       "      <td>0</td>\n",
       "      <td>13130.414</td>\n",
       "      <td>getting an education</td>\n",
       "      <td>young adults</td>\n",
       "      <td>Below Median Total Income</td>\n",
       "    </tr>\n",
       "    <tr>\n",
       "      <td>43</td>\n",
       "      <td>0</td>\n",
       "      <td>4375.681384</td>\n",
       "      <td>43.0</td>\n",
       "      <td>some college</td>\n",
       "      <td>2</td>\n",
       "      <td>divorced</td>\n",
       "      <td>3</td>\n",
       "      <td>F</td>\n",
       "      <td>Above Median Days Employed</td>\n",
       "      <td>0</td>\n",
       "      <td>43673.141</td>\n",
       "      <td>car purchase</td>\n",
       "      <td>middle-aged adults</td>\n",
       "      <td>Above Median Total Income</td>\n",
       "    </tr>\n",
       "    <tr>\n",
       "      <td>44</td>\n",
       "      <td>1</td>\n",
       "      <td>1362.041728</td>\n",
       "      <td>26.0</td>\n",
       "      <td>secondary education</td>\n",
       "      <td>1</td>\n",
       "      <td>married</td>\n",
       "      <td>0</td>\n",
       "      <td>F</td>\n",
       "      <td>Below Median Days Employed</td>\n",
       "      <td>0</td>\n",
       "      <td>16124.879</td>\n",
       "      <td>buying my own car</td>\n",
       "      <td>young adults</td>\n",
       "      <td>Below Median Total Income</td>\n",
       "    </tr>\n",
       "    <tr>\n",
       "      <td>45</td>\n",
       "      <td>1</td>\n",
       "      <td>1039.451741</td>\n",
       "      <td>49.0</td>\n",
       "      <td>secondary education</td>\n",
       "      <td>1</td>\n",
       "      <td>unmarried</td>\n",
       "      <td>4</td>\n",
       "      <td>F</td>\n",
       "      <td>Below Median Days Employed</td>\n",
       "      <td>0</td>\n",
       "      <td>17021.747</td>\n",
       "      <td>to become educated</td>\n",
       "      <td>middle-aged adults</td>\n",
       "      <td>Below Median Total Income</td>\n",
       "    </tr>\n",
       "    <tr>\n",
       "      <td>46</td>\n",
       "      <td>2</td>\n",
       "      <td>2262.712304</td>\n",
       "      <td>37.0</td>\n",
       "      <td>secondary education</td>\n",
       "      <td>1</td>\n",
       "      <td>married</td>\n",
       "      <td>0</td>\n",
       "      <td>F</td>\n",
       "      <td>Above Median Days Employed</td>\n",
       "      <td>0</td>\n",
       "      <td>29229.194</td>\n",
       "      <td>second-hand car purchase</td>\n",
       "      <td>middle-aged adults</td>\n",
       "      <td>Above Median Total Income</td>\n",
       "    </tr>\n",
       "    <tr>\n",
       "      <td>47</td>\n",
       "      <td>1</td>\n",
       "      <td>2689.137274</td>\n",
       "      <td>33.0</td>\n",
       "      <td>bachelor's degree</td>\n",
       "      <td>0</td>\n",
       "      <td>civil partnership</td>\n",
       "      <td>1</td>\n",
       "      <td>M</td>\n",
       "      <td>Above Median Days Employed</td>\n",
       "      <td>0</td>\n",
       "      <td>57004.465</td>\n",
       "      <td>having a wedding</td>\n",
       "      <td>middle-aged adults</td>\n",
       "      <td>Above Median Total Income</td>\n",
       "    </tr>\n",
       "    <tr>\n",
       "      <td>48</td>\n",
       "      <td>0</td>\n",
       "      <td>3341.067886</td>\n",
       "      <td>45.0</td>\n",
       "      <td>secondary education</td>\n",
       "      <td>1</td>\n",
       "      <td>married</td>\n",
       "      <td>0</td>\n",
       "      <td>F</td>\n",
       "      <td>Above Median Days Employed</td>\n",
       "      <td>0</td>\n",
       "      <td>25930.483</td>\n",
       "      <td>construction of own property</td>\n",
       "      <td>middle-aged adults</td>\n",
       "      <td>Above Median Total Income</td>\n",
       "    </tr>\n",
       "    <tr>\n",
       "      <td>49</td>\n",
       "      <td>0</td>\n",
       "      <td>1181.443228</td>\n",
       "      <td>54.0</td>\n",
       "      <td>secondary education</td>\n",
       "      <td>1</td>\n",
       "      <td>married</td>\n",
       "      <td>0</td>\n",
       "      <td>F</td>\n",
       "      <td>Below Median Days Employed</td>\n",
       "      <td>0</td>\n",
       "      <td>7134.689</td>\n",
       "      <td>car</td>\n",
       "      <td>senior adults</td>\n",
       "      <td>Below Median Total Income</td>\n",
       "    </tr>\n",
       "    <tr>\n",
       "      <td>50</td>\n",
       "      <td>0</td>\n",
       "      <td>353731.432338</td>\n",
       "      <td>63.0</td>\n",
       "      <td>secondary education</td>\n",
       "      <td>1</td>\n",
       "      <td>married</td>\n",
       "      <td>0</td>\n",
       "      <td>F</td>\n",
       "      <td>Above Median Days Employed</td>\n",
       "      <td>0</td>\n",
       "      <td>14774.837</td>\n",
       "      <td>cars</td>\n",
       "      <td>senior adults</td>\n",
       "      <td>Below Median Total Income</td>\n",
       "    </tr>\n",
       "    <tr>\n",
       "      <td>51</td>\n",
       "      <td>1</td>\n",
       "      <td>6953.631655</td>\n",
       "      <td>50.0</td>\n",
       "      <td>bachelor's degree</td>\n",
       "      <td>0</td>\n",
       "      <td>civil partnership</td>\n",
       "      <td>1</td>\n",
       "      <td>F</td>\n",
       "      <td>Above Median Days Employed</td>\n",
       "      <td>0</td>\n",
       "      <td>32511.949</td>\n",
       "      <td>wedding ceremony</td>\n",
       "      <td>middle-aged adults</td>\n",
       "      <td>Above Median Total Income</td>\n",
       "    </tr>\n",
       "    <tr>\n",
       "      <td>52</td>\n",
       "      <td>1</td>\n",
       "      <td>3554.671526</td>\n",
       "      <td>28.0</td>\n",
       "      <td>secondary education</td>\n",
       "      <td>1</td>\n",
       "      <td>married</td>\n",
       "      <td>0</td>\n",
       "      <td>F</td>\n",
       "      <td>Above Median Days Employed</td>\n",
       "      <td>0</td>\n",
       "      <td>8439.428</td>\n",
       "      <td>to get a supplementary education</td>\n",
       "      <td>young adults</td>\n",
       "      <td>Below Median Total Income</td>\n",
       "    </tr>\n",
       "    <tr>\n",
       "      <td>53</td>\n",
       "      <td>0</td>\n",
       "      <td>4219.883386</td>\n",
       "      <td>61.0</td>\n",
       "      <td>secondary education</td>\n",
       "      <td>1</td>\n",
       "      <td>divorced</td>\n",
       "      <td>3</td>\n",
       "      <td>F</td>\n",
       "      <td>Above Median Days Employed</td>\n",
       "      <td>0</td>\n",
       "      <td>49832.576</td>\n",
       "      <td>purchase of my own house</td>\n",
       "      <td>senior adults</td>\n",
       "      <td>Above Median Total Income</td>\n",
       "    </tr>\n",
       "  </tbody>\n",
       "</table>\n",
       "</div>"
      ],
      "text/plain": [
       "    children  days_employed  dob_years            education  education_id  \\\n",
       "0          1    8437.673028       42.0    bachelor's degree             0   \n",
       "1          1    4024.803754       36.0  secondary education             1   \n",
       "2          0    5623.422610       33.0  secondary education             1   \n",
       "3          3    4124.747207       32.0  secondary education             1   \n",
       "4          0  340266.072047       53.0  secondary education             1   \n",
       "5          0     926.185831       27.0    bachelor's degree             0   \n",
       "6          0    2879.202052       43.0    bachelor's degree             0   \n",
       "7          0     152.779569       50.0  secondary education             1   \n",
       "8          2    6929.865299       35.0    bachelor's degree             0   \n",
       "9          0    2188.756445       41.0  secondary education             1   \n",
       "10         2    4171.483647       36.0    bachelor's degree             0   \n",
       "11         0     792.701887       40.0  secondary education             1   \n",
       "13         0    1846.641941       54.0         some college             2   \n",
       "14         0    1844.956182       56.0    bachelor's degree             0   \n",
       "15         1     972.364419       26.0  secondary education             1   \n",
       "16         0    1719.934226       35.0  secondary education             1   \n",
       "17         0    2369.999720       33.0    bachelor's degree             0   \n",
       "18         0  400281.136913       53.0  secondary education             1   \n",
       "19         0   10038.818549       48.0  secondary education             1   \n",
       "20         1    1311.604166       36.0  secondary education             1   \n",
       "21         1     253.685166       33.0  secondary education             1   \n",
       "22         1    1766.644138       24.0  secondary education             1   \n",
       "23         0     272.981385       21.0    bachelor's degree             0   \n",
       "24         1  338551.952911       57.0  secondary education             1   \n",
       "25         0  363548.489348       67.0  secondary education             1   \n",
       "27         0     529.191635       28.0    bachelor's degree             0   \n",
       "28         1     717.274324       26.0    bachelor's degree             0   \n",
       "30         1  335581.668515       62.0  secondary education             1   \n",
       "31         0    1682.083438       47.0    primary education             3   \n",
       "32         0    4649.910832       34.0  secondary education             1   \n",
       "33         0    1548.637544       48.0  secondary education             1   \n",
       "34         0    4488.067031       35.0  secondary education             1   \n",
       "35         0  394021.072184       68.0  secondary education             1   \n",
       "36         0     176.216688       33.0  secondary education             1   \n",
       "37         0    6448.810860       43.0    bachelor's degree             0   \n",
       "38         0     597.881827       25.0    bachelor's degree             0   \n",
       "39         0     650.587796       31.0    bachelor's degree             0   \n",
       "40         0    1030.362606       30.0  secondary education             1   \n",
       "42         0    1257.496190       20.0         some college             2   \n",
       "43         0    4375.681384       43.0         some college             2   \n",
       "44         1    1362.041728       26.0  secondary education             1   \n",
       "45         1    1039.451741       49.0  secondary education             1   \n",
       "46         2    2262.712304       37.0  secondary education             1   \n",
       "47         1    2689.137274       33.0    bachelor's degree             0   \n",
       "48         0    3341.067886       45.0  secondary education             1   \n",
       "49         0    1181.443228       54.0  secondary education             1   \n",
       "50         0  353731.432338       63.0  secondary education             1   \n",
       "51         1    6953.631655       50.0    bachelor's degree             0   \n",
       "52         1    3554.671526       28.0  secondary education             1   \n",
       "53         0    4219.883386       61.0  secondary education             1   \n",
       "\n",
       "        family_status  family_status_id gender                 income_type  \\\n",
       "0             married                 0      F  Above Median Days Employed   \n",
       "1             married                 0      F  Above Median Days Employed   \n",
       "2             married                 0      M  Above Median Days Employed   \n",
       "3             married                 0      M  Above Median Days Employed   \n",
       "4   civil partnership                 1      F  Above Median Days Employed   \n",
       "5   civil partnership                 1      M  Below Median Days Employed   \n",
       "6             married                 0      F  Above Median Days Employed   \n",
       "7             married                 0      M  Below Median Days Employed   \n",
       "8   civil partnership                 1      F  Above Median Days Employed   \n",
       "9             married                 0      M  Below Median Days Employed   \n",
       "10            married                 0      M  Above Median Days Employed   \n",
       "11            married                 0      F  Below Median Days Employed   \n",
       "13            married                 0      F  Below Median Days Employed   \n",
       "14  civil partnership                 1      F  Below Median Days Employed   \n",
       "15            married                 0      F  Below Median Days Employed   \n",
       "16            married                 0      F  Below Median Days Employed   \n",
       "17  civil partnership                 1      M  Above Median Days Employed   \n",
       "18    widow / widower                 2      F  Above Median Days Employed   \n",
       "19           divorced                 3      F  Above Median Days Employed   \n",
       "20            married                 0      M  Below Median Days Employed   \n",
       "21  civil partnership                 1      F  Below Median Days Employed   \n",
       "22  civil partnership                 1      F  Below Median Days Employed   \n",
       "23  civil partnership                 1      M  Below Median Days Employed   \n",
       "24          unmarried                 4      F  Above Median Days Employed   \n",
       "25            married                 0      M  Above Median Days Employed   \n",
       "27            married                 0      M  Below Median Days Employed   \n",
       "28            married                 0      F  Below Median Days Employed   \n",
       "30            married                 0      F  Above Median Days Employed   \n",
       "31            married                 0      F  Below Median Days Employed   \n",
       "32  civil partnership                 1      F  Above Median Days Employed   \n",
       "33            married                 0      F  Below Median Days Employed   \n",
       "34            married                 0      F  Above Median Days Employed   \n",
       "35  civil partnership                 1      M  Above Median Days Employed   \n",
       "36          unmarried                 4      M  Below Median Days Employed   \n",
       "37  civil partnership                 1      F  Above Median Days Employed   \n",
       "38          unmarried                 4      M  Below Median Days Employed   \n",
       "39  civil partnership                 1      F  Below Median Days Employed   \n",
       "40          unmarried                 4      M  Below Median Days Employed   \n",
       "42          unmarried                 4      F  Below Median Days Employed   \n",
       "43           divorced                 3      F  Above Median Days Employed   \n",
       "44            married                 0      F  Below Median Days Employed   \n",
       "45          unmarried                 4      F  Below Median Days Employed   \n",
       "46            married                 0      F  Above Median Days Employed   \n",
       "47  civil partnership                 1      M  Above Median Days Employed   \n",
       "48            married                 0      F  Above Median Days Employed   \n",
       "49            married                 0      F  Below Median Days Employed   \n",
       "50            married                 0      F  Above Median Days Employed   \n",
       "51  civil partnership                 1      F  Above Median Days Employed   \n",
       "52            married                 0      F  Above Median Days Employed   \n",
       "53           divorced                 3      F  Above Median Days Employed   \n",
       "\n",
       "    debt  total_income                                   purpose  \\\n",
       "0      0     40620.102                     purchase of the house   \n",
       "1      0     17932.802                              car purchase   \n",
       "2      0     23341.752                     purchase of the house   \n",
       "3      0     42820.568                   supplementary education   \n",
       "4      0     25378.572                         to have a wedding   \n",
       "5      0     40922.170                     purchase of the house   \n",
       "6      0     38484.156                      housing transactions   \n",
       "7      0     21731.829                                 education   \n",
       "8      0     15337.093                          having a wedding   \n",
       "9      0     23108.150       purchase of the house for my family   \n",
       "10     0     18230.959                           buy real estate   \n",
       "11     0     12331.077                buy commercial real estate   \n",
       "13     0     20873.317                              car purchase   \n",
       "14     1     26420.466               buy residential real estate   \n",
       "15     0     18691.345              construction of own property   \n",
       "16     0     46272.433                                  property   \n",
       "17     0     14465.694                       building a property   \n",
       "18     0      9091.804                  buying a second-hand car   \n",
       "19     0     38852.977                         buying my own car   \n",
       "20     0     33528.423                                  property   \n",
       "21     0     21089.953                              car purchase   \n",
       "22     0     23948.983                  buying a second-hand car   \n",
       "23     0     20522.515                         to have a wedding   \n",
       "24     0     46487.558  transactions with commercial real estate   \n",
       "25     0      8818.041                           buy real estate   \n",
       "27     0     49415.837              construction of own property   \n",
       "28     0     30058.118              construction of own property   \n",
       "30     0     27432.971  transactions with commercial real estate   \n",
       "31     0     44077.710                                   housing   \n",
       "32     1     22249.194                          having a wedding   \n",
       "33     0     25159.326                     purchase of the house   \n",
       "34     0     16745.672          transactions with my real estate   \n",
       "35     0     12448.908                          having a wedding   \n",
       "36     0     22212.904                                      cars   \n",
       "37     0     24660.621                              car purchase   \n",
       "38     1     30759.568                                 education   \n",
       "39     0    120678.528                        to become educated   \n",
       "40     0     22858.493                           buy real estate   \n",
       "42     0     13130.414                      getting an education   \n",
       "43     0     43673.141                              car purchase   \n",
       "44     0     16124.879                         buying my own car   \n",
       "45     0     17021.747                        to become educated   \n",
       "46     0     29229.194                  second-hand car purchase   \n",
       "47     0     57004.465                          having a wedding   \n",
       "48     0     25930.483              construction of own property   \n",
       "49     0      7134.689                                       car   \n",
       "50     0     14774.837                                      cars   \n",
       "51     0     32511.949                          wedding ceremony   \n",
       "52     0      8439.428          to get a supplementary education   \n",
       "53     0     49832.576                  purchase of my own house   \n",
       "\n",
       "             age_group              median_income  \n",
       "0   middle-aged adults  Above Median Total Income  \n",
       "1   middle-aged adults  Below Median Total Income  \n",
       "2   middle-aged adults  Above Median Total Income  \n",
       "3   middle-aged adults  Above Median Total Income  \n",
       "4        senior adults  Above Median Total Income  \n",
       "5         young adults  Above Median Total Income  \n",
       "6   middle-aged adults  Above Median Total Income  \n",
       "7   middle-aged adults  Below Median Total Income  \n",
       "8   middle-aged adults  Below Median Total Income  \n",
       "9   middle-aged adults  Below Median Total Income  \n",
       "10  middle-aged adults  Below Median Total Income  \n",
       "11  middle-aged adults  Below Median Total Income  \n",
       "13       senior adults  Below Median Total Income  \n",
       "14       senior adults  Above Median Total Income  \n",
       "15        young adults  Below Median Total Income  \n",
       "16  middle-aged adults  Above Median Total Income  \n",
       "17  middle-aged adults  Below Median Total Income  \n",
       "18       senior adults  Below Median Total Income  \n",
       "19  middle-aged adults  Above Median Total Income  \n",
       "20  middle-aged adults  Above Median Total Income  \n",
       "21  middle-aged adults  Below Median Total Income  \n",
       "22        young adults  Above Median Total Income  \n",
       "23        young adults  Below Median Total Income  \n",
       "24       senior adults  Above Median Total Income  \n",
       "25       senior adults  Below Median Total Income  \n",
       "27        young adults  Above Median Total Income  \n",
       "28        young adults  Above Median Total Income  \n",
       "30       senior adults  Above Median Total Income  \n",
       "31  middle-aged adults  Above Median Total Income  \n",
       "32  middle-aged adults  Below Median Total Income  \n",
       "33  middle-aged adults  Above Median Total Income  \n",
       "34  middle-aged adults  Below Median Total Income  \n",
       "35       senior adults  Below Median Total Income  \n",
       "36  middle-aged adults  Below Median Total Income  \n",
       "37  middle-aged adults  Above Median Total Income  \n",
       "38        young adults  Above Median Total Income  \n",
       "39  middle-aged adults  Above Median Total Income  \n",
       "40        young adults  Below Median Total Income  \n",
       "42        young adults  Below Median Total Income  \n",
       "43  middle-aged adults  Above Median Total Income  \n",
       "44        young adults  Below Median Total Income  \n",
       "45  middle-aged adults  Below Median Total Income  \n",
       "46  middle-aged adults  Above Median Total Income  \n",
       "47  middle-aged adults  Above Median Total Income  \n",
       "48  middle-aged adults  Above Median Total Income  \n",
       "49       senior adults  Below Median Total Income  \n",
       "50       senior adults  Below Median Total Income  \n",
       "51  middle-aged adults  Above Median Total Income  \n",
       "52        young adults  Below Median Total Income  \n",
       "53       senior adults  Above Median Total Income  "
      ]
     },
     "execution_count": 61,
     "metadata": {},
     "output_type": "execute_result"
    }
   ],
   "source": [
    "# Check if function worked\n",
    "df.head(50)"
   ]
  },
  {
   "cell_type": "code",
   "execution_count": 62,
   "metadata": {},
   "outputs": [],
   "source": [
    "# Replacing missing values\n",
    "df['days_employed'].fillna(value=days_median,inplace=True)"
   ]
  },
  {
   "cell_type": "markdown",
   "metadata": {},
   "source": [
    "Checking to see that the total number of values in this column matches the number of values in other ones:"
   ]
  },
  {
   "cell_type": "code",
   "execution_count": 63,
   "metadata": {},
   "outputs": [
    {
     "name": "stdout",
     "output_type": "stream",
     "text": [
      "<class 'pandas.core.frame.DataFrame'>\n",
      "Int64Index: 19350 entries, 0 to 21524\n",
      "Data columns (total 14 columns):\n",
      "children            19350 non-null int64\n",
      "days_employed       19350 non-null float64\n",
      "dob_years           19350 non-null float64\n",
      "education           19350 non-null object\n",
      "education_id        19350 non-null int64\n",
      "family_status       19350 non-null object\n",
      "family_status_id    19350 non-null int64\n",
      "gender              19350 non-null object\n",
      "income_type         19350 non-null object\n",
      "debt                19350 non-null int64\n",
      "total_income        19350 non-null float64\n",
      "purpose             19350 non-null object\n",
      "age_group           19350 non-null object\n",
      "median_income       19350 non-null object\n",
      "dtypes: float64(3), int64(4), object(7)\n",
      "memory usage: 2.2+ MB\n"
     ]
    }
   ],
   "source": [
    "df.info()"
   ]
  },
  {
   "cell_type": "markdown",
   "metadata": {},
   "source": [
    "## Categorization of data\n",
    "\n",
    "Our project objective is to prepare a report for a bank’s loan division. I am asked to find out if a customer’s marital status and number of children have an impact on whether they will default on a loan. In addition, checking the customer's total income and their loan purpose would also be crucial in evaluating one's credit-worthiness. \n",
    "\n",
    "I chose these four values for further investigation. Family_status and children have been treated prior and already makes sense in terms of categorization. Therefore, I will focus on categorizing loan purpose and total income. "
   ]
  },
  {
   "cell_type": "code",
   "execution_count": 64,
   "metadata": {
    "scrolled": true
   },
   "outputs": [
    {
     "name": "stdout",
     "output_type": "stream",
     "text": [
      "       children      family_status                  purpose  total_income\n",
      "0             1            married    purchase of the house     40620.102\n",
      "1             1            married             car purchase     17932.802\n",
      "2             0            married    purchase of the house     23341.752\n",
      "3             3            married  supplementary education     42820.568\n",
      "4             0  civil partnership        to have a wedding     25378.572\n",
      "...         ...                ...                      ...           ...\n",
      "21520         1  civil partnership     housing transactions     35966.698\n",
      "21521         0            married        purchase of a car     24959.969\n",
      "21522         1  civil partnership                 property     14347.610\n",
      "21523         3            married        buying my own car     39054.888\n",
      "21524         2            married             to buy a car     13127.587\n",
      "\n",
      "[19350 rows x 4 columns]\n"
     ]
    }
   ],
   "source": [
    "# Print the values for your selected data for categorization\n",
    "# children, family_status, total_income, purpose \n",
    "print(df[['children', 'family_status', 'purpose', 'total_income']])"
   ]
  },
  {
   "cell_type": "code",
   "execution_count": 65,
   "metadata": {
    "scrolled": false
   },
   "outputs": [
    {
     "data": {
      "text/plain": [
       "married              11143\n",
       "civil partnership     3734\n",
       "unmarried             2525\n",
       "divorced              1083\n",
       "widow / widower        865\n",
       "Name: family_status, dtype: int64"
      ]
     },
     "execution_count": 65,
     "metadata": {},
     "output_type": "execute_result"
    }
   ],
   "source": [
    "df['family_status'].value_counts()"
   ]
  },
  {
   "cell_type": "code",
   "execution_count": 66,
   "metadata": {
    "scrolled": true
   },
   "outputs": [
    {
     "data": {
      "text/plain": [
       "wedding ceremony                            721\n",
       "to have a wedding                           693\n",
       "having a wedding                            685\n",
       "real estate transactions                    615\n",
       "buy commercial real estate                  597\n",
       "purchase of the house                       595\n",
       "buying property for renting out             588\n",
       "housing                                     587\n",
       "transactions with commercial real estate    581\n",
       "building a real estate                      580\n",
       "housing transactions                        579\n",
       "purchase of my own house                    574\n",
       "property                                    572\n",
       "purchase of the house for my family         570\n",
       "building a property                         561\n",
       "construction of own property                560\n",
       "transactions with my real estate            559\n",
       "buy real estate                             551\n",
       "buy residential real estate                 546\n",
       "housing renovation                          542\n",
       "car                                         454\n",
       "buying my own car                           452\n",
       "to buy a car                                442\n",
       "going to university                         440\n",
       "buying a second-hand car                    437\n",
       "second-hand car purchase                    435\n",
       "to own a car                                428\n",
       "cars                                        421\n",
       "car purchase                                419\n",
       "supplementary education                     414\n",
       "university education                        413\n",
       "purchase of a car                           409\n",
       "education                                   405\n",
       "to get a supplementary education            396\n",
       "getting an education                        393\n",
       "getting higher education                    390\n",
       "profile education                           389\n",
       "to become educated                          357\n",
       "Name: purpose, dtype: int64"
      ]
     },
     "execution_count": 66,
     "metadata": {},
     "output_type": "execute_result"
    }
   ],
   "source": [
    "df['purpose'].value_counts()"
   ]
  },
  {
   "cell_type": "code",
   "execution_count": 67,
   "metadata": {},
   "outputs": [
    {
     "data": {
      "text/plain": [
       "count     19350.000000\n",
       "mean      26787.266688\n",
       "std       16475.822926\n",
       "min        3306.762000\n",
       "25%       16486.515250\n",
       "50%       23201.873500\n",
       "75%       32547.910750\n",
       "max      362496.645000\n",
       "Name: total_income, dtype: float64"
      ]
     },
     "execution_count": 67,
     "metadata": {},
     "output_type": "execute_result"
    }
   ],
   "source": [
    "df['total_income'].describe()"
   ]
  },
  {
   "cell_type": "markdown",
   "metadata": {},
   "source": [
    "I would like to categorize the Purpose category into several broad ones:\n",
    "1. Housing\n",
    "2. Car\n",
    "3. Education\n",
    "4. Marriage\n",
    "5. Other"
   ]
  },
  {
   "cell_type": "code",
   "execution_count": 68,
   "metadata": {},
   "outputs": [
    {
     "name": "stdout",
     "output_type": "stream",
     "text": [
      "3897\n",
      "2099\n",
      "7476\n",
      "3157\n",
      "2721\n"
     ]
    }
   ],
   "source": [
    "# Write a function to categorize the data based on common topics\n",
    "car = df.loc[df['purpose'].str.contains(\"car\", case=False)]\n",
    "marriage = df.loc[df['purpose'].str.contains(\"wedd|marr\", case=False)]\n",
    "house = df.loc[df['purpose'].str.contains(\"hous|estate\", case=False)]\n",
    "education = df.loc[df['purpose'].str.contains(\"educa\", case=False)]\n",
    "\n",
    "car_purpose=car['purpose'].count()\n",
    "print(car_purpose)\n",
    "marriage_purpose=marriage['purpose'].count()\n",
    "print(marriage_purpose)\n",
    "house_purpose=house['purpose'].count()\n",
    "print(house_purpose)\n",
    "education_purpose=education['purpose'].count()\n",
    "print(education_purpose)\n",
    "other_purpose = df['purpose'].count() - education_purpose - house_purpose - marriage_purpose - car_purpose\n",
    "print(other_purpose)"
   ]
  },
  {
   "cell_type": "markdown",
   "metadata": {},
   "source": [
    "In the following code, I categorized numerical data:"
   ]
  },
  {
   "cell_type": "code",
   "execution_count": 70,
   "metadata": {},
   "outputs": [
    {
     "name": "stdout",
     "output_type": "stream",
     "text": [
      "       children      family_status                  purpose  total_income\n",
      "0             1            married    purchase of the house     40620.102\n",
      "1             1            married             car purchase     17932.802\n",
      "2             0            married    purchase of the house     23341.752\n",
      "3             3            married  supplementary education     42820.568\n",
      "4             0  civil partnership        to have a wedding     25378.572\n",
      "...         ...                ...                      ...           ...\n",
      "21520         1  civil partnership     housing transactions     35966.698\n",
      "21521         0            married        purchase of a car     24959.969\n",
      "21522         1  civil partnership                 property     14347.610\n",
      "21523         3            married        buying my own car     39054.888\n",
      "21524         2            married             to buy a car     13127.587\n",
      "\n",
      "[19350 rows x 4 columns]\n"
     ]
    }
   ],
   "source": [
    "# Looking through all the numerical data for categorization\n",
    "print(df[['children', 'family_status', 'purpose', 'total_income']])"
   ]
  },
  {
   "cell_type": "code",
   "execution_count": 71,
   "metadata": {},
   "outputs": [
    {
     "data": {
      "text/plain": [
       "count     19350.000000\n",
       "mean      26787.266688\n",
       "std       16475.822926\n",
       "min        3306.762000\n",
       "25%       16486.515250\n",
       "50%       23201.873500\n",
       "75%       32547.910750\n",
       "max      362496.645000\n",
       "Name: total_income, dtype: float64"
      ]
     },
     "execution_count": 71,
     "metadata": {},
     "output_type": "execute_result"
    }
   ],
   "source": [
    "# Getting summary statistics for the column\n",
    "df['total_income'].describe()"
   ]
  },
  {
   "cell_type": "markdown",
   "metadata": {},
   "source": [
    "In the following segment, I decided on the ranges for grouping by total_income percentile."
   ]
  },
  {
   "cell_type": "code",
   "execution_count": 72,
   "metadata": {},
   "outputs": [],
   "source": [
    "# Creating function for categorizing into different numerical groups based on ranges\n",
    "df['total_income'].describe()\n",
    "def income_category (total_income):\n",
    "    if total_income < 16486.515250:\n",
    "        return 'Below 25% Percentile of Total Income'\n",
    "    if 16486.515250 <= total_income < 23201.873500:\n",
    "        return 'Below 50% Percentile of Total Income'\n",
    "    if 23201.873500 <= total_income < 32547.910750:\n",
    "        return 'Below 75% Percentile of Total Income'\n",
    "    return 'Above 75% Percentile of Total Income'"
   ]
  },
  {
   "cell_type": "code",
   "execution_count": 73,
   "metadata": {},
   "outputs": [],
   "source": [
    "# Creating column with categories\n",
    "df['income_category'] = df['total_income'].apply(income_category)"
   ]
  },
  {
   "cell_type": "code",
   "execution_count": 74,
   "metadata": {
    "scrolled": false
   },
   "outputs": [
    {
     "data": {
      "text/plain": [
       "Above 75% Percentile of Total Income    4838\n",
       "Below 25% Percentile of Total Income    4838\n",
       "Below 50% Percentile of Total Income    4837\n",
       "Below 75% Percentile of Total Income    4837\n",
       "Name: income_category, dtype: int64"
      ]
     },
     "execution_count": 74,
     "metadata": {},
     "output_type": "execute_result"
    }
   ],
   "source": [
    "# Count each categories values to see the distribution\n",
    "df['income_category'].value_counts()"
   ]
  },
  {
   "cell_type": "markdown",
   "metadata": {},
   "source": [
    "## Checking the Hypotheses\n"
   ]
  },
  {
   "cell_type": "markdown",
   "metadata": {},
   "source": [
    "**Is there a correlation between having children and paying back on time?**"
   ]
  },
  {
   "cell_type": "code",
   "execution_count": 75,
   "metadata": {},
   "outputs": [
    {
     "name": "stdout",
     "output_type": "stream",
     "text": [
      "children            1571\n",
      "days_employed       1571\n",
      "dob_years           1571\n",
      "education           1571\n",
      "education_id        1571\n",
      "family_status       1571\n",
      "family_status_id    1571\n",
      "gender              1571\n",
      "income_type         1571\n",
      "debt                1571\n",
      "total_income        1571\n",
      "purpose             1571\n",
      "age_group           1571\n",
      "median_income       1571\n",
      "income_category     1571\n",
      "dtype: int64\n",
      "children            60.598345\n",
      "days_employed       60.598345\n",
      "dob_years           60.598345\n",
      "education           60.598345\n",
      "education_id        60.598345\n",
      "family_status       60.598345\n",
      "family_status_id    60.598345\n",
      "gender              60.598345\n",
      "income_type         60.598345\n",
      "debt                60.598345\n",
      "total_income        60.598345\n",
      "purpose             60.598345\n",
      "age_group           60.598345\n",
      "median_income       60.598345\n",
      "income_category     60.598345\n",
      "dtype: float64\n",
      "children            26.543603\n",
      "days_employed       26.543603\n",
      "dob_years           26.543603\n",
      "education           26.543603\n",
      "education_id        26.543603\n",
      "family_status       26.543603\n",
      "family_status_id    26.543603\n",
      "gender              26.543603\n",
      "income_type         26.543603\n",
      "debt                26.543603\n",
      "total_income        26.543603\n",
      "purpose             26.543603\n",
      "age_group           26.543603\n",
      "median_income       26.543603\n",
      "income_category     26.543603\n",
      "dtype: float64\n",
      "children            11.266709\n",
      "days_employed       11.266709\n",
      "dob_years           11.266709\n",
      "education           11.266709\n",
      "education_id        11.266709\n",
      "family_status       11.266709\n",
      "family_status_id    11.266709\n",
      "gender              11.266709\n",
      "income_type         11.266709\n",
      "debt                11.266709\n",
      "total_income        11.266709\n",
      "purpose             11.266709\n",
      "age_group           11.266709\n",
      "median_income       11.266709\n",
      "income_category     11.266709\n",
      "dtype: float64\n",
      "children            1.400382\n",
      "days_employed       1.400382\n",
      "dob_years           1.400382\n",
      "education           1.400382\n",
      "education_id        1.400382\n",
      "family_status       1.400382\n",
      "family_status_id    1.400382\n",
      "gender              1.400382\n",
      "income_type         1.400382\n",
      "debt                1.400382\n",
      "total_income        1.400382\n",
      "purpose             1.400382\n",
      "age_group           1.400382\n",
      "median_income       1.400382\n",
      "income_category     1.400382\n",
      "dtype: float64\n",
      "children            0.190961\n",
      "days_employed       0.190961\n",
      "dob_years           0.190961\n",
      "education           0.190961\n",
      "education_id        0.190961\n",
      "family_status       0.190961\n",
      "family_status_id    0.190961\n",
      "gender              0.190961\n",
      "income_type         0.190961\n",
      "debt                0.190961\n",
      "total_income        0.190961\n",
      "purpose             0.190961\n",
      "age_group           0.190961\n",
      "median_income       0.190961\n",
      "income_category     0.190961\n",
      "dtype: float64\n",
      "children            0.0\n",
      "days_employed       0.0\n",
      "dob_years           0.0\n",
      "education           0.0\n",
      "education_id        0.0\n",
      "family_status       0.0\n",
      "family_status_id    0.0\n",
      "gender              0.0\n",
      "income_type         0.0\n",
      "debt                0.0\n",
      "total_income        0.0\n",
      "purpose             0.0\n",
      "age_group           0.0\n",
      "median_income       0.0\n",
      "income_category     0.0\n",
      "dtype: float64\n"
     ]
    }
   ],
   "source": [
    "# Check the children data and paying back on time\n",
    "x = df['children']\n",
    "y = df['debt']\n",
    "children_result = scipy.stats.linregress(x,y)\n",
    "children_result.slope\n",
    "\n",
    "Default = df[df['debt']==1].count()\n",
    "print(Default)\n",
    "# Calculating default-rate based on the number of children\n",
    "\n",
    "children_0= df[(df['children']==0) & (df['debt']==1)].count()\n",
    "print(children_0/Default*100)\n",
    "children_1 = df[(df['children']==1) & (df['debt']==1)].count()\n",
    "print(children_1/Default*100)\n",
    "children_2 = df[(df['children']==2) & (df['debt']==1)].count()\n",
    "print(children_2/Default*100)\n",
    "children_3 = df[(df['children']==3) & (df['debt']==1)].count() \n",
    "print(children_3/Default*100)\n",
    "children_4 = df[(df['children']==4) & (df['debt']==1)].count()\n",
    "print(children_4/Default*100)\n",
    "children_5 = df[(df['children']==5) & (df['debt']==1)].count()\n",
    "print(children_5/Default*100)\n",
    "\n",
    "# 0 child default case 952, 1 children default case 417, 2 children default 177, 3 children default 22, \n",
    "# 4 children default 3,  5 children 0, total default is 1571"
   ]
  },
  {
   "cell_type": "markdown",
   "metadata": {},
   "source": [
    "**Conclusion**\n",
    "\n",
    "There is a correlation based on having children and paying back on time.\n",
    "As the number of children increases, the default rate goes down.\n",
    "total default is 1571.\n",
    "0 child default case is 952, 1 children default case 417, 2 children default 177, 3 children default 22, \n",
    "4 children default 3,  and 5 children 0 cases.\n",
    "\n",
    "** Default rate for the respective children number from 0 - 5 children is 61%, 27%, 11%, 1,4% and 0% **"
   ]
  },
  {
   "cell_type": "markdown",
   "metadata": {},
   "source": [
    "**Is there a correlation between family status and paying back on time?**"
   ]
  },
  {
   "cell_type": "code",
   "execution_count": 76,
   "metadata": {},
   "outputs": [
    {
     "name": "stdout",
     "output_type": "stream",
     "text": [
      "           family_status  debt\n",
      "0                married     0\n",
      "1                married     0\n",
      "2                married     0\n",
      "3                married     0\n",
      "4      civil partnership     0\n",
      "...                  ...   ...\n",
      "21520  civil partnership     0\n",
      "21521            married     0\n",
      "21522  civil partnership     1\n",
      "21523            married     1\n",
      "21524            married     0\n",
      "\n",
      "[19350 rows x 2 columns]\n",
      "children            53.85105\n",
      "days_employed       53.85105\n",
      "dob_years           53.85105\n",
      "education           53.85105\n",
      "education_id        53.85105\n",
      "family_status       53.85105\n",
      "family_status_id    53.85105\n",
      "gender              53.85105\n",
      "income_type         53.85105\n",
      "debt                53.85105\n",
      "total_income        53.85105\n",
      "purpose             53.85105\n",
      "age_group           53.85105\n",
      "median_income       53.85105\n",
      "income_category     53.85105\n",
      "dtype: float64\n",
      "children            21.578612\n",
      "days_employed       21.578612\n",
      "dob_years           21.578612\n",
      "education           21.578612\n",
      "education_id        21.578612\n",
      "family_status       21.578612\n",
      "family_status_id    21.578612\n",
      "gender              21.578612\n",
      "income_type         21.578612\n",
      "debt                21.578612\n",
      "total_income        21.578612\n",
      "purpose             21.578612\n",
      "age_group           21.578612\n",
      "median_income       21.578612\n",
      "income_category     21.578612\n",
      "dtype: float64\n",
      "children            16.168046\n",
      "days_employed       16.168046\n",
      "dob_years           16.168046\n",
      "education           16.168046\n",
      "education_id        16.168046\n",
      "family_status       16.168046\n",
      "family_status_id    16.168046\n",
      "gender              16.168046\n",
      "income_type         16.168046\n",
      "debt                16.168046\n",
      "total_income        16.168046\n",
      "purpose             16.168046\n",
      "age_group           16.168046\n",
      "median_income       16.168046\n",
      "income_category     16.168046\n",
      "dtype: float64\n",
      "children            4.837683\n",
      "days_employed       4.837683\n",
      "dob_years           4.837683\n",
      "education           4.837683\n",
      "education_id        4.837683\n",
      "family_status       4.837683\n",
      "family_status_id    4.837683\n",
      "gender              4.837683\n",
      "income_type         4.837683\n",
      "debt                4.837683\n",
      "total_income        4.837683\n",
      "purpose             4.837683\n",
      "age_group           4.837683\n",
      "median_income       4.837683\n",
      "income_category     4.837683\n",
      "dtype: float64\n",
      "children            3.564609\n",
      "days_employed       3.564609\n",
      "dob_years           3.564609\n",
      "education           3.564609\n",
      "education_id        3.564609\n",
      "family_status       3.564609\n",
      "family_status_id    3.564609\n",
      "gender              3.564609\n",
      "income_type         3.564609\n",
      "debt                3.564609\n",
      "total_income        3.564609\n",
      "purpose             3.564609\n",
      "age_group           3.564609\n",
      "median_income       3.564609\n",
      "income_category     3.564609\n",
      "dtype: float64\n"
     ]
    }
   ],
   "source": [
    "# Check the family status data and paying back on time\n",
    "print(df[['family_status', 'debt']])\n",
    "df['family_status'].value_counts()\n",
    "\n",
    "# Calculating default-rate based on family status\n",
    "married = df[(df['family_status'] =='married') & (df['debt']==1)].count()\n",
    "print(married/Default*100)\n",
    "civil_partnership = df[(df['family_status'] =='civil partnership') & (df['debt']==1)].count()\n",
    "print(civil_partnership/Default*100)\n",
    "unmarried = df[(df['family_status'] == 'unmarried') & (df['debt']==1)].count()\n",
    "print(unmarried/Default*100)\n",
    "divorced = df[(df['family_status'] == 'divorced') & (df['debt']==1)].count() \n",
    "print(divorced/Default*100)\n",
    "widow = df[(df['family_status'] == 'widow / widower') & (df['debt']==1)].count()\n",
    "print(widow/Default*100)"
   ]
  },
  {
   "cell_type": "markdown",
   "metadata": {},
   "source": [
    "**Conclusion**\n",
    "\n",
    "There is correlation between family status and paying back on time.\n",
    "Married has the highest default rate -- surprisingly, in the 50% range.\n",
    "Civil Partnership comes in second -- roughly in the 20%\n",
    "Divorced and Widow do not default as much, at below 5%."
   ]
  },
  {
   "cell_type": "markdown",
   "metadata": {},
   "source": [
    "**Is there a correlation between income level and paying back on time?**"
   ]
  },
  {
   "cell_type": "code",
   "execution_count": 77,
   "metadata": {},
   "outputs": [
    {
     "name": "stdout",
     "output_type": "stream",
     "text": [
      "children            21.70592\n",
      "days_employed       21.70592\n",
      "dob_years           21.70592\n",
      "education           21.70592\n",
      "education_id        21.70592\n",
      "family_status       21.70592\n",
      "family_status_id    21.70592\n",
      "gender              21.70592\n",
      "income_type         21.70592\n",
      "debt                21.70592\n",
      "total_income        21.70592\n",
      "purpose             21.70592\n",
      "age_group           21.70592\n",
      "median_income       21.70592\n",
      "income_category     21.70592\n",
      "dtype: float64\n",
      "children            27.116486\n",
      "days_employed       27.116486\n",
      "dob_years           27.116486\n",
      "education           27.116486\n",
      "education_id        27.116486\n",
      "family_status       27.116486\n",
      "family_status_id    27.116486\n",
      "gender              27.116486\n",
      "income_type         27.116486\n",
      "debt                27.116486\n",
      "total_income        27.116486\n",
      "purpose             27.116486\n",
      "age_group           27.116486\n",
      "median_income       27.116486\n",
      "income_category     27.116486\n",
      "dtype: float64\n",
      "children            26.798218\n",
      "days_employed       26.798218\n",
      "dob_years           26.798218\n",
      "education           26.798218\n",
      "education_id        26.798218\n",
      "family_status       26.798218\n",
      "family_status_id    26.798218\n",
      "gender              26.798218\n",
      "income_type         26.798218\n",
      "debt                26.798218\n",
      "total_income        26.798218\n",
      "purpose             26.798218\n",
      "age_group           26.798218\n",
      "median_income       26.798218\n",
      "income_category     26.798218\n",
      "dtype: float64\n",
      "children            24.379376\n",
      "days_employed       24.379376\n",
      "dob_years           24.379376\n",
      "education           24.379376\n",
      "education_id        24.379376\n",
      "family_status       24.379376\n",
      "family_status_id    24.379376\n",
      "gender              24.379376\n",
      "income_type         24.379376\n",
      "debt                24.379376\n",
      "total_income        24.379376\n",
      "purpose             24.379376\n",
      "age_group           24.379376\n",
      "median_income       24.379376\n",
      "income_category     24.379376\n",
      "dtype: float64\n"
     ]
    }
   ],
   "source": [
    "# Check the income level data and paying back on time\n",
    "df['income_category'].value_counts()\n",
    "\n",
    "# Calculating default-rate based on income level\n",
    "highest_quartile = df[(df['income_category'] =='Above 75% Percentile of Total Income') & (df['debt']==1)].count()\n",
    "print(highest_quartile/Default*100)\n",
    "second_quartile = df[(df['income_category'] =='Below 75% Percentile of Total Income') & (df['debt']==1)].count()\n",
    "print(second_quartile/Default*100)\n",
    "third_quartile = df[(df['income_category'] == 'Below 50% Percentile of Total Income') & (df['debt']==1)].count()\n",
    "print(third_quartile/Default*100)\n",
    "lowest_quartile = df[(df['income_category'] == 'Below 25% Percentile of Total Income') & (df['debt']==1)].count() \n",
    "print(lowest_quartile/Default*100)"
   ]
  },
  {
   "cell_type": "markdown",
   "metadata": {},
   "source": [
    "**Conclusion**\n",
    "\n",
    "There is not a strong correlation between income level and default rate - surprisingly!\n",
    "All the default rates for representative quartiles even out around 25%."
   ]
  },
  {
   "cell_type": "markdown",
   "metadata": {},
   "source": [
    "**How does credit purpose affect the default rate?**"
   ]
  },
  {
   "cell_type": "code",
   "execution_count": 78,
   "metadata": {},
   "outputs": [
    {
     "name": "stdout",
     "output_type": "stream",
     "text": [
      "children            23.360917\n",
      "days_employed       23.360917\n",
      "dob_years           23.360917\n",
      "education           23.360917\n",
      "education_id        23.360917\n",
      "family_status       23.360917\n",
      "family_status_id    23.360917\n",
      "gender              23.360917\n",
      "income_type         23.360917\n",
      "debt                23.360917\n",
      "total_income        23.360917\n",
      "purpose             23.360917\n",
      "age_group           23.360917\n",
      "median_income       23.360917\n",
      "income_category     23.360917\n",
      "dtype: float64\n",
      "children            10.057288\n",
      "days_employed       10.057288\n",
      "dob_years           10.057288\n",
      "education           10.057288\n",
      "education_id        10.057288\n",
      "family_status       10.057288\n",
      "family_status_id    10.057288\n",
      "gender              10.057288\n",
      "income_type         10.057288\n",
      "debt                10.057288\n",
      "total_income        10.057288\n",
      "purpose             10.057288\n",
      "age_group           10.057288\n",
      "median_income       10.057288\n",
      "income_category     10.057288\n",
      "dtype: float64\n",
      "children            34.500318\n",
      "days_employed       34.500318\n",
      "dob_years           34.500318\n",
      "education           34.500318\n",
      "education_id        34.500318\n",
      "family_status       34.500318\n",
      "family_status_id    34.500318\n",
      "gender              34.500318\n",
      "income_type         34.500318\n",
      "debt                34.500318\n",
      "total_income        34.500318\n",
      "purpose             34.500318\n",
      "age_group           34.500318\n",
      "median_income       34.500318\n",
      "income_category     34.500318\n",
      "dtype: float64\n",
      "children            18.586887\n",
      "days_employed       18.586887\n",
      "dob_years           18.586887\n",
      "education           18.586887\n",
      "education_id        18.586887\n",
      "family_status       18.586887\n",
      "family_status_id    18.586887\n",
      "gender              18.586887\n",
      "income_type         18.586887\n",
      "debt                18.586887\n",
      "total_income        18.586887\n",
      "purpose             18.586887\n",
      "age_group           18.586887\n",
      "median_income       18.586887\n",
      "income_category     18.586887\n",
      "dtype: float64\n"
     ]
    }
   ],
   "source": [
    "# Check the percentages for default rate for each credit purpose and analyze them\n",
    "car_count = df.loc[df['purpose'].str.contains(\"car\", case=False) & (df['debt']==1)].count()\n",
    "marriage_count= df.loc[df['purpose'].str.contains(\"wedd|marr\", case=False) & (df['debt']==1)].count()\n",
    "house_count = df.loc[df['purpose'].str.contains(\"hous|estate\",case=False) & (df['debt']==1)].count()\n",
    "education_count = df.loc[df['purpose'].str.contains(\"educa\", case=False) & (df['debt']==1)].count()\n",
    "\n",
    "print(car_count/Default*100)\n",
    "print(marriage_count/Default*100)\n",
    "print(house_count/Default*100)\n",
    "print(education_count/Default*100)"
   ]
  },
  {
   "cell_type": "markdown",
   "metadata": {},
   "source": [
    "**Conclusion**\n",
    "\n",
    "Loans for Housing purposes had the biggest default rate at 35%, followed by Car loans.\n",
    "It does seem that these two categories are statistically more prone to defaulting than education and wedding costs/loans. However, the difference is not too stark, and the gap is about 10-15%."
   ]
  },
  {
   "cell_type": "markdown",
   "metadata": {},
   "source": [
    "# General Conclusion \n",
    "\n",
    "[List your conclusions in this final section. Make sure you include all your important conclusions you made that led you to the way you processed and analyzed the data. Cover the missing values, duplicates, and possible reasons and solutions for problematic artifacts that you had to address.]\n",
    "\n",
    "There is a correlation based on having children and paying back on time. As the number of children increases, the default rate goes down. total default is 1571. Default rate for the respective children number from 0 - 5 children is 61%, 27%, 11%, 1,4% and 0%.\n",
    "\n",
    "There is correlation between family status and paying back on time.\n",
    "Married has the highest default rate -- surprisingly, in the 50% range.\n",
    "Civil Partnership comes in second -- roughly in the 20%\n",
    "Divorced and Widow do not default as much, at below 5%.\n",
    "\n",
    "There is NOT much correlation between income level and default rate - surprisingly!\n",
    "All the default rates for representative quartiles even out around 25%.\n",
    "\n",
    "Finally, loans for Housing purposes had the biggest default rate at 35%, followed by Car loans.\n",
    "It does seem that these two categories are statistically more prone to defaulting than education and wedding costs/loans. However, the difference is not too stark, and the gap is about 10-15%.\n"
   ]
  }
 ],
 "metadata": {
  "ExecuteTimeLog": [
   {
    "duration": 2741,
    "start_time": "2021-10-21T01:08:49.480Z"
   },
   {
    "duration": 52,
    "start_time": "2021-10-21T01:08:53.315Z"
   },
   {
    "duration": 49,
    "start_time": "2021-10-21T01:08:57.432Z"
   },
   {
    "duration": 70,
    "start_time": "2021-10-21T01:09:07.706Z"
   },
   {
    "duration": 601,
    "start_time": "2021-11-14T21:55:45.493Z"
   },
   {
    "duration": 41,
    "start_time": "2021-11-14T21:56:14.875Z"
   },
   {
    "duration": 13,
    "start_time": "2021-11-14T21:56:23.566Z"
   },
   {
    "duration": 8,
    "start_time": "2021-11-14T21:56:52.189Z"
   },
   {
    "duration": 11,
    "start_time": "2021-11-14T22:04:59.748Z"
   },
   {
    "duration": 12,
    "start_time": "2021-11-14T22:05:22.761Z"
   },
   {
    "duration": 4,
    "start_time": "2021-11-14T22:05:27.095Z"
   },
   {
    "duration": 3,
    "start_time": "2021-11-14T22:05:33.190Z"
   },
   {
    "duration": 10,
    "start_time": "2021-11-14T22:05:41.314Z"
   },
   {
    "duration": 6,
    "start_time": "2021-11-14T22:08:00.600Z"
   },
   {
    "duration": 7,
    "start_time": "2021-11-14T22:08:39.535Z"
   },
   {
    "duration": 241,
    "start_time": "2021-11-14T22:08:56.716Z"
   },
   {
    "duration": 6,
    "start_time": "2021-11-14T22:09:01.846Z"
   },
   {
    "duration": 4,
    "start_time": "2021-11-14T22:09:27.056Z"
   },
   {
    "duration": 4,
    "start_time": "2021-11-14T22:10:01.135Z"
   },
   {
    "duration": 3,
    "start_time": "2021-11-14T22:10:20.911Z"
   },
   {
    "duration": 5,
    "start_time": "2021-11-14T22:10:31.741Z"
   },
   {
    "duration": 5,
    "start_time": "2021-11-14T22:10:42.545Z"
   },
   {
    "duration": 5005,
    "start_time": "2021-11-14T22:13:13.675Z"
   },
   {
    "duration": 10,
    "start_time": "2021-11-14T22:14:14.459Z"
   },
   {
    "duration": 7,
    "start_time": "2021-11-14T22:14:34.344Z"
   },
   {
    "duration": 7,
    "start_time": "2021-11-14T22:17:31.091Z"
   },
   {
    "duration": 218,
    "start_time": "2021-11-14T22:18:22.861Z"
   },
   {
    "duration": 187,
    "start_time": "2021-11-14T22:19:08.952Z"
   },
   {
    "duration": 4579,
    "start_time": "2021-11-14T22:19:16.622Z"
   },
   {
    "duration": 8,
    "start_time": "2021-11-14T22:19:26.626Z"
   },
   {
    "duration": 9,
    "start_time": "2021-11-14T22:19:39.668Z"
   },
   {
    "duration": 7,
    "start_time": "2021-11-14T22:20:27.296Z"
   },
   {
    "duration": 4,
    "start_time": "2021-11-14T22:20:38.091Z"
   },
   {
    "duration": 5,
    "start_time": "2021-11-14T22:20:44.442Z"
   },
   {
    "duration": 7,
    "start_time": "2021-11-14T22:21:41.176Z"
   },
   {
    "duration": 9,
    "start_time": "2021-11-14T22:21:58.323Z"
   },
   {
    "duration": 196,
    "start_time": "2021-11-14T22:22:21.489Z"
   },
   {
    "duration": 6,
    "start_time": "2021-11-14T22:23:45.647Z"
   },
   {
    "duration": 23,
    "start_time": "2021-11-14T22:27:32.451Z"
   },
   {
    "duration": 43,
    "start_time": "2021-11-14T22:27:44.027Z"
   },
   {
    "duration": 21,
    "start_time": "2021-11-14T22:27:48.204Z"
   },
   {
    "duration": 188,
    "start_time": "2021-11-14T22:28:11.687Z"
   },
   {
    "duration": 71,
    "start_time": "2021-11-14T22:28:22.289Z"
   },
   {
    "duration": 21,
    "start_time": "2021-11-14T22:28:40.701Z"
   },
   {
    "duration": 8,
    "start_time": "2021-11-14T22:29:08.825Z"
   },
   {
    "duration": 6,
    "start_time": "2021-11-14T22:29:17.329Z"
   },
   {
    "duration": 15,
    "start_time": "2021-11-14T22:29:22.168Z"
   },
   {
    "duration": 10,
    "start_time": "2021-11-14T22:29:35.950Z"
   },
   {
    "duration": 6,
    "start_time": "2021-11-14T22:29:59.644Z"
   },
   {
    "duration": 12,
    "start_time": "2021-11-14T22:30:05.955Z"
   },
   {
    "duration": 20,
    "start_time": "2021-11-14T22:30:35.925Z"
   },
   {
    "duration": 23,
    "start_time": "2021-11-14T22:31:02.802Z"
   },
   {
    "duration": 3490,
    "start_time": "2021-11-14T22:31:36.125Z"
   },
   {
    "duration": 5,
    "start_time": "2021-11-14T22:33:12.007Z"
   },
   {
    "duration": 23,
    "start_time": "2021-11-14T22:33:34.117Z"
   },
   {
    "duration": 296,
    "start_time": "2021-11-14T22:46:22.754Z"
   },
   {
    "duration": 4,
    "start_time": "2021-11-14T22:46:26.577Z"
   },
   {
    "duration": 4,
    "start_time": "2021-11-14T22:46:30.944Z"
   },
   {
    "duration": 5,
    "start_time": "2021-11-14T22:48:05.050Z"
   },
   {
    "duration": 12,
    "start_time": "2021-11-14T22:49:51.128Z"
   },
   {
    "duration": 3,
    "start_time": "2021-11-14T22:49:58.326Z"
   },
   {
    "duration": 34,
    "start_time": "2021-11-14T22:50:50.084Z"
   },
   {
    "duration": 13,
    "start_time": "2021-11-14T22:55:24.597Z"
   },
   {
    "duration": 217,
    "start_time": "2021-11-14T23:00:39.268Z"
   },
   {
    "duration": 188,
    "start_time": "2021-11-14T23:00:55.092Z"
   },
   {
    "duration": 257,
    "start_time": "2021-11-14T23:01:09.007Z"
   },
   {
    "duration": 21,
    "start_time": "2021-11-14T23:04:04.683Z"
   },
   {
    "duration": 33,
    "start_time": "2021-11-14T23:10:07.738Z"
   },
   {
    "duration": 9,
    "start_time": "2021-11-14T23:10:25.090Z"
   },
   {
    "duration": 184,
    "start_time": "2021-11-14T23:12:51.429Z"
   },
   {
    "duration": 30,
    "start_time": "2021-11-14T23:14:00.968Z"
   },
   {
    "duration": 31,
    "start_time": "2021-11-14T23:14:15.940Z"
   },
   {
    "duration": 9,
    "start_time": "2021-11-14T23:14:52.919Z"
   },
   {
    "duration": 11,
    "start_time": "2021-11-14T23:15:08.004Z"
   },
   {
    "duration": 16,
    "start_time": "2021-11-14T23:15:30.673Z"
   },
   {
    "duration": 4,
    "start_time": "2021-11-14T23:17:04.279Z"
   },
   {
    "duration": 69,
    "start_time": "2021-11-14T23:17:22.408Z"
   },
   {
    "duration": 6,
    "start_time": "2021-11-14T23:17:27.569Z"
   },
   {
    "duration": 35,
    "start_time": "2021-11-14T23:17:41.688Z"
   },
   {
    "duration": 32,
    "start_time": "2021-11-14T23:18:04.809Z"
   },
   {
    "duration": 3,
    "start_time": "2021-11-14T23:20:59.872Z"
   },
   {
    "duration": 18,
    "start_time": "2021-11-14T23:21:39.699Z"
   },
   {
    "duration": 64,
    "start_time": "2021-11-14T23:22:51.954Z"
   },
   {
    "duration": 192,
    "start_time": "2021-11-14T23:22:56.310Z"
   },
   {
    "duration": 23,
    "start_time": "2021-11-14T23:25:18.569Z"
   },
   {
    "duration": 16,
    "start_time": "2021-11-14T23:25:30.270Z"
   },
   {
    "duration": 8,
    "start_time": "2021-11-14T23:25:43.027Z"
   },
   {
    "duration": 14,
    "start_time": "2021-11-14T23:25:48.129Z"
   },
   {
    "duration": 10,
    "start_time": "2021-11-14T23:25:57.505Z"
   },
   {
    "duration": 66,
    "start_time": "2021-11-14T23:26:44.587Z"
   },
   {
    "duration": 69,
    "start_time": "2021-11-14T23:26:57.230Z"
   },
   {
    "duration": 65,
    "start_time": "2021-11-14T23:27:45.839Z"
   },
   {
    "duration": 60,
    "start_time": "2021-11-14T23:27:53.119Z"
   },
   {
    "duration": 27,
    "start_time": "2021-11-14T23:28:23.540Z"
   },
   {
    "duration": 43,
    "start_time": "2021-11-14T23:28:34.101Z"
   },
   {
    "duration": 4,
    "start_time": "2021-11-14T23:28:38.851Z"
   },
   {
    "duration": 8,
    "start_time": "2021-11-14T23:28:40.805Z"
   },
   {
    "duration": 10,
    "start_time": "2021-11-14T23:28:44.756Z"
   },
   {
    "duration": 7,
    "start_time": "2021-11-14T23:28:53.624Z"
   },
   {
    "duration": 22,
    "start_time": "2021-11-14T23:28:56.933Z"
   },
   {
    "duration": 3,
    "start_time": "2021-11-14T23:29:11.148Z"
   },
   {
    "duration": 17,
    "start_time": "2021-11-14T23:29:13.207Z"
   },
   {
    "duration": 27,
    "start_time": "2021-11-14T23:29:16.278Z"
   },
   {
    "duration": 22,
    "start_time": "2021-11-14T23:29:32.085Z"
   },
   {
    "duration": 10,
    "start_time": "2021-11-14T23:29:51.303Z"
   },
   {
    "duration": 11,
    "start_time": "2021-11-14T23:30:02.305Z"
   },
   {
    "duration": 8,
    "start_time": "2021-11-14T23:30:09.045Z"
   },
   {
    "duration": 34,
    "start_time": "2021-11-14T23:31:01.862Z"
   },
   {
    "duration": 31,
    "start_time": "2021-11-14T23:31:45.836Z"
   },
   {
    "duration": 187,
    "start_time": "2021-11-14T23:36:16.286Z"
   },
   {
    "duration": 7,
    "start_time": "2021-11-14T23:36:26.089Z"
   },
   {
    "duration": 6,
    "start_time": "2021-11-14T23:36:56.769Z"
   },
   {
    "duration": 62,
    "start_time": "2021-11-14T23:38:27.519Z"
   },
   {
    "duration": 65,
    "start_time": "2021-11-14T23:38:45.960Z"
   },
   {
    "duration": 59,
    "start_time": "2021-11-14T23:38:59.359Z"
   },
   {
    "duration": 65,
    "start_time": "2021-11-14T23:39:25.036Z"
   },
   {
    "duration": 8,
    "start_time": "2021-11-14T23:39:33.660Z"
   },
   {
    "duration": 8,
    "start_time": "2021-11-14T23:40:20.757Z"
   },
   {
    "duration": 34,
    "start_time": "2021-11-14T23:53:52.072Z"
   },
   {
    "duration": 10,
    "start_time": "2021-11-14T23:53:57.112Z"
   },
   {
    "duration": 18,
    "start_time": "2021-11-14T23:54:13.875Z"
   },
   {
    "duration": 198,
    "start_time": "2021-11-14T23:54:34.233Z"
   },
   {
    "duration": 16,
    "start_time": "2021-11-14T23:54:43.674Z"
   },
   {
    "duration": 26,
    "start_time": "2021-11-14T23:54:47.960Z"
   },
   {
    "duration": 11,
    "start_time": "2021-11-14T23:55:08.344Z"
   },
   {
    "duration": 17,
    "start_time": "2021-11-14T23:55:19.020Z"
   },
   {
    "duration": 9,
    "start_time": "2021-11-14T23:56:13.755Z"
   },
   {
    "duration": 188,
    "start_time": "2021-11-14T23:56:25.691Z"
   },
   {
    "duration": 198,
    "start_time": "2021-11-14T23:56:32.946Z"
   },
   {
    "duration": 10,
    "start_time": "2021-11-14T23:56:44.565Z"
   },
   {
    "duration": 11,
    "start_time": "2021-11-14T23:57:08.688Z"
   },
   {
    "duration": 13,
    "start_time": "2021-11-14T23:57:17.778Z"
   },
   {
    "duration": 10,
    "start_time": "2021-11-14T23:57:44.708Z"
   },
   {
    "duration": 18,
    "start_time": "2021-11-14T23:57:49.178Z"
   },
   {
    "duration": 8,
    "start_time": "2021-11-14T23:58:07.009Z"
   },
   {
    "duration": 8,
    "start_time": "2021-11-14T23:58:13.736Z"
   },
   {
    "duration": 21,
    "start_time": "2021-11-14T23:58:21.757Z"
   },
   {
    "duration": 9,
    "start_time": "2021-11-14T23:58:33.363Z"
   },
   {
    "duration": 10,
    "start_time": "2021-11-14T23:58:37.891Z"
   },
   {
    "duration": 16,
    "start_time": "2021-11-14T23:58:51.228Z"
   },
   {
    "duration": 8,
    "start_time": "2021-11-14T23:59:18.727Z"
   },
   {
    "duration": 33,
    "start_time": "2021-11-15T00:00:07.561Z"
   },
   {
    "duration": 14,
    "start_time": "2021-11-15T00:00:50.585Z"
   },
   {
    "duration": 72,
    "start_time": "2021-11-15T00:01:06.424Z"
   },
   {
    "duration": 6,
    "start_time": "2021-11-15T00:01:20.171Z"
   },
   {
    "duration": 14,
    "start_time": "2021-11-15T00:01:26.479Z"
   },
   {
    "duration": 5,
    "start_time": "2021-11-15T00:02:51.216Z"
   },
   {
    "duration": 189,
    "start_time": "2021-11-15T00:02:56.877Z"
   },
   {
    "duration": 7,
    "start_time": "2021-11-15T00:03:00.608Z"
   },
   {
    "duration": 5,
    "start_time": "2021-11-15T00:03:09.337Z"
   },
   {
    "duration": 4,
    "start_time": "2021-11-15T00:04:22.301Z"
   },
   {
    "duration": 10,
    "start_time": "2021-11-15T00:04:35.596Z"
   },
   {
    "duration": 10,
    "start_time": "2021-11-15T00:05:06.630Z"
   },
   {
    "duration": 251,
    "start_time": "2021-11-15T00:05:53.200Z"
   },
   {
    "duration": 34,
    "start_time": "2021-11-15T00:06:01.666Z"
   },
   {
    "duration": 31,
    "start_time": "2021-11-15T00:09:23.311Z"
   },
   {
    "duration": 11,
    "start_time": "2021-11-15T00:10:03.628Z"
   },
   {
    "duration": 19,
    "start_time": "2021-11-15T00:10:50.626Z"
   },
   {
    "duration": 7,
    "start_time": "2021-11-15T00:11:40.681Z"
   },
   {
    "duration": 11,
    "start_time": "2021-11-15T00:11:46.309Z"
   },
   {
    "duration": 16,
    "start_time": "2021-11-15T00:11:55.268Z"
   },
   {
    "duration": 7,
    "start_time": "2021-11-15T00:12:19.669Z"
   },
   {
    "duration": 12,
    "start_time": "2021-11-15T00:12:38.575Z"
   },
   {
    "duration": 37,
    "start_time": "2021-11-15T00:13:27.134Z"
   },
   {
    "duration": 2,
    "start_time": "2021-11-15T00:15:09.871Z"
   },
   {
    "duration": 49,
    "start_time": "2021-11-15T00:18:55.844Z"
   },
   {
    "duration": 29,
    "start_time": "2021-11-15T00:19:07.574Z"
   },
   {
    "duration": 14,
    "start_time": "2021-11-15T00:19:31.151Z"
   },
   {
    "duration": 14,
    "start_time": "2021-11-15T00:19:37.978Z"
   },
   {
    "duration": 10,
    "start_time": "2021-11-15T00:20:01.839Z"
   },
   {
    "duration": 14,
    "start_time": "2021-11-15T00:20:09.583Z"
   },
   {
    "duration": 37,
    "start_time": "2021-11-15T00:20:16.513Z"
   },
   {
    "duration": 34,
    "start_time": "2021-11-15T00:20:26.207Z"
   },
   {
    "duration": 41,
    "start_time": "2021-11-15T00:24:33.744Z"
   },
   {
    "duration": 37,
    "start_time": "2021-11-15T00:25:10.532Z"
   },
   {
    "duration": 6,
    "start_time": "2021-11-15T00:31:09.032Z"
   },
   {
    "duration": 7,
    "start_time": "2021-11-15T00:31:20.305Z"
   },
   {
    "duration": 185,
    "start_time": "2021-11-15T00:31:46.667Z"
   },
   {
    "duration": 15,
    "start_time": "2021-11-15T00:31:53.100Z"
   },
   {
    "duration": 7,
    "start_time": "2021-11-15T00:32:12.007Z"
   },
   {
    "duration": 8,
    "start_time": "2021-11-15T00:32:20.668Z"
   },
   {
    "duration": 2369,
    "start_time": "2021-11-15T00:32:24.671Z"
   },
   {
    "duration": 2388,
    "start_time": "2021-11-15T00:32:48.565Z"
   },
   {
    "duration": 9,
    "start_time": "2021-11-15T00:32:58.925Z"
   },
   {
    "duration": 10,
    "start_time": "2021-11-15T00:33:06.338Z"
   },
   {
    "duration": 8,
    "start_time": "2021-11-15T00:33:35.541Z"
   },
   {
    "duration": 8,
    "start_time": "2021-11-15T00:33:38.933Z"
   },
   {
    "duration": 8,
    "start_time": "2021-11-15T00:35:32.416Z"
   },
   {
    "duration": 37,
    "start_time": "2021-11-15T00:38:15.556Z"
   },
   {
    "duration": 35,
    "start_time": "2021-11-15T00:38:20.620Z"
   },
   {
    "duration": 44,
    "start_time": "2021-11-15T00:39:12.439Z"
   },
   {
    "duration": 21,
    "start_time": "2021-11-15T00:43:10.563Z"
   },
   {
    "duration": 8,
    "start_time": "2021-11-15T00:43:19.618Z"
   },
   {
    "duration": 7,
    "start_time": "2021-11-15T00:43:28.353Z"
   },
   {
    "duration": 7,
    "start_time": "2021-11-15T00:45:12.785Z"
   },
   {
    "duration": 8,
    "start_time": "2021-11-15T00:45:20.229Z"
   },
   {
    "duration": 7,
    "start_time": "2021-11-15T00:47:55.414Z"
   },
   {
    "duration": 7,
    "start_time": "2021-11-15T00:47:58.150Z"
   },
   {
    "duration": 8,
    "start_time": "2021-11-15T00:48:00.083Z"
   },
   {
    "duration": 9,
    "start_time": "2021-11-15T00:48:23.440Z"
   },
   {
    "duration": 363,
    "start_time": "2021-11-15T00:48:55.820Z"
   },
   {
    "duration": 11,
    "start_time": "2021-11-15T00:49:09.895Z"
   },
   {
    "duration": 21,
    "start_time": "2021-11-15T00:49:22.976Z"
   },
   {
    "duration": 6,
    "start_time": "2021-11-15T00:49:45.223Z"
   },
   {
    "duration": 15,
    "start_time": "2021-11-15T00:49:56.669Z"
   },
   {
    "duration": 11,
    "start_time": "2021-11-15T00:50:15.008Z"
   },
   {
    "duration": 376,
    "start_time": "2021-11-15T00:50:54.403Z"
   },
   {
    "duration": 9,
    "start_time": "2021-11-15T00:51:03.235Z"
   },
   {
    "duration": 12,
    "start_time": "2021-11-15T00:51:20.007Z"
   },
   {
    "duration": 10241,
    "start_time": "2021-11-15T00:52:36.231Z"
   },
   {
    "duration": 9,
    "start_time": "2021-11-15T00:52:47.543Z"
   },
   {
    "duration": 8,
    "start_time": "2021-11-15T00:53:07.877Z"
   },
   {
    "duration": 10253,
    "start_time": "2021-11-15T00:53:07.891Z"
   },
   {
    "duration": 7,
    "start_time": "2021-11-15T00:53:18.155Z"
   },
   {
    "duration": 10358,
    "start_time": "2021-11-15T00:53:18.576Z"
   },
   {
    "duration": 64,
    "start_time": "2021-11-15T00:54:51.824Z"
   },
   {
    "duration": 67,
    "start_time": "2021-11-15T00:54:58.610Z"
   },
   {
    "duration": 64,
    "start_time": "2021-11-15T00:55:02.757Z"
   },
   {
    "duration": 64,
    "start_time": "2021-11-15T00:55:11.184Z"
   },
   {
    "duration": 15,
    "start_time": "2021-11-15T00:55:24.966Z"
   },
   {
    "duration": 9,
    "start_time": "2021-11-15T00:55:29.323Z"
   },
   {
    "duration": 23476,
    "start_time": "2021-11-15T00:56:12.330Z"
   },
   {
    "duration": 8,
    "start_time": "2021-11-15T00:56:35.808Z"
   },
   {
    "duration": 10,
    "start_time": "2021-11-15T00:58:07.182Z"
   },
   {
    "duration": 11,
    "start_time": "2021-11-15T00:58:13.178Z"
   },
   {
    "duration": 23438,
    "start_time": "2021-11-15T00:58:21.635Z"
   },
   {
    "duration": 10,
    "start_time": "2021-11-15T00:59:11.754Z"
   },
   {
    "duration": 9,
    "start_time": "2021-11-15T00:59:14.263Z"
   },
   {
    "duration": 8,
    "start_time": "2021-11-15T00:59:43.416Z"
   },
   {
    "duration": 76,
    "start_time": "2021-11-15T01:03:23.418Z"
   },
   {
    "duration": 7,
    "start_time": "2021-11-15T01:03:26.949Z"
   },
   {
    "duration": 7,
    "start_time": "2021-11-15T01:03:38.110Z"
   },
   {
    "duration": 7,
    "start_time": "2021-11-15T01:04:04.753Z"
   },
   {
    "duration": 167,
    "start_time": "2021-11-15T01:05:02.084Z"
   },
   {
    "duration": 7,
    "start_time": "2021-11-15T01:05:09.610Z"
   },
   {
    "duration": 7,
    "start_time": "2021-11-15T01:05:16.200Z"
   },
   {
    "duration": 7,
    "start_time": "2021-11-15T01:05:22.255Z"
   },
   {
    "duration": 7,
    "start_time": "2021-11-15T01:05:33.154Z"
   },
   {
    "duration": 7,
    "start_time": "2021-11-15T01:05:48.263Z"
   },
   {
    "duration": 9,
    "start_time": "2021-11-15T01:05:50.141Z"
   },
   {
    "duration": 60,
    "start_time": "2021-11-15T01:06:11.356Z"
   },
   {
    "duration": 7,
    "start_time": "2021-11-15T01:06:22.495Z"
   },
   {
    "duration": 8,
    "start_time": "2021-11-15T01:06:24.939Z"
   },
   {
    "duration": 9,
    "start_time": "2021-11-15T01:06:46.753Z"
   },
   {
    "duration": 4,
    "start_time": "2021-11-15T01:06:59.518Z"
   },
   {
    "duration": 7,
    "start_time": "2021-11-15T01:07:17.247Z"
   },
   {
    "duration": 12,
    "start_time": "2021-11-15T01:07:42.475Z"
   },
   {
    "duration": 13,
    "start_time": "2021-11-15T01:08:09.733Z"
   },
   {
    "duration": 12,
    "start_time": "2021-11-15T01:08:14.492Z"
   },
   {
    "duration": 12,
    "start_time": "2021-11-15T01:08:18.766Z"
   },
   {
    "duration": 8,
    "start_time": "2021-11-15T01:11:44.124Z"
   },
   {
    "duration": 10,
    "start_time": "2021-11-15T01:12:08.177Z"
   },
   {
    "duration": 14,
    "start_time": "2021-11-15T01:12:21.721Z"
   },
   {
    "duration": 15,
    "start_time": "2021-11-15T01:12:32.904Z"
   },
   {
    "duration": 14,
    "start_time": "2021-11-15T01:13:22.290Z"
   },
   {
    "duration": 15,
    "start_time": "2021-11-15T01:13:37.255Z"
   },
   {
    "duration": 7,
    "start_time": "2021-11-15T01:15:22.720Z"
   },
   {
    "duration": 7,
    "start_time": "2021-11-15T01:15:28.452Z"
   },
   {
    "duration": 7,
    "start_time": "2021-11-15T01:15:40.768Z"
   },
   {
    "duration": 8,
    "start_time": "2021-11-15T01:16:20.557Z"
   },
   {
    "duration": 12,
    "start_time": "2021-11-15T01:16:30.784Z"
   },
   {
    "duration": 3,
    "start_time": "2021-11-15T01:18:05.163Z"
   },
   {
    "duration": 7,
    "start_time": "2021-11-15T01:18:10.087Z"
   },
   {
    "duration": 14,
    "start_time": "2021-11-15T01:18:51.365Z"
   },
   {
    "duration": 206,
    "start_time": "2021-11-15T01:19:21.448Z"
   },
   {
    "duration": 14,
    "start_time": "2021-11-15T01:19:28.705Z"
   },
   {
    "duration": 188,
    "start_time": "2021-11-15T01:20:10.082Z"
   },
   {
    "duration": 30,
    "start_time": "2021-11-15T01:20:14.683Z"
   },
   {
    "duration": 14,
    "start_time": "2021-11-15T01:20:22.286Z"
   },
   {
    "duration": 15,
    "start_time": "2021-11-15T01:20:44.119Z"
   },
   {
    "duration": 15,
    "start_time": "2021-11-15T01:20:47.759Z"
   },
   {
    "duration": 11,
    "start_time": "2021-11-15T01:21:02.632Z"
   },
   {
    "duration": 185,
    "start_time": "2021-11-15T03:23:19.362Z"
   },
   {
    "duration": 188,
    "start_time": "2021-11-15T03:23:47.889Z"
   },
   {
    "duration": 3,
    "start_time": "2021-11-15T05:37:04.485Z"
   },
   {
    "duration": 3,
    "start_time": "2021-11-15T05:37:05.743Z"
   },
   {
    "duration": 4,
    "start_time": "2021-11-15T05:37:26.274Z"
   },
   {
    "duration": 11,
    "start_time": "2021-11-15T05:37:59.101Z"
   },
   {
    "duration": 2,
    "start_time": "2021-11-15T05:38:14.711Z"
   },
   {
    "duration": 3,
    "start_time": "2021-11-15T05:38:17.081Z"
   },
   {
    "duration": 3,
    "start_time": "2021-11-15T05:38:19.093Z"
   },
   {
    "duration": 11,
    "start_time": "2021-11-15T05:38:20.286Z"
   },
   {
    "duration": 229,
    "start_time": "2021-11-15T05:38:37.378Z"
   },
   {
    "duration": 29,
    "start_time": "2021-11-15T05:38:39.502Z"
   },
   {
    "duration": 16,
    "start_time": "2021-11-15T05:38:43.646Z"
   },
   {
    "duration": 15,
    "start_time": "2021-11-15T05:38:50.588Z"
   },
   {
    "duration": 16,
    "start_time": "2021-11-15T05:38:52.475Z"
   },
   {
    "duration": 10,
    "start_time": "2021-11-15T05:38:55.973Z"
   },
   {
    "duration": 10,
    "start_time": "2021-11-15T05:39:04.331Z"
   },
   {
    "duration": 16,
    "start_time": "2021-11-15T05:40:08.579Z"
   },
   {
    "duration": 9,
    "start_time": "2021-11-15T05:40:22.128Z"
   },
   {
    "duration": 13,
    "start_time": "2021-11-15T05:41:59.913Z"
   },
   {
    "duration": 187,
    "start_time": "2021-11-15T05:42:37.128Z"
   },
   {
    "duration": 3,
    "start_time": "2021-11-15T05:42:43.279Z"
   },
   {
    "duration": 3,
    "start_time": "2021-11-15T05:43:07.640Z"
   },
   {
    "duration": 4,
    "start_time": "2021-11-15T05:43:09.258Z"
   },
   {
    "duration": 194,
    "start_time": "2021-11-15T05:43:21.128Z"
   },
   {
    "duration": 5,
    "start_time": "2021-11-15T05:43:49.348Z"
   },
   {
    "duration": 5,
    "start_time": "2021-11-15T05:43:57.958Z"
   },
   {
    "duration": 11,
    "start_time": "2021-11-15T05:45:11.005Z"
   },
   {
    "duration": 20,
    "start_time": "2021-11-15T05:45:19.668Z"
   },
   {
    "duration": 26,
    "start_time": "2021-11-15T05:45:30.042Z"
   },
   {
    "duration": 14,
    "start_time": "2021-11-15T05:47:14.486Z"
   },
   {
    "duration": 11,
    "start_time": "2021-11-15T05:47:28.131Z"
   },
   {
    "duration": 11,
    "start_time": "2021-11-15T05:47:30.863Z"
   },
   {
    "duration": 7,
    "start_time": "2021-11-15T05:47:39.851Z"
   },
   {
    "duration": 10,
    "start_time": "2021-11-15T05:49:09.189Z"
   },
   {
    "duration": 4,
    "start_time": "2021-11-15T05:50:48.917Z"
   },
   {
    "duration": 190,
    "start_time": "2021-11-15T05:51:09.699Z"
   },
   {
    "duration": 213,
    "start_time": "2021-11-15T05:51:17.181Z"
   },
   {
    "duration": 189,
    "start_time": "2021-11-15T05:51:24.344Z"
   },
   {
    "duration": 258,
    "start_time": "2021-11-15T05:51:32.424Z"
   },
   {
    "duration": 4,
    "start_time": "2021-11-15T05:51:35.936Z"
   },
   {
    "duration": 5,
    "start_time": "2021-11-15T05:51:42.415Z"
   },
   {
    "duration": 4,
    "start_time": "2021-11-15T05:51:46.398Z"
   },
   {
    "duration": 11,
    "start_time": "2021-11-15T05:52:16.840Z"
   },
   {
    "duration": 9,
    "start_time": "2021-11-15T05:53:09.738Z"
   },
   {
    "duration": 5,
    "start_time": "2021-11-15T05:53:25.578Z"
   },
   {
    "duration": 4,
    "start_time": "2021-11-15T05:53:33.375Z"
   },
   {
    "duration": 3,
    "start_time": "2021-11-15T06:04:49.660Z"
   },
   {
    "duration": 4,
    "start_time": "2021-11-15T06:05:11.738Z"
   },
   {
    "duration": 70,
    "start_time": "2021-11-15T06:05:18.874Z"
   },
   {
    "duration": 5,
    "start_time": "2021-11-15T06:05:22.695Z"
   },
   {
    "duration": 10908,
    "start_time": "2021-11-15T06:05:25.308Z"
   },
   {
    "duration": 5,
    "start_time": "2021-11-15T06:05:41.303Z"
   },
   {
    "duration": 189,
    "start_time": "2021-11-15T06:06:11.635Z"
   },
   {
    "duration": 4,
    "start_time": "2021-11-15T06:06:43.831Z"
   },
   {
    "duration": 62,
    "start_time": "2021-11-15T06:06:48.646Z"
   },
   {
    "duration": 5,
    "start_time": "2021-11-15T06:06:52.143Z"
   },
   {
    "duration": 12,
    "start_time": "2021-11-15T06:07:02.392Z"
   },
   {
    "duration": 24,
    "start_time": "2021-11-15T06:07:11.167Z"
   },
   {
    "duration": 3,
    "start_time": "2021-11-15T06:07:45.460Z"
   },
   {
    "duration": 6,
    "start_time": "2021-11-15T06:07:46.749Z"
   },
   {
    "duration": 11020,
    "start_time": "2021-11-15T06:07:47.819Z"
   },
   {
    "duration": 4,
    "start_time": "2021-11-15T06:09:17.194Z"
   },
   {
    "duration": 5,
    "start_time": "2021-11-15T06:09:23.427Z"
   },
   {
    "duration": 4,
    "start_time": "2021-11-15T06:09:32.459Z"
   },
   {
    "duration": 11,
    "start_time": "2021-11-15T06:09:37.598Z"
   },
   {
    "duration": 377,
    "start_time": "2021-11-16T07:03:06.410Z"
   },
   {
    "duration": 4,
    "start_time": "2021-11-16T07:03:08.206Z"
   },
   {
    "duration": 565,
    "start_time": "2021-11-16T07:03:11.101Z"
   },
   {
    "duration": 818,
    "start_time": "2021-11-16T07:03:43.529Z"
   },
   {
    "duration": 13,
    "start_time": "2021-11-16T07:03:51.197Z"
   },
   {
    "duration": 14,
    "start_time": "2021-11-16T07:03:54.693Z"
   },
   {
    "duration": 21,
    "start_time": "2021-11-16T07:04:05.396Z"
   },
   {
    "duration": 31,
    "start_time": "2021-11-16T07:04:07.813Z"
   },
   {
    "duration": 386,
    "start_time": "2021-11-16T07:04:10.720Z"
   },
   {
    "duration": 73,
    "start_time": "2021-11-16T07:04:14.106Z"
   },
   {
    "duration": 10,
    "start_time": "2021-11-16T07:04:18.146Z"
   },
   {
    "duration": 13,
    "start_time": "2021-11-16T07:04:21.258Z"
   },
   {
    "duration": 9,
    "start_time": "2021-11-16T07:04:25.254Z"
   },
   {
    "duration": 15,
    "start_time": "2021-11-16T07:04:29.140Z"
   },
   {
    "duration": 11,
    "start_time": "2021-11-16T07:04:31.425Z"
   },
   {
    "duration": 11,
    "start_time": "2021-11-16T07:04:33.713Z"
   },
   {
    "duration": 26,
    "start_time": "2021-11-16T07:04:35.635Z"
   },
   {
    "duration": 24,
    "start_time": "2021-11-16T07:04:41.792Z"
   },
   {
    "duration": 22,
    "start_time": "2021-11-16T07:04:44.565Z"
   },
   {
    "duration": 10,
    "start_time": "2021-11-16T07:04:46.335Z"
   },
   {
    "duration": 16,
    "start_time": "2021-11-16T07:04:48.415Z"
   },
   {
    "duration": 5,
    "start_time": "2021-11-16T07:04:50.217Z"
   },
   {
    "duration": 10,
    "start_time": "2021-11-16T07:04:51.939Z"
   },
   {
    "duration": 26,
    "start_time": "2021-11-16T07:04:53.716Z"
   },
   {
    "duration": 33,
    "start_time": "2021-11-16T07:04:55.367Z"
   },
   {
    "duration": 4,
    "start_time": "2021-11-16T07:05:09.033Z"
   },
   {
    "duration": 5,
    "start_time": "2021-11-16T07:05:10.445Z"
   },
   {
    "duration": 14,
    "start_time": "2021-11-16T07:05:12.876Z"
   },
   {
    "duration": 45,
    "start_time": "2021-11-16T07:05:15.251Z"
   },
   {
    "duration": 8,
    "start_time": "2021-11-16T07:05:18.772Z"
   },
   {
    "duration": 3,
    "start_time": "2021-11-16T07:05:20.893Z"
   },
   {
    "duration": 4,
    "start_time": "2021-11-16T07:05:28.725Z"
   },
   {
    "duration": 13,
    "start_time": "2021-11-16T07:05:41.865Z"
   },
   {
    "duration": 5,
    "start_time": "2021-11-16T07:05:48.290Z"
   },
   {
    "duration": 5,
    "start_time": "2021-11-16T07:05:58.214Z"
   },
   {
    "duration": 266,
    "start_time": "2021-11-16T07:06:51.882Z"
   },
   {
    "duration": 18,
    "start_time": "2021-11-16T07:07:03.954Z"
   },
   {
    "duration": 27,
    "start_time": "2021-11-16T07:07:25.683Z"
   },
   {
    "duration": 7,
    "start_time": "2021-11-16T07:07:52.414Z"
   },
   {
    "duration": 7,
    "start_time": "2021-11-16T07:07:53.851Z"
   },
   {
    "duration": 4,
    "start_time": "2021-11-16T07:07:58.393Z"
   },
   {
    "duration": 17673,
    "start_time": "2021-11-16T07:08:21.217Z"
   },
   {
    "duration": 39,
    "start_time": "2021-11-16T07:08:38.893Z"
   },
   {
    "duration": 10,
    "start_time": "2021-11-16T07:08:38.935Z"
   },
   {
    "duration": 15,
    "start_time": "2021-11-16T07:08:38.999Z"
   },
   {
    "duration": 5,
    "start_time": "2021-11-16T07:08:50.613Z"
   },
   {
    "duration": 6,
    "start_time": "2021-11-16T07:08:53.038Z"
   },
   {
    "duration": 5,
    "start_time": "2021-11-16T07:08:56.382Z"
   },
   {
    "duration": 8,
    "start_time": "2021-11-16T07:08:58.589Z"
   },
   {
    "duration": 17195,
    "start_time": "2021-11-16T07:09:02.290Z"
   },
   {
    "duration": 318,
    "start_time": "2021-11-18T01:05:13.915Z"
   },
   {
    "duration": 257,
    "start_time": "2021-11-18T01:05:19.211Z"
   },
   {
    "duration": 270,
    "start_time": "2021-11-18T01:06:30.863Z"
   },
   {
    "duration": 816,
    "start_time": "2021-11-18T01:06:39.035Z"
   },
   {
    "duration": 13,
    "start_time": "2021-11-18T01:06:42.992Z"
   },
   {
    "duration": 12,
    "start_time": "2021-11-18T01:06:45.275Z"
   },
   {
    "duration": 17,
    "start_time": "2021-11-18T01:06:47.838Z"
   },
   {
    "duration": 13,
    "start_time": "2021-11-18T01:06:50.226Z"
   },
   {
    "duration": 18,
    "start_time": "2021-11-18T01:06:52.609Z"
   },
   {
    "duration": 5,
    "start_time": "2021-11-18T01:06:55.746Z"
   },
   {
    "duration": 29,
    "start_time": "2021-11-18T01:06:57.211Z"
   },
   {
    "duration": 298,
    "start_time": "2021-11-18T01:07:00.799Z"
   },
   {
    "duration": 61,
    "start_time": "2021-11-18T01:07:07.561Z"
   },
   {
    "duration": 52,
    "start_time": "2021-11-18T01:07:10.398Z"
   },
   {
    "duration": 55,
    "start_time": "2021-11-18T01:07:13.265Z"
   },
   {
    "duration": 46,
    "start_time": "2021-11-18T01:07:15.279Z"
   },
   {
    "duration": 66,
    "start_time": "2021-11-18T01:07:19.523Z"
   },
   {
    "duration": 60,
    "start_time": "2021-11-18T01:07:22.743Z"
   },
   {
    "duration": 10,
    "start_time": "2021-11-18T01:07:25.965Z"
   },
   {
    "duration": 14,
    "start_time": "2021-11-18T01:07:28.330Z"
   },
   {
    "duration": 12,
    "start_time": "2021-11-18T01:07:30.243Z"
   },
   {
    "duration": 10,
    "start_time": "2021-11-18T01:07:31.659Z"
   },
   {
    "duration": 9,
    "start_time": "2021-11-18T01:07:34.653Z"
   },
   {
    "duration": 10,
    "start_time": "2021-11-18T01:07:36.172Z"
   },
   {
    "duration": 12,
    "start_time": "2021-11-18T01:07:38.139Z"
   },
   {
    "duration": 16,
    "start_time": "2021-11-18T01:07:40.917Z"
   },
   {
    "duration": 11,
    "start_time": "2021-11-18T01:07:42.412Z"
   },
   {
    "duration": 10,
    "start_time": "2021-11-18T01:07:44.328Z"
   },
   {
    "duration": 9,
    "start_time": "2021-11-18T01:07:46.766Z"
   },
   {
    "duration": 11,
    "start_time": "2021-11-18T01:07:48.390Z"
   },
   {
    "duration": 17,
    "start_time": "2021-11-18T01:07:50.101Z"
   },
   {
    "duration": 21,
    "start_time": "2021-11-18T01:07:53.481Z"
   },
   {
    "duration": 10,
    "start_time": "2021-11-18T01:08:05.103Z"
   },
   {
    "duration": 20,
    "start_time": "2021-11-18T01:08:37.784Z"
   },
   {
    "duration": 11,
    "start_time": "2021-11-18T01:08:39.809Z"
   },
   {
    "duration": 9,
    "start_time": "2021-11-18T01:08:41.103Z"
   },
   {
    "duration": 9,
    "start_time": "2021-11-18T01:08:44.301Z"
   },
   {
    "duration": 5,
    "start_time": "2021-11-18T01:08:46.312Z"
   },
   {
    "duration": 5,
    "start_time": "2021-11-18T01:08:49.328Z"
   },
   {
    "duration": 9,
    "start_time": "2021-11-18T01:08:51.535Z"
   },
   {
    "duration": 25,
    "start_time": "2021-11-18T01:08:54.943Z"
   },
   {
    "duration": 22,
    "start_time": "2021-11-18T01:08:56.441Z"
   },
   {
    "duration": 25,
    "start_time": "2021-11-18T01:08:58.699Z"
   },
   {
    "duration": 14,
    "start_time": "2021-11-18T01:09:00.847Z"
   },
   {
    "duration": 3,
    "start_time": "2021-11-18T01:09:42.963Z"
   },
   {
    "duration": 4,
    "start_time": "2021-11-18T01:09:52.867Z"
   },
   {
    "duration": 6,
    "start_time": "2021-11-18T01:09:54.952Z"
   },
   {
    "duration": 15,
    "start_time": "2021-11-18T01:09:57.751Z"
   },
   {
    "duration": 38,
    "start_time": "2021-11-18T01:10:00.545Z"
   },
   {
    "duration": 13,
    "start_time": "2021-11-18T01:10:04.122Z"
   },
   {
    "duration": 6,
    "start_time": "2021-11-18T01:10:06.011Z"
   },
   {
    "duration": 4,
    "start_time": "2021-11-18T01:10:08.549Z"
   },
   {
    "duration": 5,
    "start_time": "2021-11-18T01:10:10.247Z"
   },
   {
    "duration": 13,
    "start_time": "2021-11-18T01:10:13.025Z"
   },
   {
    "duration": 29,
    "start_time": "2021-11-18T01:10:15.633Z"
   },
   {
    "duration": 23,
    "start_time": "2021-11-18T01:10:33.036Z"
   },
   {
    "duration": 6,
    "start_time": "2021-11-18T01:10:35.254Z"
   },
   {
    "duration": 5,
    "start_time": "2021-11-18T01:10:36.845Z"
   },
   {
    "duration": 4,
    "start_time": "2021-11-18T01:10:39.064Z"
   },
   {
    "duration": 7,
    "start_time": "2021-11-18T01:10:40.871Z"
   },
   {
    "duration": 16287,
    "start_time": "2021-11-18T01:10:42.820Z"
   },
   {
    "duration": 45,
    "start_time": "2021-11-18T01:10:59.109Z"
   },
   {
    "duration": 17,
    "start_time": "2021-11-18T01:10:59.157Z"
   },
   {
    "duration": 4,
    "start_time": "2021-11-18T01:12:02.162Z"
   },
   {
    "duration": 5,
    "start_time": "2021-11-18T01:12:03.637Z"
   },
   {
    "duration": 6,
    "start_time": "2021-11-18T01:12:07.958Z"
   },
   {
    "duration": 5,
    "start_time": "2021-11-18T01:12:09.921Z"
   },
   {
    "duration": 4,
    "start_time": "2021-11-18T01:12:12.324Z"
   },
   {
    "duration": 15809,
    "start_time": "2021-11-18T01:12:13.946Z"
   },
   {
    "duration": 18,
    "start_time": "2021-11-18T01:12:29.757Z"
   },
   {
    "duration": 11,
    "start_time": "2021-11-18T01:12:41.414Z"
   },
   {
    "duration": 10,
    "start_time": "2021-11-18T01:12:55.427Z"
   },
   {
    "duration": 14,
    "start_time": "2021-11-18T01:13:05.786Z"
   },
   {
    "duration": 8,
    "start_time": "2021-11-18T01:13:37.857Z"
   },
   {
    "duration": 10,
    "start_time": "2021-11-18T01:15:04.470Z"
   },
   {
    "duration": 11,
    "start_time": "2021-11-18T01:15:22.170Z"
   },
   {
    "duration": 10,
    "start_time": "2021-11-18T01:15:26.012Z"
   },
   {
    "duration": 11,
    "start_time": "2021-11-18T01:15:30.766Z"
   },
   {
    "duration": 284,
    "start_time": "2021-11-18T01:21:15.034Z"
   },
   {
    "duration": 8,
    "start_time": "2021-11-18T01:21:48.312Z"
   },
   {
    "duration": 7,
    "start_time": "2021-11-18T01:24:39.178Z"
   },
   {
    "duration": 8,
    "start_time": "2021-11-18T01:24:49.902Z"
   },
   {
    "duration": 86,
    "start_time": "2021-11-18T01:24:53.083Z"
   },
   {
    "duration": 9,
    "start_time": "2021-11-18T01:24:56.259Z"
   },
   {
    "duration": 13,
    "start_time": "2021-11-18T01:24:57.845Z"
   },
   {
    "duration": 10,
    "start_time": "2021-11-18T01:25:02.706Z"
   },
   {
    "duration": 39396,
    "start_time": "2021-11-18T01:25:23.204Z"
   },
   {
    "duration": 10,
    "start_time": "2021-11-18T01:26:02.631Z"
   },
   {
    "duration": 312,
    "start_time": "2021-11-18T01:27:51.925Z"
   },
   {
    "duration": 8,
    "start_time": "2021-11-18T01:28:40.852Z"
   },
   {
    "duration": 11,
    "start_time": "2021-11-18T01:28:43.610Z"
   },
   {
    "duration": 12,
    "start_time": "2021-11-18T01:29:20.385Z"
   },
   {
    "duration": 13,
    "start_time": "2021-11-18T01:29:24.009Z"
   },
   {
    "duration": 12,
    "start_time": "2021-11-18T01:29:26.518Z"
   },
   {
    "duration": 14,
    "start_time": "2021-11-18T01:29:37.555Z"
   },
   {
    "duration": 17,
    "start_time": "2021-11-18T01:29:45.250Z"
   },
   {
    "duration": 8,
    "start_time": "2021-11-18T01:30:02.304Z"
   },
   {
    "duration": 8,
    "start_time": "2021-11-18T01:30:15.985Z"
   },
   {
    "duration": 7,
    "start_time": "2021-11-18T01:30:21.429Z"
   },
   {
    "duration": 8,
    "start_time": "2021-11-18T01:30:24.061Z"
   },
   {
    "duration": 8,
    "start_time": "2021-11-18T01:30:25.915Z"
   },
   {
    "duration": 8,
    "start_time": "2021-11-18T01:30:44.781Z"
   },
   {
    "duration": 9,
    "start_time": "2021-11-18T01:30:47.812Z"
   },
   {
    "duration": 8,
    "start_time": "2021-11-18T01:30:51.353Z"
   },
   {
    "duration": 12,
    "start_time": "2021-11-18T01:31:51.303Z"
   },
   {
    "duration": 8,
    "start_time": "2021-11-18T01:31:53.174Z"
   },
   {
    "duration": 11,
    "start_time": "2021-11-18T01:32:28.226Z"
   },
   {
    "duration": 9,
    "start_time": "2021-11-18T01:32:33.021Z"
   },
   {
    "duration": 6,
    "start_time": "2021-11-18T01:32:39.007Z"
   },
   {
    "duration": 10,
    "start_time": "2021-11-18T01:32:41.245Z"
   },
   {
    "duration": 10,
    "start_time": "2021-11-18T01:32:43.810Z"
   },
   {
    "duration": 39,
    "start_time": "2021-11-18T01:33:46.528Z"
   },
   {
    "duration": 13,
    "start_time": "2021-11-18T01:34:05.277Z"
   },
   {
    "duration": 9,
    "start_time": "2021-11-18T01:34:07.937Z"
   },
   {
    "duration": 14,
    "start_time": "2021-11-18T01:34:25.001Z"
   },
   {
    "duration": 10,
    "start_time": "2021-11-18T01:34:29.941Z"
   },
   {
    "duration": 766,
    "start_time": "2021-11-18T01:34:44.081Z"
   },
   {
    "duration": 12,
    "start_time": "2021-11-18T01:34:44.849Z"
   },
   {
    "duration": 13,
    "start_time": "2021-11-18T01:34:44.864Z"
   },
   {
    "duration": 16,
    "start_time": "2021-11-18T01:34:44.880Z"
   },
   {
    "duration": 35,
    "start_time": "2021-11-18T01:34:44.899Z"
   },
   {
    "duration": 16,
    "start_time": "2021-11-18T01:34:44.936Z"
   },
   {
    "duration": 5,
    "start_time": "2021-11-18T01:34:44.954Z"
   },
   {
    "duration": 34,
    "start_time": "2021-11-18T01:34:44.961Z"
   },
   {
    "duration": 61,
    "start_time": "2021-11-18T01:34:45.031Z"
   },
   {
    "duration": 77,
    "start_time": "2021-11-18T01:34:45.094Z"
   },
   {
    "duration": 72,
    "start_time": "2021-11-18T01:34:45.173Z"
   },
   {
    "duration": 45,
    "start_time": "2021-11-18T01:34:45.248Z"
   },
   {
    "duration": 3,
    "start_time": "2021-11-18T01:34:45.295Z"
   },
   {
    "duration": 90,
    "start_time": "2021-11-18T01:34:45.300Z"
   },
   {
    "duration": 81,
    "start_time": "2021-11-18T01:34:45.393Z"
   },
   {
    "duration": 9,
    "start_time": "2021-11-18T01:34:45.476Z"
   },
   {
    "duration": 19,
    "start_time": "2021-11-18T01:34:45.487Z"
   },
   {
    "duration": 32,
    "start_time": "2021-11-18T01:34:45.508Z"
   },
   {
    "duration": 8,
    "start_time": "2021-11-18T01:34:45.543Z"
   },
   {
    "duration": 13,
    "start_time": "2021-11-18T01:34:45.554Z"
   },
   {
    "duration": 8,
    "start_time": "2021-11-18T01:34:45.569Z"
   },
   {
    "duration": 51,
    "start_time": "2021-11-18T01:34:45.579Z"
   },
   {
    "duration": 15,
    "start_time": "2021-11-18T01:34:45.633Z"
   },
   {
    "duration": 13,
    "start_time": "2021-11-18T01:34:45.651Z"
   },
   {
    "duration": 12,
    "start_time": "2021-11-18T01:34:45.666Z"
   },
   {
    "duration": 56,
    "start_time": "2021-11-18T01:34:45.681Z"
   },
   {
    "duration": 12,
    "start_time": "2021-11-18T01:34:45.746Z"
   },
   {
    "duration": 15,
    "start_time": "2021-11-18T01:34:45.763Z"
   },
   {
    "duration": 4,
    "start_time": "2021-11-18T01:34:45.781Z"
   },
   {
    "duration": 42,
    "start_time": "2021-11-18T01:34:45.787Z"
   },
   {
    "duration": 27,
    "start_time": "2021-11-18T01:34:45.831Z"
   },
   {
    "duration": 10,
    "start_time": "2021-11-18T01:34:45.860Z"
   },
   {
    "duration": 10,
    "start_time": "2021-11-18T01:34:45.872Z"
   },
   {
    "duration": 10,
    "start_time": "2021-11-18T01:34:45.884Z"
   },
   {
    "duration": 4,
    "start_time": "2021-11-18T01:34:45.930Z"
   },
   {
    "duration": 12,
    "start_time": "2021-11-18T01:34:45.937Z"
   },
   {
    "duration": 27,
    "start_time": "2021-11-18T01:34:45.951Z"
   },
   {
    "duration": 51,
    "start_time": "2021-11-18T01:34:45.980Z"
   },
   {
    "duration": 22,
    "start_time": "2021-11-18T01:34:46.033Z"
   },
   {
    "duration": 13,
    "start_time": "2021-11-18T01:34:46.057Z"
   },
   {
    "duration": 4,
    "start_time": "2021-11-18T01:34:46.073Z"
   },
   {
    "duration": 7,
    "start_time": "2021-11-18T01:34:46.079Z"
   },
   {
    "duration": 41,
    "start_time": "2021-11-18T01:34:46.088Z"
   },
   {
    "duration": 20,
    "start_time": "2021-11-18T01:34:46.132Z"
   },
   {
    "duration": 16,
    "start_time": "2021-11-18T01:34:46.155Z"
   },
   {
    "duration": 62,
    "start_time": "2021-11-18T01:34:46.174Z"
   },
   {
    "duration": 14,
    "start_time": "2021-11-18T01:34:46.238Z"
   },
   {
    "duration": 6,
    "start_time": "2021-11-18T01:34:46.255Z"
   },
   {
    "duration": 8,
    "start_time": "2021-11-18T01:34:46.263Z"
   },
   {
    "duration": 10,
    "start_time": "2021-11-18T01:34:46.273Z"
   },
   {
    "duration": 52,
    "start_time": "2021-11-18T01:34:46.285Z"
   },
   {
    "duration": 29,
    "start_time": "2021-11-18T01:34:46.340Z"
   },
   {
    "duration": 7,
    "start_time": "2021-11-18T01:34:46.371Z"
   },
   {
    "duration": 25,
    "start_time": "2021-11-18T01:34:46.380Z"
   },
   {
    "duration": 6,
    "start_time": "2021-11-18T01:34:46.429Z"
   },
   {
    "duration": 7,
    "start_time": "2021-11-18T01:34:46.438Z"
   },
   {
    "duration": 4,
    "start_time": "2021-11-18T01:34:46.448Z"
   },
   {
    "duration": 16,
    "start_time": "2021-11-18T01:34:46.455Z"
   },
   {
    "duration": 15948,
    "start_time": "2021-11-18T01:34:46.474Z"
   },
   {
    "duration": 44,
    "start_time": "2021-11-18T01:35:02.425Z"
   },
   {
    "duration": 24,
    "start_time": "2021-11-18T01:35:02.471Z"
   },
   {
    "duration": 23,
    "start_time": "2021-11-18T01:35:02.498Z"
   },
   {
    "duration": 19,
    "start_time": "2021-11-18T01:35:02.523Z"
   },
   {
    "duration": 25,
    "start_time": "2021-11-18T01:35:02.544Z"
   },
   {
    "duration": 14,
    "start_time": "2021-11-18T01:35:02.572Z"
   },
   {
    "duration": 18,
    "start_time": "2021-11-18T01:35:02.589Z"
   },
   {
    "duration": 108,
    "start_time": "2021-11-18T01:35:02.609Z"
   },
   {
    "duration": -161,
    "start_time": "2021-11-18T01:35:02.880Z"
   },
   {
    "duration": -163,
    "start_time": "2021-11-18T01:35:02.883Z"
   },
   {
    "duration": -164,
    "start_time": "2021-11-18T01:35:02.886Z"
   },
   {
    "duration": -166,
    "start_time": "2021-11-18T01:35:02.889Z"
   },
   {
    "duration": -168,
    "start_time": "2021-11-18T01:35:02.892Z"
   },
   {
    "duration": -168,
    "start_time": "2021-11-18T01:35:02.894Z"
   },
   {
    "duration": -170,
    "start_time": "2021-11-18T01:35:02.897Z"
   },
   {
    "duration": -172,
    "start_time": "2021-11-18T01:35:02.900Z"
   },
   {
    "duration": -173,
    "start_time": "2021-11-18T01:35:02.903Z"
   },
   {
    "duration": -175,
    "start_time": "2021-11-18T01:35:02.906Z"
   },
   {
    "duration": 99,
    "start_time": "2021-11-18T01:35:21.800Z"
   },
   {
    "duration": 89,
    "start_time": "2021-11-18T01:35:30.204Z"
   },
   {
    "duration": 101,
    "start_time": "2021-11-18T01:35:35.705Z"
   },
   {
    "duration": 85,
    "start_time": "2021-11-18T01:35:44.380Z"
   },
   {
    "duration": 364,
    "start_time": "2021-11-18T01:37:43.293Z"
   },
   {
    "duration": 6,
    "start_time": "2021-11-18T01:37:47.622Z"
   },
   {
    "duration": 9,
    "start_time": "2021-11-18T01:37:49.172Z"
   },
   {
    "duration": 9,
    "start_time": "2021-11-18T01:38:09.674Z"
   },
   {
    "duration": 10,
    "start_time": "2021-11-18T01:39:09.171Z"
   },
   {
    "duration": 8,
    "start_time": "2021-11-18T01:39:11.088Z"
   },
   {
    "duration": 5,
    "start_time": "2021-11-18T01:39:21.041Z"
   },
   {
    "duration": 6,
    "start_time": "2021-11-18T01:39:26.508Z"
   },
   {
    "duration": 6,
    "start_time": "2021-11-18T01:39:44.837Z"
   },
   {
    "duration": 5,
    "start_time": "2021-11-18T01:40:46.522Z"
   },
   {
    "duration": 5,
    "start_time": "2021-11-18T01:40:56.365Z"
   },
   {
    "duration": 7,
    "start_time": "2021-11-18T01:41:03.037Z"
   },
   {
    "duration": 10,
    "start_time": "2021-11-18T01:41:13.365Z"
   },
   {
    "duration": 8,
    "start_time": "2021-11-18T01:41:15.130Z"
   },
   {
    "duration": 11,
    "start_time": "2021-11-18T01:42:02.940Z"
   },
   {
    "duration": 12,
    "start_time": "2021-11-18T01:42:11.483Z"
   },
   {
    "duration": 59,
    "start_time": "2021-11-18T01:45:48.402Z"
   },
   {
    "duration": 27,
    "start_time": "2021-11-18T01:45:57.126Z"
   },
   {
    "duration": 26,
    "start_time": "2021-11-18T01:45:59.696Z"
   },
   {
    "duration": 70,
    "start_time": "2021-11-18T01:46:31.784Z"
   },
   {
    "duration": 1276,
    "start_time": "2021-11-18T01:49:10.006Z"
   },
   {
    "duration": 1260,
    "start_time": "2021-11-18T01:49:42.711Z"
   },
   {
    "duration": 5,
    "start_time": "2021-11-18T01:51:29.381Z"
   },
   {
    "duration": 1271,
    "start_time": "2021-11-18T01:51:55.530Z"
   },
   {
    "duration": 1578,
    "start_time": "2021-11-18T01:53:34.242Z"
   },
   {
    "duration": 117,
    "start_time": "2021-11-18T01:53:44.170Z"
   },
   {
    "duration": 193,
    "start_time": "2021-11-18T01:54:41.580Z"
   },
   {
    "duration": 100,
    "start_time": "2021-11-18T01:56:11.983Z"
   },
   {
    "duration": 2223,
    "start_time": "2021-11-18T01:56:24.448Z"
   },
   {
    "duration": 94,
    "start_time": "2021-11-18T01:56:51.382Z"
   },
   {
    "duration": 90,
    "start_time": "2021-11-18T01:57:16.920Z"
   },
   {
    "duration": 90,
    "start_time": "2021-11-18T01:57:26.599Z"
   },
   {
    "duration": 212,
    "start_time": "2021-11-18T01:57:34.298Z"
   },
   {
    "duration": 23,
    "start_time": "2021-11-18T01:57:46.503Z"
   },
   {
    "duration": 32,
    "start_time": "2021-11-18T01:57:53.941Z"
   },
   {
    "duration": 223,
    "start_time": "2021-11-18T01:58:05.608Z"
   },
   {
    "duration": 23,
    "start_time": "2021-11-18T01:58:07.356Z"
   },
   {
    "duration": 234,
    "start_time": "2021-11-18T01:58:41.254Z"
   },
   {
    "duration": 230,
    "start_time": "2021-11-18T01:58:49.493Z"
   },
   {
    "duration": 24,
    "start_time": "2021-11-18T01:58:50.965Z"
   },
   {
    "duration": 1359,
    "start_time": "2021-11-18T01:59:56.399Z"
   },
   {
    "duration": 1560,
    "start_time": "2021-11-18T02:00:10.123Z"
   },
   {
    "duration": 24,
    "start_time": "2021-11-18T02:00:17.541Z"
   },
   {
    "duration": 132,
    "start_time": "2021-11-18T02:02:26.782Z"
   },
   {
    "duration": 1340,
    "start_time": "2021-11-18T02:02:37.785Z"
   },
   {
    "duration": 65,
    "start_time": "2021-11-18T02:03:25.517Z"
   },
   {
    "duration": 1450,
    "start_time": "2021-11-18T02:04:33.144Z"
   },
   {
    "duration": 98,
    "start_time": "2021-11-18T02:04:48.689Z"
   },
   {
    "duration": 1250,
    "start_time": "2021-11-18T02:04:53.046Z"
   },
   {
    "duration": 38,
    "start_time": "2021-11-18T02:05:54.253Z"
   },
   {
    "duration": 39,
    "start_time": "2021-11-18T02:05:56.212Z"
   },
   {
    "duration": 121,
    "start_time": "2021-11-18T02:06:51.016Z"
   },
   {
    "duration": 127,
    "start_time": "2021-11-18T02:07:33.030Z"
   },
   {
    "duration": 26,
    "start_time": "2021-11-18T02:07:38.369Z"
   },
   {
    "duration": 135,
    "start_time": "2021-11-18T02:08:12.834Z"
   },
   {
    "duration": 23,
    "start_time": "2021-11-18T02:08:14.903Z"
   },
   {
    "duration": 132,
    "start_time": "2021-11-18T02:08:40.519Z"
   },
   {
    "duration": 124,
    "start_time": "2021-11-18T02:08:51.535Z"
   },
   {
    "duration": 114,
    "start_time": "2021-11-18T02:08:59.095Z"
   },
   {
    "duration": 23,
    "start_time": "2021-11-18T02:09:02.927Z"
   },
   {
    "duration": 99,
    "start_time": "2021-11-18T02:09:34.455Z"
   },
   {
    "duration": 926,
    "start_time": "2021-11-18T02:09:54.275Z"
   },
   {
    "duration": 117,
    "start_time": "2021-11-18T02:11:03.720Z"
   },
   {
    "duration": 91,
    "start_time": "2021-11-18T02:11:43.218Z"
   },
   {
    "duration": 112,
    "start_time": "2021-11-18T02:11:50.579Z"
   },
   {
    "duration": 24,
    "start_time": "2021-11-18T02:11:52.362Z"
   },
   {
    "duration": 5,
    "start_time": "2021-11-18T02:12:30.610Z"
   },
   {
    "duration": 25,
    "start_time": "2021-11-18T02:12:33.869Z"
   },
   {
    "duration": 4,
    "start_time": "2021-11-18T02:12:50.302Z"
   },
   {
    "duration": 111,
    "start_time": "2021-11-18T02:13:09.753Z"
   },
   {
    "duration": 12,
    "start_time": "2021-11-18T02:17:43.748Z"
   },
   {
    "duration": 104,
    "start_time": "2021-11-18T02:20:04.274Z"
   },
   {
    "duration": 22,
    "start_time": "2021-11-18T02:20:09.162Z"
   },
   {
    "duration": 7,
    "start_time": "2021-11-18T02:20:18.235Z"
   },
   {
    "duration": 7,
    "start_time": "2021-11-18T02:20:23.431Z"
   },
   {
    "duration": 10,
    "start_time": "2021-11-18T02:20:27.716Z"
   },
   {
    "duration": 11,
    "start_time": "2021-11-18T02:21:17.453Z"
   },
   {
    "duration": 9,
    "start_time": "2021-11-18T02:21:19.053Z"
   },
   {
    "duration": 13,
    "start_time": "2021-11-18T02:21:20.323Z"
   },
   {
    "duration": 10,
    "start_time": "2021-11-18T02:21:21.279Z"
   },
   {
    "duration": 490,
    "start_time": "2021-11-18T02:27:16.204Z"
   },
   {
    "duration": 361,
    "start_time": "2021-11-18T02:28:23.740Z"
   },
   {
    "duration": 7,
    "start_time": "2021-11-18T02:28:50.264Z"
   },
   {
    "duration": 92,
    "start_time": "2021-11-18T02:30:06.823Z"
   },
   {
    "duration": 37,
    "start_time": "2021-11-18T02:30:12.163Z"
   },
   {
    "duration": 313,
    "start_time": "2021-11-18T02:30:32.983Z"
   },
   {
    "duration": 178,
    "start_time": "2021-11-18T02:30:47.423Z"
   },
   {
    "duration": 1793,
    "start_time": "2021-11-18T02:30:50.020Z"
   },
   {
    "duration": 94,
    "start_time": "2021-11-18T02:31:04.534Z"
   },
   {
    "duration": 101,
    "start_time": "2021-11-18T02:32:40.439Z"
   },
   {
    "duration": 98,
    "start_time": "2021-11-18T02:32:48.392Z"
   },
   {
    "duration": 89,
    "start_time": "2021-11-18T02:33:26.262Z"
   },
   {
    "duration": 107,
    "start_time": "2021-11-18T02:34:00.831Z"
   },
   {
    "duration": 40,
    "start_time": "2021-11-18T02:34:04.601Z"
   },
   {
    "duration": 36,
    "start_time": "2021-11-18T02:35:21.637Z"
   },
   {
    "duration": 105,
    "start_time": "2021-11-18T02:35:51.733Z"
   },
   {
    "duration": 41,
    "start_time": "2021-11-18T02:35:57.686Z"
   },
   {
    "duration": 18,
    "start_time": "2021-11-18T02:36:07.620Z"
   },
   {
    "duration": 38,
    "start_time": "2021-11-18T02:36:18.689Z"
   },
   {
    "duration": 92,
    "start_time": "2021-11-18T02:36:45.162Z"
   },
   {
    "duration": 38,
    "start_time": "2021-11-18T02:37:05.356Z"
   },
   {
    "duration": 36,
    "start_time": "2021-11-18T02:38:07.230Z"
   },
   {
    "duration": 28,
    "start_time": "2021-11-18T02:38:23.128Z"
   },
   {
    "duration": 15,
    "start_time": "2021-11-18T02:38:34.894Z"
   },
   {
    "duration": 17,
    "start_time": "2021-11-18T02:38:54.024Z"
   },
   {
    "duration": 29,
    "start_time": "2021-11-18T02:38:57.600Z"
   },
   {
    "duration": 55,
    "start_time": "2021-11-18T02:39:03.910Z"
   },
   {
    "duration": 47,
    "start_time": "2021-11-18T02:39:07.702Z"
   },
   {
    "duration": 69,
    "start_time": "2021-11-18T02:39:10.088Z"
   },
   {
    "duration": 10,
    "start_time": "2021-11-18T02:39:14.629Z"
   },
   {
    "duration": 14,
    "start_time": "2021-11-18T02:39:19.816Z"
   },
   {
    "duration": 14,
    "start_time": "2021-11-18T02:39:27.061Z"
   },
   {
    "duration": 14,
    "start_time": "2021-11-18T02:39:38.131Z"
   },
   {
    "duration": 6,
    "start_time": "2021-11-18T02:39:53.228Z"
   },
   {
    "duration": 14,
    "start_time": "2021-11-18T02:39:55.162Z"
   },
   {
    "duration": 17,
    "start_time": "2021-11-18T02:39:58.279Z"
   },
   {
    "duration": 17,
    "start_time": "2021-11-18T02:41:36.212Z"
   },
   {
    "duration": 22,
    "start_time": "2021-11-18T02:41:56.328Z"
   },
   {
    "duration": 103,
    "start_time": "2021-11-18T02:42:00.798Z"
   },
   {
    "duration": 16,
    "start_time": "2021-11-18T02:42:14.776Z"
   },
   {
    "duration": 13,
    "start_time": "2021-11-18T02:42:45.174Z"
   },
   {
    "duration": 3,
    "start_time": "2021-11-18T02:43:11.689Z"
   },
   {
    "duration": 53,
    "start_time": "2021-11-18T02:43:32.830Z"
   },
   {
    "duration": 53,
    "start_time": "2021-11-18T02:43:55.887Z"
   },
   {
    "duration": 6,
    "start_time": "2021-11-18T02:43:57.331Z"
   },
   {
    "duration": 11,
    "start_time": "2021-11-18T02:44:00.315Z"
   },
   {
    "duration": 14,
    "start_time": "2021-11-18T02:44:03.036Z"
   },
   {
    "duration": 11,
    "start_time": "2021-11-18T02:44:07.162Z"
   },
   {
    "duration": 15,
    "start_time": "2021-11-18T02:44:22.252Z"
   },
   {
    "duration": 58,
    "start_time": "2021-11-18T02:44:28.459Z"
   },
   {
    "duration": 53,
    "start_time": "2021-11-18T02:44:31.149Z"
   },
   {
    "duration": 55,
    "start_time": "2021-11-18T02:44:36.885Z"
   },
   {
    "duration": 46,
    "start_time": "2021-11-18T02:44:39.181Z"
   },
   {
    "duration": 65,
    "start_time": "2021-11-18T02:44:43.716Z"
   },
   {
    "duration": 10,
    "start_time": "2021-11-18T02:44:47.932Z"
   },
   {
    "duration": 12,
    "start_time": "2021-11-18T02:44:50.520Z"
   },
   {
    "duration": 11,
    "start_time": "2021-11-18T02:44:52.625Z"
   },
   {
    "duration": 8,
    "start_time": "2021-11-18T02:44:55.301Z"
   },
   {
    "duration": 10,
    "start_time": "2021-11-18T02:44:59.465Z"
   },
   {
    "duration": 8,
    "start_time": "2021-11-18T02:45:03.425Z"
   },
   {
    "duration": 12,
    "start_time": "2021-11-18T02:45:06.765Z"
   },
   {
    "duration": 15,
    "start_time": "2021-11-18T02:45:09.353Z"
   },
   {
    "duration": 11,
    "start_time": "2021-11-18T02:45:11.524Z"
   },
   {
    "duration": 11,
    "start_time": "2021-11-18T02:45:14.460Z"
   },
   {
    "duration": 9,
    "start_time": "2021-11-18T02:45:42.114Z"
   },
   {
    "duration": 11,
    "start_time": "2021-11-18T02:45:45.668Z"
   },
   {
    "duration": 17,
    "start_time": "2021-11-18T02:45:49.337Z"
   },
   {
    "duration": 23,
    "start_time": "2021-11-18T02:45:52.961Z"
   },
   {
    "duration": 11,
    "start_time": "2021-11-18T02:45:55.603Z"
   },
   {
    "duration": 10,
    "start_time": "2021-11-18T02:45:57.966Z"
   },
   {
    "duration": 10,
    "start_time": "2021-11-18T02:46:00.430Z"
   },
   {
    "duration": 6,
    "start_time": "2021-11-18T02:46:05.940Z"
   },
   {
    "duration": 11,
    "start_time": "2021-11-18T02:46:08.336Z"
   },
   {
    "duration": 23,
    "start_time": "2021-11-18T02:46:11.761Z"
   },
   {
    "duration": 25,
    "start_time": "2021-11-18T02:46:13.907Z"
   },
   {
    "duration": 24,
    "start_time": "2021-11-18T02:46:15.797Z"
   },
   {
    "duration": 16,
    "start_time": "2021-11-18T02:46:18.359Z"
   },
   {
    "duration": 4,
    "start_time": "2021-11-18T02:46:32.064Z"
   },
   {
    "duration": 14,
    "start_time": "2021-11-18T02:46:35.404Z"
   },
   {
    "duration": 39,
    "start_time": "2021-11-18T02:46:38.881Z"
   },
   {
    "duration": 13,
    "start_time": "2021-11-18T02:46:44.023Z"
   },
   {
    "duration": 6,
    "start_time": "2021-11-18T02:46:46.363Z"
   },
   {
    "duration": 3,
    "start_time": "2021-11-18T02:46:49.805Z"
   },
   {
    "duration": 6,
    "start_time": "2021-11-18T02:46:52.042Z"
   },
   {
    "duration": 13,
    "start_time": "2021-11-18T02:46:54.383Z"
   },
   {
    "duration": 21,
    "start_time": "2021-11-18T02:46:57.863Z"
   },
   {
    "duration": 62,
    "start_time": "2021-11-18T02:51:06.843Z"
   },
   {
    "duration": 22,
    "start_time": "2021-11-18T02:51:06.908Z"
   },
   {
    "duration": 18,
    "start_time": "2021-11-18T02:51:06.934Z"
   },
   {
    "duration": 17,
    "start_time": "2021-11-18T02:51:06.956Z"
   },
   {
    "duration": 11,
    "start_time": "2021-11-18T02:51:06.975Z"
   },
   {
    "duration": 52,
    "start_time": "2021-11-18T02:51:06.989Z"
   },
   {
    "duration": 5,
    "start_time": "2021-11-18T02:51:07.044Z"
   },
   {
    "duration": 29,
    "start_time": "2021-11-18T02:51:07.052Z"
   },
   {
    "duration": 60,
    "start_time": "2021-11-18T02:51:07.131Z"
   },
   {
    "duration": 78,
    "start_time": "2021-11-18T02:51:07.195Z"
   },
   {
    "duration": 70,
    "start_time": "2021-11-18T02:51:07.275Z"
   },
   {
    "duration": 45,
    "start_time": "2021-11-18T02:51:07.347Z"
   },
   {
    "duration": 3,
    "start_time": "2021-11-18T02:51:07.394Z"
   },
   {
    "duration": 88,
    "start_time": "2021-11-18T02:51:07.400Z"
   },
   {
    "duration": 75,
    "start_time": "2021-11-18T02:51:07.491Z"
   },
   {
    "duration": 10,
    "start_time": "2021-11-18T02:51:07.568Z"
   },
   {
    "duration": 36,
    "start_time": "2021-11-18T02:51:07.580Z"
   },
   {
    "duration": 35,
    "start_time": "2021-11-18T02:51:07.618Z"
   },
   {
    "duration": 27,
    "start_time": "2021-11-18T02:51:07.655Z"
   },
   {
    "duration": 35,
    "start_time": "2021-11-18T02:51:07.684Z"
   },
   {
    "duration": 32,
    "start_time": "2021-11-18T02:51:07.721Z"
   },
   {
    "duration": 40,
    "start_time": "2021-11-18T02:51:07.755Z"
   },
   {
    "duration": 38,
    "start_time": "2021-11-18T02:51:07.797Z"
   },
   {
    "duration": 22,
    "start_time": "2021-11-18T02:51:07.838Z"
   },
   {
    "duration": 45,
    "start_time": "2021-11-18T02:51:07.862Z"
   },
   {
    "duration": 27,
    "start_time": "2021-11-18T02:51:07.909Z"
   },
   {
    "duration": 20,
    "start_time": "2021-11-18T02:51:07.943Z"
   },
   {
    "duration": 27,
    "start_time": "2021-11-18T02:51:07.966Z"
   },
   {
    "duration": 35,
    "start_time": "2021-11-18T02:51:07.996Z"
   },
   {
    "duration": 27,
    "start_time": "2021-11-18T02:51:08.034Z"
   },
   {
    "duration": 44,
    "start_time": "2021-11-18T02:51:08.063Z"
   },
   {
    "duration": 28,
    "start_time": "2021-11-18T02:51:08.110Z"
   },
   {
    "duration": 22,
    "start_time": "2021-11-18T02:51:08.140Z"
   },
   {
    "duration": 26,
    "start_time": "2021-11-18T02:51:08.165Z"
   },
   {
    "duration": 15,
    "start_time": "2021-11-18T02:51:08.194Z"
   },
   {
    "duration": 21,
    "start_time": "2021-11-18T02:51:08.212Z"
   },
   {
    "duration": 40,
    "start_time": "2021-11-18T02:51:08.235Z"
   },
   {
    "duration": 23,
    "start_time": "2021-11-18T02:51:08.277Z"
   },
   {
    "duration": 22,
    "start_time": "2021-11-18T02:51:08.302Z"
   },
   {
    "duration": 14,
    "start_time": "2021-11-18T02:51:08.329Z"
   },
   {
    "duration": 8,
    "start_time": "2021-11-18T02:51:08.345Z"
   },
   {
    "duration": 14,
    "start_time": "2021-11-18T02:51:08.355Z"
   },
   {
    "duration": 30,
    "start_time": "2021-11-18T02:51:08.372Z"
   },
   {
    "duration": 40,
    "start_time": "2021-11-18T02:51:08.405Z"
   },
   {
    "duration": 39,
    "start_time": "2021-11-18T02:51:08.448Z"
   },
   {
    "duration": 64,
    "start_time": "2021-11-18T02:51:08.490Z"
   },
   {
    "duration": 15,
    "start_time": "2021-11-18T02:51:08.557Z"
   },
   {
    "duration": 19,
    "start_time": "2021-11-18T02:51:08.575Z"
   },
   {
    "duration": 27,
    "start_time": "2021-11-18T02:51:08.597Z"
   },
   {
    "duration": 20,
    "start_time": "2021-11-18T02:51:08.627Z"
   },
   {
    "duration": 27,
    "start_time": "2021-11-18T02:51:08.650Z"
   },
   {
    "duration": 32,
    "start_time": "2021-11-18T02:51:08.679Z"
   },
   {
    "duration": 16,
    "start_time": "2021-11-18T02:51:08.714Z"
   },
   {
    "duration": 43,
    "start_time": "2021-11-18T02:51:08.732Z"
   },
   {
    "duration": 7,
    "start_time": "2021-11-18T02:51:08.777Z"
   },
   {
    "duration": 14,
    "start_time": "2021-11-18T02:51:08.787Z"
   },
   {
    "duration": 18,
    "start_time": "2021-11-18T02:51:08.803Z"
   },
   {
    "duration": 28,
    "start_time": "2021-11-18T02:51:08.823Z"
   },
   {
    "duration": 16440,
    "start_time": "2021-11-18T02:51:08.854Z"
   },
   {
    "duration": 49,
    "start_time": "2021-11-18T02:51:25.296Z"
   },
   {
    "duration": 5,
    "start_time": "2021-11-18T02:51:25.347Z"
   },
   {
    "duration": 18,
    "start_time": "2021-11-18T02:51:25.354Z"
   },
   {
    "duration": 11,
    "start_time": "2021-11-18T02:51:25.375Z"
   },
   {
    "duration": 47,
    "start_time": "2021-11-18T02:51:25.389Z"
   },
   {
    "duration": 11,
    "start_time": "2021-11-18T02:51:25.439Z"
   },
   {
    "duration": 17,
    "start_time": "2021-11-18T02:51:25.453Z"
   },
   {
    "duration": 4,
    "start_time": "2021-11-18T02:51:25.473Z"
   },
   {
    "duration": 61,
    "start_time": "2021-11-18T02:51:25.480Z"
   },
   {
    "duration": 13,
    "start_time": "2021-11-18T02:51:25.544Z"
   },
   {
    "duration": 12,
    "start_time": "2021-11-18T02:51:25.560Z"
   },
   {
    "duration": 9,
    "start_time": "2021-11-18T02:51:25.574Z"
   },
   {
    "duration": 47,
    "start_time": "2021-11-18T02:51:25.585Z"
   },
   {
    "duration": 11,
    "start_time": "2021-11-18T02:51:25.634Z"
   },
   {
    "duration": 11,
    "start_time": "2021-11-18T02:51:25.647Z"
   },
   {
    "duration": 3,
    "start_time": "2021-11-18T02:51:25.661Z"
   },
   {
    "duration": 7,
    "start_time": "2021-11-18T02:51:25.667Z"
   },
   {
    "duration": 6,
    "start_time": "2021-11-18T02:51:25.677Z"
   },
   {
    "duration": 3,
    "start_time": "2021-11-18T02:52:56.629Z"
   },
   {
    "duration": 7,
    "start_time": "2021-11-18T02:52:57.538Z"
   },
   {
    "duration": 13,
    "start_time": "2021-11-18T02:53:07.378Z"
   },
   {
    "duration": 6,
    "start_time": "2021-11-18T02:53:09.272Z"
   },
   {
    "duration": 267,
    "start_time": "2021-11-18T02:53:42.490Z"
   },
   {
    "duration": 5,
    "start_time": "2021-11-18T02:53:51.446Z"
   },
   {
    "duration": 12,
    "start_time": "2021-11-18T02:53:57.852Z"
   },
   {
    "duration": 13,
    "start_time": "2021-11-18T02:54:52.083Z"
   },
   {
    "duration": 15,
    "start_time": "2021-11-18T02:54:56.563Z"
   },
   {
    "duration": 7,
    "start_time": "2021-11-18T02:55:33.090Z"
   },
   {
    "duration": 12,
    "start_time": "2021-11-18T02:55:35.609Z"
   },
   {
    "duration": 5,
    "start_time": "2021-11-18T02:55:38.210Z"
   },
   {
    "duration": 259,
    "start_time": "2021-11-18T02:56:04.095Z"
   },
   {
    "duration": 267,
    "start_time": "2021-11-18T02:56:06.502Z"
   },
   {
    "duration": 263,
    "start_time": "2021-11-18T02:56:27.472Z"
   },
   {
    "duration": 275,
    "start_time": "2021-11-18T02:56:34.583Z"
   },
   {
    "duration": 7,
    "start_time": "2021-11-18T02:56:57.195Z"
   },
   {
    "duration": 20,
    "start_time": "2021-11-18T02:58:32.403Z"
   },
   {
    "duration": 290,
    "start_time": "2021-11-18T02:59:22.431Z"
   },
   {
    "duration": 5,
    "start_time": "2021-11-18T02:59:24.412Z"
   },
   {
    "duration": 5,
    "start_time": "2021-11-18T02:59:25.818Z"
   },
   {
    "duration": 13,
    "start_time": "2021-11-18T02:59:27.596Z"
   },
   {
    "duration": 44,
    "start_time": "2021-11-18T02:59:29.278Z"
   },
   {
    "duration": 5,
    "start_time": "2021-11-18T02:59:43.155Z"
   },
   {
    "duration": 4,
    "start_time": "2021-11-18T03:00:26.983Z"
   },
   {
    "duration": 5,
    "start_time": "2021-11-18T03:00:28.006Z"
   },
   {
    "duration": 12,
    "start_time": "2021-11-18T03:00:29.538Z"
   },
   {
    "duration": 43,
    "start_time": "2021-11-18T03:00:30.619Z"
   },
   {
    "duration": 5,
    "start_time": "2021-11-18T03:00:33.690Z"
   },
   {
    "duration": 18,
    "start_time": "2021-11-18T03:00:35.904Z"
   },
   {
    "duration": 12,
    "start_time": "2021-11-18T03:00:39.719Z"
   },
   {
    "duration": 16,
    "start_time": "2021-11-18T03:01:19.914Z"
   },
   {
    "duration": 12,
    "start_time": "2021-11-18T03:01:31.133Z"
   },
   {
    "duration": 53,
    "start_time": "2021-11-18T03:01:39.455Z"
   },
   {
    "duration": 5,
    "start_time": "2021-11-18T03:01:39.510Z"
   },
   {
    "duration": 20,
    "start_time": "2021-11-18T03:01:39.518Z"
   },
   {
    "duration": 19,
    "start_time": "2021-11-18T03:01:39.540Z"
   },
   {
    "duration": 12,
    "start_time": "2021-11-18T03:01:39.561Z"
   },
   {
    "duration": 63,
    "start_time": "2021-11-18T03:01:39.575Z"
   },
   {
    "duration": 5,
    "start_time": "2021-11-18T03:01:39.640Z"
   },
   {
    "duration": 28,
    "start_time": "2021-11-18T03:01:39.649Z"
   },
   {
    "duration": 91,
    "start_time": "2021-11-18T03:01:39.680Z"
   },
   {
    "duration": 67,
    "start_time": "2021-11-18T03:01:39.773Z"
   },
   {
    "duration": 65,
    "start_time": "2021-11-18T03:01:39.843Z"
   },
   {
    "duration": 62,
    "start_time": "2021-11-18T03:01:39.910Z"
   },
   {
    "duration": 3,
    "start_time": "2021-11-18T03:01:39.974Z"
   },
   {
    "duration": 88,
    "start_time": "2021-11-18T03:01:39.979Z"
   },
   {
    "duration": 75,
    "start_time": "2021-11-18T03:01:40.069Z"
   },
   {
    "duration": 9,
    "start_time": "2021-11-18T03:01:40.147Z"
   },
   {
    "duration": 16,
    "start_time": "2021-11-18T03:01:40.158Z"
   },
   {
    "duration": 14,
    "start_time": "2021-11-18T03:01:40.177Z"
   },
   {
    "duration": 10,
    "start_time": "2021-11-18T03:01:40.193Z"
   },
   {
    "duration": 10,
    "start_time": "2021-11-18T03:01:40.230Z"
   },
   {
    "duration": 10,
    "start_time": "2021-11-18T03:01:40.243Z"
   },
   {
    "duration": 13,
    "start_time": "2021-11-18T03:01:40.255Z"
   },
   {
    "duration": 13,
    "start_time": "2021-11-18T03:01:40.274Z"
   },
   {
    "duration": 12,
    "start_time": "2021-11-18T03:01:40.329Z"
   },
   {
    "duration": 10,
    "start_time": "2021-11-18T03:01:40.344Z"
   },
   {
    "duration": 9,
    "start_time": "2021-11-18T03:01:40.357Z"
   },
   {
    "duration": 12,
    "start_time": "2021-11-18T03:01:40.369Z"
   },
   {
    "duration": 53,
    "start_time": "2021-11-18T03:01:40.383Z"
   },
   {
    "duration": 9,
    "start_time": "2021-11-18T03:01:40.439Z"
   },
   {
    "duration": 5,
    "start_time": "2021-11-18T03:01:40.450Z"
   },
   {
    "duration": 24,
    "start_time": "2021-11-18T03:01:40.458Z"
   },
   {
    "duration": 45,
    "start_time": "2021-11-18T03:01:40.485Z"
   },
   {
    "duration": 12,
    "start_time": "2021-11-18T03:01:40.533Z"
   },
   {
    "duration": 12,
    "start_time": "2021-11-18T03:01:40.548Z"
   },
   {
    "duration": 7,
    "start_time": "2021-11-18T03:01:40.563Z"
   },
   {
    "duration": 17,
    "start_time": "2021-11-18T03:01:40.573Z"
   },
   {
    "duration": 62,
    "start_time": "2021-11-18T03:01:40.593Z"
   },
   {
    "duration": 24,
    "start_time": "2021-11-18T03:01:40.658Z"
   },
   {
    "duration": 54,
    "start_time": "2021-11-18T03:01:40.685Z"
   },
   {
    "duration": 16,
    "start_time": "2021-11-18T03:01:40.742Z"
   },
   {
    "duration": 4,
    "start_time": "2021-11-18T03:01:40.761Z"
   },
   {
    "duration": 7,
    "start_time": "2021-11-18T03:01:40.768Z"
   },
   {
    "duration": 11,
    "start_time": "2021-11-18T03:01:40.777Z"
   },
   {
    "duration": 22,
    "start_time": "2021-11-18T03:01:40.831Z"
   },
   {
    "duration": 17,
    "start_time": "2021-11-18T03:01:40.855Z"
   },
   {
    "duration": 55,
    "start_time": "2021-11-18T03:01:40.875Z"
   },
   {
    "duration": 13,
    "start_time": "2021-11-18T03:01:40.933Z"
   },
   {
    "duration": 5,
    "start_time": "2021-11-18T03:01:40.948Z"
   },
   {
    "duration": 5,
    "start_time": "2021-11-18T03:01:40.955Z"
   },
   {
    "duration": 10,
    "start_time": "2021-11-18T03:01:40.962Z"
   },
   {
    "duration": 58,
    "start_time": "2021-11-18T03:01:40.974Z"
   },
   {
    "duration": 28,
    "start_time": "2021-11-18T03:01:41.034Z"
   },
   {
    "duration": 17,
    "start_time": "2021-11-18T03:01:41.064Z"
   },
   {
    "duration": 33,
    "start_time": "2021-11-18T03:01:41.083Z"
   },
   {
    "duration": 12,
    "start_time": "2021-11-18T03:01:41.119Z"
   },
   {
    "duration": 13,
    "start_time": "2021-11-18T03:01:41.133Z"
   },
   {
    "duration": 5,
    "start_time": "2021-11-18T03:01:41.148Z"
   },
   {
    "duration": 16,
    "start_time": "2021-11-18T03:01:41.155Z"
   },
   {
    "duration": 31,
    "start_time": "2021-11-18T03:01:41.174Z"
   },
   {
    "duration": 60,
    "start_time": "2021-11-18T03:01:41.207Z"
   },
   {
    "duration": 26,
    "start_time": "2021-11-18T03:01:41.270Z"
   },
   {
    "duration": 32,
    "start_time": "2021-11-18T03:01:41.298Z"
   },
   {
    "duration": 23,
    "start_time": "2021-11-18T03:01:41.332Z"
   },
   {
    "duration": 21,
    "start_time": "2021-11-18T03:01:41.357Z"
   },
   {
    "duration": 17,
    "start_time": "2021-11-18T03:01:41.380Z"
   },
   {
    "duration": 32,
    "start_time": "2021-11-18T03:01:41.399Z"
   },
   {
    "duration": 2,
    "start_time": "2021-11-18T03:01:41.434Z"
   },
   {
    "duration": 24,
    "start_time": "2021-11-18T03:01:41.445Z"
   },
   {
    "duration": 15,
    "start_time": "2021-11-18T03:01:41.471Z"
   },
   {
    "duration": 41,
    "start_time": "2021-11-18T03:01:41.488Z"
   },
   {
    "duration": 9,
    "start_time": "2021-11-18T03:01:41.532Z"
   },
   {
    "duration": 13,
    "start_time": "2021-11-18T03:01:41.543Z"
   },
   {
    "duration": 16,
    "start_time": "2021-11-18T03:01:41.558Z"
   },
   {
    "duration": 11,
    "start_time": "2021-11-18T03:01:41.576Z"
   },
   {
    "duration": 13,
    "start_time": "2021-11-18T03:01:41.589Z"
   },
   {
    "duration": 3,
    "start_time": "2021-11-18T03:01:41.628Z"
   },
   {
    "duration": 11,
    "start_time": "2021-11-18T03:01:41.634Z"
   },
   {
    "duration": 21,
    "start_time": "2021-11-18T03:01:55.769Z"
   },
   {
    "duration": 11,
    "start_time": "2021-11-18T03:02:06.210Z"
   },
   {
    "duration": 9,
    "start_time": "2021-11-18T03:02:08.743Z"
   },
   {
    "duration": 12,
    "start_time": "2021-11-18T03:02:09.652Z"
   },
   {
    "duration": 10,
    "start_time": "2021-11-18T03:02:10.531Z"
   },
   {
    "duration": 11,
    "start_time": "2021-11-18T03:03:05.039Z"
   },
   {
    "duration": 14,
    "start_time": "2021-11-18T03:03:11.629Z"
   },
   {
    "duration": 9,
    "start_time": "2021-11-18T03:03:30.513Z"
   },
   {
    "duration": 11,
    "start_time": "2021-11-18T03:03:36.110Z"
   },
   {
    "duration": 7,
    "start_time": "2021-11-18T03:03:48.824Z"
   },
   {
    "duration": 11,
    "start_time": "2021-11-18T03:03:51.983Z"
   },
   {
    "duration": 8,
    "start_time": "2021-11-18T03:03:57.652Z"
   },
   {
    "duration": 10,
    "start_time": "2021-11-18T03:04:00.026Z"
   },
   {
    "duration": 8,
    "start_time": "2021-11-18T03:04:03.080Z"
   },
   {
    "duration": 12,
    "start_time": "2021-11-18T03:04:04.694Z"
   },
   {
    "duration": 11,
    "start_time": "2021-11-18T03:04:07.417Z"
   },
   {
    "duration": 8,
    "start_time": "2021-11-18T03:04:11.387Z"
   },
   {
    "duration": 12,
    "start_time": "2021-11-18T03:04:13.300Z"
   },
   {
    "duration": 18,
    "start_time": "2021-11-18T03:04:15.438Z"
   },
   {
    "duration": 19,
    "start_time": "2021-11-18T03:04:28.073Z"
   },
   {
    "duration": 14,
    "start_time": "2021-11-18T03:04:31.178Z"
   },
   {
    "duration": 10,
    "start_time": "2021-11-18T03:04:32.795Z"
   },
   {
    "duration": 9,
    "start_time": "2021-11-18T03:04:35.802Z"
   },
   {
    "duration": 5,
    "start_time": "2021-11-18T03:04:46.163Z"
   },
   {
    "duration": 9,
    "start_time": "2021-11-18T03:04:47.782Z"
   },
   {
    "duration": 53,
    "start_time": "2021-11-18T03:05:53.594Z"
   },
   {
    "duration": 5,
    "start_time": "2021-11-18T03:05:55.047Z"
   },
   {
    "duration": 11,
    "start_time": "2021-11-18T03:05:58.557Z"
   },
   {
    "duration": 15,
    "start_time": "2021-11-18T03:06:02.299Z"
   },
   {
    "duration": 10,
    "start_time": "2021-11-18T03:06:06.318Z"
   },
   {
    "duration": 15,
    "start_time": "2021-11-18T03:06:09.976Z"
   },
   {
    "duration": 31,
    "start_time": "2021-11-18T03:06:28.990Z"
   },
   {
    "duration": 29,
    "start_time": "2021-11-18T03:06:41.103Z"
   },
   {
    "duration": 60,
    "start_time": "2021-11-18T03:06:45.705Z"
   },
   {
    "duration": 52,
    "start_time": "2021-11-18T03:06:50.476Z"
   },
   {
    "duration": 55,
    "start_time": "2021-11-18T03:06:53.804Z"
   },
   {
    "duration": 46,
    "start_time": "2021-11-18T03:06:57.091Z"
   },
   {
    "duration": 66,
    "start_time": "2021-11-18T03:07:01.601Z"
   },
   {
    "duration": 57,
    "start_time": "2021-11-18T03:07:04.609Z"
   },
   {
    "duration": 10,
    "start_time": "2021-11-18T03:07:08.497Z"
   },
   {
    "duration": 12,
    "start_time": "2021-11-18T03:07:11.884Z"
   },
   {
    "duration": 11,
    "start_time": "2021-11-18T03:07:13.526Z"
   },
   {
    "duration": 8,
    "start_time": "2021-11-18T03:07:16.559Z"
   },
   {
    "duration": 10,
    "start_time": "2021-11-18T03:07:19.411Z"
   },
   {
    "duration": 8,
    "start_time": "2021-11-18T03:07:22.650Z"
   },
   {
    "duration": 11,
    "start_time": "2021-11-18T03:07:25.530Z"
   },
   {
    "duration": 15,
    "start_time": "2021-11-18T03:07:29.380Z"
   },
   {
    "duration": 8,
    "start_time": "2021-11-18T03:08:08.178Z"
   },
   {
    "duration": 12,
    "start_time": "2021-11-18T03:08:11.576Z"
   },
   {
    "duration": 11,
    "start_time": "2021-11-18T03:08:15.783Z"
   },
   {
    "duration": 9,
    "start_time": "2021-11-18T03:08:19.362Z"
   },
   {
    "duration": 11,
    "start_time": "2021-11-18T03:08:24.447Z"
   },
   {
    "duration": 17,
    "start_time": "2021-11-18T03:08:27.552Z"
   },
   {
    "duration": 21,
    "start_time": "2021-11-18T03:08:33.008Z"
   },
   {
    "duration": 11,
    "start_time": "2021-11-18T03:08:35.831Z"
   },
   {
    "duration": 10,
    "start_time": "2021-11-18T03:08:38.385Z"
   },
   {
    "duration": 9,
    "start_time": "2021-11-18T03:08:41.783Z"
   },
   {
    "duration": 5,
    "start_time": "2021-11-18T03:08:44.248Z"
   },
   {
    "duration": 9,
    "start_time": "2021-11-18T03:08:46.642Z"
   },
   {
    "duration": 26,
    "start_time": "2021-11-18T03:08:49.860Z"
   },
   {
    "duration": 25,
    "start_time": "2021-11-18T03:08:51.986Z"
   },
   {
    "duration": 23,
    "start_time": "2021-11-18T03:08:53.505Z"
   },
   {
    "duration": 4,
    "start_time": "2021-11-18T03:09:01.951Z"
   },
   {
    "duration": 5,
    "start_time": "2021-11-18T03:09:04.149Z"
   },
   {
    "duration": 16,
    "start_time": "2021-11-18T03:09:07.039Z"
   },
   {
    "duration": 41,
    "start_time": "2021-11-18T03:09:10.009Z"
   },
   {
    "duration": 14,
    "start_time": "2021-11-18T03:09:14.599Z"
   },
   {
    "duration": 7,
    "start_time": "2021-11-18T03:09:17.321Z"
   },
   {
    "duration": 5,
    "start_time": "2021-11-18T03:09:20.586Z"
   },
   {
    "duration": 8,
    "start_time": "2021-11-18T03:09:22.429Z"
   },
   {
    "duration": 10,
    "start_time": "2021-11-18T03:09:33.455Z"
   },
   {
    "duration": 15,
    "start_time": "2021-11-18T03:09:36.694Z"
   },
   {
    "duration": 29,
    "start_time": "2021-11-18T03:09:41.014Z"
   },
   {
    "duration": 22,
    "start_time": "2021-11-18T03:09:45.446Z"
   },
   {
    "duration": 6,
    "start_time": "2021-11-18T03:09:49.440Z"
   },
   {
    "duration": 7,
    "start_time": "2021-11-18T03:09:51.318Z"
   },
   {
    "duration": 5,
    "start_time": "2021-11-18T03:09:53.749Z"
   },
   {
    "duration": 5,
    "start_time": "2021-11-18T03:09:55.593Z"
   },
   {
    "duration": 12,
    "start_time": "2021-11-18T03:09:57.686Z"
   },
   {
    "duration": 44,
    "start_time": "2021-11-18T03:09:59.678Z"
   },
   {
    "duration": 4,
    "start_time": "2021-11-18T03:10:04.278Z"
   },
   {
    "duration": 18,
    "start_time": "2021-11-18T03:10:08.149Z"
   },
   {
    "duration": 13,
    "start_time": "2021-11-18T03:10:11.861Z"
   },
   {
    "duration": 10,
    "start_time": "2021-11-18T03:10:16.172Z"
   },
   {
    "duration": 11,
    "start_time": "2021-11-18T03:10:18.780Z"
   },
   {
    "duration": 13,
    "start_time": "2021-11-18T03:10:21.019Z"
   },
   {
    "duration": 11,
    "start_time": "2021-11-18T03:10:29.638Z"
   },
   {
    "duration": 13,
    "start_time": "2021-11-18T03:10:31.235Z"
   },
   {
    "duration": 11,
    "start_time": "2021-11-18T03:10:32.203Z"
   },
   {
    "duration": 22,
    "start_time": "2021-11-18T03:10:39.998Z"
   },
   {
    "duration": 17,
    "start_time": "2021-11-18T03:10:59.635Z"
   },
   {
    "duration": 285,
    "start_time": "2021-11-18T03:11:13.828Z"
   },
   {
    "duration": 9,
    "start_time": "2021-11-18T03:11:23.031Z"
   },
   {
    "duration": 8,
    "start_time": "2021-11-18T03:12:03.169Z"
   },
   {
    "duration": 14,
    "start_time": "2021-11-18T03:12:51.804Z"
   },
   {
    "duration": 6,
    "start_time": "2021-11-18T03:12:56.157Z"
   },
   {
    "duration": 6,
    "start_time": "2021-11-18T03:13:01.085Z"
   },
   {
    "duration": 8,
    "start_time": "2021-11-18T03:13:06.676Z"
   },
   {
    "duration": 13,
    "start_time": "2021-11-18T03:13:12.065Z"
   },
   {
    "duration": 45,
    "start_time": "2021-11-18T03:13:30.875Z"
   },
   {
    "duration": 14,
    "start_time": "2021-11-18T03:13:35.611Z"
   },
   {
    "duration": 5,
    "start_time": "2021-11-18T03:13:40.001Z"
   },
   {
    "duration": 6,
    "start_time": "2021-11-18T03:13:43.699Z"
   },
   {
    "duration": 8,
    "start_time": "2021-11-18T03:13:45.962Z"
   },
   {
    "duration": 13,
    "start_time": "2021-11-18T03:13:50.428Z"
   },
   {
    "duration": 18,
    "start_time": "2021-11-18T03:13:57.651Z"
   },
   {
    "duration": 5,
    "start_time": "2021-11-18T03:14:02.421Z"
   },
   {
    "duration": 6,
    "start_time": "2021-11-18T03:14:03.775Z"
   },
   {
    "duration": 4,
    "start_time": "2021-11-18T03:14:06.109Z"
   },
   {
    "duration": 12,
    "start_time": "2021-11-18T03:14:08.608Z"
   },
   {
    "duration": 42,
    "start_time": "2021-11-18T03:14:10.680Z"
   },
   {
    "duration": 4,
    "start_time": "2021-11-18T03:14:57.566Z"
   },
   {
    "duration": 18,
    "start_time": "2021-11-18T03:14:59.246Z"
   },
   {
    "duration": 7,
    "start_time": "2021-11-18T03:15:21.120Z"
   },
   {
    "duration": 9,
    "start_time": "2021-11-18T03:15:27.642Z"
   },
   {
    "duration": 16,
    "start_time": "2021-11-18T03:15:37.025Z"
   },
   {
    "duration": 18,
    "start_time": "2021-11-18T03:15:49.579Z"
   },
   {
    "duration": 41,
    "start_time": "2021-11-18T03:16:07.376Z"
   },
   {
    "duration": 8,
    "start_time": "2021-11-18T03:18:54.339Z"
   },
   {
    "duration": 54,
    "start_time": "2021-11-18T03:20:42.760Z"
   },
   {
    "duration": 5,
    "start_time": "2021-11-18T03:20:42.816Z"
   },
   {
    "duration": 13,
    "start_time": "2021-11-18T03:20:42.824Z"
   },
   {
    "duration": 17,
    "start_time": "2021-11-18T03:20:42.840Z"
   },
   {
    "duration": 10,
    "start_time": "2021-11-18T03:20:42.859Z"
   },
   {
    "duration": 63,
    "start_time": "2021-11-18T03:20:42.871Z"
   },
   {
    "duration": 5,
    "start_time": "2021-11-18T03:20:42.936Z"
   },
   {
    "duration": 38,
    "start_time": "2021-11-18T03:20:42.944Z"
   },
   {
    "duration": 88,
    "start_time": "2021-11-18T03:20:42.984Z"
   },
   {
    "duration": 74,
    "start_time": "2021-11-18T03:20:43.074Z"
   },
   {
    "duration": 79,
    "start_time": "2021-11-18T03:20:43.150Z"
   },
   {
    "duration": 46,
    "start_time": "2021-11-18T03:20:43.231Z"
   },
   {
    "duration": 3,
    "start_time": "2021-11-18T03:20:43.280Z"
   },
   {
    "duration": 93,
    "start_time": "2021-11-18T03:20:43.285Z"
   },
   {
    "duration": 76,
    "start_time": "2021-11-18T03:20:43.381Z"
   },
   {
    "duration": 9,
    "start_time": "2021-11-18T03:20:43.460Z"
   },
   {
    "duration": 15,
    "start_time": "2021-11-18T03:20:43.472Z"
   },
   {
    "duration": 8,
    "start_time": "2021-11-18T03:20:48.561Z"
   },
   {
    "duration": 10,
    "start_time": "2021-11-18T03:20:56.234Z"
   },
   {
    "duration": 8,
    "start_time": "2021-11-18T03:20:58.551Z"
   },
   {
    "duration": 11,
    "start_time": "2021-11-18T03:21:20.746Z"
   },
   {
    "duration": 9,
    "start_time": "2021-11-18T03:21:25.123Z"
   },
   {
    "duration": 8,
    "start_time": "2021-11-18T03:21:42.113Z"
   },
   {
    "duration": 7,
    "start_time": "2021-11-18T03:21:44.013Z"
   },
   {
    "duration": 10,
    "start_time": "2021-11-18T03:21:53.548Z"
   },
   {
    "duration": 10,
    "start_time": "2021-11-18T03:22:08.963Z"
   },
   {
    "duration": 8,
    "start_time": "2021-11-18T03:22:10.584Z"
   },
   {
    "duration": 4,
    "start_time": "2021-11-18T03:22:25.874Z"
   },
   {
    "duration": 7,
    "start_time": "2021-11-18T03:22:27.708Z"
   },
   {
    "duration": 7,
    "start_time": "2021-11-18T03:22:36.921Z"
   },
   {
    "duration": 51,
    "start_time": "2021-11-18T03:22:44.540Z"
   },
   {
    "duration": 5,
    "start_time": "2021-11-18T03:22:44.594Z"
   },
   {
    "duration": 36,
    "start_time": "2021-11-18T03:22:44.602Z"
   },
   {
    "duration": 23,
    "start_time": "2021-11-18T03:22:44.641Z"
   },
   {
    "duration": 11,
    "start_time": "2021-11-18T03:22:44.666Z"
   },
   {
    "duration": 51,
    "start_time": "2021-11-18T03:22:44.679Z"
   },
   {
    "duration": 5,
    "start_time": "2021-11-18T03:22:44.733Z"
   },
   {
    "duration": 30,
    "start_time": "2021-11-18T03:22:44.740Z"
   },
   {
    "duration": 91,
    "start_time": "2021-11-18T03:22:44.774Z"
   },
   {
    "duration": 68,
    "start_time": "2021-11-18T03:22:44.868Z"
   },
   {
    "duration": 54,
    "start_time": "2021-11-18T03:22:44.938Z"
   },
   {
    "duration": 66,
    "start_time": "2021-11-18T03:22:44.995Z"
   },
   {
    "duration": 3,
    "start_time": "2021-11-18T03:22:45.064Z"
   },
   {
    "duration": 87,
    "start_time": "2021-11-18T03:22:45.069Z"
   },
   {
    "duration": 72,
    "start_time": "2021-11-18T03:22:45.158Z"
   },
   {
    "duration": 10,
    "start_time": "2021-11-18T03:22:45.232Z"
   },
   {
    "duration": 17,
    "start_time": "2021-11-18T03:22:45.244Z"
   },
   {
    "duration": 8,
    "start_time": "2021-11-18T03:22:49.623Z"
   },
   {
    "duration": 5,
    "start_time": "2021-11-18T03:22:51.771Z"
   },
   {
    "duration": 8,
    "start_time": "2021-11-18T03:22:54.222Z"
   },
   {
    "duration": 5,
    "start_time": "2021-11-18T03:22:58.104Z"
   },
   {
    "duration": 8,
    "start_time": "2021-11-18T03:22:59.960Z"
   },
   {
    "duration": 7,
    "start_time": "2021-11-18T03:23:04.719Z"
   },
   {
    "duration": 8,
    "start_time": "2021-11-18T03:23:06.627Z"
   },
   {
    "duration": 9,
    "start_time": "2021-11-18T03:23:13.471Z"
   },
   {
    "duration": 7,
    "start_time": "2021-11-18T03:23:17.230Z"
   },
   {
    "duration": 12,
    "start_time": "2021-11-18T03:23:23.620Z"
   },
   {
    "duration": 14,
    "start_time": "2021-11-18T03:23:26.364Z"
   },
   {
    "duration": 11,
    "start_time": "2021-11-18T03:23:27.953Z"
   },
   {
    "duration": 11,
    "start_time": "2021-11-18T03:23:30.089Z"
   },
   {
    "duration": 9,
    "start_time": "2021-11-18T03:23:32.767Z"
   },
   {
    "duration": 12,
    "start_time": "2021-11-18T03:23:34.475Z"
   },
   {
    "duration": 17,
    "start_time": "2021-11-18T03:23:36.907Z"
   },
   {
    "duration": 20,
    "start_time": "2021-11-18T03:23:39.820Z"
   },
   {
    "duration": 12,
    "start_time": "2021-11-18T03:23:42.069Z"
   },
   {
    "duration": 10,
    "start_time": "2021-11-18T03:23:44.028Z"
   },
   {
    "duration": 10,
    "start_time": "2021-11-18T03:23:46.389Z"
   },
   {
    "duration": 6,
    "start_time": "2021-11-18T03:23:48.539Z"
   },
   {
    "duration": 10,
    "start_time": "2021-11-18T03:23:50.562Z"
   },
   {
    "duration": 24,
    "start_time": "2021-11-18T03:23:52.735Z"
   },
   {
    "duration": 24,
    "start_time": "2021-11-18T03:23:55.064Z"
   },
   {
    "duration": 23,
    "start_time": "2021-11-18T03:23:56.582Z"
   },
   {
    "duration": 14,
    "start_time": "2021-11-18T03:23:58.991Z"
   },
   {
    "duration": 3,
    "start_time": "2021-11-18T03:24:07.817Z"
   },
   {
    "duration": 4,
    "start_time": "2021-11-18T03:24:10.094Z"
   },
   {
    "duration": 15,
    "start_time": "2021-11-18T03:24:13.288Z"
   },
   {
    "duration": 40,
    "start_time": "2021-11-18T03:24:16.282Z"
   },
   {
    "duration": 13,
    "start_time": "2021-11-18T03:24:19.960Z"
   },
   {
    "duration": 6,
    "start_time": "2021-11-18T03:24:22.377Z"
   },
   {
    "duration": 5,
    "start_time": "2021-11-18T03:24:24.424Z"
   },
   {
    "duration": 8,
    "start_time": "2021-11-18T03:24:26.239Z"
   },
   {
    "duration": 12,
    "start_time": "2021-11-18T03:24:29.342Z"
   },
   {
    "duration": 20,
    "start_time": "2021-11-18T03:24:33.009Z"
   },
   {
    "duration": 6,
    "start_time": "2021-11-18T03:24:37.408Z"
   },
   {
    "duration": 7,
    "start_time": "2021-11-18T03:24:39.389Z"
   },
   {
    "duration": 4,
    "start_time": "2021-11-18T03:24:43.306Z"
   },
   {
    "duration": 4,
    "start_time": "2021-11-18T03:24:44.653Z"
   },
   {
    "duration": 12,
    "start_time": "2021-11-18T03:24:46.869Z"
   },
   {
    "duration": 40,
    "start_time": "2021-11-18T03:24:48.830Z"
   },
   {
    "duration": 5,
    "start_time": "2021-11-18T03:24:58.333Z"
   },
   {
    "duration": 16,
    "start_time": "2021-11-18T03:25:01.507Z"
   },
   {
    "duration": 12,
    "start_time": "2021-11-18T03:25:05.209Z"
   },
   {
    "duration": 10,
    "start_time": "2021-11-18T03:25:07.807Z"
   },
   {
    "duration": 11,
    "start_time": "2021-11-18T03:25:10.089Z"
   },
   {
    "duration": 11,
    "start_time": "2021-11-18T03:25:12.880Z"
   },
   {
    "duration": 10,
    "start_time": "2021-11-18T03:25:26.223Z"
   },
   {
    "duration": 10,
    "start_time": "2021-11-18T03:26:03.484Z"
   },
   {
    "duration": 12,
    "start_time": "2021-11-18T03:26:04.901Z"
   },
   {
    "duration": 10,
    "start_time": "2021-11-18T03:26:06.728Z"
   },
   {
    "duration": 45,
    "start_time": "2021-11-18T03:26:10.767Z"
   },
   {
    "duration": 116,
    "start_time": "2021-11-18T03:26:21.268Z"
   },
   {
    "duration": 39,
    "start_time": "2021-11-18T03:26:25.523Z"
   },
   {
    "duration": 40,
    "start_time": "2021-11-18T03:26:42.941Z"
   },
   {
    "duration": 46,
    "start_time": "2021-11-18T03:27:30.840Z"
   },
   {
    "duration": 21,
    "start_time": "2021-11-18T03:27:55.860Z"
   },
   {
    "duration": 33,
    "start_time": "2021-11-18T03:30:03.941Z"
   },
   {
    "duration": 289,
    "start_time": "2021-11-18T03:30:35.452Z"
   },
   {
    "duration": 11,
    "start_time": "2021-11-18T03:30:46.106Z"
   },
   {
    "duration": 304,
    "start_time": "2021-11-18T03:30:52.889Z"
   },
   {
    "duration": 13,
    "start_time": "2021-11-18T03:31:02.700Z"
   },
   {
    "duration": 17,
    "start_time": "2021-11-18T03:31:07.438Z"
   },
   {
    "duration": 17,
    "start_time": "2021-11-18T03:31:18.025Z"
   },
   {
    "duration": 11,
    "start_time": "2021-11-18T03:31:47.768Z"
   },
   {
    "duration": 13,
    "start_time": "2021-11-18T03:31:55.225Z"
   },
   {
    "duration": 15,
    "start_time": "2021-11-18T03:32:17.415Z"
   },
   {
    "duration": 40,
    "start_time": "2021-11-18T03:33:00.375Z"
   },
   {
    "duration": 43,
    "start_time": "2021-11-18T03:34:33.839Z"
   },
   {
    "duration": 42,
    "start_time": "2021-11-18T03:34:49.760Z"
   },
   {
    "duration": 44,
    "start_time": "2021-11-18T03:34:54.880Z"
   },
   {
    "duration": 49,
    "start_time": "2021-11-18T03:35:11.877Z"
   },
   {
    "duration": 566,
    "start_time": "2021-11-18T03:42:08.548Z"
   },
   {
    "duration": 583,
    "start_time": "2021-11-18T03:42:18.188Z"
   },
   {
    "duration": 53,
    "start_time": "2021-11-18T03:42:31.336Z"
   },
   {
    "duration": 594,
    "start_time": "2021-11-18T03:42:45.344Z"
   },
   {
    "duration": 603,
    "start_time": "2021-11-18T03:43:52.993Z"
   },
   {
    "duration": 10,
    "start_time": "2021-11-18T03:44:37.191Z"
   },
   {
    "duration": 19,
    "start_time": "2021-11-18T03:45:00.031Z"
   },
   {
    "duration": 17,
    "start_time": "2021-11-18T03:45:10.730Z"
   },
   {
    "duration": 20,
    "start_time": "2021-11-18T03:45:54.941Z"
   },
   {
    "duration": 22,
    "start_time": "2021-11-18T03:46:34.678Z"
   },
   {
    "duration": 20,
    "start_time": "2021-11-18T03:47:41.051Z"
   },
   {
    "duration": 18,
    "start_time": "2021-11-18T03:48:01.887Z"
   },
   {
    "duration": 55,
    "start_time": "2021-11-18T03:50:35.720Z"
   },
   {
    "duration": 51,
    "start_time": "2021-11-18T03:52:42.707Z"
   },
   {
    "duration": 605,
    "start_time": "2021-11-18T03:53:17.207Z"
   },
   {
    "duration": 881,
    "start_time": "2021-11-18T03:53:29.518Z"
   },
   {
    "duration": 596,
    "start_time": "2021-11-18T03:53:42.703Z"
   },
   {
    "duration": 49,
    "start_time": "2021-11-18T03:54:04.664Z"
   },
   {
    "duration": 10,
    "start_time": "2021-11-18T03:55:06.888Z"
   },
   {
    "duration": 10,
    "start_time": "2021-11-18T03:55:13.164Z"
   },
   {
    "duration": -180,
    "start_time": "2021-11-18T03:56:13.653Z"
   },
   {
    "duration": 51,
    "start_time": "2021-11-18T03:56:17.114Z"
   },
   {
    "duration": 5,
    "start_time": "2021-11-18T03:56:17.168Z"
   },
   {
    "duration": 16,
    "start_time": "2021-11-18T03:56:17.177Z"
   },
   {
    "duration": 39,
    "start_time": "2021-11-18T03:56:17.196Z"
   },
   {
    "duration": 10,
    "start_time": "2021-11-18T03:56:17.238Z"
   },
   {
    "duration": 31,
    "start_time": "2021-11-18T03:56:17.250Z"
   },
   {
    "duration": 47,
    "start_time": "2021-11-18T03:56:17.284Z"
   },
   {
    "duration": 31,
    "start_time": "2021-11-18T03:56:17.334Z"
   },
   {
    "duration": 84,
    "start_time": "2021-11-18T03:56:17.369Z"
   },
   {
    "duration": 85,
    "start_time": "2021-11-18T03:56:17.456Z"
   },
   {
    "duration": 66,
    "start_time": "2021-11-18T03:56:17.544Z"
   },
   {
    "duration": 44,
    "start_time": "2021-11-18T03:56:17.629Z"
   },
   {
    "duration": 3,
    "start_time": "2021-11-18T03:56:17.675Z"
   },
   {
    "duration": 83,
    "start_time": "2021-11-18T03:56:17.680Z"
   },
   {
    "duration": 73,
    "start_time": "2021-11-18T03:56:17.765Z"
   },
   {
    "duration": 9,
    "start_time": "2021-11-18T03:56:17.840Z"
   },
   {
    "duration": 21,
    "start_time": "2021-11-18T03:56:17.851Z"
   },
   {
    "duration": 26,
    "start_time": "2021-11-18T03:56:17.874Z"
   },
   {
    "duration": 14,
    "start_time": "2021-11-18T03:56:17.902Z"
   },
   {
    "duration": 16,
    "start_time": "2021-11-18T03:56:17.918Z"
   },
   {
    "duration": 7,
    "start_time": "2021-11-18T03:56:17.937Z"
   },
   {
    "duration": 10,
    "start_time": "2021-11-18T03:56:17.947Z"
   },
   {
    "duration": 14,
    "start_time": "2021-11-18T03:56:17.959Z"
   },
   {
    "duration": 10,
    "start_time": "2021-11-18T03:56:17.975Z"
   },
   {
    "duration": 11,
    "start_time": "2021-11-18T03:56:18.029Z"
   },
   {
    "duration": 8,
    "start_time": "2021-11-18T03:56:18.043Z"
   },
   {
    "duration": 11,
    "start_time": "2021-11-18T03:56:18.058Z"
   },
   {
    "duration": 18,
    "start_time": "2021-11-18T03:56:18.072Z"
   },
   {
    "duration": 40,
    "start_time": "2021-11-18T03:56:18.092Z"
   },
   {
    "duration": 12,
    "start_time": "2021-11-18T03:56:18.134Z"
   },
   {
    "duration": 25,
    "start_time": "2021-11-18T03:56:18.148Z"
   },
   {
    "duration": 10,
    "start_time": "2021-11-18T03:56:18.175Z"
   },
   {
    "duration": 11,
    "start_time": "2021-11-18T03:56:18.187Z"
   },
   {
    "duration": 30,
    "start_time": "2021-11-18T03:56:18.201Z"
   },
   {
    "duration": 17,
    "start_time": "2021-11-18T03:56:18.234Z"
   },
   {
    "duration": 13,
    "start_time": "2021-11-18T03:56:18.253Z"
   },
   {
    "duration": 24,
    "start_time": "2021-11-18T03:56:18.268Z"
   },
   {
    "duration": 43,
    "start_time": "2021-11-18T03:56:18.294Z"
   },
   {
    "duration": 22,
    "start_time": "2021-11-18T03:56:18.339Z"
   },
   {
    "duration": 13,
    "start_time": "2021-11-18T03:56:18.363Z"
   },
   {
    "duration": 4,
    "start_time": "2021-11-18T03:56:18.378Z"
   },
   {
    "duration": 8,
    "start_time": "2021-11-18T03:56:18.384Z"
   },
   {
    "duration": 38,
    "start_time": "2021-11-18T03:56:18.394Z"
   },
   {
    "duration": 18,
    "start_time": "2021-11-18T03:56:18.434Z"
   },
   {
    "duration": 12,
    "start_time": "2021-11-18T03:56:18.454Z"
   },
   {
    "duration": 70,
    "start_time": "2021-11-18T03:56:18.469Z"
   },
   {
    "duration": 11,
    "start_time": "2021-11-18T03:56:18.542Z"
   },
   {
    "duration": 5,
    "start_time": "2021-11-18T03:56:18.556Z"
   },
   {
    "duration": 8,
    "start_time": "2021-11-18T03:56:18.563Z"
   },
   {
    "duration": 10,
    "start_time": "2021-11-18T03:56:18.573Z"
   },
   {
    "duration": 52,
    "start_time": "2021-11-18T03:56:18.585Z"
   },
   {
    "duration": 28,
    "start_time": "2021-11-18T03:56:18.639Z"
   },
   {
    "duration": 4,
    "start_time": "2021-11-18T03:56:18.670Z"
   },
   {
    "duration": 22,
    "start_time": "2021-11-18T03:56:18.677Z"
   },
   {
    "duration": 5,
    "start_time": "2021-11-18T03:56:18.729Z"
   },
   {
    "duration": 12,
    "start_time": "2021-11-18T03:56:18.736Z"
   },
   {
    "duration": 5,
    "start_time": "2021-11-18T03:56:18.750Z"
   },
   {
    "duration": 10,
    "start_time": "2021-11-18T03:56:18.757Z"
   },
   {
    "duration": 18,
    "start_time": "2021-11-18T03:56:18.769Z"
   },
   {
    "duration": 64,
    "start_time": "2021-11-18T03:56:18.789Z"
   },
   {
    "duration": 5,
    "start_time": "2021-11-18T03:56:18.856Z"
   },
   {
    "duration": 16,
    "start_time": "2021-11-18T03:56:18.863Z"
   },
   {
    "duration": 47,
    "start_time": "2021-11-18T03:56:18.882Z"
   },
   {
    "duration": 10,
    "start_time": "2021-11-18T03:56:18.931Z"
   },
   {
    "duration": 14,
    "start_time": "2021-11-18T03:56:18.943Z"
   },
   {
    "duration": 14,
    "start_time": "2021-11-18T03:56:18.959Z"
   },
   {
    "duration": 4,
    "start_time": "2021-11-18T03:56:18.975Z"
   },
   {
    "duration": 64,
    "start_time": "2021-11-18T03:56:18.981Z"
   },
   {
    "duration": 17,
    "start_time": "2021-11-18T03:56:19.048Z"
   },
   {
    "duration": 12,
    "start_time": "2021-11-18T03:56:19.067Z"
   },
   {
    "duration": 9,
    "start_time": "2021-11-18T03:56:19.082Z"
   },
   {
    "duration": 44,
    "start_time": "2021-11-18T03:56:19.094Z"
   },
   {
    "duration": 10,
    "start_time": "2021-11-18T03:56:19.140Z"
   },
   {
    "duration": 80,
    "start_time": "2021-11-18T03:56:19.152Z"
   },
   {
    "duration": 51,
    "start_time": "2021-11-18T03:56:19.234Z"
   },
   {
    "duration": 10,
    "start_time": "2021-11-18T03:56:19.287Z"
   },
   {
    "duration": 32,
    "start_time": "2021-11-18T03:56:19.299Z"
   },
   {
    "duration": 574,
    "start_time": "2021-11-18T03:57:47.237Z"
   },
   {
    "duration": 51,
    "start_time": "2021-11-18T03:57:52.816Z"
   },
   {
    "duration": 41,
    "start_time": "2021-11-18T04:02:19.658Z"
   },
   {
    "duration": 1244,
    "start_time": "2021-11-18T04:20:49.145Z"
   },
   {
    "duration": 104,
    "start_time": "2021-11-18T04:21:15.011Z"
   },
   {
    "duration": 1268,
    "start_time": "2021-11-18T04:21:15.865Z"
   },
   {
    "duration": 100,
    "start_time": "2021-11-18T04:23:08.268Z"
   },
   {
    "duration": 1318,
    "start_time": "2021-11-18T04:23:10.717Z"
   },
   {
    "duration": 114,
    "start_time": "2021-11-18T04:24:40.863Z"
   },
   {
    "duration": 101,
    "start_time": "2021-11-18T04:26:15.543Z"
   },
   {
    "duration": 102,
    "start_time": "2021-11-18T04:26:26.363Z"
   },
   {
    "duration": 1352,
    "start_time": "2021-11-18T04:28:24.416Z"
   },
   {
    "duration": 106,
    "start_time": "2021-11-18T04:28:38.140Z"
   },
   {
    "duration": 637,
    "start_time": "2021-11-18T04:31:31.180Z"
   },
   {
    "duration": 575,
    "start_time": "2021-11-18T04:31:37.967Z"
   },
   {
    "duration": 104,
    "start_time": "2021-11-18T04:34:03.635Z"
   },
   {
    "duration": 582,
    "start_time": "2021-11-18T04:35:21.880Z"
   },
   {
    "duration": 1815,
    "start_time": "2021-11-18T04:37:06.470Z"
   },
   {
    "duration": 56,
    "start_time": "2021-11-18T04:37:18.026Z"
   },
   {
    "duration": 6,
    "start_time": "2021-11-18T04:37:18.084Z"
   },
   {
    "duration": 38,
    "start_time": "2021-11-18T04:37:18.093Z"
   },
   {
    "duration": 22,
    "start_time": "2021-11-18T04:37:18.134Z"
   },
   {
    "duration": 9,
    "start_time": "2021-11-18T04:37:18.158Z"
   },
   {
    "duration": 72,
    "start_time": "2021-11-18T04:37:18.170Z"
   },
   {
    "duration": 5,
    "start_time": "2021-11-18T04:37:18.245Z"
   },
   {
    "duration": 37,
    "start_time": "2021-11-18T04:37:18.255Z"
   },
   {
    "duration": 94,
    "start_time": "2021-11-18T04:37:18.295Z"
   },
   {
    "duration": 76,
    "start_time": "2021-11-18T04:37:18.391Z"
   },
   {
    "duration": 70,
    "start_time": "2021-11-18T04:37:18.469Z"
   },
   {
    "duration": 45,
    "start_time": "2021-11-18T04:37:18.541Z"
   },
   {
    "duration": 2,
    "start_time": "2021-11-18T04:37:18.589Z"
   },
   {
    "duration": 91,
    "start_time": "2021-11-18T04:37:18.593Z"
   },
   {
    "duration": 70,
    "start_time": "2021-11-18T04:37:18.687Z"
   },
   {
    "duration": 9,
    "start_time": "2021-11-18T04:37:18.759Z"
   },
   {
    "duration": 17,
    "start_time": "2021-11-18T04:37:18.770Z"
   },
   {
    "duration": 18,
    "start_time": "2021-11-18T04:37:18.790Z"
   },
   {
    "duration": 8,
    "start_time": "2021-11-18T04:37:18.829Z"
   },
   {
    "duration": 7,
    "start_time": "2021-11-18T04:37:18.839Z"
   },
   {
    "duration": 9,
    "start_time": "2021-11-18T04:37:18.849Z"
   },
   {
    "duration": 10,
    "start_time": "2021-11-18T04:37:18.861Z"
   },
   {
    "duration": 55,
    "start_time": "2021-11-18T04:37:18.877Z"
   },
   {
    "duration": 11,
    "start_time": "2021-11-18T04:37:18.936Z"
   },
   {
    "duration": 18,
    "start_time": "2021-11-18T04:37:18.949Z"
   },
   {
    "duration": 8,
    "start_time": "2021-11-18T04:37:18.970Z"
   },
   {
    "duration": 13,
    "start_time": "2021-11-18T04:37:18.980Z"
   },
   {
    "duration": 44,
    "start_time": "2021-11-18T04:37:18.996Z"
   },
   {
    "duration": 4,
    "start_time": "2021-11-18T04:37:19.043Z"
   },
   {
    "duration": 8,
    "start_time": "2021-11-18T04:37:19.049Z"
   },
   {
    "duration": 22,
    "start_time": "2021-11-18T04:37:19.059Z"
   },
   {
    "duration": 10,
    "start_time": "2021-11-18T04:37:19.083Z"
   },
   {
    "duration": 42,
    "start_time": "2021-11-18T04:37:19.096Z"
   },
   {
    "duration": 11,
    "start_time": "2021-11-18T04:37:19.140Z"
   },
   {
    "duration": 6,
    "start_time": "2021-11-18T04:37:19.153Z"
   },
   {
    "duration": 13,
    "start_time": "2021-11-18T04:37:19.161Z"
   },
   {
    "duration": 62,
    "start_time": "2021-11-18T04:37:19.176Z"
   },
   {
    "duration": 24,
    "start_time": "2021-11-18T04:37:19.240Z"
   },
   {
    "duration": 21,
    "start_time": "2021-11-18T04:37:19.267Z"
   },
   {
    "duration": 39,
    "start_time": "2021-11-18T04:37:19.290Z"
   },
   {
    "duration": 3,
    "start_time": "2021-11-18T04:37:19.332Z"
   },
   {
    "duration": 8,
    "start_time": "2021-11-18T04:37:19.338Z"
   },
   {
    "duration": 11,
    "start_time": "2021-11-18T04:37:19.348Z"
   },
   {
    "duration": 18,
    "start_time": "2021-11-18T04:37:19.361Z"
   },
   {
    "duration": 48,
    "start_time": "2021-11-18T04:37:19.382Z"
   },
   {
    "duration": 40,
    "start_time": "2021-11-18T04:37:19.433Z"
   },
   {
    "duration": 12,
    "start_time": "2021-11-18T04:37:19.476Z"
   },
   {
    "duration": 5,
    "start_time": "2021-11-18T04:37:19.491Z"
   },
   {
    "duration": 4,
    "start_time": "2021-11-18T04:37:19.530Z"
   },
   {
    "duration": 10,
    "start_time": "2021-11-18T04:37:19.537Z"
   },
   {
    "duration": 12,
    "start_time": "2021-11-18T04:37:19.550Z"
   },
   {
    "duration": 31,
    "start_time": "2021-11-18T04:37:19.564Z"
   },
   {
    "duration": 3,
    "start_time": "2021-11-18T04:37:19.629Z"
   },
   {
    "duration": 20,
    "start_time": "2021-11-18T04:37:19.635Z"
   },
   {
    "duration": 6,
    "start_time": "2021-11-18T04:37:19.657Z"
   },
   {
    "duration": 12,
    "start_time": "2021-11-18T04:37:19.665Z"
   },
   {
    "duration": 4,
    "start_time": "2021-11-18T04:37:19.679Z"
   },
   {
    "duration": 43,
    "start_time": "2021-11-18T04:37:19.686Z"
   },
   {
    "duration": 19,
    "start_time": "2021-11-18T04:37:19.732Z"
   },
   {
    "duration": 43,
    "start_time": "2021-11-18T04:37:19.753Z"
   },
   {
    "duration": 5,
    "start_time": "2021-11-18T04:37:19.799Z"
   },
   {
    "duration": 17,
    "start_time": "2021-11-18T04:37:19.829Z"
   },
   {
    "duration": 11,
    "start_time": "2021-11-18T04:37:19.848Z"
   },
   {
    "duration": 10,
    "start_time": "2021-11-18T04:37:19.862Z"
   },
   {
    "duration": 9,
    "start_time": "2021-11-18T04:37:19.874Z"
   },
   {
    "duration": 52,
    "start_time": "2021-11-18T04:37:19.886Z"
   },
   {
    "duration": 118,
    "start_time": "2021-11-18T04:37:19.940Z"
   },
   {
    "duration": 1313,
    "start_time": "2021-11-18T04:37:20.065Z"
   },
   {
    "duration": -43,
    "start_time": "2021-11-18T04:37:21.424Z"
   },
   {
    "duration": -44,
    "start_time": "2021-11-18T04:37:21.426Z"
   },
   {
    "duration": -46,
    "start_time": "2021-11-18T04:37:21.429Z"
   },
   {
    "duration": -46,
    "start_time": "2021-11-18T04:37:21.431Z"
   },
   {
    "duration": -221,
    "start_time": "2021-11-18T04:37:21.607Z"
   },
   {
    "duration": -223,
    "start_time": "2021-11-18T04:37:21.610Z"
   },
   {
    "duration": -224,
    "start_time": "2021-11-18T04:37:21.613Z"
   },
   {
    "duration": -225,
    "start_time": "2021-11-18T04:37:21.615Z"
   },
   {
    "duration": -225,
    "start_time": "2021-11-18T04:37:21.617Z"
   },
   {
    "duration": 102,
    "start_time": "2021-11-18T04:38:37.234Z"
   },
   {
    "duration": 105,
    "start_time": "2021-11-18T04:39:21.370Z"
   },
   {
    "duration": 1282,
    "start_time": "2021-11-18T04:39:24.688Z"
   },
   {
    "duration": 3,
    "start_time": "2021-11-18T04:40:18.777Z"
   },
   {
    "duration": 109,
    "start_time": "2021-11-18T04:41:54.029Z"
   },
   {
    "duration": 115,
    "start_time": "2021-11-18T04:42:04.414Z"
   },
   {
    "duration": 391,
    "start_time": "2021-11-18T04:42:19.796Z"
   },
   {
    "duration": 103,
    "start_time": "2021-11-18T04:42:31.459Z"
   },
   {
    "duration": 452,
    "start_time": "2021-11-18T04:43:02.745Z"
   },
   {
    "duration": 362,
    "start_time": "2021-11-18T04:43:17.402Z"
   },
   {
    "duration": 112,
    "start_time": "2021-11-18T04:43:22.028Z"
   },
   {
    "duration": 110,
    "start_time": "2021-11-18T04:44:02.002Z"
   },
   {
    "duration": 108,
    "start_time": "2021-11-18T04:44:25.661Z"
   },
   {
    "duration": 109,
    "start_time": "2021-11-18T04:45:02.086Z"
   },
   {
    "duration": 109,
    "start_time": "2021-11-18T04:45:19.360Z"
   },
   {
    "duration": 107,
    "start_time": "2021-11-18T04:45:44.318Z"
   },
   {
    "duration": 115,
    "start_time": "2021-11-18T04:45:59.996Z"
   },
   {
    "duration": 89,
    "start_time": "2021-11-18T04:47:14.659Z"
   },
   {
    "duration": 104,
    "start_time": "2021-11-18T04:47:21.005Z"
   },
   {
    "duration": 112,
    "start_time": "2021-11-18T04:47:52.633Z"
   },
   {
    "duration": 114,
    "start_time": "2021-11-18T04:48:11.202Z"
   },
   {
    "duration": 118,
    "start_time": "2021-11-18T04:49:58.134Z"
   },
   {
    "duration": 1295,
    "start_time": "2021-11-18T11:40:26.481Z"
   },
   {
    "duration": 13,
    "start_time": "2021-11-18T11:40:27.778Z"
   },
   {
    "duration": 15,
    "start_time": "2021-11-18T11:40:27.794Z"
   },
   {
    "duration": 18,
    "start_time": "2021-11-18T11:40:27.812Z"
   },
   {
    "duration": 12,
    "start_time": "2021-11-18T11:40:27.832Z"
   },
   {
    "duration": 70,
    "start_time": "2021-11-18T11:40:27.847Z"
   },
   {
    "duration": 5,
    "start_time": "2021-11-18T11:40:27.920Z"
   },
   {
    "duration": 27,
    "start_time": "2021-11-18T11:40:27.930Z"
   },
   {
    "duration": 95,
    "start_time": "2021-11-18T11:40:27.960Z"
   },
   {
    "duration": 69,
    "start_time": "2021-11-18T11:40:28.058Z"
   },
   {
    "duration": 72,
    "start_time": "2021-11-18T11:40:28.130Z"
   },
   {
    "duration": 48,
    "start_time": "2021-11-18T11:40:28.204Z"
   },
   {
    "duration": 3,
    "start_time": "2021-11-18T11:40:28.254Z"
   },
   {
    "duration": 102,
    "start_time": "2021-11-18T11:40:28.259Z"
   },
   {
    "duration": 81,
    "start_time": "2021-11-18T11:40:28.364Z"
   },
   {
    "duration": 10,
    "start_time": "2021-11-18T11:40:28.447Z"
   },
   {
    "duration": 40,
    "start_time": "2021-11-18T11:40:28.460Z"
   },
   {
    "duration": 14,
    "start_time": "2021-11-18T11:40:28.503Z"
   },
   {
    "duration": 18,
    "start_time": "2021-11-18T11:40:28.521Z"
   },
   {
    "duration": 11,
    "start_time": "2021-11-18T11:40:28.543Z"
   },
   {
    "duration": 8,
    "start_time": "2021-11-18T11:40:28.557Z"
   },
   {
    "duration": 11,
    "start_time": "2021-11-18T11:40:28.600Z"
   },
   {
    "duration": 13,
    "start_time": "2021-11-18T11:40:28.618Z"
   },
   {
    "duration": 14,
    "start_time": "2021-11-18T11:40:28.635Z"
   },
   {
    "duration": 10,
    "start_time": "2021-11-18T11:40:28.652Z"
   },
   {
    "duration": 10,
    "start_time": "2021-11-18T11:40:28.701Z"
   },
   {
    "duration": 14,
    "start_time": "2021-11-18T11:40:28.713Z"
   },
   {
    "duration": 17,
    "start_time": "2021-11-18T11:40:28.730Z"
   },
   {
    "duration": 7,
    "start_time": "2021-11-18T11:40:28.750Z"
   },
   {
    "duration": 4,
    "start_time": "2021-11-18T11:40:28.801Z"
   },
   {
    "duration": 40,
    "start_time": "2021-11-18T11:40:28.807Z"
   },
   {
    "duration": 13,
    "start_time": "2021-11-18T11:40:28.850Z"
   },
   {
    "duration": 20,
    "start_time": "2021-11-18T11:40:28.866Z"
   },
   {
    "duration": 20,
    "start_time": "2021-11-18T11:40:28.889Z"
   },
   {
    "duration": 11,
    "start_time": "2021-11-18T11:40:28.912Z"
   },
   {
    "duration": 22,
    "start_time": "2021-11-18T11:40:28.925Z"
   },
   {
    "duration": 36,
    "start_time": "2021-11-18T11:40:28.949Z"
   },
   {
    "duration": 34,
    "start_time": "2021-11-18T11:40:28.987Z"
   },
   {
    "duration": 25,
    "start_time": "2021-11-18T11:40:29.024Z"
   },
   {
    "duration": 15,
    "start_time": "2021-11-18T11:40:29.051Z"
   },
   {
    "duration": 32,
    "start_time": "2021-11-18T11:40:29.069Z"
   },
   {
    "duration": 5,
    "start_time": "2021-11-18T11:40:29.103Z"
   },
   {
    "duration": 16,
    "start_time": "2021-11-18T11:40:29.111Z"
   },
   {
    "duration": 25,
    "start_time": "2021-11-18T11:40:29.130Z"
   },
   {
    "duration": 25,
    "start_time": "2021-11-18T11:40:29.157Z"
   },
   {
    "duration": 38,
    "start_time": "2021-11-18T11:40:29.201Z"
   },
   {
    "duration": 379,
    "start_time": "2021-11-18T11:40:29.241Z"
   },
   {
    "duration": -60,
    "start_time": "2021-11-18T11:40:29.683Z"
   },
   {
    "duration": -61,
    "start_time": "2021-11-18T11:40:29.686Z"
   },
   {
    "duration": -65,
    "start_time": "2021-11-18T11:40:29.691Z"
   },
   {
    "duration": -65,
    "start_time": "2021-11-18T11:40:29.693Z"
   },
   {
    "duration": -69,
    "start_time": "2021-11-18T11:40:29.699Z"
   },
   {
    "duration": -71,
    "start_time": "2021-11-18T11:40:29.702Z"
   },
   {
    "duration": -71,
    "start_time": "2021-11-18T11:40:29.704Z"
   },
   {
    "duration": -72,
    "start_time": "2021-11-18T11:40:29.706Z"
   },
   {
    "duration": -72,
    "start_time": "2021-11-18T11:40:29.708Z"
   },
   {
    "duration": -73,
    "start_time": "2021-11-18T11:40:29.710Z"
   },
   {
    "duration": -78,
    "start_time": "2021-11-18T11:40:29.716Z"
   },
   {
    "duration": -78,
    "start_time": "2021-11-18T11:40:29.718Z"
   },
   {
    "duration": -79,
    "start_time": "2021-11-18T11:40:29.720Z"
   },
   {
    "duration": -106,
    "start_time": "2021-11-18T11:40:29.748Z"
   },
   {
    "duration": -109,
    "start_time": "2021-11-18T11:40:29.753Z"
   },
   {
    "duration": -111,
    "start_time": "2021-11-18T11:40:29.756Z"
   },
   {
    "duration": -112,
    "start_time": "2021-11-18T11:40:29.758Z"
   },
   {
    "duration": -114,
    "start_time": "2021-11-18T11:40:29.762Z"
   },
   {
    "duration": -117,
    "start_time": "2021-11-18T11:40:29.767Z"
   },
   {
    "duration": -119,
    "start_time": "2021-11-18T11:40:29.770Z"
   },
   {
    "duration": -119,
    "start_time": "2021-11-18T11:40:29.772Z"
   },
   {
    "duration": -176,
    "start_time": "2021-11-18T11:40:29.831Z"
   },
   {
    "duration": -177,
    "start_time": "2021-11-18T11:40:29.834Z"
   },
   {
    "duration": -178,
    "start_time": "2021-11-18T11:40:29.837Z"
   },
   {
    "duration": -178,
    "start_time": "2021-11-18T11:40:29.839Z"
   },
   {
    "duration": -178,
    "start_time": "2021-11-18T11:40:29.841Z"
   },
   {
    "duration": -152,
    "start_time": "2021-11-18T11:40:29.853Z"
   },
   {
    "duration": -161,
    "start_time": "2021-11-18T11:40:29.864Z"
   },
   {
    "duration": -167,
    "start_time": "2021-11-18T11:40:29.871Z"
   },
   {
    "duration": -167,
    "start_time": "2021-11-18T11:40:29.873Z"
   },
   {
    "duration": 6,
    "start_time": "2021-11-18T11:53:31.284Z"
   },
   {
    "duration": 5,
    "start_time": "2021-11-18T11:53:33.313Z"
   },
   {
    "duration": 8,
    "start_time": "2021-11-18T11:53:33.693Z"
   },
   {
    "duration": 13,
    "start_time": "2021-11-18T11:53:34.067Z"
   },
   {
    "duration": 30,
    "start_time": "2021-11-18T11:53:34.365Z"
   },
   {
    "duration": 1245,
    "start_time": "2021-11-18T11:53:52.628Z"
   },
   {
    "duration": 13,
    "start_time": "2021-11-18T11:53:53.876Z"
   },
   {
    "duration": 14,
    "start_time": "2021-11-18T11:53:53.892Z"
   },
   {
    "duration": 19,
    "start_time": "2021-11-18T11:53:53.908Z"
   },
   {
    "duration": 11,
    "start_time": "2021-11-18T11:53:53.929Z"
   },
   {
    "duration": 67,
    "start_time": "2021-11-18T11:53:53.942Z"
   },
   {
    "duration": 6,
    "start_time": "2021-11-18T11:53:54.011Z"
   },
   {
    "duration": 31,
    "start_time": "2021-11-18T11:53:54.020Z"
   },
   {
    "duration": 90,
    "start_time": "2021-11-18T11:53:54.054Z"
   },
   {
    "duration": 71,
    "start_time": "2021-11-18T11:53:54.147Z"
   },
   {
    "duration": 80,
    "start_time": "2021-11-18T11:53:54.221Z"
   },
   {
    "duration": 47,
    "start_time": "2021-11-18T11:53:54.304Z"
   },
   {
    "duration": 4,
    "start_time": "2021-11-18T11:53:54.353Z"
   },
   {
    "duration": 99,
    "start_time": "2021-11-18T11:53:54.359Z"
   },
   {
    "duration": 76,
    "start_time": "2021-11-18T11:53:54.460Z"
   },
   {
    "duration": 10,
    "start_time": "2021-11-18T11:53:54.539Z"
   },
   {
    "duration": 15,
    "start_time": "2021-11-18T11:53:54.552Z"
   },
   {
    "duration": 38,
    "start_time": "2021-11-18T11:53:54.570Z"
   },
   {
    "duration": 9,
    "start_time": "2021-11-18T11:53:54.610Z"
   },
   {
    "duration": 9,
    "start_time": "2021-11-18T11:53:54.622Z"
   },
   {
    "duration": 11,
    "start_time": "2021-11-18T11:53:54.634Z"
   },
   {
    "duration": 12,
    "start_time": "2021-11-18T11:53:54.648Z"
   },
   {
    "duration": 15,
    "start_time": "2021-11-18T11:53:54.705Z"
   },
   {
    "duration": 12,
    "start_time": "2021-11-18T11:53:54.725Z"
   },
   {
    "duration": 12,
    "start_time": "2021-11-18T11:53:54.740Z"
   },
   {
    "duration": 47,
    "start_time": "2021-11-18T11:53:54.754Z"
   },
   {
    "duration": 14,
    "start_time": "2021-11-18T11:53:54.804Z"
   },
   {
    "duration": 18,
    "start_time": "2021-11-18T11:53:54.820Z"
   },
   {
    "duration": 3,
    "start_time": "2021-11-18T11:53:54.840Z"
   },
   {
    "duration": 8,
    "start_time": "2021-11-18T11:53:54.846Z"
   },
   {
    "duration": 57,
    "start_time": "2021-11-18T11:53:54.856Z"
   },
   {
    "duration": 11,
    "start_time": "2021-11-18T11:53:54.915Z"
   },
   {
    "duration": 10,
    "start_time": "2021-11-18T11:53:54.929Z"
   },
   {
    "duration": 9,
    "start_time": "2021-11-18T11:53:54.942Z"
   },
   {
    "duration": 6,
    "start_time": "2021-11-18T11:53:54.954Z"
   },
   {
    "duration": 46,
    "start_time": "2021-11-18T11:53:54.963Z"
   },
   {
    "duration": 32,
    "start_time": "2021-11-18T11:53:55.012Z"
   },
   {
    "duration": 23,
    "start_time": "2021-11-18T11:53:55.047Z"
   },
   {
    "duration": 43,
    "start_time": "2021-11-18T11:53:55.073Z"
   },
   {
    "duration": 14,
    "start_time": "2021-11-18T11:53:55.119Z"
   },
   {
    "duration": 6,
    "start_time": "2021-11-18T11:53:55.135Z"
   },
   {
    "duration": 11,
    "start_time": "2021-11-18T11:53:55.144Z"
   },
   {
    "duration": 9,
    "start_time": "2021-11-18T11:53:55.158Z"
   },
   {
    "duration": 16,
    "start_time": "2021-11-18T11:53:55.202Z"
   },
   {
    "duration": 25,
    "start_time": "2021-11-18T11:53:55.221Z"
   },
   {
    "duration": 59,
    "start_time": "2021-11-18T11:53:55.249Z"
   },
   {
    "duration": 370,
    "start_time": "2021-11-18T11:53:55.311Z"
   },
   {
    "duration": -94,
    "start_time": "2021-11-18T11:53:55.778Z"
   },
   {
    "duration": -96,
    "start_time": "2021-11-18T11:53:55.781Z"
   },
   {
    "duration": -97,
    "start_time": "2021-11-18T11:53:55.784Z"
   },
   {
    "duration": -98,
    "start_time": "2021-11-18T11:53:55.786Z"
   },
   {
    "duration": -98,
    "start_time": "2021-11-18T11:53:55.788Z"
   },
   {
    "duration": -99,
    "start_time": "2021-11-18T11:53:55.790Z"
   },
   {
    "duration": -101,
    "start_time": "2021-11-18T11:53:55.793Z"
   },
   {
    "duration": -101,
    "start_time": "2021-11-18T11:53:55.795Z"
   },
   {
    "duration": -104,
    "start_time": "2021-11-18T11:53:55.799Z"
   },
   {
    "duration": -105,
    "start_time": "2021-11-18T11:53:55.802Z"
   },
   {
    "duration": -107,
    "start_time": "2021-11-18T11:53:55.805Z"
   },
   {
    "duration": -108,
    "start_time": "2021-11-18T11:53:55.807Z"
   },
   {
    "duration": -108,
    "start_time": "2021-11-18T11:53:55.809Z"
   },
   {
    "duration": -109,
    "start_time": "2021-11-18T11:53:55.811Z"
   },
   {
    "duration": -111,
    "start_time": "2021-11-18T11:53:55.814Z"
   },
   {
    "duration": -111,
    "start_time": "2021-11-18T11:53:55.816Z"
   },
   {
    "duration": -115,
    "start_time": "2021-11-18T11:53:55.821Z"
   },
   {
    "duration": -115,
    "start_time": "2021-11-18T11:53:55.823Z"
   },
   {
    "duration": -117,
    "start_time": "2021-11-18T11:53:55.826Z"
   },
   {
    "duration": -117,
    "start_time": "2021-11-18T11:53:55.828Z"
   },
   {
    "duration": -119,
    "start_time": "2021-11-18T11:53:55.831Z"
   },
   {
    "duration": -120,
    "start_time": "2021-11-18T11:53:55.834Z"
   },
   {
    "duration": -122,
    "start_time": "2021-11-18T11:53:55.837Z"
   },
   {
    "duration": -122,
    "start_time": "2021-11-18T11:53:55.839Z"
   },
   {
    "duration": -123,
    "start_time": "2021-11-18T11:53:55.841Z"
   },
   {
    "duration": -124,
    "start_time": "2021-11-18T11:53:55.843Z"
   },
   {
    "duration": -125,
    "start_time": "2021-11-18T11:53:55.845Z"
   },
   {
    "duration": -125,
    "start_time": "2021-11-18T11:53:55.847Z"
   },
   {
    "duration": -127,
    "start_time": "2021-11-18T11:53:55.850Z"
   },
   {
    "duration": -127,
    "start_time": "2021-11-18T11:53:55.852Z"
   },
   {
    "duration": 1294,
    "start_time": "2021-11-18T15:47:31.075Z"
   },
   {
    "duration": 14,
    "start_time": "2021-11-18T15:47:32.372Z"
   },
   {
    "duration": 17,
    "start_time": "2021-11-18T15:47:32.389Z"
   },
   {
    "duration": 25,
    "start_time": "2021-11-18T15:47:32.409Z"
   },
   {
    "duration": 20,
    "start_time": "2021-11-18T15:47:32.436Z"
   },
   {
    "duration": 45,
    "start_time": "2021-11-18T15:47:32.458Z"
   },
   {
    "duration": 5,
    "start_time": "2021-11-18T15:47:32.505Z"
   },
   {
    "duration": 47,
    "start_time": "2021-11-18T15:47:32.513Z"
   },
   {
    "duration": 76,
    "start_time": "2021-11-18T15:47:32.563Z"
   },
   {
    "duration": 75,
    "start_time": "2021-11-18T15:47:32.641Z"
   },
   {
    "duration": 61,
    "start_time": "2021-11-18T15:47:32.719Z"
   },
   {
    "duration": 73,
    "start_time": "2021-11-18T15:47:32.782Z"
   },
   {
    "duration": 3,
    "start_time": "2021-11-18T15:47:32.858Z"
   },
   {
    "duration": 97,
    "start_time": "2021-11-18T15:47:32.864Z"
   },
   {
    "duration": 79,
    "start_time": "2021-11-18T15:47:32.963Z"
   },
   {
    "duration": 10,
    "start_time": "2021-11-18T15:47:33.044Z"
   },
   {
    "duration": 31,
    "start_time": "2021-11-18T15:47:33.056Z"
   },
   {
    "duration": 20,
    "start_time": "2021-11-18T15:47:33.090Z"
   },
   {
    "duration": 18,
    "start_time": "2021-11-18T15:47:33.113Z"
   },
   {
    "duration": 9,
    "start_time": "2021-11-18T15:47:33.134Z"
   },
   {
    "duration": 13,
    "start_time": "2021-11-18T15:47:33.145Z"
   },
   {
    "duration": 22,
    "start_time": "2021-11-18T15:47:33.161Z"
   },
   {
    "duration": 15,
    "start_time": "2021-11-18T15:47:33.205Z"
   },
   {
    "duration": 14,
    "start_time": "2021-11-18T15:47:33.223Z"
   },
   {
    "duration": 13,
    "start_time": "2021-11-18T15:47:33.240Z"
   },
   {
    "duration": 9,
    "start_time": "2021-11-18T15:47:33.256Z"
   },
   {
    "duration": 42,
    "start_time": "2021-11-18T15:47:33.267Z"
   },
   {
    "duration": 41,
    "start_time": "2021-11-18T15:47:33.312Z"
   },
   {
    "duration": 7,
    "start_time": "2021-11-18T15:47:33.356Z"
   },
   {
    "duration": 12,
    "start_time": "2021-11-18T15:47:33.365Z"
   },
   {
    "duration": 31,
    "start_time": "2021-11-18T15:47:33.380Z"
   },
   {
    "duration": 10,
    "start_time": "2021-11-18T15:47:33.414Z"
   },
   {
    "duration": 19,
    "start_time": "2021-11-18T15:47:33.427Z"
   },
   {
    "duration": 17,
    "start_time": "2021-11-18T15:47:33.449Z"
   },
   {
    "duration": 17,
    "start_time": "2021-11-18T15:47:33.469Z"
   },
   {
    "duration": 15,
    "start_time": "2021-11-18T15:47:33.489Z"
   },
   {
    "duration": 28,
    "start_time": "2021-11-18T15:47:33.506Z"
   },
   {
    "duration": 22,
    "start_time": "2021-11-18T15:47:33.536Z"
   },
   {
    "duration": 53,
    "start_time": "2021-11-18T15:47:33.561Z"
   },
   {
    "duration": 14,
    "start_time": "2021-11-18T15:47:33.616Z"
   },
   {
    "duration": 5,
    "start_time": "2021-11-18T15:47:33.633Z"
   },
   {
    "duration": 10,
    "start_time": "2021-11-18T15:47:33.641Z"
   },
   {
    "duration": 8,
    "start_time": "2021-11-18T15:47:33.654Z"
   },
   {
    "duration": 44,
    "start_time": "2021-11-18T15:47:33.664Z"
   },
   {
    "duration": 15,
    "start_time": "2021-11-18T15:47:33.710Z"
   },
   {
    "duration": 45,
    "start_time": "2021-11-18T15:47:33.727Z"
   },
   {
    "duration": 364,
    "start_time": "2021-11-18T15:47:33.774Z"
   },
   {
    "duration": -807,
    "start_time": "2021-11-18T15:47:34.948Z"
   },
   {
    "duration": -816,
    "start_time": "2021-11-18T15:47:34.959Z"
   },
   {
    "duration": -818,
    "start_time": "2021-11-18T15:47:34.962Z"
   },
   {
    "duration": -819,
    "start_time": "2021-11-18T15:47:34.964Z"
   },
   {
    "duration": -820,
    "start_time": "2021-11-18T15:47:34.967Z"
   },
   {
    "duration": -821,
    "start_time": "2021-11-18T15:47:34.969Z"
   },
   {
    "duration": -823,
    "start_time": "2021-11-18T15:47:34.972Z"
   },
   {
    "duration": -823,
    "start_time": "2021-11-18T15:47:34.974Z"
   },
   {
    "duration": -830,
    "start_time": "2021-11-18T15:47:34.982Z"
   },
   {
    "duration": -831,
    "start_time": "2021-11-18T15:47:34.984Z"
   },
   {
    "duration": -832,
    "start_time": "2021-11-18T15:47:34.986Z"
   },
   {
    "duration": -832,
    "start_time": "2021-11-18T15:47:34.988Z"
   },
   {
    "duration": -833,
    "start_time": "2021-11-18T15:47:34.990Z"
   },
   {
    "duration": -834,
    "start_time": "2021-11-18T15:47:34.992Z"
   },
   {
    "duration": -835,
    "start_time": "2021-11-18T15:47:34.995Z"
   },
   {
    "duration": -841,
    "start_time": "2021-11-18T15:47:35.002Z"
   },
   {
    "duration": -842,
    "start_time": "2021-11-18T15:47:35.004Z"
   },
   {
    "duration": -843,
    "start_time": "2021-11-18T15:47:35.006Z"
   },
   {
    "duration": -844,
    "start_time": "2021-11-18T15:47:35.009Z"
   },
   {
    "duration": -849,
    "start_time": "2021-11-18T15:47:35.016Z"
   },
   {
    "duration": -851,
    "start_time": "2021-11-18T15:47:35.019Z"
   },
   {
    "duration": -851,
    "start_time": "2021-11-18T15:47:35.021Z"
   },
   {
    "duration": -852,
    "start_time": "2021-11-18T15:47:35.023Z"
   },
   {
    "duration": -852,
    "start_time": "2021-11-18T15:47:35.025Z"
   },
   {
    "duration": -853,
    "start_time": "2021-11-18T15:47:35.027Z"
   },
   {
    "duration": -859,
    "start_time": "2021-11-18T15:47:35.035Z"
   },
   {
    "duration": -860,
    "start_time": "2021-11-18T15:47:35.037Z"
   },
   {
    "duration": -862,
    "start_time": "2021-11-18T15:47:35.040Z"
   },
   {
    "duration": -842,
    "start_time": "2021-11-18T15:47:35.042Z"
   },
   {
    "duration": -843,
    "start_time": "2021-11-18T15:47:35.044Z"
   },
   {
    "duration": 327,
    "start_time": "2021-11-18T19:45:25.643Z"
   },
   {
    "duration": 301,
    "start_time": "2021-11-18T19:45:29.128Z"
   },
   {
    "duration": 92,
    "start_time": "2021-11-20T04:51:12.839Z"
   },
   {
    "duration": 1221,
    "start_time": "2021-11-20T04:52:55.129Z"
   },
   {
    "duration": 111,
    "start_time": "2021-11-20T04:54:04.365Z"
   },
   {
    "duration": 91,
    "start_time": "2021-11-20T04:54:12.691Z"
   },
   {
    "duration": 107,
    "start_time": "2021-11-20T04:54:17.238Z"
   },
   {
    "duration": 105,
    "start_time": "2021-11-20T04:54:25.335Z"
   },
   {
    "duration": 406,
    "start_time": "2021-11-20T04:54:29.381Z"
   },
   {
    "duration": 4,
    "start_time": "2021-11-20T04:54:44.273Z"
   },
   {
    "duration": 54,
    "start_time": "2021-11-20T04:54:45.800Z"
   },
   {
    "duration": 14,
    "start_time": "2021-11-20T04:54:48.079Z"
   },
   {
    "duration": 105,
    "start_time": "2021-11-20T04:55:02.910Z"
   },
   {
    "duration": 12,
    "start_time": "2021-11-20T04:55:10.202Z"
   },
   {
    "duration": 14,
    "start_time": "2021-11-20T04:55:16.567Z"
   },
   {
    "duration": 10,
    "start_time": "2021-11-20T04:55:18.750Z"
   },
   {
    "duration": 31,
    "start_time": "2021-11-20T04:55:22.748Z"
   },
   {
    "duration": 60,
    "start_time": "2021-11-20T04:55:30.679Z"
   },
   {
    "duration": 55,
    "start_time": "2021-11-20T04:55:34.207Z"
   },
   {
    "duration": 64,
    "start_time": "2021-11-20T04:55:38.991Z"
   },
   {
    "duration": 61,
    "start_time": "2021-11-20T04:55:43.615Z"
   },
   {
    "duration": 10,
    "start_time": "2021-11-20T04:55:49.903Z"
   },
   {
    "duration": 12,
    "start_time": "2021-11-20T04:55:52.450Z"
   },
   {
    "duration": 9,
    "start_time": "2021-11-20T04:55:56.914Z"
   },
   {
    "duration": 16,
    "start_time": "2021-11-20T04:55:59.436Z"
   },
   {
    "duration": 8,
    "start_time": "2021-11-20T04:56:01.528Z"
   },
   {
    "duration": 12,
    "start_time": "2021-11-20T04:56:04.268Z"
   },
   {
    "duration": 14,
    "start_time": "2021-11-20T04:56:07.016Z"
   },
   {
    "duration": 11,
    "start_time": "2021-11-20T04:56:09.063Z"
   },
   {
    "duration": 11,
    "start_time": "2021-11-20T04:56:11.638Z"
   },
   {
    "duration": 10,
    "start_time": "2021-11-20T04:56:14.469Z"
   },
   {
    "duration": 11,
    "start_time": "2021-11-20T04:56:16.097Z"
   },
   {
    "duration": 16,
    "start_time": "2021-11-20T04:56:18.382Z"
   },
   {
    "duration": 20,
    "start_time": "2021-11-20T04:56:21.685Z"
   },
   {
    "duration": 11,
    "start_time": "2021-11-20T04:56:23.866Z"
   },
   {
    "duration": 9,
    "start_time": "2021-11-20T04:56:25.486Z"
   },
   {
    "duration": 10,
    "start_time": "2021-11-20T04:56:28.072Z"
   },
   {
    "duration": 5,
    "start_time": "2021-11-20T04:56:31.091Z"
   },
   {
    "duration": 9,
    "start_time": "2021-11-20T04:56:35.647Z"
   },
   {
    "duration": 26,
    "start_time": "2021-11-20T04:56:39.943Z"
   },
   {
    "duration": 23,
    "start_time": "2021-11-20T04:56:41.584Z"
   },
   {
    "duration": 14,
    "start_time": "2021-11-20T04:56:42.419Z"
   },
   {
    "duration": 4,
    "start_time": "2021-11-20T04:57:51.705Z"
   },
   {
    "duration": 5,
    "start_time": "2021-11-20T04:57:53.333Z"
   },
   {
    "duration": 16,
    "start_time": "2021-11-20T04:57:55.675Z"
   },
   {
    "duration": 41,
    "start_time": "2021-11-20T04:57:58.151Z"
   },
   {
    "duration": 12,
    "start_time": "2021-11-20T04:58:03.686Z"
   },
   {
    "duration": 6,
    "start_time": "2021-11-20T04:58:09.610Z"
   },
   {
    "duration": 5,
    "start_time": "2021-11-20T04:58:12.957Z"
   },
   {
    "duration": 12,
    "start_time": "2021-11-20T04:58:15.422Z"
   },
   {
    "duration": 29,
    "start_time": "2021-11-20T04:58:17.062Z"
   },
   {
    "duration": 19,
    "start_time": "2021-11-20T04:58:22.266Z"
   },
   {
    "duration": 6,
    "start_time": "2021-11-20T04:58:25.335Z"
   },
   {
    "duration": 6,
    "start_time": "2021-11-20T04:58:26.807Z"
   },
   {
    "duration": 4,
    "start_time": "2021-11-20T04:58:29.595Z"
   },
   {
    "duration": 571,
    "start_time": "2021-11-20T04:58:39.466Z"
   },
   {
    "duration": 4,
    "start_time": "2021-11-20T04:58:45.545Z"
   },
   {
    "duration": 575,
    "start_time": "2021-11-20T04:58:46.647Z"
   },
   {
    "duration": 6,
    "start_time": "2021-11-20T04:59:05.453Z"
   },
   {
    "duration": 6,
    "start_time": "2021-11-20T04:59:08.099Z"
   },
   {
    "duration": 4,
    "start_time": "2021-11-20T04:59:38.725Z"
   },
   {
    "duration": 5,
    "start_time": "2021-11-20T04:59:39.911Z"
   },
   {
    "duration": 11,
    "start_time": "2021-11-20T04:59:41.057Z"
   },
   {
    "duration": 40,
    "start_time": "2021-11-20T04:59:44.371Z"
   },
   {
    "duration": 4,
    "start_time": "2021-11-20T04:59:51.156Z"
   },
   {
    "duration": 16,
    "start_time": "2021-11-20T04:59:55.159Z"
   },
   {
    "duration": 11,
    "start_time": "2021-11-20T05:00:03.963Z"
   },
   {
    "duration": 15,
    "start_time": "2021-11-20T05:00:03.977Z"
   },
   {
    "duration": 14,
    "start_time": "2021-11-20T05:00:03.995Z"
   },
   {
    "duration": 12,
    "start_time": "2021-11-20T05:00:04.011Z"
   },
   {
    "duration": 115,
    "start_time": "2021-11-20T05:00:04.026Z"
   },
   {
    "duration": 3,
    "start_time": "2021-11-20T05:00:04.144Z"
   },
   {
    "duration": 15,
    "start_time": "2021-11-20T05:00:04.149Z"
   },
   {
    "duration": 21,
    "start_time": "2021-11-20T05:00:04.166Z"
   },
   {
    "duration": 9,
    "start_time": "2021-11-20T05:00:04.191Z"
   },
   {
    "duration": 17,
    "start_time": "2021-11-20T05:00:04.230Z"
   },
   {
    "duration": 14,
    "start_time": "2021-11-20T05:00:04.250Z"
   },
   {
    "duration": 320,
    "start_time": "2021-11-20T05:00:04.267Z"
   },
   {
    "duration": -28,
    "start_time": "2021-11-20T05:00:04.618Z"
   },
   {
    "duration": -31,
    "start_time": "2021-11-20T05:00:04.622Z"
   },
   {
    "duration": -32,
    "start_time": "2021-11-20T05:00:04.624Z"
   },
   {
    "duration": 52,
    "start_time": "2021-11-20T05:00:38.674Z"
   },
   {
    "duration": 51,
    "start_time": "2021-11-20T05:00:49.256Z"
   },
   {
    "duration": 38,
    "start_time": "2021-11-20T05:00:49.309Z"
   },
   {
    "duration": 133,
    "start_time": "2021-11-20T05:00:49.349Z"
   },
   {
    "duration": 1353,
    "start_time": "2021-11-20T20:46:22.943Z"
   },
   {
    "duration": 53,
    "start_time": "2021-11-20T20:46:24.298Z"
   },
   {
    "duration": 13,
    "start_time": "2021-11-20T20:46:24.354Z"
   },
   {
    "duration": 18,
    "start_time": "2021-11-20T20:46:24.369Z"
   },
   {
    "duration": 39,
    "start_time": "2021-11-20T20:46:24.390Z"
   },
   {
    "duration": 11,
    "start_time": "2021-11-20T20:46:24.432Z"
   },
   {
    "duration": 36,
    "start_time": "2021-11-20T20:46:24.445Z"
   },
   {
    "duration": 5,
    "start_time": "2021-11-20T20:46:24.484Z"
   },
   {
    "duration": 65,
    "start_time": "2021-11-20T20:46:24.492Z"
   },
   {
    "duration": 76,
    "start_time": "2021-11-20T20:46:24.559Z"
   },
   {
    "duration": 52,
    "start_time": "2021-11-20T20:46:24.638Z"
   },
   {
    "duration": 79,
    "start_time": "2021-11-20T20:46:24.692Z"
   },
   {
    "duration": 64,
    "start_time": "2021-11-20T20:46:24.773Z"
   },
   {
    "duration": 3,
    "start_time": "2021-11-20T20:46:24.841Z"
   },
   {
    "duration": 90,
    "start_time": "2021-11-20T20:46:24.846Z"
   },
   {
    "duration": 62,
    "start_time": "2021-11-20T20:46:24.938Z"
   },
   {
    "duration": 32,
    "start_time": "2021-11-20T20:46:25.002Z"
   },
   {
    "duration": 15,
    "start_time": "2021-11-20T20:46:25.037Z"
   },
   {
    "duration": 14,
    "start_time": "2021-11-20T20:46:25.054Z"
   },
   {
    "duration": 16,
    "start_time": "2021-11-20T20:46:25.071Z"
   },
   {
    "duration": 40,
    "start_time": "2021-11-20T20:46:25.090Z"
   },
   {
    "duration": 10,
    "start_time": "2021-11-20T20:46:25.133Z"
   },
   {
    "duration": 11,
    "start_time": "2021-11-20T20:46:25.149Z"
   },
   {
    "duration": 17,
    "start_time": "2021-11-20T20:46:25.165Z"
   },
   {
    "duration": 55,
    "start_time": "2021-11-20T20:46:25.185Z"
   },
   {
    "duration": 12,
    "start_time": "2021-11-20T20:46:25.242Z"
   },
   {
    "duration": 9,
    "start_time": "2021-11-20T20:46:25.257Z"
   },
   {
    "duration": 13,
    "start_time": "2021-11-20T20:46:25.269Z"
   },
   {
    "duration": 18,
    "start_time": "2021-11-20T20:46:25.330Z"
   },
   {
    "duration": 4,
    "start_time": "2021-11-20T20:46:25.351Z"
   },
   {
    "duration": 7,
    "start_time": "2021-11-20T20:46:25.357Z"
   },
   {
    "duration": 25,
    "start_time": "2021-11-20T20:46:25.366Z"
   },
   {
    "duration": 11,
    "start_time": "2021-11-20T20:46:25.430Z"
   },
   {
    "duration": 9,
    "start_time": "2021-11-20T20:46:25.444Z"
   },
   {
    "duration": 10,
    "start_time": "2021-11-20T20:46:25.456Z"
   },
   {
    "duration": 9,
    "start_time": "2021-11-20T20:46:25.470Z"
   },
   {
    "duration": 59,
    "start_time": "2021-11-20T20:46:25.482Z"
   },
   {
    "duration": 33,
    "start_time": "2021-11-20T20:46:25.545Z"
   },
   {
    "duration": 52,
    "start_time": "2021-11-20T20:46:25.581Z"
   },
   {
    "duration": 23,
    "start_time": "2021-11-20T20:46:25.635Z"
   },
   {
    "duration": 14,
    "start_time": "2021-11-20T20:46:25.660Z"
   },
   {
    "duration": 4,
    "start_time": "2021-11-20T20:46:25.677Z"
   },
   {
    "duration": 54,
    "start_time": "2021-11-20T20:46:25.683Z"
   },
   {
    "duration": 6,
    "start_time": "2021-11-20T20:46:25.740Z"
   },
   {
    "duration": 18,
    "start_time": "2021-11-20T20:46:25.748Z"
   },
   {
    "duration": 18,
    "start_time": "2021-11-20T20:46:25.769Z"
   },
   {
    "duration": 81,
    "start_time": "2021-11-20T20:46:25.790Z"
   },
   {
    "duration": 16,
    "start_time": "2021-11-20T20:46:25.874Z"
   },
   {
    "duration": 5,
    "start_time": "2021-11-20T20:46:25.893Z"
   },
   {
    "duration": 32,
    "start_time": "2021-11-20T20:46:25.900Z"
   },
   {
    "duration": 15,
    "start_time": "2021-11-20T20:46:25.935Z"
   },
   {
    "duration": 14,
    "start_time": "2021-11-20T20:46:25.953Z"
   },
   {
    "duration": 64,
    "start_time": "2021-11-20T20:46:25.970Z"
   },
   {
    "duration": 8,
    "start_time": "2021-11-20T20:46:26.036Z"
   },
   {
    "duration": 37,
    "start_time": "2021-11-20T20:46:26.047Z"
   },
   {
    "duration": 7,
    "start_time": "2021-11-20T20:46:26.086Z"
   },
   {
    "duration": 35,
    "start_time": "2021-11-20T20:46:26.095Z"
   },
   {
    "duration": 4,
    "start_time": "2021-11-20T20:46:26.132Z"
   },
   {
    "duration": 9,
    "start_time": "2021-11-20T20:46:26.141Z"
   },
   {
    "duration": 29,
    "start_time": "2021-11-20T20:46:26.153Z"
   },
   {
    "duration": 99,
    "start_time": "2021-11-20T20:46:26.185Z"
   },
   {
    "duration": 5,
    "start_time": "2021-11-20T20:46:26.288Z"
   },
   {
    "duration": 41,
    "start_time": "2021-11-20T20:46:26.295Z"
   },
   {
    "duration": 11,
    "start_time": "2021-11-20T20:46:26.338Z"
   },
   {
    "duration": 16,
    "start_time": "2021-11-20T20:46:26.352Z"
   },
   {
    "duration": 16,
    "start_time": "2021-11-20T20:46:26.370Z"
   },
   {
    "duration": 51,
    "start_time": "2021-11-20T20:46:26.389Z"
   },
   {
    "duration": 129,
    "start_time": "2021-11-20T20:46:26.447Z"
   },
   {
    "duration": 3,
    "start_time": "2021-11-20T20:46:26.579Z"
   },
   {
    "duration": 13,
    "start_time": "2021-11-20T20:46:26.586Z"
   },
   {
    "duration": 31,
    "start_time": "2021-11-20T20:46:26.602Z"
   },
   {
    "duration": 16,
    "start_time": "2021-11-20T20:46:26.636Z"
   },
   {
    "duration": 16,
    "start_time": "2021-11-20T20:46:26.655Z"
   },
   {
    "duration": 11,
    "start_time": "2021-11-20T20:46:26.674Z"
   },
   {
    "duration": 116,
    "start_time": "2021-11-20T20:46:26.687Z"
   },
   {
    "duration": 69,
    "start_time": "2021-11-20T20:46:26.806Z"
   },
   {
    "duration": 74,
    "start_time": "2021-11-20T20:46:26.877Z"
   },
   {
    "duration": 140,
    "start_time": "2021-11-20T20:46:26.953Z"
   },
   {
    "duration": 38,
    "start_time": "2021-11-20T20:48:05.994Z"
   }
  ],
  "kernelspec": {
   "display_name": "Python 3",
   "language": "python",
   "name": "python3"
  },
  "language_info": {
   "codemirror_mode": {
    "name": "ipython",
    "version": 3
   },
   "file_extension": ".py",
   "mimetype": "text/x-python",
   "name": "python",
   "nbconvert_exporter": "python",
   "pygments_lexer": "ipython3",
   "version": "3.7.8"
  },
  "toc": {
   "base_numbering": 1,
   "nav_menu": {},
   "number_sections": true,
   "sideBar": true,
   "skip_h1_title": true,
   "title_cell": "Table of Contents",
   "title_sidebar": "Contents",
   "toc_cell": false,
   "toc_position": {},
   "toc_section_display": true,
   "toc_window_display": true
  }
 },
 "nbformat": 4,
 "nbformat_minor": 2
}
