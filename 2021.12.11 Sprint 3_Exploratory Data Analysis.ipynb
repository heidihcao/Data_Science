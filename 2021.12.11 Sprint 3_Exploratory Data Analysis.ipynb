{
 "cells": [
  {
   "cell_type": "markdown",
   "metadata": {},
   "source": [
    "<div style=\"border:solid green 2px; padding: 20px\"> <h1 style=\"color:green; margin-bottom:20px\">Reviewer's comment v1</h1>\n",
    "\n",
    "Hello Heidi, my name is Dmitrii. I'm going to review your project! Nice to meet you! 🙌\n",
    "\n",
    "You can find my comments under the heading **«Review»**. I will categorize my comments in green, blue or red boxes like this:\n",
    "\n",
    "<div class=\"alert alert-success\">\n",
    "    <b>Success:</b> if everything is done successfully\n",
    "</div>\n",
    "<div class=\"alert alert-warning\">\n",
    "    <b>Remarks:</b> if I can give some recommendations or ways to improve the project\n",
    "</div>\n",
    "<div class=\"alert alert-danger\">\n",
    "    <b>Needs fixing:</b> if the block requires some corrections. Work can't be accepted with the red comments\n",
    "</div>\n",
    "\n",
    "Please don't remove my comments :) If you have any questions don't hesitate to respond to my comments in a different section. \n",
    "<div class=\"alert alert-info\"> <b>Student comments:</b> For example like this</div>    \n"
   ]
  },
  {
   "cell_type": "markdown",
   "metadata": {},
   "source": [
    "<div style=\"border:solid green 2px; padding: 20px\">\n",
    "<b>Reviewer's comment v1:</b>\n",
    "    \n",
    "<b>Overall Feedback</b> \n",
    "    \n",
    "- Overall well done! I can see that a lot of effort has been made! Your project already looks really good and you accomplished impressive results.\n",
    "- It is great that you can use different methods for data processing and apply them to real data and project tasks, keep it up!\n",
    "- You have some bugs in your project that should be fixed but other than that no critical issues are left.\n",
    "    \n",
    "I want to send this project back to you in case you have any questions along the way or you want to make additional changes to the project.\n",
    "\n",
    "I will wait for you to send me a new version of the project :)\n",
    "\n",
    "    \n",
    "</div>"
   ]
  },
  {
   "cell_type": "markdown",
   "metadata": {},
   "source": [
    "<div style=\"border:solid green 2px; padding: 20px\">\n",
    "<b>Reviewer's comment v2:</b>\n",
    "    \n",
    "<b>Overall Feedback</b> \n",
    "    \n",
    "Hi Heidi, thank you for going an extra mile and making changes in your project.\n",
    "Your project has been accepted and wish you cool projects in the next sprints! \n",
    "    "
   ]
  },
  {
   "cell_type": "markdown",
   "metadata": {},
   "source": [
    "# What sells a car?\n",
    "\n",
    "You're an analyst at Crankshaft List. Hundreds of free advertisements for vehicles are published on your site every day. You need to study data collected over the last few years and determine which factors influence the price of a vehicle."
   ]
  },
  {
   "cell_type": "markdown",
   "metadata": {},
   "source": [
    "[We've provided you with some commentary to guide your thinking as you complete this project. However, make sure to remove all the bracketed comments before submitting your project.]\n",
    "\n",
    "[Before you dive into analyzing your data, explain yourself the purposes of the project and actions you plan to take.]\n",
    "\n",
    "[Please bear in mind that studying, amending and analyzing data is an iterative process. It is normal to return back to previous steps and correct/expand them to allow for further steps.]"
   ]
  },
  {
   "cell_type": "markdown",
   "metadata": {},
   "source": [
    "<div class=\"alert alert-success\">\n",
    "<b>Reviewer's comment v1:</b>\n",
    "    \n",
    "- Great that you added additional information about project tasks. It gives an overview of what you are going to achieve in this project.\n"
   ]
  },
  {
   "cell_type": "markdown",
   "metadata": {},
   "source": [
    "## Initialization"
   ]
  },
  {
   "cell_type": "markdown",
   "metadata": {},
   "source": [
    "[Load libraries that you believe are required for the project. You may realise later that you need additional libraries as you go, which is totally fine - just make sure to update this section when you do.]"
   ]
  },
  {
   "cell_type": "code",
   "execution_count": 1,
   "metadata": {},
   "outputs": [],
   "source": [
    "# Loading all the libraries\n",
    "import pandas as pd\n",
    "import numpy as np\n",
    "import scipy.stats\n",
    "import warnings\n",
    "warnings.filterwarnings(\"ignore\")\n"
   ]
  },
  {
   "cell_type": "markdown",
   "metadata": {},
   "source": [
    "### Load data"
   ]
  },
  {
   "cell_type": "markdown",
   "metadata": {},
   "source": [
    "[Load the project data and have a look at the general information.]"
   ]
  },
  {
   "cell_type": "code",
   "execution_count": 2,
   "metadata": {},
   "outputs": [],
   "source": [
    "# Load the data file into a DataFrame\n",
    "\n",
    "df = pd.read_csv('/datasets/vehicles_us.csv')"
   ]
  },
  {
   "cell_type": "markdown",
   "metadata": {},
   "source": [
    "### Explore initial data"
   ]
  },
  {
   "cell_type": "markdown",
   "metadata": {},
   "source": [
    "The dataset contains the following fields:\n",
    "- `price`\n",
    "- `model_year`\n",
    "- `model`\n",
    "- `condition`\n",
    "- `cylinders`\n",
    "- `fuel` — gas, diesel, etc.\n",
    "- `odometer` — the vehicle's mileage when the ad was published\n",
    "- `transmission`\n",
    "- `paint_color`\n",
    "- `is_4wd` — whether the vehicle has 4-wheel drive (Boolean type)\n",
    "- `date_posted` — the date the ad was published\n",
    "- `days_listed` — from publication to removal\n",
    "\n",
    "[Understanding the fields, explore them to make yourself familiar with the data.]"
   ]
  },
  {
   "cell_type": "code",
   "execution_count": 3,
   "metadata": {},
   "outputs": [
    {
     "data": {
      "text/plain": [
       "(51525, 13)"
      ]
     },
     "execution_count": 3,
     "metadata": {},
     "output_type": "execute_result"
    }
   ],
   "source": [
    "# print the general/summary information about the DataFrame\n",
    "df.shape\n"
   ]
  },
  {
   "cell_type": "code",
   "execution_count": 4,
   "metadata": {},
   "outputs": [
    {
     "name": "stdout",
     "output_type": "stream",
     "text": [
      "<class 'pandas.core.frame.DataFrame'>\n",
      "RangeIndex: 51525 entries, 0 to 51524\n",
      "Data columns (total 13 columns):\n",
      "price           51525 non-null int64\n",
      "model_year      47906 non-null float64\n",
      "model           51525 non-null object\n",
      "condition       51525 non-null object\n",
      "cylinders       46265 non-null float64\n",
      "fuel            51525 non-null object\n",
      "odometer        43633 non-null float64\n",
      "transmission    51525 non-null object\n",
      "type            51525 non-null object\n",
      "paint_color     42258 non-null object\n",
      "is_4wd          25572 non-null float64\n",
      "date_posted     51525 non-null object\n",
      "days_listed     51525 non-null int64\n",
      "dtypes: float64(4), int64(2), object(7)\n",
      "memory usage: 5.1+ MB\n"
     ]
    }
   ],
   "source": [
    "df.info()"
   ]
  },
  {
   "cell_type": "code",
   "execution_count": 5,
   "metadata": {},
   "outputs": [
    {
     "data": {
      "text/html": [
       "<div>\n",
       "<style scoped>\n",
       "    .dataframe tbody tr th:only-of-type {\n",
       "        vertical-align: middle;\n",
       "    }\n",
       "\n",
       "    .dataframe tbody tr th {\n",
       "        vertical-align: top;\n",
       "    }\n",
       "\n",
       "    .dataframe thead th {\n",
       "        text-align: right;\n",
       "    }\n",
       "</style>\n",
       "<table border=\"1\" class=\"dataframe\">\n",
       "  <thead>\n",
       "    <tr style=\"text-align: right;\">\n",
       "      <th></th>\n",
       "      <th>price</th>\n",
       "      <th>model_year</th>\n",
       "      <th>cylinders</th>\n",
       "      <th>odometer</th>\n",
       "      <th>is_4wd</th>\n",
       "      <th>days_listed</th>\n",
       "    </tr>\n",
       "  </thead>\n",
       "  <tbody>\n",
       "    <tr>\n",
       "      <td>count</td>\n",
       "      <td>51525.000000</td>\n",
       "      <td>47906.000000</td>\n",
       "      <td>46265.000000</td>\n",
       "      <td>43633.000000</td>\n",
       "      <td>25572.0</td>\n",
       "      <td>51525.00000</td>\n",
       "    </tr>\n",
       "    <tr>\n",
       "      <td>mean</td>\n",
       "      <td>12132.464920</td>\n",
       "      <td>2009.750470</td>\n",
       "      <td>6.125235</td>\n",
       "      <td>115553.461738</td>\n",
       "      <td>1.0</td>\n",
       "      <td>39.55476</td>\n",
       "    </tr>\n",
       "    <tr>\n",
       "      <td>std</td>\n",
       "      <td>10040.803015</td>\n",
       "      <td>6.282065</td>\n",
       "      <td>1.660360</td>\n",
       "      <td>65094.611341</td>\n",
       "      <td>0.0</td>\n",
       "      <td>28.20427</td>\n",
       "    </tr>\n",
       "    <tr>\n",
       "      <td>min</td>\n",
       "      <td>1.000000</td>\n",
       "      <td>1908.000000</td>\n",
       "      <td>3.000000</td>\n",
       "      <td>0.000000</td>\n",
       "      <td>1.0</td>\n",
       "      <td>0.00000</td>\n",
       "    </tr>\n",
       "    <tr>\n",
       "      <td>25%</td>\n",
       "      <td>5000.000000</td>\n",
       "      <td>2006.000000</td>\n",
       "      <td>4.000000</td>\n",
       "      <td>70000.000000</td>\n",
       "      <td>1.0</td>\n",
       "      <td>19.00000</td>\n",
       "    </tr>\n",
       "    <tr>\n",
       "      <td>50%</td>\n",
       "      <td>9000.000000</td>\n",
       "      <td>2011.000000</td>\n",
       "      <td>6.000000</td>\n",
       "      <td>113000.000000</td>\n",
       "      <td>1.0</td>\n",
       "      <td>33.00000</td>\n",
       "    </tr>\n",
       "    <tr>\n",
       "      <td>75%</td>\n",
       "      <td>16839.000000</td>\n",
       "      <td>2014.000000</td>\n",
       "      <td>8.000000</td>\n",
       "      <td>155000.000000</td>\n",
       "      <td>1.0</td>\n",
       "      <td>53.00000</td>\n",
       "    </tr>\n",
       "    <tr>\n",
       "      <td>max</td>\n",
       "      <td>375000.000000</td>\n",
       "      <td>2019.000000</td>\n",
       "      <td>12.000000</td>\n",
       "      <td>990000.000000</td>\n",
       "      <td>1.0</td>\n",
       "      <td>271.00000</td>\n",
       "    </tr>\n",
       "  </tbody>\n",
       "</table>\n",
       "</div>"
      ],
      "text/plain": [
       "               price    model_year     cylinders       odometer   is_4wd  \\\n",
       "count   51525.000000  47906.000000  46265.000000   43633.000000  25572.0   \n",
       "mean    12132.464920   2009.750470      6.125235  115553.461738      1.0   \n",
       "std     10040.803015      6.282065      1.660360   65094.611341      0.0   \n",
       "min         1.000000   1908.000000      3.000000       0.000000      1.0   \n",
       "25%      5000.000000   2006.000000      4.000000   70000.000000      1.0   \n",
       "50%      9000.000000   2011.000000      6.000000  113000.000000      1.0   \n",
       "75%     16839.000000   2014.000000      8.000000  155000.000000      1.0   \n",
       "max    375000.000000   2019.000000     12.000000  990000.000000      1.0   \n",
       "\n",
       "       days_listed  \n",
       "count  51525.00000  \n",
       "mean      39.55476  \n",
       "std       28.20427  \n",
       "min        0.00000  \n",
       "25%       19.00000  \n",
       "50%       33.00000  \n",
       "75%       53.00000  \n",
       "max      271.00000  "
      ]
     },
     "execution_count": 5,
     "metadata": {},
     "output_type": "execute_result"
    }
   ],
   "source": [
    "df.describe()"
   ]
  },
  {
   "cell_type": "code",
   "execution_count": 6,
   "metadata": {},
   "outputs": [
    {
     "data": {
      "text/html": [
       "<div>\n",
       "<style scoped>\n",
       "    .dataframe tbody tr th:only-of-type {\n",
       "        vertical-align: middle;\n",
       "    }\n",
       "\n",
       "    .dataframe tbody tr th {\n",
       "        vertical-align: top;\n",
       "    }\n",
       "\n",
       "    .dataframe thead th {\n",
       "        text-align: right;\n",
       "    }\n",
       "</style>\n",
       "<table border=\"1\" class=\"dataframe\">\n",
       "  <thead>\n",
       "    <tr style=\"text-align: right;\">\n",
       "      <th></th>\n",
       "      <th>price</th>\n",
       "      <th>model_year</th>\n",
       "      <th>model</th>\n",
       "      <th>condition</th>\n",
       "      <th>cylinders</th>\n",
       "      <th>fuel</th>\n",
       "      <th>odometer</th>\n",
       "      <th>transmission</th>\n",
       "      <th>type</th>\n",
       "      <th>paint_color</th>\n",
       "      <th>is_4wd</th>\n",
       "      <th>date_posted</th>\n",
       "      <th>days_listed</th>\n",
       "    </tr>\n",
       "  </thead>\n",
       "  <tbody>\n",
       "    <tr>\n",
       "      <td>0</td>\n",
       "      <td>9400</td>\n",
       "      <td>2011.0</td>\n",
       "      <td>bmw x5</td>\n",
       "      <td>good</td>\n",
       "      <td>6.0</td>\n",
       "      <td>gas</td>\n",
       "      <td>145000.0</td>\n",
       "      <td>automatic</td>\n",
       "      <td>SUV</td>\n",
       "      <td>NaN</td>\n",
       "      <td>1.0</td>\n",
       "      <td>2018-06-23</td>\n",
       "      <td>19</td>\n",
       "    </tr>\n",
       "    <tr>\n",
       "      <td>1</td>\n",
       "      <td>25500</td>\n",
       "      <td>NaN</td>\n",
       "      <td>ford f-150</td>\n",
       "      <td>good</td>\n",
       "      <td>6.0</td>\n",
       "      <td>gas</td>\n",
       "      <td>88705.0</td>\n",
       "      <td>automatic</td>\n",
       "      <td>pickup</td>\n",
       "      <td>white</td>\n",
       "      <td>1.0</td>\n",
       "      <td>2018-10-19</td>\n",
       "      <td>50</td>\n",
       "    </tr>\n",
       "    <tr>\n",
       "      <td>2</td>\n",
       "      <td>5500</td>\n",
       "      <td>2013.0</td>\n",
       "      <td>hyundai sonata</td>\n",
       "      <td>like new</td>\n",
       "      <td>4.0</td>\n",
       "      <td>gas</td>\n",
       "      <td>110000.0</td>\n",
       "      <td>automatic</td>\n",
       "      <td>sedan</td>\n",
       "      <td>red</td>\n",
       "      <td>NaN</td>\n",
       "      <td>2019-02-07</td>\n",
       "      <td>79</td>\n",
       "    </tr>\n",
       "    <tr>\n",
       "      <td>3</td>\n",
       "      <td>1500</td>\n",
       "      <td>2003.0</td>\n",
       "      <td>ford f-150</td>\n",
       "      <td>fair</td>\n",
       "      <td>8.0</td>\n",
       "      <td>gas</td>\n",
       "      <td>NaN</td>\n",
       "      <td>automatic</td>\n",
       "      <td>pickup</td>\n",
       "      <td>NaN</td>\n",
       "      <td>NaN</td>\n",
       "      <td>2019-03-22</td>\n",
       "      <td>9</td>\n",
       "    </tr>\n",
       "    <tr>\n",
       "      <td>4</td>\n",
       "      <td>14900</td>\n",
       "      <td>2017.0</td>\n",
       "      <td>chrysler 200</td>\n",
       "      <td>excellent</td>\n",
       "      <td>4.0</td>\n",
       "      <td>gas</td>\n",
       "      <td>80903.0</td>\n",
       "      <td>automatic</td>\n",
       "      <td>sedan</td>\n",
       "      <td>black</td>\n",
       "      <td>NaN</td>\n",
       "      <td>2019-04-02</td>\n",
       "      <td>28</td>\n",
       "    </tr>\n",
       "    <tr>\n",
       "      <td>5</td>\n",
       "      <td>14990</td>\n",
       "      <td>2014.0</td>\n",
       "      <td>chrysler 300</td>\n",
       "      <td>excellent</td>\n",
       "      <td>6.0</td>\n",
       "      <td>gas</td>\n",
       "      <td>57954.0</td>\n",
       "      <td>automatic</td>\n",
       "      <td>sedan</td>\n",
       "      <td>black</td>\n",
       "      <td>1.0</td>\n",
       "      <td>2018-06-20</td>\n",
       "      <td>15</td>\n",
       "    </tr>\n",
       "    <tr>\n",
       "      <td>6</td>\n",
       "      <td>12990</td>\n",
       "      <td>2015.0</td>\n",
       "      <td>toyota camry</td>\n",
       "      <td>excellent</td>\n",
       "      <td>4.0</td>\n",
       "      <td>gas</td>\n",
       "      <td>79212.0</td>\n",
       "      <td>automatic</td>\n",
       "      <td>sedan</td>\n",
       "      <td>white</td>\n",
       "      <td>NaN</td>\n",
       "      <td>2018-12-27</td>\n",
       "      <td>73</td>\n",
       "    </tr>\n",
       "    <tr>\n",
       "      <td>7</td>\n",
       "      <td>15990</td>\n",
       "      <td>2013.0</td>\n",
       "      <td>honda pilot</td>\n",
       "      <td>excellent</td>\n",
       "      <td>6.0</td>\n",
       "      <td>gas</td>\n",
       "      <td>109473.0</td>\n",
       "      <td>automatic</td>\n",
       "      <td>SUV</td>\n",
       "      <td>black</td>\n",
       "      <td>1.0</td>\n",
       "      <td>2019-01-07</td>\n",
       "      <td>68</td>\n",
       "    </tr>\n",
       "    <tr>\n",
       "      <td>8</td>\n",
       "      <td>11500</td>\n",
       "      <td>2012.0</td>\n",
       "      <td>kia sorento</td>\n",
       "      <td>excellent</td>\n",
       "      <td>4.0</td>\n",
       "      <td>gas</td>\n",
       "      <td>104174.0</td>\n",
       "      <td>automatic</td>\n",
       "      <td>SUV</td>\n",
       "      <td>NaN</td>\n",
       "      <td>1.0</td>\n",
       "      <td>2018-07-16</td>\n",
       "      <td>19</td>\n",
       "    </tr>\n",
       "    <tr>\n",
       "      <td>9</td>\n",
       "      <td>9200</td>\n",
       "      <td>2008.0</td>\n",
       "      <td>honda pilot</td>\n",
       "      <td>excellent</td>\n",
       "      <td>NaN</td>\n",
       "      <td>gas</td>\n",
       "      <td>147191.0</td>\n",
       "      <td>automatic</td>\n",
       "      <td>SUV</td>\n",
       "      <td>blue</td>\n",
       "      <td>1.0</td>\n",
       "      <td>2019-02-15</td>\n",
       "      <td>17</td>\n",
       "    </tr>\n",
       "    <tr>\n",
       "      <td>10</td>\n",
       "      <td>19500</td>\n",
       "      <td>2011.0</td>\n",
       "      <td>chevrolet silverado 1500</td>\n",
       "      <td>excellent</td>\n",
       "      <td>8.0</td>\n",
       "      <td>gas</td>\n",
       "      <td>128413.0</td>\n",
       "      <td>automatic</td>\n",
       "      <td>pickup</td>\n",
       "      <td>black</td>\n",
       "      <td>1.0</td>\n",
       "      <td>2018-09-17</td>\n",
       "      <td>38</td>\n",
       "    </tr>\n",
       "    <tr>\n",
       "      <td>11</td>\n",
       "      <td>8990</td>\n",
       "      <td>2012.0</td>\n",
       "      <td>honda accord</td>\n",
       "      <td>excellent</td>\n",
       "      <td>4.0</td>\n",
       "      <td>gas</td>\n",
       "      <td>111142.0</td>\n",
       "      <td>automatic</td>\n",
       "      <td>sedan</td>\n",
       "      <td>grey</td>\n",
       "      <td>NaN</td>\n",
       "      <td>2019-03-28</td>\n",
       "      <td>29</td>\n",
       "    </tr>\n",
       "    <tr>\n",
       "      <td>12</td>\n",
       "      <td>18990</td>\n",
       "      <td>2012.0</td>\n",
       "      <td>ram 1500</td>\n",
       "      <td>excellent</td>\n",
       "      <td>8.0</td>\n",
       "      <td>gas</td>\n",
       "      <td>140742.0</td>\n",
       "      <td>automatic</td>\n",
       "      <td>pickup</td>\n",
       "      <td>NaN</td>\n",
       "      <td>1.0</td>\n",
       "      <td>2019-04-02</td>\n",
       "      <td>37</td>\n",
       "    </tr>\n",
       "    <tr>\n",
       "      <td>13</td>\n",
       "      <td>16500</td>\n",
       "      <td>2018.0</td>\n",
       "      <td>hyundai sonata</td>\n",
       "      <td>excellent</td>\n",
       "      <td>4.0</td>\n",
       "      <td>gas</td>\n",
       "      <td>22104.0</td>\n",
       "      <td>automatic</td>\n",
       "      <td>sedan</td>\n",
       "      <td>silver</td>\n",
       "      <td>NaN</td>\n",
       "      <td>2019-01-14</td>\n",
       "      <td>29</td>\n",
       "    </tr>\n",
       "    <tr>\n",
       "      <td>14</td>\n",
       "      <td>12990</td>\n",
       "      <td>2009.0</td>\n",
       "      <td>gmc yukon</td>\n",
       "      <td>excellent</td>\n",
       "      <td>8.0</td>\n",
       "      <td>gas</td>\n",
       "      <td>132285.0</td>\n",
       "      <td>automatic</td>\n",
       "      <td>SUV</td>\n",
       "      <td>black</td>\n",
       "      <td>1.0</td>\n",
       "      <td>2019-01-31</td>\n",
       "      <td>24</td>\n",
       "    </tr>\n",
       "    <tr>\n",
       "      <td>15</td>\n",
       "      <td>17990</td>\n",
       "      <td>2013.0</td>\n",
       "      <td>ram 1500</td>\n",
       "      <td>excellent</td>\n",
       "      <td>8.0</td>\n",
       "      <td>gas</td>\n",
       "      <td>NaN</td>\n",
       "      <td>automatic</td>\n",
       "      <td>pickup</td>\n",
       "      <td>red</td>\n",
       "      <td>1.0</td>\n",
       "      <td>2018-05-15</td>\n",
       "      <td>111</td>\n",
       "    </tr>\n",
       "    <tr>\n",
       "      <td>16</td>\n",
       "      <td>14990</td>\n",
       "      <td>2010.0</td>\n",
       "      <td>ram 1500</td>\n",
       "      <td>excellent</td>\n",
       "      <td>8.0</td>\n",
       "      <td>gas</td>\n",
       "      <td>130725.0</td>\n",
       "      <td>automatic</td>\n",
       "      <td>pickup</td>\n",
       "      <td>red</td>\n",
       "      <td>1.0</td>\n",
       "      <td>2018-12-30</td>\n",
       "      <td>13</td>\n",
       "    </tr>\n",
       "    <tr>\n",
       "      <td>17</td>\n",
       "      <td>13990</td>\n",
       "      <td>2014.0</td>\n",
       "      <td>jeep cherokee</td>\n",
       "      <td>excellent</td>\n",
       "      <td>6.0</td>\n",
       "      <td>gas</td>\n",
       "      <td>100669.0</td>\n",
       "      <td>automatic</td>\n",
       "      <td>SUV</td>\n",
       "      <td>red</td>\n",
       "      <td>1.0</td>\n",
       "      <td>2018-08-16</td>\n",
       "      <td>25</td>\n",
       "    </tr>\n",
       "    <tr>\n",
       "      <td>18</td>\n",
       "      <td>12500</td>\n",
       "      <td>2013.0</td>\n",
       "      <td>chevrolet traverse</td>\n",
       "      <td>excellent</td>\n",
       "      <td>6.0</td>\n",
       "      <td>gas</td>\n",
       "      <td>128325.0</td>\n",
       "      <td>automatic</td>\n",
       "      <td>SUV</td>\n",
       "      <td>white</td>\n",
       "      <td>1.0</td>\n",
       "      <td>2019-04-09</td>\n",
       "      <td>13</td>\n",
       "    </tr>\n",
       "    <tr>\n",
       "      <td>19</td>\n",
       "      <td>13990</td>\n",
       "      <td>2018.0</td>\n",
       "      <td>hyundai elantra</td>\n",
       "      <td>excellent</td>\n",
       "      <td>4.0</td>\n",
       "      <td>gas</td>\n",
       "      <td>31932.0</td>\n",
       "      <td>automatic</td>\n",
       "      <td>sedan</td>\n",
       "      <td>red</td>\n",
       "      <td>NaN</td>\n",
       "      <td>2018-08-25</td>\n",
       "      <td>27</td>\n",
       "    </tr>\n",
       "  </tbody>\n",
       "</table>\n",
       "</div>"
      ],
      "text/plain": [
       "    price  model_year                     model  condition  cylinders fuel  \\\n",
       "0    9400      2011.0                    bmw x5       good        6.0  gas   \n",
       "1   25500         NaN                ford f-150       good        6.0  gas   \n",
       "2    5500      2013.0            hyundai sonata   like new        4.0  gas   \n",
       "3    1500      2003.0                ford f-150       fair        8.0  gas   \n",
       "4   14900      2017.0              chrysler 200  excellent        4.0  gas   \n",
       "5   14990      2014.0              chrysler 300  excellent        6.0  gas   \n",
       "6   12990      2015.0              toyota camry  excellent        4.0  gas   \n",
       "7   15990      2013.0               honda pilot  excellent        6.0  gas   \n",
       "8   11500      2012.0               kia sorento  excellent        4.0  gas   \n",
       "9    9200      2008.0               honda pilot  excellent        NaN  gas   \n",
       "10  19500      2011.0  chevrolet silverado 1500  excellent        8.0  gas   \n",
       "11   8990      2012.0              honda accord  excellent        4.0  gas   \n",
       "12  18990      2012.0                  ram 1500  excellent        8.0  gas   \n",
       "13  16500      2018.0            hyundai sonata  excellent        4.0  gas   \n",
       "14  12990      2009.0                 gmc yukon  excellent        8.0  gas   \n",
       "15  17990      2013.0                  ram 1500  excellent        8.0  gas   \n",
       "16  14990      2010.0                  ram 1500  excellent        8.0  gas   \n",
       "17  13990      2014.0             jeep cherokee  excellent        6.0  gas   \n",
       "18  12500      2013.0        chevrolet traverse  excellent        6.0  gas   \n",
       "19  13990      2018.0           hyundai elantra  excellent        4.0  gas   \n",
       "\n",
       "    odometer transmission    type paint_color  is_4wd date_posted  days_listed  \n",
       "0   145000.0    automatic     SUV         NaN     1.0  2018-06-23           19  \n",
       "1    88705.0    automatic  pickup       white     1.0  2018-10-19           50  \n",
       "2   110000.0    automatic   sedan         red     NaN  2019-02-07           79  \n",
       "3        NaN    automatic  pickup         NaN     NaN  2019-03-22            9  \n",
       "4    80903.0    automatic   sedan       black     NaN  2019-04-02           28  \n",
       "5    57954.0    automatic   sedan       black     1.0  2018-06-20           15  \n",
       "6    79212.0    automatic   sedan       white     NaN  2018-12-27           73  \n",
       "7   109473.0    automatic     SUV       black     1.0  2019-01-07           68  \n",
       "8   104174.0    automatic     SUV         NaN     1.0  2018-07-16           19  \n",
       "9   147191.0    automatic     SUV        blue     1.0  2019-02-15           17  \n",
       "10  128413.0    automatic  pickup       black     1.0  2018-09-17           38  \n",
       "11  111142.0    automatic   sedan        grey     NaN  2019-03-28           29  \n",
       "12  140742.0    automatic  pickup         NaN     1.0  2019-04-02           37  \n",
       "13   22104.0    automatic   sedan      silver     NaN  2019-01-14           29  \n",
       "14  132285.0    automatic     SUV       black     1.0  2019-01-31           24  \n",
       "15       NaN    automatic  pickup         red     1.0  2018-05-15          111  \n",
       "16  130725.0    automatic  pickup         red     1.0  2018-12-30           13  \n",
       "17  100669.0    automatic     SUV         red     1.0  2018-08-16           25  \n",
       "18  128325.0    automatic     SUV       white     1.0  2019-04-09           13  \n",
       "19   31932.0    automatic   sedan         red     NaN  2018-08-25           27  "
      ]
     },
     "execution_count": 6,
     "metadata": {},
     "output_type": "execute_result"
    }
   ],
   "source": [
    "# print a sample of data\n",
    "df.head(20)\n"
   ]
  },
  {
   "cell_type": "markdown",
   "metadata": {},
   "source": [
    "[Describe what you notice in the general information and the printed data sample. Are there any issues that may need further investigation and changes?]"
   ]
  },
  {
   "cell_type": "markdown",
   "metadata": {},
   "source": [
    "[Are there columns with inappropriate data types?]"
   ]
  },
  {
   "cell_type": "markdown",
   "metadata": {},
   "source": [
    "model_year should not have been a floating data type. The decimals in cylinders and odometer seem equally unnecessary, although not illegal."
   ]
  },
  {
   "cell_type": "markdown",
   "metadata": {},
   "source": [
    "[Are there missing values across all columns or just a few? What columns contain the most missing values? Briefly describe what you see in 1-2 sentences.]"
   ]
  },
  {
   "cell_type": "markdown",
   "metadata": {},
   "source": [
    "From a quick glance, there are quite a few missing values (NaN) across multiple columns - they are:\n",
    "model_year\n",
    "cylinders\n",
    "odometer\n",
    "paint_color\n",
    "is_4wd"
   ]
  },
  {
   "cell_type": "markdown",
   "metadata": {},
   "source": [
    "<div class=\"alert alert-block alert-success\">\n",
    "<b>Reviewer's comment v1:</b>\n",
    "    \n",
    "A good start and first view on data. \n",
    "\n",
    "Also great that all imports and data load are grouped in different cells before the project and try/except has been used.\n",
    "\n",
    "\n",
    "</div>"
   ]
  },
  {
   "cell_type": "markdown",
   "metadata": {},
   "source": [
    "### Conclusions and further steps\n",
    "\n",
    "[Formulate your conclusions regarding the initial data. What do you think looks normal and what does not not?]\n",
    "\n",
    "[Explain your next steps and how they correlate with the conclusions you made so far. Specifically, it should be clear what part of data should be treated to make it more suitable for the required analysis.]"
   ]
  },
  {
   "cell_type": "markdown",
   "metadata": {},
   "source": [
    "Before analysis can happen, the next first step is to clean the dataset and conduct data pre-processing.\n",
    "This requires a few steps as well - an obvious procedure here is to treat the missing values. In some cases there's an obvious way to replace missing values (i.e., a Boolean field). There are cases when the fact that a value is missing is significant. In such instances, don't fill in the values.\n",
    "\n",
    "Second step is to convert the data to the required type - in this case, convert decimal float data to integer in 3 columns indicated above(model_year, cylinders, odometer)."
   ]
  },
  {
   "cell_type": "markdown",
   "metadata": {},
   "source": [
    "## Treat missing values (if any)"
   ]
  },
  {
   "cell_type": "markdown",
   "metadata": {},
   "source": [
    "[Study missing values for each column in more details and decide what to do with them based on meaningful hypotheses.]"
   ]
  },
  {
   "cell_type": "code",
   "execution_count": 7,
   "metadata": {},
   "outputs": [
    {
     "name": "stdout",
     "output_type": "stream",
     "text": [
      "       model_year  cylinders  odometer paint_color  is_4wd\n",
      "0          2011.0        6.0  145000.0         NaN     1.0\n",
      "1             NaN        6.0   88705.0       white     1.0\n",
      "2          2013.0        4.0  110000.0         red     NaN\n",
      "3          2003.0        8.0       NaN         NaN     NaN\n",
      "4          2017.0        4.0   80903.0       black     NaN\n",
      "...           ...        ...       ...         ...     ...\n",
      "51520      2013.0        6.0   88136.0       black     NaN\n",
      "51521      2002.0        4.0  181500.0       white     NaN\n",
      "51522      2009.0        4.0  128000.0        blue     NaN\n",
      "51523      2013.0        4.0  139573.0       black     NaN\n",
      "51524      2014.0        4.0       NaN         NaN     NaN\n",
      "\n",
      "[51525 rows x 5 columns]\n"
     ]
    }
   ],
   "source": [
    "missing = df.loc[:, ['model_year','cylinders','odometer','paint_color', 'is_4wd']]\n",
    "print(missing)"
   ]
  },
  {
   "cell_type": "markdown",
   "metadata": {},
   "source": [
    "Step 1: Getting a sense of the volume of missing values\n"
   ]
  },
  {
   "cell_type": "code",
   "execution_count": 8,
   "metadata": {},
   "outputs": [
    {
     "name": "stdout",
     "output_type": "stream",
     "text": [
      "<class 'pandas.core.frame.DataFrame'>\n",
      "Int64Index: 14852 entries, 5 to 51515\n",
      "Data columns (total 13 columns):\n",
      "price           14852 non-null int64\n",
      "model_year      14852 non-null float64\n",
      "model           14852 non-null object\n",
      "condition       14852 non-null object\n",
      "cylinders       14852 non-null float64\n",
      "fuel            14852 non-null object\n",
      "odometer        14852 non-null float64\n",
      "transmission    14852 non-null object\n",
      "type            14852 non-null object\n",
      "paint_color     14852 non-null object\n",
      "is_4wd          14852 non-null float64\n",
      "date_posted     14852 non-null object\n",
      "days_listed     14852 non-null int64\n",
      "dtypes: float64(4), int64(2), object(7)\n",
      "memory usage: 1.6+ MB\n"
     ]
    }
   ],
   "source": [
    "dropped_df = df.dropna()\n",
    "dropped_df.info()"
   ]
  },
  {
   "cell_type": "markdown",
   "metadata": {},
   "source": [
    "Only 14852/50000+ rows of the original datasets has no-NaN fields, i.e. has complete information. Dropna() would not work since it omits too much data. "
   ]
  },
  {
   "cell_type": "markdown",
   "metadata": {},
   "source": [
    "<div class=\"alert alert-block alert-warning\">\n",
    "<b>Reviewer's comment v1:</b>\n",
    "    \n",
    "It is always helpful to calculate the percentage of missing values. It helps to understand the overall impact and to make a more weighted decision regarding what to do next. for example, like this:\n",
    "\n",
    "    `data.isnull().sum()*100/len(data)`\n",
    "\n",
    "Or like this:\n",
    "\n",
    "    `report = data.isna().sum().to_frame()\n",
    "    report = report.rename(columns = {0: 'missing_values'})\n",
    "    report['% of total'] = (report['missing_values'] / data.shape[0]).round(2)\n",
    "    report.sort_values(by = 'missing_values', ascending = False)`"
   ]
  },
  {
   "cell_type": "markdown",
   "metadata": {},
   "source": [
    "<div class=\"alert alert-info\"> <b>Student comments:</b> Fixed according to your suggestion. Thanks! </div>    "
   ]
  },
  {
   "cell_type": "markdown",
   "metadata": {},
   "source": [
    "<div class=\"alert alert-success\">\n",
    "<b>Reviewer's comment v2:</b>\n",
    "    \n",
    "🙌"
   ]
  },
  {
   "cell_type": "code",
   "execution_count": 9,
   "metadata": {},
   "outputs": [
    {
     "data": {
      "text/plain": [
       "price            0.000000\n",
       "model_year       7.023775\n",
       "model            0.000000\n",
       "condition        0.000000\n",
       "cylinders       10.208637\n",
       "fuel             0.000000\n",
       "odometer        15.316836\n",
       "transmission     0.000000\n",
       "type             0.000000\n",
       "paint_color     17.985444\n",
       "is_4wd          50.369723\n",
       "date_posted      0.000000\n",
       "days_listed      0.000000\n",
       "dtype: float64"
      ]
     },
     "execution_count": 9,
     "metadata": {},
     "output_type": "execute_result"
    }
   ],
   "source": [
    "df.isnull().sum()*100/len(df)"
   ]
  },
  {
   "cell_type": "code",
   "execution_count": 10,
   "metadata": {},
   "outputs": [
    {
     "data": {
      "text/plain": [
       "price           0.0\n",
       "model_year      0.0\n",
       "model           0.0\n",
       "condition       0.0\n",
       "cylinders       0.0\n",
       "fuel            0.0\n",
       "odometer        0.0\n",
       "transmission    0.0\n",
       "type            0.0\n",
       "paint_color     0.0\n",
       "is_4wd          0.0\n",
       "date_posted     0.0\n",
       "days_listed     0.0\n",
       "dtype: float64"
      ]
     },
     "execution_count": 10,
     "metadata": {},
     "output_type": "execute_result"
    }
   ],
   "source": [
    "dropped_df.isnull().sum()*100/len(dropped_df)"
   ]
  },
  {
   "cell_type": "markdown",
   "metadata": {},
   "source": [
    "Step 2 therefore is to clean the dataset column by column."
   ]
  },
  {
   "cell_type": "markdown",
   "metadata": {},
   "source": [
    "For the \"is_4wd\" column, the solution is simple - replacing NaN with the value \"0\", indicating none. This makes sense as this column stores a Boolean value, i.e., is this vehicle 4wd or not."
   ]
  },
  {
   "cell_type": "code",
   "execution_count": 11,
   "metadata": {},
   "outputs": [
    {
     "data": {
      "text/html": [
       "<div>\n",
       "<style scoped>\n",
       "    .dataframe tbody tr th:only-of-type {\n",
       "        vertical-align: middle;\n",
       "    }\n",
       "\n",
       "    .dataframe tbody tr th {\n",
       "        vertical-align: top;\n",
       "    }\n",
       "\n",
       "    .dataframe thead th {\n",
       "        text-align: right;\n",
       "    }\n",
       "</style>\n",
       "<table border=\"1\" class=\"dataframe\">\n",
       "  <thead>\n",
       "    <tr style=\"text-align: right;\">\n",
       "      <th></th>\n",
       "      <th>price</th>\n",
       "      <th>model_year</th>\n",
       "      <th>model</th>\n",
       "      <th>condition</th>\n",
       "      <th>cylinders</th>\n",
       "      <th>fuel</th>\n",
       "      <th>odometer</th>\n",
       "      <th>transmission</th>\n",
       "      <th>type</th>\n",
       "      <th>paint_color</th>\n",
       "      <th>is_4wd</th>\n",
       "      <th>date_posted</th>\n",
       "      <th>days_listed</th>\n",
       "    </tr>\n",
       "  </thead>\n",
       "  <tbody>\n",
       "    <tr>\n",
       "      <td>0</td>\n",
       "      <td>9400</td>\n",
       "      <td>2011.0</td>\n",
       "      <td>bmw x5</td>\n",
       "      <td>good</td>\n",
       "      <td>6.0</td>\n",
       "      <td>gas</td>\n",
       "      <td>145000.0</td>\n",
       "      <td>automatic</td>\n",
       "      <td>SUV</td>\n",
       "      <td>NaN</td>\n",
       "      <td>1.0</td>\n",
       "      <td>2018-06-23</td>\n",
       "      <td>19</td>\n",
       "    </tr>\n",
       "    <tr>\n",
       "      <td>1</td>\n",
       "      <td>25500</td>\n",
       "      <td>NaN</td>\n",
       "      <td>ford f-150</td>\n",
       "      <td>good</td>\n",
       "      <td>6.0</td>\n",
       "      <td>gas</td>\n",
       "      <td>88705.0</td>\n",
       "      <td>automatic</td>\n",
       "      <td>pickup</td>\n",
       "      <td>white</td>\n",
       "      <td>1.0</td>\n",
       "      <td>2018-10-19</td>\n",
       "      <td>50</td>\n",
       "    </tr>\n",
       "    <tr>\n",
       "      <td>2</td>\n",
       "      <td>5500</td>\n",
       "      <td>2013.0</td>\n",
       "      <td>hyundai sonata</td>\n",
       "      <td>like new</td>\n",
       "      <td>4.0</td>\n",
       "      <td>gas</td>\n",
       "      <td>110000.0</td>\n",
       "      <td>automatic</td>\n",
       "      <td>sedan</td>\n",
       "      <td>red</td>\n",
       "      <td>0.0</td>\n",
       "      <td>2019-02-07</td>\n",
       "      <td>79</td>\n",
       "    </tr>\n",
       "    <tr>\n",
       "      <td>3</td>\n",
       "      <td>1500</td>\n",
       "      <td>2003.0</td>\n",
       "      <td>ford f-150</td>\n",
       "      <td>fair</td>\n",
       "      <td>8.0</td>\n",
       "      <td>gas</td>\n",
       "      <td>NaN</td>\n",
       "      <td>automatic</td>\n",
       "      <td>pickup</td>\n",
       "      <td>NaN</td>\n",
       "      <td>0.0</td>\n",
       "      <td>2019-03-22</td>\n",
       "      <td>9</td>\n",
       "    </tr>\n",
       "    <tr>\n",
       "      <td>4</td>\n",
       "      <td>14900</td>\n",
       "      <td>2017.0</td>\n",
       "      <td>chrysler 200</td>\n",
       "      <td>excellent</td>\n",
       "      <td>4.0</td>\n",
       "      <td>gas</td>\n",
       "      <td>80903.0</td>\n",
       "      <td>automatic</td>\n",
       "      <td>sedan</td>\n",
       "      <td>black</td>\n",
       "      <td>0.0</td>\n",
       "      <td>2019-04-02</td>\n",
       "      <td>28</td>\n",
       "    </tr>\n",
       "    <tr>\n",
       "      <td>5</td>\n",
       "      <td>14990</td>\n",
       "      <td>2014.0</td>\n",
       "      <td>chrysler 300</td>\n",
       "      <td>excellent</td>\n",
       "      <td>6.0</td>\n",
       "      <td>gas</td>\n",
       "      <td>57954.0</td>\n",
       "      <td>automatic</td>\n",
       "      <td>sedan</td>\n",
       "      <td>black</td>\n",
       "      <td>1.0</td>\n",
       "      <td>2018-06-20</td>\n",
       "      <td>15</td>\n",
       "    </tr>\n",
       "    <tr>\n",
       "      <td>6</td>\n",
       "      <td>12990</td>\n",
       "      <td>2015.0</td>\n",
       "      <td>toyota camry</td>\n",
       "      <td>excellent</td>\n",
       "      <td>4.0</td>\n",
       "      <td>gas</td>\n",
       "      <td>79212.0</td>\n",
       "      <td>automatic</td>\n",
       "      <td>sedan</td>\n",
       "      <td>white</td>\n",
       "      <td>0.0</td>\n",
       "      <td>2018-12-27</td>\n",
       "      <td>73</td>\n",
       "    </tr>\n",
       "    <tr>\n",
       "      <td>7</td>\n",
       "      <td>15990</td>\n",
       "      <td>2013.0</td>\n",
       "      <td>honda pilot</td>\n",
       "      <td>excellent</td>\n",
       "      <td>6.0</td>\n",
       "      <td>gas</td>\n",
       "      <td>109473.0</td>\n",
       "      <td>automatic</td>\n",
       "      <td>SUV</td>\n",
       "      <td>black</td>\n",
       "      <td>1.0</td>\n",
       "      <td>2019-01-07</td>\n",
       "      <td>68</td>\n",
       "    </tr>\n",
       "    <tr>\n",
       "      <td>8</td>\n",
       "      <td>11500</td>\n",
       "      <td>2012.0</td>\n",
       "      <td>kia sorento</td>\n",
       "      <td>excellent</td>\n",
       "      <td>4.0</td>\n",
       "      <td>gas</td>\n",
       "      <td>104174.0</td>\n",
       "      <td>automatic</td>\n",
       "      <td>SUV</td>\n",
       "      <td>NaN</td>\n",
       "      <td>1.0</td>\n",
       "      <td>2018-07-16</td>\n",
       "      <td>19</td>\n",
       "    </tr>\n",
       "    <tr>\n",
       "      <td>9</td>\n",
       "      <td>9200</td>\n",
       "      <td>2008.0</td>\n",
       "      <td>honda pilot</td>\n",
       "      <td>excellent</td>\n",
       "      <td>NaN</td>\n",
       "      <td>gas</td>\n",
       "      <td>147191.0</td>\n",
       "      <td>automatic</td>\n",
       "      <td>SUV</td>\n",
       "      <td>blue</td>\n",
       "      <td>1.0</td>\n",
       "      <td>2019-02-15</td>\n",
       "      <td>17</td>\n",
       "    </tr>\n",
       "  </tbody>\n",
       "</table>\n",
       "</div>"
      ],
      "text/plain": [
       "   price  model_year           model  condition  cylinders fuel  odometer  \\\n",
       "0   9400      2011.0          bmw x5       good        6.0  gas  145000.0   \n",
       "1  25500         NaN      ford f-150       good        6.0  gas   88705.0   \n",
       "2   5500      2013.0  hyundai sonata   like new        4.0  gas  110000.0   \n",
       "3   1500      2003.0      ford f-150       fair        8.0  gas       NaN   \n",
       "4  14900      2017.0    chrysler 200  excellent        4.0  gas   80903.0   \n",
       "5  14990      2014.0    chrysler 300  excellent        6.0  gas   57954.0   \n",
       "6  12990      2015.0    toyota camry  excellent        4.0  gas   79212.0   \n",
       "7  15990      2013.0     honda pilot  excellent        6.0  gas  109473.0   \n",
       "8  11500      2012.0     kia sorento  excellent        4.0  gas  104174.0   \n",
       "9   9200      2008.0     honda pilot  excellent        NaN  gas  147191.0   \n",
       "\n",
       "  transmission    type paint_color  is_4wd date_posted  days_listed  \n",
       "0    automatic     SUV         NaN     1.0  2018-06-23           19  \n",
       "1    automatic  pickup       white     1.0  2018-10-19           50  \n",
       "2    automatic   sedan         red     0.0  2019-02-07           79  \n",
       "3    automatic  pickup         NaN     0.0  2019-03-22            9  \n",
       "4    automatic   sedan       black     0.0  2019-04-02           28  \n",
       "5    automatic   sedan       black     1.0  2018-06-20           15  \n",
       "6    automatic   sedan       white     0.0  2018-12-27           73  \n",
       "7    automatic     SUV       black     1.0  2019-01-07           68  \n",
       "8    automatic     SUV         NaN     1.0  2018-07-16           19  \n",
       "9    automatic     SUV        blue     1.0  2019-02-15           17  "
      ]
     },
     "execution_count": 11,
     "metadata": {},
     "output_type": "execute_result"
    }
   ],
   "source": [
    "df['is_4wd'].head(30)\n",
    "df['is_4wd'].replace(np.nan,0,inplace =True)\n",
    "df.head(10)"
   ]
  },
  {
   "cell_type": "markdown",
   "metadata": {},
   "source": [
    "<div class=\"alert alert-block alert-success\">\n",
    "<b>Reviewer's comment v1:</b>\n",
    "\n",
    "\n",
    "**`is_4wd`**\n",
    "    \n",
    "Indeed, `is_4wd` contains a boolean type of information (yes/no). So filling missing data with 0 will allow us to keep a potentially useful feature. \n"
   ]
  },
  {
   "cell_type": "markdown",
   "metadata": {},
   "source": [
    "For the \"odometer\" column, I will investigate the characteristics of the existing values to determine whether or not the replacement value should be the mean or the median. If there are larger discrepancy and range of variance within the column data itself, I would replace NaN with median. Otherwise, mean would be a good replacement value for the NaNs."
   ]
  },
  {
   "cell_type": "code",
   "execution_count": 12,
   "metadata": {},
   "outputs": [
    {
     "data": {
      "text/plain": [
       "count     43633.000000\n",
       "mean     115553.461738\n",
       "std       65094.611341\n",
       "min           0.000000\n",
       "25%       70000.000000\n",
       "50%      113000.000000\n",
       "75%      155000.000000\n",
       "max      990000.000000\n",
       "Name: odometer, dtype: float64"
      ]
     },
     "execution_count": 12,
     "metadata": {},
     "output_type": "execute_result"
    }
   ],
   "source": [
    "df['odometer'].describe()"
   ]
  },
  {
   "cell_type": "markdown",
   "metadata": {},
   "source": [
    "The standard deviation value here is quite sizeable - 65094! \n",
    "To be on the safer side, I would replace the NaN in this column with median value."
   ]
  },
  {
   "cell_type": "code",
   "execution_count": 13,
   "metadata": {},
   "outputs": [
    {
     "data": {
      "text/html": [
       "<div>\n",
       "<style scoped>\n",
       "    .dataframe tbody tr th:only-of-type {\n",
       "        vertical-align: middle;\n",
       "    }\n",
       "\n",
       "    .dataframe tbody tr th {\n",
       "        vertical-align: top;\n",
       "    }\n",
       "\n",
       "    .dataframe thead th {\n",
       "        text-align: right;\n",
       "    }\n",
       "</style>\n",
       "<table border=\"1\" class=\"dataframe\">\n",
       "  <thead>\n",
       "    <tr style=\"text-align: right;\">\n",
       "      <th></th>\n",
       "      <th>price</th>\n",
       "      <th>model_year</th>\n",
       "      <th>model</th>\n",
       "      <th>condition</th>\n",
       "      <th>cylinders</th>\n",
       "      <th>fuel</th>\n",
       "      <th>odometer</th>\n",
       "      <th>transmission</th>\n",
       "      <th>type</th>\n",
       "      <th>paint_color</th>\n",
       "      <th>is_4wd</th>\n",
       "      <th>date_posted</th>\n",
       "      <th>days_listed</th>\n",
       "    </tr>\n",
       "  </thead>\n",
       "  <tbody>\n",
       "    <tr>\n",
       "      <td>0</td>\n",
       "      <td>9400</td>\n",
       "      <td>2011.0</td>\n",
       "      <td>bmw x5</td>\n",
       "      <td>good</td>\n",
       "      <td>6.0</td>\n",
       "      <td>gas</td>\n",
       "      <td>145000.0</td>\n",
       "      <td>automatic</td>\n",
       "      <td>SUV</td>\n",
       "      <td>NaN</td>\n",
       "      <td>1.0</td>\n",
       "      <td>2018-06-23</td>\n",
       "      <td>19</td>\n",
       "    </tr>\n",
       "    <tr>\n",
       "      <td>1</td>\n",
       "      <td>25500</td>\n",
       "      <td>NaN</td>\n",
       "      <td>ford f-150</td>\n",
       "      <td>good</td>\n",
       "      <td>6.0</td>\n",
       "      <td>gas</td>\n",
       "      <td>88705.0</td>\n",
       "      <td>automatic</td>\n",
       "      <td>pickup</td>\n",
       "      <td>white</td>\n",
       "      <td>1.0</td>\n",
       "      <td>2018-10-19</td>\n",
       "      <td>50</td>\n",
       "    </tr>\n",
       "    <tr>\n",
       "      <td>2</td>\n",
       "      <td>5500</td>\n",
       "      <td>2013.0</td>\n",
       "      <td>hyundai sonata</td>\n",
       "      <td>like new</td>\n",
       "      <td>4.0</td>\n",
       "      <td>gas</td>\n",
       "      <td>110000.0</td>\n",
       "      <td>automatic</td>\n",
       "      <td>sedan</td>\n",
       "      <td>red</td>\n",
       "      <td>0.0</td>\n",
       "      <td>2019-02-07</td>\n",
       "      <td>79</td>\n",
       "    </tr>\n",
       "    <tr>\n",
       "      <td>3</td>\n",
       "      <td>1500</td>\n",
       "      <td>2003.0</td>\n",
       "      <td>ford f-150</td>\n",
       "      <td>fair</td>\n",
       "      <td>8.0</td>\n",
       "      <td>gas</td>\n",
       "      <td>113000.0</td>\n",
       "      <td>automatic</td>\n",
       "      <td>pickup</td>\n",
       "      <td>NaN</td>\n",
       "      <td>0.0</td>\n",
       "      <td>2019-03-22</td>\n",
       "      <td>9</td>\n",
       "    </tr>\n",
       "    <tr>\n",
       "      <td>4</td>\n",
       "      <td>14900</td>\n",
       "      <td>2017.0</td>\n",
       "      <td>chrysler 200</td>\n",
       "      <td>excellent</td>\n",
       "      <td>4.0</td>\n",
       "      <td>gas</td>\n",
       "      <td>80903.0</td>\n",
       "      <td>automatic</td>\n",
       "      <td>sedan</td>\n",
       "      <td>black</td>\n",
       "      <td>0.0</td>\n",
       "      <td>2019-04-02</td>\n",
       "      <td>28</td>\n",
       "    </tr>\n",
       "    <tr>\n",
       "      <td>5</td>\n",
       "      <td>14990</td>\n",
       "      <td>2014.0</td>\n",
       "      <td>chrysler 300</td>\n",
       "      <td>excellent</td>\n",
       "      <td>6.0</td>\n",
       "      <td>gas</td>\n",
       "      <td>57954.0</td>\n",
       "      <td>automatic</td>\n",
       "      <td>sedan</td>\n",
       "      <td>black</td>\n",
       "      <td>1.0</td>\n",
       "      <td>2018-06-20</td>\n",
       "      <td>15</td>\n",
       "    </tr>\n",
       "    <tr>\n",
       "      <td>6</td>\n",
       "      <td>12990</td>\n",
       "      <td>2015.0</td>\n",
       "      <td>toyota camry</td>\n",
       "      <td>excellent</td>\n",
       "      <td>4.0</td>\n",
       "      <td>gas</td>\n",
       "      <td>79212.0</td>\n",
       "      <td>automatic</td>\n",
       "      <td>sedan</td>\n",
       "      <td>white</td>\n",
       "      <td>0.0</td>\n",
       "      <td>2018-12-27</td>\n",
       "      <td>73</td>\n",
       "    </tr>\n",
       "    <tr>\n",
       "      <td>7</td>\n",
       "      <td>15990</td>\n",
       "      <td>2013.0</td>\n",
       "      <td>honda pilot</td>\n",
       "      <td>excellent</td>\n",
       "      <td>6.0</td>\n",
       "      <td>gas</td>\n",
       "      <td>109473.0</td>\n",
       "      <td>automatic</td>\n",
       "      <td>SUV</td>\n",
       "      <td>black</td>\n",
       "      <td>1.0</td>\n",
       "      <td>2019-01-07</td>\n",
       "      <td>68</td>\n",
       "    </tr>\n",
       "    <tr>\n",
       "      <td>8</td>\n",
       "      <td>11500</td>\n",
       "      <td>2012.0</td>\n",
       "      <td>kia sorento</td>\n",
       "      <td>excellent</td>\n",
       "      <td>4.0</td>\n",
       "      <td>gas</td>\n",
       "      <td>104174.0</td>\n",
       "      <td>automatic</td>\n",
       "      <td>SUV</td>\n",
       "      <td>NaN</td>\n",
       "      <td>1.0</td>\n",
       "      <td>2018-07-16</td>\n",
       "      <td>19</td>\n",
       "    </tr>\n",
       "    <tr>\n",
       "      <td>9</td>\n",
       "      <td>9200</td>\n",
       "      <td>2008.0</td>\n",
       "      <td>honda pilot</td>\n",
       "      <td>excellent</td>\n",
       "      <td>NaN</td>\n",
       "      <td>gas</td>\n",
       "      <td>147191.0</td>\n",
       "      <td>automatic</td>\n",
       "      <td>SUV</td>\n",
       "      <td>blue</td>\n",
       "      <td>1.0</td>\n",
       "      <td>2019-02-15</td>\n",
       "      <td>17</td>\n",
       "    </tr>\n",
       "    <tr>\n",
       "      <td>10</td>\n",
       "      <td>19500</td>\n",
       "      <td>2011.0</td>\n",
       "      <td>chevrolet silverado 1500</td>\n",
       "      <td>excellent</td>\n",
       "      <td>8.0</td>\n",
       "      <td>gas</td>\n",
       "      <td>128413.0</td>\n",
       "      <td>automatic</td>\n",
       "      <td>pickup</td>\n",
       "      <td>black</td>\n",
       "      <td>1.0</td>\n",
       "      <td>2018-09-17</td>\n",
       "      <td>38</td>\n",
       "    </tr>\n",
       "    <tr>\n",
       "      <td>11</td>\n",
       "      <td>8990</td>\n",
       "      <td>2012.0</td>\n",
       "      <td>honda accord</td>\n",
       "      <td>excellent</td>\n",
       "      <td>4.0</td>\n",
       "      <td>gas</td>\n",
       "      <td>111142.0</td>\n",
       "      <td>automatic</td>\n",
       "      <td>sedan</td>\n",
       "      <td>grey</td>\n",
       "      <td>0.0</td>\n",
       "      <td>2019-03-28</td>\n",
       "      <td>29</td>\n",
       "    </tr>\n",
       "    <tr>\n",
       "      <td>12</td>\n",
       "      <td>18990</td>\n",
       "      <td>2012.0</td>\n",
       "      <td>ram 1500</td>\n",
       "      <td>excellent</td>\n",
       "      <td>8.0</td>\n",
       "      <td>gas</td>\n",
       "      <td>140742.0</td>\n",
       "      <td>automatic</td>\n",
       "      <td>pickup</td>\n",
       "      <td>NaN</td>\n",
       "      <td>1.0</td>\n",
       "      <td>2019-04-02</td>\n",
       "      <td>37</td>\n",
       "    </tr>\n",
       "    <tr>\n",
       "      <td>13</td>\n",
       "      <td>16500</td>\n",
       "      <td>2018.0</td>\n",
       "      <td>hyundai sonata</td>\n",
       "      <td>excellent</td>\n",
       "      <td>4.0</td>\n",
       "      <td>gas</td>\n",
       "      <td>22104.0</td>\n",
       "      <td>automatic</td>\n",
       "      <td>sedan</td>\n",
       "      <td>silver</td>\n",
       "      <td>0.0</td>\n",
       "      <td>2019-01-14</td>\n",
       "      <td>29</td>\n",
       "    </tr>\n",
       "    <tr>\n",
       "      <td>14</td>\n",
       "      <td>12990</td>\n",
       "      <td>2009.0</td>\n",
       "      <td>gmc yukon</td>\n",
       "      <td>excellent</td>\n",
       "      <td>8.0</td>\n",
       "      <td>gas</td>\n",
       "      <td>132285.0</td>\n",
       "      <td>automatic</td>\n",
       "      <td>SUV</td>\n",
       "      <td>black</td>\n",
       "      <td>1.0</td>\n",
       "      <td>2019-01-31</td>\n",
       "      <td>24</td>\n",
       "    </tr>\n",
       "    <tr>\n",
       "      <td>15</td>\n",
       "      <td>17990</td>\n",
       "      <td>2013.0</td>\n",
       "      <td>ram 1500</td>\n",
       "      <td>excellent</td>\n",
       "      <td>8.0</td>\n",
       "      <td>gas</td>\n",
       "      <td>113000.0</td>\n",
       "      <td>automatic</td>\n",
       "      <td>pickup</td>\n",
       "      <td>red</td>\n",
       "      <td>1.0</td>\n",
       "      <td>2018-05-15</td>\n",
       "      <td>111</td>\n",
       "    </tr>\n",
       "    <tr>\n",
       "      <td>16</td>\n",
       "      <td>14990</td>\n",
       "      <td>2010.0</td>\n",
       "      <td>ram 1500</td>\n",
       "      <td>excellent</td>\n",
       "      <td>8.0</td>\n",
       "      <td>gas</td>\n",
       "      <td>130725.0</td>\n",
       "      <td>automatic</td>\n",
       "      <td>pickup</td>\n",
       "      <td>red</td>\n",
       "      <td>1.0</td>\n",
       "      <td>2018-12-30</td>\n",
       "      <td>13</td>\n",
       "    </tr>\n",
       "    <tr>\n",
       "      <td>17</td>\n",
       "      <td>13990</td>\n",
       "      <td>2014.0</td>\n",
       "      <td>jeep cherokee</td>\n",
       "      <td>excellent</td>\n",
       "      <td>6.0</td>\n",
       "      <td>gas</td>\n",
       "      <td>100669.0</td>\n",
       "      <td>automatic</td>\n",
       "      <td>SUV</td>\n",
       "      <td>red</td>\n",
       "      <td>1.0</td>\n",
       "      <td>2018-08-16</td>\n",
       "      <td>25</td>\n",
       "    </tr>\n",
       "    <tr>\n",
       "      <td>18</td>\n",
       "      <td>12500</td>\n",
       "      <td>2013.0</td>\n",
       "      <td>chevrolet traverse</td>\n",
       "      <td>excellent</td>\n",
       "      <td>6.0</td>\n",
       "      <td>gas</td>\n",
       "      <td>128325.0</td>\n",
       "      <td>automatic</td>\n",
       "      <td>SUV</td>\n",
       "      <td>white</td>\n",
       "      <td>1.0</td>\n",
       "      <td>2019-04-09</td>\n",
       "      <td>13</td>\n",
       "    </tr>\n",
       "    <tr>\n",
       "      <td>19</td>\n",
       "      <td>13990</td>\n",
       "      <td>2018.0</td>\n",
       "      <td>hyundai elantra</td>\n",
       "      <td>excellent</td>\n",
       "      <td>4.0</td>\n",
       "      <td>gas</td>\n",
       "      <td>31932.0</td>\n",
       "      <td>automatic</td>\n",
       "      <td>sedan</td>\n",
       "      <td>red</td>\n",
       "      <td>0.0</td>\n",
       "      <td>2018-08-25</td>\n",
       "      <td>27</td>\n",
       "    </tr>\n",
       "  </tbody>\n",
       "</table>\n",
       "</div>"
      ],
      "text/plain": [
       "    price  model_year                     model  condition  cylinders fuel  \\\n",
       "0    9400      2011.0                    bmw x5       good        6.0  gas   \n",
       "1   25500         NaN                ford f-150       good        6.0  gas   \n",
       "2    5500      2013.0            hyundai sonata   like new        4.0  gas   \n",
       "3    1500      2003.0                ford f-150       fair        8.0  gas   \n",
       "4   14900      2017.0              chrysler 200  excellent        4.0  gas   \n",
       "5   14990      2014.0              chrysler 300  excellent        6.0  gas   \n",
       "6   12990      2015.0              toyota camry  excellent        4.0  gas   \n",
       "7   15990      2013.0               honda pilot  excellent        6.0  gas   \n",
       "8   11500      2012.0               kia sorento  excellent        4.0  gas   \n",
       "9    9200      2008.0               honda pilot  excellent        NaN  gas   \n",
       "10  19500      2011.0  chevrolet silverado 1500  excellent        8.0  gas   \n",
       "11   8990      2012.0              honda accord  excellent        4.0  gas   \n",
       "12  18990      2012.0                  ram 1500  excellent        8.0  gas   \n",
       "13  16500      2018.0            hyundai sonata  excellent        4.0  gas   \n",
       "14  12990      2009.0                 gmc yukon  excellent        8.0  gas   \n",
       "15  17990      2013.0                  ram 1500  excellent        8.0  gas   \n",
       "16  14990      2010.0                  ram 1500  excellent        8.0  gas   \n",
       "17  13990      2014.0             jeep cherokee  excellent        6.0  gas   \n",
       "18  12500      2013.0        chevrolet traverse  excellent        6.0  gas   \n",
       "19  13990      2018.0           hyundai elantra  excellent        4.0  gas   \n",
       "\n",
       "    odometer transmission    type paint_color  is_4wd date_posted  days_listed  \n",
       "0   145000.0    automatic     SUV         NaN     1.0  2018-06-23           19  \n",
       "1    88705.0    automatic  pickup       white     1.0  2018-10-19           50  \n",
       "2   110000.0    automatic   sedan         red     0.0  2019-02-07           79  \n",
       "3   113000.0    automatic  pickup         NaN     0.0  2019-03-22            9  \n",
       "4    80903.0    automatic   sedan       black     0.0  2019-04-02           28  \n",
       "5    57954.0    automatic   sedan       black     1.0  2018-06-20           15  \n",
       "6    79212.0    automatic   sedan       white     0.0  2018-12-27           73  \n",
       "7   109473.0    automatic     SUV       black     1.0  2019-01-07           68  \n",
       "8   104174.0    automatic     SUV         NaN     1.0  2018-07-16           19  \n",
       "9   147191.0    automatic     SUV        blue     1.0  2019-02-15           17  \n",
       "10  128413.0    automatic  pickup       black     1.0  2018-09-17           38  \n",
       "11  111142.0    automatic   sedan        grey     0.0  2019-03-28           29  \n",
       "12  140742.0    automatic  pickup         NaN     1.0  2019-04-02           37  \n",
       "13   22104.0    automatic   sedan      silver     0.0  2019-01-14           29  \n",
       "14  132285.0    automatic     SUV       black     1.0  2019-01-31           24  \n",
       "15  113000.0    automatic  pickup         red     1.0  2018-05-15          111  \n",
       "16  130725.0    automatic  pickup         red     1.0  2018-12-30           13  \n",
       "17  100669.0    automatic     SUV         red     1.0  2018-08-16           25  \n",
       "18  128325.0    automatic     SUV       white     1.0  2019-04-09           13  \n",
       "19   31932.0    automatic   sedan         red     0.0  2018-08-25           27  "
      ]
     },
     "execution_count": 13,
     "metadata": {},
     "output_type": "execute_result"
    }
   ],
   "source": [
    "odometer_median = df['odometer'].median()\n",
    "df['odometer'].replace(np.nan, odometer_median, inplace=True)\n",
    "df.head(20)"
   ]
  },
  {
   "cell_type": "markdown",
   "metadata": {},
   "source": [
    "<div class=\"alert alert-block alert-success\">\n",
    "<b>Reviewer's comment v1:</b>\n",
    "\n",
    "    \n",
    "**`odometer`** \n",
    "\n",
    "Well done with missing values in odometer! Another approach could be to again use groupped values by model_year or car condition.    \n",
    "\n",
    "</div>"
   ]
  },
  {
   "cell_type": "markdown",
   "metadata": {},
   "source": [
    "Lastly, for the \"model_year\" column, I could theoretically take the mean/average of all the years, and subtitute NaN cells with the mean value. However, I worry about the damage I'd do to our hypothesis testing since there must be sensitive correlations between model-year and other variables. \n",
    "Therefore, drop all rows with NaN values in the \"model_year\" column.\n",
    "The same logic applies to the NaN rows/values in the \"cylinders\" as well as \"paint_color\" columns.\n",
    "\n",
    "\n"
   ]
  },
  {
   "cell_type": "code",
   "execution_count": 14,
   "metadata": {},
   "outputs": [],
   "source": [
    "df['odometer']= df['odometer'].fillna(df.groupby(['model_year', 'condition'])['odometer'].transform('median'))"
   ]
  },
  {
   "cell_type": "code",
   "execution_count": 15,
   "metadata": {},
   "outputs": [],
   "source": [
    "df['paint_color'].replace(np.nan,'other',inplace =True)"
   ]
  },
  {
   "cell_type": "code",
   "execution_count": 16,
   "metadata": {},
   "outputs": [],
   "source": [
    "cleaned_df=df.dropna()"
   ]
  },
  {
   "cell_type": "code",
   "execution_count": 17,
   "metadata": {},
   "outputs": [
    {
     "data": {
      "text/html": [
       "<div>\n",
       "<style scoped>\n",
       "    .dataframe tbody tr th:only-of-type {\n",
       "        vertical-align: middle;\n",
       "    }\n",
       "\n",
       "    .dataframe tbody tr th {\n",
       "        vertical-align: top;\n",
       "    }\n",
       "\n",
       "    .dataframe thead th {\n",
       "        text-align: right;\n",
       "    }\n",
       "</style>\n",
       "<table border=\"1\" class=\"dataframe\">\n",
       "  <thead>\n",
       "    <tr style=\"text-align: right;\">\n",
       "      <th></th>\n",
       "      <th>price</th>\n",
       "      <th>model_year</th>\n",
       "      <th>model</th>\n",
       "      <th>condition</th>\n",
       "      <th>cylinders</th>\n",
       "      <th>fuel</th>\n",
       "      <th>odometer</th>\n",
       "      <th>transmission</th>\n",
       "      <th>type</th>\n",
       "      <th>paint_color</th>\n",
       "      <th>is_4wd</th>\n",
       "      <th>date_posted</th>\n",
       "      <th>days_listed</th>\n",
       "    </tr>\n",
       "  </thead>\n",
       "  <tbody>\n",
       "    <tr>\n",
       "      <td>0</td>\n",
       "      <td>9400</td>\n",
       "      <td>2011.0</td>\n",
       "      <td>bmw x5</td>\n",
       "      <td>good</td>\n",
       "      <td>6.0</td>\n",
       "      <td>gas</td>\n",
       "      <td>145000.0</td>\n",
       "      <td>automatic</td>\n",
       "      <td>SUV</td>\n",
       "      <td>other</td>\n",
       "      <td>1.0</td>\n",
       "      <td>2018-06-23</td>\n",
       "      <td>19</td>\n",
       "    </tr>\n",
       "    <tr>\n",
       "      <td>2</td>\n",
       "      <td>5500</td>\n",
       "      <td>2013.0</td>\n",
       "      <td>hyundai sonata</td>\n",
       "      <td>like new</td>\n",
       "      <td>4.0</td>\n",
       "      <td>gas</td>\n",
       "      <td>110000.0</td>\n",
       "      <td>automatic</td>\n",
       "      <td>sedan</td>\n",
       "      <td>red</td>\n",
       "      <td>0.0</td>\n",
       "      <td>2019-02-07</td>\n",
       "      <td>79</td>\n",
       "    </tr>\n",
       "    <tr>\n",
       "      <td>3</td>\n",
       "      <td>1500</td>\n",
       "      <td>2003.0</td>\n",
       "      <td>ford f-150</td>\n",
       "      <td>fair</td>\n",
       "      <td>8.0</td>\n",
       "      <td>gas</td>\n",
       "      <td>113000.0</td>\n",
       "      <td>automatic</td>\n",
       "      <td>pickup</td>\n",
       "      <td>other</td>\n",
       "      <td>0.0</td>\n",
       "      <td>2019-03-22</td>\n",
       "      <td>9</td>\n",
       "    </tr>\n",
       "    <tr>\n",
       "      <td>4</td>\n",
       "      <td>14900</td>\n",
       "      <td>2017.0</td>\n",
       "      <td>chrysler 200</td>\n",
       "      <td>excellent</td>\n",
       "      <td>4.0</td>\n",
       "      <td>gas</td>\n",
       "      <td>80903.0</td>\n",
       "      <td>automatic</td>\n",
       "      <td>sedan</td>\n",
       "      <td>black</td>\n",
       "      <td>0.0</td>\n",
       "      <td>2019-04-02</td>\n",
       "      <td>28</td>\n",
       "    </tr>\n",
       "    <tr>\n",
       "      <td>5</td>\n",
       "      <td>14990</td>\n",
       "      <td>2014.0</td>\n",
       "      <td>chrysler 300</td>\n",
       "      <td>excellent</td>\n",
       "      <td>6.0</td>\n",
       "      <td>gas</td>\n",
       "      <td>57954.0</td>\n",
       "      <td>automatic</td>\n",
       "      <td>sedan</td>\n",
       "      <td>black</td>\n",
       "      <td>1.0</td>\n",
       "      <td>2018-06-20</td>\n",
       "      <td>15</td>\n",
       "    </tr>\n",
       "    <tr>\n",
       "      <td>6</td>\n",
       "      <td>12990</td>\n",
       "      <td>2015.0</td>\n",
       "      <td>toyota camry</td>\n",
       "      <td>excellent</td>\n",
       "      <td>4.0</td>\n",
       "      <td>gas</td>\n",
       "      <td>79212.0</td>\n",
       "      <td>automatic</td>\n",
       "      <td>sedan</td>\n",
       "      <td>white</td>\n",
       "      <td>0.0</td>\n",
       "      <td>2018-12-27</td>\n",
       "      <td>73</td>\n",
       "    </tr>\n",
       "    <tr>\n",
       "      <td>7</td>\n",
       "      <td>15990</td>\n",
       "      <td>2013.0</td>\n",
       "      <td>honda pilot</td>\n",
       "      <td>excellent</td>\n",
       "      <td>6.0</td>\n",
       "      <td>gas</td>\n",
       "      <td>109473.0</td>\n",
       "      <td>automatic</td>\n",
       "      <td>SUV</td>\n",
       "      <td>black</td>\n",
       "      <td>1.0</td>\n",
       "      <td>2019-01-07</td>\n",
       "      <td>68</td>\n",
       "    </tr>\n",
       "    <tr>\n",
       "      <td>8</td>\n",
       "      <td>11500</td>\n",
       "      <td>2012.0</td>\n",
       "      <td>kia sorento</td>\n",
       "      <td>excellent</td>\n",
       "      <td>4.0</td>\n",
       "      <td>gas</td>\n",
       "      <td>104174.0</td>\n",
       "      <td>automatic</td>\n",
       "      <td>SUV</td>\n",
       "      <td>other</td>\n",
       "      <td>1.0</td>\n",
       "      <td>2018-07-16</td>\n",
       "      <td>19</td>\n",
       "    </tr>\n",
       "    <tr>\n",
       "      <td>10</td>\n",
       "      <td>19500</td>\n",
       "      <td>2011.0</td>\n",
       "      <td>chevrolet silverado 1500</td>\n",
       "      <td>excellent</td>\n",
       "      <td>8.0</td>\n",
       "      <td>gas</td>\n",
       "      <td>128413.0</td>\n",
       "      <td>automatic</td>\n",
       "      <td>pickup</td>\n",
       "      <td>black</td>\n",
       "      <td>1.0</td>\n",
       "      <td>2018-09-17</td>\n",
       "      <td>38</td>\n",
       "    </tr>\n",
       "    <tr>\n",
       "      <td>11</td>\n",
       "      <td>8990</td>\n",
       "      <td>2012.0</td>\n",
       "      <td>honda accord</td>\n",
       "      <td>excellent</td>\n",
       "      <td>4.0</td>\n",
       "      <td>gas</td>\n",
       "      <td>111142.0</td>\n",
       "      <td>automatic</td>\n",
       "      <td>sedan</td>\n",
       "      <td>grey</td>\n",
       "      <td>0.0</td>\n",
       "      <td>2019-03-28</td>\n",
       "      <td>29</td>\n",
       "    </tr>\n",
       "    <tr>\n",
       "      <td>12</td>\n",
       "      <td>18990</td>\n",
       "      <td>2012.0</td>\n",
       "      <td>ram 1500</td>\n",
       "      <td>excellent</td>\n",
       "      <td>8.0</td>\n",
       "      <td>gas</td>\n",
       "      <td>140742.0</td>\n",
       "      <td>automatic</td>\n",
       "      <td>pickup</td>\n",
       "      <td>other</td>\n",
       "      <td>1.0</td>\n",
       "      <td>2019-04-02</td>\n",
       "      <td>37</td>\n",
       "    </tr>\n",
       "    <tr>\n",
       "      <td>13</td>\n",
       "      <td>16500</td>\n",
       "      <td>2018.0</td>\n",
       "      <td>hyundai sonata</td>\n",
       "      <td>excellent</td>\n",
       "      <td>4.0</td>\n",
       "      <td>gas</td>\n",
       "      <td>22104.0</td>\n",
       "      <td>automatic</td>\n",
       "      <td>sedan</td>\n",
       "      <td>silver</td>\n",
       "      <td>0.0</td>\n",
       "      <td>2019-01-14</td>\n",
       "      <td>29</td>\n",
       "    </tr>\n",
       "    <tr>\n",
       "      <td>14</td>\n",
       "      <td>12990</td>\n",
       "      <td>2009.0</td>\n",
       "      <td>gmc yukon</td>\n",
       "      <td>excellent</td>\n",
       "      <td>8.0</td>\n",
       "      <td>gas</td>\n",
       "      <td>132285.0</td>\n",
       "      <td>automatic</td>\n",
       "      <td>SUV</td>\n",
       "      <td>black</td>\n",
       "      <td>1.0</td>\n",
       "      <td>2019-01-31</td>\n",
       "      <td>24</td>\n",
       "    </tr>\n",
       "    <tr>\n",
       "      <td>15</td>\n",
       "      <td>17990</td>\n",
       "      <td>2013.0</td>\n",
       "      <td>ram 1500</td>\n",
       "      <td>excellent</td>\n",
       "      <td>8.0</td>\n",
       "      <td>gas</td>\n",
       "      <td>113000.0</td>\n",
       "      <td>automatic</td>\n",
       "      <td>pickup</td>\n",
       "      <td>red</td>\n",
       "      <td>1.0</td>\n",
       "      <td>2018-05-15</td>\n",
       "      <td>111</td>\n",
       "    </tr>\n",
       "    <tr>\n",
       "      <td>16</td>\n",
       "      <td>14990</td>\n",
       "      <td>2010.0</td>\n",
       "      <td>ram 1500</td>\n",
       "      <td>excellent</td>\n",
       "      <td>8.0</td>\n",
       "      <td>gas</td>\n",
       "      <td>130725.0</td>\n",
       "      <td>automatic</td>\n",
       "      <td>pickup</td>\n",
       "      <td>red</td>\n",
       "      <td>1.0</td>\n",
       "      <td>2018-12-30</td>\n",
       "      <td>13</td>\n",
       "    </tr>\n",
       "    <tr>\n",
       "      <td>17</td>\n",
       "      <td>13990</td>\n",
       "      <td>2014.0</td>\n",
       "      <td>jeep cherokee</td>\n",
       "      <td>excellent</td>\n",
       "      <td>6.0</td>\n",
       "      <td>gas</td>\n",
       "      <td>100669.0</td>\n",
       "      <td>automatic</td>\n",
       "      <td>SUV</td>\n",
       "      <td>red</td>\n",
       "      <td>1.0</td>\n",
       "      <td>2018-08-16</td>\n",
       "      <td>25</td>\n",
       "    </tr>\n",
       "    <tr>\n",
       "      <td>18</td>\n",
       "      <td>12500</td>\n",
       "      <td>2013.0</td>\n",
       "      <td>chevrolet traverse</td>\n",
       "      <td>excellent</td>\n",
       "      <td>6.0</td>\n",
       "      <td>gas</td>\n",
       "      <td>128325.0</td>\n",
       "      <td>automatic</td>\n",
       "      <td>SUV</td>\n",
       "      <td>white</td>\n",
       "      <td>1.0</td>\n",
       "      <td>2019-04-09</td>\n",
       "      <td>13</td>\n",
       "    </tr>\n",
       "    <tr>\n",
       "      <td>19</td>\n",
       "      <td>13990</td>\n",
       "      <td>2018.0</td>\n",
       "      <td>hyundai elantra</td>\n",
       "      <td>excellent</td>\n",
       "      <td>4.0</td>\n",
       "      <td>gas</td>\n",
       "      <td>31932.0</td>\n",
       "      <td>automatic</td>\n",
       "      <td>sedan</td>\n",
       "      <td>red</td>\n",
       "      <td>0.0</td>\n",
       "      <td>2018-08-25</td>\n",
       "      <td>27</td>\n",
       "    </tr>\n",
       "    <tr>\n",
       "      <td>21</td>\n",
       "      <td>5250</td>\n",
       "      <td>2007.0</td>\n",
       "      <td>toyota rav4</td>\n",
       "      <td>good</td>\n",
       "      <td>6.0</td>\n",
       "      <td>gas</td>\n",
       "      <td>154000.0</td>\n",
       "      <td>automatic</td>\n",
       "      <td>SUV</td>\n",
       "      <td>other</td>\n",
       "      <td>0.0</td>\n",
       "      <td>2018-08-22</td>\n",
       "      <td>8</td>\n",
       "    </tr>\n",
       "    <tr>\n",
       "      <td>22</td>\n",
       "      <td>7500</td>\n",
       "      <td>2004.0</td>\n",
       "      <td>chevrolet silverado</td>\n",
       "      <td>like new</td>\n",
       "      <td>8.0</td>\n",
       "      <td>gas</td>\n",
       "      <td>180000.0</td>\n",
       "      <td>automatic</td>\n",
       "      <td>truck</td>\n",
       "      <td>red</td>\n",
       "      <td>1.0</td>\n",
       "      <td>2019-01-05</td>\n",
       "      <td>64</td>\n",
       "    </tr>\n",
       "    <tr>\n",
       "      <td>23</td>\n",
       "      <td>7500</td>\n",
       "      <td>2004.0</td>\n",
       "      <td>jeep wrangler</td>\n",
       "      <td>good</td>\n",
       "      <td>6.0</td>\n",
       "      <td>gas</td>\n",
       "      <td>113000.0</td>\n",
       "      <td>automatic</td>\n",
       "      <td>SUV</td>\n",
       "      <td>red</td>\n",
       "      <td>1.0</td>\n",
       "      <td>2018-05-17</td>\n",
       "      <td>39</td>\n",
       "    </tr>\n",
       "    <tr>\n",
       "      <td>24</td>\n",
       "      <td>3950</td>\n",
       "      <td>2009.0</td>\n",
       "      <td>chrysler 200</td>\n",
       "      <td>excellent</td>\n",
       "      <td>4.0</td>\n",
       "      <td>gas</td>\n",
       "      <td>113000.0</td>\n",
       "      <td>automatic</td>\n",
       "      <td>sedan</td>\n",
       "      <td>red</td>\n",
       "      <td>0.0</td>\n",
       "      <td>2018-06-11</td>\n",
       "      <td>40</td>\n",
       "    </tr>\n",
       "    <tr>\n",
       "      <td>25</td>\n",
       "      <td>11499</td>\n",
       "      <td>2017.0</td>\n",
       "      <td>chevrolet malibu</td>\n",
       "      <td>like new</td>\n",
       "      <td>4.0</td>\n",
       "      <td>gas</td>\n",
       "      <td>113000.0</td>\n",
       "      <td>automatic</td>\n",
       "      <td>sedan</td>\n",
       "      <td>other</td>\n",
       "      <td>0.0</td>\n",
       "      <td>2018-07-26</td>\n",
       "      <td>43</td>\n",
       "    </tr>\n",
       "    <tr>\n",
       "      <td>26</td>\n",
       "      <td>8499</td>\n",
       "      <td>2014.0</td>\n",
       "      <td>ford fusion se</td>\n",
       "      <td>like new</td>\n",
       "      <td>4.0</td>\n",
       "      <td>gas</td>\n",
       "      <td>79523.0</td>\n",
       "      <td>automatic</td>\n",
       "      <td>sedan</td>\n",
       "      <td>red</td>\n",
       "      <td>0.0</td>\n",
       "      <td>2018-10-25</td>\n",
       "      <td>23</td>\n",
       "    </tr>\n",
       "    <tr>\n",
       "      <td>27</td>\n",
       "      <td>12999</td>\n",
       "      <td>2015.0</td>\n",
       "      <td>chevrolet impala</td>\n",
       "      <td>like new</td>\n",
       "      <td>6.0</td>\n",
       "      <td>gas</td>\n",
       "      <td>39368.0</td>\n",
       "      <td>automatic</td>\n",
       "      <td>sedan</td>\n",
       "      <td>custom</td>\n",
       "      <td>0.0</td>\n",
       "      <td>2018-05-19</td>\n",
       "      <td>42</td>\n",
       "    </tr>\n",
       "    <tr>\n",
       "      <td>28</td>\n",
       "      <td>29800</td>\n",
       "      <td>2012.0</td>\n",
       "      <td>chevrolet corvette</td>\n",
       "      <td>excellent</td>\n",
       "      <td>8.0</td>\n",
       "      <td>gas</td>\n",
       "      <td>57413.0</td>\n",
       "      <td>automatic</td>\n",
       "      <td>coupe</td>\n",
       "      <td>orange</td>\n",
       "      <td>0.0</td>\n",
       "      <td>2018-10-22</td>\n",
       "      <td>101</td>\n",
       "    </tr>\n",
       "    <tr>\n",
       "      <td>29</td>\n",
       "      <td>5495</td>\n",
       "      <td>2010.0</td>\n",
       "      <td>chevrolet impala</td>\n",
       "      <td>excellent</td>\n",
       "      <td>6.0</td>\n",
       "      <td>gas</td>\n",
       "      <td>113000.0</td>\n",
       "      <td>automatic</td>\n",
       "      <td>sedan</td>\n",
       "      <td>white</td>\n",
       "      <td>0.0</td>\n",
       "      <td>2019-02-18</td>\n",
       "      <td>20</td>\n",
       "    </tr>\n",
       "    <tr>\n",
       "      <td>30</td>\n",
       "      <td>5000</td>\n",
       "      <td>2009.0</td>\n",
       "      <td>jeep liberty</td>\n",
       "      <td>good</td>\n",
       "      <td>6.0</td>\n",
       "      <td>gas</td>\n",
       "      <td>137273.0</td>\n",
       "      <td>automatic</td>\n",
       "      <td>SUV</td>\n",
       "      <td>white</td>\n",
       "      <td>1.0</td>\n",
       "      <td>2019-02-19</td>\n",
       "      <td>14</td>\n",
       "    </tr>\n",
       "    <tr>\n",
       "      <td>31</td>\n",
       "      <td>11999</td>\n",
       "      <td>2017.0</td>\n",
       "      <td>toyota camry le</td>\n",
       "      <td>excellent</td>\n",
       "      <td>4.0</td>\n",
       "      <td>gas</td>\n",
       "      <td>35721.0</td>\n",
       "      <td>automatic</td>\n",
       "      <td>sedan</td>\n",
       "      <td>other</td>\n",
       "      <td>0.0</td>\n",
       "      <td>2018-09-13</td>\n",
       "      <td>25</td>\n",
       "    </tr>\n",
       "    <tr>\n",
       "      <td>32</td>\n",
       "      <td>9499</td>\n",
       "      <td>2015.0</td>\n",
       "      <td>nissan altima</td>\n",
       "      <td>like new</td>\n",
       "      <td>4.0</td>\n",
       "      <td>gas</td>\n",
       "      <td>51848.0</td>\n",
       "      <td>automatic</td>\n",
       "      <td>sedan</td>\n",
       "      <td>grey</td>\n",
       "      <td>0.0</td>\n",
       "      <td>2018-11-12</td>\n",
       "      <td>7</td>\n",
       "    </tr>\n",
       "  </tbody>\n",
       "</table>\n",
       "</div>"
      ],
      "text/plain": [
       "    price  model_year                     model  condition  cylinders fuel  \\\n",
       "0    9400      2011.0                    bmw x5       good        6.0  gas   \n",
       "2    5500      2013.0            hyundai sonata   like new        4.0  gas   \n",
       "3    1500      2003.0                ford f-150       fair        8.0  gas   \n",
       "4   14900      2017.0              chrysler 200  excellent        4.0  gas   \n",
       "5   14990      2014.0              chrysler 300  excellent        6.0  gas   \n",
       "6   12990      2015.0              toyota camry  excellent        4.0  gas   \n",
       "7   15990      2013.0               honda pilot  excellent        6.0  gas   \n",
       "8   11500      2012.0               kia sorento  excellent        4.0  gas   \n",
       "10  19500      2011.0  chevrolet silverado 1500  excellent        8.0  gas   \n",
       "11   8990      2012.0              honda accord  excellent        4.0  gas   \n",
       "12  18990      2012.0                  ram 1500  excellent        8.0  gas   \n",
       "13  16500      2018.0            hyundai sonata  excellent        4.0  gas   \n",
       "14  12990      2009.0                 gmc yukon  excellent        8.0  gas   \n",
       "15  17990      2013.0                  ram 1500  excellent        8.0  gas   \n",
       "16  14990      2010.0                  ram 1500  excellent        8.0  gas   \n",
       "17  13990      2014.0             jeep cherokee  excellent        6.0  gas   \n",
       "18  12500      2013.0        chevrolet traverse  excellent        6.0  gas   \n",
       "19  13990      2018.0           hyundai elantra  excellent        4.0  gas   \n",
       "21   5250      2007.0               toyota rav4       good        6.0  gas   \n",
       "22   7500      2004.0       chevrolet silverado   like new        8.0  gas   \n",
       "23   7500      2004.0             jeep wrangler       good        6.0  gas   \n",
       "24   3950      2009.0              chrysler 200  excellent        4.0  gas   \n",
       "25  11499      2017.0          chevrolet malibu   like new        4.0  gas   \n",
       "26   8499      2014.0            ford fusion se   like new        4.0  gas   \n",
       "27  12999      2015.0          chevrolet impala   like new        6.0  gas   \n",
       "28  29800      2012.0        chevrolet corvette  excellent        8.0  gas   \n",
       "29   5495      2010.0          chevrolet impala  excellent        6.0  gas   \n",
       "30   5000      2009.0              jeep liberty       good        6.0  gas   \n",
       "31  11999      2017.0           toyota camry le  excellent        4.0  gas   \n",
       "32   9499      2015.0             nissan altima   like new        4.0  gas   \n",
       "\n",
       "    odometer transmission    type paint_color  is_4wd date_posted  days_listed  \n",
       "0   145000.0    automatic     SUV       other     1.0  2018-06-23           19  \n",
       "2   110000.0    automatic   sedan         red     0.0  2019-02-07           79  \n",
       "3   113000.0    automatic  pickup       other     0.0  2019-03-22            9  \n",
       "4    80903.0    automatic   sedan       black     0.0  2019-04-02           28  \n",
       "5    57954.0    automatic   sedan       black     1.0  2018-06-20           15  \n",
       "6    79212.0    automatic   sedan       white     0.0  2018-12-27           73  \n",
       "7   109473.0    automatic     SUV       black     1.0  2019-01-07           68  \n",
       "8   104174.0    automatic     SUV       other     1.0  2018-07-16           19  \n",
       "10  128413.0    automatic  pickup       black     1.0  2018-09-17           38  \n",
       "11  111142.0    automatic   sedan        grey     0.0  2019-03-28           29  \n",
       "12  140742.0    automatic  pickup       other     1.0  2019-04-02           37  \n",
       "13   22104.0    automatic   sedan      silver     0.0  2019-01-14           29  \n",
       "14  132285.0    automatic     SUV       black     1.0  2019-01-31           24  \n",
       "15  113000.0    automatic  pickup         red     1.0  2018-05-15          111  \n",
       "16  130725.0    automatic  pickup         red     1.0  2018-12-30           13  \n",
       "17  100669.0    automatic     SUV         red     1.0  2018-08-16           25  \n",
       "18  128325.0    automatic     SUV       white     1.0  2019-04-09           13  \n",
       "19   31932.0    automatic   sedan         red     0.0  2018-08-25           27  \n",
       "21  154000.0    automatic     SUV       other     0.0  2018-08-22            8  \n",
       "22  180000.0    automatic   truck         red     1.0  2019-01-05           64  \n",
       "23  113000.0    automatic     SUV         red     1.0  2018-05-17           39  \n",
       "24  113000.0    automatic   sedan         red     0.0  2018-06-11           40  \n",
       "25  113000.0    automatic   sedan       other     0.0  2018-07-26           43  \n",
       "26   79523.0    automatic   sedan         red     0.0  2018-10-25           23  \n",
       "27   39368.0    automatic   sedan      custom     0.0  2018-05-19           42  \n",
       "28   57413.0    automatic   coupe      orange     0.0  2018-10-22          101  \n",
       "29  113000.0    automatic   sedan       white     0.0  2019-02-18           20  \n",
       "30  137273.0    automatic     SUV       white     1.0  2019-02-19           14  \n",
       "31   35721.0    automatic   sedan       other     0.0  2018-09-13           25  \n",
       "32   51848.0    automatic   sedan        grey     0.0  2018-11-12            7  "
      ]
     },
     "execution_count": 17,
     "metadata": {},
     "output_type": "execute_result"
    }
   ],
   "source": [
    "cleaned_df.head(30)"
   ]
  },
  {
   "cell_type": "markdown",
   "metadata": {},
   "source": [
    "<div class=\"alert alert-block alert-warning\">\n",
    "<b>Reviewer's comment v1:</b>\n",
    "\n",
    "Your reasinoing is clear, however in many cases it is more beneficial to try to restore missing data, as by deleting it we can lose potentially important insights. \n",
    "    \n",
    "**`paint_color`**   \n",
    "\n",
    "So, here I can recommend to fill it with 'unknown' or any other placeholder, as it is not possible to fill this value based on other car features.\n",
    "    \n",
    "For other columns it can be helpful to try to restore missing data. Here we can check the relationship between feature with missing values and other vehicle characteristics to find a grouped value. \n",
    "    \n",
    "**`model_year`**\n",
    "  \n",
    "Potentially model_year could be indeed correlated with odometer or car condition.\n",
    "\n",
    "And you can use the following code as an example: \n",
    "    \n",
    "    data['odometer']= data['odometer'].fillna(data.groupby(['model_year', 'condition'])['odometer'].transform('median'))\n",
    "    "
   ]
  },
  {
   "cell_type": "markdown",
   "metadata": {},
   "source": [
    "<div class=\"alert alert-info\"> <b>Student comments:</b> Fixed the code above according to your feedback. Thanks! </div> "
   ]
  },
  {
   "cell_type": "markdown",
   "metadata": {},
   "source": [
    "## Fix data types"
   ]
  },
  {
   "cell_type": "markdown",
   "metadata": {},
   "source": [
    "[As the data is more or less complete now, fix the data types if required.]"
   ]
  },
  {
   "cell_type": "markdown",
   "metadata": {},
   "source": [
    "It'd also make more sense to change the model_year datatype to an integer from float.\n",
    "A year number cannot be float/decimal - in the float format it might compromise final findings and computation."
   ]
  },
  {
   "cell_type": "code",
   "execution_count": 18,
   "metadata": {},
   "outputs": [
    {
     "name": "stdout",
     "output_type": "stream",
     "text": [
      "<class 'pandas.core.frame.DataFrame'>\n",
      "Int64Index: 43009 entries, 0 to 51524\n",
      "Data columns (total 13 columns):\n",
      "price           43009 non-null int64\n",
      "model_year      43009 non-null float64\n",
      "model           43009 non-null object\n",
      "condition       43009 non-null object\n",
      "cylinders       43009 non-null float64\n",
      "fuel            43009 non-null object\n",
      "odometer        43009 non-null float64\n",
      "transmission    43009 non-null object\n",
      "type            43009 non-null object\n",
      "paint_color     43009 non-null object\n",
      "is_4wd          43009 non-null float64\n",
      "date_posted     43009 non-null object\n",
      "days_listed     43009 non-null int64\n",
      "dtypes: float64(4), int64(2), object(7)\n",
      "memory usage: 4.6+ MB\n"
     ]
    }
   ],
   "source": [
    "cleaned_df.info()"
   ]
  },
  {
   "cell_type": "code",
   "execution_count": 19,
   "metadata": {
    "scrolled": false
   },
   "outputs": [
    {
     "data": {
      "text/plain": [
       "price             int64\n",
       "model_year      float64\n",
       "model            object\n",
       "condition        object\n",
       "cylinders       float64\n",
       "fuel             object\n",
       "odometer        float64\n",
       "transmission     object\n",
       "type             object\n",
       "paint_color      object\n",
       "is_4wd          float64\n",
       "date_posted      object\n",
       "days_listed       int64\n",
       "dtype: object"
      ]
     },
     "metadata": {},
     "output_type": "display_data"
    },
    {
     "data": {
      "text/plain": [
       "price             int64\n",
       "model_year        int64\n",
       "model            object\n",
       "condition        object\n",
       "cylinders       float64\n",
       "fuel             object\n",
       "odometer        float64\n",
       "transmission     object\n",
       "type             object\n",
       "paint_color      object\n",
       "is_4wd             bool\n",
       "date_posted      object\n",
       "days_listed       int64\n",
       "dtype: object"
      ]
     },
     "metadata": {},
     "output_type": "display_data"
    }
   ],
   "source": [
    "display(cleaned_df.dtypes)\n",
    "cleaned_df['model_year'] = cleaned_df['model_year'].apply(np.int64)\n",
    "cleaned_df['is_4wd']=cleaned_df['is_4wd'].apply(np.bool)\n",
    "display(cleaned_df.dtypes)"
   ]
  },
  {
   "cell_type": "markdown",
   "metadata": {},
   "source": [
    "<div class=\"alert alert-block alert-warning\">\n",
    "<b>Reviewer's comment v1:</b>\n",
    "\n",
    "\n",
    "Great that you checked data types. One minor remark here is that you can change is_4wd to bool type, as it contains only 0/1 values. "
   ]
  },
  {
   "cell_type": "markdown",
   "metadata": {},
   "source": [
    "<div class=\"alert alert-info\"> <b>Student comments:</b> Fixed is_4wd to a boolean data type. Thanks! </div> "
   ]
  },
  {
   "cell_type": "markdown",
   "metadata": {},
   "source": [
    "## Enrich data"
   ]
  },
  {
   "cell_type": "markdown",
   "metadata": {},
   "source": [
    "[Add additional factors to the data to make the analysis easier.]"
   ]
  },
  {
   "cell_type": "code",
   "execution_count": 20,
   "metadata": {},
   "outputs": [
    {
     "name": "stdout",
     "output_type": "stream",
     "text": [
      "       price  model_year           model  condition  cylinders fuel  odometer  \\\n",
      "0       9400        2011          bmw x5       good        6.0  gas  145000.0   \n",
      "2       5500        2013  hyundai sonata   like new        4.0  gas  110000.0   \n",
      "3       1500        2003      ford f-150       fair        8.0  gas  113000.0   \n",
      "4      14900        2017    chrysler 200  excellent        4.0  gas   80903.0   \n",
      "5      14990        2014    chrysler 300  excellent        6.0  gas   57954.0   \n",
      "...      ...         ...             ...        ...        ...  ...       ...   \n",
      "51520   9249        2013   nissan maxima   like new        6.0  gas   88136.0   \n",
      "51521   2700        2002     honda civic    salvage        4.0  gas  181500.0   \n",
      "51522   3950        2009  hyundai sonata  excellent        4.0  gas  128000.0   \n",
      "51523   7455        2013  toyota corolla       good        4.0  gas  139573.0   \n",
      "51524   6300        2014   nissan altima       good        4.0  gas  113000.0   \n",
      "\n",
      "      transmission    type paint_color  is_4wd date_posted  days_listed  \\\n",
      "0        automatic     SUV       other    True  2018-06-23           19   \n",
      "2        automatic   sedan         red   False  2019-02-07           79   \n",
      "3        automatic  pickup       other   False  2019-03-22            9   \n",
      "4        automatic   sedan       black   False  2019-04-02           28   \n",
      "5        automatic   sedan       black    True  2018-06-20           15   \n",
      "...            ...     ...         ...     ...         ...          ...   \n",
      "51520    automatic   sedan       black   False  2018-10-03           37   \n",
      "51521    automatic   sedan       white   False  2018-11-14           22   \n",
      "51522    automatic   sedan        blue   False  2018-11-15           32   \n",
      "51523    automatic   sedan       black   False  2018-07-02           71   \n",
      "51524    automatic   sedan       other   False  2018-06-05           10   \n",
      "\n",
      "       posted_year posted_month posted_weekday  \n",
      "0             2018         June       Saturday  \n",
      "2             2019     February       Thursday  \n",
      "3             2019        March         Friday  \n",
      "4             2019        April        Tuesday  \n",
      "5             2018         June      Wednesday  \n",
      "...            ...          ...            ...  \n",
      "51520         2018      October      Wednesday  \n",
      "51521         2018     November      Wednesday  \n",
      "51522         2018     November       Thursday  \n",
      "51523         2018         July         Monday  \n",
      "51524         2018         June        Tuesday  \n",
      "\n",
      "[43009 rows x 16 columns]\n"
     ]
    }
   ],
   "source": [
    "# Add datetime values for when the ad was placed\n",
    "cleaned_df['posted_year'] = pd. DatetimeIndex(cleaned_df['date_posted']).year\n",
    "cleaned_df['posted_month'] = pd. DatetimeIndex(cleaned_df['date_posted']).month_name()\n",
    "cleaned_df['posted_weekday'] = pd. DatetimeIndex(cleaned_df['date_posted']).day_name()\n",
    "\n",
    "\n",
    "\n",
    "print(cleaned_df)"
   ]
  },
  {
   "cell_type": "code",
   "execution_count": 21,
   "metadata": {},
   "outputs": [],
   "source": [
    "# Add the vehicle's age when the ad was placed\n",
    "\n",
    "cleaned_df['vehicle_age'] = cleaned_df['posted_year'] + 1 - cleaned_df['model_year']\n"
   ]
  },
  {
   "cell_type": "markdown",
   "metadata": {},
   "source": [
    "<div class=\"alert alert-warning\">\n",
    "<b>Reviewer's comment v1:</b>\n",
    "    \n",
    "Here you can also add  +1 to the equation above to take into account the current year. Otherwise, it will lead to multiple 0 in `vehicle_age` (as below) and as a result infinite values in `avg_mileage`. \n",
    "    \n",
    "    \n",
    "Btw you can omit print() here, as jupyter automatically provides correct output. \n"
   ]
  },
  {
   "cell_type": "markdown",
   "metadata": {},
   "source": [
    "<div class=\"alert alert-info\"> <b>Student comments:</b> Corrected the equation above. Thanks! </div> "
   ]
  },
  {
   "cell_type": "code",
   "execution_count": 22,
   "metadata": {},
   "outputs": [
    {
     "name": "stdout",
     "output_type": "stream",
     "text": [
      "       price  model_year           model  condition  cylinders fuel  odometer  \\\n",
      "0       9400        2011          bmw x5       good        6.0  gas  145000.0   \n",
      "2       5500        2013  hyundai sonata   like new        4.0  gas  110000.0   \n",
      "3       1500        2003      ford f-150       fair        8.0  gas  113000.0   \n",
      "4      14900        2017    chrysler 200  excellent        4.0  gas   80903.0   \n",
      "5      14990        2014    chrysler 300  excellent        6.0  gas   57954.0   \n",
      "...      ...         ...             ...        ...        ...  ...       ...   \n",
      "51520   9249        2013   nissan maxima   like new        6.0  gas   88136.0   \n",
      "51521   2700        2002     honda civic    salvage        4.0  gas  181500.0   \n",
      "51522   3950        2009  hyundai sonata  excellent        4.0  gas  128000.0   \n",
      "51523   7455        2013  toyota corolla       good        4.0  gas  139573.0   \n",
      "51524   6300        2014   nissan altima       good        4.0  gas  113000.0   \n",
      "\n",
      "      transmission    type paint_color  is_4wd date_posted  days_listed  \\\n",
      "0        automatic     SUV       other    True  2018-06-23           19   \n",
      "2        automatic   sedan         red   False  2019-02-07           79   \n",
      "3        automatic  pickup       other   False  2019-03-22            9   \n",
      "4        automatic   sedan       black   False  2019-04-02           28   \n",
      "5        automatic   sedan       black    True  2018-06-20           15   \n",
      "...            ...     ...         ...     ...         ...          ...   \n",
      "51520    automatic   sedan       black   False  2018-10-03           37   \n",
      "51521    automatic   sedan       white   False  2018-11-14           22   \n",
      "51522    automatic   sedan        blue   False  2018-11-15           32   \n",
      "51523    automatic   sedan       black   False  2018-07-02           71   \n",
      "51524    automatic   sedan       other   False  2018-06-05           10   \n",
      "\n",
      "       posted_year posted_month posted_weekday  vehicle_age     id  \n",
      "0             2018         June       Saturday            8      0  \n",
      "2             2019     February       Thursday            7      2  \n",
      "3             2019        March         Friday           17      3  \n",
      "4             2019        April        Tuesday            3      4  \n",
      "5             2018         June      Wednesday            5      5  \n",
      "...            ...          ...            ...          ...    ...  \n",
      "51520         2018      October      Wednesday            6  51520  \n",
      "51521         2018     November      Wednesday           17  51521  \n",
      "51522         2018     November       Thursday           10  51522  \n",
      "51523         2018         July         Monday            6  51523  \n",
      "51524         2018         June        Tuesday            5  51524  \n",
      "\n",
      "[43009 rows x 18 columns]\n",
      "       price  model_year           model  condition  cylinders fuel  odometer  \\\n",
      "0       9400        2011          bmw x5       good        6.0  gas  145000.0   \n",
      "2       5500        2013  hyundai sonata   like new        4.0  gas  110000.0   \n",
      "3       1500        2003      ford f-150       fair        8.0  gas  113000.0   \n",
      "4      14900        2017    chrysler 200  excellent        4.0  gas   80903.0   \n",
      "5      14990        2014    chrysler 300  excellent        6.0  gas   57954.0   \n",
      "...      ...         ...             ...        ...        ...  ...       ...   \n",
      "51520   9249        2013   nissan maxima   like new        6.0  gas   88136.0   \n",
      "51521   2700        2002     honda civic    salvage        4.0  gas  181500.0   \n",
      "51522   3950        2009  hyundai sonata  excellent        4.0  gas  128000.0   \n",
      "51523   7455        2013  toyota corolla       good        4.0  gas  139573.0   \n",
      "51524   6300        2014   nissan altima       good        4.0  gas  113000.0   \n",
      "\n",
      "      transmission    type paint_color  is_4wd date_posted  days_listed  \\\n",
      "0        automatic     SUV       other    True  2018-06-23           19   \n",
      "2        automatic   sedan         red   False  2019-02-07           79   \n",
      "3        automatic  pickup       other   False  2019-03-22            9   \n",
      "4        automatic   sedan       black   False  2019-04-02           28   \n",
      "5        automatic   sedan       black    True  2018-06-20           15   \n",
      "...            ...     ...         ...     ...         ...          ...   \n",
      "51520    automatic   sedan       black   False  2018-10-03           37   \n",
      "51521    automatic   sedan       white   False  2018-11-14           22   \n",
      "51522    automatic   sedan        blue   False  2018-11-15           32   \n",
      "51523    automatic   sedan       black   False  2018-07-02           71   \n",
      "51524    automatic   sedan       other   False  2018-06-05           10   \n",
      "\n",
      "       posted_year posted_month posted_weekday  vehicle_age     id  \\\n",
      "0             2018         June       Saturday            8      0   \n",
      "2             2019     February       Thursday            7      2   \n",
      "3             2019        March         Friday           17      3   \n",
      "4             2019        April        Tuesday            3      4   \n",
      "5             2018         June      Wednesday            5      5   \n",
      "...            ...          ...            ...          ...    ...   \n",
      "51520         2018      October      Wednesday            6  51520   \n",
      "51521         2018     November      Wednesday           17  51521   \n",
      "51522         2018     November       Thursday           10  51522   \n",
      "51523         2018         July         Monday            6  51523   \n",
      "51524         2018         June        Tuesday            5  51524   \n",
      "\n",
      "       avg_mileage  \n",
      "0         145000.0  \n",
      "2         110000.0  \n",
      "3         113000.0  \n",
      "4          80903.0  \n",
      "5          57954.0  \n",
      "...            ...  \n",
      "51520      88136.0  \n",
      "51521     181500.0  \n",
      "51522     128000.0  \n",
      "51523     139573.0  \n",
      "51524     113000.0  \n",
      "\n",
      "[43009 rows x 19 columns]\n"
     ]
    }
   ],
   "source": [
    "# Add the vehicle's average mileage per year\n",
    "cleaned_df.index\n",
    "cleaned_df['id']=cleaned_df.index\n",
    "print(cleaned_df)\n",
    "avg_mileage = cleaned_df.pivot_table(\n",
    "    index='id', values='odometer', aggfunc='mean'\n",
    ")\n",
    "cleaned_df['avg_mileage']=avg_mileage\n",
    "print(cleaned_df)"
   ]
  },
  {
   "cell_type": "code",
   "execution_count": 23,
   "metadata": {},
   "outputs": [],
   "source": [
    "# replace values in the \"condition\" column\n",
    "\n",
    "replace_condition = {'new': 5 , 'like new' : 4, 'excellent' : 3, 'good': 2, 'fair': 1, \"salvage\":0}                                                                                          \n",
    "cleaned_df = cleaned_df.replace({\"condition\": replace_condition}) \n"
   ]
  },
  {
   "cell_type": "markdown",
   "metadata": {},
   "source": [
    "## Check clean data"
   ]
  },
  {
   "cell_type": "markdown",
   "metadata": {},
   "source": [
    "[Given the data is ready for the analysis, take just another quick look at it. It is helpful to see what exactly you are going to use for the analysis.]"
   ]
  },
  {
   "cell_type": "code",
   "execution_count": 24,
   "metadata": {},
   "outputs": [
    {
     "name": "stdout",
     "output_type": "stream",
     "text": [
      "<class 'pandas.core.frame.DataFrame'>\n",
      "Int64Index: 43009 entries, 0 to 51524\n",
      "Data columns (total 19 columns):\n",
      "price             43009 non-null int64\n",
      "model_year        43009 non-null int64\n",
      "model             43009 non-null object\n",
      "condition         43009 non-null int64\n",
      "cylinders         43009 non-null float64\n",
      "fuel              43009 non-null object\n",
      "odometer          43009 non-null float64\n",
      "transmission      43009 non-null object\n",
      "type              43009 non-null object\n",
      "paint_color       43009 non-null object\n",
      "is_4wd            43009 non-null bool\n",
      "date_posted       43009 non-null object\n",
      "days_listed       43009 non-null int64\n",
      "posted_year       43009 non-null int64\n",
      "posted_month      43009 non-null object\n",
      "posted_weekday    43009 non-null object\n",
      "vehicle_age       43009 non-null int64\n",
      "id                43009 non-null int64\n",
      "avg_mileage       43009 non-null float64\n",
      "dtypes: bool(1), float64(3), int64(7), object(8)\n",
      "memory usage: 6.3+ MB\n"
     ]
    }
   ],
   "source": [
    "# print the general/summary information about the DataFrame\n",
    "cleaned_df.info()\n"
   ]
  },
  {
   "cell_type": "code",
   "execution_count": 25,
   "metadata": {},
   "outputs": [
    {
     "data": {
      "text/html": [
       "<div>\n",
       "<style scoped>\n",
       "    .dataframe tbody tr th:only-of-type {\n",
       "        vertical-align: middle;\n",
       "    }\n",
       "\n",
       "    .dataframe tbody tr th {\n",
       "        vertical-align: top;\n",
       "    }\n",
       "\n",
       "    .dataframe thead th {\n",
       "        text-align: right;\n",
       "    }\n",
       "</style>\n",
       "<table border=\"1\" class=\"dataframe\">\n",
       "  <thead>\n",
       "    <tr style=\"text-align: right;\">\n",
       "      <th></th>\n",
       "      <th>price</th>\n",
       "      <th>model_year</th>\n",
       "      <th>model</th>\n",
       "      <th>condition</th>\n",
       "      <th>cylinders</th>\n",
       "      <th>fuel</th>\n",
       "      <th>odometer</th>\n",
       "      <th>transmission</th>\n",
       "      <th>type</th>\n",
       "      <th>paint_color</th>\n",
       "      <th>is_4wd</th>\n",
       "      <th>date_posted</th>\n",
       "      <th>days_listed</th>\n",
       "      <th>posted_year</th>\n",
       "      <th>posted_month</th>\n",
       "      <th>posted_weekday</th>\n",
       "      <th>vehicle_age</th>\n",
       "      <th>id</th>\n",
       "      <th>avg_mileage</th>\n",
       "    </tr>\n",
       "  </thead>\n",
       "  <tbody>\n",
       "    <tr>\n",
       "      <td>0</td>\n",
       "      <td>9400</td>\n",
       "      <td>2011</td>\n",
       "      <td>bmw x5</td>\n",
       "      <td>2</td>\n",
       "      <td>6.0</td>\n",
       "      <td>gas</td>\n",
       "      <td>145000.0</td>\n",
       "      <td>automatic</td>\n",
       "      <td>SUV</td>\n",
       "      <td>other</td>\n",
       "      <td>True</td>\n",
       "      <td>2018-06-23</td>\n",
       "      <td>19</td>\n",
       "      <td>2018</td>\n",
       "      <td>June</td>\n",
       "      <td>Saturday</td>\n",
       "      <td>8</td>\n",
       "      <td>0</td>\n",
       "      <td>145000.0</td>\n",
       "    </tr>\n",
       "    <tr>\n",
       "      <td>2</td>\n",
       "      <td>5500</td>\n",
       "      <td>2013</td>\n",
       "      <td>hyundai sonata</td>\n",
       "      <td>4</td>\n",
       "      <td>4.0</td>\n",
       "      <td>gas</td>\n",
       "      <td>110000.0</td>\n",
       "      <td>automatic</td>\n",
       "      <td>sedan</td>\n",
       "      <td>red</td>\n",
       "      <td>False</td>\n",
       "      <td>2019-02-07</td>\n",
       "      <td>79</td>\n",
       "      <td>2019</td>\n",
       "      <td>February</td>\n",
       "      <td>Thursday</td>\n",
       "      <td>7</td>\n",
       "      <td>2</td>\n",
       "      <td>110000.0</td>\n",
       "    </tr>\n",
       "    <tr>\n",
       "      <td>3</td>\n",
       "      <td>1500</td>\n",
       "      <td>2003</td>\n",
       "      <td>ford f-150</td>\n",
       "      <td>1</td>\n",
       "      <td>8.0</td>\n",
       "      <td>gas</td>\n",
       "      <td>113000.0</td>\n",
       "      <td>automatic</td>\n",
       "      <td>pickup</td>\n",
       "      <td>other</td>\n",
       "      <td>False</td>\n",
       "      <td>2019-03-22</td>\n",
       "      <td>9</td>\n",
       "      <td>2019</td>\n",
       "      <td>March</td>\n",
       "      <td>Friday</td>\n",
       "      <td>17</td>\n",
       "      <td>3</td>\n",
       "      <td>113000.0</td>\n",
       "    </tr>\n",
       "    <tr>\n",
       "      <td>4</td>\n",
       "      <td>14900</td>\n",
       "      <td>2017</td>\n",
       "      <td>chrysler 200</td>\n",
       "      <td>3</td>\n",
       "      <td>4.0</td>\n",
       "      <td>gas</td>\n",
       "      <td>80903.0</td>\n",
       "      <td>automatic</td>\n",
       "      <td>sedan</td>\n",
       "      <td>black</td>\n",
       "      <td>False</td>\n",
       "      <td>2019-04-02</td>\n",
       "      <td>28</td>\n",
       "      <td>2019</td>\n",
       "      <td>April</td>\n",
       "      <td>Tuesday</td>\n",
       "      <td>3</td>\n",
       "      <td>4</td>\n",
       "      <td>80903.0</td>\n",
       "    </tr>\n",
       "    <tr>\n",
       "      <td>5</td>\n",
       "      <td>14990</td>\n",
       "      <td>2014</td>\n",
       "      <td>chrysler 300</td>\n",
       "      <td>3</td>\n",
       "      <td>6.0</td>\n",
       "      <td>gas</td>\n",
       "      <td>57954.0</td>\n",
       "      <td>automatic</td>\n",
       "      <td>sedan</td>\n",
       "      <td>black</td>\n",
       "      <td>True</td>\n",
       "      <td>2018-06-20</td>\n",
       "      <td>15</td>\n",
       "      <td>2018</td>\n",
       "      <td>June</td>\n",
       "      <td>Wednesday</td>\n",
       "      <td>5</td>\n",
       "      <td>5</td>\n",
       "      <td>57954.0</td>\n",
       "    </tr>\n",
       "    <tr>\n",
       "      <td>6</td>\n",
       "      <td>12990</td>\n",
       "      <td>2015</td>\n",
       "      <td>toyota camry</td>\n",
       "      <td>3</td>\n",
       "      <td>4.0</td>\n",
       "      <td>gas</td>\n",
       "      <td>79212.0</td>\n",
       "      <td>automatic</td>\n",
       "      <td>sedan</td>\n",
       "      <td>white</td>\n",
       "      <td>False</td>\n",
       "      <td>2018-12-27</td>\n",
       "      <td>73</td>\n",
       "      <td>2018</td>\n",
       "      <td>December</td>\n",
       "      <td>Thursday</td>\n",
       "      <td>4</td>\n",
       "      <td>6</td>\n",
       "      <td>79212.0</td>\n",
       "    </tr>\n",
       "    <tr>\n",
       "      <td>7</td>\n",
       "      <td>15990</td>\n",
       "      <td>2013</td>\n",
       "      <td>honda pilot</td>\n",
       "      <td>3</td>\n",
       "      <td>6.0</td>\n",
       "      <td>gas</td>\n",
       "      <td>109473.0</td>\n",
       "      <td>automatic</td>\n",
       "      <td>SUV</td>\n",
       "      <td>black</td>\n",
       "      <td>True</td>\n",
       "      <td>2019-01-07</td>\n",
       "      <td>68</td>\n",
       "      <td>2019</td>\n",
       "      <td>January</td>\n",
       "      <td>Monday</td>\n",
       "      <td>7</td>\n",
       "      <td>7</td>\n",
       "      <td>109473.0</td>\n",
       "    </tr>\n",
       "    <tr>\n",
       "      <td>8</td>\n",
       "      <td>11500</td>\n",
       "      <td>2012</td>\n",
       "      <td>kia sorento</td>\n",
       "      <td>3</td>\n",
       "      <td>4.0</td>\n",
       "      <td>gas</td>\n",
       "      <td>104174.0</td>\n",
       "      <td>automatic</td>\n",
       "      <td>SUV</td>\n",
       "      <td>other</td>\n",
       "      <td>True</td>\n",
       "      <td>2018-07-16</td>\n",
       "      <td>19</td>\n",
       "      <td>2018</td>\n",
       "      <td>July</td>\n",
       "      <td>Monday</td>\n",
       "      <td>7</td>\n",
       "      <td>8</td>\n",
       "      <td>104174.0</td>\n",
       "    </tr>\n",
       "    <tr>\n",
       "      <td>10</td>\n",
       "      <td>19500</td>\n",
       "      <td>2011</td>\n",
       "      <td>chevrolet silverado 1500</td>\n",
       "      <td>3</td>\n",
       "      <td>8.0</td>\n",
       "      <td>gas</td>\n",
       "      <td>128413.0</td>\n",
       "      <td>automatic</td>\n",
       "      <td>pickup</td>\n",
       "      <td>black</td>\n",
       "      <td>True</td>\n",
       "      <td>2018-09-17</td>\n",
       "      <td>38</td>\n",
       "      <td>2018</td>\n",
       "      <td>September</td>\n",
       "      <td>Monday</td>\n",
       "      <td>8</td>\n",
       "      <td>10</td>\n",
       "      <td>128413.0</td>\n",
       "    </tr>\n",
       "    <tr>\n",
       "      <td>11</td>\n",
       "      <td>8990</td>\n",
       "      <td>2012</td>\n",
       "      <td>honda accord</td>\n",
       "      <td>3</td>\n",
       "      <td>4.0</td>\n",
       "      <td>gas</td>\n",
       "      <td>111142.0</td>\n",
       "      <td>automatic</td>\n",
       "      <td>sedan</td>\n",
       "      <td>grey</td>\n",
       "      <td>False</td>\n",
       "      <td>2019-03-28</td>\n",
       "      <td>29</td>\n",
       "      <td>2019</td>\n",
       "      <td>March</td>\n",
       "      <td>Thursday</td>\n",
       "      <td>8</td>\n",
       "      <td>11</td>\n",
       "      <td>111142.0</td>\n",
       "    </tr>\n",
       "    <tr>\n",
       "      <td>12</td>\n",
       "      <td>18990</td>\n",
       "      <td>2012</td>\n",
       "      <td>ram 1500</td>\n",
       "      <td>3</td>\n",
       "      <td>8.0</td>\n",
       "      <td>gas</td>\n",
       "      <td>140742.0</td>\n",
       "      <td>automatic</td>\n",
       "      <td>pickup</td>\n",
       "      <td>other</td>\n",
       "      <td>True</td>\n",
       "      <td>2019-04-02</td>\n",
       "      <td>37</td>\n",
       "      <td>2019</td>\n",
       "      <td>April</td>\n",
       "      <td>Tuesday</td>\n",
       "      <td>8</td>\n",
       "      <td>12</td>\n",
       "      <td>140742.0</td>\n",
       "    </tr>\n",
       "    <tr>\n",
       "      <td>13</td>\n",
       "      <td>16500</td>\n",
       "      <td>2018</td>\n",
       "      <td>hyundai sonata</td>\n",
       "      <td>3</td>\n",
       "      <td>4.0</td>\n",
       "      <td>gas</td>\n",
       "      <td>22104.0</td>\n",
       "      <td>automatic</td>\n",
       "      <td>sedan</td>\n",
       "      <td>silver</td>\n",
       "      <td>False</td>\n",
       "      <td>2019-01-14</td>\n",
       "      <td>29</td>\n",
       "      <td>2019</td>\n",
       "      <td>January</td>\n",
       "      <td>Monday</td>\n",
       "      <td>2</td>\n",
       "      <td>13</td>\n",
       "      <td>22104.0</td>\n",
       "    </tr>\n",
       "    <tr>\n",
       "      <td>14</td>\n",
       "      <td>12990</td>\n",
       "      <td>2009</td>\n",
       "      <td>gmc yukon</td>\n",
       "      <td>3</td>\n",
       "      <td>8.0</td>\n",
       "      <td>gas</td>\n",
       "      <td>132285.0</td>\n",
       "      <td>automatic</td>\n",
       "      <td>SUV</td>\n",
       "      <td>black</td>\n",
       "      <td>True</td>\n",
       "      <td>2019-01-31</td>\n",
       "      <td>24</td>\n",
       "      <td>2019</td>\n",
       "      <td>January</td>\n",
       "      <td>Thursday</td>\n",
       "      <td>11</td>\n",
       "      <td>14</td>\n",
       "      <td>132285.0</td>\n",
       "    </tr>\n",
       "    <tr>\n",
       "      <td>15</td>\n",
       "      <td>17990</td>\n",
       "      <td>2013</td>\n",
       "      <td>ram 1500</td>\n",
       "      <td>3</td>\n",
       "      <td>8.0</td>\n",
       "      <td>gas</td>\n",
       "      <td>113000.0</td>\n",
       "      <td>automatic</td>\n",
       "      <td>pickup</td>\n",
       "      <td>red</td>\n",
       "      <td>True</td>\n",
       "      <td>2018-05-15</td>\n",
       "      <td>111</td>\n",
       "      <td>2018</td>\n",
       "      <td>May</td>\n",
       "      <td>Tuesday</td>\n",
       "      <td>6</td>\n",
       "      <td>15</td>\n",
       "      <td>113000.0</td>\n",
       "    </tr>\n",
       "    <tr>\n",
       "      <td>16</td>\n",
       "      <td>14990</td>\n",
       "      <td>2010</td>\n",
       "      <td>ram 1500</td>\n",
       "      <td>3</td>\n",
       "      <td>8.0</td>\n",
       "      <td>gas</td>\n",
       "      <td>130725.0</td>\n",
       "      <td>automatic</td>\n",
       "      <td>pickup</td>\n",
       "      <td>red</td>\n",
       "      <td>True</td>\n",
       "      <td>2018-12-30</td>\n",
       "      <td>13</td>\n",
       "      <td>2018</td>\n",
       "      <td>December</td>\n",
       "      <td>Sunday</td>\n",
       "      <td>9</td>\n",
       "      <td>16</td>\n",
       "      <td>130725.0</td>\n",
       "    </tr>\n",
       "    <tr>\n",
       "      <td>17</td>\n",
       "      <td>13990</td>\n",
       "      <td>2014</td>\n",
       "      <td>jeep cherokee</td>\n",
       "      <td>3</td>\n",
       "      <td>6.0</td>\n",
       "      <td>gas</td>\n",
       "      <td>100669.0</td>\n",
       "      <td>automatic</td>\n",
       "      <td>SUV</td>\n",
       "      <td>red</td>\n",
       "      <td>True</td>\n",
       "      <td>2018-08-16</td>\n",
       "      <td>25</td>\n",
       "      <td>2018</td>\n",
       "      <td>August</td>\n",
       "      <td>Thursday</td>\n",
       "      <td>5</td>\n",
       "      <td>17</td>\n",
       "      <td>100669.0</td>\n",
       "    </tr>\n",
       "    <tr>\n",
       "      <td>18</td>\n",
       "      <td>12500</td>\n",
       "      <td>2013</td>\n",
       "      <td>chevrolet traverse</td>\n",
       "      <td>3</td>\n",
       "      <td>6.0</td>\n",
       "      <td>gas</td>\n",
       "      <td>128325.0</td>\n",
       "      <td>automatic</td>\n",
       "      <td>SUV</td>\n",
       "      <td>white</td>\n",
       "      <td>True</td>\n",
       "      <td>2019-04-09</td>\n",
       "      <td>13</td>\n",
       "      <td>2019</td>\n",
       "      <td>April</td>\n",
       "      <td>Tuesday</td>\n",
       "      <td>7</td>\n",
       "      <td>18</td>\n",
       "      <td>128325.0</td>\n",
       "    </tr>\n",
       "    <tr>\n",
       "      <td>19</td>\n",
       "      <td>13990</td>\n",
       "      <td>2018</td>\n",
       "      <td>hyundai elantra</td>\n",
       "      <td>3</td>\n",
       "      <td>4.0</td>\n",
       "      <td>gas</td>\n",
       "      <td>31932.0</td>\n",
       "      <td>automatic</td>\n",
       "      <td>sedan</td>\n",
       "      <td>red</td>\n",
       "      <td>False</td>\n",
       "      <td>2018-08-25</td>\n",
       "      <td>27</td>\n",
       "      <td>2018</td>\n",
       "      <td>August</td>\n",
       "      <td>Saturday</td>\n",
       "      <td>1</td>\n",
       "      <td>19</td>\n",
       "      <td>31932.0</td>\n",
       "    </tr>\n",
       "    <tr>\n",
       "      <td>21</td>\n",
       "      <td>5250</td>\n",
       "      <td>2007</td>\n",
       "      <td>toyota rav4</td>\n",
       "      <td>2</td>\n",
       "      <td>6.0</td>\n",
       "      <td>gas</td>\n",
       "      <td>154000.0</td>\n",
       "      <td>automatic</td>\n",
       "      <td>SUV</td>\n",
       "      <td>other</td>\n",
       "      <td>False</td>\n",
       "      <td>2018-08-22</td>\n",
       "      <td>8</td>\n",
       "      <td>2018</td>\n",
       "      <td>August</td>\n",
       "      <td>Wednesday</td>\n",
       "      <td>12</td>\n",
       "      <td>21</td>\n",
       "      <td>154000.0</td>\n",
       "    </tr>\n",
       "    <tr>\n",
       "      <td>22</td>\n",
       "      <td>7500</td>\n",
       "      <td>2004</td>\n",
       "      <td>chevrolet silverado</td>\n",
       "      <td>4</td>\n",
       "      <td>8.0</td>\n",
       "      <td>gas</td>\n",
       "      <td>180000.0</td>\n",
       "      <td>automatic</td>\n",
       "      <td>truck</td>\n",
       "      <td>red</td>\n",
       "      <td>True</td>\n",
       "      <td>2019-01-05</td>\n",
       "      <td>64</td>\n",
       "      <td>2019</td>\n",
       "      <td>January</td>\n",
       "      <td>Saturday</td>\n",
       "      <td>16</td>\n",
       "      <td>22</td>\n",
       "      <td>180000.0</td>\n",
       "    </tr>\n",
       "  </tbody>\n",
       "</table>\n",
       "</div>"
      ],
      "text/plain": [
       "    price  model_year                     model  condition  cylinders fuel  \\\n",
       "0    9400        2011                    bmw x5          2        6.0  gas   \n",
       "2    5500        2013            hyundai sonata          4        4.0  gas   \n",
       "3    1500        2003                ford f-150          1        8.0  gas   \n",
       "4   14900        2017              chrysler 200          3        4.0  gas   \n",
       "5   14990        2014              chrysler 300          3        6.0  gas   \n",
       "6   12990        2015              toyota camry          3        4.0  gas   \n",
       "7   15990        2013               honda pilot          3        6.0  gas   \n",
       "8   11500        2012               kia sorento          3        4.0  gas   \n",
       "10  19500        2011  chevrolet silverado 1500          3        8.0  gas   \n",
       "11   8990        2012              honda accord          3        4.0  gas   \n",
       "12  18990        2012                  ram 1500          3        8.0  gas   \n",
       "13  16500        2018            hyundai sonata          3        4.0  gas   \n",
       "14  12990        2009                 gmc yukon          3        8.0  gas   \n",
       "15  17990        2013                  ram 1500          3        8.0  gas   \n",
       "16  14990        2010                  ram 1500          3        8.0  gas   \n",
       "17  13990        2014             jeep cherokee          3        6.0  gas   \n",
       "18  12500        2013        chevrolet traverse          3        6.0  gas   \n",
       "19  13990        2018           hyundai elantra          3        4.0  gas   \n",
       "21   5250        2007               toyota rav4          2        6.0  gas   \n",
       "22   7500        2004       chevrolet silverado          4        8.0  gas   \n",
       "\n",
       "    odometer transmission    type paint_color  is_4wd date_posted  \\\n",
       "0   145000.0    automatic     SUV       other    True  2018-06-23   \n",
       "2   110000.0    automatic   sedan         red   False  2019-02-07   \n",
       "3   113000.0    automatic  pickup       other   False  2019-03-22   \n",
       "4    80903.0    automatic   sedan       black   False  2019-04-02   \n",
       "5    57954.0    automatic   sedan       black    True  2018-06-20   \n",
       "6    79212.0    automatic   sedan       white   False  2018-12-27   \n",
       "7   109473.0    automatic     SUV       black    True  2019-01-07   \n",
       "8   104174.0    automatic     SUV       other    True  2018-07-16   \n",
       "10  128413.0    automatic  pickup       black    True  2018-09-17   \n",
       "11  111142.0    automatic   sedan        grey   False  2019-03-28   \n",
       "12  140742.0    automatic  pickup       other    True  2019-04-02   \n",
       "13   22104.0    automatic   sedan      silver   False  2019-01-14   \n",
       "14  132285.0    automatic     SUV       black    True  2019-01-31   \n",
       "15  113000.0    automatic  pickup         red    True  2018-05-15   \n",
       "16  130725.0    automatic  pickup         red    True  2018-12-30   \n",
       "17  100669.0    automatic     SUV         red    True  2018-08-16   \n",
       "18  128325.0    automatic     SUV       white    True  2019-04-09   \n",
       "19   31932.0    automatic   sedan         red   False  2018-08-25   \n",
       "21  154000.0    automatic     SUV       other   False  2018-08-22   \n",
       "22  180000.0    automatic   truck         red    True  2019-01-05   \n",
       "\n",
       "    days_listed  posted_year posted_month posted_weekday  vehicle_age  id  \\\n",
       "0            19         2018         June       Saturday            8   0   \n",
       "2            79         2019     February       Thursday            7   2   \n",
       "3             9         2019        March         Friday           17   3   \n",
       "4            28         2019        April        Tuesday            3   4   \n",
       "5            15         2018         June      Wednesday            5   5   \n",
       "6            73         2018     December       Thursday            4   6   \n",
       "7            68         2019      January         Monday            7   7   \n",
       "8            19         2018         July         Monday            7   8   \n",
       "10           38         2018    September         Monday            8  10   \n",
       "11           29         2019        March       Thursday            8  11   \n",
       "12           37         2019        April        Tuesday            8  12   \n",
       "13           29         2019      January         Monday            2  13   \n",
       "14           24         2019      January       Thursday           11  14   \n",
       "15          111         2018          May        Tuesday            6  15   \n",
       "16           13         2018     December         Sunday            9  16   \n",
       "17           25         2018       August       Thursday            5  17   \n",
       "18           13         2019        April        Tuesday            7  18   \n",
       "19           27         2018       August       Saturday            1  19   \n",
       "21            8         2018       August      Wednesday           12  21   \n",
       "22           64         2019      January       Saturday           16  22   \n",
       "\n",
       "    avg_mileage  \n",
       "0      145000.0  \n",
       "2      110000.0  \n",
       "3      113000.0  \n",
       "4       80903.0  \n",
       "5       57954.0  \n",
       "6       79212.0  \n",
       "7      109473.0  \n",
       "8      104174.0  \n",
       "10     128413.0  \n",
       "11     111142.0  \n",
       "12     140742.0  \n",
       "13      22104.0  \n",
       "14     132285.0  \n",
       "15     113000.0  \n",
       "16     130725.0  \n",
       "17     100669.0  \n",
       "18     128325.0  \n",
       "19      31932.0  \n",
       "21     154000.0  \n",
       "22     180000.0  "
      ]
     },
     "execution_count": 25,
     "metadata": {},
     "output_type": "execute_result"
    }
   ],
   "source": [
    "# print a sample of data\n",
    "cleaned_df.head(20)\n"
   ]
  },
  {
   "cell_type": "markdown",
   "metadata": {},
   "source": [
    "## Study core parameters\n",
    "\n",
    "[Choose an appropriate approach to study the parameters listed below, pay special attention to how outliers affect the form and readability of the histograms.]\n",
    "\n",
    "The parameters are\n",
    "- Price\n",
    "- The vehicle's age when the ad was placed\n",
    "- Mileage\n",
    "- Number of cylinders\n",
    "- Condition"
   ]
  },
  {
   "cell_type": "markdown",
   "metadata": {},
   "source": [
    "[If you find that you need to repeat the same jobs multiple times, think about what coding instrument might be helpful for such a thing to avoid duplicating your code.]"
   ]
  },
  {
   "cell_type": "markdown",
   "metadata": {},
   "source": [
    "I find myself repeating the histogram command for each parameter.\n",
    "Although I will plot the histogram individually and eventually, I think the boxplot function will be helpful in determining the characteristics and outliers of these parameters."
   ]
  },
  {
   "cell_type": "code",
   "execution_count": 26,
   "metadata": {},
   "outputs": [
    {
     "data": {
      "image/png": "[encoded data removed]",
      "text/plain": [
       "<Figure size 432x288 with 1 Axes>"
      ]
     },
     "metadata": {
      "needs_background": "light"
     },
     "output_type": "display_data"
    }
   ],
   "source": [
    "boxplot = cleaned_df.boxplot(column=['price','vehicle_age','odometer','cylinders','condition'])"
   ]
  },
  {
   "cell_type": "code",
   "execution_count": 27,
   "metadata": {},
   "outputs": [
    {
     "data": {
      "image/png": "[encoded data removed]",
      "text/plain": [
       "<Figure size 432x288 with 1 Axes>"
      ]
     },
     "metadata": {
      "needs_background": "light"
     },
     "output_type": "display_data"
    }
   ],
   "source": [
    "# Graph a histogram for Price\n",
    "\n",
    "cleaned_df.hist('price');"
   ]
  },
  {
   "cell_type": "code",
   "execution_count": 28,
   "metadata": {},
   "outputs": [
    {
     "data": {
      "image/png": "[encoded data removed]",
      "text/plain": [
       "<Figure size 432x288 with 1 Axes>"
      ]
     },
     "metadata": {
      "needs_background": "light"
     },
     "output_type": "display_data"
    }
   ],
   "source": [
    "# Graph a histogram for the vehicle's age when the ad was placed\n",
    "\n",
    "cleaned_df.hist('vehicle_age');\n"
   ]
  },
  {
   "cell_type": "code",
   "execution_count": 29,
   "metadata": {},
   "outputs": [
    {
     "data": {
      "image/png": "[encoded data removed]",
      "text/plain": [
       "<Figure size 432x288 with 1 Axes>"
      ]
     },
     "metadata": {
      "needs_background": "light"
     },
     "output_type": "display_data"
    }
   ],
   "source": [
    "#Graph a histogram for Mileage\n",
    "\n",
    "cleaned_df.hist('odometer');"
   ]
  },
  {
   "cell_type": "code",
   "execution_count": 30,
   "metadata": {},
   "outputs": [
    {
     "data": {
      "image/png": "[encoded data removed]",
      "text/plain": [
       "<Figure size 432x288 with 1 Axes>"
      ]
     },
     "metadata": {
      "needs_background": "light"
     },
     "output_type": "display_data"
    }
   ],
   "source": [
    "#Graph a histogram for the Number of Cylinders\n",
    "cleaned_df.hist('cylinders');\n"
   ]
  },
  {
   "cell_type": "markdown",
   "metadata": {},
   "source": [
    "<div class=\"alert alert-warning\">\n",
    "<b>Reviewer's comment v1:</b>\n",
    "    \n",
    "In order not to show auxiliary python outputs like \"matplotlib.axes._subplots.AxesSubplot at 0x7f5feaf7fc90 ', you can add a semicolon or plt.show () at the end of the line."
   ]
  },
  {
   "cell_type": "markdown",
   "metadata": {},
   "source": [
    "<div class=\"alert alert-info\"> <b>Student comments:</b> Corrected with semicolons. Thanks! </div> "
   ]
  },
  {
   "cell_type": "code",
   "execution_count": 31,
   "metadata": {},
   "outputs": [
    {
     "data": {
      "image/png": "[encoded data removed]",
      "text/plain": [
       "<Figure size 432x288 with 1 Axes>"
      ]
     },
     "metadata": {
      "needs_background": "light"
     },
     "output_type": "display_data"
    }
   ],
   "source": [
    "#Graph a histogram for Condition\n",
    "cleaned_df.hist('condition');\n"
   ]
  },
  {
   "cell_type": "markdown",
   "metadata": {},
   "source": [
    "## Study and treat outliers\n",
    "\n",
    "[Given the results above, determine what columns may contain outliers, and create a DataFrame without those outliers. Hint: Outliers can be identified by defining the lower/upper limits for normal range of values.]"
   ]
  },
  {
   "cell_type": "code",
   "execution_count": 32,
   "metadata": {},
   "outputs": [
    {
     "data": {
      "text/plain": [
       "count     43009.000000\n",
       "mean      12168.670604\n",
       "std       10019.342590\n",
       "min           1.000000\n",
       "25%        5000.000000\n",
       "50%        9000.000000\n",
       "75%       16900.000000\n",
       "max      375000.000000\n",
       "Name: price, dtype: float64"
      ]
     },
     "execution_count": 32,
     "metadata": {},
     "output_type": "execute_result"
    },
    {
     "data": {
      "image/png": "[encoded data removed]",
      "text/plain": [
       "<Figure size 432x288 with 1 Axes>"
      ]
     },
     "metadata": {
      "needs_background": "light"
     },
     "output_type": "display_data"
    }
   ],
   "source": [
    "# Determine the lower and upper limits for outliers\n",
    "\n",
    "cleaned_df.boxplot('price')\n",
    "cleaned_df['price'].describe()"
   ]
  },
  {
   "cell_type": "markdown",
   "metadata": {},
   "source": [
    "#### For the \"Price\" parameter, looking at the boxplot, clear to see that most of the data lies within the 0-35000 range. Numbers greater than 35000 condisered outlier."
   ]
  },
  {
   "cell_type": "code",
   "execution_count": 33,
   "metadata": {},
   "outputs": [
    {
     "data": {
      "text/plain": [
       "count    43009.000000\n",
       "mean         9.545397\n",
       "std          6.277680\n",
       "min          1.000000\n",
       "25%          5.000000\n",
       "50%          8.000000\n",
       "75%         13.000000\n",
       "max        111.000000\n",
       "Name: vehicle_age, dtype: float64"
      ]
     },
     "execution_count": 33,
     "metadata": {},
     "output_type": "execute_result"
    },
    {
     "data": {
      "image/png": "[encoded data removed]",
      "text/plain": [
       "<Figure size 432x288 with 1 Axes>"
      ]
     },
     "metadata": {
      "needs_background": "light"
     },
     "output_type": "display_data"
    }
   ],
   "source": [
    "cleaned_df.boxplot('vehicle_age')\n",
    "cleaned_df['vehicle_age'].describe()"
   ]
  },
  {
   "cell_type": "markdown",
   "metadata": {},
   "source": [
    "#### For the \"Vehicle Age\" Parameter, Most of the data congregates between 0 - 24 years. A few data points are greater than 24, and can be considered as outliers."
   ]
  },
  {
   "cell_type": "code",
   "execution_count": 34,
   "metadata": {},
   "outputs": [
    {
     "data": {
      "text/plain": [
       "count     43009.000000\n",
       "mean     114967.597038\n",
       "std       59882.186015\n",
       "min           0.000000\n",
       "25%       78840.000000\n",
       "50%      113000.000000\n",
       "75%      146345.000000\n",
       "max      990000.000000\n",
       "Name: odometer, dtype: float64"
      ]
     },
     "execution_count": 34,
     "metadata": {},
     "output_type": "execute_result"
    },
    {
     "data": {
      "image/png": "[encoded data removed]",
      "text/plain": [
       "<Figure size 432x288 with 1 Axes>"
      ]
     },
     "metadata": {
      "needs_background": "light"
     },
     "output_type": "display_data"
    }
   ],
   "source": [
    "cleaned_df.boxplot('odometer')\n",
    "cleaned_df['odometer'].describe()"
   ]
  },
  {
   "cell_type": "markdown",
   "metadata": {},
   "source": [
    "#### For the \"Odometer\" parameter, 0-250000 is a typical range. Numbers greater than 250000 are outliers.\n"
   ]
  },
  {
   "cell_type": "code",
   "execution_count": 35,
   "metadata": {},
   "outputs": [
    {
     "data": {
      "text/plain": [
       "count    43009.000000\n",
       "mean         6.126276\n",
       "std          1.659540\n",
       "min          3.000000\n",
       "25%          4.000000\n",
       "50%          6.000000\n",
       "75%          8.000000\n",
       "max         12.000000\n",
       "Name: cylinders, dtype: float64"
      ]
     },
     "execution_count": 35,
     "metadata": {},
     "output_type": "execute_result"
    },
    {
     "data": {
      "image/png": "[encoded data removed]",
      "text/plain": [
       "<Figure size 432x288 with 1 Axes>"
      ]
     },
     "metadata": {
      "needs_background": "light"
     },
     "output_type": "display_data"
    }
   ],
   "source": [
    "cleaned_df.boxplot('cylinders')\n",
    "cleaned_df['cylinders'].describe()"
   ]
  },
  {
   "cell_type": "markdown",
   "metadata": {},
   "source": [
    "#### For the \"Cylinders\" parameter, no outliers, work with it as it is."
   ]
  },
  {
   "cell_type": "code",
   "execution_count": 36,
   "metadata": {},
   "outputs": [
    {
     "data": {
      "text/plain": [
       "count    43009.000000\n",
       "mean         2.637053\n",
       "std          0.713040\n",
       "min          0.000000\n",
       "25%          2.000000\n",
       "50%          3.000000\n",
       "75%          3.000000\n",
       "max          5.000000\n",
       "Name: condition, dtype: float64"
      ]
     },
     "execution_count": 36,
     "metadata": {},
     "output_type": "execute_result"
    },
    {
     "data": {
      "image/png": "[encoded data removed]",
      "text/plain": [
       "<Figure size 432x288 with 1 Axes>"
      ]
     },
     "metadata": {
      "needs_background": "light"
     },
     "output_type": "display_data"
    }
   ],
   "source": [
    "cleaned_df.boxplot('condition')\n",
    "cleaned_df['condition'].describe()"
   ]
  },
  {
   "cell_type": "markdown",
   "metadata": {},
   "source": [
    "#### \"Condition\" is an interesting parameter, the value can only be an integer from 0 to 5. Most of the cars are conditioned betwen 1 to 4, i.e., not salvaged nor new, which makes sense given the nature of the assignment/dataset.\n",
    "\n",
    "Consider 0 and 5 outliers, inclulde 1, 2, 3, 4 for further studies."
   ]
  },
  {
   "cell_type": "code",
   "execution_count": 37,
   "metadata": {},
   "outputs": [
    {
     "name": "stdout",
     "output_type": "stream",
     "text": [
      "       price  model_year           model  condition  cylinders fuel  odometer  \\\n",
      "0       9400        2011          bmw x5          2        6.0  gas  145000.0   \n",
      "2       5500        2013  hyundai sonata          4        4.0  gas  110000.0   \n",
      "3       1500        2003      ford f-150          1        8.0  gas  113000.0   \n",
      "4      14900        2017    chrysler 200          3        4.0  gas   80903.0   \n",
      "5      14990        2014    chrysler 300          3        6.0  gas   57954.0   \n",
      "...      ...         ...             ...        ...        ...  ...       ...   \n",
      "51519  11750        2015    honda accord          3        4.0  gas  113000.0   \n",
      "51520   9249        2013   nissan maxima          4        6.0  gas   88136.0   \n",
      "51522   3950        2009  hyundai sonata          3        4.0  gas  128000.0   \n",
      "51523   7455        2013  toyota corolla          2        4.0  gas  139573.0   \n",
      "51524   6300        2014   nissan altima          2        4.0  gas  113000.0   \n",
      "\n",
      "      transmission    type paint_color  is_4wd date_posted  days_listed  \\\n",
      "0        automatic     SUV       other    True  2018-06-23           19   \n",
      "2        automatic   sedan         red   False  2019-02-07           79   \n",
      "3        automatic  pickup       other   False  2019-03-22            9   \n",
      "4        automatic   sedan       black   False  2019-04-02           28   \n",
      "5        automatic   sedan       black    True  2018-06-20           15   \n",
      "...            ...     ...         ...     ...         ...          ...   \n",
      "51519    automatic   coupe       other   False  2018-11-24           89   \n",
      "51520    automatic   sedan       black   False  2018-10-03           37   \n",
      "51522    automatic   sedan        blue   False  2018-11-15           32   \n",
      "51523    automatic   sedan       black   False  2018-07-02           71   \n",
      "51524    automatic   sedan       other   False  2018-06-05           10   \n",
      "\n",
      "       posted_year posted_month posted_weekday  vehicle_age     id  \\\n",
      "0             2018         June       Saturday            8      0   \n",
      "2             2019     February       Thursday            7      2   \n",
      "3             2019        March         Friday           17      3   \n",
      "4             2019        April        Tuesday            3      4   \n",
      "5             2018         June      Wednesday            5      5   \n",
      "...            ...          ...            ...          ...    ...   \n",
      "51519         2018     November       Saturday            4  51519   \n",
      "51520         2018      October      Wednesday            6  51520   \n",
      "51522         2018     November       Thursday           10  51522   \n",
      "51523         2018         July         Monday            6  51523   \n",
      "51524         2018         June        Tuesday            5  51524   \n",
      "\n",
      "       avg_mileage  \n",
      "0         145000.0  \n",
      "2         110000.0  \n",
      "3         113000.0  \n",
      "4          80903.0  \n",
      "5          57954.0  \n",
      "...            ...  \n",
      "51519     113000.0  \n",
      "51520      88136.0  \n",
      "51522     128000.0  \n",
      "51523     139573.0  \n",
      "51524     113000.0  \n",
      "\n",
      "[40062 rows x 19 columns]\n"
     ]
    }
   ],
   "source": [
    "# Store data without outliers in a separate DataFrame\n",
    "\n",
    "filtered_df=cleaned_df.query('0<=price<=35000 and 0<=vehicle_age<=24 and 0<=odometer<=250000 and 1<=condition<=4')\n",
    "print(filtered_df)"
   ]
  },
  {
   "cell_type": "markdown",
   "metadata": {},
   "source": [
    "<div class=\"alert alert-block alert-success\">\n",
    "<b>Reviewer's comment v1:</b>\n",
    "    \n",
    "Well done! You perfectly identified and handled outliers. You can additionally check a nice article about working with outliers:\n",
    "- https://www.pluralsight.com/guides/cleaning-up-data-from-outliers\n",
    "</div>"
   ]
  },
  {
   "cell_type": "markdown",
   "metadata": {},
   "source": [
    "## Study core parameters without outliers"
   ]
  },
  {
   "cell_type": "markdown",
   "metadata": {},
   "source": [
    "[Use the filtered data to make new plots. Compare with the earlier ones (that included outliers). Draw conclusions for each.]"
   ]
  },
  {
   "cell_type": "code",
   "execution_count": 38,
   "metadata": {},
   "outputs": [
    {
     "data": {
      "image/png": "[encoded data removed]",
      "text/plain": [
       "<Figure size 432x288 with 1 Axes>"
      ]
     },
     "metadata": {
      "needs_background": "light"
     },
     "output_type": "display_data"
    }
   ],
   "source": [
    "filtered_df['price'].hist();"
   ]
  },
  {
   "cell_type": "markdown",
   "metadata": {},
   "source": [
    "The price parameter is right-skewed, sharply increasing from 0 to 5000, with most car sales recorded peaking at 5000. Then as the price increases, used car sales decreases."
   ]
  },
  {
   "cell_type": "code",
   "execution_count": 39,
   "metadata": {},
   "outputs": [
    {
     "data": {
      "image/png": "[encoded data removed]",
      "text/plain": [
       "<Figure size 432x288 with 1 Axes>"
      ]
     },
     "metadata": {
      "needs_background": "light"
     },
     "output_type": "display_data"
    }
   ],
   "source": [
    "filtered_df['vehicle_age'].hist();"
   ]
  },
  {
   "cell_type": "markdown",
   "metadata": {},
   "source": [
    "For the vehicle age parameter, it is more common for the car to be between 1 and 14 years old -- with a fairly even distribution between 1-14, peaking at 5-6 years old. Past 14 years old, sales number recorded decreases as vehicle age increases. "
   ]
  },
  {
   "cell_type": "code",
   "execution_count": 40,
   "metadata": {},
   "outputs": [
    {
     "data": {
      "image/png": "[encoded data removed]",
      "text/plain": [
       "<Figure size 432x288 with 1 Axes>"
      ]
     },
     "metadata": {
      "needs_background": "light"
     },
     "output_type": "display_data"
    }
   ],
   "source": [
    "filtered_df['odometer'].hist();"
   ]
  },
  {
   "cell_type": "markdown",
   "metadata": {},
   "source": [
    "The Odometer parameter is almost a perfectly bell-shaped curve, with steady increase from 0 to 90000, peaking at 100000 to 1200000, and then car sales decreases as the odometer increases past 1200000."
   ]
  },
  {
   "cell_type": "code",
   "execution_count": 41,
   "metadata": {},
   "outputs": [
    {
     "data": {
      "image/png": "[encoded data removed]",
      "text/plain": [
       "<Figure size 432x288 with 1 Axes>"
      ]
     },
     "metadata": {
      "needs_background": "light"
     },
     "output_type": "display_data"
    }
   ],
   "source": [
    "filtered_df['cylinders'].hist();"
   ]
  },
  {
   "cell_type": "markdown",
   "metadata": {},
   "source": [
    "Most of the sales recorded are for cars with a 4.0, 6.0 or 8.0 cylinder."
   ]
  },
  {
   "cell_type": "code",
   "execution_count": 42,
   "metadata": {},
   "outputs": [
    {
     "data": {
      "image/png": "[encoded data removed]",
      "text/plain": [
       "<Figure size 432x288 with 1 Axes>"
      ]
     },
     "metadata": {
      "needs_background": "light"
     },
     "output_type": "display_data"
    }
   ],
   "source": [
    "filtered_df['condition'].hist();"
   ]
  },
  {
   "cell_type": "markdown",
   "metadata": {},
   "source": [
    "In terms of condition, most of the car sales recorded scored at 2 or 3, meaning they are good or excellent. Fewer are like new or fair. This finding makes common sense as second handed shoppers gravitates towards medium conditioned/mildly used cars."
   ]
  },
  {
   "cell_type": "markdown",
   "metadata": {},
   "source": [
    "## Ads lifetime\n",
    "\n",
    "[Study how many days advertisements were displayed (`days_listed`). Calculate the mean and median. Describe the typical lifetime of an ad. Determine when ads were removed quickly, and when they were listed for an abnormally long time.]"
   ]
  },
  {
   "cell_type": "code",
   "execution_count": 43,
   "metadata": {},
   "outputs": [
    {
     "name": "stdout",
     "output_type": "stream",
     "text": [
      "39.572013379262145 33.0\n"
     ]
    }
   ],
   "source": [
    "mean_lifetime=filtered_df['days_listed'].mean()\n",
    "median_lifetime=filtered_df['days_listed'].median()\n",
    "print(mean_lifetime, median_lifetime)\n",
    "\n"
   ]
  },
  {
   "cell_type": "code",
   "execution_count": 44,
   "metadata": {},
   "outputs": [
    {
     "data": {
      "text/plain": [
       "model_year    -0.004430\n",
       "condition     -0.002197\n",
       "cylinders      0.001398\n",
       "odometer       0.008423\n",
       "is_4wd         0.006568\n",
       "days_listed    1.000000\n",
       "posted_year    0.011104\n",
       "vehicle_age    0.005420\n",
       "id             0.006095\n",
       "avg_mileage    0.008423\n",
       "Name: days_listed, dtype: float64"
      ]
     },
     "execution_count": 44,
     "metadata": {},
     "output_type": "execute_result"
    }
   ],
   "source": [
    "filtered_df[filtered_df.columns[1:]].corr()['days_listed'][:]"
   ]
  },
  {
   "cell_type": "markdown",
   "metadata": {},
   "source": [
    "The mean lifetime of an ad is 39-40 days, and the median is not too different and is about 33 days.\n",
    "Although every correlation value is not perfectly strong, i.e. -1 (strong negative relationship) and +1 (strong positive relationship), there are three more prominent factors, all sharing a positive relationships.\n",
    "\n",
    "odometer\n",
    "is_4wd\n",
    "avg_mileage\n",
    "\n",
    "*note* that posted_year and id are not considered here given their irrelevancy.\n",
    "\n",
    "In the following steps, I will analyze the outliers both in terms of super fast ad removal and super slow ones to further investigate if any particular factor has a huge influence on days_listed (i.e., correlation).\n"
   ]
  },
  {
   "cell_type": "markdown",
   "metadata": {},
   "source": [
    "<div class=\"alert alert-block alert-success\">\n",
    "<b>Reviewer's comment v1:</b>\n",
    "    \n",
    "Typical lifetime of an ad has been correctly identified."
   ]
  },
  {
   "cell_type": "code",
   "execution_count": 45,
   "metadata": {},
   "outputs": [
    {
     "name": "stdout",
     "output_type": "stream",
     "text": [
      "-32.0 104.0\n",
      "       price  model_year               model  condition  cylinders fuel  \\\n",
      "3       1500        2003          ford f-150          1        8.0  gas   \n",
      "5      14990        2014        chrysler 300          3        6.0  gas   \n",
      "16     14990        2010            ram 1500          3        8.0  gas   \n",
      "18     12500        2013  chevrolet traverse          3        6.0  gas   \n",
      "21      5250        2007         toyota rav4          2        6.0  gas   \n",
      "...      ...         ...                 ...        ...        ...  ...   \n",
      "51504  20481        2018        toyota camry          4        4.0  gas   \n",
      "51505   2000        2000           ford f150          2        6.0  gas   \n",
      "51509   5980        2010      subaru impreza          3        4.0  gas   \n",
      "51513  17999        2014            ram 1500          4        8.0  gas   \n",
      "51524   6300        2014       nissan altima          2        4.0  gas   \n",
      "\n",
      "       odometer transmission       type paint_color  is_4wd date_posted  \\\n",
      "3      113000.0    automatic     pickup       other   False  2019-03-22   \n",
      "5       57954.0    automatic      sedan       black    True  2018-06-20   \n",
      "16     130725.0    automatic     pickup         red    True  2018-12-30   \n",
      "18     128325.0    automatic        SUV       white    True  2019-04-09   \n",
      "21     154000.0    automatic        SUV       other   False  2018-08-22   \n",
      "...         ...          ...        ...         ...     ...         ...   \n",
      "51504   38590.0    automatic      sedan      silver   False  2018-12-06   \n",
      "51505  122000.0    automatic      truck       white   False  2019-01-22   \n",
      "51509  121778.0       manual  hatchback       white    True  2019-01-10   \n",
      "51513  154000.0    automatic     pickup       white    True  2018-06-21   \n",
      "51524  113000.0    automatic      sedan       other   False  2018-06-05   \n",
      "\n",
      "       days_listed  posted_year posted_month posted_weekday  vehicle_age  \\\n",
      "3                9         2019        March         Friday           17   \n",
      "5               15         2018         June      Wednesday            5   \n",
      "16              13         2018     December         Sunday            9   \n",
      "18              13         2019        April        Tuesday            7   \n",
      "21               8         2018       August      Wednesday           12   \n",
      "...            ...          ...          ...            ...          ...   \n",
      "51504            4         2018     December       Thursday            1   \n",
      "51505           15         2019      January        Tuesday           20   \n",
      "51509            8         2019      January       Thursday           10   \n",
      "51513           11         2018         June       Thursday            5   \n",
      "51524           10         2018         June        Tuesday            5   \n",
      "\n",
      "          id  avg_mileage  \n",
      "3          3     113000.0  \n",
      "5          5      57954.0  \n",
      "16        16     130725.0  \n",
      "18        18     128325.0  \n",
      "21        21     154000.0  \n",
      "...      ...          ...  \n",
      "51504  51504      38590.0  \n",
      "51505  51505     122000.0  \n",
      "51509  51509     121778.0  \n",
      "51513  51513     154000.0  \n",
      "51524  51524     113000.0  \n",
      "\n",
      "[9716 rows x 19 columns]\n",
      "       price  model_year                         model  condition  cylinders  \\\n",
      "15     17990        2013                      ram 1500          3        8.0   \n",
      "34      9500        2008             toyota highlander          2        6.0   \n",
      "51      3800        2012                    ford focus          2        4.0   \n",
      "89     18800        2015  chevrolet camaro lt coupe 2d          2        6.0   \n",
      "104    22900        2014   ford f150 supercrew cab xlt          2        6.0   \n",
      "...      ...         ...                           ...        ...        ...   \n",
      "51321   3500        2005                  toyota camry          3        4.0   \n",
      "51374   9700        2010                 honda odyssey          2        6.0   \n",
      "51407   5495        2006                  jeep liberty          2        6.0   \n",
      "51489   1200        2005              volkswagen jetta          1        5.0   \n",
      "51502   7995        2011             chevrolet equinox          4        4.0   \n",
      "\n",
      "      fuel  odometer transmission      type paint_color  is_4wd date_posted  \\\n",
      "15     gas  113000.0    automatic    pickup         red    True  2018-05-15   \n",
      "34     gas  149799.0    automatic       SUV       other   False  2018-06-04   \n",
      "51     gas  130323.0    automatic     sedan       black   False  2018-11-29   \n",
      "89     gas   33926.0        other     coupe        grey   False  2019-01-16   \n",
      "104    gas   73711.0    automatic    pickup       white    True  2019-02-27   \n",
      "...    ...       ...          ...       ...         ...     ...         ...   \n",
      "51321  gas  208299.0    automatic     sedan       green   False  2018-06-07   \n",
      "51374  gas  105656.0    automatic  mini-van        grey   False  2019-01-18   \n",
      "51407  gas  108388.0    automatic     wagon       white    True  2018-12-24   \n",
      "51489  gas  185000.0    automatic     sedan        grey   False  2018-10-10   \n",
      "51502  gas  111088.0    automatic       SUV       other   False  2019-04-01   \n",
      "\n",
      "       days_listed  posted_year posted_month posted_weekday  vehicle_age  \\\n",
      "15             111         2018          May        Tuesday            6   \n",
      "34             121         2018         June         Monday           11   \n",
      "51             261         2018     November       Thursday            7   \n",
      "89             152         2019      January      Wednesday            5   \n",
      "104            141         2019     February      Wednesday            6   \n",
      "...            ...          ...          ...            ...          ...   \n",
      "51321          159         2018         June       Thursday           14   \n",
      "51374          111         2019      January         Friday           10   \n",
      "51407          106         2018     December         Monday           13   \n",
      "51489          158         2018      October      Wednesday           14   \n",
      "51502          175         2019        April         Monday            9   \n",
      "\n",
      "          id  avg_mileage  \n",
      "15        15     113000.0  \n",
      "34        34     149799.0  \n",
      "51        51     130323.0  \n",
      "89        89      33926.0  \n",
      "104      104      73711.0  \n",
      "...      ...          ...  \n",
      "51321  51321     208299.0  \n",
      "51374  51374     105656.0  \n",
      "51407  51407     108388.0  \n",
      "51489  51489     185000.0  \n",
      "51502  51502     111088.0  \n",
      "\n",
      "[1310 rows x 19 columns]\n"
     ]
    }
   ],
   "source": [
    "\n",
    "filtered_df['days_listed'].describe()\n",
    "fast_removal=19-1.5*(53-19)\n",
    "slow_removal=53+1.5*(53-19)\n",
    "print(fast_removal,slow_removal)\n",
    "fast_df=filtered_df.query('0<days_listed<19')\n",
    "slow_df=filtered_df.query('days_listed>=104')\n",
    "print(fast_df)\n",
    "print(slow_df)"
   ]
  },
  {
   "cell_type": "code",
   "execution_count": 46,
   "metadata": {},
   "outputs": [
    {
     "data": {
      "text/html": [
       "<div>\n",
       "<style scoped>\n",
       "    .dataframe tbody tr th:only-of-type {\n",
       "        vertical-align: middle;\n",
       "    }\n",
       "\n",
       "    .dataframe tbody tr th {\n",
       "        vertical-align: top;\n",
       "    }\n",
       "\n",
       "    .dataframe thead th {\n",
       "        text-align: right;\n",
       "    }\n",
       "</style>\n",
       "<table border=\"1\" class=\"dataframe\">\n",
       "  <thead>\n",
       "    <tr style=\"text-align: right;\">\n",
       "      <th></th>\n",
       "      <th>price</th>\n",
       "      <th>model_year</th>\n",
       "      <th>condition</th>\n",
       "      <th>cylinders</th>\n",
       "      <th>odometer</th>\n",
       "      <th>days_listed</th>\n",
       "      <th>posted_year</th>\n",
       "      <th>vehicle_age</th>\n",
       "      <th>id</th>\n",
       "      <th>avg_mileage</th>\n",
       "    </tr>\n",
       "  </thead>\n",
       "  <tbody>\n",
       "    <tr>\n",
       "      <td>count</td>\n",
       "      <td>1310.000000</td>\n",
       "      <td>1310.000000</td>\n",
       "      <td>1310.000000</td>\n",
       "      <td>1310.000000</td>\n",
       "      <td>1310.000000</td>\n",
       "      <td>1310.000000</td>\n",
       "      <td>1310.000000</td>\n",
       "      <td>1310.000000</td>\n",
       "      <td>1310.000000</td>\n",
       "      <td>1310.000000</td>\n",
       "    </tr>\n",
       "    <tr>\n",
       "      <td>mean</td>\n",
       "      <td>11048.339695</td>\n",
       "      <td>2009.932061</td>\n",
       "      <td>2.645038</td>\n",
       "      <td>6.055725</td>\n",
       "      <td>115181.851908</td>\n",
       "      <td>127.254198</td>\n",
       "      <td>2018.327481</td>\n",
       "      <td>9.395420</td>\n",
       "      <td>25796.631298</td>\n",
       "      <td>115181.851908</td>\n",
       "    </tr>\n",
       "    <tr>\n",
       "      <td>std</td>\n",
       "      <td>7688.133578</td>\n",
       "      <td>5.003051</td>\n",
       "      <td>0.658692</td>\n",
       "      <td>1.662265</td>\n",
       "      <td>50954.383267</td>\n",
       "      <td>24.723874</td>\n",
       "      <td>0.469474</td>\n",
       "      <td>4.995427</td>\n",
       "      <td>15017.527977</td>\n",
       "      <td>50954.383267</td>\n",
       "    </tr>\n",
       "    <tr>\n",
       "      <td>min</td>\n",
       "      <td>1.000000</td>\n",
       "      <td>1995.000000</td>\n",
       "      <td>1.000000</td>\n",
       "      <td>3.000000</td>\n",
       "      <td>0.000000</td>\n",
       "      <td>104.000000</td>\n",
       "      <td>2018.000000</td>\n",
       "      <td>1.000000</td>\n",
       "      <td>15.000000</td>\n",
       "      <td>0.000000</td>\n",
       "    </tr>\n",
       "    <tr>\n",
       "      <td>25%</td>\n",
       "      <td>5000.000000</td>\n",
       "      <td>2007.000000</td>\n",
       "      <td>2.000000</td>\n",
       "      <td>4.000000</td>\n",
       "      <td>86000.000000</td>\n",
       "      <td>110.000000</td>\n",
       "      <td>2018.000000</td>\n",
       "      <td>6.000000</td>\n",
       "      <td>12705.000000</td>\n",
       "      <td>86000.000000</td>\n",
       "    </tr>\n",
       "    <tr>\n",
       "      <td>50%</td>\n",
       "      <td>8969.000000</td>\n",
       "      <td>2011.000000</td>\n",
       "      <td>3.000000</td>\n",
       "      <td>6.000000</td>\n",
       "      <td>113000.000000</td>\n",
       "      <td>120.000000</td>\n",
       "      <td>2018.000000</td>\n",
       "      <td>9.000000</td>\n",
       "      <td>26160.500000</td>\n",
       "      <td>113000.000000</td>\n",
       "    </tr>\n",
       "    <tr>\n",
       "      <td>75%</td>\n",
       "      <td>14999.750000</td>\n",
       "      <td>2014.000000</td>\n",
       "      <td>3.000000</td>\n",
       "      <td>8.000000</td>\n",
       "      <td>146980.000000</td>\n",
       "      <td>136.000000</td>\n",
       "      <td>2019.000000</td>\n",
       "      <td>13.000000</td>\n",
       "      <td>38332.500000</td>\n",
       "      <td>146980.000000</td>\n",
       "    </tr>\n",
       "    <tr>\n",
       "      <td>max</td>\n",
       "      <td>35000.000000</td>\n",
       "      <td>2019.000000</td>\n",
       "      <td>4.000000</td>\n",
       "      <td>10.000000</td>\n",
       "      <td>248500.000000</td>\n",
       "      <td>271.000000</td>\n",
       "      <td>2019.000000</td>\n",
       "      <td>24.000000</td>\n",
       "      <td>51502.000000</td>\n",
       "      <td>248500.000000</td>\n",
       "    </tr>\n",
       "  </tbody>\n",
       "</table>\n",
       "</div>"
      ],
      "text/plain": [
       "              price   model_year    condition    cylinders       odometer  \\\n",
       "count   1310.000000  1310.000000  1310.000000  1310.000000    1310.000000   \n",
       "mean   11048.339695  2009.932061     2.645038     6.055725  115181.851908   \n",
       "std     7688.133578     5.003051     0.658692     1.662265   50954.383267   \n",
       "min        1.000000  1995.000000     1.000000     3.000000       0.000000   \n",
       "25%     5000.000000  2007.000000     2.000000     4.000000   86000.000000   \n",
       "50%     8969.000000  2011.000000     3.000000     6.000000  113000.000000   \n",
       "75%    14999.750000  2014.000000     3.000000     8.000000  146980.000000   \n",
       "max    35000.000000  2019.000000     4.000000    10.000000  248500.000000   \n",
       "\n",
       "       days_listed  posted_year  vehicle_age            id    avg_mileage  \n",
       "count  1310.000000  1310.000000  1310.000000   1310.000000    1310.000000  \n",
       "mean    127.254198  2018.327481     9.395420  25796.631298  115181.851908  \n",
       "std      24.723874     0.469474     4.995427  15017.527977   50954.383267  \n",
       "min     104.000000  2018.000000     1.000000     15.000000       0.000000  \n",
       "25%     110.000000  2018.000000     6.000000  12705.000000   86000.000000  \n",
       "50%     120.000000  2018.000000     9.000000  26160.500000  113000.000000  \n",
       "75%     136.000000  2019.000000    13.000000  38332.500000  146980.000000  \n",
       "max     271.000000  2019.000000    24.000000  51502.000000  248500.000000  "
      ]
     },
     "execution_count": 46,
     "metadata": {},
     "output_type": "execute_result"
    }
   ],
   "source": [
    "slow_df.describe()"
   ]
  },
  {
   "cell_type": "code",
   "execution_count": 47,
   "metadata": {},
   "outputs": [
    {
     "data": {
      "text/plain": [
       "model_year     0.020002\n",
       "condition     -0.006464\n",
       "cylinders     -0.028023\n",
       "odometer       0.016380\n",
       "is_4wd        -0.018119\n",
       "days_listed    1.000000\n",
       "posted_year    0.034287\n",
       "vehicle_age   -0.016810\n",
       "id            -0.007148\n",
       "avg_mileage    0.016380\n",
       "Name: days_listed, dtype: float64"
      ]
     },
     "execution_count": 47,
     "metadata": {},
     "output_type": "execute_result"
    }
   ],
   "source": [
    "slow_df[slow_df.columns[1:]].corr()['days_listed'][:]"
   ]
  },
  {
   "cell_type": "markdown",
   "metadata": {},
   "source": [
    "For the really slow removals, i.e. the outliers - **condition** and **cylinders** are more prominent factors, and both have a negative correlation with ad removal time, i.e., as the condition decreases (gets worse), or when the cylinder specification is lower, the ad lifetime gets longer. **is_fwd** has a negative correlation with ad removal rate.\n",
    "\n",
    "condition     -0.032084\n",
    "cylinders     -0.045318\n",
    "is_4wd        -0.020677"
   ]
  },
  {
   "cell_type": "code",
   "execution_count": 48,
   "metadata": {},
   "outputs": [
    {
     "data": {
      "text/html": [
       "<div>\n",
       "<style scoped>\n",
       "    .dataframe tbody tr th:only-of-type {\n",
       "        vertical-align: middle;\n",
       "    }\n",
       "\n",
       "    .dataframe tbody tr th {\n",
       "        vertical-align: top;\n",
       "    }\n",
       "\n",
       "    .dataframe thead th {\n",
       "        text-align: right;\n",
       "    }\n",
       "</style>\n",
       "<table border=\"1\" class=\"dataframe\">\n",
       "  <thead>\n",
       "    <tr style=\"text-align: right;\">\n",
       "      <th></th>\n",
       "      <th>price</th>\n",
       "      <th>model_year</th>\n",
       "      <th>condition</th>\n",
       "      <th>cylinders</th>\n",
       "      <th>odometer</th>\n",
       "      <th>days_listed</th>\n",
       "      <th>posted_year</th>\n",
       "      <th>vehicle_age</th>\n",
       "      <th>id</th>\n",
       "      <th>avg_mileage</th>\n",
       "    </tr>\n",
       "  </thead>\n",
       "  <tbody>\n",
       "    <tr>\n",
       "      <td>count</td>\n",
       "      <td>9716.000000</td>\n",
       "      <td>9716.000000</td>\n",
       "      <td>9716.000000</td>\n",
       "      <td>9716.000000</td>\n",
       "      <td>9716.000000</td>\n",
       "      <td>9716.000000</td>\n",
       "      <td>9716.000000</td>\n",
       "      <td>9716.000000</td>\n",
       "      <td>9716.000000</td>\n",
       "      <td>9716.000000</td>\n",
       "    </tr>\n",
       "    <tr>\n",
       "      <td>mean</td>\n",
       "      <td>11389.651914</td>\n",
       "      <td>2010.180115</td>\n",
       "      <td>2.647077</td>\n",
       "      <td>6.040963</td>\n",
       "      <td>112294.500000</td>\n",
       "      <td>11.187937</td>\n",
       "      <td>2018.302800</td>\n",
       "      <td>9.122684</td>\n",
       "      <td>25639.557225</td>\n",
       "      <td>112294.500000</td>\n",
       "    </tr>\n",
       "    <tr>\n",
       "      <td>std</td>\n",
       "      <td>7968.974831</td>\n",
       "      <td>5.138742</td>\n",
       "      <td>0.690113</td>\n",
       "      <td>1.664429</td>\n",
       "      <td>51778.219456</td>\n",
       "      <td>4.624387</td>\n",
       "      <td>0.459493</td>\n",
       "      <td>5.151076</td>\n",
       "      <td>14896.146697</td>\n",
       "      <td>51778.219456</td>\n",
       "    </tr>\n",
       "    <tr>\n",
       "      <td>min</td>\n",
       "      <td>1.000000</td>\n",
       "      <td>1995.000000</td>\n",
       "      <td>1.000000</td>\n",
       "      <td>3.000000</td>\n",
       "      <td>0.000000</td>\n",
       "      <td>1.000000</td>\n",
       "      <td>2018.000000</td>\n",
       "      <td>1.000000</td>\n",
       "      <td>3.000000</td>\n",
       "      <td>0.000000</td>\n",
       "    </tr>\n",
       "    <tr>\n",
       "      <td>25%</td>\n",
       "      <td>5200.000000</td>\n",
       "      <td>2007.000000</td>\n",
       "      <td>2.000000</td>\n",
       "      <td>4.000000</td>\n",
       "      <td>80000.000000</td>\n",
       "      <td>8.000000</td>\n",
       "      <td>2018.000000</td>\n",
       "      <td>5.000000</td>\n",
       "      <td>12764.750000</td>\n",
       "      <td>80000.000000</td>\n",
       "    </tr>\n",
       "    <tr>\n",
       "      <td>50%</td>\n",
       "      <td>8999.000000</td>\n",
       "      <td>2011.000000</td>\n",
       "      <td>3.000000</td>\n",
       "      <td>6.000000</td>\n",
       "      <td>113000.000000</td>\n",
       "      <td>12.000000</td>\n",
       "      <td>2018.000000</td>\n",
       "      <td>8.000000</td>\n",
       "      <td>25618.500000</td>\n",
       "      <td>113000.000000</td>\n",
       "    </tr>\n",
       "    <tr>\n",
       "      <td>75%</td>\n",
       "      <td>15995.000000</td>\n",
       "      <td>2014.000000</td>\n",
       "      <td>3.000000</td>\n",
       "      <td>8.000000</td>\n",
       "      <td>144000.000000</td>\n",
       "      <td>15.000000</td>\n",
       "      <td>2019.000000</td>\n",
       "      <td>13.000000</td>\n",
       "      <td>38552.500000</td>\n",
       "      <td>144000.000000</td>\n",
       "    </tr>\n",
       "    <tr>\n",
       "      <td>max</td>\n",
       "      <td>35000.000000</td>\n",
       "      <td>2019.000000</td>\n",
       "      <td>4.000000</td>\n",
       "      <td>10.000000</td>\n",
       "      <td>250000.000000</td>\n",
       "      <td>18.000000</td>\n",
       "      <td>2019.000000</td>\n",
       "      <td>24.000000</td>\n",
       "      <td>51524.000000</td>\n",
       "      <td>250000.000000</td>\n",
       "    </tr>\n",
       "  </tbody>\n",
       "</table>\n",
       "</div>"
      ],
      "text/plain": [
       "              price   model_year    condition    cylinders       odometer  \\\n",
       "count   9716.000000  9716.000000  9716.000000  9716.000000    9716.000000   \n",
       "mean   11389.651914  2010.180115     2.647077     6.040963  112294.500000   \n",
       "std     7968.974831     5.138742     0.690113     1.664429   51778.219456   \n",
       "min        1.000000  1995.000000     1.000000     3.000000       0.000000   \n",
       "25%     5200.000000  2007.000000     2.000000     4.000000   80000.000000   \n",
       "50%     8999.000000  2011.000000     3.000000     6.000000  113000.000000   \n",
       "75%    15995.000000  2014.000000     3.000000     8.000000  144000.000000   \n",
       "max    35000.000000  2019.000000     4.000000    10.000000  250000.000000   \n",
       "\n",
       "       days_listed  posted_year  vehicle_age            id    avg_mileage  \n",
       "count  9716.000000  9716.000000  9716.000000   9716.000000    9716.000000  \n",
       "mean     11.187937  2018.302800     9.122684  25639.557225  112294.500000  \n",
       "std       4.624387     0.459493     5.151076  14896.146697   51778.219456  \n",
       "min       1.000000  2018.000000     1.000000      3.000000       0.000000  \n",
       "25%       8.000000  2018.000000     5.000000  12764.750000   80000.000000  \n",
       "50%      12.000000  2018.000000     8.000000  25618.500000  113000.000000  \n",
       "75%      15.000000  2019.000000    13.000000  38552.500000  144000.000000  \n",
       "max      18.000000  2019.000000    24.000000  51524.000000  250000.000000  "
      ]
     },
     "execution_count": 48,
     "metadata": {},
     "output_type": "execute_result"
    }
   ],
   "source": [
    "fast_df.describe()"
   ]
  },
  {
   "cell_type": "code",
   "execution_count": 49,
   "metadata": {},
   "outputs": [
    {
     "data": {
      "text/plain": [
       "model_year    -0.002585\n",
       "condition     -0.005437\n",
       "cylinders     -0.003983\n",
       "odometer      -0.003640\n",
       "is_4wd         0.001482\n",
       "days_listed    1.000000\n",
       "posted_year   -0.004985\n",
       "vehicle_age    0.002135\n",
       "id            -0.000507\n",
       "avg_mileage   -0.003640\n",
       "Name: days_listed, dtype: float64"
      ]
     },
     "execution_count": 49,
     "metadata": {},
     "output_type": "execute_result"
    }
   ],
   "source": [
    "fast_df[fast_df.columns[1:]].corr()['days_listed'][:]"
   ]
  },
  {
   "cell_type": "markdown",
   "metadata": {},
   "source": [
    "\n",
    "For really fast removals - **vehicle age** plays a bigger role with negative correlation, meaning that both variables move in the same direction together. **condition** also plays a bigger role with negative correlation, meaning as the condition decreases (gets worse), the ad lifetime gets longer, which makes sense!\n",
    "\n",
    "vehicle_age    0.010847\n",
    "condition     -0.010172"
   ]
  },
  {
   "cell_type": "code",
   "execution_count": 50,
   "metadata": {},
   "outputs": [
    {
     "name": "stdout",
     "output_type": "stream",
     "text": [
      "             days_listed\n",
      "paint_color             \n",
      "black               33.0\n",
      "blue                34.0\n",
      "brown               34.5\n",
      "custom              32.0\n",
      "green               35.0\n",
      "grey                33.0\n",
      "orange              32.0\n",
      "other               33.0\n",
      "purple              35.5\n",
      "red                 33.0\n",
      "silver              33.0\n",
      "white               33.0\n",
      "yellow              34.0\n"
     ]
    }
   ],
   "source": [
    "color_ad = filtered_df.pivot_table(\n",
    "    index='paint_color', values='days_listed', aggfunc='median'\n",
    ")\n",
    "\n",
    "print(color_ad)"
   ]
  },
  {
   "cell_type": "markdown",
   "metadata": {},
   "source": [
    "Finally, checking to see if the qualitative variable \"paint_color\" displays any pattern or influence on days_listed. The answer is negative considering all the median days_listed value by color is fairly similar."
   ]
  },
  {
   "cell_type": "markdown",
   "metadata": {},
   "source": [
    "## Average price per each type of vehicle"
   ]
  },
  {
   "cell_type": "markdown",
   "metadata": {},
   "source": [
    "[Analyze the number of ads and the average price for each type of vehicle. Plot a graph showing the dependence of the number of ads on the vehicle type. Select the two types with the greatest number of ads.]"
   ]
  },
  {
   "cell_type": "code",
   "execution_count": 51,
   "metadata": {},
   "outputs": [
    {
     "data": {
      "image/png": "[encoded data removed]",
      "text/plain": [
       "<Figure size 432x288 with 1 Axes>"
      ]
     },
     "metadata": {
      "needs_background": "light"
     },
     "output_type": "display_data"
    }
   ],
   "source": [
    "filtered_df['type'].value_counts().plot(kind='bar');"
   ]
  },
  {
   "cell_type": "markdown",
   "metadata": {},
   "source": [
    "Sedan and SUV are the two types with he greatest number of ads"
   ]
  },
  {
   "cell_type": "code",
   "execution_count": 52,
   "metadata": {},
   "outputs": [
    {
     "name": "stdout",
     "output_type": "stream",
     "text": [
      "                    price\n",
      "type                     \n",
      "SUV          10574.261165\n",
      "bus          16961.894737\n",
      "convertible  13113.565972\n",
      "coupe        13630.709316\n",
      "hatchback     6769.929630\n",
      "mini-van      8099.857447\n",
      "offroad      14584.950000\n",
      "other        10764.736264\n",
      "pickup       15413.911227\n",
      "sedan         7030.301182\n",
      "truck        15358.799610\n",
      "van          10417.547710\n",
      "wagon         9030.007246\n"
     ]
    }
   ],
   "source": [
    "price_type = filtered_df.pivot_table(\n",
    "    index='type', values='price', aggfunc='mean'\n",
    ")\n",
    "\n",
    "print(price_type)\n"
   ]
  },
  {
   "cell_type": "code",
   "execution_count": 53,
   "metadata": {},
   "outputs": [
    {
     "name": "stdout",
     "output_type": "stream",
     "text": [
      "                    price\n",
      "type                     \n",
      "bus          16961.894737\n",
      "pickup       15413.911227\n",
      "truck        15358.799610\n",
      "offroad      14584.950000\n",
      "coupe        13630.709316\n",
      "convertible  13113.565972\n",
      "other        10764.736264\n",
      "SUV          10574.261165\n",
      "van          10417.547710\n",
      "wagon         9030.007246\n",
      "mini-van      8099.857447\n",
      "sedan         7030.301182\n",
      "hatchback     6769.929630\n"
     ]
    }
   ],
   "source": [
    "price_type_final = price_type.reindex(price_type['price'].sort_values(ascending = False).index)\n",
    "print(price_type_final)"
   ]
  },
  {
   "cell_type": "markdown",
   "metadata": {},
   "source": [
    "bus, pickup, and truck are the top three expensive vehicles in this dataset"
   ]
  },
  {
   "cell_type": "markdown",
   "metadata": {},
   "source": [
    "## Price factors"
   ]
  },
  {
   "cell_type": "markdown",
   "metadata": {},
   "source": [
    "[What factors impact the price most? Take each of the popular types you detected at the previous stage and study whether the price depends on age, mileage, condition, transmission type, and color. For categorical variables (transmission type and color), plot box-and-whisker charts, and create scatterplots for the rest. When analyzing categorical variables, note that the categories must have at least 50 ads; otherwise, their parameters won't be valid for analysis.]"
   ]
  },
  {
   "cell_type": "markdown",
   "metadata": {},
   "source": [
    "[Make use of correlation matrix and correlation plots]"
   ]
  },
  {
   "cell_type": "code",
   "execution_count": 54,
   "metadata": {},
   "outputs": [
    {
     "data": {
      "image/png": "[encoded data removed]",
      "text/plain": [
       "<Figure size 648x648 with 9 Axes>"
      ]
     },
     "metadata": {
      "needs_background": "light"
     },
     "output_type": "display_data"
    }
   ],
   "source": [
    "price_matrix = filtered_df.pivot_table(\n",
    "    index='price', values=['vehicle_age', 'odometer', 'condition']\n",
    ")\n",
    "pd.plotting.scatter_matrix(price_matrix, figsize = (9, 9));"
   ]
  },
  {
   "cell_type": "markdown",
   "metadata": {},
   "source": [
    "Looking at the matrix, negative linear relationship is diaplayed for:\n",
    "\n",
    "condition-age\n",
    "condition-odometer\n",
    "\n",
    "positive linera relationship exists between odometer-age"
   ]
  },
  {
   "cell_type": "code",
   "execution_count": 55,
   "metadata": {},
   "outputs": [
    {
     "name": "stdout",
     "output_type": "stream",
     "text": [
      "               price\n",
      "paint_color         \n",
      "yellow       17490.0\n",
      "orange       15350.0\n",
      "white        10995.0\n",
      "black        10900.0\n",
      "other         9000.0\n",
      "red           8900.0\n",
      "grey          8499.5\n",
      "silver        7996.5\n",
      "custom        7995.0\n",
      "brown         7670.0\n",
      "blue          7500.0\n",
      "green         5995.0\n",
      "purple        5150.0\n"
     ]
    }
   ],
   "source": [
    "color_price = filtered_df.pivot_table(\n",
    "    index='paint_color', values='price', aggfunc='median'\n",
    ")\n",
    "color_price_final = color_price.reindex(color_price['price'].sort_values(ascending = False).index)\n",
    "print(color_price_final)\n",
    "\n"
   ]
  },
  {
   "cell_type": "code",
   "execution_count": 56,
   "metadata": {},
   "outputs": [
    {
     "name": "stdout",
     "output_type": "stream",
     "text": [
      "              price\n",
      "transmission       \n",
      "automatic     36591\n",
      "manual         1989\n",
      "other          1482\n"
     ]
    }
   ],
   "source": [
    "transmission_price = filtered_df.pivot_table(\n",
    "    index='transmission', values='price', aggfunc='count'\n",
    ")\n",
    "transmission_price_final = transmission_price.reindex(transmission_price['price'].sort_values(ascending = False).index)\n",
    "print(transmission_price_final)\n"
   ]
  },
  {
   "cell_type": "markdown",
   "metadata": {},
   "source": [
    "Yellow, Orange, White, and Black cars charge the most, in descending order.\n",
    "Automatic is more expensive than manual."
   ]
  },
  {
   "cell_type": "markdown",
   "metadata": {},
   "source": [
    "<div class=\"alert alert-block alert-success\">\n",
    "<b>Reviewer's comment v1:</b>\n",
    "    \n",
    "Overall an excellent data analysis with correct conclusions and different graph types.\n",
    "\n",
    "Great that you managed to create a correlation matrix (heatmap) to check the correlation of different features.\n",
    "\n",
    "</div>"
   ]
  },
  {
   "cell_type": "markdown",
   "metadata": {},
   "source": [
    "## General conclusion\n",
    "\n",
    "[List your important conclusions in this final section, make sure they include those that led you to the way you processed and analyzed the data. Cover the missing values, duplicates, outliers and possible reasons and solutions for problematic artifacts that you had to address. Don't forget to remove all bracketed comments before submitting your project.]"
   ]
  },
  {
   "cell_type": "markdown",
   "metadata": {},
   "source": [
    "#### Pre-analysis conclusion:\n",
    "    \n",
    "    Before analysis can happen, the next first step is to clean the dataset and conduct data pre-processing. This requires a few steps as well - an obvious procedure here is to treat the missing values. In some cases there's an obvious way to replace missing values (i.e., a Boolean field). There are cases when the fact that a value is missing is significant. In such instances, don't fill in the values.\n",
    "\n",
    "    Second step is to convert the data to the required type - in this case, convert decimal float data to integer in 3 columns indicated above(model_year, cylinders, odometer).\n",
    "    \n",
    "    \n",
    "#### Outlier identification:\n",
    "    For the \"Price\" parameter, looking at the boxplot, clear to see that most of the data lies within the 0-35000 range. Numbers greater than 35000 condisered outlier.\n",
    "    For the \"Vehicle Age\" Parameter, Most of the data congregates between 0 - 24 years. A few data points are greater than 24, and can be considered as outliers.\n",
    "    For the \"Odometer\" parameter, 0-250000 is a typical range. Numbers greater than 250000 are outliers.\n",
    "    Condition\" is an interesting parameter, the value can only be an integer from 0 to 5. Most of the cars are conditioned betwen 1 to 4, i.e., not salvaged nor new, which makes sense given the nature of the assignment/dataset.\n",
    "    \n",
    "    \n",
    "#### Core parameter conclusion:\n",
    "    The price parameter is right-skewed, sharply increasing from 0 to 5000, with most car sales recorded peaking at 5000. Then as the price increases, used car sales decreases.\n",
    "    For the vehicle age parameter, it is more common for the car to be between 1 and 14 years old -- with a fairly even distribution between 1-14, peaking at 5-6 years old. Past 14 years old, sales number recorded decreases as vehicle age increases. \n",
    "    The Odometer parameter is almost a perfectly bell-shaped curve, with steady increase from 0 to 90000, peaking at 100000 to 1200000, and then car sales decreases as the odometer increases past 1200000.\n",
    "    Most of the sales recorded are for cars with a 4.0, 6.0 or 8.0 cylinder.\n",
    "    In terms of condition, most of the car sales recorded scored at 2 or 3, meaning they are good or excellent. Fewer are like new or fair. This finding makes common sense as second handed shoppers gravitates towards medium conditioned/mildly used cars.\n",
    "    \n",
    "    \n",
    "#### Ads Lifetime conclusion:\n",
    "    The mean lifetime of an ad is 39-40 days, and the median is not too different and is about 33 days.\n",
    "    Although every correlation value is not perfectly strong, i.e. -1 (strong negative relationship) and +1 (strong positive relationship), there are three more prominent factors, all sharing a positive relationships.\n",
    "    - odometer\n",
    "    - is_4wd\n",
    "    - avg_mileage\n",
    "    \n",
    "    For the really slow removals, i.e. the outliers - **condition** and **cylinders** are more prominent factors, and both have a negative correlation with ad removal time, i.e., as the condition decreases (gets worse), or when the cylinder specification is lower, the ad lifetime gets longer. **is_fwd** has a negative correlation with ad removal rate.\n",
    "\n",
    "    condition     -0.032084\n",
    "    cylinders     -0.045318\n",
    "    is_4wd        -0.020677\n",
    "    \n",
    "    \n",
    "    For really fast removals - **vehicle age** plays a bigger role with negative correlation, meaning that both variables move in the same direction together. **condition** also plays a bigger role with negative correlation, meaning as the condition decreases (gets worse), the ad lifetime gets longer, which makes sense!\n",
    "\n",
    "    vehicle_age    0.010847\n",
    "    condition     -0.010172\n",
    "\n",
    "#### Price-relationed conclusions:\n",
    "    1. Sedan and SUV are the two types with he greatest number of ads\n",
    "    2. Bus, pickup, and truck are the top three expensive vehicles in this dataset\n",
    "    3. When analyzing price factors with a scatter matrix, negative linear relationship is diaplayed for: condition-age and condition-odometer. A positive linera relationship exists between odometer-age.\n",
    "    4. Yellow, Orange, White, and Black cars charge the most, in descending order.\n",
    "    5. Automatic is more expensive than manual.\n",
    "    "
   ]
  },
  {
   "cell_type": "markdown",
   "metadata": {},
   "source": [
    "<div class=\"alert alert-block alert-success\">\n",
    "<b>Reviewer's comment v1:</b>\n",
    "    \n",
    "- Overall you conducted great research with correct interim findings, clean code and nice visualisation.\n",
    "- I also like your overall conclusions. It is very structured and provides insights about what you accomplished and recommendations to the business."
   ]
  },
  {
   "cell_type": "markdown",
   "metadata": {},
   "source": [
    "<div class=\"alert alert-info\"> <b>Student comments:</b> Thank you for your detailed feedback! I have revised my previous version according to your comments. Please let me know if this version looks good. Thanks! </div> "
   ]
  },
  {
   "cell_type": "markdown",
   "metadata": {},
   "source": [
    "<div class=\"alert alert-success\">\n",
    "<b>Reviewer's comment v2:</b>\n",
    "    \n",
    "Thanks for making all these changes. You greatly improved your project! "
   ]
  }
 ],
 "metadata": {
  "ExecuteTimeLog": [
   {
    "duration": 828,
    "start_time": "2021-11-16T09:21:11.304Z"
   },
   {
    "duration": 893,
    "start_time": "2021-11-16T09:21:17.728Z"
   },
   {
    "duration": 1150,
    "start_time": "2021-11-16T09:21:29.568Z"
   },
   {
    "duration": 3,
    "start_time": "2021-11-16T09:24:14.495Z"
   },
   {
    "duration": 120,
    "start_time": "2021-11-16T09:24:46.630Z"
   },
   {
    "duration": 3,
    "start_time": "2021-11-16T09:28:27.882Z"
   },
   {
    "duration": 4,
    "start_time": "2021-11-16T09:29:54.281Z"
   },
   {
    "duration": 3,
    "start_time": "2021-11-16T09:30:45.936Z"
   },
   {
    "duration": 4,
    "start_time": "2021-11-16T09:31:06.300Z"
   },
   {
    "duration": 113,
    "start_time": "2021-11-16T09:31:37.208Z"
   },
   {
    "duration": 143,
    "start_time": "2021-11-16T09:31:48.656Z"
   },
   {
    "duration": 98,
    "start_time": "2021-11-16T09:31:55.678Z"
   },
   {
    "duration": 3,
    "start_time": "2021-11-16T09:32:08.535Z"
   },
   {
    "duration": 111,
    "start_time": "2021-11-16T09:32:10.120Z"
   },
   {
    "duration": 3,
    "start_time": "2021-11-16T09:32:15.732Z"
   },
   {
    "duration": 4,
    "start_time": "2021-11-16T09:32:29.423Z"
   },
   {
    "duration": 3,
    "start_time": "2021-11-16T10:03:03.074Z"
   },
   {
    "duration": 3,
    "start_time": "2021-11-16T10:10:01.288Z"
   },
   {
    "duration": 3,
    "start_time": "2021-11-16T10:10:46.923Z"
   },
   {
    "duration": 121,
    "start_time": "2021-11-16T10:37:46.494Z"
   },
   {
    "duration": 125,
    "start_time": "2021-11-16T10:38:20.632Z"
   },
   {
    "duration": 112,
    "start_time": "2021-11-16T10:46:53.001Z"
   },
   {
    "duration": 110,
    "start_time": "2021-11-16T10:48:25.775Z"
   },
   {
    "duration": 3,
    "start_time": "2021-11-16T10:50:18.720Z"
   },
   {
    "duration": 4,
    "start_time": "2021-11-16T10:50:37.649Z"
   },
   {
    "duration": 2,
    "start_time": "2021-11-16T10:50:51.884Z"
   },
   {
    "duration": 3,
    "start_time": "2021-11-16T10:51:56.237Z"
   },
   {
    "duration": 101,
    "start_time": "2021-11-16T10:53:13.791Z"
   },
   {
    "duration": 3,
    "start_time": "2021-11-16T10:55:59.186Z"
   },
   {
    "duration": 3,
    "start_time": "2021-11-16T10:56:10.751Z"
   },
   {
    "duration": 3,
    "start_time": "2021-11-16T10:56:49.038Z"
   },
   {
    "duration": 3,
    "start_time": "2021-11-16T10:56:49.174Z"
   },
   {
    "duration": 4,
    "start_time": "2021-11-16T10:56:49.414Z"
   },
   {
    "duration": 3,
    "start_time": "2021-11-16T10:56:49.680Z"
   },
   {
    "duration": 3,
    "start_time": "2021-11-16T10:56:50.370Z"
   },
   {
    "duration": 114,
    "start_time": "2021-11-16T10:59:34.518Z"
   },
   {
    "duration": 3,
    "start_time": "2021-11-16T11:01:41.201Z"
   },
   {
    "duration": 116,
    "start_time": "2021-11-16T11:01:48.754Z"
   },
   {
    "duration": 3,
    "start_time": "2021-11-16T11:02:16.685Z"
   },
   {
    "duration": 3,
    "start_time": "2021-11-16T11:02:19.479Z"
   },
   {
    "duration": 3,
    "start_time": "2021-11-16T11:02:47.067Z"
   },
   {
    "duration": 3,
    "start_time": "2021-11-16T11:02:49.353Z"
   },
   {
    "duration": 3,
    "start_time": "2021-11-16T11:03:07.835Z"
   },
   {
    "duration": 3,
    "start_time": "2021-11-16T11:03:07.953Z"
   },
   {
    "duration": 112,
    "start_time": "2021-11-16T11:07:52.072Z"
   },
   {
    "duration": 187,
    "start_time": "2021-11-16T11:09:23.468Z"
   },
   {
    "duration": 4,
    "start_time": "2021-11-16T11:10:01.455Z"
   },
   {
    "duration": 3,
    "start_time": "2021-11-16T11:10:05.069Z"
   },
   {
    "duration": 4,
    "start_time": "2021-11-16T11:10:13.376Z"
   },
   {
    "duration": 3,
    "start_time": "2021-11-16T11:10:14.434Z"
   },
   {
    "duration": 3,
    "start_time": "2021-11-16T11:10:22.853Z"
   },
   {
    "duration": 4,
    "start_time": "2021-11-16T11:27:29.279Z"
   },
   {
    "duration": 4,
    "start_time": "2021-11-16T11:29:08.919Z"
   },
   {
    "duration": 118,
    "start_time": "2021-11-16T11:29:46.703Z"
   },
   {
    "duration": 437,
    "start_time": "2021-11-16T11:36:02.181Z"
   },
   {
    "duration": 157,
    "start_time": "2021-11-16T11:36:14.388Z"
   },
   {
    "duration": 207,
    "start_time": "2021-11-16T11:47:15.898Z"
   },
   {
    "duration": 3,
    "start_time": "2021-11-16T11:53:52.092Z"
   },
   {
    "duration": 3,
    "start_time": "2021-11-16T11:53:52.236Z"
   },
   {
    "duration": 3,
    "start_time": "2021-11-16T11:59:12.005Z"
   },
   {
    "duration": 112,
    "start_time": "2021-11-16T12:00:33.446Z"
   },
   {
    "duration": 3,
    "start_time": "2021-11-16T12:02:14.453Z"
   },
   {
    "duration": 3,
    "start_time": "2021-11-16T12:02:39.512Z"
   },
   {
    "duration": 106,
    "start_time": "2021-11-16T12:03:03.460Z"
   },
   {
    "duration": 999,
    "start_time": "2021-12-15T17:39:37.287Z"
   },
   {
    "duration": 98,
    "start_time": "2021-12-15T17:39:44.122Z"
   },
   {
    "duration": 12,
    "start_time": "2021-12-15T17:39:49.268Z"
   },
   {
    "duration": 21,
    "start_time": "2021-12-15T17:39:57.206Z"
   },
   {
    "duration": 14,
    "start_time": "2021-12-15T17:40:09.388Z"
   },
   {
    "duration": 4,
    "start_time": "2021-12-15T17:40:11.630Z"
   },
   {
    "duration": 20,
    "start_time": "2021-12-15T17:40:18.513Z"
   },
   {
    "duration": 26,
    "start_time": "2021-12-15T17:46:18.548Z"
   },
   {
    "duration": 6,
    "start_time": "2021-12-15T18:16:24.454Z"
   },
   {
    "duration": 12,
    "start_time": "2021-12-15T18:16:32.130Z"
   },
   {
    "duration": 40,
    "start_time": "2021-12-15T23:47:43.566Z"
   },
   {
    "duration": 296,
    "start_time": "2021-12-15T23:50:29.654Z"
   },
   {
    "duration": 926,
    "start_time": "2021-12-15T23:50:40.117Z"
   },
   {
    "duration": 90,
    "start_time": "2021-12-15T23:50:41.989Z"
   },
   {
    "duration": 8,
    "start_time": "2021-12-15T23:50:45.117Z"
   },
   {
    "duration": 14,
    "start_time": "2021-12-15T23:50:47.888Z"
   },
   {
    "duration": 39,
    "start_time": "2021-12-15T23:50:52.108Z"
   },
   {
    "duration": 12,
    "start_time": "2021-12-15T23:51:00.401Z"
   },
   {
    "duration": 27,
    "start_time": "2021-12-15T23:51:08.333Z"
   },
   {
    "duration": 21,
    "start_time": "2021-12-15T23:52:58.422Z"
   },
   {
    "duration": 1781,
    "start_time": "2021-12-15T23:55:35.040Z"
   },
   {
    "duration": 7,
    "start_time": "2021-12-15T23:55:49.947Z"
   },
   {
    "duration": 8,
    "start_time": "2021-12-15T23:55:57.915Z"
   },
   {
    "duration": 7,
    "start_time": "2021-12-15T23:58:22.256Z"
   },
   {
    "duration": 256,
    "start_time": "2021-12-15T23:59:13.284Z"
   },
   {
    "duration": 11,
    "start_time": "2021-12-15T23:59:19.664Z"
   },
   {
    "duration": 11,
    "start_time": "2021-12-15T23:59:36.447Z"
   },
   {
    "duration": 5,
    "start_time": "2021-12-15T23:59:52.544Z"
   },
   {
    "duration": 7,
    "start_time": "2021-12-15T23:59:59.450Z"
   },
   {
    "duration": 13,
    "start_time": "2021-12-16T00:00:08.118Z"
   },
   {
    "duration": 14,
    "start_time": "2021-12-16T00:00:30.474Z"
   },
   {
    "duration": 10,
    "start_time": "2021-12-16T00:00:57.272Z"
   },
   {
    "duration": 21,
    "start_time": "2021-12-16T00:01:05.382Z"
   },
   {
    "duration": 16,
    "start_time": "2021-12-16T00:02:19.837Z"
   },
   {
    "duration": 32,
    "start_time": "2021-12-16T00:09:51.216Z"
   },
   {
    "duration": 264,
    "start_time": "2021-12-16T00:11:28.297Z"
   },
   {
    "duration": 13,
    "start_time": "2021-12-16T00:14:24.349Z"
   },
   {
    "duration": 6,
    "start_time": "2021-12-16T00:15:32.621Z"
   },
   {
    "duration": 5,
    "start_time": "2021-12-16T00:15:43.705Z"
   },
   {
    "duration": 6,
    "start_time": "2021-12-16T00:16:36.968Z"
   },
   {
    "duration": 20,
    "start_time": "2021-12-16T00:16:46.034Z"
   },
   {
    "duration": 256,
    "start_time": "2021-12-16T00:18:35.657Z"
   },
   {
    "duration": 280,
    "start_time": "2021-12-16T00:21:19.791Z"
   },
   {
    "duration": 5,
    "start_time": "2021-12-16T00:21:59.111Z"
   },
   {
    "duration": 258,
    "start_time": "2021-12-16T00:22:28.517Z"
   },
   {
    "duration": 279,
    "start_time": "2021-12-16T00:22:50.412Z"
   },
   {
    "duration": 276,
    "start_time": "2021-12-16T00:23:02.761Z"
   },
   {
    "duration": 1043,
    "start_time": "2021-12-16T00:23:41.848Z"
   },
   {
    "duration": 33,
    "start_time": "2021-12-16T00:23:56.876Z"
   },
   {
    "duration": 1005,
    "start_time": "2021-12-16T00:24:00.515Z"
   },
   {
    "duration": 21,
    "start_time": "2021-12-16T00:25:12.762Z"
   },
   {
    "duration": 32,
    "start_time": "2021-12-16T00:25:22.007Z"
   },
   {
    "duration": 19,
    "start_time": "2021-12-16T00:25:25.162Z"
   },
   {
    "duration": 248,
    "start_time": "2021-12-16T00:25:44.497Z"
   },
   {
    "duration": 32,
    "start_time": "2021-12-16T00:26:06.416Z"
   },
   {
    "duration": 20,
    "start_time": "2021-12-16T00:26:13.632Z"
   },
   {
    "duration": 7,
    "start_time": "2021-12-16T00:26:54.900Z"
   },
   {
    "duration": 44,
    "start_time": "2021-12-16T00:27:33.237Z"
   },
   {
    "duration": 28,
    "start_time": "2021-12-16T00:27:42.373Z"
   },
   {
    "duration": 26,
    "start_time": "2021-12-16T00:56:38.571Z"
   },
   {
    "duration": 20,
    "start_time": "2021-12-16T00:56:44.464Z"
   },
   {
    "duration": 20,
    "start_time": "2021-12-16T00:56:52.197Z"
   },
   {
    "duration": 33,
    "start_time": "2021-12-16T00:57:50.163Z"
   },
   {
    "duration": 992,
    "start_time": "2021-12-16T00:57:54.756Z"
   },
   {
    "duration": 19,
    "start_time": "2021-12-16T00:58:14.881Z"
   },
   {
    "duration": 41,
    "start_time": "2021-12-16T00:58:18.388Z"
   },
   {
    "duration": 21,
    "start_time": "2021-12-16T00:58:24.193Z"
   },
   {
    "duration": 287,
    "start_time": "2021-12-16T00:59:11.854Z"
   },
   {
    "duration": 981,
    "start_time": "2021-12-16T00:59:19.221Z"
   },
   {
    "duration": 89,
    "start_time": "2021-12-16T00:59:20.204Z"
   },
   {
    "duration": 8,
    "start_time": "2021-12-16T00:59:20.296Z"
   },
   {
    "duration": 27,
    "start_time": "2021-12-16T00:59:20.306Z"
   },
   {
    "duration": 53,
    "start_time": "2021-12-16T00:59:20.334Z"
   },
   {
    "duration": 18,
    "start_time": "2021-12-16T00:59:20.389Z"
   },
   {
    "duration": 85,
    "start_time": "2021-12-16T00:59:20.409Z"
   },
   {
    "duration": -135,
    "start_time": "2021-12-16T00:59:20.632Z"
   },
   {
    "duration": -135,
    "start_time": "2021-12-16T00:59:20.633Z"
   },
   {
    "duration": -136,
    "start_time": "2021-12-16T00:59:20.635Z"
   },
   {
    "duration": -137,
    "start_time": "2021-12-16T00:59:20.636Z"
   },
   {
    "duration": -138,
    "start_time": "2021-12-16T00:59:20.638Z"
   },
   {
    "duration": -138,
    "start_time": "2021-12-16T00:59:20.639Z"
   },
   {
    "duration": -138,
    "start_time": "2021-12-16T00:59:20.640Z"
   },
   {
    "duration": -138,
    "start_time": "2021-12-16T00:59:20.641Z"
   },
   {
    "duration": -184,
    "start_time": "2021-12-16T00:59:20.688Z"
   },
   {
    "duration": -194,
    "start_time": "2021-12-16T00:59:20.699Z"
   },
   {
    "duration": -196,
    "start_time": "2021-12-16T00:59:20.701Z"
   },
   {
    "duration": -200,
    "start_time": "2021-12-16T00:59:20.706Z"
   },
   {
    "duration": -201,
    "start_time": "2021-12-16T00:59:20.708Z"
   },
   {
    "duration": -201,
    "start_time": "2021-12-16T00:59:20.709Z"
   },
   {
    "duration": -201,
    "start_time": "2021-12-16T00:59:20.710Z"
   },
   {
    "duration": -202,
    "start_time": "2021-12-16T00:59:20.711Z"
   },
   {
    "duration": -202,
    "start_time": "2021-12-16T00:59:20.712Z"
   },
   {
    "duration": -202,
    "start_time": "2021-12-16T00:59:20.714Z"
   },
   {
    "duration": -202,
    "start_time": "2021-12-16T00:59:20.715Z"
   },
   {
    "duration": -202,
    "start_time": "2021-12-16T00:59:20.716Z"
   },
   {
    "duration": -208,
    "start_time": "2021-12-16T00:59:20.723Z"
   },
   {
    "duration": -320,
    "start_time": "2021-12-16T00:59:20.836Z"
   },
   {
    "duration": -321,
    "start_time": "2021-12-16T00:59:20.838Z"
   },
   {
    "duration": 967,
    "start_time": "2021-12-16T00:59:44.932Z"
   },
   {
    "duration": 89,
    "start_time": "2021-12-16T00:59:45.901Z"
   },
   {
    "duration": 8,
    "start_time": "2021-12-16T00:59:45.992Z"
   },
   {
    "duration": 26,
    "start_time": "2021-12-16T00:59:46.002Z"
   },
   {
    "duration": 53,
    "start_time": "2021-12-16T00:59:46.030Z"
   },
   {
    "duration": 17,
    "start_time": "2021-12-16T00:59:46.085Z"
   },
   {
    "duration": 18,
    "start_time": "2021-12-16T00:59:46.104Z"
   },
   {
    "duration": 25,
    "start_time": "2021-12-16T00:59:46.124Z"
   },
   {
    "duration": 14,
    "start_time": "2021-12-16T00:59:46.165Z"
   },
   {
    "duration": 9,
    "start_time": "2021-12-16T00:59:46.182Z"
   },
   {
    "duration": 18,
    "start_time": "2021-12-16T00:59:46.193Z"
   },
   {
    "duration": 67,
    "start_time": "2021-12-16T00:59:46.213Z"
   },
   {
    "duration": 19,
    "start_time": "2021-12-16T00:59:46.282Z"
   },
   {
    "duration": 1257,
    "start_time": "2021-12-16T00:59:46.303Z"
   },
   {
    "duration": 10,
    "start_time": "2021-12-16T00:59:47.553Z"
   },
   {
    "duration": 10,
    "start_time": "2021-12-16T00:59:47.555Z"
   },
   {
    "duration": 10,
    "start_time": "2021-12-16T00:59:47.556Z"
   },
   {
    "duration": 11,
    "start_time": "2021-12-16T00:59:47.557Z"
   },
   {
    "duration": 11,
    "start_time": "2021-12-16T00:59:47.558Z"
   },
   {
    "duration": -188,
    "start_time": "2021-12-16T00:59:47.758Z"
   },
   {
    "duration": -192,
    "start_time": "2021-12-16T00:59:47.764Z"
   },
   {
    "duration": -193,
    "start_time": "2021-12-16T00:59:47.766Z"
   },
   {
    "duration": -193,
    "start_time": "2021-12-16T00:59:47.767Z"
   },
   {
    "duration": -192,
    "start_time": "2021-12-16T00:59:47.768Z"
   },
   {
    "duration": -192,
    "start_time": "2021-12-16T00:59:47.769Z"
   },
   {
    "duration": -191,
    "start_time": "2021-12-16T00:59:47.770Z"
   },
   {
    "duration": -190,
    "start_time": "2021-12-16T00:59:47.771Z"
   },
   {
    "duration": -189,
    "start_time": "2021-12-16T00:59:47.772Z"
   },
   {
    "duration": -189,
    "start_time": "2021-12-16T00:59:47.773Z"
   },
   {
    "duration": 21,
    "start_time": "2021-12-16T01:00:19.791Z"
   },
   {
    "duration": 16,
    "start_time": "2021-12-16T01:00:29.862Z"
   },
   {
    "duration": 28,
    "start_time": "2021-12-16T01:00:45.105Z"
   },
   {
    "duration": 29,
    "start_time": "2021-12-16T01:01:22.535Z"
   },
   {
    "duration": 528,
    "start_time": "2021-12-19T06:01:25.289Z"
   },
   {
    "duration": 1221,
    "start_time": "2021-12-19T06:01:44.252Z"
   },
   {
    "duration": 113,
    "start_time": "2021-12-19T06:01:45.475Z"
   },
   {
    "duration": 13,
    "start_time": "2021-12-19T06:01:45.591Z"
   },
   {
    "duration": 34,
    "start_time": "2021-12-19T06:01:45.606Z"
   },
   {
    "duration": 63,
    "start_time": "2021-12-19T06:01:45.643Z"
   },
   {
    "duration": 27,
    "start_time": "2021-12-19T06:01:45.708Z"
   },
   {
    "duration": 14,
    "start_time": "2021-12-19T06:01:45.760Z"
   },
   {
    "duration": 34,
    "start_time": "2021-12-19T06:01:45.778Z"
   },
   {
    "duration": 52,
    "start_time": "2021-12-19T06:01:45.815Z"
   },
   {
    "duration": 14,
    "start_time": "2021-12-19T06:01:45.870Z"
   },
   {
    "duration": 30,
    "start_time": "2021-12-19T06:01:45.887Z"
   },
   {
    "duration": 69,
    "start_time": "2021-12-19T06:01:45.920Z"
   },
   {
    "duration": 24,
    "start_time": "2021-12-19T06:01:45.991Z"
   },
   {
    "duration": 74,
    "start_time": "2021-12-19T06:01:46.018Z"
   },
   {
    "duration": 3,
    "start_time": "2021-12-19T06:01:46.094Z"
   },
   {
    "duration": 7,
    "start_time": "2021-12-19T06:01:46.099Z"
   },
   {
    "duration": 507,
    "start_time": "2021-12-19T06:01:46.108Z"
   },
   {
    "duration": -178,
    "start_time": "2021-12-19T06:01:46.796Z"
   },
   {
    "duration": -179,
    "start_time": "2021-12-19T06:01:46.798Z"
   },
   {
    "duration": -179,
    "start_time": "2021-12-19T06:01:46.800Z"
   },
   {
    "duration": -179,
    "start_time": "2021-12-19T06:01:46.801Z"
   },
   {
    "duration": -180,
    "start_time": "2021-12-19T06:01:46.803Z"
   },
   {
    "duration": -179,
    "start_time": "2021-12-19T06:01:46.804Z"
   },
   {
    "duration": -180,
    "start_time": "2021-12-19T06:01:46.806Z"
   },
   {
    "duration": -180,
    "start_time": "2021-12-19T06:01:46.807Z"
   },
   {
    "duration": -179,
    "start_time": "2021-12-19T06:01:46.808Z"
   },
   {
    "duration": -180,
    "start_time": "2021-12-19T06:01:46.810Z"
   },
   {
    "duration": -181,
    "start_time": "2021-12-19T06:01:46.812Z"
   },
   {
    "duration": -181,
    "start_time": "2021-12-19T06:01:46.814Z"
   },
   {
    "duration": 378,
    "start_time": "2021-12-19T06:02:21.735Z"
   },
   {
    "duration": 123,
    "start_time": "2021-12-19T06:03:18.019Z"
   },
   {
    "duration": 394,
    "start_time": "2021-12-19T06:03:27.814Z"
   },
   {
    "duration": 35,
    "start_time": "2021-12-19T06:04:00.071Z"
   },
   {
    "duration": 384,
    "start_time": "2021-12-19T06:04:37.185Z"
   },
   {
    "duration": 162,
    "start_time": "2021-12-19T06:08:08.063Z"
   },
   {
    "duration": 388,
    "start_time": "2021-12-19T06:09:15.401Z"
   },
   {
    "duration": 40,
    "start_time": "2021-12-19T06:09:38.215Z"
   },
   {
    "duration": 38,
    "start_time": "2021-12-19T06:10:07.277Z"
   },
   {
    "duration": 2677,
    "start_time": "2021-12-19T06:10:17.510Z"
   },
   {
    "duration": 54,
    "start_time": "2021-12-19T06:10:28.224Z"
   },
   {
    "duration": 1274,
    "start_time": "2021-12-19T06:10:53.957Z"
   },
   {
    "duration": 718,
    "start_time": "2021-12-19T06:11:00.015Z"
   },
   {
    "duration": 5,
    "start_time": "2021-12-19T06:11:24.211Z"
   },
   {
    "duration": 5,
    "start_time": "2021-12-19T06:11:41.524Z"
   },
   {
    "duration": 20,
    "start_time": "2021-12-19T06:11:49.487Z"
   },
   {
    "duration": 6,
    "start_time": "2021-12-19T06:13:41.802Z"
   },
   {
    "duration": 5,
    "start_time": "2021-12-19T06:13:59.251Z"
   },
   {
    "duration": 22,
    "start_time": "2021-12-19T06:14:07.027Z"
   },
   {
    "duration": 54,
    "start_time": "2021-12-19T06:15:03.637Z"
   },
   {
    "duration": 1254,
    "start_time": "2021-12-19T06:15:20.710Z"
   },
   {
    "duration": 116,
    "start_time": "2021-12-19T06:15:21.967Z"
   },
   {
    "duration": 13,
    "start_time": "2021-12-19T06:15:22.086Z"
   },
   {
    "duration": 28,
    "start_time": "2021-12-19T06:15:22.101Z"
   },
   {
    "duration": 73,
    "start_time": "2021-12-19T06:15:22.131Z"
   },
   {
    "duration": 26,
    "start_time": "2021-12-19T06:15:22.206Z"
   },
   {
    "duration": 35,
    "start_time": "2021-12-19T06:15:22.235Z"
   },
   {
    "duration": 35,
    "start_time": "2021-12-19T06:15:22.274Z"
   },
   {
    "duration": 53,
    "start_time": "2021-12-19T06:15:22.312Z"
   },
   {
    "duration": 13,
    "start_time": "2021-12-19T06:15:22.368Z"
   },
   {
    "duration": 29,
    "start_time": "2021-12-19T06:15:22.384Z"
   },
   {
    "duration": 58,
    "start_time": "2021-12-19T06:15:22.416Z"
   },
   {
    "duration": 22,
    "start_time": "2021-12-19T06:15:22.476Z"
   },
   {
    "duration": 72,
    "start_time": "2021-12-19T06:15:22.501Z"
   },
   {
    "duration": 4,
    "start_time": "2021-12-19T06:15:22.576Z"
   },
   {
    "duration": 6,
    "start_time": "2021-12-19T06:15:22.583Z"
   },
   {
    "duration": 84,
    "start_time": "2021-12-19T06:15:22.591Z"
   },
   {
    "duration": 3,
    "start_time": "2021-12-19T06:15:22.677Z"
   },
   {
    "duration": 5,
    "start_time": "2021-12-19T06:15:22.682Z"
   },
   {
    "duration": 9,
    "start_time": "2021-12-19T06:15:22.689Z"
   },
   {
    "duration": 6,
    "start_time": "2021-12-19T06:15:22.700Z"
   },
   {
    "duration": 5,
    "start_time": "2021-12-19T06:15:22.708Z"
   },
   {
    "duration": 8,
    "start_time": "2021-12-19T06:15:22.717Z"
   },
   {
    "duration": 6,
    "start_time": "2021-12-19T06:15:22.727Z"
   },
   {
    "duration": 25,
    "start_time": "2021-12-19T06:15:22.735Z"
   },
   {
    "duration": 5,
    "start_time": "2021-12-19T06:15:22.762Z"
   },
   {
    "duration": 5,
    "start_time": "2021-12-19T06:15:22.769Z"
   },
   {
    "duration": 6,
    "start_time": "2021-12-19T06:15:22.777Z"
   },
   {
    "duration": 7,
    "start_time": "2021-12-19T06:15:22.785Z"
   },
   {
    "duration": 17,
    "start_time": "2021-12-19T06:16:59.496Z"
   },
   {
    "duration": 33,
    "start_time": "2021-12-19T06:17:09.794Z"
   },
   {
    "duration": 40,
    "start_time": "2021-12-19T06:18:39.958Z"
   },
   {
    "duration": 35,
    "start_time": "2021-12-19T06:20:08.360Z"
   },
   {
    "duration": 36,
    "start_time": "2021-12-19T06:21:20.000Z"
   },
   {
    "duration": 43,
    "start_time": "2021-12-19T06:22:14.969Z"
   },
   {
    "duration": 61,
    "start_time": "2021-12-19T06:22:25.641Z"
   },
   {
    "duration": 60,
    "start_time": "2021-12-19T06:22:45.254Z"
   },
   {
    "duration": 62,
    "start_time": "2021-12-19T06:23:36.400Z"
   },
   {
    "duration": 77,
    "start_time": "2021-12-19T06:25:54.268Z"
   },
   {
    "duration": 120,
    "start_time": "2021-12-19T06:27:52.536Z"
   },
   {
    "duration": 41,
    "start_time": "2021-12-19T06:28:17.556Z"
   },
   {
    "duration": 91,
    "start_time": "2021-12-19T06:28:19.959Z"
   },
   {
    "duration": 627,
    "start_time": "2021-12-19T06:28:40.810Z"
   },
   {
    "duration": 449,
    "start_time": "2021-12-19T06:28:45.283Z"
   },
   {
    "duration": 27,
    "start_time": "2021-12-19T06:28:49.792Z"
   },
   {
    "duration": 645,
    "start_time": "2021-12-19T06:29:22.612Z"
   },
   {
    "duration": 44,
    "start_time": "2021-12-19T06:29:28.551Z"
   },
   {
    "duration": 1276,
    "start_time": "2021-12-19T06:30:35.391Z"
   },
   {
    "duration": 120,
    "start_time": "2021-12-19T06:30:36.670Z"
   },
   {
    "duration": 13,
    "start_time": "2021-12-19T06:30:36.793Z"
   },
   {
    "duration": 27,
    "start_time": "2021-12-19T06:30:36.809Z"
   },
   {
    "duration": 56,
    "start_time": "2021-12-19T06:30:36.858Z"
   },
   {
    "duration": 26,
    "start_time": "2021-12-19T06:30:36.916Z"
   },
   {
    "duration": 13,
    "start_time": "2021-12-19T06:30:36.960Z"
   },
   {
    "duration": 41,
    "start_time": "2021-12-19T06:30:36.977Z"
   },
   {
    "duration": 53,
    "start_time": "2021-12-19T06:30:37.022Z"
   },
   {
    "duration": 14,
    "start_time": "2021-12-19T06:30:37.078Z"
   },
   {
    "duration": 65,
    "start_time": "2021-12-19T06:30:37.094Z"
   },
   {
    "duration": 31,
    "start_time": "2021-12-19T06:30:37.162Z"
   },
   {
    "duration": 23,
    "start_time": "2021-12-19T06:30:37.196Z"
   },
   {
    "duration": 75,
    "start_time": "2021-12-19T06:30:37.223Z"
   },
   {
    "duration": 124,
    "start_time": "2021-12-19T06:30:37.300Z"
   },
   {
    "duration": 44,
    "start_time": "2021-12-19T06:30:37.427Z"
   },
   {
    "duration": 90,
    "start_time": "2021-12-19T06:30:37.473Z"
   },
   {
    "duration": 27,
    "start_time": "2021-12-19T06:30:37.566Z"
   },
   {
    "duration": 33,
    "start_time": "2021-12-19T06:30:37.596Z"
   },
   {
    "duration": 3,
    "start_time": "2021-12-19T06:30:37.659Z"
   },
   {
    "duration": 7,
    "start_time": "2021-12-19T06:30:37.665Z"
   },
   {
    "duration": 5,
    "start_time": "2021-12-19T06:30:37.674Z"
   },
   {
    "duration": 4,
    "start_time": "2021-12-19T06:30:37.683Z"
   },
   {
    "duration": 4,
    "start_time": "2021-12-19T06:30:37.689Z"
   },
   {
    "duration": 8,
    "start_time": "2021-12-19T06:30:37.695Z"
   },
   {
    "duration": 5,
    "start_time": "2021-12-19T06:30:37.706Z"
   },
   {
    "duration": 12,
    "start_time": "2021-12-19T06:30:37.714Z"
   },
   {
    "duration": 3,
    "start_time": "2021-12-19T06:30:37.761Z"
   },
   {
    "duration": 104,
    "start_time": "2021-12-19T06:32:54.919Z"
   },
   {
    "duration": 80,
    "start_time": "2021-12-19T06:33:13.025Z"
   },
   {
    "duration": 33,
    "start_time": "2021-12-19T06:33:28.895Z"
   },
   {
    "duration": 39,
    "start_time": "2021-12-19T06:37:03.161Z"
   },
   {
    "duration": 33,
    "start_time": "2021-12-19T06:37:08.070Z"
   },
   {
    "duration": 520,
    "start_time": "2021-12-19T06:40:38.365Z"
   },
   {
    "duration": 127,
    "start_time": "2021-12-19T06:41:20.497Z"
   },
   {
    "duration": 3515,
    "start_time": "2021-12-19T06:41:28.430Z"
   },
   {
    "duration": 3556,
    "start_time": "2021-12-19T06:41:35.992Z"
   },
   {
    "duration": 3154,
    "start_time": "2021-12-19T06:41:54.528Z"
   },
   {
    "duration": 314,
    "start_time": "2021-12-19T06:42:25.999Z"
   },
   {
    "duration": 315,
    "start_time": "2021-12-19T06:43:51.226Z"
   },
   {
    "duration": 302,
    "start_time": "2021-12-19T06:45:04.502Z"
   },
   {
    "duration": 287,
    "start_time": "2021-12-19T06:46:31.961Z"
   },
   {
    "duration": 318,
    "start_time": "2021-12-19T06:47:51.275Z"
   },
   {
    "duration": 297,
    "start_time": "2021-12-19T06:48:06.871Z"
   },
   {
    "duration": 302,
    "start_time": "2021-12-19T06:50:57.145Z"
   },
   {
    "duration": 570,
    "start_time": "2021-12-19T06:52:28.001Z"
   },
   {
    "duration": 3104,
    "start_time": "2021-12-19T06:53:10.431Z"
   },
   {
    "duration": 3301,
    "start_time": "2021-12-19T06:53:17.308Z"
   },
   {
    "duration": 325,
    "start_time": "2021-12-19T06:56:04.541Z"
   },
   {
    "duration": 231,
    "start_time": "2021-12-19T06:57:55.921Z"
   },
   {
    "duration": 248,
    "start_time": "2021-12-19T06:59:28.357Z"
   },
   {
    "duration": 383,
    "start_time": "2021-12-19T07:03:26.738Z"
   },
   {
    "duration": 379,
    "start_time": "2021-12-19T07:03:43.974Z"
   },
   {
    "duration": 411,
    "start_time": "2021-12-19T07:03:54.636Z"
   },
   {
    "duration": 381,
    "start_time": "2021-12-19T07:04:03.114Z"
   },
   {
    "duration": 368,
    "start_time": "2021-12-19T07:04:08.362Z"
   },
   {
    "duration": 55,
    "start_time": "2021-12-19T07:04:27.736Z"
   },
   {
    "duration": 18,
    "start_time": "2021-12-19T07:04:37.741Z"
   },
   {
    "duration": 38,
    "start_time": "2021-12-19T07:04:44.373Z"
   },
   {
    "duration": 312,
    "start_time": "2021-12-19T07:05:49.131Z"
   },
   {
    "duration": 228,
    "start_time": "2021-12-19T07:06:39.353Z"
   },
   {
    "duration": 37,
    "start_time": "2021-12-19T07:08:12.276Z"
   },
   {
    "duration": 233,
    "start_time": "2021-12-19T07:09:55.040Z"
   },
   {
    "duration": 225,
    "start_time": "2021-12-19T07:11:18.059Z"
   },
   {
    "duration": 214,
    "start_time": "2021-12-19T07:13:12.155Z"
   },
   {
    "duration": 225,
    "start_time": "2021-12-19T07:15:25.896Z"
   },
   {
    "duration": 39,
    "start_time": "2021-12-19T07:15:54.159Z"
   },
   {
    "duration": 322,
    "start_time": "2021-12-19T07:20:07.445Z"
   },
   {
    "duration": 278,
    "start_time": "2021-12-19T07:22:58.704Z"
   },
   {
    "duration": 280,
    "start_time": "2021-12-19T07:24:20.810Z"
   },
   {
    "duration": 278,
    "start_time": "2021-12-19T07:30:09.567Z"
   },
   {
    "duration": 292,
    "start_time": "2021-12-19T07:30:43.402Z"
   },
   {
    "duration": 7,
    "start_time": "2021-12-19T07:33:10.909Z"
   },
   {
    "duration": 6,
    "start_time": "2021-12-19T07:33:16.711Z"
   },
   {
    "duration": 6,
    "start_time": "2021-12-19T07:33:46.662Z"
   },
   {
    "duration": 7,
    "start_time": "2021-12-19T07:34:05.058Z"
   },
   {
    "duration": 727,
    "start_time": "2021-12-19T07:35:26.925Z"
   },
   {
    "duration": 52,
    "start_time": "2021-12-19T07:37:04.445Z"
   },
   {
    "duration": 4833,
    "start_time": "2021-12-19T07:39:50.039Z"
   },
   {
    "duration": 53,
    "start_time": "2021-12-19T07:41:19.226Z"
   },
   {
    "duration": 848,
    "start_time": "2021-12-19T07:45:22.714Z"
   },
   {
    "duration": 50,
    "start_time": "2021-12-19T07:47:24.146Z"
   },
   {
    "duration": 871,
    "start_time": "2021-12-19T07:48:06.315Z"
   },
   {
    "duration": 874,
    "start_time": "2021-12-19T07:48:21.098Z"
   },
   {
    "duration": 822,
    "start_time": "2021-12-19T07:48:36.899Z"
   },
   {
    "duration": 866,
    "start_time": "2021-12-19T07:48:54.113Z"
   },
   {
    "duration": 1014,
    "start_time": "2021-12-19T07:49:08.228Z"
   },
   {
    "duration": 5396,
    "start_time": "2021-12-19T07:49:35.543Z"
   },
   {
    "duration": 15,
    "start_time": "2021-12-19T07:50:16.292Z"
   },
   {
    "duration": 13,
    "start_time": "2021-12-19T07:52:19.559Z"
   },
   {
    "duration": 23,
    "start_time": "2021-12-19T07:53:42.559Z"
   },
   {
    "duration": 21,
    "start_time": "2021-12-19T07:53:59.002Z"
   },
   {
    "duration": 37,
    "start_time": "2021-12-19T07:54:09.500Z"
   },
   {
    "duration": 53,
    "start_time": "2021-12-19T07:54:20.633Z"
   },
   {
    "duration": 375,
    "start_time": "2021-12-19T07:55:07.567Z"
   },
   {
    "duration": 410,
    "start_time": "2021-12-19T07:55:43.702Z"
   },
   {
    "duration": 3968,
    "start_time": "2021-12-19T07:56:26.495Z"
   },
   {
    "duration": 61,
    "start_time": "2021-12-19T07:57:14.238Z"
   },
   {
    "duration": 64,
    "start_time": "2021-12-19T07:58:10.037Z"
   },
   {
    "duration": 273,
    "start_time": "2021-12-19T18:35:12.264Z"
   },
   {
    "duration": 921,
    "start_time": "2021-12-19T18:35:22.408Z"
   },
   {
    "duration": 81,
    "start_time": "2021-12-19T18:35:23.331Z"
   },
   {
    "duration": 11,
    "start_time": "2021-12-19T18:35:23.414Z"
   },
   {
    "duration": 19,
    "start_time": "2021-12-19T18:35:23.427Z"
   },
   {
    "duration": 47,
    "start_time": "2021-12-19T18:35:23.448Z"
   },
   {
    "duration": 24,
    "start_time": "2021-12-19T18:35:23.497Z"
   },
   {
    "duration": 11,
    "start_time": "2021-12-19T18:35:23.523Z"
   },
   {
    "duration": 54,
    "start_time": "2021-12-19T18:35:23.538Z"
   },
   {
    "duration": 14,
    "start_time": "2021-12-19T18:35:23.594Z"
   },
   {
    "duration": 11,
    "start_time": "2021-12-19T18:35:23.610Z"
   },
   {
    "duration": 18,
    "start_time": "2021-12-19T18:35:23.622Z"
   },
   {
    "duration": 47,
    "start_time": "2021-12-19T18:35:23.641Z"
   },
   {
    "duration": 22,
    "start_time": "2021-12-19T18:35:23.690Z"
   },
   {
    "duration": 29,
    "start_time": "2021-12-19T18:35:23.713Z"
   },
   {
    "duration": 80,
    "start_time": "2021-12-19T18:35:23.744Z"
   },
   {
    "duration": 17,
    "start_time": "2021-12-19T18:35:23.826Z"
   },
   {
    "duration": 68,
    "start_time": "2021-12-19T18:35:23.845Z"
   },
   {
    "duration": 25,
    "start_time": "2021-12-19T18:35:23.915Z"
   },
   {
    "duration": 17,
    "start_time": "2021-12-19T18:35:23.942Z"
   },
   {
    "duration": 45,
    "start_time": "2021-12-19T18:35:23.960Z"
   },
   {
    "duration": 295,
    "start_time": "2021-12-19T18:35:24.007Z"
   },
   {
    "duration": 200,
    "start_time": "2021-12-19T18:35:24.304Z"
   },
   {
    "duration": 162,
    "start_time": "2021-12-19T18:35:24.507Z"
   },
   {
    "duration": 172,
    "start_time": "2021-12-19T18:35:24.671Z"
   },
   {
    "duration": 166,
    "start_time": "2021-12-19T18:35:24.844Z"
   },
   {
    "duration": 175,
    "start_time": "2021-12-19T18:35:25.012Z"
   },
   {
    "duration": 132,
    "start_time": "2021-12-19T18:35:25.189Z"
   },
   {
    "duration": 138,
    "start_time": "2021-12-19T18:35:25.323Z"
   },
   {
    "duration": 142,
    "start_time": "2021-12-19T18:35:25.463Z"
   },
   {
    "duration": 169,
    "start_time": "2021-12-19T18:35:25.607Z"
   },
   {
    "duration": 131,
    "start_time": "2021-12-19T18:35:25.778Z"
   },
   {
    "duration": 23,
    "start_time": "2021-12-19T18:35:25.910Z"
   },
   {
    "duration": 179,
    "start_time": "2021-12-19T18:35:25.935Z"
   },
   {
    "duration": 161,
    "start_time": "2021-12-19T18:35:26.116Z"
   },
   {
    "duration": 166,
    "start_time": "2021-12-19T18:35:26.279Z"
   },
   {
    "duration": 159,
    "start_time": "2021-12-19T18:35:26.446Z"
   },
   {
    "duration": 167,
    "start_time": "2021-12-19T18:35:26.607Z"
   },
   {
    "duration": 5,
    "start_time": "2021-12-19T18:35:26.775Z"
   },
   {
    "duration": 31,
    "start_time": "2021-12-19T18:35:26.788Z"
   },
   {
    "duration": 31,
    "start_time": "2021-12-19T18:35:26.821Z"
   },
   {
    "duration": 313,
    "start_time": "2021-12-19T18:35:26.853Z"
   },
   {
    "duration": 78,
    "start_time": "2021-12-19T18:35:27.090Z"
   },
   {
    "duration": 73,
    "start_time": "2021-12-19T18:35:27.096Z"
   },
   {
    "duration": 73,
    "start_time": "2021-12-19T18:35:27.098Z"
   },
   {
    "duration": 897,
    "start_time": "2021-12-19T18:36:23.515Z"
   },
   {
    "duration": 74,
    "start_time": "2021-12-19T18:36:24.413Z"
   },
   {
    "duration": 204,
    "start_time": "2021-12-19T18:36:24.489Z"
   },
   {
    "duration": 262,
    "start_time": "2021-12-19T18:36:24.696Z"
   },
   {
    "duration": 359,
    "start_time": "2021-12-19T18:36:24.959Z"
   },
   {
    "duration": 131,
    "start_time": "2021-12-19T18:36:25.320Z"
   },
   {
    "duration": 110,
    "start_time": "2021-12-19T18:36:25.453Z"
   },
   {
    "duration": 50,
    "start_time": "2021-12-19T18:36:25.565Z"
   },
   {
    "duration": 50,
    "start_time": "2021-12-19T18:36:25.618Z"
   },
   {
    "duration": 53,
    "start_time": "2021-12-19T18:36:25.670Z"
   },
   {
    "duration": 67,
    "start_time": "2021-12-19T18:36:25.725Z"
   },
   {
    "duration": 71,
    "start_time": "2021-12-19T18:36:25.794Z"
   },
   {
    "duration": 55,
    "start_time": "2021-12-19T18:36:25.867Z"
   },
   {
    "duration": 64,
    "start_time": "2021-12-19T18:36:25.923Z"
   },
   {
    "duration": 60,
    "start_time": "2021-12-19T18:36:25.988Z"
   },
   {
    "duration": 16,
    "start_time": "2021-12-19T18:36:26.049Z"
   },
   {
    "duration": 60,
    "start_time": "2021-12-19T18:36:26.066Z"
   },
   {
    "duration": 81,
    "start_time": "2021-12-19T18:36:26.127Z"
   },
   {
    "duration": 17,
    "start_time": "2021-12-19T18:36:26.209Z"
   },
   {
    "duration": 77,
    "start_time": "2021-12-19T18:36:26.228Z"
   },
   {
    "duration": 405,
    "start_time": "2021-12-19T18:36:26.307Z"
   },
   {
    "duration": 190,
    "start_time": "2021-12-19T18:36:26.713Z"
   },
   {
    "duration": 163,
    "start_time": "2021-12-19T18:36:26.905Z"
   },
   {
    "duration": 174,
    "start_time": "2021-12-19T18:36:27.069Z"
   },
   {
    "duration": 171,
    "start_time": "2021-12-19T18:36:27.245Z"
   },
   {
    "duration": 204,
    "start_time": "2021-12-19T18:36:27.418Z"
   },
   {
    "duration": 137,
    "start_time": "2021-12-19T18:36:27.625Z"
   },
   {
    "duration": 131,
    "start_time": "2021-12-19T18:36:27.764Z"
   },
   {
    "duration": 131,
    "start_time": "2021-12-19T18:36:27.896Z"
   },
   {
    "duration": 172,
    "start_time": "2021-12-19T18:36:28.029Z"
   },
   {
    "duration": 126,
    "start_time": "2021-12-19T18:36:28.203Z"
   },
   {
    "duration": 23,
    "start_time": "2021-12-19T18:36:28.330Z"
   },
   {
    "duration": 189,
    "start_time": "2021-12-19T18:36:28.354Z"
   },
   {
    "duration": 170,
    "start_time": "2021-12-19T18:36:28.544Z"
   },
   {
    "duration": 175,
    "start_time": "2021-12-19T18:36:28.716Z"
   },
   {
    "duration": 169,
    "start_time": "2021-12-19T18:36:28.893Z"
   },
   {
    "duration": 201,
    "start_time": "2021-12-19T18:36:29.063Z"
   },
   {
    "duration": 21,
    "start_time": "2021-12-19T18:36:29.266Z"
   },
   {
    "duration": 46,
    "start_time": "2021-12-19T18:36:29.289Z"
   },
   {
    "duration": 33,
    "start_time": "2021-12-19T18:36:29.337Z"
   },
   {
    "duration": 40,
    "start_time": "2021-12-19T18:36:29.372Z"
   },
   {
    "duration": 38,
    "start_time": "2021-12-19T18:36:29.413Z"
   },
   {
    "duration": 269,
    "start_time": "2021-12-19T18:39:52.608Z"
   },
   {
    "duration": 972,
    "start_time": "2021-12-19T18:40:15.542Z"
   },
   {
    "duration": 89,
    "start_time": "2021-12-19T18:40:16.516Z"
   },
   {
    "duration": 9,
    "start_time": "2021-12-19T18:40:16.608Z"
   },
   {
    "duration": 27,
    "start_time": "2021-12-19T18:40:16.619Z"
   },
   {
    "duration": 62,
    "start_time": "2021-12-19T18:40:16.648Z"
   },
   {
    "duration": 18,
    "start_time": "2021-12-19T18:40:16.712Z"
   },
   {
    "duration": 13,
    "start_time": "2021-12-19T18:40:16.732Z"
   },
   {
    "duration": 24,
    "start_time": "2021-12-19T18:40:16.747Z"
   },
   {
    "duration": 15,
    "start_time": "2021-12-19T18:40:16.788Z"
   },
   {
    "duration": 9,
    "start_time": "2021-12-19T18:40:16.805Z"
   },
   {
    "duration": 19,
    "start_time": "2021-12-19T18:40:16.816Z"
   },
   {
    "duration": 22,
    "start_time": "2021-12-19T18:40:16.837Z"
   },
   {
    "duration": 40,
    "start_time": "2021-12-19T18:40:16.861Z"
   },
   {
    "duration": 27,
    "start_time": "2021-12-19T18:40:16.902Z"
   },
   {
    "duration": 73,
    "start_time": "2021-12-19T18:40:16.930Z"
   },
   {
    "duration": 14,
    "start_time": "2021-12-19T18:40:17.004Z"
   },
   {
    "duration": 46,
    "start_time": "2021-12-19T18:40:17.020Z"
   },
   {
    "duration": 36,
    "start_time": "2021-12-19T18:40:17.087Z"
   },
   {
    "duration": 23,
    "start_time": "2021-12-19T18:40:17.125Z"
   },
   {
    "duration": 21,
    "start_time": "2021-12-19T18:40:17.150Z"
   },
   {
    "duration": 330,
    "start_time": "2021-12-19T18:40:17.187Z"
   },
   {
    "duration": 194,
    "start_time": "2021-12-19T18:40:17.519Z"
   },
   {
    "duration": 173,
    "start_time": "2021-12-19T18:40:17.716Z"
   },
   {
    "duration": 178,
    "start_time": "2021-12-19T18:40:17.891Z"
   },
   {
    "duration": 177,
    "start_time": "2021-12-19T18:40:18.071Z"
   },
   {
    "duration": 174,
    "start_time": "2021-12-19T18:40:18.249Z"
   },
   {
    "duration": 156,
    "start_time": "2021-12-19T18:40:18.424Z"
   },
   {
    "duration": 138,
    "start_time": "2021-12-19T18:40:18.581Z"
   },
   {
    "duration": 143,
    "start_time": "2021-12-19T18:40:18.721Z"
   },
   {
    "duration": 183,
    "start_time": "2021-12-19T18:40:18.865Z"
   },
   {
    "duration": 127,
    "start_time": "2021-12-19T18:40:19.049Z"
   },
   {
    "duration": 32,
    "start_time": "2021-12-19T18:40:19.178Z"
   },
   {
    "duration": 186,
    "start_time": "2021-12-19T18:40:19.212Z"
   },
   {
    "duration": 217,
    "start_time": "2021-12-19T18:40:19.399Z"
   },
   {
    "duration": 200,
    "start_time": "2021-12-19T18:40:19.619Z"
   },
   {
    "duration": 164,
    "start_time": "2021-12-19T18:40:19.820Z"
   },
   {
    "duration": 191,
    "start_time": "2021-12-19T18:40:19.986Z"
   },
   {
    "duration": 8,
    "start_time": "2021-12-19T18:40:20.179Z"
   },
   {
    "duration": 32,
    "start_time": "2021-12-19T18:40:20.189Z"
   },
   {
    "duration": 33,
    "start_time": "2021-12-19T18:40:20.223Z"
   },
   {
    "duration": 56,
    "start_time": "2021-12-19T18:40:20.258Z"
   },
   {
    "duration": 35,
    "start_time": "2021-12-19T18:40:20.316Z"
   },
   {
    "duration": 547,
    "start_time": "2021-12-19T18:40:20.353Z"
   },
   {
    "duration": -8,
    "start_time": "2021-12-19T18:40:20.910Z"
   },
   {
    "duration": 11241,
    "start_time": "2021-12-19T18:40:30.421Z"
   },
   {
    "duration": 248,
    "start_time": "2021-12-19T18:41:04.783Z"
   },
   {
    "duration": 12634,
    "start_time": "2021-12-19T18:41:22.279Z"
   },
   {
    "duration": 8200,
    "start_time": "2021-12-19T18:42:09.046Z"
   },
   {
    "duration": 10657,
    "start_time": "2021-12-19T18:42:43.664Z"
   },
   {
    "duration": 5,
    "start_time": "2021-12-19T18:44:49.981Z"
   },
   {
    "duration": 2176,
    "start_time": "2021-12-19T18:45:34.244Z"
   },
   {
    "duration": 28,
    "start_time": "2021-12-19T18:48:45.852Z"
   },
   {
    "duration": 8,
    "start_time": "2021-12-19T18:50:29.202Z"
   },
   {
    "duration": 10,
    "start_time": "2021-12-19T18:51:19.838Z"
   },
   {
    "duration": 6,
    "start_time": "2021-12-19T19:10:00.925Z"
   },
   {
    "duration": 19,
    "start_time": "2021-12-19T19:10:15.683Z"
   },
   {
    "duration": 9,
    "start_time": "2021-12-19T19:13:30.297Z"
   },
   {
    "duration": 36,
    "start_time": "2021-12-19T19:13:59.400Z"
   },
   {
    "duration": 36,
    "start_time": "2021-12-19T19:14:05.574Z"
   },
   {
    "duration": 10,
    "start_time": "2021-12-19T19:14:09.364Z"
   },
   {
    "duration": 52,
    "start_time": "2021-12-19T19:14:16.975Z"
   },
   {
    "duration": 11,
    "start_time": "2021-12-19T19:14:19.626Z"
   },
   {
    "duration": 37,
    "start_time": "2021-12-19T19:16:58.276Z"
   },
   {
    "duration": 10,
    "start_time": "2021-12-19T19:17:01.205Z"
   },
   {
    "duration": 184,
    "start_time": "2021-12-19T19:19:34.760Z"
   },
   {
    "duration": 10,
    "start_time": "2021-12-19T19:21:38.662Z"
   },
   {
    "duration": 171,
    "start_time": "2021-12-19T19:22:06.767Z"
   },
   {
    "duration": 260,
    "start_time": "2021-12-19T19:22:29.932Z"
   },
   {
    "duration": 258,
    "start_time": "2021-12-19T19:22:39.310Z"
   },
   {
    "duration": 24855,
    "start_time": "2021-12-19T19:23:23.361Z"
   },
   {
    "duration": 8,
    "start_time": "2021-12-19T19:23:54.071Z"
   },
   {
    "duration": 14,
    "start_time": "2021-12-19T19:25:58.949Z"
   },
   {
    "duration": 14,
    "start_time": "2021-12-19T19:26:09.292Z"
   },
   {
    "duration": 307,
    "start_time": "2021-12-19T19:26:24.905Z"
   },
   {
    "duration": 345,
    "start_time": "2021-12-19T19:26:29.812Z"
   },
   {
    "duration": 12,
    "start_time": "2021-12-19T19:27:03.184Z"
   },
   {
    "duration": 236,
    "start_time": "2021-12-19T19:27:54.563Z"
   },
   {
    "duration": 227,
    "start_time": "2021-12-19T19:28:44.156Z"
   },
   {
    "duration": 12,
    "start_time": "2021-12-19T19:28:49.843Z"
   },
   {
    "duration": 240,
    "start_time": "2021-12-19T19:28:57.199Z"
   },
   {
    "duration": 243,
    "start_time": "2021-12-19T19:28:59.557Z"
   },
   {
    "duration": 12,
    "start_time": "2021-12-19T19:29:03.568Z"
   },
   {
    "duration": 244,
    "start_time": "2021-12-19T19:29:16.381Z"
   },
   {
    "duration": 13,
    "start_time": "2021-12-19T19:29:20.495Z"
   },
   {
    "duration": 14,
    "start_time": "2021-12-19T19:29:27.936Z"
   },
   {
    "duration": 225,
    "start_time": "2021-12-19T19:29:47.012Z"
   },
   {
    "duration": 236,
    "start_time": "2021-12-19T19:29:53.789Z"
   },
   {
    "duration": 13,
    "start_time": "2021-12-19T19:30:00.545Z"
   },
   {
    "duration": 12,
    "start_time": "2021-12-19T19:30:20.848Z"
   },
   {
    "duration": 4,
    "start_time": "2021-12-19T19:32:49.366Z"
   },
   {
    "duration": 5,
    "start_time": "2021-12-19T19:32:57.551Z"
   },
   {
    "duration": 12,
    "start_time": "2021-12-19T19:35:40.961Z"
   },
   {
    "duration": 13,
    "start_time": "2021-12-19T19:35:51.658Z"
   },
   {
    "duration": 1141,
    "start_time": "2021-12-19T19:40:09.374Z"
   },
   {
    "duration": 1152,
    "start_time": "2021-12-19T19:42:30.508Z"
   },
   {
    "duration": 15,
    "start_time": "2021-12-19T19:43:24.477Z"
   },
   {
    "duration": 13,
    "start_time": "2021-12-19T19:43:31.127Z"
   },
   {
    "duration": 13,
    "start_time": "2021-12-19T19:43:37.734Z"
   },
   {
    "duration": 15,
    "start_time": "2021-12-19T19:44:14.091Z"
   },
   {
    "duration": 242,
    "start_time": "2021-12-19T19:47:42.393Z"
   },
   {
    "duration": 324,
    "start_time": "2021-12-19T19:47:48.386Z"
   },
   {
    "duration": 360,
    "start_time": "2021-12-19T19:47:55.325Z"
   },
   {
    "duration": 843,
    "start_time": "2021-12-19T19:48:14.023Z"
   },
   {
    "duration": 407,
    "start_time": "2021-12-19T19:51:04.661Z"
   },
   {
    "duration": 20,
    "start_time": "2021-12-19T19:53:35.193Z"
   },
   {
    "duration": 14,
    "start_time": "2021-12-19T19:57:13.489Z"
   },
   {
    "duration": 1209,
    "start_time": "2021-12-19T20:06:26.638Z"
   },
   {
    "duration": 108,
    "start_time": "2021-12-19T20:06:27.849Z"
   },
   {
    "duration": 12,
    "start_time": "2021-12-19T20:06:27.959Z"
   },
   {
    "duration": 38,
    "start_time": "2021-12-19T20:06:27.973Z"
   },
   {
    "duration": 38,
    "start_time": "2021-12-19T20:06:28.013Z"
   },
   {
    "duration": 15,
    "start_time": "2021-12-19T20:06:28.052Z"
   },
   {
    "duration": 8,
    "start_time": "2021-12-19T20:06:28.088Z"
   },
   {
    "duration": 25,
    "start_time": "2021-12-19T20:06:28.099Z"
   },
   {
    "duration": 15,
    "start_time": "2021-12-19T20:06:28.126Z"
   },
   {
    "duration": 17,
    "start_time": "2021-12-19T20:06:28.142Z"
   },
   {
    "duration": 44,
    "start_time": "2021-12-19T20:06:28.161Z"
   },
   {
    "duration": 29,
    "start_time": "2021-12-19T20:06:28.207Z"
   },
   {
    "duration": 20,
    "start_time": "2021-12-19T20:06:28.238Z"
   },
   {
    "duration": 67,
    "start_time": "2021-12-19T20:06:28.260Z"
   },
   {
    "duration": 87,
    "start_time": "2021-12-19T20:06:28.329Z"
   },
   {
    "duration": 22,
    "start_time": "2021-12-19T20:06:28.418Z"
   },
   {
    "duration": 76,
    "start_time": "2021-12-19T20:06:28.442Z"
   },
   {
    "duration": 30,
    "start_time": "2021-12-19T20:06:28.537Z"
   },
   {
    "duration": 20,
    "start_time": "2021-12-19T20:06:28.568Z"
   },
   {
    "duration": 22,
    "start_time": "2021-12-19T20:06:28.590Z"
   },
   {
    "duration": 334,
    "start_time": "2021-12-19T20:06:28.614Z"
   },
   {
    "duration": 215,
    "start_time": "2021-12-19T20:06:28.950Z"
   },
   {
    "duration": 191,
    "start_time": "2021-12-19T20:06:29.170Z"
   },
   {
    "duration": 288,
    "start_time": "2021-12-19T20:06:29.364Z"
   },
   {
    "duration": 273,
    "start_time": "2021-12-19T20:06:29.655Z"
   },
   {
    "duration": 304,
    "start_time": "2021-12-19T20:06:29.930Z"
   },
   {
    "duration": 200,
    "start_time": "2021-12-19T20:06:30.236Z"
   },
   {
    "duration": 150,
    "start_time": "2021-12-19T20:06:30.438Z"
   },
   {
    "duration": 163,
    "start_time": "2021-12-19T20:06:30.589Z"
   },
   {
    "duration": 210,
    "start_time": "2021-12-19T20:06:30.754Z"
   },
   {
    "duration": 149,
    "start_time": "2021-12-19T20:06:30.965Z"
   },
   {
    "duration": 25,
    "start_time": "2021-12-19T20:06:31.116Z"
   },
   {
    "duration": 218,
    "start_time": "2021-12-19T20:06:31.143Z"
   },
   {
    "duration": 284,
    "start_time": "2021-12-19T20:06:31.364Z"
   },
   {
    "duration": 195,
    "start_time": "2021-12-19T20:06:31.650Z"
   },
   {
    "duration": 175,
    "start_time": "2021-12-19T20:06:31.847Z"
   },
   {
    "duration": 256,
    "start_time": "2021-12-19T20:06:32.024Z"
   },
   {
    "duration": 8,
    "start_time": "2021-12-19T20:06:32.281Z"
   },
   {
    "duration": 39,
    "start_time": "2021-12-19T20:06:32.291Z"
   },
   {
    "duration": 68,
    "start_time": "2021-12-19T20:06:32.332Z"
   },
   {
    "duration": 55,
    "start_time": "2021-12-19T20:06:32.402Z"
   },
   {
    "duration": 12,
    "start_time": "2021-12-19T20:06:32.459Z"
   },
   {
    "duration": 37,
    "start_time": "2021-12-19T20:06:32.488Z"
   },
   {
    "duration": 9,
    "start_time": "2021-12-19T20:06:32.527Z"
   },
   {
    "duration": 22,
    "start_time": "2021-12-19T20:06:32.538Z"
   },
   {
    "duration": 207,
    "start_time": "2021-12-19T20:06:32.562Z"
   },
   {
    "duration": 17,
    "start_time": "2021-12-19T20:06:32.771Z"
   },
   {
    "duration": 6,
    "start_time": "2021-12-19T20:06:32.790Z"
   },
   {
    "duration": 1110,
    "start_time": "2021-12-19T20:06:32.798Z"
   },
   {
    "duration": 17,
    "start_time": "2021-12-19T20:06:33.910Z"
   },
   {
    "duration": 12,
    "start_time": "2021-12-19T20:06:33.928Z"
   },
   {
    "duration": 4,
    "start_time": "2021-12-20T16:11:10.841Z"
   },
   {
    "duration": 105,
    "start_time": "2021-12-20T16:11:10.846Z"
   },
   {
    "duration": 3,
    "start_time": "2021-12-20T16:11:10.953Z"
   },
   {
    "duration": 22,
    "start_time": "2021-12-20T16:11:10.958Z"
   },
   {
    "duration": 37,
    "start_time": "2021-12-20T16:11:10.991Z"
   },
   {
    "duration": 17,
    "start_time": "2021-12-20T16:11:11.029Z"
   },
   {
    "duration": 11,
    "start_time": "2021-12-20T16:11:11.047Z"
   },
   {
    "duration": 48,
    "start_time": "2021-12-20T16:11:11.060Z"
   },
   {
    "duration": 15,
    "start_time": "2021-12-20T16:11:11.109Z"
   },
   {
    "duration": 9,
    "start_time": "2021-12-20T16:11:11.125Z"
   },
   {
    "duration": 17,
    "start_time": "2021-12-20T16:11:11.136Z"
   },
   {
    "duration": 46,
    "start_time": "2021-12-20T16:11:11.155Z"
   },
   {
    "duration": 16,
    "start_time": "2021-12-20T16:11:11.202Z"
   },
   {
    "duration": 28,
    "start_time": "2021-12-20T16:11:11.219Z"
   },
   {
    "duration": 71,
    "start_time": "2021-12-20T16:11:11.248Z"
   },
   {
    "duration": 14,
    "start_time": "2021-12-20T16:11:11.321Z"
   },
   {
    "duration": 62,
    "start_time": "2021-12-20T16:11:11.337Z"
   },
   {
    "duration": 23,
    "start_time": "2021-12-20T16:11:11.400Z"
   },
   {
    "duration": 17,
    "start_time": "2021-12-20T16:11:11.425Z"
   },
   {
    "duration": 20,
    "start_time": "2021-12-20T16:11:11.443Z"
   },
   {
    "duration": 231,
    "start_time": "2021-12-20T16:11:11.465Z"
   },
   {
    "duration": 202,
    "start_time": "2021-12-20T16:11:11.698Z"
   },
   {
    "duration": 180,
    "start_time": "2021-12-20T16:11:11.901Z"
   },
   {
    "duration": 194,
    "start_time": "2021-12-20T16:11:12.083Z"
   },
   {
    "duration": 192,
    "start_time": "2021-12-20T16:11:12.278Z"
   },
   {
    "duration": 195,
    "start_time": "2021-12-20T16:11:12.472Z"
   },
   {
    "duration": 165,
    "start_time": "2021-12-20T16:11:12.669Z"
   },
   {
    "duration": 143,
    "start_time": "2021-12-20T16:11:12.835Z"
   },
   {
    "duration": 147,
    "start_time": "2021-12-20T16:11:12.979Z"
   },
   {
    "duration": 140,
    "start_time": "2021-12-20T16:11:13.132Z"
   },
   {
    "duration": 141,
    "start_time": "2021-12-20T16:11:13.273Z"
   },
   {
    "duration": 25,
    "start_time": "2021-12-20T16:11:13.415Z"
   },
   {
    "duration": 219,
    "start_time": "2021-12-20T16:11:13.441Z"
   },
   {
    "duration": 189,
    "start_time": "2021-12-20T16:11:13.662Z"
   },
   {
    "duration": 272,
    "start_time": "2021-12-20T16:11:13.853Z"
   },
   {
    "duration": 191,
    "start_time": "2021-12-20T16:11:14.126Z"
   },
   {
    "duration": 201,
    "start_time": "2021-12-20T16:11:14.319Z"
   },
   {
    "duration": 5,
    "start_time": "2021-12-20T16:11:14.521Z"
   },
   {
    "duration": 21,
    "start_time": "2021-12-20T16:11:14.527Z"
   },
   {
    "duration": 54,
    "start_time": "2021-12-20T16:11:14.549Z"
   },
   {
    "duration": 38,
    "start_time": "2021-12-20T16:11:14.605Z"
   },
   {
    "duration": 7,
    "start_time": "2021-12-20T16:11:14.645Z"
   },
   {
    "duration": 59,
    "start_time": "2021-12-20T16:11:14.653Z"
   },
   {
    "duration": 9,
    "start_time": "2021-12-20T16:11:14.714Z"
   },
   {
    "duration": 13,
    "start_time": "2021-12-20T16:11:14.725Z"
   },
   {
    "duration": 217,
    "start_time": "2021-12-20T16:11:14.739Z"
   },
   {
    "duration": 12,
    "start_time": "2021-12-20T16:11:14.957Z"
   },
   {
    "duration": 21,
    "start_time": "2021-12-20T16:11:14.971Z"
   },
   {
    "duration": 1117,
    "start_time": "2021-12-20T16:11:14.993Z"
   },
   {
    "duration": 14,
    "start_time": "2021-12-20T16:11:16.112Z"
   },
   {
    "duration": 18,
    "start_time": "2021-12-20T16:11:16.127Z"
   },
   {
    "duration": 305,
    "start_time": "2021-12-20T20:01:46.991Z"
   },
   {
    "duration": 546,
    "start_time": "2021-12-20T20:02:06.974Z"
   },
   {
    "duration": 1243,
    "start_time": "2021-12-20T20:02:13.119Z"
   },
   {
    "duration": 334,
    "start_time": "2021-12-20T20:02:17.125Z"
   },
   {
    "duration": 21,
    "start_time": "2021-12-20T20:02:27.173Z"
   },
   {
    "duration": 42,
    "start_time": "2021-12-20T20:02:29.704Z"
   },
   {
    "duration": 28,
    "start_time": "2021-12-20T20:02:33.624Z"
   },
   {
    "duration": 27,
    "start_time": "2021-12-20T20:02:50.933Z"
   },
   {
    "duration": 375,
    "start_time": "2021-12-20T20:04:01.264Z"
   },
   {
    "duration": 26,
    "start_time": "2021-12-20T20:04:08.342Z"
   },
   {
    "duration": 15,
    "start_time": "2021-12-20T20:04:10.218Z"
   },
   {
    "duration": 11,
    "start_time": "2021-12-20T20:04:13.127Z"
   },
   {
    "duration": 11,
    "start_time": "2021-12-20T20:04:50.885Z"
   },
   {
    "duration": 1263,
    "start_time": "2021-12-20T20:32:27.178Z"
   },
   {
    "duration": 117,
    "start_time": "2021-12-20T20:32:30.063Z"
   },
   {
    "duration": 12,
    "start_time": "2021-12-20T20:32:32.598Z"
   },
   {
    "duration": 36,
    "start_time": "2021-12-20T20:33:14.912Z"
   },
   {
    "duration": 29,
    "start_time": "2021-12-20T20:33:19.050Z"
   },
   {
    "duration": 20,
    "start_time": "2021-12-20T20:33:21.797Z"
   },
   {
    "duration": 25,
    "start_time": "2021-12-20T20:33:27.965Z"
   },
   {
    "duration": 30,
    "start_time": "2021-12-20T20:33:36.617Z"
   },
   {
    "duration": 368,
    "start_time": "2021-12-20T20:33:41.382Z"
   },
   {
    "duration": 16,
    "start_time": "2021-12-20T20:34:30.815Z"
   },
   {
    "duration": 7,
    "start_time": "2021-12-20T20:35:55.218Z"
   },
   {
    "duration": 1226,
    "start_time": "2021-12-20T20:36:52.472Z"
   },
   {
    "duration": 7,
    "start_time": "2021-12-20T20:37:01.535Z"
   },
   {
    "duration": 25,
    "start_time": "2021-12-20T20:37:17.416Z"
   },
   {
    "duration": 62,
    "start_time": "2021-12-20T20:38:11.560Z"
   },
   {
    "duration": 31,
    "start_time": "2021-12-20T20:38:20.773Z"
   },
   {
    "duration": 23,
    "start_time": "2021-12-20T20:38:27.394Z"
   },
   {
    "duration": 51,
    "start_time": "2021-12-20T20:38:33.800Z"
   },
   {
    "duration": 31,
    "start_time": "2021-12-20T20:38:52.267Z"
   },
   {
    "duration": 7,
    "start_time": "2021-12-20T20:39:04.787Z"
   },
   {
    "duration": 31,
    "start_time": "2021-12-20T20:39:08.283Z"
   },
   {
    "duration": 31,
    "start_time": "2021-12-20T20:39:11.102Z"
   },
   {
    "duration": 52,
    "start_time": "2021-12-20T20:39:14.497Z"
   },
   {
    "duration": 6911,
    "start_time": "2021-12-20T20:39:47.295Z"
   },
   {
    "duration": 8290,
    "start_time": "2021-12-20T20:40:08.791Z"
   },
   {
    "duration": 9217,
    "start_time": "2021-12-20T20:40:27.319Z"
   },
   {
    "duration": 59,
    "start_time": "2021-12-20T20:41:02.423Z"
   },
   {
    "duration": 91,
    "start_time": "2021-12-20T20:41:34.526Z"
   },
   {
    "duration": 26,
    "start_time": "2021-12-20T20:42:02.697Z"
   },
   {
    "duration": 6,
    "start_time": "2021-12-20T20:42:18.246Z"
   },
   {
    "duration": 6,
    "start_time": "2021-12-20T20:42:44.701Z"
   },
   {
    "duration": 82,
    "start_time": "2021-12-20T20:42:47.739Z"
   },
   {
    "duration": 43,
    "start_time": "2021-12-20T20:43:31.462Z"
   },
   {
    "duration": 28,
    "start_time": "2021-12-20T20:43:35.280Z"
   },
   {
    "duration": 260,
    "start_time": "2021-12-20T20:43:43.476Z"
   },
   {
    "duration": 56,
    "start_time": "2021-12-20T20:44:00.626Z"
   },
   {
    "duration": 417,
    "start_time": "2021-12-20T20:44:26.537Z"
   },
   {
    "duration": 131,
    "start_time": "2021-12-20T20:44:41.091Z"
   },
   {
    "duration": 4,
    "start_time": "2021-12-20T20:44:50.522Z"
   },
   {
    "duration": 37,
    "start_time": "2021-12-20T20:44:57.770Z"
   },
   {
    "duration": 50,
    "start_time": "2021-12-20T20:45:05.851Z"
   },
   {
    "duration": 287,
    "start_time": "2021-12-20T20:45:26.645Z"
   },
   {
    "duration": 1253,
    "start_time": "2021-12-20T20:45:34.578Z"
   },
   {
    "duration": 119,
    "start_time": "2021-12-20T20:45:35.834Z"
   },
   {
    "duration": 14,
    "start_time": "2021-12-20T20:45:35.956Z"
   },
   {
    "duration": 44,
    "start_time": "2021-12-20T20:45:35.973Z"
   },
   {
    "duration": 57,
    "start_time": "2021-12-20T20:45:36.020Z"
   },
   {
    "duration": 45,
    "start_time": "2021-12-20T20:45:36.079Z"
   },
   {
    "duration": 15,
    "start_time": "2021-12-20T20:45:36.127Z"
   },
   {
    "duration": 40,
    "start_time": "2021-12-20T20:45:36.148Z"
   },
   {
    "duration": 27,
    "start_time": "2021-12-20T20:45:36.218Z"
   },
   {
    "duration": 12,
    "start_time": "2021-12-20T20:45:36.247Z"
   },
   {
    "duration": 55,
    "start_time": "2021-12-20T20:45:36.261Z"
   },
   {
    "duration": 12,
    "start_time": "2021-12-20T20:45:36.319Z"
   },
   {
    "duration": 31,
    "start_time": "2021-12-20T20:45:36.334Z"
   },
   {
    "duration": 49,
    "start_time": "2021-12-20T20:45:36.368Z"
   },
   {
    "duration": 8,
    "start_time": "2021-12-20T20:45:36.419Z"
   },
   {
    "duration": 35,
    "start_time": "2021-12-20T20:45:36.430Z"
   },
   {
    "duration": 50,
    "start_time": "2021-12-20T20:45:36.467Z"
   },
   {
    "duration": 25,
    "start_time": "2021-12-20T20:45:36.519Z"
   },
   {
    "duration": 91,
    "start_time": "2021-12-20T20:45:36.547Z"
   },
   {
    "duration": 109,
    "start_time": "2021-12-20T20:45:36.640Z"
   },
   {
    "duration": 6,
    "start_time": "2021-12-20T20:45:36.753Z"
   },
   {
    "duration": 111,
    "start_time": "2021-12-20T20:45:36.763Z"
   },
   {
    "duration": 57,
    "start_time": "2021-12-20T20:45:36.880Z"
   },
   {
    "duration": 30,
    "start_time": "2021-12-20T20:45:36.940Z"
   },
   {
    "duration": 50,
    "start_time": "2021-12-20T20:45:36.973Z"
   },
   {
    "duration": 516,
    "start_time": "2021-12-20T20:45:37.026Z"
   },
   {
    "duration": 344,
    "start_time": "2021-12-20T20:45:37.545Z"
   },
   {
    "duration": 321,
    "start_time": "2021-12-20T20:45:37.891Z"
   },
   {
    "duration": 311,
    "start_time": "2021-12-20T20:45:38.218Z"
   },
   {
    "duration": 317,
    "start_time": "2021-12-20T20:45:38.532Z"
   },
   {
    "duration": 348,
    "start_time": "2021-12-20T20:45:38.852Z"
   },
   {
    "duration": 259,
    "start_time": "2021-12-20T20:45:39.203Z"
   },
   {
    "duration": 252,
    "start_time": "2021-12-20T20:45:39.465Z"
   },
   {
    "duration": 264,
    "start_time": "2021-12-20T20:45:39.721Z"
   },
   {
    "duration": 351,
    "start_time": "2021-12-20T20:45:39.987Z"
   },
   {
    "duration": 248,
    "start_time": "2021-12-20T20:45:40.341Z"
   },
   {
    "duration": 63,
    "start_time": "2021-12-20T20:45:40.592Z"
   },
   {
    "duration": 329,
    "start_time": "2021-12-20T20:45:40.658Z"
   },
   {
    "duration": 360,
    "start_time": "2021-12-20T20:45:40.989Z"
   },
   {
    "duration": 314,
    "start_time": "2021-12-20T20:45:41.351Z"
   },
   {
    "duration": 308,
    "start_time": "2021-12-20T20:45:41.668Z"
   },
   {
    "duration": 438,
    "start_time": "2021-12-20T20:45:41.979Z"
   },
   {
    "duration": 10,
    "start_time": "2021-12-20T20:45:42.419Z"
   },
   {
    "duration": 88,
    "start_time": "2021-12-20T20:45:42.431Z"
   },
   {
    "duration": 59,
    "start_time": "2021-12-20T20:45:42.521Z"
   },
   {
    "duration": 79,
    "start_time": "2021-12-20T20:45:42.582Z"
   },
   {
    "duration": 13,
    "start_time": "2021-12-20T20:45:42.663Z"
   },
   {
    "duration": 87,
    "start_time": "2021-12-20T20:45:42.679Z"
   },
   {
    "duration": 24,
    "start_time": "2021-12-20T20:45:42.768Z"
   },
   {
    "duration": 21,
    "start_time": "2021-12-20T20:45:42.818Z"
   },
   {
    "duration": 331,
    "start_time": "2021-12-20T20:45:42.842Z"
   },
   {
    "duration": 41,
    "start_time": "2021-12-20T20:45:43.175Z"
   },
   {
    "duration": 8,
    "start_time": "2021-12-20T20:45:43.219Z"
   },
   {
    "duration": 2218,
    "start_time": "2021-12-20T20:45:43.229Z"
   },
   {
    "duration": 24,
    "start_time": "2021-12-20T20:45:45.449Z"
   },
   {
    "duration": 51,
    "start_time": "2021-12-20T20:45:45.476Z"
   },
   {
    "duration": 279,
    "start_time": "2021-12-20T22:46:27.340Z"
   },
   {
    "duration": 292,
    "start_time": "2021-12-20T22:46:31.171Z"
   },
   {
    "duration": 315,
    "start_time": "2021-12-20T22:46:38.014Z"
   },
   {
    "duration": 290,
    "start_time": "2021-12-20T22:46:40.666Z"
   },
   {
    "duration": 302,
    "start_time": "2021-12-20T22:47:01.569Z"
   },
   {
    "duration": 289,
    "start_time": "2021-12-20T22:48:02.246Z"
   },
   {
    "duration": 1716,
    "start_time": "2021-12-20T22:48:12.873Z"
   },
   {
    "duration": 1235,
    "start_time": "2021-12-20T22:48:40.587Z"
   },
   {
    "duration": 112,
    "start_time": "2021-12-20T22:48:41.824Z"
   },
   {
    "duration": 13,
    "start_time": "2021-12-20T22:48:41.939Z"
   },
   {
    "duration": 27,
    "start_time": "2021-12-20T22:48:41.954Z"
   },
   {
    "duration": 74,
    "start_time": "2021-12-20T22:48:41.983Z"
   },
   {
    "duration": 26,
    "start_time": "2021-12-20T22:48:42.059Z"
   },
   {
    "duration": 39,
    "start_time": "2021-12-20T22:48:42.087Z"
   },
   {
    "duration": 35,
    "start_time": "2021-12-20T22:48:42.129Z"
   },
   {
    "duration": 51,
    "start_time": "2021-12-20T22:48:42.167Z"
   },
   {
    "duration": 16,
    "start_time": "2021-12-20T22:48:42.221Z"
   },
   {
    "duration": 23,
    "start_time": "2021-12-20T22:48:42.239Z"
   },
   {
    "duration": 13,
    "start_time": "2021-12-20T22:48:42.265Z"
   },
   {
    "duration": 30,
    "start_time": "2021-12-20T22:48:42.317Z"
   },
   {
    "duration": 17,
    "start_time": "2021-12-20T22:48:42.349Z"
   },
   {
    "duration": 7,
    "start_time": "2021-12-20T22:48:42.368Z"
   },
   {
    "duration": 63,
    "start_time": "2021-12-20T22:48:42.377Z"
   },
   {
    "duration": 32,
    "start_time": "2021-12-20T22:48:42.442Z"
   },
   {
    "duration": 43,
    "start_time": "2021-12-20T22:48:42.476Z"
   },
   {
    "duration": 60,
    "start_time": "2021-12-20T22:48:42.522Z"
   },
   {
    "duration": 102,
    "start_time": "2021-12-20T22:48:42.585Z"
   },
   {
    "duration": 5,
    "start_time": "2021-12-20T22:48:42.689Z"
   },
   {
    "duration": 77,
    "start_time": "2021-12-20T22:48:42.717Z"
   },
   {
    "duration": 44,
    "start_time": "2021-12-20T22:48:42.817Z"
   },
   {
    "duration": 29,
    "start_time": "2021-12-20T22:48:42.864Z"
   },
   {
    "duration": 48,
    "start_time": "2021-12-20T22:48:42.895Z"
   },
   {
    "duration": 504,
    "start_time": "2021-12-20T22:48:42.945Z"
   },
   {
    "duration": 325,
    "start_time": "2021-12-20T22:48:43.451Z"
   },
   {
    "duration": 293,
    "start_time": "2021-12-20T22:48:43.778Z"
   },
   {
    "duration": 313,
    "start_time": "2021-12-20T22:48:44.073Z"
   },
   {
    "duration": 299,
    "start_time": "2021-12-20T22:48:44.388Z"
   },
   {
    "duration": 331,
    "start_time": "2021-12-20T22:48:44.689Z"
   },
   {
    "duration": 258,
    "start_time": "2021-12-20T22:48:45.023Z"
   },
   {
    "duration": 249,
    "start_time": "2021-12-20T22:48:45.283Z"
   },
   {
    "duration": 242,
    "start_time": "2021-12-20T22:48:45.534Z"
   },
   {
    "duration": 316,
    "start_time": "2021-12-20T22:48:45.779Z"
   },
   {
    "duration": 235,
    "start_time": "2021-12-20T22:48:46.097Z"
   },
   {
    "duration": 42,
    "start_time": "2021-12-20T22:48:46.336Z"
   },
   {
    "duration": 418,
    "start_time": "2021-12-20T22:48:46.381Z"
   },
   {
    "duration": 298,
    "start_time": "2021-12-20T22:48:46.801Z"
   },
   {
    "duration": 405,
    "start_time": "2021-12-20T22:48:47.101Z"
   },
   {
    "duration": 291,
    "start_time": "2021-12-20T22:48:47.508Z"
   },
   {
    "duration": 316,
    "start_time": "2021-12-20T22:48:47.801Z"
   },
   {
    "duration": 7,
    "start_time": "2021-12-20T22:48:48.120Z"
   },
   {
    "duration": 95,
    "start_time": "2021-12-20T22:48:48.129Z"
   },
   {
    "duration": 56,
    "start_time": "2021-12-20T22:48:48.227Z"
   },
   {
    "duration": 76,
    "start_time": "2021-12-20T22:48:48.285Z"
   },
   {
    "duration": 13,
    "start_time": "2021-12-20T22:48:48.363Z"
   },
   {
    "duration": 92,
    "start_time": "2021-12-20T22:48:48.378Z"
   },
   {
    "duration": 23,
    "start_time": "2021-12-20T22:48:48.472Z"
   },
   {
    "duration": 38,
    "start_time": "2021-12-20T22:48:48.497Z"
   },
   {
    "duration": 338,
    "start_time": "2021-12-20T22:48:48.537Z"
   },
   {
    "duration": 19,
    "start_time": "2021-12-20T22:48:48.878Z"
   },
   {
    "duration": 20,
    "start_time": "2021-12-20T22:48:48.900Z"
   },
   {
    "duration": 1864,
    "start_time": "2021-12-20T22:48:48.923Z"
   },
   {
    "duration": 41,
    "start_time": "2021-12-20T22:48:50.789Z"
   },
   {
    "duration": 20,
    "start_time": "2021-12-20T22:48:50.832Z"
   }
  ],
  "kernelspec": {
   "display_name": "Python 3",
   "language": "python",
   "name": "python3"
  },
  "language_info": {
   "codemirror_mode": {
    "name": "ipython",
    "version": 3
   },
   "file_extension": ".py",
   "mimetype": "text/x-python",
   "name": "python",
   "nbconvert_exporter": "python",
   "pygments_lexer": "ipython3",
   "version": "3.7.8"
  },
  "toc": {
   "base_numbering": 1,
   "nav_menu": {},
   "number_sections": true,
   "sideBar": true,
   "skip_h1_title": false,
   "title_cell": "Table of Contents",
   "title_sidebar": "Contents",
   "toc_cell": false,
   "toc_position": {
    "height": "calc(100% - 180px)",
    "left": "10px",
    "top": "150px",
    "width": "239.006px"
   },
   "toc_section_display": true,
   "toc_window_display": true
  }
 },
 "nbformat": 4,
 "nbformat_minor": 2
}
