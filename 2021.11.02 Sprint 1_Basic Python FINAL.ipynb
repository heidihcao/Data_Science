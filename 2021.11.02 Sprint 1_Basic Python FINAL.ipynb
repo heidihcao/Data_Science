{
 "cells": [
  {
   "cell_type": "markdown",
   "metadata": {
    "id": "E0vqbgi9ay0H"
   },
   "source": [
    "# Yandex.Music"
   ]
  },
  {
   "cell_type": "markdown",
   "metadata": {
    "id": "fhq_eyov_Zcs"
   },
   "source": [
    "# Contents <a id='back'></a>\n",
    "\n",
    "* [Introduction](#intro)\n",
    "* [Stage 1. Data overview](#data_review)\n",
    "    * [Conclusions](#data_review_conclusions)\n",
    "* [Stage 2. Data preprocessing](#data_preprocessing)\n",
    "    * [2.1 Header style](#header_style)\n",
    "    * [2.2 Missing values](#missing_values)\n",
    "    * [2.3 Duplicates](#duplicates)\n",
    "    * [2.4 Conclusions](#data_preprocessing_conclusions)\n",
    "* [Stage 3. Testing the hypotheses](#hypotheses)\n",
    "    * [3.1 Hypothesis 1: user activity in the two cities](#activity)\n",
    "    * [3.2 Hypothesis 2: music preferences on Monday and Friday](#week)\n",
    "    * [3.3 Hypothesis 3: genre preferences in Springfield and Shelbyville](#genre)\n",
    "* [Findings](#end)"
   ]
  },
  {
   "cell_type": "markdown",
   "metadata": {
    "id": "VUC88oWjTJw2"
   },
   "source": [
    "## Introduction <a id='intro'></a>\n",
    "\n",
    "In this project, I compared the music preferences of the cities of Springfield and Shelbyville. I studied real Yandex.Music data to test the hypotheses below and compare user behavior for these two cities.\n",
    "\n",
    "### Goal: \n",
    "Test three hypotheses:\n",
    "1. User activity differs depending on the day of the week and from city to city. \n",
    "2. On Monday mornings, Springfield and Shelbyville residents listen to different genres. This is also true for Friday evenings. \n",
    "3. Springfield and Shelbyville listeners have different preferences. In Springfield, they prefer pop, while Shelbyville has more rap fans.\n",
    "\n",
    "### Stages \n",
    "\n",
    "My project consisted of three stages:\n",
    " 1. Data overview\n",
    " 2. Data preprocessing\n",
    " 3. Testing the hypotheses\n",
    " \n",
    "[Back to Contents](#back)"
   ]
  },
  {
   "cell_type": "markdown",
   "metadata": {
    "id": "Ml1hmfXC_Zcs"
   },
   "source": [
    "## Stage 1. Data overview <a id='data_review'></a>\n"
   ]
  },
  {
   "cell_type": "markdown",
   "metadata": {
    "id": "57eAOGIz_Zcs"
   },
   "source": [
    "Import `pandas`."
   ]
  },
  {
   "cell_type": "code",
   "execution_count": 3,
   "metadata": {
    "id": "AXN7PHPN_Zcs"
   },
   "outputs": [],
   "source": [
    "import pandas as pd\n",
    "df=pd.read_csv('/datasets/music_project_en.csv')\n"
   ]
  },
  {
   "cell_type": "markdown",
   "metadata": {
    "id": "SG23P8tt_Zcs"
   },
   "source": [
    "Read the file `music_project_en.csv` from the `/datasets/` folder and save it in the `df` variable:"
   ]
  },
  {
   "cell_type": "code",
   "execution_count": 4,
   "metadata": {
    "id": "fFVu7vqh_Zct"
   },
   "outputs": [
    {
     "data": {
      "text/html": [
       "<div>\n",
       "<style scoped>\n",
       "    .dataframe tbody tr th:only-of-type {\n",
       "        vertical-align: middle;\n",
       "    }\n",
       "\n",
       "    .dataframe tbody tr th {\n",
       "        vertical-align: top;\n",
       "    }\n",
       "\n",
       "    .dataframe thead th {\n",
       "        text-align: right;\n",
       "    }\n",
       "</style>\n",
       "<table border=\"1\" class=\"dataframe\">\n",
       "  <thead>\n",
       "    <tr style=\"text-align: right;\">\n",
       "      <th></th>\n",
       "      <th>userID</th>\n",
       "      <th>Track</th>\n",
       "      <th>artist</th>\n",
       "      <th>genre</th>\n",
       "      <th>City</th>\n",
       "      <th>time</th>\n",
       "      <th>Day</th>\n",
       "    </tr>\n",
       "  </thead>\n",
       "  <tbody>\n",
       "    <tr>\n",
       "      <td>count</td>\n",
       "      <td>65079</td>\n",
       "      <td>63736</td>\n",
       "      <td>57512</td>\n",
       "      <td>63881</td>\n",
       "      <td>65079</td>\n",
       "      <td>65079</td>\n",
       "      <td>65079</td>\n",
       "    </tr>\n",
       "    <tr>\n",
       "      <td>unique</td>\n",
       "      <td>41748</td>\n",
       "      <td>39666</td>\n",
       "      <td>37806</td>\n",
       "      <td>268</td>\n",
       "      <td>2</td>\n",
       "      <td>20392</td>\n",
       "      <td>3</td>\n",
       "    </tr>\n",
       "    <tr>\n",
       "      <td>top</td>\n",
       "      <td>A8AE9169</td>\n",
       "      <td>Brand</td>\n",
       "      <td>Kartvelli</td>\n",
       "      <td>pop</td>\n",
       "      <td>Springfield</td>\n",
       "      <td>21:51:22</td>\n",
       "      <td>Friday</td>\n",
       "    </tr>\n",
       "    <tr>\n",
       "      <td>freq</td>\n",
       "      <td>76</td>\n",
       "      <td>136</td>\n",
       "      <td>136</td>\n",
       "      <td>8850</td>\n",
       "      <td>45360</td>\n",
       "      <td>14</td>\n",
       "      <td>23149</td>\n",
       "    </tr>\n",
       "  </tbody>\n",
       "</table>\n",
       "</div>"
      ],
      "text/plain": [
       "          userID  Track     artist  genre       City        time     Day\n",
       "count      65079  63736      57512  63881        65079     65079   65079\n",
       "unique     41748  39666      37806    268            2     20392       3\n",
       "top     A8AE9169  Brand  Kartvelli    pop  Springfield  21:51:22  Friday\n",
       "freq          76    136        136   8850        45360        14   23149"
      ]
     },
     "execution_count": 4,
     "metadata": {},
     "output_type": "execute_result"
    }
   ],
   "source": [
    "# reading the file and storing it to df\n",
    "df.describe()"
   ]
  },
  {
   "cell_type": "markdown",
   "metadata": {
    "id": "rDoOMd3uTqnZ"
   },
   "source": [
    "Print the first 10 table rows:"
   ]
  },
  {
   "cell_type": "code",
   "execution_count": 5,
   "metadata": {
    "id": "oWTVX3gW_Zct"
   },
   "outputs": [
    {
     "name": "stdout",
     "output_type": "stream",
     "text": [
      "     userID                        Track            artist   genre  \\\n",
      "0  FFB692EC            Kamigata To Boots  The Mass Missile    rock   \n",
      "1  55204538  Delayed Because of Accident  Andreas Rönnberg    rock   \n",
      "2    20EC38            Funiculì funiculà       Mario Lanza     pop   \n",
      "3  A3DD03C9        Dragons in the Sunset        Fire + Ice    folk   \n",
      "4  E2DC1FAE                  Soul People        Space Echo   dance   \n",
      "5  842029A1                       Chains          Obladaet  rusrap   \n",
      "6  4CB90AA5                         True      Roman Messer   dance   \n",
      "7  F03E1C1F             Feeling This Way   Polina Griffith   dance   \n",
      "8  8FA1D3BE                     L’estate       Julia Dalia  ruspop   \n",
      "9  E772D5C0                    Pessimist               NaN   dance   \n",
      "\n",
      "        City        time        Day  \n",
      "0  Shelbyville  20:28:33  Wednesday  \n",
      "1  Springfield  14:07:09     Friday  \n",
      "2  Shelbyville  20:58:07  Wednesday  \n",
      "3  Shelbyville  08:37:09     Monday  \n",
      "4  Springfield  08:34:34     Monday  \n",
      "5  Shelbyville  13:09:41     Friday  \n",
      "6  Springfield  13:00:07  Wednesday  \n",
      "7  Springfield  20:47:49  Wednesday  \n",
      "8  Springfield  09:17:40     Friday  \n",
      "9  Shelbyville  21:20:49  Wednesday  \n"
     ]
    }
   ],
   "source": [
    "# obtaining the first 10 rows from the df table\n",
    "print(df.head(10))"
   ]
  },
  {
   "cell_type": "markdown",
   "metadata": {
    "id": "EO73Kwic_Zct"
   },
   "source": [
    "Obtaining general information about the table:"
   ]
  },
  {
   "cell_type": "code",
   "execution_count": 6,
   "metadata": {
    "id": "DSf2kIb-_Zct"
   },
   "outputs": [
    {
     "name": "stdout",
     "output_type": "stream",
     "text": [
      "<class 'pandas.core.frame.DataFrame'>\n",
      "RangeIndex: 65079 entries, 0 to 65078\n",
      "Data columns (total 7 columns):\n",
      "  userID    65079 non-null object\n",
      "Track       63736 non-null object\n",
      "artist      57512 non-null object\n",
      "genre       63881 non-null object\n",
      "  City      65079 non-null object\n",
      "time        65079 non-null object\n",
      "Day         65079 non-null object\n",
      "dtypes: object(7)\n",
      "memory usage: 3.5+ MB\n"
     ]
    }
   ],
   "source": [
    "# obtaining general information about the data in df\n",
    "df.info()"
   ]
  },
  {
   "cell_type": "markdown",
   "metadata": {
    "id": "TaQ2Iwbr_Zct"
   },
   "source": [
    "The table contains seven columns. They all store the same data type: `object`.\n",
    "\n",
    "According to the documentation:\n",
    "- `'userID'` — user identifier\n",
    "- `'Track'` — track title\n",
    "- `'artist'` — artist's name\n",
    "- `'genre'`\n",
    "- `'City'` — user's city\n",
    "- `'time'` — the exact time the track was played\n",
    "- `'Day'` — day of the week\n",
    "\n",
    "We can see three issues with style in the column names:\n",
    "1. Some names are uppercase, some are lowercase.\n",
    "2. There are spaces in some names.\n",
    "3. There are different \"non-null object\" values for each column, indicating there are null values and missing data.\n",
    "4. \n",
    "The number of column values is different. This means the data contains missing values.\n"
   ]
  },
  {
   "cell_type": "markdown",
   "metadata": {
    "id": "MCB6-dXG_Zct"
   },
   "source": [
    "### Conclusions <a id='data_review_conclusions'></a> \n",
    "\n",
    "Each row in the table stores data on a track that was played. Some columns describe the track itself: its title, artist and genre. The rest convey information about the user: the city they come from, the time they played the track. \n",
    "\n",
    "It's clear that the data is sufficient to test the hypotheses. However, there are missing values.\n",
    "\n",
    "To move forward, we need to preprocess the data."
   ]
  },
  {
   "cell_type": "markdown",
   "metadata": {
    "id": "3eL__vcwViOi"
   },
   "source": [
    "[Back to Contents](#back)"
   ]
  },
  {
   "cell_type": "markdown",
   "metadata": {
    "id": "SjYF6Ub9_Zct"
   },
   "source": [
    "## Stage 2. Data preprocessing <a id='data_preprocessing'></a>\n",
    "During this stage, I corrected the formatting in the column headers and examined missing values. \n",
    "Then, I checked for whether there were duplicates in the data."
   ]
  },
  {
   "cell_type": "markdown",
   "metadata": {
    "id": "dIaKXr29_Zct"
   },
   "source": [
    "### Header style <a id='header_style'></a>\n",
    "Print the column header:"
   ]
  },
  {
   "cell_type": "code",
   "execution_count": 55,
   "metadata": {
    "id": "oKOTdF_Q_Zct"
   },
   "outputs": [
    {
     "name": "stdout",
     "output_type": "stream",
     "text": [
      "Index(['user_id', 'track', 'artist', 'genre', 'city', 'time', 'day'], dtype='object')\n"
     ]
    }
   ],
   "source": [
    "# the list of column names in the df table\n",
    "print(df.columns)"
   ]
  },
  {
   "cell_type": "markdown",
   "metadata": {
    "id": "zj5534cv_Zct"
   },
   "source": [
    "Change column names according to the rules of good style:\n",
    "* If the name has several words, use snake_case\n",
    "* All characters must be lowercase\n",
    "* Delete spaces"
   ]
  },
  {
   "cell_type": "code",
   "execution_count": 56,
   "metadata": {
    "id": "ISlFqs5y_Zct"
   },
   "outputs": [],
   "source": [
    "# renaming columns\n",
    "df=df.rename(\n",
    "    columns={\n",
    "        'Track':'track',\n",
    "        'Day':'day',\n",
    "        '  userID':'user_id',\n",
    "        '  City  ':'city'\n",
    "    }\n",
    ")"
   ]
  },
  {
   "cell_type": "markdown",
   "metadata": {
    "id": "1dqbh00J_Zct"
   },
   "source": [
    "Check the transformed result:"
   ]
  },
  {
   "cell_type": "code",
   "execution_count": 57,
   "metadata": {
    "id": "d4NOAmTW_Zct"
   },
   "outputs": [
    {
     "name": "stdout",
     "output_type": "stream",
     "text": [
      "Index(['user_id', 'track', 'artist', 'genre', 'city', 'time', 'day'], dtype='object')\n"
     ]
    }
   ],
   "source": [
    "# checking result: the list of column names\n",
    "print(df.columns)"
   ]
  },
  {
   "cell_type": "markdown",
   "metadata": {
    "id": "xYJk6ksJVpOl"
   },
   "source": [
    "[Back to Contents](#back)"
   ]
  },
  {
   "cell_type": "markdown",
   "metadata": {
    "id": "5ISfbcfY_Zct"
   },
   "source": [
    "### Missing values <a id='missing_values'></a>\n",
    "Use two `pandas` methods to find the number of missing values in the table."
   ]
  },
  {
   "cell_type": "code",
   "execution_count": 58,
   "metadata": {
    "id": "RskX29qr_Zct"
   },
   "outputs": [
    {
     "name": "stdout",
     "output_type": "stream",
     "text": [
      "user_id    0\n",
      "track      0\n",
      "artist     0\n",
      "genre      0\n",
      "city       0\n",
      "time       0\n",
      "day        0\n",
      "dtype: int64\n"
     ]
    }
   ],
   "source": [
    "# calculating missing values\n",
    "print(df.isna().sum()) "
   ]
  },
  {
   "cell_type": "markdown",
   "metadata": {
    "id": "qubhgnlO_Zct"
   },
   "source": [
    "Not all missing values affect the research. For instance, the missing values in `track` and `artist` are not critical. I will simply replace them with clear markers.\n",
    "\n",
    "However, missing values in `'genre'` can affect the comparison of music preferences in Springfield and Shelbyville. In real life, it would be useful to learn the reasons why the data is missing and try to make up for them, but that's a luxury given project constraints here. Instead, I will:\n",
    "* Fill in these missing values with markers\n",
    "* Evaluate how much the missing values may affect your computations"
   ]
  },
  {
   "cell_type": "markdown",
   "metadata": {
    "id": "fSv2laPA_Zct"
   },
   "source": [
    "Here, I created the `columns_to_replace` list, looped over it with `for`, and replaced the missing values in each of the columns. The purpose is to replace the missing values in `'track'`, `'artist'`, and `'genre'` with the string `'unknown'`."
   ]
  },
  {
   "cell_type": "code",
   "execution_count": 63,
   "metadata": {
    "id": "KplB5qWs_Zct"
   },
   "outputs": [],
   "source": [
    "# looping over column names and replacing missing values with 'unknown'\n",
    "\n",
    "#df['track']=df['track'].fillna('unknown')\n",
    "#df['artist']=df['artist'].fillna('unknown')\n",
    "#df['genre']=df['genre'].fillna('unknown')\n",
    "\n",
    "columns_to_replace=['genre','artist','track']\n",
    "for column in columns_to_replace:\n",
    "    df[column]=df[column].fillna('unknown')\n",
    "\n"
   ]
  },
  {
   "cell_type": "markdown",
   "metadata": {
    "id": "Ilsm-MZo_Zct"
   },
   "source": [
    "Double-checkthat the table contains no more missing values by counting the missing values again:"
   ]
  },
  {
   "cell_type": "code",
   "execution_count": 64,
   "metadata": {
    "id": "Tq4nYRX4_Zct"
   },
   "outputs": [
    {
     "name": "stdout",
     "output_type": "stream",
     "text": [
      "user_id    0\n",
      "track      0\n",
      "artist     0\n",
      "genre      0\n",
      "city       0\n",
      "time       0\n",
      "day        0\n",
      "dtype: int64\n"
     ]
    }
   ],
   "source": [
    "# counting missing values\n",
    "print(df.isna().sum()) "
   ]
  },
  {
   "cell_type": "markdown",
   "metadata": {
    "id": "74ZIBmq9VrsK"
   },
   "source": [
    "[Back to Contents](#back)"
   ]
  },
  {
   "cell_type": "markdown",
   "metadata": {
    "id": "BWKRtBJ3_Zct"
   },
   "source": [
    "### Duplicates <a id='duplicates'></a>\n",
    "Find the number of obvious duplicates in the table:"
   ]
  },
  {
   "cell_type": "code",
   "execution_count": 11,
   "metadata": {
    "id": "36eES_S0_Zct"
   },
   "outputs": [
    {
     "name": "stdout",
     "output_type": "stream",
     "text": [
      "3826\n"
     ]
    }
   ],
   "source": [
    "# counting clear duplicates\n",
    "print(df.duplicated().sum()) "
   ]
  },
  {
   "cell_type": "markdown",
   "metadata": {
    "id": "Ot25h6XR_Zct"
   },
   "source": [
    "Call the `pandas` method for getting rid of obvious duplicates:"
   ]
  },
  {
   "cell_type": "code",
   "execution_count": 12,
   "metadata": {
    "id": "exFHq6tt_Zct"
   },
   "outputs": [],
   "source": [
    "# removing obvious duplicates\n",
    "df = df.drop_duplicates() "
   ]
  },
  {
   "cell_type": "markdown",
   "metadata": {
    "id": "Im2YwBEG_Zct"
   },
   "source": [
    "Recount explicit duplicates once more to confirm removal:"
   ]
  },
  {
   "cell_type": "code",
   "execution_count": 13,
   "metadata": {
    "id": "-8PuNWQ0_Zct"
   },
   "outputs": [
    {
     "name": "stdout",
     "output_type": "stream",
     "text": [
      "0\n"
     ]
    }
   ],
   "source": [
    "# checking for duplicates\n",
    "print(df.duplicated().sum()) "
   ]
  },
  {
   "cell_type": "markdown",
   "metadata": {
    "id": "QlFBsxAr_Zct"
   },
   "source": [
    "Now the goal is to get rid of implicit duplicates in the `genre` column. For example, the name of a genre can be written in different ways. Such errors will also affect the result."
   ]
  },
  {
   "cell_type": "markdown",
   "metadata": {
    "id": "eSjWwsOh_Zct"
   },
   "source": [
    "To do so, I will print a list of unique genre names, sorted in alphabetical order. \n",
    "* Retrieve the intended DataFrame column \n",
    "* Apply a sorting method to it\n",
    "* For the sorted column, call the method that will return all unique column values"
   ]
  },
  {
   "cell_type": "code",
   "execution_count": 14,
   "metadata": {
    "id": "JIUcqzZN_Zct",
    "scrolled": true
   },
   "outputs": [
    {
     "name": "stdout",
     "output_type": "stream",
     "text": [
      "['acid' 'acoustic' 'action' 'adult' 'africa' 'afrikaans' 'alternative'\n",
      " 'ambient' 'americana' 'animated' 'anime' 'arabesk' 'arabic' 'arena'\n",
      " 'argentinetango' 'art' 'audiobook' 'avantgarde' 'axé' 'baile' 'balkan'\n",
      " 'beats' 'bigroom' 'black' 'bluegrass' 'blues' 'bollywood' 'bossa'\n",
      " 'brazilian' 'breakbeat' 'breaks' 'broadway' 'cantautori' 'cantopop'\n",
      " 'canzone' 'caribbean' 'caucasian' 'celtic' 'chamber' 'children' 'chill'\n",
      " 'chinese' 'choral' 'christian' 'christmas' 'classical' 'classicmetal'\n",
      " 'club' 'colombian' 'comedy' 'conjazz' 'contemporary' 'country' 'cuban'\n",
      " 'dance' 'dancehall' 'dancepop' 'dark' 'death' 'deep' 'deutschrock'\n",
      " 'deutschspr' 'dirty' 'disco' 'dnb' 'documentary' 'downbeat' 'downtempo'\n",
      " 'drum' 'dub' 'dubstep' 'eastern' 'easy' 'electronic' 'electropop' 'emo'\n",
      " 'entehno' 'epicmetal' 'estrada' 'ethnic' 'eurofolk' 'european'\n",
      " 'experimental' 'extrememetal' 'fado' 'film' 'fitness' 'flamenco' 'folk'\n",
      " 'folklore' 'folkmetal' 'folkrock' 'folktronica' 'forró' 'frankreich'\n",
      " 'französisch' 'french' 'funk' 'future' 'gangsta' 'garage' 'german'\n",
      " 'ghazal' 'gitarre' 'glitch' 'gospel' 'gothic' 'grime' 'grunge' 'gypsy'\n",
      " 'handsup' \"hard'n'heavy\" 'hardcore' 'hardstyle' 'hardtechno' 'hip'\n",
      " 'hip-hop' 'hiphop' 'historisch' 'holiday' 'hop' 'horror' 'house' 'idm'\n",
      " 'independent' 'indian' 'indie' 'indipop' 'industrial' 'inspirational'\n",
      " 'instrumental' 'international' 'irish' 'jam' 'japanese' 'jazz' 'jewish'\n",
      " 'jpop' 'jungle' 'k-pop' 'karadeniz' 'karaoke' 'kayokyoku' 'korean'\n",
      " 'laiko' 'latin' 'latino' 'leftfield' 'local' 'lounge' 'loungeelectronic'\n",
      " 'lovers' 'malaysian' 'mandopop' 'marschmusik' 'meditative'\n",
      " 'mediterranean' 'melodic' 'metal' 'metalcore' 'mexican' 'middle'\n",
      " 'minimal' 'miscellaneous' 'modern' 'mood' 'mpb' 'muslim' 'native'\n",
      " 'neoklassik' 'neue' 'new' 'newage' 'newwave' 'nu' 'nujazz' 'numetal'\n",
      " 'oceania' 'old' 'opera' 'orchestral' 'other' 'piano' 'pop'\n",
      " 'popelectronic' 'popeurodance' 'post' 'posthardcore' 'postrock' 'power'\n",
      " 'progmetal' 'progressive' 'psychedelic' 'punjabi' 'punk' 'quebecois'\n",
      " 'ragga' 'ram' 'rancheras' 'rap' 'rave' 'reggae' 'reggaeton' 'regional'\n",
      " 'relax' 'religious' 'retro' 'rhythm' 'rnb' 'rnr' 'rock' 'rockabilly'\n",
      " 'romance' 'roots' 'ruspop' 'rusrap' 'rusrock' 'salsa' 'samba' 'schlager'\n",
      " 'self' 'sertanejo' 'shoegazing' 'showtunes' 'singer' 'ska' 'slow'\n",
      " 'smooth' 'soul' 'soulful' 'sound' 'soundtrack' 'southern' 'specialty'\n",
      " 'speech' 'spiritual' 'sport' 'stonerrock' 'surf' 'swing' 'synthpop'\n",
      " 'sängerportrait' 'tango' 'tanzorchester' 'taraftar' 'tech' 'techno'\n",
      " 'thrash' 'top' 'traditional' 'tradjazz' 'trance' 'tribal' 'trip'\n",
      " 'triphop' 'tropical' 'türk' 'türkçe' 'urban' 'uzbek' 'variété' 'vi'\n",
      " 'videogame' 'vocal' 'western' 'world' 'worldbeat' 'ïîï' nan]\n"
     ]
    }
   ],
   "source": [
    "# viewing unique genre names\n",
    "\n",
    "print(df['genre'].sort_values().unique())\n"
   ]
  },
  {
   "cell_type": "markdown",
   "metadata": {
    "id": "qej-Qmuo_Zct"
   },
   "source": [
    "Looking through the list for implicit duplicates, I noticed that the genre `hiphop` could take on other forms either written incorrectly or are alternative names of the same genre:\n",
    "* `hip`\n",
    "* `hop`\n",
    "* `hip-hop`\n",
    "\n",
    "To get rid of them, I declared the function `replace_wrong_genres()` with two parameters: \n",
    "* `wrong_genres=` — the list of duplicates\n",
    "* `correct_genre=` — the string with the correct value\n",
    "\n",
    "The function should correct the names in the `'genre'` column from the `df` table, i.e. replace each value from the `wrong_genres` list with the value in `correct_genre`."
   ]
  },
  {
   "cell_type": "code",
   "execution_count": 15,
   "metadata": {
    "id": "ErNDkmns_Zct"
   },
   "outputs": [],
   "source": [
    "# function for replacing implicit duplicates\n",
    "wrong_genres=['hip','hop','hip-hop']\n",
    "correct_genre='hiphop'\n",
    "\n",
    "def replace_wrong_genres(wrong_genres,correct_genre):\n",
    "    for wrong_genre in wrong_genres:\n",
    "        df['genre']=df['genre'].replace(wrong_genre,correct_genre)"
   ]
  },
  {
   "cell_type": "markdown",
   "metadata": {
    "id": "aDoBJxbA_Zct"
   },
   "source": [
    "Calling `replace_wrong_genres()` and pass it arguments so that it clears implicit duplcates (`hip`, `hop`, and `hip-hop`) and replaces them with `hiphop`:"
   ]
  },
  {
   "cell_type": "code",
   "execution_count": 16,
   "metadata": {
    "id": "YN5i2hpmSo09"
   },
   "outputs": [],
   "source": [
    "# removing implicit duplicates\n",
    "replace_wrong_genres(wrong_genres,correct_genre)"
   ]
  },
  {
   "cell_type": "markdown",
   "metadata": {},
   "source": [
    "<div class=\"alert alert-success\" style=\"border-radius: 15px; box-shadow: 4px 4px 4px; border: 1px solid \">\n",
    "<h2> Alternative Clean-up </h2>\n",
    "    \n",
    "We wrote and called a function above that worked correctly.\n",
    "\n",
    "In general, these manipulations can be performed without a function. To do this, I will need a list and the same **replace** method. It will look like this:\n",
    "    \n",
    "    \n",
    "    wrong_genres = ['hip', 'hop', 'hip-hop']\n",
    "    correct_genre = 'hiphop'  \n",
    "\n",
    "    df['genre'] = df['genre'].replace(wrong_genres, correct_genre)\n",
    "    \n",
    "    \n",
    "Or, which is the same:\n",
    "    \n",
    "    \n",
    "    df['genre'] = df['genre'].replace(['hip', 'hop', 'hip-hop'], 'hiphop')\n",
    "</div>"
   ]
  },
  {
   "cell_type": "markdown",
   "metadata": {
    "id": "zQKF16_RG15m"
   },
   "source": [
    "Double check that the duplicate names were removed by printing the list of unique values from the `'genre'` column:"
   ]
  },
  {
   "cell_type": "code",
   "execution_count": 65,
   "metadata": {
    "id": "wvixALnFG15m",
    "scrolled": true
   },
   "outputs": [
    {
     "name": "stdout",
     "output_type": "stream",
     "text": [
      "['acid' 'acoustic' 'action' 'adult' 'africa' 'afrikaans' 'alternative'\n",
      " 'ambient' 'americana' 'animated' 'anime' 'arabesk' 'arabic' 'arena'\n",
      " 'argentinetango' 'art' 'audiobook' 'avantgarde' 'axé' 'baile' 'balkan'\n",
      " 'beats' 'bigroom' 'black' 'bluegrass' 'blues' 'bollywood' 'bossa'\n",
      " 'brazilian' 'breakbeat' 'breaks' 'broadway' 'cantautori' 'cantopop'\n",
      " 'canzone' 'caribbean' 'caucasian' 'celtic' 'chamber' 'children' 'chill'\n",
      " 'chinese' 'choral' 'christian' 'christmas' 'classical' 'classicmetal'\n",
      " 'club' 'colombian' 'comedy' 'conjazz' 'contemporary' 'country' 'cuban'\n",
      " 'dance' 'dancehall' 'dancepop' 'dark' 'death' 'deep' 'deutschrock'\n",
      " 'deutschspr' 'dirty' 'disco' 'dnb' 'documentary' 'downbeat' 'downtempo'\n",
      " 'drum' 'dub' 'dubstep' 'eastern' 'easy' 'electronic' 'electropop' 'emo'\n",
      " 'entehno' 'epicmetal' 'estrada' 'ethnic' 'eurofolk' 'european'\n",
      " 'experimental' 'extrememetal' 'fado' 'film' 'fitness' 'flamenco' 'folk'\n",
      " 'folklore' 'folkmetal' 'folkrock' 'folktronica' 'forró' 'frankreich'\n",
      " 'französisch' 'french' 'funk' 'future' 'gangsta' 'garage' 'german'\n",
      " 'ghazal' 'gitarre' 'glitch' 'gospel' 'gothic' 'grime' 'grunge' 'gypsy'\n",
      " 'handsup' \"hard'n'heavy\" 'hardcore' 'hardstyle' 'hardtechno' 'hiphop'\n",
      " 'historisch' 'holiday' 'horror' 'house' 'idm' 'independent' 'indian'\n",
      " 'indie' 'indipop' 'industrial' 'inspirational' 'instrumental'\n",
      " 'international' 'irish' 'jam' 'japanese' 'jazz' 'jewish' 'jpop' 'jungle'\n",
      " 'k-pop' 'karadeniz' 'karaoke' 'kayokyoku' 'korean' 'laiko' 'latin'\n",
      " 'latino' 'leftfield' 'local' 'lounge' 'loungeelectronic' 'lovers'\n",
      " 'malaysian' 'mandopop' 'marschmusik' 'meditative' 'mediterranean'\n",
      " 'melodic' 'metal' 'metalcore' 'mexican' 'middle' 'minimal'\n",
      " 'miscellaneous' 'modern' 'mood' 'mpb' 'muslim' 'native' 'neoklassik'\n",
      " 'neue' 'new' 'newage' 'newwave' 'nu' 'nujazz' 'numetal' 'oceania' 'old'\n",
      " 'opera' 'orchestral' 'other' 'piano' 'pop' 'popelectronic' 'popeurodance'\n",
      " 'post' 'posthardcore' 'postrock' 'power' 'progmetal' 'progressive'\n",
      " 'psychedelic' 'punjabi' 'punk' 'quebecois' 'ragga' 'ram' 'rancheras'\n",
      " 'rap' 'rave' 'reggae' 'reggaeton' 'regional' 'relax' 'religious' 'retro'\n",
      " 'rhythm' 'rnb' 'rnr' 'rock' 'rockabilly' 'romance' 'roots' 'ruspop'\n",
      " 'rusrap' 'rusrock' 'salsa' 'samba' 'schlager' 'self' 'sertanejo'\n",
      " 'shoegazing' 'showtunes' 'singer' 'ska' 'slow' 'smooth' 'soul' 'soulful'\n",
      " 'sound' 'soundtrack' 'southern' 'specialty' 'speech' 'spiritual' 'sport'\n",
      " 'stonerrock' 'surf' 'swing' 'synthpop' 'sängerportrait' 'tango'\n",
      " 'tanzorchester' 'taraftar' 'tech' 'techno' 'thrash' 'top' 'traditional'\n",
      " 'tradjazz' 'trance' 'tribal' 'trip' 'triphop' 'tropical' 'türk' 'türkçe'\n",
      " 'unknown' 'urban' 'uzbek' 'variété' 'vi' 'videogame' 'vocal' 'western'\n",
      " 'world' 'worldbeat' 'ïîï']\n"
     ]
    }
   ],
   "source": [
    "# checking for implicit duplicates\n",
    "\n",
    "print(df['genre'].sort_values().unique())"
   ]
  },
  {
   "cell_type": "markdown",
   "metadata": {
    "id": "ALgNbvF3VtPA"
   },
   "source": [
    "[Back to Contents](#back)"
   ]
  },
  {
   "cell_type": "markdown",
   "metadata": {
    "id": "jz6a9-7HQUDd"
   },
   "source": [
    "### Conclusions <a id='data_review_conclusions'></a> \n",
    "\n",
    "I detected three issues with the data:\n",
    "\n",
    "- Incorrect header styles\n",
    "- Missing values\n",
    "- Obvious and implicit duplicates\n",
    "\n",
    "The headers have been cleaned up to make processing the table simpler.\n",
    "\n",
    "All missing values have been replaced with `'unknown'`. But we still have to see whether the missing values in `'genre'` will affect our calculations.\n",
    "\n",
    "The absence of duplicates will make the results more precise and easier to understand.\n",
    "\n",
    "The next stage is to test our three hypotheses. "
   ]
  },
  {
   "cell_type": "markdown",
   "metadata": {
    "id": "eK1es74rVujj"
   },
   "source": [
    "[Back to Contents](#back)"
   ]
  },
  {
   "cell_type": "markdown",
   "metadata": {
    "id": "WttZHXH0SqKk"
   },
   "source": [
    "## Stage 3. Testing hypotheses <a id='hypotheses'></a>"
   ]
  },
  {
   "cell_type": "markdown",
   "metadata": {
    "id": "Im936VVi_Zcu"
   },
   "source": [
    "### Hypothesis 1: comparing user behavior in two cities <a id='activity'></a>"
   ]
  },
  {
   "cell_type": "markdown",
   "metadata": {
    "id": "nwt_MuaL_Zcu"
   },
   "source": [
    "According to the first hypothesis, users from Springfield and Shelbyville listen to music differently. This hypothesis will be tested using the data on three days of the week: Monday, Wednesday, and Friday:\n",
    "\n",
    "* Divide the users into groups by city.\n",
    "* Compare how many tracks each group played on Monday, Wednesday, and Friday.\n"
   ]
  },
  {
   "cell_type": "code",
   "execution_count": 66,
   "metadata": {
    "id": "0_Qs96oh_Zcu"
   },
   "outputs": [
    {
     "data": {
      "text/plain": [
       "city\n",
       "Shelbyville    19719\n",
       "Springfield    45360\n",
       "Name: user_id, dtype: int64"
      ]
     },
     "execution_count": 66,
     "metadata": {},
     "output_type": "execute_result"
    }
   ],
   "source": [
    "# Counting up the tracks played in each city\n",
    "#df.groupby('city').count()\n",
    "df.groupby('city')['user_id'].count()\n"
   ]
  },
  {
   "cell_type": "markdown",
   "metadata": {
    "id": "dzli3w8o_Zcu"
   },
   "source": [
    "Springfield has more tracks played than Shelbyville, but I can not assume that citizens of Springfield listen to music more often. This city could simply be bigger, and there are more users.\n",
    "\n",
    "I will proceed to group data by day of the week and find the number of tracks played on Monday, Wednesday, and Friday.\n"
   ]
  },
  {
   "cell_type": "code",
   "execution_count": 69,
   "metadata": {
    "id": "uZMKjiJz_Zcu"
   },
   "outputs": [
    {
     "data": {
      "text/html": [
       "<div>\n",
       "<style scoped>\n",
       "    .dataframe tbody tr th:only-of-type {\n",
       "        vertical-align: middle;\n",
       "    }\n",
       "\n",
       "    .dataframe tbody tr th {\n",
       "        vertical-align: top;\n",
       "    }\n",
       "\n",
       "    .dataframe thead th {\n",
       "        text-align: right;\n",
       "    }\n",
       "</style>\n",
       "<table border=\"1\" class=\"dataframe\">\n",
       "  <thead>\n",
       "    <tr style=\"text-align: right;\">\n",
       "      <th></th>\n",
       "      <th>user_id</th>\n",
       "    </tr>\n",
       "    <tr>\n",
       "      <th>day</th>\n",
       "      <th></th>\n",
       "    </tr>\n",
       "  </thead>\n",
       "  <tbody>\n",
       "    <tr>\n",
       "      <td>Friday</td>\n",
       "      <td>23149</td>\n",
       "    </tr>\n",
       "    <tr>\n",
       "      <td>Monday</td>\n",
       "      <td>22697</td>\n",
       "    </tr>\n",
       "    <tr>\n",
       "      <td>Wednesday</td>\n",
       "      <td>19233</td>\n",
       "    </tr>\n",
       "  </tbody>\n",
       "</table>\n",
       "</div>"
      ],
      "text/plain": [
       "           user_id\n",
       "day               \n",
       "Friday       23149\n",
       "Monday       22697\n",
       "Wednesday    19233"
      ]
     },
     "execution_count": 69,
     "metadata": {},
     "output_type": "execute_result"
    }
   ],
   "source": [
    "# Calculating tracks played on each of the three days\n",
    "#df.groupby('day').count()\n",
    "df.groupby('day')[['user_id']].count()"
   ]
  },
  {
   "cell_type": "markdown",
   "metadata": {
    "id": "cC2tNrlL_Zcu"
   },
   "source": [
    "Wednesday is the quietest day overall. But if we consider the two cities separately, the conclusion might be different."
   ]
  },
  {
   "cell_type": "markdown",
   "metadata": {
    "id": "POzs8bGa_Zcu"
   },
   "source": [
    "Previously, I grouped city and day seperately. Now I will write a function that groups the data by both.\n",
    "\n",
    "I will create the `number_tracks()` function to calculate the number of songs played for a given day and city. It will require two parameters:\n",
    "* day of the week\n",
    "* name of the city\n",
    "\n",
    "The function will use a variable to store the rows from the original table, where:\n",
    "  * `'day'` column value is equal to the `day` parameter\n",
    "  * `'city'` column value is equal to the `city` parameter\n",
    "\n",
    "Consecutive filtering with logical indexing will be applied, and then the `'user_id'` column values will be calculated in the resulting table. "
   ]
  },
  {
   "cell_type": "code",
   "execution_count": 70,
   "metadata": {
    "id": "Nz3GdQB1_Zcu"
   },
   "outputs": [
    {
     "data": {
      "text/plain": [
       "6259"
      ]
     },
     "execution_count": 70,
     "metadata": {},
     "output_type": "execute_result"
    }
   ],
   "source": [
    "# <creating the function number_tracks()>\n",
    "\n",
    "    \n",
    "def number_tracks(day,city):\n",
    "    track_list=df.loc[:,['day','city','user_id']]\n",
    "    track_list = track_list[track_list['day'] == day]\n",
    "    track_list = track_list[track_list['city'] == city]\n",
    "    track_list_count=track_list.loc[:,'user_id'].count()\n",
    "    #print(day + ', ' + city + ': ' + str(track_list_count))\n",
    "    #print(track_list)\n",
    "    #print()\n",
    "    return track_list_count\n",
    "\n",
    "number_tracks('Monday', 'Springfield')\n",
    "number_tracks('Monday','Shelbyville')\n",
    "number_tracks('Wednesday','Springfield')\n",
    "number_tracks('Wednesday','Shelbyville')\n",
    "number_tracks('Friday','Springfield')\n",
    "number_tracks('Friday','Shelbyville')\n",
    "\n",
    "# We'll declare a function with two parameters: day=, city=.\n",
    "# Let the track_list variable store the df rows where\n",
    "# the value in the 'day' column is equal to the day= parameter and, at the same time, \n",
    "# the value in the 'city' column is equal to the city= parameter (apply consecutive filtering \n",
    "# with logical indexing).\n",
    "# Let the track_list_count variable store the number of 'user_id' column values in track_list\n",
    "# (found with the count() method).\n",
    "# Let the function return a number: the value of track_list_count.\n",
    "\n",
    "# The function counts tracked played for a certain city and day.\n",
    "# It first retrieves the rows with the intended day from the table,\n",
    "# then filters out the rows with the intended city from the result,\n",
    "# then finds the number of 'user_id' values in the filtered table,\n",
    "# then returns that number.\n",
    "# To see what it returns, wrap the function call in print()."
   ]
  },
  {
   "cell_type": "markdown",
   "metadata": {
    "id": "ytf7xFrFJQ2r"
   },
   "source": [
    "Call `number_tracks()` six times, changing the parameter values, so that you retrieve the data on both cities for each of the three days."
   ]
  },
  {
   "cell_type": "code",
   "execution_count": 32,
   "metadata": {
    "id": "rJcRATNQ_Zcu"
   },
   "outputs": [
    {
     "data": {
      "text/plain": [
       "16715"
      ]
     },
     "execution_count": 32,
     "metadata": {},
     "output_type": "execute_result"
    }
   ],
   "source": [
    "# the number of songs played in Springfield on Monday\n",
    "number_tracks('Monday','Springfield')"
   ]
  },
  {
   "cell_type": "code",
   "execution_count": 33,
   "metadata": {
    "id": "hq_ncZ5T_Zcu"
   },
   "outputs": [
    {
     "data": {
      "text/plain": [
       "5982"
      ]
     },
     "execution_count": 33,
     "metadata": {},
     "output_type": "execute_result"
    }
   ],
   "source": [
    "# the number of songs played in Shelbyville on Monday\n",
    "number_tracks('Monday','Shelbyville')"
   ]
  },
  {
   "cell_type": "code",
   "execution_count": 34,
   "metadata": {
    "id": "_NTy2VPU_Zcu"
   },
   "outputs": [
    {
     "data": {
      "text/plain": [
       "11755"
      ]
     },
     "execution_count": 34,
     "metadata": {},
     "output_type": "execute_result"
    }
   ],
   "source": [
    "# the number of songs played in Springfield on Wednesday\n",
    "number_tracks('Wednesday','Springfield')"
   ]
  },
  {
   "cell_type": "code",
   "execution_count": 35,
   "metadata": {
    "id": "j2y3TAwo_Zcu"
   },
   "outputs": [
    {
     "data": {
      "text/plain": [
       "7478"
      ]
     },
     "execution_count": 35,
     "metadata": {},
     "output_type": "execute_result"
    }
   ],
   "source": [
    "# the number of songs played in Shelbyville on Wednesday\n",
    "number_tracks('Wednesday','Shelbyville')"
   ]
  },
  {
   "cell_type": "code",
   "execution_count": 25,
   "metadata": {
    "id": "vYDw5u_K_Zcu"
   },
   "outputs": [
    {
     "data": {
      "text/plain": [
       "15945"
      ]
     },
     "execution_count": 25,
     "metadata": {},
     "output_type": "execute_result"
    }
   ],
   "source": [
    "# the number of songs played in Springfield on Friday\n",
    "number_tracks('Friday','Springfield')"
   ]
  },
  {
   "cell_type": "code",
   "execution_count": 36,
   "metadata": {
    "id": "8_yzFtW3_Zcu"
   },
   "outputs": [
    {
     "data": {
      "text/plain": [
       "6259"
      ]
     },
     "execution_count": 36,
     "metadata": {},
     "output_type": "execute_result"
    }
   ],
   "source": [
    "# the number of songs played in Shelbyville on Friday\n",
    "number_tracks('Friday','Shelbyville')"
   ]
  },
  {
   "cell_type": "markdown",
   "metadata": {
    "id": "7QXffbO-_Zcu"
   },
   "source": [
    "Use `pd.DataFrame` to create a table, where\n",
    "* Column names are: `['city', 'monday', 'wednesday', 'friday']`\n",
    "* The data is the results you got from `number_tracks()`"
   ]
  },
  {
   "cell_type": "code",
   "execution_count": 71,
   "metadata": {
    "id": "APAcLpOr_Zcu"
   },
   "outputs": [
    {
     "name": "stdout",
     "output_type": "stream",
     "text": [
      "          city  monday  wednesday  friday\n",
      "0  Shelbyville    5614       7003    5895\n",
      "1  Springfield   15740      11056   15945\n"
     ]
    }
   ],
   "source": [
    "# table with results\n",
    "\n",
    "\n",
    "data={'city':['Shelbyville','Springfield'],\n",
    "      'monday':[5614,15740],\n",
    "      'wednesday':[7003,11056],\n",
    "      'friday':[5895,15945]\n",
    "}\n",
    "\n",
    "dfnew=pd.DataFrame(data)\n",
    "\n",
    "print(dfnew)"
   ]
  },
  {
   "cell_type": "markdown",
   "metadata": {
    "id": "-EgPIHYu_Zcu"
   },
   "source": [
    "### Conclusions <a id='data_review_conclusions'></a> \n",
    "\n",
    "The data reveals differences in user behavior:\n",
    "\n",
    "- In Springfield, the number of songs played peaks on Mondays and Fridays, while on Wednesday there is a decrease in activity.\n",
    "- In Shelbyville, on the contrary, users listen to music more on Wednesday. User activity on Monday and Friday is smaller.\n",
    "\n",
    "So the first hypothesis seems to be correct."
   ]
  },
  {
   "cell_type": "markdown",
   "metadata": {
    "id": "p7nFQajCVw5B"
   },
   "source": [
    "[Back to Contents](#back)"
   ]
  },
  {
   "cell_type": "markdown",
   "metadata": {
    "id": "atZAxtq4_Zcu"
   },
   "source": [
    "### Hypothesis 2: music at the beginning and end of the week <a id='week'></a>"
   ]
  },
  {
   "cell_type": "markdown",
   "metadata": {
    "id": "eXrQqXFH_Zcu"
   },
   "source": [
    "According to the second hypothesis, on Monday morning and Friday night, citizens of Springfield listen to genres that differ from ones users from Shelbyville enjoy."
   ]
  },
  {
   "cell_type": "markdown",
   "metadata": {
    "id": "S8UcW6Hw_Zcu"
   },
   "source": [
    "First step is to get the tables\n",
    "* For Springfield — `spr_general`\n",
    "* For Shelbyville — `shel_general`"
   ]
  },
  {
   "cell_type": "code",
   "execution_count": 39,
   "metadata": {
    "id": "qeaFfM_P_Zcu"
   },
   "outputs": [],
   "source": [
    "# obtaining the spr_general table from the df rows, \n",
    "# where the value in the 'city' column is 'Springfield'\n",
    "\n",
    "spr_general = df[df['city'] == 'Springfield']"
   ]
  },
  {
   "cell_type": "code",
   "execution_count": 40,
   "metadata": {
    "id": "ORaVRKto_Zcu"
   },
   "outputs": [],
   "source": [
    "# obtaining the shel_general from the df rows,\n",
    "# where the value in the 'city' column is 'Shelbyville'\n",
    "\n",
    "shel_general = df[df['city'] == 'Shelbyville']"
   ]
  },
  {
   "cell_type": "markdown",
   "metadata": {
    "id": "MEJV-CX2_Zcu"
   },
   "source": [
    "I will write the `genre_weekday()` function with four parameters:\n",
    "* A table for data\n",
    "* The day of the week\n",
    "* The first timestamp, in 'hh:mm' format\n",
    "* The last timestamp, in 'hh:mm' format\n",
    "\n",
    "The function should return info on the 15 most popular genres on a given day within the period between the two timestamps."
   ]
  },
  {
   "cell_type": "code",
   "execution_count": 41,
   "metadata": {
    "id": "laJT9BYl_Zcu"
   },
   "outputs": [],
   "source": [
    "# Declaring the genre_weekday() function with the parameters day=, time1=, and time2=. It should\n",
    "# return information about the most popular genres on a given day at a given time:\n",
    "\n",
    "# 1) Let the genre_df variable store the rows that meet several conditions:\n",
    "#    - the value in the 'day' column is equal to the value of the day= argument\n",
    "#    - the value in the 'time' column is greater than the value of the time1= argument\n",
    "#    - the value in the 'time' column is smaller than the value of the time2= argument\n",
    "#    Use consecutive filtering with logical indexing.\n",
    "\n",
    "# 2) Group genre_df by the 'genre' column, take one of its columns, \n",
    "#    and use the count() method to find the number of entries for each of \n",
    "#    the represented genres; store the resulting Series to the\n",
    "#    genre_df_count variable\n",
    "\n",
    "# 3) Sort genre_df_count in descending order of frequency and store the result\n",
    "#    to the genre_df_sorted variable\n",
    "\n",
    "# 4) Return a Series object with the first 15 genre_df_sorted value - the 15 most\n",
    "#    popular genres (on a given day, within a certain timeframe)\n",
    "\n",
    "def genre_weekday(df, day, time1, time2):\n",
    "    # consecutive filtering\n",
    "\n",
    "    # genre_df will store only those df rows where the day is equal to day=\n",
    "    genre_df = df[df['day'] == day]\n",
    "    # genre_df will store only those df rows where the time is smaller than time2=\n",
    "    genre_df = genre_df[genre_df['time'] < time2]\n",
    "    # genre_df will store only those df rows where the time is greater than time1=\n",
    "    genre_df = genre_df[genre_df['time'] > time1]\n",
    "    # group the filtered DataFrame by the column with the names of genres, take the genre column, and find the number of rows for each genre with the count() method\n",
    "    genre_df_grouped = genre_df.groupby('genre')['genre'].count()\n",
    "    # we will sort the result in descending order (so that the most popular genres come first in the Series object)\n",
    "    genre_df_sorted = genre_df_grouped.sort_values(ascending=False)\n",
    "    # we will return the Series object storing the 15 most popular genres on a given day in a given timeframe\n",
    "    return genre_df_sorted[:15]\n"
   ]
  },
  {
   "cell_type": "markdown",
   "metadata": {
    "id": "la2s2_PF_Zcu"
   },
   "source": [
    "Compare the results of the `genre_weekday()` function for Springfield and Shelbyville on Monday morning (from 7AM to 11AM) and on Friday evening (from 17:00 to 23:00):"
   ]
  },
  {
   "cell_type": "code",
   "execution_count": 42,
   "metadata": {
    "id": "yz7itPUQ_Zcu"
   },
   "outputs": [
    {
     "data": {
      "text/plain": [
       "genre\n",
       "pop            830\n",
       "dance          589\n",
       "rock           511\n",
       "electronic     501\n",
       "hiphop         311\n",
       "ruspop         203\n",
       "world          190\n",
       "rusrap         188\n",
       "alternative    175\n",
       "unknown        172\n",
       "classical      167\n",
       "metal          126\n",
       "jazz           109\n",
       "folk           107\n",
       "soundtrack      97\n",
       "Name: genre, dtype: int64"
      ]
     },
     "execution_count": 42,
     "metadata": {},
     "output_type": "execute_result"
    }
   ],
   "source": [
    "# calling the function for Monday morning in Springfield (use spr_general instead of the df table)\n",
    "genre_weekday(spr_general, 'Monday', '07:00', '11:00')"
   ]
  },
  {
   "cell_type": "code",
   "execution_count": 43,
   "metadata": {
    "id": "kwUcHPdy_Zcu"
   },
   "outputs": [
    {
     "data": {
      "text/plain": [
       "genre\n",
       "pop            238\n",
       "dance          192\n",
       "rock           173\n",
       "electronic     154\n",
       "hiphop          88\n",
       "ruspop          68\n",
       "alternative     65\n",
       "rusrap          56\n",
       "jazz            47\n",
       "classical       42\n",
       "world           39\n",
       "soundtrack      34\n",
       "rap             33\n",
       "rnb             31\n",
       "metal           28\n",
       "Name: genre, dtype: int64"
      ]
     },
     "execution_count": 43,
     "metadata": {},
     "output_type": "execute_result"
    }
   ],
   "source": [
    "# calling the function for Monday morning in Shelbyville (use shel_general instead of the df table)\n",
    "shel_general = df[df['city'] == 'Shelbyville']\n",
    "genre_weekday(shel_general, day='Monday', time1='07:00', time2='11:00')"
   ]
  },
  {
   "cell_type": "code",
   "execution_count": 44,
   "metadata": {
    "id": "EzXVRE1o_Zcu"
   },
   "outputs": [
    {
     "data": {
      "text/plain": [
       "genre\n",
       "pop            761\n",
       "rock           546\n",
       "dance          521\n",
       "electronic     510\n",
       "hiphop         282\n",
       "world          220\n",
       "ruspop         184\n",
       "alternative    176\n",
       "classical      171\n",
       "rusrap         151\n",
       "jazz           121\n",
       "unknown        117\n",
       "soundtrack     112\n",
       "metal           92\n",
       "rnb             92\n",
       "Name: genre, dtype: int64"
      ]
     },
     "execution_count": 44,
     "metadata": {},
     "output_type": "execute_result"
    }
   ],
   "source": [
    "# calling the function for Friday evening in Springfield\n",
    "\n",
    "genre_weekday(spr_general, day='Friday', time1='17:00', time2='23:00')"
   ]
  },
  {
   "cell_type": "code",
   "execution_count": 45,
   "metadata": {
    "id": "JZaEKu5v_Zcu"
   },
   "outputs": [
    {
     "data": {
      "text/plain": [
       "genre\n",
       "pop            279\n",
       "rock           230\n",
       "electronic     227\n",
       "dance          221\n",
       "hiphop         103\n",
       "alternative     67\n",
       "jazz            66\n",
       "rusrap          66\n",
       "classical       64\n",
       "world           60\n",
       "unknown         49\n",
       "ruspop          49\n",
       "soundtrack      40\n",
       "metal           39\n",
       "rap             39\n",
       "Name: genre, dtype: int64"
      ]
     },
     "execution_count": 45,
     "metadata": {},
     "output_type": "execute_result"
    }
   ],
   "source": [
    "# calling the function for Friday evening in Shelbyville\n",
    "\n",
    "genre_weekday(shel_general, day='Friday', time1='17:00', time2='23:00')"
   ]
  },
  {
   "cell_type": "markdown",
   "metadata": {
    "id": "wrCe4MNX_Zcu"
   },
   "source": [
    "### Conclusions <a id='data_review_conclusions'></a> \n",
    "\n",
    "Having compared the top 15 genres on Monday morning, we can draw the following conclusions:\n",
    "\n",
    "1. Users from Springfield and Shelbyville listen to similar music. The top five genres are the same, only rock and electronic have switched places.\n",
    "\n",
    "2. In Springfield, the number of missing values turned out to be so big that the value `'unknown'` came in 10th. This means that missing values make up a considerable portion of the data, which may be a basis for questioning the reliability of our conclusions.\n",
    "\n",
    "For Friday evening, the situation is similar. Individual genres vary somewhat, but on the whole, the top 15 is similar for the two cities.\n",
    "\n",
    "Thus, the second hypothesis has been partially proven true:\n",
    "* Users listen to similar music at the beginning and end of the week.\n",
    "* There is no major difference between Springfield and Shelbyville. In both cities, pop is the most popular genre.\n",
    "\n",
    "However, the number of missing values makes this result questionable. In Springfield, there are so many that they affect our top 15. Were we not missing these values, things might look different."
   ]
  },
  {
   "cell_type": "markdown",
   "metadata": {
    "id": "jLmXgdanVyhP"
   },
   "source": [
    "[Back to Contents](#back)"
   ]
  },
  {
   "cell_type": "markdown",
   "metadata": {
    "id": "JolODAqr_Zcu"
   },
   "source": [
    "### Hypothesis 3: genre preferences in Springfield and Shelbyville <a id='genre'></a>\n",
    "\n",
    "Hypothesis: Shelbyville loves rap music. Springfield's citizens are more into pop."
   ]
  },
  {
   "cell_type": "markdown",
   "metadata": {
    "id": "DlegSvaT_Zcu"
   },
   "source": [
    "The `spr_general` table will be grouped by genre and the number of songs played for each genre is tallied with the `count()` method. The result will be sorted in descending order and stored to `spr_genres`."
   ]
  },
  {
   "cell_type": "code",
   "execution_count": 72,
   "metadata": {
    "id": "r19lIPke_Zcu"
   },
   "outputs": [],
   "source": [
    "# on one line: group the spr_general table by the 'genre' column, \n",
    "# count the 'genre' values with count() in the grouping, \n",
    "# sort the resulting Series in descending order, and store it to spr_genres\n",
    "spr_general.groupby('genre')['track'].count()\n",
    "spr_genres= (spr_general.groupby('genre')['track'].count()).sort_values(ascending=False)\n"
   ]
  },
  {
   "cell_type": "markdown",
   "metadata": {
    "id": "6kMuomxTiIr8"
   },
   "source": [
    "To see the first 10 rows from `spr_genres`:"
   ]
  },
  {
   "cell_type": "code",
   "execution_count": 73,
   "metadata": {
    "id": "WhCSooF8_Zcv",
    "scrolled": true
   },
   "outputs": [
    {
     "name": "stdout",
     "output_type": "stream",
     "text": [
      "genre\n",
      "pop            6253\n",
      "dance          4707\n",
      "rock           4188\n",
      "electronic     4010\n",
      "hiphop         2215\n",
      "classical      1712\n",
      "world          1516\n",
      "alternative    1466\n",
      "ruspop         1453\n",
      "rusrap         1239\n",
      "Name: track, dtype: int64\n"
     ]
    }
   ],
   "source": [
    "# printing the first 10 rows of spr_genres\n",
    "print(spr_genres.head(10))"
   ]
  },
  {
   "cell_type": "markdown",
   "metadata": {
    "id": "cnPG2vnN_Zcv"
   },
   "source": [
    "\n",
    "The `shel_general` table will be grouped by genre and the number of songs played for each genre is tallied with the `count()` method. The result will be sorted in descending order and stored to `shel_genres` ."
   ]
  },
  {
   "cell_type": "code",
   "execution_count": 53,
   "metadata": {
    "id": "gluLIpE7_Zcv"
   },
   "outputs": [],
   "source": [
    "# on one line: group the shel_general table by the 'genre' column, \n",
    "# count the 'genre' values in the grouping with count(), \n",
    "# sort the resulting Series in descending order and store it to shel_genres\n",
    "\n",
    "\n",
    "shel_general.groupby('genre')['track'].count()\n",
    "shel_genres= (shel_general.groupby('genre')['track'].count()).sort_values(ascending=False)\n"
   ]
  },
  {
   "cell_type": "markdown",
   "metadata": {
    "id": "5Doha_ODgyQ8"
   },
   "source": [
    "Print the first 10 rows of `shel_genres`:"
   ]
  },
  {
   "cell_type": "code",
   "execution_count": 54,
   "metadata": {
    "id": "uaGJHjVU_Zcv"
   },
   "outputs": [
    {
     "name": "stdout",
     "output_type": "stream",
     "text": [
      "genre\n",
      "pop            2597\n",
      "dance          2054\n",
      "rock           2004\n",
      "electronic     1842\n",
      "hiphop         1020\n",
      "alternative     700\n",
      "classical       684\n",
      "rusrap          604\n",
      "ruspop          565\n",
      "world           553\n",
      "Name: track, dtype: int64\n"
     ]
    }
   ],
   "source": [
    "# printing the first 10 rows from shel_genres\n",
    "print(shel_genres.head(10))"
   ]
  },
  {
   "cell_type": "markdown",
   "metadata": {
    "id": "RY51YJYu_Zcv"
   },
   "source": [
    "### Conclusions <a id='data_review_conclusions'></a>  "
   ]
  },
  {
   "cell_type": "markdown",
   "metadata": {
    "id": "nVhnJEm__Zcv"
   },
   "source": [
    "The hypothesis has been partially proven true:\n",
    "* Pop music is the most popular genre in Springfield, as expected.\n",
    "* However, pop music turned out to be equally popular in Springfield and Shelbyville, and rap wasn't in the top 5 for either city.\n"
   ]
  },
  {
   "cell_type": "markdown",
   "metadata": {
    "id": "Byr0RfpPVz14"
   },
   "source": [
    "[Back to Contents](#back)"
   ]
  },
  {
   "cell_type": "markdown",
   "metadata": {
    "id": "ykKQ0N65_Zcv"
   },
   "source": [
    "# Findings <a id='end'></a>"
   ]
  },
  {
   "cell_type": "markdown",
   "metadata": {
    "id": "tjUwbHb3_Zcv"
   },
   "source": [
    "We have tested the following three hypotheses:\n",
    "\n",
    "1. User activity differs depending on the day of the week and from city to city. \n",
    "2. On Monday mornings, Springfield and Shelbyville residents listen to different genres. This is also true for Friday evenings. \n",
    "3. Springfield and Shelbyville listeners have different preferences. In both Springfield and Shelbyville, they prefer pop.\n",
    "\n",
    "After analyzing the data, I concluded:\n",
    "\n",
    "1. User activity in Springfield and Shelbyville depends on the day of the week, though the cities vary in different ways. The first hypothesis is fully accepted.\n",
    "\n",
    "2. Musical preferences do not vary significantly over the course of the week in both Springfield and Shelbyville. We can see small differences on Mondays, and people listen to pop music the most. We can not accept the second hypothesis. We must also keep in mind that the result could have been different if not for the missing values.\n",
    "\n",
    "3. It turns out that the musical preferences of users from Springfield and Shelbyville are quite similar. The third hypothesis is rejected. If there is any difference in preferences, it cannot be seen from this data.\n"
   ]
  },
  {
   "cell_type": "markdown",
   "metadata": {
    "id": "Ju4AHDSgV1FE"
   },
   "source": [
    "[Back to Contents](#back)"
   ]
  }
 ],
 "metadata": {
  "ExecuteTimeLog": [
   {
    "duration": 72,
    "start_time": "2021-10-31T17:40:31.866Z"
   },
   {
    "duration": 1126,
    "start_time": "2021-10-31T17:40:37.410Z"
   },
   {
    "duration": 94,
    "start_time": "2021-10-31T17:41:50.260Z"
   },
   {
    "duration": 225,
    "start_time": "2021-10-31T17:41:54.728Z"
   },
   {
    "duration": 240,
    "start_time": "2021-10-31T17:42:00.984Z"
   },
   {
    "duration": 73,
    "start_time": "2021-10-31T17:42:26.051Z"
   },
   {
    "duration": 235,
    "start_time": "2021-10-31T17:42:37.435Z"
   },
   {
    "duration": 80,
    "start_time": "2021-10-31T17:43:33.782Z"
   },
   {
    "duration": 68,
    "start_time": "2021-10-31T17:43:36.539Z"
   },
   {
    "duration": 235,
    "start_time": "2021-10-31T17:43:41.246Z"
   },
   {
    "duration": 175,
    "start_time": "2021-10-31T17:44:19.492Z"
   },
   {
    "duration": 202,
    "start_time": "2021-10-31T17:44:31.686Z"
   },
   {
    "duration": 239,
    "start_time": "2021-10-31T17:44:54.615Z"
   },
   {
    "duration": 10,
    "start_time": "2021-10-31T17:45:04.494Z"
   },
   {
    "duration": 50,
    "start_time": "2021-10-31T19:11:24.483Z"
   },
   {
    "duration": 5,
    "start_time": "2021-10-31T19:16:19.442Z"
   },
   {
    "duration": 30,
    "start_time": "2021-10-31T19:17:39.154Z"
   },
   {
    "duration": 26,
    "start_time": "2021-10-31T19:17:50.060Z"
   },
   {
    "duration": 4,
    "start_time": "2021-10-31T19:17:58.974Z"
   },
   {
    "duration": 22,
    "start_time": "2021-10-31T19:18:26.219Z"
   },
   {
    "duration": 5,
    "start_time": "2021-10-31T19:18:30.348Z"
   },
   {
    "duration": 28,
    "start_time": "2021-10-31T19:20:45.545Z"
   },
   {
    "duration": 254,
    "start_time": "2021-10-31T19:25:09.686Z"
   },
   {
    "duration": 219,
    "start_time": "2021-10-31T19:25:36.196Z"
   },
   {
    "duration": 249,
    "start_time": "2021-10-31T19:26:01.937Z"
   },
   {
    "duration": 222,
    "start_time": "2021-10-31T19:27:41.083Z"
   },
   {
    "duration": 227,
    "start_time": "2021-10-31T19:27:58.431Z"
   },
   {
    "duration": 225,
    "start_time": "2021-10-31T19:28:54.942Z"
   },
   {
    "duration": 212,
    "start_time": "2021-10-31T19:29:02.050Z"
   },
   {
    "duration": 240,
    "start_time": "2021-10-31T19:31:55.166Z"
   },
   {
    "duration": 5880,
    "start_time": "2021-10-31T19:34:55.114Z"
   },
   {
    "duration": 5873,
    "start_time": "2021-10-31T19:35:19.735Z"
   },
   {
    "duration": 232,
    "start_time": "2021-10-31T19:35:52.633Z"
   },
   {
    "duration": 25,
    "start_time": "2021-10-31T19:36:47.783Z"
   },
   {
    "duration": 5560,
    "start_time": "2021-10-31T19:37:13.904Z"
   },
   {
    "duration": -244,
    "start_time": "2021-10-31T19:37:19.710Z"
   },
   {
    "duration": 248,
    "start_time": "2021-10-31T19:41:09.915Z"
   },
   {
    "duration": 28,
    "start_time": "2021-10-31T19:41:37.246Z"
   },
   {
    "duration": 934,
    "start_time": "2021-10-31T19:42:19.004Z"
   },
   {
    "duration": 3,
    "start_time": "2021-10-31T19:42:24.803Z"
   },
   {
    "duration": 5,
    "start_time": "2021-10-31T19:42:34.939Z"
   },
   {
    "duration": 34,
    "start_time": "2021-10-31T19:42:43.613Z"
   },
   {
    "duration": 5936,
    "start_time": "2021-10-31T19:43:10.306Z"
   },
   {
    "duration": 35,
    "start_time": "2021-10-31T19:43:45.068Z"
   },
   {
    "duration": 247,
    "start_time": "2021-10-31T19:44:02.768Z"
   },
   {
    "duration": 43,
    "start_time": "2021-10-31T19:44:53.719Z"
   },
   {
    "duration": 42,
    "start_time": "2021-10-31T19:45:12.033Z"
   },
   {
    "duration": 34,
    "start_time": "2021-10-31T19:48:09.433Z"
   },
   {
    "duration": 10,
    "start_time": "2021-10-31T19:48:44.359Z"
   },
   {
    "duration": 29,
    "start_time": "2021-10-31T19:48:48.770Z"
   },
   {
    "duration": 23,
    "start_time": "2021-10-31T19:49:28.196Z"
   },
   {
    "duration": 14,
    "start_time": "2021-10-31T19:52:09.374Z"
   },
   {
    "duration": 5962,
    "start_time": "2021-10-31T19:52:41.017Z"
   },
   {
    "duration": -182,
    "start_time": "2021-10-31T19:52:47.163Z"
   },
   {
    "duration": 222,
    "start_time": "2021-10-31T19:54:10.458Z"
   },
   {
    "duration": 6066,
    "start_time": "2021-10-31T19:54:25.830Z"
   },
   {
    "duration": 64,
    "start_time": "2021-10-31T19:54:42.759Z"
   },
   {
    "duration": 28,
    "start_time": "2021-10-31T19:54:48.291Z"
   },
   {
    "duration": 61,
    "start_time": "2021-10-31T19:54:56.492Z"
   },
   {
    "duration": 77,
    "start_time": "2021-10-31T20:58:19.622Z"
   },
   {
    "duration": 86,
    "start_time": "2021-10-31T20:58:31.298Z"
   },
   {
    "duration": 75,
    "start_time": "2021-10-31T20:58:44.035Z"
   },
   {
    "duration": 8,
    "start_time": "2021-10-31T20:59:26.829Z"
   },
   {
    "duration": 232,
    "start_time": "2021-10-31T21:00:44.671Z"
   },
   {
    "duration": 7,
    "start_time": "2021-10-31T21:00:59.755Z"
   },
   {
    "duration": 234,
    "start_time": "2021-10-31T21:01:15.484Z"
   },
   {
    "duration": 54,
    "start_time": "2021-10-31T21:01:32.022Z"
   },
   {
    "duration": 2998,
    "start_time": "2021-10-31T21:01:46.400Z"
   },
   {
    "duration": 8,
    "start_time": "2021-10-31T21:02:24.536Z"
   },
   {
    "duration": 240,
    "start_time": "2021-10-31T21:03:03.852Z"
   },
   {
    "duration": 70,
    "start_time": "2021-10-31T21:03:21.527Z"
   },
   {
    "duration": 53,
    "start_time": "2021-10-31T21:03:28.538Z"
   },
   {
    "duration": 60,
    "start_time": "2021-10-31T21:03:51.217Z"
   },
   {
    "duration": 78,
    "start_time": "2021-10-31T21:05:13.340Z"
   },
   {
    "duration": 75,
    "start_time": "2021-10-31T21:05:20.296Z"
   },
   {
    "duration": 74,
    "start_time": "2021-10-31T21:05:57.434Z"
   },
   {
    "duration": 11,
    "start_time": "2021-10-31T21:06:17.017Z"
   },
   {
    "duration": 15,
    "start_time": "2021-10-31T21:07:58.193Z"
   },
   {
    "duration": 14,
    "start_time": "2021-10-31T21:08:39.329Z"
   },
   {
    "duration": 238,
    "start_time": "2021-10-31T21:08:41.893Z"
   },
   {
    "duration": 227,
    "start_time": "2021-10-31T21:10:11.501Z"
   },
   {
    "duration": 5,
    "start_time": "2021-10-31T21:11:13.672Z"
   },
   {
    "duration": 256,
    "start_time": "2021-10-31T21:11:16.853Z"
   },
   {
    "duration": 12,
    "start_time": "2021-10-31T21:11:38.338Z"
   },
   {
    "duration": 8,
    "start_time": "2021-10-31T21:12:01.827Z"
   },
   {
    "duration": 6,
    "start_time": "2021-10-31T21:36:35.180Z"
   },
   {
    "duration": 6,
    "start_time": "2021-10-31T21:37:32.560Z"
   },
   {
    "duration": 5,
    "start_time": "2021-10-31T21:37:47.139Z"
   },
   {
    "duration": 245,
    "start_time": "2021-10-31T21:38:00.631Z"
   },
   {
    "duration": 43,
    "start_time": "2021-10-31T21:39:21.170Z"
   },
   {
    "duration": 237,
    "start_time": "2021-10-31T21:42:26.646Z"
   },
   {
    "duration": 43,
    "start_time": "2021-10-31T21:42:36.863Z"
   },
   {
    "duration": 13,
    "start_time": "2021-10-31T21:42:51.737Z"
   },
   {
    "duration": 44,
    "start_time": "2021-10-31T21:43:09.599Z"
   },
   {
    "duration": 257,
    "start_time": "2021-10-31T21:46:04.661Z"
   },
   {
    "duration": 269,
    "start_time": "2021-10-31T21:46:08.093Z"
   },
   {
    "duration": 42,
    "start_time": "2021-10-31T21:46:16.383Z"
   },
   {
    "duration": 233,
    "start_time": "2021-10-31T21:50:31.764Z"
   },
   {
    "duration": 5,
    "start_time": "2021-10-31T21:50:37.162Z"
   },
   {
    "duration": 5,
    "start_time": "2021-10-31T21:50:49.691Z"
   },
   {
    "duration": 473,
    "start_time": "2021-10-31T21:51:36.154Z"
   },
   {
    "duration": 441,
    "start_time": "2021-10-31T21:51:51.491Z"
   },
   {
    "duration": 4,
    "start_time": "2021-10-31T21:51:58.158Z"
   },
   {
    "duration": 425,
    "start_time": "2021-10-31T21:52:02.243Z"
   },
   {
    "duration": 5,
    "start_time": "2021-10-31T21:53:39.809Z"
   },
   {
    "duration": 644,
    "start_time": "2021-10-31T21:53:42.535Z"
   },
   {
    "duration": 4,
    "start_time": "2021-10-31T21:53:51.956Z"
   },
   {
    "duration": 415,
    "start_time": "2021-10-31T21:53:54.171Z"
   },
   {
    "duration": 5,
    "start_time": "2021-10-31T21:55:22.817Z"
   },
   {
    "duration": -298,
    "start_time": "2021-10-31T21:55:31.236Z"
   },
   {
    "duration": 6069,
    "start_time": "2021-10-31T21:55:31.502Z"
   },
   {
    "duration": -220,
    "start_time": "2021-10-31T21:55:37.794Z"
   },
   {
    "duration": -221,
    "start_time": "2021-10-31T21:55:37.796Z"
   },
   {
    "duration": -221,
    "start_time": "2021-10-31T21:55:37.797Z"
   },
   {
    "duration": -222,
    "start_time": "2021-10-31T21:55:37.799Z"
   },
   {
    "duration": 5,
    "start_time": "2021-10-31T21:55:54.704Z"
   },
   {
    "duration": 85,
    "start_time": "2021-10-31T21:56:14.073Z"
   },
   {
    "duration": 78,
    "start_time": "2021-10-31T21:56:27.440Z"
   },
   {
    "duration": 12,
    "start_time": "2021-10-31T21:56:37.836Z"
   },
   {
    "duration": 7,
    "start_time": "2021-10-31T21:57:07.984Z"
   },
   {
    "duration": 7,
    "start_time": "2021-10-31T21:57:19.525Z"
   },
   {
    "duration": 5597,
    "start_time": "2021-10-31T21:57:45.158Z"
   },
   {
    "duration": 5702,
    "start_time": "2021-10-31T21:58:06.989Z"
   },
   {
    "duration": 11,
    "start_time": "2021-10-31T22:07:24.828Z"
   },
   {
    "duration": 17,
    "start_time": "2021-10-31T22:08:06.335Z"
   },
   {
    "duration": 12,
    "start_time": "2021-10-31T22:08:13.910Z"
   },
   {
    "duration": 25,
    "start_time": "2021-10-31T22:09:48.757Z"
   },
   {
    "duration": 26,
    "start_time": "2021-10-31T22:10:26.243Z"
   },
   {
    "duration": 28,
    "start_time": "2021-10-31T22:10:37.866Z"
   },
   {
    "duration": 74,
    "start_time": "2021-10-31T22:10:45.817Z"
   },
   {
    "duration": 19,
    "start_time": "2021-10-31T22:10:55.395Z"
   },
   {
    "duration": 18,
    "start_time": "2021-10-31T22:11:03.621Z"
   },
   {
    "duration": 88,
    "start_time": "2021-10-31T22:11:42.940Z"
   },
   {
    "duration": 7,
    "start_time": "2021-10-31T22:12:04.128Z"
   },
   {
    "duration": 13,
    "start_time": "2021-10-31T22:12:07.388Z"
   },
   {
    "duration": 12,
    "start_time": "2021-10-31T22:12:10.298Z"
   },
   {
    "duration": 6,
    "start_time": "2021-10-31T22:12:17.345Z"
   },
   {
    "duration": 12,
    "start_time": "2021-10-31T22:12:20.520Z"
   },
   {
    "duration": 5,
    "start_time": "2021-10-31T22:13:38.798Z"
   },
   {
    "duration": 519,
    "start_time": "2021-10-31T22:13:41.601Z"
   },
   {
    "duration": 5,
    "start_time": "2021-10-31T22:14:02.636Z"
   },
   {
    "duration": 4,
    "start_time": "2021-10-31T22:14:18.707Z"
   },
   {
    "duration": 8,
    "start_time": "2021-10-31T22:14:31.405Z"
   },
   {
    "duration": 5,
    "start_time": "2021-10-31T22:15:34.474Z"
   },
   {
    "duration": 458,
    "start_time": "2021-10-31T22:15:37.452Z"
   },
   {
    "duration": 5,
    "start_time": "2021-10-31T22:15:47.669Z"
   },
   {
    "duration": -304,
    "start_time": "2021-10-31T22:15:58.764Z"
   },
   {
    "duration": -304,
    "start_time": "2021-10-31T22:15:58.766Z"
   },
   {
    "duration": 5,
    "start_time": "2021-10-31T22:16:05.056Z"
   },
   {
    "duration": 5,
    "start_time": "2021-10-31T22:16:11.924Z"
   },
   {
    "duration": 19,
    "start_time": "2021-10-31T22:16:14.647Z"
   },
   {
    "duration": 5,
    "start_time": "2021-10-31T22:16:57.510Z"
   },
   {
    "duration": 13,
    "start_time": "2021-10-31T22:17:00.299Z"
   },
   {
    "duration": 233,
    "start_time": "2021-10-31T22:18:14.808Z"
   },
   {
    "duration": 224,
    "start_time": "2021-10-31T22:18:22.076Z"
   },
   {
    "duration": 246,
    "start_time": "2021-10-31T22:18:29.826Z"
   },
   {
    "duration": 221,
    "start_time": "2021-10-31T22:19:40.050Z"
   },
   {
    "duration": 238,
    "start_time": "2021-10-31T22:20:23.989Z"
   },
   {
    "duration": 230,
    "start_time": "2021-10-31T22:20:41.651Z"
   },
   {
    "duration": 5,
    "start_time": "2021-10-31T22:21:53.296Z"
   },
   {
    "duration": 75,
    "start_time": "2021-10-31T22:22:12.589Z"
   },
   {
    "duration": 229,
    "start_time": "2021-10-31T22:22:17.851Z"
   },
   {
    "duration": 237,
    "start_time": "2021-10-31T22:22:31.049Z"
   },
   {
    "duration": 855,
    "start_time": "2021-10-31T22:22:43.448Z"
   },
   {
    "duration": 6,
    "start_time": "2021-10-31T22:22:55.554Z"
   },
   {
    "duration": 11,
    "start_time": "2021-10-31T22:23:30.586Z"
   },
   {
    "duration": 11,
    "start_time": "2021-10-31T22:23:47.588Z"
   },
   {
    "duration": 11,
    "start_time": "2021-10-31T22:23:53.917Z"
   },
   {
    "duration": 14,
    "start_time": "2021-10-31T22:23:58.813Z"
   },
   {
    "duration": 13,
    "start_time": "2021-10-31T22:24:17.531Z"
   },
   {
    "duration": 4,
    "start_time": "2021-10-31T22:26:29.992Z"
   },
   {
    "duration": 12,
    "start_time": "2021-10-31T22:26:33.532Z"
   },
   {
    "duration": 5,
    "start_time": "2021-10-31T22:26:42.765Z"
   },
   {
    "duration": 7779,
    "start_time": "2021-10-31T22:26:45.661Z"
   },
   {
    "duration": 5,
    "start_time": "2021-10-31T22:26:57.867Z"
   },
   {
    "duration": 13,
    "start_time": "2021-10-31T22:27:14.637Z"
   },
   {
    "duration": 17,
    "start_time": "2021-10-31T22:34:31.194Z"
   },
   {
    "duration": 12,
    "start_time": "2021-10-31T22:39:10.804Z"
   },
   {
    "duration": 340,
    "start_time": "2021-10-31T22:40:39.965Z"
   },
   {
    "duration": 9,
    "start_time": "2021-10-31T22:41:57.234Z"
   },
   {
    "duration": 216,
    "start_time": "2021-10-31T22:42:38.553Z"
   },
   {
    "duration": 236,
    "start_time": "2021-10-31T22:42:56.866Z"
   },
   {
    "duration": 15,
    "start_time": "2021-10-31T22:45:26.063Z"
   },
   {
    "duration": 359,
    "start_time": "2021-10-31T22:49:58.972Z"
   },
   {
    "duration": 376,
    "start_time": "2021-10-31T22:51:05.688Z"
   },
   {
    "duration": 12,
    "start_time": "2021-10-31T22:53:02.344Z"
   },
   {
    "duration": 13,
    "start_time": "2021-10-31T22:57:00.198Z"
   },
   {
    "duration": 30,
    "start_time": "2021-10-31T22:57:09.377Z"
   },
   {
    "duration": 5526,
    "start_time": "2021-10-31T22:59:00.449Z"
   },
   {
    "duration": 22,
    "start_time": "2021-10-31T22:59:44.506Z"
   },
   {
    "duration": 78,
    "start_time": "2021-10-31T23:00:09.052Z"
   },
   {
    "duration": 1027,
    "start_time": "2021-10-31T23:00:17.198Z"
   },
   {
    "duration": 31,
    "start_time": "2021-10-31T23:00:41.782Z"
   },
   {
    "duration": 27,
    "start_time": "2021-10-31T23:01:28.314Z"
   },
   {
    "duration": 22,
    "start_time": "2021-10-31T23:02:24.421Z"
   },
   {
    "duration": 24,
    "start_time": "2021-10-31T23:02:47.143Z"
   },
   {
    "duration": 88,
    "start_time": "2021-10-31T23:05:35.642Z"
   },
   {
    "duration": 75,
    "start_time": "2021-10-31T23:07:54.801Z"
   },
   {
    "duration": 48,
    "start_time": "2021-10-31T23:08:08.914Z"
   },
   {
    "duration": 78,
    "start_time": "2021-10-31T23:17:13.674Z"
   },
   {
    "duration": 81,
    "start_time": "2021-10-31T23:17:28.763Z"
   },
   {
    "duration": 96,
    "start_time": "2021-10-31T23:17:36.170Z"
   },
   {
    "duration": 148,
    "start_time": "2021-10-31T23:18:11.198Z"
   },
   {
    "duration": 100,
    "start_time": "2021-10-31T23:18:33.256Z"
   },
   {
    "duration": 114,
    "start_time": "2021-10-31T23:19:06.583Z"
   },
   {
    "duration": 88,
    "start_time": "2021-10-31T23:19:22.324Z"
   },
   {
    "duration": 21,
    "start_time": "2021-10-31T23:19:48.520Z"
   },
   {
    "duration": 20,
    "start_time": "2021-10-31T23:19:51.464Z"
   },
   {
    "duration": 19,
    "start_time": "2021-10-31T23:19:54.661Z"
   },
   {
    "duration": 20,
    "start_time": "2021-10-31T23:20:01.380Z"
   },
   {
    "duration": 22,
    "start_time": "2021-10-31T23:20:03.721Z"
   },
   {
    "duration": 22,
    "start_time": "2021-10-31T23:20:06.404Z"
   },
   {
    "duration": 1033,
    "start_time": "2021-10-31T23:21:17.374Z"
   },
   {
    "duration": 287,
    "start_time": "2021-10-31T23:21:28.803Z"
   },
   {
    "duration": 86,
    "start_time": "2021-10-31T23:21:40.679Z"
   },
   {
    "duration": 20,
    "start_time": "2021-10-31T23:21:43.630Z"
   },
   {
    "duration": 19,
    "start_time": "2021-10-31T23:21:46.151Z"
   },
   {
    "duration": 19,
    "start_time": "2021-10-31T23:21:48.783Z"
   },
   {
    "duration": 263,
    "start_time": "2021-10-31T23:21:56.950Z"
   },
   {
    "duration": 265,
    "start_time": "2021-10-31T23:23:22.258Z"
   },
   {
    "duration": 76,
    "start_time": "2021-10-31T23:23:37.679Z"
   },
   {
    "duration": 71,
    "start_time": "2021-10-31T23:23:51.656Z"
   },
   {
    "duration": 248,
    "start_time": "2021-10-31T23:23:56.044Z"
   },
   {
    "duration": 86,
    "start_time": "2021-10-31T23:27:03.928Z"
   },
   {
    "duration": 87,
    "start_time": "2021-10-31T23:28:35.162Z"
   },
   {
    "duration": 89,
    "start_time": "2021-10-31T23:34:21.387Z"
   },
   {
    "duration": 259,
    "start_time": "2021-10-31T23:34:45.328Z"
   },
   {
    "duration": 49,
    "start_time": "2021-10-31T23:36:11.971Z"
   },
   {
    "duration": 5718,
    "start_time": "2021-10-31T23:37:57.285Z"
   },
   {
    "duration": 923,
    "start_time": "2021-10-31T23:38:49.542Z"
   },
   {
    "duration": 452,
    "start_time": "2021-10-31T23:39:33.876Z"
   },
   {
    "duration": 452,
    "start_time": "2021-10-31T23:39:56.818Z"
   },
   {
    "duration": 474,
    "start_time": "2021-10-31T23:40:14.931Z"
   },
   {
    "duration": 1129,
    "start_time": "2021-10-31T23:40:30.851Z"
   },
   {
    "duration": 8,
    "start_time": "2021-10-31T23:41:57.077Z"
   },
   {
    "duration": 8,
    "start_time": "2021-10-31T23:42:08.550Z"
   },
   {
    "duration": 9,
    "start_time": "2021-10-31T23:43:12.646Z"
   },
   {
    "duration": 9,
    "start_time": "2021-10-31T23:44:17.409Z"
   },
   {
    "duration": 12,
    "start_time": "2021-10-31T23:44:36.252Z"
   },
   {
    "duration": 94,
    "start_time": "2021-10-31T23:45:56.987Z"
   },
   {
    "duration": 76,
    "start_time": "2021-10-31T23:46:04.125Z"
   },
   {
    "duration": 90,
    "start_time": "2021-10-31T23:46:15.091Z"
   },
   {
    "duration": 206,
    "start_time": "2021-10-31T23:46:53.280Z"
   },
   {
    "duration": 234,
    "start_time": "2021-10-31T23:48:08.926Z"
   },
   {
    "duration": 249,
    "start_time": "2021-10-31T23:50:15.850Z"
   },
   {
    "duration": 77,
    "start_time": "2021-10-31T23:50:36.908Z"
   },
   {
    "duration": 74,
    "start_time": "2021-10-31T23:50:40.726Z"
   },
   {
    "duration": 69,
    "start_time": "2021-10-31T23:50:45.899Z"
   },
   {
    "duration": 89,
    "start_time": "2021-10-31T23:50:56.245Z"
   },
   {
    "duration": 179,
    "start_time": "2021-10-31T23:52:30.801Z"
   },
   {
    "duration": 193,
    "start_time": "2021-10-31T23:52:41.726Z"
   },
   {
    "duration": 84,
    "start_time": "2021-10-31T23:54:20.458Z"
   },
   {
    "duration": 84,
    "start_time": "2021-10-31T23:55:12.108Z"
   },
   {
    "duration": 76,
    "start_time": "2021-10-31T23:55:45.303Z"
   },
   {
    "duration": 77,
    "start_time": "2021-10-31T23:56:06.135Z"
   },
   {
    "duration": 16,
    "start_time": "2021-10-31T23:59:42.996Z"
   },
   {
    "duration": 10,
    "start_time": "2021-11-01T00:00:36.411Z"
   },
   {
    "duration": 9,
    "start_time": "2021-11-01T00:00:51.962Z"
   },
   {
    "duration": 5,
    "start_time": "2021-11-01T00:02:17.843Z"
   },
   {
    "duration": 5,
    "start_time": "2021-11-01T00:02:22.863Z"
   },
   {
    "duration": 6,
    "start_time": "2021-11-01T00:02:25.143Z"
   },
   {
    "duration": 5,
    "start_time": "2021-11-01T00:02:39.473Z"
   },
   {
    "duration": 6096,
    "start_time": "2021-11-01T00:02:45.618Z"
   },
   {
    "duration": -394,
    "start_time": "2021-11-01T00:02:52.111Z"
   },
   {
    "duration": 5529,
    "start_time": "2021-11-01T00:02:52.007Z"
   },
   {
    "duration": 6078,
    "start_time": "2021-11-01T00:06:20.777Z"
   },
   {
    "duration": -292,
    "start_time": "2021-11-01T00:06:27.151Z"
   },
   {
    "duration": -296,
    "start_time": "2021-11-01T00:06:27.157Z"
   },
   {
    "duration": 5776,
    "start_time": "2021-11-01T00:06:36.606Z"
   },
   {
    "duration": 5821,
    "start_time": "2021-11-01T00:06:50.770Z"
   },
   {
    "duration": 248,
    "start_time": "2021-11-01T02:00:34.389Z"
   },
   {
    "duration": 219,
    "start_time": "2021-11-01T02:00:36.681Z"
   },
   {
    "duration": 242,
    "start_time": "2021-11-01T02:00:53.855Z"
   },
   {
    "duration": 5737,
    "start_time": "2021-11-01T02:03:52.925Z"
   },
   {
    "duration": 6,
    "start_time": "2021-11-01T02:04:27.623Z"
   },
   {
    "duration": 5894,
    "start_time": "2021-11-01T02:05:12.609Z"
   },
   {
    "duration": 5761,
    "start_time": "2021-11-01T02:05:31.028Z"
   },
   {
    "duration": 5,
    "start_time": "2021-11-01T02:07:40.387Z"
   },
   {
    "duration": 6173,
    "start_time": "2021-11-01T02:08:03.408Z"
   },
   {
    "duration": 6118,
    "start_time": "2021-11-01T02:08:30.667Z"
   },
   {
    "duration": 5709,
    "start_time": "2021-11-01T03:00:43.692Z"
   },
   {
    "duration": 395,
    "start_time": "2021-11-01T19:00:00.862Z"
   },
   {
    "duration": 939,
    "start_time": "2021-11-01T19:00:12.995Z"
   },
   {
    "duration": 190,
    "start_time": "2021-11-01T19:00:22.281Z"
   },
   {
    "duration": 11,
    "start_time": "2021-11-01T19:00:25.791Z"
   },
   {
    "duration": 30,
    "start_time": "2021-11-01T19:00:29.754Z"
   },
   {
    "duration": 4,
    "start_time": "2021-11-01T19:00:33.424Z"
   },
   {
    "duration": 32,
    "start_time": "2021-11-01T19:00:35.535Z"
   },
   {
    "duration": 5,
    "start_time": "2021-11-01T19:00:40.159Z"
   },
   {
    "duration": 45,
    "start_time": "2021-11-01T19:00:42.644Z"
   },
   {
    "duration": 92,
    "start_time": "2021-11-01T19:00:45.471Z"
   },
   {
    "duration": 30,
    "start_time": "2021-11-01T19:00:48.077Z"
   },
   {
    "duration": 83,
    "start_time": "2021-11-01T19:00:50.629Z"
   },
   {
    "duration": 100,
    "start_time": "2021-11-01T19:00:53.060Z"
   },
   {
    "duration": 109,
    "start_time": "2021-11-01T19:00:55.544Z"
   },
   {
    "duration": 320,
    "start_time": "2021-11-01T19:00:58.640Z"
   },
   {
    "duration": 6,
    "start_time": "2021-11-01T19:01:20.558Z"
   },
   {
    "duration": 4,
    "start_time": "2021-11-01T19:01:25.738Z"
   },
   {
    "duration": 14,
    "start_time": "2021-11-01T19:01:29.361Z"
   },
   {
    "duration": 8,
    "start_time": "2021-11-01T19:01:31.713Z"
   },
   {
    "duration": 68,
    "start_time": "2021-11-01T19:01:52.364Z"
   },
   {
    "duration": 42,
    "start_time": "2021-11-01T19:01:54.970Z"
   },
   {
    "duration": 119,
    "start_time": "2021-11-01T19:01:58.219Z"
   },
   {
    "duration": 20,
    "start_time": "2021-11-01T19:02:01.390Z"
   },
   {
    "duration": 19,
    "start_time": "2021-11-01T19:02:04.352Z"
   },
   {
    "duration": 21,
    "start_time": "2021-11-01T19:02:06.567Z"
   },
   {
    "duration": 19,
    "start_time": "2021-11-01T19:02:08.211Z"
   },
   {
    "duration": 19,
    "start_time": "2021-11-01T19:02:10.350Z"
   },
   {
    "duration": 12,
    "start_time": "2021-11-01T19:02:13.151Z"
   },
   {
    "duration": 15,
    "start_time": "2021-11-01T19:02:17.425Z"
   },
   {
    "duration": 13,
    "start_time": "2021-11-01T19:02:20.710Z"
   },
   {
    "duration": 5,
    "start_time": "2021-11-01T19:02:25.557Z"
   },
   {
    "duration": 24,
    "start_time": "2021-11-01T19:02:30.113Z"
   },
   {
    "duration": 752,
    "start_time": "2021-11-01T19:02:53.087Z"
   },
   {
    "duration": 24,
    "start_time": "2021-11-01T19:03:08.866Z"
   },
   {
    "duration": 24,
    "start_time": "2021-11-01T19:03:25.138Z"
   },
   {
    "duration": 18,
    "start_time": "2021-11-01T19:03:47.223Z"
   },
   {
    "duration": 324,
    "start_time": "2021-11-01T19:04:44.830Z"
   },
   {
    "duration": 408,
    "start_time": "2021-11-01T19:05:09.002Z"
   },
   {
    "duration": 298,
    "start_time": "2021-11-01T19:06:01.111Z"
   },
   {
    "duration": 281,
    "start_time": "2021-11-01T19:06:56.187Z"
   },
   {
    "duration": 28,
    "start_time": "2021-11-01T19:07:56.546Z"
   },
   {
    "duration": 34,
    "start_time": "2021-11-01T19:08:08.909Z"
   },
   {
    "duration": 29,
    "start_time": "2021-11-01T19:08:39.077Z"
   },
   {
    "duration": 34,
    "start_time": "2021-11-01T19:08:52.084Z"
   },
   {
    "duration": 313,
    "start_time": "2021-11-01T19:09:32.782Z"
   },
   {
    "duration": 296,
    "start_time": "2021-11-01T19:09:55.078Z"
   },
   {
    "duration": 7,
    "start_time": "2021-11-01T19:10:06.035Z"
   },
   {
    "duration": 287,
    "start_time": "2021-11-01T19:10:15.166Z"
   },
   {
    "duration": 287,
    "start_time": "2021-11-01T19:10:19.503Z"
   },
   {
    "duration": 8,
    "start_time": "2021-11-01T19:11:40.912Z"
   },
   {
    "duration": 63,
    "start_time": "2021-11-01T19:13:04.575Z"
   },
   {
    "duration": 412,
    "start_time": "2021-11-01T19:13:16.580Z"
   },
   {
    "duration": 72,
    "start_time": "2021-11-01T19:13:42.397Z"
   },
   {
    "duration": 307,
    "start_time": "2021-11-01T19:14:09.005Z"
   },
   {
    "duration": 8,
    "start_time": "2021-11-01T19:14:23.449Z"
   },
   {
    "duration": 345,
    "start_time": "2021-11-01T19:15:06.265Z"
   },
   {
    "duration": 59,
    "start_time": "2021-11-01T19:15:11.388Z"
   },
   {
    "duration": 107,
    "start_time": "2021-11-01T19:17:42.227Z"
   },
   {
    "duration": 41,
    "start_time": "2021-11-01T19:18:27.855Z"
   },
   {
    "duration": 131,
    "start_time": "2021-11-01T19:19:34.058Z"
   },
   {
    "duration": 79,
    "start_time": "2021-11-01T19:19:46.743Z"
   },
   {
    "duration": 7,
    "start_time": "2021-11-01T19:20:10.478Z"
   },
   {
    "duration": 29,
    "start_time": "2021-11-01T19:21:19.511Z"
   },
   {
    "duration": 8,
    "start_time": "2021-11-01T19:21:23.212Z"
   },
   {
    "duration": 968,
    "start_time": "2021-11-02T10:43:44.272Z"
   },
   {
    "duration": 201,
    "start_time": "2021-11-02T10:43:45.242Z"
   },
   {
    "duration": 10,
    "start_time": "2021-11-02T10:43:45.446Z"
   },
   {
    "duration": 33,
    "start_time": "2021-11-02T10:43:45.468Z"
   },
   {
    "duration": 5,
    "start_time": "2021-11-02T10:43:45.504Z"
   },
   {
    "duration": 64,
    "start_time": "2021-11-02T10:43:45.511Z"
   },
   {
    "duration": 8,
    "start_time": "2021-11-02T10:43:45.578Z"
   },
   {
    "duration": 36,
    "start_time": "2021-11-02T10:43:45.589Z"
   },
   {
    "duration": 86,
    "start_time": "2021-11-02T10:43:45.630Z"
   },
   {
    "duration": 31,
    "start_time": "2021-11-02T10:43:45.719Z"
   },
   {
    "duration": 96,
    "start_time": "2021-11-02T10:43:45.752Z"
   },
   {
    "duration": 104,
    "start_time": "2021-11-02T10:43:45.850Z"
   },
   {
    "duration": 89,
    "start_time": "2021-11-02T10:43:45.957Z"
   },
   {
    "duration": 66,
    "start_time": "2021-11-02T10:43:46.048Z"
   },
   {
    "duration": 6,
    "start_time": "2021-11-02T10:43:46.117Z"
   },
   {
    "duration": 49,
    "start_time": "2021-11-02T10:43:46.126Z"
   },
   {
    "duration": 8,
    "start_time": "2021-11-02T10:43:46.178Z"
   },
   {
    "duration": 49,
    "start_time": "2021-11-02T10:43:46.190Z"
   },
   {
    "duration": 48,
    "start_time": "2021-11-02T10:43:46.266Z"
   },
   {
    "duration": 124,
    "start_time": "2021-11-02T10:43:46.317Z"
   },
   {
    "duration": 31,
    "start_time": "2021-11-02T10:43:46.444Z"
   },
   {
    "duration": 20,
    "start_time": "2021-11-02T10:43:46.478Z"
   },
   {
    "duration": 21,
    "start_time": "2021-11-02T10:43:46.501Z"
   },
   {
    "duration": 58,
    "start_time": "2021-11-02T10:43:46.525Z"
   },
   {
    "duration": 24,
    "start_time": "2021-11-02T10:43:46.585Z"
   },
   {
    "duration": 56,
    "start_time": "2021-11-02T10:43:46.612Z"
   },
   {
    "duration": 13,
    "start_time": "2021-11-02T10:43:46.675Z"
   },
   {
    "duration": 18,
    "start_time": "2021-11-02T10:43:46.692Z"
   },
   {
    "duration": 11,
    "start_time": "2021-11-02T10:43:46.713Z"
   },
   {
    "duration": 42,
    "start_time": "2021-11-02T10:43:46.727Z"
   },
   {
    "duration": 30,
    "start_time": "2021-11-02T10:43:46.772Z"
   },
   {
    "duration": 25,
    "start_time": "2021-11-02T10:43:46.804Z"
   },
   {
    "duration": 49,
    "start_time": "2021-11-02T10:43:46.831Z"
   },
   {
    "duration": 19,
    "start_time": "2021-11-02T10:43:46.883Z"
   },
   {
    "duration": 85,
    "start_time": "2021-11-02T10:43:46.904Z"
   },
   {
    "duration": 8,
    "start_time": "2021-11-02T10:43:46.992Z"
   },
   {
    "duration": 36,
    "start_time": "2021-11-02T10:43:47.002Z"
   },
   {
    "duration": 30,
    "start_time": "2021-11-02T10:43:47.040Z"
   },
   {
    "duration": 14,
    "start_time": "2021-11-02T10:48:34.401Z"
   },
   {
    "duration": 21,
    "start_time": "2021-11-02T10:48:47.299Z"
   },
   {
    "duration": 152,
    "start_time": "2021-11-02T10:52:24.035Z"
   },
   {
    "duration": 321,
    "start_time": "2021-11-02T18:18:45.621Z"
   },
   {
    "duration": 270,
    "start_time": "2021-11-02T18:19:08.810Z"
   },
   {
    "duration": 963,
    "start_time": "2021-11-02T18:19:52.166Z"
   },
   {
    "duration": 193,
    "start_time": "2021-11-02T18:19:54.782Z"
   },
   {
    "duration": 13,
    "start_time": "2021-11-02T18:19:56.951Z"
   },
   {
    "duration": 31,
    "start_time": "2021-11-02T18:19:59.714Z"
   },
   {
    "duration": 4,
    "start_time": "2021-11-02T18:20:05.253Z"
   },
   {
    "duration": 30,
    "start_time": "2021-11-02T18:20:07.747Z"
   },
   {
    "duration": 4,
    "start_time": "2021-11-02T18:20:10.518Z"
   },
   {
    "duration": 29,
    "start_time": "2021-11-02T18:20:12.697Z"
   },
   {
    "duration": 305,
    "start_time": "2021-11-02T18:20:52.186Z"
   },
   {
    "duration": 7332,
    "start_time": "2021-11-02T18:21:50.488Z"
   },
   {
    "duration": -295,
    "start_time": "2021-11-02T18:21:58.117Z"
   },
   {
    "duration": 5643,
    "start_time": "2021-11-02T18:22:05.671Z"
   },
   {
    "duration": 5043,
    "start_time": "2021-11-02T18:22:16.935Z"
   },
   {
    "duration": 5,
    "start_time": "2021-11-02T18:23:08.934Z"
   },
   {
    "duration": 15,
    "start_time": "2021-11-02T18:23:11.081Z"
   },
   {
    "duration": 60,
    "start_time": "2021-11-02T18:23:13.704Z"
   },
   {
    "duration": 4779,
    "start_time": "2021-11-02T18:25:37.739Z"
   },
   {
    "duration": 6294,
    "start_time": "2021-11-02T18:26:16.371Z"
   },
   {
    "duration": 21,
    "start_time": "2021-11-02T18:26:39.980Z"
   },
   {
    "duration": 28,
    "start_time": "2021-11-02T18:27:00.200Z"
   },
   {
    "duration": 55,
    "start_time": "2021-11-02T18:28:29.508Z"
   },
   {
    "duration": 11,
    "start_time": "2021-11-02T18:28:44.904Z"
   },
   {
    "duration": 263,
    "start_time": "2021-11-02T18:31:39.480Z"
   },
   {
    "duration": 259,
    "start_time": "2021-11-02T18:31:58.256Z"
   },
   {
    "duration": 461,
    "start_time": "2021-11-02T18:32:06.234Z"
   },
   {
    "duration": 52,
    "start_time": "2021-11-02T18:32:23.791Z"
   },
   {
    "duration": 16,
    "start_time": "2021-11-02T18:32:26.294Z"
   },
   {
    "duration": 53,
    "start_time": "2021-11-02T18:32:29.747Z"
   },
   {
    "duration": 21,
    "start_time": "2021-11-02T18:32:35.655Z"
   },
   {
    "duration": 97,
    "start_time": "2021-11-02T18:32:38.569Z"
   },
   {
    "duration": 30,
    "start_time": "2021-11-02T18:32:40.785Z"
   },
   {
    "duration": 31,
    "start_time": "2021-11-02T18:32:42.573Z"
   },
   {
    "duration": 30,
    "start_time": "2021-11-02T18:32:44.136Z"
   },
   {
    "duration": 27,
    "start_time": "2021-11-02T18:32:47.377Z"
   },
   {
    "duration": 31,
    "start_time": "2021-11-02T18:32:50.646Z"
   },
   {
    "duration": 11,
    "start_time": "2021-11-02T18:32:53.147Z"
   },
   {
    "duration": 16,
    "start_time": "2021-11-02T18:32:57.723Z"
   },
   {
    "duration": 18,
    "start_time": "2021-11-02T18:33:05.152Z"
   },
   {
    "duration": 13,
    "start_time": "2021-11-02T18:33:06.770Z"
   },
   {
    "duration": 6,
    "start_time": "2021-11-02T18:33:09.213Z"
   },
   {
    "duration": 25,
    "start_time": "2021-11-02T18:33:12.385Z"
   },
   {
    "duration": 30,
    "start_time": "2021-11-02T18:33:14.858Z"
   },
   {
    "duration": 25,
    "start_time": "2021-11-02T18:33:18.774Z"
   },
   {
    "duration": 18,
    "start_time": "2021-11-02T18:33:22.061Z"
   },
   {
    "duration": 43,
    "start_time": "2021-11-02T18:33:25.128Z"
   },
   {
    "duration": 14,
    "start_time": "2021-11-02T18:33:49.677Z"
   },
   {
    "duration": 271,
    "start_time": "2021-11-02T18:33:58.230Z"
   },
   {
    "duration": 278,
    "start_time": "2021-11-02T18:34:19.176Z"
   },
   {
    "duration": 23,
    "start_time": "2021-11-02T18:34:30.911Z"
   },
   {
    "duration": 33,
    "start_time": "2021-11-02T18:34:43.734Z"
   },
   {
    "duration": 5,
    "start_time": "2021-11-02T18:34:50.789Z"
   },
   {
    "duration": 14,
    "start_time": "2021-11-02T18:35:15.832Z"
   },
   {
    "duration": 5,
    "start_time": "2021-11-02T18:35:19.108Z"
   },
   {
    "duration": 4,
    "start_time": "2021-11-02T18:36:53.406Z"
   },
   {
    "duration": 21,
    "start_time": "2021-11-02T18:36:55.203Z"
   },
   {
    "duration": 4,
    "start_time": "2021-11-02T18:36:56.854Z"
   },
   {
    "duration": 28,
    "start_time": "2021-11-02T18:36:59.253Z"
   },
   {
    "duration": 25,
    "start_time": "2021-11-02T18:37:02.369Z"
   },
   {
    "duration": 30,
    "start_time": "2021-11-02T18:37:06.881Z"
   },
   {
    "duration": 60,
    "start_time": "2021-11-02T18:37:53.928Z"
   },
   {
    "duration": 50,
    "start_time": "2021-11-02T18:38:11.410Z"
   },
   {
    "duration": 21,
    "start_time": "2021-11-02T18:40:19.379Z"
   },
   {
    "duration": 31,
    "start_time": "2021-11-02T18:40:22.499Z"
   },
   {
    "duration": 75,
    "start_time": "2021-11-02T18:40:30.481Z"
   },
   {
    "duration": 16,
    "start_time": "2021-11-02T18:40:38.468Z"
   },
   {
    "duration": 15,
    "start_time": "2021-11-02T18:40:41.946Z"
   },
   {
    "duration": 21,
    "start_time": "2021-11-02T18:40:46.338Z"
   },
   {
    "duration": 20,
    "start_time": "2021-11-02T18:40:57.173Z"
   },
   {
    "duration": 108,
    "start_time": "2021-11-02T18:41:02.606Z"
   },
   {
    "duration": 10,
    "start_time": "2021-11-02T18:41:07.205Z"
   },
   {
    "duration": 21,
    "start_time": "2021-11-02T18:41:18.107Z"
   },
   {
    "duration": 6,
    "start_time": "2021-11-02T18:41:23.799Z"
   }
  ],
  "colab": {
   "collapsed_sections": [
    "E0vqbgi9ay0H",
    "VUC88oWjTJw2",
    "atZAxtq4_Zcu"
   ],
   "name": "EmptyFinalProject.ipynb\"",
   "provenance": []
  },
  "kernelspec": {
   "display_name": "Python 3",
   "language": "python",
   "name": "python3"
  },
  "language_info": {
   "codemirror_mode": {
    "name": "ipython",
    "version": 3
   },
   "file_extension": ".py",
   "mimetype": "text/x-python",
   "name": "python",
   "nbconvert_exporter": "python",
   "pygments_lexer": "ipython3",
   "version": "3.7.8"
  },
  "toc": {
   "base_numbering": 1,
   "nav_menu": {},
   "number_sections": true,
   "sideBar": true,
   "skip_h1_title": true,
   "title_cell": "Table of Contents",
   "title_sidebar": "Contents",
   "toc_cell": false,
   "toc_position": {},
   "toc_section_display": true,
   "toc_window_display": false
  }
 },
 "nbformat": 4,
 "nbformat_minor": 4
}
