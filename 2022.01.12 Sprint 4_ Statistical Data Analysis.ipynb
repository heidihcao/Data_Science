{
 "cells": [
  {
   "cell_type": "markdown",
   "metadata": {},
   "source": [
    "# Which one is a better plan?\n",
    "\n",
    "You work as an analyst for the telecom operator Megaline. The company offers its clients two prepaid plans, Surf and Ultimate. The commercial department wants to know which of the plans brings in more revenue in order to adjust the advertising budget.\n",
    "\n",
    "You are going to carry out a preliminary analysis of the plans based on a relatively small client selection. You'll have the data on 500 Megaline clients: who the clients are, where they're from, which plan they use, and the number of calls they made and text messages they sent in 2018. Your job is to analyze the clients' behavior and determine which prepaid plan brings in more revenue."
   ]
  },
  {
   "cell_type": "markdown",
   "metadata": {},
   "source": [
    "## Initialization"
   ]
  },
  {
   "cell_type": "code",
   "execution_count": 1,
   "metadata": {},
   "outputs": [],
   "source": [
    "# Loading all the libraries\n",
    "\n",
    "import pandas as pd\n",
    "import numpy as np\n",
    "import math\n",
    "import warnings\n",
    "warnings.filterwarnings(\"ignore\")\n",
    "from scipy import stats as st\n"
   ]
  },
  {
   "cell_type": "markdown",
   "metadata": {},
   "source": [
    "## Load data"
   ]
  },
  {
   "cell_type": "code",
   "execution_count": 2,
   "metadata": {},
   "outputs": [],
   "source": [
    "# Load the data files into different DataFrames\n",
    "call = pd.read_csv('/datasets/megaline_calls.csv')\n",
    "internet = pd.read_csv('/datasets/megaline_internet.csv')\n",
    "message = pd.read_csv('/datasets/megaline_messages.csv')\n",
    "plan = pd.read_csv('/datasets/megaline_plans.csv')\n",
    "user = pd.read_csv('/datasets/megaline_users.csv')\n"
   ]
  },
  {
   "cell_type": "markdown",
   "metadata": {},
   "source": [
    "## Prepare the data"
   ]
  },
  {
   "cell_type": "markdown",
   "metadata": {},
   "source": [
    "The data for this project is split into several tables. I plan on exploring each one to get an initial understanding of the data, and will clean, correct, and process data as necessary."
   ]
  },
  {
   "cell_type": "markdown",
   "metadata": {},
   "source": [
    "## Plans"
   ]
  },
  {
   "cell_type": "code",
   "execution_count": 3,
   "metadata": {},
   "outputs": [
    {
     "data": {
      "text/html": [
       "<div>\n",
       "<style scoped>\n",
       "    .dataframe tbody tr th:only-of-type {\n",
       "        vertical-align: middle;\n",
       "    }\n",
       "\n",
       "    .dataframe tbody tr th {\n",
       "        vertical-align: top;\n",
       "    }\n",
       "\n",
       "    .dataframe thead th {\n",
       "        text-align: right;\n",
       "    }\n",
       "</style>\n",
       "<table border=\"1\" class=\"dataframe\">\n",
       "  <thead>\n",
       "    <tr style=\"text-align: right;\">\n",
       "      <th></th>\n",
       "      <th>messages_included</th>\n",
       "      <th>mb_per_month_included</th>\n",
       "      <th>minutes_included</th>\n",
       "      <th>usd_monthly_pay</th>\n",
       "      <th>usd_per_gb</th>\n",
       "      <th>usd_per_message</th>\n",
       "      <th>usd_per_minute</th>\n",
       "    </tr>\n",
       "  </thead>\n",
       "  <tbody>\n",
       "    <tr>\n",
       "      <td>count</td>\n",
       "      <td>2.000000</td>\n",
       "      <td>2.000000</td>\n",
       "      <td>2.000000</td>\n",
       "      <td>2.000000</td>\n",
       "      <td>2.00000</td>\n",
       "      <td>2.000000</td>\n",
       "      <td>2.000000</td>\n",
       "    </tr>\n",
       "    <tr>\n",
       "      <td>mean</td>\n",
       "      <td>525.000000</td>\n",
       "      <td>23040.000000</td>\n",
       "      <td>1750.000000</td>\n",
       "      <td>45.000000</td>\n",
       "      <td>8.50000</td>\n",
       "      <td>0.020000</td>\n",
       "      <td>0.020000</td>\n",
       "    </tr>\n",
       "    <tr>\n",
       "      <td>std</td>\n",
       "      <td>671.751442</td>\n",
       "      <td>10861.160159</td>\n",
       "      <td>1767.766953</td>\n",
       "      <td>35.355339</td>\n",
       "      <td>2.12132</td>\n",
       "      <td>0.014142</td>\n",
       "      <td>0.014142</td>\n",
       "    </tr>\n",
       "    <tr>\n",
       "      <td>min</td>\n",
       "      <td>50.000000</td>\n",
       "      <td>15360.000000</td>\n",
       "      <td>500.000000</td>\n",
       "      <td>20.000000</td>\n",
       "      <td>7.00000</td>\n",
       "      <td>0.010000</td>\n",
       "      <td>0.010000</td>\n",
       "    </tr>\n",
       "    <tr>\n",
       "      <td>25%</td>\n",
       "      <td>287.500000</td>\n",
       "      <td>19200.000000</td>\n",
       "      <td>1125.000000</td>\n",
       "      <td>32.500000</td>\n",
       "      <td>7.75000</td>\n",
       "      <td>0.015000</td>\n",
       "      <td>0.015000</td>\n",
       "    </tr>\n",
       "    <tr>\n",
       "      <td>50%</td>\n",
       "      <td>525.000000</td>\n",
       "      <td>23040.000000</td>\n",
       "      <td>1750.000000</td>\n",
       "      <td>45.000000</td>\n",
       "      <td>8.50000</td>\n",
       "      <td>0.020000</td>\n",
       "      <td>0.020000</td>\n",
       "    </tr>\n",
       "    <tr>\n",
       "      <td>75%</td>\n",
       "      <td>762.500000</td>\n",
       "      <td>26880.000000</td>\n",
       "      <td>2375.000000</td>\n",
       "      <td>57.500000</td>\n",
       "      <td>9.25000</td>\n",
       "      <td>0.025000</td>\n",
       "      <td>0.025000</td>\n",
       "    </tr>\n",
       "    <tr>\n",
       "      <td>max</td>\n",
       "      <td>1000.000000</td>\n",
       "      <td>30720.000000</td>\n",
       "      <td>3000.000000</td>\n",
       "      <td>70.000000</td>\n",
       "      <td>10.00000</td>\n",
       "      <td>0.030000</td>\n",
       "      <td>0.030000</td>\n",
       "    </tr>\n",
       "  </tbody>\n",
       "</table>\n",
       "</div>"
      ],
      "text/plain": [
       "       messages_included  mb_per_month_included  minutes_included  \\\n",
       "count           2.000000               2.000000          2.000000   \n",
       "mean          525.000000           23040.000000       1750.000000   \n",
       "std           671.751442           10861.160159       1767.766953   \n",
       "min            50.000000           15360.000000        500.000000   \n",
       "25%           287.500000           19200.000000       1125.000000   \n",
       "50%           525.000000           23040.000000       1750.000000   \n",
       "75%           762.500000           26880.000000       2375.000000   \n",
       "max          1000.000000           30720.000000       3000.000000   \n",
       "\n",
       "       usd_monthly_pay  usd_per_gb  usd_per_message  usd_per_minute  \n",
       "count         2.000000     2.00000         2.000000        2.000000  \n",
       "mean         45.000000     8.50000         0.020000        0.020000  \n",
       "std          35.355339     2.12132         0.014142        0.014142  \n",
       "min          20.000000     7.00000         0.010000        0.010000  \n",
       "25%          32.500000     7.75000         0.015000        0.015000  \n",
       "50%          45.000000     8.50000         0.020000        0.020000  \n",
       "75%          57.500000     9.25000         0.025000        0.025000  \n",
       "max          70.000000    10.00000         0.030000        0.030000  "
      ]
     },
     "execution_count": 3,
     "metadata": {},
     "output_type": "execute_result"
    }
   ],
   "source": [
    "# Print the general/summary information about the plans' DataFrame\n",
    "\n",
    "plan.describe()"
   ]
  },
  {
   "cell_type": "code",
   "execution_count": 4,
   "metadata": {},
   "outputs": [
    {
     "data": {
      "text/html": [
       "<div>\n",
       "<style scoped>\n",
       "    .dataframe tbody tr th:only-of-type {\n",
       "        vertical-align: middle;\n",
       "    }\n",
       "\n",
       "    .dataframe tbody tr th {\n",
       "        vertical-align: top;\n",
       "    }\n",
       "\n",
       "    .dataframe thead th {\n",
       "        text-align: right;\n",
       "    }\n",
       "</style>\n",
       "<table border=\"1\" class=\"dataframe\">\n",
       "  <thead>\n",
       "    <tr style=\"text-align: right;\">\n",
       "      <th></th>\n",
       "      <th>messages_included</th>\n",
       "      <th>mb_per_month_included</th>\n",
       "      <th>minutes_included</th>\n",
       "      <th>usd_monthly_pay</th>\n",
       "      <th>usd_per_gb</th>\n",
       "      <th>usd_per_message</th>\n",
       "      <th>usd_per_minute</th>\n",
       "      <th>plan_name</th>\n",
       "    </tr>\n",
       "  </thead>\n",
       "  <tbody>\n",
       "    <tr>\n",
       "      <td>0</td>\n",
       "      <td>50</td>\n",
       "      <td>15360</td>\n",
       "      <td>500</td>\n",
       "      <td>20</td>\n",
       "      <td>10</td>\n",
       "      <td>0.03</td>\n",
       "      <td>0.03</td>\n",
       "      <td>surf</td>\n",
       "    </tr>\n",
       "    <tr>\n",
       "      <td>1</td>\n",
       "      <td>1000</td>\n",
       "      <td>30720</td>\n",
       "      <td>3000</td>\n",
       "      <td>70</td>\n",
       "      <td>7</td>\n",
       "      <td>0.01</td>\n",
       "      <td>0.01</td>\n",
       "      <td>ultimate</td>\n",
       "    </tr>\n",
       "  </tbody>\n",
       "</table>\n",
       "</div>"
      ],
      "text/plain": [
       "   messages_included  mb_per_month_included  minutes_included  \\\n",
       "0                 50                  15360               500   \n",
       "1               1000                  30720              3000   \n",
       "\n",
       "   usd_monthly_pay  usd_per_gb  usd_per_message  usd_per_minute plan_name  \n",
       "0               20          10             0.03            0.03      surf  \n",
       "1               70           7             0.01            0.01  ultimate  "
      ]
     },
     "execution_count": 4,
     "metadata": {},
     "output_type": "execute_result"
    }
   ],
   "source": [
    "# Print a sample of data for plans\n",
    "\n",
    "plan.head(20)"
   ]
  },
  {
   "cell_type": "code",
   "execution_count": 5,
   "metadata": {},
   "outputs": [
    {
     "name": "stdout",
     "output_type": "stream",
     "text": [
      "<class 'pandas.core.frame.DataFrame'>\n",
      "RangeIndex: 2 entries, 0 to 1\n",
      "Data columns (total 8 columns):\n",
      "messages_included        2 non-null int64\n",
      "mb_per_month_included    2 non-null int64\n",
      "minutes_included         2 non-null int64\n",
      "usd_monthly_pay          2 non-null int64\n",
      "usd_per_gb               2 non-null int64\n",
      "usd_per_message          2 non-null float64\n",
      "usd_per_minute           2 non-null float64\n",
      "plan_name                2 non-null object\n",
      "dtypes: float64(2), int64(5), object(1)\n",
      "memory usage: 256.0+ bytes\n"
     ]
    }
   ],
   "source": [
    "plan.info()"
   ]
  },
  {
   "cell_type": "markdown",
   "metadata": {},
   "source": [
    "The plan table contains two rows, and one can assume each represents a cellphone plan. \n",
    "\n",
    "The columns explains and details the monthly pay, per minute or per message rate, and features included in the plan. \n",
    "\n",
    "There does not seem to be any issues such as inappropriate data types or missing data. It makes sense that apart from the plan name, the other columns are of integer or float type."
   ]
  },
  {
   "cell_type": "markdown",
   "metadata": {},
   "source": [
    " "
   ]
  },
  {
   "cell_type": "markdown",
   "metadata": {},
   "source": [
    "## Users"
   ]
  },
  {
   "cell_type": "code",
   "execution_count": 6,
   "metadata": {},
   "outputs": [
    {
     "data": {
      "text/html": [
       "<div>\n",
       "<style scoped>\n",
       "    .dataframe tbody tr th:only-of-type {\n",
       "        vertical-align: middle;\n",
       "    }\n",
       "\n",
       "    .dataframe tbody tr th {\n",
       "        vertical-align: top;\n",
       "    }\n",
       "\n",
       "    .dataframe thead th {\n",
       "        text-align: right;\n",
       "    }\n",
       "</style>\n",
       "<table border=\"1\" class=\"dataframe\">\n",
       "  <thead>\n",
       "    <tr style=\"text-align: right;\">\n",
       "      <th></th>\n",
       "      <th>user_id</th>\n",
       "      <th>age</th>\n",
       "    </tr>\n",
       "  </thead>\n",
       "  <tbody>\n",
       "    <tr>\n",
       "      <td>count</td>\n",
       "      <td>500.000000</td>\n",
       "      <td>500.000000</td>\n",
       "    </tr>\n",
       "    <tr>\n",
       "      <td>mean</td>\n",
       "      <td>1249.500000</td>\n",
       "      <td>45.486000</td>\n",
       "    </tr>\n",
       "    <tr>\n",
       "      <td>std</td>\n",
       "      <td>144.481833</td>\n",
       "      <td>16.972269</td>\n",
       "    </tr>\n",
       "    <tr>\n",
       "      <td>min</td>\n",
       "      <td>1000.000000</td>\n",
       "      <td>18.000000</td>\n",
       "    </tr>\n",
       "    <tr>\n",
       "      <td>25%</td>\n",
       "      <td>1124.750000</td>\n",
       "      <td>30.000000</td>\n",
       "    </tr>\n",
       "    <tr>\n",
       "      <td>50%</td>\n",
       "      <td>1249.500000</td>\n",
       "      <td>46.000000</td>\n",
       "    </tr>\n",
       "    <tr>\n",
       "      <td>75%</td>\n",
       "      <td>1374.250000</td>\n",
       "      <td>61.000000</td>\n",
       "    </tr>\n",
       "    <tr>\n",
       "      <td>max</td>\n",
       "      <td>1499.000000</td>\n",
       "      <td>75.000000</td>\n",
       "    </tr>\n",
       "  </tbody>\n",
       "</table>\n",
       "</div>"
      ],
      "text/plain": [
       "           user_id         age\n",
       "count   500.000000  500.000000\n",
       "mean   1249.500000   45.486000\n",
       "std     144.481833   16.972269\n",
       "min    1000.000000   18.000000\n",
       "25%    1124.750000   30.000000\n",
       "50%    1249.500000   46.000000\n",
       "75%    1374.250000   61.000000\n",
       "max    1499.000000   75.000000"
      ]
     },
     "execution_count": 6,
     "metadata": {},
     "output_type": "execute_result"
    }
   ],
   "source": [
    "# Print the general/summary information about the users' DataFrame\n",
    "\n",
    "user.describe()"
   ]
  },
  {
   "cell_type": "code",
   "execution_count": 7,
   "metadata": {},
   "outputs": [
    {
     "name": "stdout",
     "output_type": "stream",
     "text": [
      "<class 'pandas.core.frame.DataFrame'>\n",
      "RangeIndex: 500 entries, 0 to 499\n",
      "Data columns (total 8 columns):\n",
      "user_id       500 non-null int64\n",
      "first_name    500 non-null object\n",
      "last_name     500 non-null object\n",
      "age           500 non-null int64\n",
      "city          500 non-null object\n",
      "reg_date      500 non-null object\n",
      "plan          500 non-null object\n",
      "churn_date    34 non-null object\n",
      "dtypes: int64(2), object(6)\n",
      "memory usage: 31.4+ KB\n"
     ]
    }
   ],
   "source": [
    "user.info()"
   ]
  },
  {
   "cell_type": "code",
   "execution_count": 8,
   "metadata": {},
   "outputs": [
    {
     "data": {
      "text/html": [
       "<div>\n",
       "<style scoped>\n",
       "    .dataframe tbody tr th:only-of-type {\n",
       "        vertical-align: middle;\n",
       "    }\n",
       "\n",
       "    .dataframe tbody tr th {\n",
       "        vertical-align: top;\n",
       "    }\n",
       "\n",
       "    .dataframe thead th {\n",
       "        text-align: right;\n",
       "    }\n",
       "</style>\n",
       "<table border=\"1\" class=\"dataframe\">\n",
       "  <thead>\n",
       "    <tr style=\"text-align: right;\">\n",
       "      <th></th>\n",
       "      <th>user_id</th>\n",
       "      <th>first_name</th>\n",
       "      <th>last_name</th>\n",
       "      <th>age</th>\n",
       "      <th>city</th>\n",
       "      <th>reg_date</th>\n",
       "      <th>plan</th>\n",
       "      <th>churn_date</th>\n",
       "    </tr>\n",
       "  </thead>\n",
       "  <tbody>\n",
       "    <tr>\n",
       "      <td>0</td>\n",
       "      <td>1000</td>\n",
       "      <td>Anamaria</td>\n",
       "      <td>Bauer</td>\n",
       "      <td>45</td>\n",
       "      <td>Atlanta-Sandy Springs-Roswell, GA MSA</td>\n",
       "      <td>2018-12-24</td>\n",
       "      <td>ultimate</td>\n",
       "      <td>NaN</td>\n",
       "    </tr>\n",
       "    <tr>\n",
       "      <td>1</td>\n",
       "      <td>1001</td>\n",
       "      <td>Mickey</td>\n",
       "      <td>Wilkerson</td>\n",
       "      <td>28</td>\n",
       "      <td>Seattle-Tacoma-Bellevue, WA MSA</td>\n",
       "      <td>2018-08-13</td>\n",
       "      <td>surf</td>\n",
       "      <td>NaN</td>\n",
       "    </tr>\n",
       "    <tr>\n",
       "      <td>2</td>\n",
       "      <td>1002</td>\n",
       "      <td>Carlee</td>\n",
       "      <td>Hoffman</td>\n",
       "      <td>36</td>\n",
       "      <td>Las Vegas-Henderson-Paradise, NV MSA</td>\n",
       "      <td>2018-10-21</td>\n",
       "      <td>surf</td>\n",
       "      <td>NaN</td>\n",
       "    </tr>\n",
       "    <tr>\n",
       "      <td>3</td>\n",
       "      <td>1003</td>\n",
       "      <td>Reynaldo</td>\n",
       "      <td>Jenkins</td>\n",
       "      <td>52</td>\n",
       "      <td>Tulsa, OK MSA</td>\n",
       "      <td>2018-01-28</td>\n",
       "      <td>surf</td>\n",
       "      <td>NaN</td>\n",
       "    </tr>\n",
       "    <tr>\n",
       "      <td>4</td>\n",
       "      <td>1004</td>\n",
       "      <td>Leonila</td>\n",
       "      <td>Thompson</td>\n",
       "      <td>40</td>\n",
       "      <td>Seattle-Tacoma-Bellevue, WA MSA</td>\n",
       "      <td>2018-05-23</td>\n",
       "      <td>surf</td>\n",
       "      <td>NaN</td>\n",
       "    </tr>\n",
       "    <tr>\n",
       "      <td>5</td>\n",
       "      <td>1005</td>\n",
       "      <td>Livia</td>\n",
       "      <td>Shields</td>\n",
       "      <td>31</td>\n",
       "      <td>Dallas-Fort Worth-Arlington, TX MSA</td>\n",
       "      <td>2018-11-29</td>\n",
       "      <td>surf</td>\n",
       "      <td>NaN</td>\n",
       "    </tr>\n",
       "    <tr>\n",
       "      <td>6</td>\n",
       "      <td>1006</td>\n",
       "      <td>Jesusa</td>\n",
       "      <td>Bradford</td>\n",
       "      <td>73</td>\n",
       "      <td>San Francisco-Oakland-Berkeley, CA MSA</td>\n",
       "      <td>2018-11-27</td>\n",
       "      <td>ultimate</td>\n",
       "      <td>2018-12-18</td>\n",
       "    </tr>\n",
       "    <tr>\n",
       "      <td>7</td>\n",
       "      <td>1007</td>\n",
       "      <td>Eusebio</td>\n",
       "      <td>Welch</td>\n",
       "      <td>42</td>\n",
       "      <td>Grand Rapids-Kentwood, MI MSA</td>\n",
       "      <td>2018-07-11</td>\n",
       "      <td>surf</td>\n",
       "      <td>NaN</td>\n",
       "    </tr>\n",
       "    <tr>\n",
       "      <td>8</td>\n",
       "      <td>1008</td>\n",
       "      <td>Emely</td>\n",
       "      <td>Hoffman</td>\n",
       "      <td>53</td>\n",
       "      <td>Orlando-Kissimmee-Sanford, FL MSA</td>\n",
       "      <td>2018-08-03</td>\n",
       "      <td>ultimate</td>\n",
       "      <td>NaN</td>\n",
       "    </tr>\n",
       "    <tr>\n",
       "      <td>9</td>\n",
       "      <td>1009</td>\n",
       "      <td>Gerry</td>\n",
       "      <td>Little</td>\n",
       "      <td>19</td>\n",
       "      <td>San Jose-Sunnyvale-Santa Clara, CA MSA</td>\n",
       "      <td>2018-04-22</td>\n",
       "      <td>surf</td>\n",
       "      <td>NaN</td>\n",
       "    </tr>\n",
       "    <tr>\n",
       "      <td>10</td>\n",
       "      <td>1010</td>\n",
       "      <td>Wilber</td>\n",
       "      <td>Blair</td>\n",
       "      <td>52</td>\n",
       "      <td>Dallas-Fort Worth-Arlington, TX MSA</td>\n",
       "      <td>2018-03-09</td>\n",
       "      <td>surf</td>\n",
       "      <td>NaN</td>\n",
       "    </tr>\n",
       "    <tr>\n",
       "      <td>11</td>\n",
       "      <td>1011</td>\n",
       "      <td>Halina</td>\n",
       "      <td>Henry</td>\n",
       "      <td>73</td>\n",
       "      <td>Cleveland-Elyria, OH MSA</td>\n",
       "      <td>2018-01-18</td>\n",
       "      <td>ultimate</td>\n",
       "      <td>NaN</td>\n",
       "    </tr>\n",
       "    <tr>\n",
       "      <td>12</td>\n",
       "      <td>1012</td>\n",
       "      <td>Jonelle</td>\n",
       "      <td>Mcbride</td>\n",
       "      <td>59</td>\n",
       "      <td>Chicago-Naperville-Elgin, IL-IN-WI MSA</td>\n",
       "      <td>2018-06-28</td>\n",
       "      <td>surf</td>\n",
       "      <td>2018-11-16</td>\n",
       "    </tr>\n",
       "    <tr>\n",
       "      <td>13</td>\n",
       "      <td>1013</td>\n",
       "      <td>Nicolas</td>\n",
       "      <td>Snider</td>\n",
       "      <td>50</td>\n",
       "      <td>Knoxville, TN MSA</td>\n",
       "      <td>2018-12-01</td>\n",
       "      <td>ultimate</td>\n",
       "      <td>NaN</td>\n",
       "    </tr>\n",
       "    <tr>\n",
       "      <td>14</td>\n",
       "      <td>1014</td>\n",
       "      <td>Edmundo</td>\n",
       "      <td>Simon</td>\n",
       "      <td>61</td>\n",
       "      <td>New York-Newark-Jersey City, NY-NJ-PA MSA</td>\n",
       "      <td>2018-11-25</td>\n",
       "      <td>surf</td>\n",
       "      <td>NaN</td>\n",
       "    </tr>\n",
       "    <tr>\n",
       "      <td>15</td>\n",
       "      <td>1015</td>\n",
       "      <td>Beata</td>\n",
       "      <td>Carpenter</td>\n",
       "      <td>26</td>\n",
       "      <td>Pittsburgh, PA MSA</td>\n",
       "      <td>2018-12-05</td>\n",
       "      <td>surf</td>\n",
       "      <td>NaN</td>\n",
       "    </tr>\n",
       "    <tr>\n",
       "      <td>16</td>\n",
       "      <td>1016</td>\n",
       "      <td>Jann</td>\n",
       "      <td>Salinas</td>\n",
       "      <td>30</td>\n",
       "      <td>Fresno, CA MSA</td>\n",
       "      <td>2018-10-25</td>\n",
       "      <td>surf</td>\n",
       "      <td>NaN</td>\n",
       "    </tr>\n",
       "    <tr>\n",
       "      <td>17</td>\n",
       "      <td>1017</td>\n",
       "      <td>Boris</td>\n",
       "      <td>Gates</td>\n",
       "      <td>61</td>\n",
       "      <td>Washington-Arlington-Alexandria, DC-VA-MD-WV MSA</td>\n",
       "      <td>2018-08-26</td>\n",
       "      <td>surf</td>\n",
       "      <td>NaN</td>\n",
       "    </tr>\n",
       "    <tr>\n",
       "      <td>18</td>\n",
       "      <td>1018</td>\n",
       "      <td>Dennis</td>\n",
       "      <td>Grimes</td>\n",
       "      <td>70</td>\n",
       "      <td>Indianapolis-Carmel-Anderson, IN MSA</td>\n",
       "      <td>2018-10-17</td>\n",
       "      <td>surf</td>\n",
       "      <td>NaN</td>\n",
       "    </tr>\n",
       "    <tr>\n",
       "      <td>19</td>\n",
       "      <td>1019</td>\n",
       "      <td>Shizue</td>\n",
       "      <td>Landry</td>\n",
       "      <td>34</td>\n",
       "      <td>Jacksonville, FL MSA</td>\n",
       "      <td>2018-01-16</td>\n",
       "      <td>surf</td>\n",
       "      <td>NaN</td>\n",
       "    </tr>\n",
       "    <tr>\n",
       "      <td>20</td>\n",
       "      <td>1020</td>\n",
       "      <td>Rutha</td>\n",
       "      <td>Bell</td>\n",
       "      <td>56</td>\n",
       "      <td>Dallas-Fort Worth-Arlington, TX MSA</td>\n",
       "      <td>2018-11-08</td>\n",
       "      <td>surf</td>\n",
       "      <td>NaN</td>\n",
       "    </tr>\n",
       "    <tr>\n",
       "      <td>21</td>\n",
       "      <td>1021</td>\n",
       "      <td>Ricarda</td>\n",
       "      <td>Booker</td>\n",
       "      <td>37</td>\n",
       "      <td>Los Angeles-Long Beach-Anaheim, CA MSA</td>\n",
       "      <td>2018-12-21</td>\n",
       "      <td>surf</td>\n",
       "      <td>NaN</td>\n",
       "    </tr>\n",
       "    <tr>\n",
       "      <td>22</td>\n",
       "      <td>1022</td>\n",
       "      <td>Bo</td>\n",
       "      <td>Snow</td>\n",
       "      <td>73</td>\n",
       "      <td>New York-Newark-Jersey City, NY-NJ-PA MSA</td>\n",
       "      <td>2018-04-20</td>\n",
       "      <td>surf</td>\n",
       "      <td>2018-09-07</td>\n",
       "    </tr>\n",
       "    <tr>\n",
       "      <td>23</td>\n",
       "      <td>1023</td>\n",
       "      <td>Jack</td>\n",
       "      <td>Delaney</td>\n",
       "      <td>70</td>\n",
       "      <td>Omaha-Council Bluffs, NE-IA MSA</td>\n",
       "      <td>2018-07-06</td>\n",
       "      <td>surf</td>\n",
       "      <td>NaN</td>\n",
       "    </tr>\n",
       "    <tr>\n",
       "      <td>24</td>\n",
       "      <td>1024</td>\n",
       "      <td>Yuki</td>\n",
       "      <td>Tyson</td>\n",
       "      <td>74</td>\n",
       "      <td>New York-Newark-Jersey City, NY-NJ-PA MSA</td>\n",
       "      <td>2018-08-21</td>\n",
       "      <td>surf</td>\n",
       "      <td>NaN</td>\n",
       "    </tr>\n",
       "    <tr>\n",
       "      <td>25</td>\n",
       "      <td>1025</td>\n",
       "      <td>Jess</td>\n",
       "      <td>Wilkinson</td>\n",
       "      <td>64</td>\n",
       "      <td>Atlanta-Sandy Springs-Roswell, GA MSA</td>\n",
       "      <td>2018-10-28</td>\n",
       "      <td>ultimate</td>\n",
       "      <td>NaN</td>\n",
       "    </tr>\n",
       "    <tr>\n",
       "      <td>26</td>\n",
       "      <td>1026</td>\n",
       "      <td>Meggan</td>\n",
       "      <td>Hamilton</td>\n",
       "      <td>49</td>\n",
       "      <td>Houston-The Woodlands-Sugar Land, TX MSA</td>\n",
       "      <td>2018-07-20</td>\n",
       "      <td>ultimate</td>\n",
       "      <td>NaN</td>\n",
       "    </tr>\n",
       "    <tr>\n",
       "      <td>27</td>\n",
       "      <td>1027</td>\n",
       "      <td>Georgeanna</td>\n",
       "      <td>Cardenas</td>\n",
       "      <td>38</td>\n",
       "      <td>New York-Newark-Jersey City, NY-NJ-PA MSA</td>\n",
       "      <td>2018-06-26</td>\n",
       "      <td>surf</td>\n",
       "      <td>NaN</td>\n",
       "    </tr>\n",
       "    <tr>\n",
       "      <td>28</td>\n",
       "      <td>1028</td>\n",
       "      <td>Jefferey</td>\n",
       "      <td>Rasmussen</td>\n",
       "      <td>57</td>\n",
       "      <td>Philadelphia-Camden-Wilmington, PA-NJ-DE-MD MSA</td>\n",
       "      <td>2018-02-21</td>\n",
       "      <td>ultimate</td>\n",
       "      <td>NaN</td>\n",
       "    </tr>\n",
       "    <tr>\n",
       "      <td>29</td>\n",
       "      <td>1029</td>\n",
       "      <td>Franklyn</td>\n",
       "      <td>Henson</td>\n",
       "      <td>59</td>\n",
       "      <td>Tampa-St. Petersburg-Clearwater, FL MSA</td>\n",
       "      <td>2018-01-05</td>\n",
       "      <td>surf</td>\n",
       "      <td>NaN</td>\n",
       "    </tr>\n",
       "  </tbody>\n",
       "</table>\n",
       "</div>"
      ],
      "text/plain": [
       "    user_id  first_name  last_name  age  \\\n",
       "0      1000    Anamaria      Bauer   45   \n",
       "1      1001      Mickey  Wilkerson   28   \n",
       "2      1002      Carlee    Hoffman   36   \n",
       "3      1003    Reynaldo    Jenkins   52   \n",
       "4      1004     Leonila   Thompson   40   \n",
       "5      1005       Livia    Shields   31   \n",
       "6      1006      Jesusa   Bradford   73   \n",
       "7      1007     Eusebio      Welch   42   \n",
       "8      1008       Emely    Hoffman   53   \n",
       "9      1009       Gerry     Little   19   \n",
       "10     1010      Wilber      Blair   52   \n",
       "11     1011      Halina      Henry   73   \n",
       "12     1012     Jonelle    Mcbride   59   \n",
       "13     1013     Nicolas     Snider   50   \n",
       "14     1014     Edmundo      Simon   61   \n",
       "15     1015       Beata  Carpenter   26   \n",
       "16     1016        Jann    Salinas   30   \n",
       "17     1017       Boris      Gates   61   \n",
       "18     1018      Dennis     Grimes   70   \n",
       "19     1019      Shizue     Landry   34   \n",
       "20     1020       Rutha       Bell   56   \n",
       "21     1021     Ricarda     Booker   37   \n",
       "22     1022          Bo       Snow   73   \n",
       "23     1023        Jack    Delaney   70   \n",
       "24     1024        Yuki      Tyson   74   \n",
       "25     1025        Jess  Wilkinson   64   \n",
       "26     1026      Meggan   Hamilton   49   \n",
       "27     1027  Georgeanna   Cardenas   38   \n",
       "28     1028    Jefferey  Rasmussen   57   \n",
       "29     1029    Franklyn     Henson   59   \n",
       "\n",
       "                                                city    reg_date      plan  \\\n",
       "0              Atlanta-Sandy Springs-Roswell, GA MSA  2018-12-24  ultimate   \n",
       "1                    Seattle-Tacoma-Bellevue, WA MSA  2018-08-13      surf   \n",
       "2               Las Vegas-Henderson-Paradise, NV MSA  2018-10-21      surf   \n",
       "3                                      Tulsa, OK MSA  2018-01-28      surf   \n",
       "4                    Seattle-Tacoma-Bellevue, WA MSA  2018-05-23      surf   \n",
       "5                Dallas-Fort Worth-Arlington, TX MSA  2018-11-29      surf   \n",
       "6             San Francisco-Oakland-Berkeley, CA MSA  2018-11-27  ultimate   \n",
       "7                      Grand Rapids-Kentwood, MI MSA  2018-07-11      surf   \n",
       "8                  Orlando-Kissimmee-Sanford, FL MSA  2018-08-03  ultimate   \n",
       "9             San Jose-Sunnyvale-Santa Clara, CA MSA  2018-04-22      surf   \n",
       "10               Dallas-Fort Worth-Arlington, TX MSA  2018-03-09      surf   \n",
       "11                          Cleveland-Elyria, OH MSA  2018-01-18  ultimate   \n",
       "12            Chicago-Naperville-Elgin, IL-IN-WI MSA  2018-06-28      surf   \n",
       "13                                 Knoxville, TN MSA  2018-12-01  ultimate   \n",
       "14         New York-Newark-Jersey City, NY-NJ-PA MSA  2018-11-25      surf   \n",
       "15                                Pittsburgh, PA MSA  2018-12-05      surf   \n",
       "16                                    Fresno, CA MSA  2018-10-25      surf   \n",
       "17  Washington-Arlington-Alexandria, DC-VA-MD-WV MSA  2018-08-26      surf   \n",
       "18              Indianapolis-Carmel-Anderson, IN MSA  2018-10-17      surf   \n",
       "19                              Jacksonville, FL MSA  2018-01-16      surf   \n",
       "20               Dallas-Fort Worth-Arlington, TX MSA  2018-11-08      surf   \n",
       "21            Los Angeles-Long Beach-Anaheim, CA MSA  2018-12-21      surf   \n",
       "22         New York-Newark-Jersey City, NY-NJ-PA MSA  2018-04-20      surf   \n",
       "23                   Omaha-Council Bluffs, NE-IA MSA  2018-07-06      surf   \n",
       "24         New York-Newark-Jersey City, NY-NJ-PA MSA  2018-08-21      surf   \n",
       "25             Atlanta-Sandy Springs-Roswell, GA MSA  2018-10-28  ultimate   \n",
       "26          Houston-The Woodlands-Sugar Land, TX MSA  2018-07-20  ultimate   \n",
       "27         New York-Newark-Jersey City, NY-NJ-PA MSA  2018-06-26      surf   \n",
       "28   Philadelphia-Camden-Wilmington, PA-NJ-DE-MD MSA  2018-02-21  ultimate   \n",
       "29           Tampa-St. Petersburg-Clearwater, FL MSA  2018-01-05      surf   \n",
       "\n",
       "    churn_date  \n",
       "0          NaN  \n",
       "1          NaN  \n",
       "2          NaN  \n",
       "3          NaN  \n",
       "4          NaN  \n",
       "5          NaN  \n",
       "6   2018-12-18  \n",
       "7          NaN  \n",
       "8          NaN  \n",
       "9          NaN  \n",
       "10         NaN  \n",
       "11         NaN  \n",
       "12  2018-11-16  \n",
       "13         NaN  \n",
       "14         NaN  \n",
       "15         NaN  \n",
       "16         NaN  \n",
       "17         NaN  \n",
       "18         NaN  \n",
       "19         NaN  \n",
       "20         NaN  \n",
       "21         NaN  \n",
       "22  2018-09-07  \n",
       "23         NaN  \n",
       "24         NaN  \n",
       "25         NaN  \n",
       "26         NaN  \n",
       "27         NaN  \n",
       "28         NaN  \n",
       "29         NaN  "
      ]
     },
     "execution_count": 8,
     "metadata": {},
     "output_type": "execute_result"
    }
   ],
   "source": [
    "# Print a sample of data for users\n",
    "user.head(30)"
   ]
  },
  {
   "cell_type": "markdown",
   "metadata": {},
   "source": [
    "Missing data:\n",
    "- the *churn_date* column is the only one that contains null objects. Since a significant amount of the data is missing in this column (only 34 out of 500 rows are populated), and considering churn_date is not entirely relevant to conducting user and phone plan studies, my decision is to eliminate the column.\n",
    "\n",
    "Inaccurate data:\n",
    "- every city in the table appears to have a typo. \"MSA\" should be \"USA\". Furthermore, USA is a country and not a city. I will remove the \"MSA\" string from the *city* column.\n"
   ]
  },
  {
   "cell_type": "markdown",
   "metadata": {},
   "source": [
    "### Fix Data"
   ]
  },
  {
   "cell_type": "markdown",
   "metadata": {},
   "source": [
    "1. Delete \"churn_date\" column"
   ]
  },
  {
   "cell_type": "code",
   "execution_count": 9,
   "metadata": {},
   "outputs": [
    {
     "data": {
      "text/plain": [
       "0      NaN\n",
       "1      NaN\n",
       "2      NaN\n",
       "3      NaN\n",
       "4      NaN\n",
       "      ... \n",
       "495    NaN\n",
       "496    NaN\n",
       "497    NaN\n",
       "498    NaN\n",
       "499    NaN\n",
       "Name: churn_date, Length: 500, dtype: object"
      ]
     },
     "execution_count": 9,
     "metadata": {},
     "output_type": "execute_result"
    }
   ],
   "source": [
    "user.pop('churn_date')"
   ]
  },
  {
   "cell_type": "code",
   "execution_count": 10,
   "metadata": {},
   "outputs": [
    {
     "data": {
      "text/html": [
       "<div>\n",
       "<style scoped>\n",
       "    .dataframe tbody tr th:only-of-type {\n",
       "        vertical-align: middle;\n",
       "    }\n",
       "\n",
       "    .dataframe tbody tr th {\n",
       "        vertical-align: top;\n",
       "    }\n",
       "\n",
       "    .dataframe thead th {\n",
       "        text-align: right;\n",
       "    }\n",
       "</style>\n",
       "<table border=\"1\" class=\"dataframe\">\n",
       "  <thead>\n",
       "    <tr style=\"text-align: right;\">\n",
       "      <th></th>\n",
       "      <th>user_id</th>\n",
       "      <th>first_name</th>\n",
       "      <th>last_name</th>\n",
       "      <th>age</th>\n",
       "      <th>city</th>\n",
       "      <th>reg_date</th>\n",
       "      <th>plan</th>\n",
       "    </tr>\n",
       "  </thead>\n",
       "  <tbody>\n",
       "    <tr>\n",
       "      <td>0</td>\n",
       "      <td>1000</td>\n",
       "      <td>Anamaria</td>\n",
       "      <td>Bauer</td>\n",
       "      <td>45</td>\n",
       "      <td>Atlanta-Sandy Springs-Roswell, GA MSA</td>\n",
       "      <td>2018-12-24</td>\n",
       "      <td>ultimate</td>\n",
       "    </tr>\n",
       "    <tr>\n",
       "      <td>1</td>\n",
       "      <td>1001</td>\n",
       "      <td>Mickey</td>\n",
       "      <td>Wilkerson</td>\n",
       "      <td>28</td>\n",
       "      <td>Seattle-Tacoma-Bellevue, WA MSA</td>\n",
       "      <td>2018-08-13</td>\n",
       "      <td>surf</td>\n",
       "    </tr>\n",
       "    <tr>\n",
       "      <td>2</td>\n",
       "      <td>1002</td>\n",
       "      <td>Carlee</td>\n",
       "      <td>Hoffman</td>\n",
       "      <td>36</td>\n",
       "      <td>Las Vegas-Henderson-Paradise, NV MSA</td>\n",
       "      <td>2018-10-21</td>\n",
       "      <td>surf</td>\n",
       "    </tr>\n",
       "    <tr>\n",
       "      <td>3</td>\n",
       "      <td>1003</td>\n",
       "      <td>Reynaldo</td>\n",
       "      <td>Jenkins</td>\n",
       "      <td>52</td>\n",
       "      <td>Tulsa, OK MSA</td>\n",
       "      <td>2018-01-28</td>\n",
       "      <td>surf</td>\n",
       "    </tr>\n",
       "    <tr>\n",
       "      <td>4</td>\n",
       "      <td>1004</td>\n",
       "      <td>Leonila</td>\n",
       "      <td>Thompson</td>\n",
       "      <td>40</td>\n",
       "      <td>Seattle-Tacoma-Bellevue, WA MSA</td>\n",
       "      <td>2018-05-23</td>\n",
       "      <td>surf</td>\n",
       "    </tr>\n",
       "    <tr>\n",
       "      <td>5</td>\n",
       "      <td>1005</td>\n",
       "      <td>Livia</td>\n",
       "      <td>Shields</td>\n",
       "      <td>31</td>\n",
       "      <td>Dallas-Fort Worth-Arlington, TX MSA</td>\n",
       "      <td>2018-11-29</td>\n",
       "      <td>surf</td>\n",
       "    </tr>\n",
       "    <tr>\n",
       "      <td>6</td>\n",
       "      <td>1006</td>\n",
       "      <td>Jesusa</td>\n",
       "      <td>Bradford</td>\n",
       "      <td>73</td>\n",
       "      <td>San Francisco-Oakland-Berkeley, CA MSA</td>\n",
       "      <td>2018-11-27</td>\n",
       "      <td>ultimate</td>\n",
       "    </tr>\n",
       "    <tr>\n",
       "      <td>7</td>\n",
       "      <td>1007</td>\n",
       "      <td>Eusebio</td>\n",
       "      <td>Welch</td>\n",
       "      <td>42</td>\n",
       "      <td>Grand Rapids-Kentwood, MI MSA</td>\n",
       "      <td>2018-07-11</td>\n",
       "      <td>surf</td>\n",
       "    </tr>\n",
       "    <tr>\n",
       "      <td>8</td>\n",
       "      <td>1008</td>\n",
       "      <td>Emely</td>\n",
       "      <td>Hoffman</td>\n",
       "      <td>53</td>\n",
       "      <td>Orlando-Kissimmee-Sanford, FL MSA</td>\n",
       "      <td>2018-08-03</td>\n",
       "      <td>ultimate</td>\n",
       "    </tr>\n",
       "    <tr>\n",
       "      <td>9</td>\n",
       "      <td>1009</td>\n",
       "      <td>Gerry</td>\n",
       "      <td>Little</td>\n",
       "      <td>19</td>\n",
       "      <td>San Jose-Sunnyvale-Santa Clara, CA MSA</td>\n",
       "      <td>2018-04-22</td>\n",
       "      <td>surf</td>\n",
       "    </tr>\n",
       "    <tr>\n",
       "      <td>10</td>\n",
       "      <td>1010</td>\n",
       "      <td>Wilber</td>\n",
       "      <td>Blair</td>\n",
       "      <td>52</td>\n",
       "      <td>Dallas-Fort Worth-Arlington, TX MSA</td>\n",
       "      <td>2018-03-09</td>\n",
       "      <td>surf</td>\n",
       "    </tr>\n",
       "    <tr>\n",
       "      <td>11</td>\n",
       "      <td>1011</td>\n",
       "      <td>Halina</td>\n",
       "      <td>Henry</td>\n",
       "      <td>73</td>\n",
       "      <td>Cleveland-Elyria, OH MSA</td>\n",
       "      <td>2018-01-18</td>\n",
       "      <td>ultimate</td>\n",
       "    </tr>\n",
       "    <tr>\n",
       "      <td>12</td>\n",
       "      <td>1012</td>\n",
       "      <td>Jonelle</td>\n",
       "      <td>Mcbride</td>\n",
       "      <td>59</td>\n",
       "      <td>Chicago-Naperville-Elgin, IL-IN-WI MSA</td>\n",
       "      <td>2018-06-28</td>\n",
       "      <td>surf</td>\n",
       "    </tr>\n",
       "    <tr>\n",
       "      <td>13</td>\n",
       "      <td>1013</td>\n",
       "      <td>Nicolas</td>\n",
       "      <td>Snider</td>\n",
       "      <td>50</td>\n",
       "      <td>Knoxville, TN MSA</td>\n",
       "      <td>2018-12-01</td>\n",
       "      <td>ultimate</td>\n",
       "    </tr>\n",
       "    <tr>\n",
       "      <td>14</td>\n",
       "      <td>1014</td>\n",
       "      <td>Edmundo</td>\n",
       "      <td>Simon</td>\n",
       "      <td>61</td>\n",
       "      <td>New York-Newark-Jersey City, NY-NJ-PA MSA</td>\n",
       "      <td>2018-11-25</td>\n",
       "      <td>surf</td>\n",
       "    </tr>\n",
       "    <tr>\n",
       "      <td>15</td>\n",
       "      <td>1015</td>\n",
       "      <td>Beata</td>\n",
       "      <td>Carpenter</td>\n",
       "      <td>26</td>\n",
       "      <td>Pittsburgh, PA MSA</td>\n",
       "      <td>2018-12-05</td>\n",
       "      <td>surf</td>\n",
       "    </tr>\n",
       "    <tr>\n",
       "      <td>16</td>\n",
       "      <td>1016</td>\n",
       "      <td>Jann</td>\n",
       "      <td>Salinas</td>\n",
       "      <td>30</td>\n",
       "      <td>Fresno, CA MSA</td>\n",
       "      <td>2018-10-25</td>\n",
       "      <td>surf</td>\n",
       "    </tr>\n",
       "    <tr>\n",
       "      <td>17</td>\n",
       "      <td>1017</td>\n",
       "      <td>Boris</td>\n",
       "      <td>Gates</td>\n",
       "      <td>61</td>\n",
       "      <td>Washington-Arlington-Alexandria, DC-VA-MD-WV MSA</td>\n",
       "      <td>2018-08-26</td>\n",
       "      <td>surf</td>\n",
       "    </tr>\n",
       "    <tr>\n",
       "      <td>18</td>\n",
       "      <td>1018</td>\n",
       "      <td>Dennis</td>\n",
       "      <td>Grimes</td>\n",
       "      <td>70</td>\n",
       "      <td>Indianapolis-Carmel-Anderson, IN MSA</td>\n",
       "      <td>2018-10-17</td>\n",
       "      <td>surf</td>\n",
       "    </tr>\n",
       "    <tr>\n",
       "      <td>19</td>\n",
       "      <td>1019</td>\n",
       "      <td>Shizue</td>\n",
       "      <td>Landry</td>\n",
       "      <td>34</td>\n",
       "      <td>Jacksonville, FL MSA</td>\n",
       "      <td>2018-01-16</td>\n",
       "      <td>surf</td>\n",
       "    </tr>\n",
       "    <tr>\n",
       "      <td>20</td>\n",
       "      <td>1020</td>\n",
       "      <td>Rutha</td>\n",
       "      <td>Bell</td>\n",
       "      <td>56</td>\n",
       "      <td>Dallas-Fort Worth-Arlington, TX MSA</td>\n",
       "      <td>2018-11-08</td>\n",
       "      <td>surf</td>\n",
       "    </tr>\n",
       "    <tr>\n",
       "      <td>21</td>\n",
       "      <td>1021</td>\n",
       "      <td>Ricarda</td>\n",
       "      <td>Booker</td>\n",
       "      <td>37</td>\n",
       "      <td>Los Angeles-Long Beach-Anaheim, CA MSA</td>\n",
       "      <td>2018-12-21</td>\n",
       "      <td>surf</td>\n",
       "    </tr>\n",
       "    <tr>\n",
       "      <td>22</td>\n",
       "      <td>1022</td>\n",
       "      <td>Bo</td>\n",
       "      <td>Snow</td>\n",
       "      <td>73</td>\n",
       "      <td>New York-Newark-Jersey City, NY-NJ-PA MSA</td>\n",
       "      <td>2018-04-20</td>\n",
       "      <td>surf</td>\n",
       "    </tr>\n",
       "    <tr>\n",
       "      <td>23</td>\n",
       "      <td>1023</td>\n",
       "      <td>Jack</td>\n",
       "      <td>Delaney</td>\n",
       "      <td>70</td>\n",
       "      <td>Omaha-Council Bluffs, NE-IA MSA</td>\n",
       "      <td>2018-07-06</td>\n",
       "      <td>surf</td>\n",
       "    </tr>\n",
       "    <tr>\n",
       "      <td>24</td>\n",
       "      <td>1024</td>\n",
       "      <td>Yuki</td>\n",
       "      <td>Tyson</td>\n",
       "      <td>74</td>\n",
       "      <td>New York-Newark-Jersey City, NY-NJ-PA MSA</td>\n",
       "      <td>2018-08-21</td>\n",
       "      <td>surf</td>\n",
       "    </tr>\n",
       "    <tr>\n",
       "      <td>25</td>\n",
       "      <td>1025</td>\n",
       "      <td>Jess</td>\n",
       "      <td>Wilkinson</td>\n",
       "      <td>64</td>\n",
       "      <td>Atlanta-Sandy Springs-Roswell, GA MSA</td>\n",
       "      <td>2018-10-28</td>\n",
       "      <td>ultimate</td>\n",
       "    </tr>\n",
       "    <tr>\n",
       "      <td>26</td>\n",
       "      <td>1026</td>\n",
       "      <td>Meggan</td>\n",
       "      <td>Hamilton</td>\n",
       "      <td>49</td>\n",
       "      <td>Houston-The Woodlands-Sugar Land, TX MSA</td>\n",
       "      <td>2018-07-20</td>\n",
       "      <td>ultimate</td>\n",
       "    </tr>\n",
       "    <tr>\n",
       "      <td>27</td>\n",
       "      <td>1027</td>\n",
       "      <td>Georgeanna</td>\n",
       "      <td>Cardenas</td>\n",
       "      <td>38</td>\n",
       "      <td>New York-Newark-Jersey City, NY-NJ-PA MSA</td>\n",
       "      <td>2018-06-26</td>\n",
       "      <td>surf</td>\n",
       "    </tr>\n",
       "    <tr>\n",
       "      <td>28</td>\n",
       "      <td>1028</td>\n",
       "      <td>Jefferey</td>\n",
       "      <td>Rasmussen</td>\n",
       "      <td>57</td>\n",
       "      <td>Philadelphia-Camden-Wilmington, PA-NJ-DE-MD MSA</td>\n",
       "      <td>2018-02-21</td>\n",
       "      <td>ultimate</td>\n",
       "    </tr>\n",
       "    <tr>\n",
       "      <td>29</td>\n",
       "      <td>1029</td>\n",
       "      <td>Franklyn</td>\n",
       "      <td>Henson</td>\n",
       "      <td>59</td>\n",
       "      <td>Tampa-St. Petersburg-Clearwater, FL MSA</td>\n",
       "      <td>2018-01-05</td>\n",
       "      <td>surf</td>\n",
       "    </tr>\n",
       "  </tbody>\n",
       "</table>\n",
       "</div>"
      ],
      "text/plain": [
       "    user_id  first_name  last_name  age  \\\n",
       "0      1000    Anamaria      Bauer   45   \n",
       "1      1001      Mickey  Wilkerson   28   \n",
       "2      1002      Carlee    Hoffman   36   \n",
       "3      1003    Reynaldo    Jenkins   52   \n",
       "4      1004     Leonila   Thompson   40   \n",
       "5      1005       Livia    Shields   31   \n",
       "6      1006      Jesusa   Bradford   73   \n",
       "7      1007     Eusebio      Welch   42   \n",
       "8      1008       Emely    Hoffman   53   \n",
       "9      1009       Gerry     Little   19   \n",
       "10     1010      Wilber      Blair   52   \n",
       "11     1011      Halina      Henry   73   \n",
       "12     1012     Jonelle    Mcbride   59   \n",
       "13     1013     Nicolas     Snider   50   \n",
       "14     1014     Edmundo      Simon   61   \n",
       "15     1015       Beata  Carpenter   26   \n",
       "16     1016        Jann    Salinas   30   \n",
       "17     1017       Boris      Gates   61   \n",
       "18     1018      Dennis     Grimes   70   \n",
       "19     1019      Shizue     Landry   34   \n",
       "20     1020       Rutha       Bell   56   \n",
       "21     1021     Ricarda     Booker   37   \n",
       "22     1022          Bo       Snow   73   \n",
       "23     1023        Jack    Delaney   70   \n",
       "24     1024        Yuki      Tyson   74   \n",
       "25     1025        Jess  Wilkinson   64   \n",
       "26     1026      Meggan   Hamilton   49   \n",
       "27     1027  Georgeanna   Cardenas   38   \n",
       "28     1028    Jefferey  Rasmussen   57   \n",
       "29     1029    Franklyn     Henson   59   \n",
       "\n",
       "                                                city    reg_date      plan  \n",
       "0              Atlanta-Sandy Springs-Roswell, GA MSA  2018-12-24  ultimate  \n",
       "1                    Seattle-Tacoma-Bellevue, WA MSA  2018-08-13      surf  \n",
       "2               Las Vegas-Henderson-Paradise, NV MSA  2018-10-21      surf  \n",
       "3                                      Tulsa, OK MSA  2018-01-28      surf  \n",
       "4                    Seattle-Tacoma-Bellevue, WA MSA  2018-05-23      surf  \n",
       "5                Dallas-Fort Worth-Arlington, TX MSA  2018-11-29      surf  \n",
       "6             San Francisco-Oakland-Berkeley, CA MSA  2018-11-27  ultimate  \n",
       "7                      Grand Rapids-Kentwood, MI MSA  2018-07-11      surf  \n",
       "8                  Orlando-Kissimmee-Sanford, FL MSA  2018-08-03  ultimate  \n",
       "9             San Jose-Sunnyvale-Santa Clara, CA MSA  2018-04-22      surf  \n",
       "10               Dallas-Fort Worth-Arlington, TX MSA  2018-03-09      surf  \n",
       "11                          Cleveland-Elyria, OH MSA  2018-01-18  ultimate  \n",
       "12            Chicago-Naperville-Elgin, IL-IN-WI MSA  2018-06-28      surf  \n",
       "13                                 Knoxville, TN MSA  2018-12-01  ultimate  \n",
       "14         New York-Newark-Jersey City, NY-NJ-PA MSA  2018-11-25      surf  \n",
       "15                                Pittsburgh, PA MSA  2018-12-05      surf  \n",
       "16                                    Fresno, CA MSA  2018-10-25      surf  \n",
       "17  Washington-Arlington-Alexandria, DC-VA-MD-WV MSA  2018-08-26      surf  \n",
       "18              Indianapolis-Carmel-Anderson, IN MSA  2018-10-17      surf  \n",
       "19                              Jacksonville, FL MSA  2018-01-16      surf  \n",
       "20               Dallas-Fort Worth-Arlington, TX MSA  2018-11-08      surf  \n",
       "21            Los Angeles-Long Beach-Anaheim, CA MSA  2018-12-21      surf  \n",
       "22         New York-Newark-Jersey City, NY-NJ-PA MSA  2018-04-20      surf  \n",
       "23                   Omaha-Council Bluffs, NE-IA MSA  2018-07-06      surf  \n",
       "24         New York-Newark-Jersey City, NY-NJ-PA MSA  2018-08-21      surf  \n",
       "25             Atlanta-Sandy Springs-Roswell, GA MSA  2018-10-28  ultimate  \n",
       "26          Houston-The Woodlands-Sugar Land, TX MSA  2018-07-20  ultimate  \n",
       "27         New York-Newark-Jersey City, NY-NJ-PA MSA  2018-06-26      surf  \n",
       "28   Philadelphia-Camden-Wilmington, PA-NJ-DE-MD MSA  2018-02-21  ultimate  \n",
       "29           Tampa-St. Petersburg-Clearwater, FL MSA  2018-01-05      surf  "
      ]
     },
     "execution_count": 10,
     "metadata": {},
     "output_type": "execute_result"
    }
   ],
   "source": [
    "user.head(30)"
   ]
  },
  {
   "cell_type": "markdown",
   "metadata": {},
   "source": [
    "2. remove \"MSA\" from the \"city\" column"
   ]
  },
  {
   "cell_type": "code",
   "execution_count": 11,
   "metadata": {},
   "outputs": [],
   "source": [
    "user['city']=user[\"city\"].str[:-4]"
   ]
  },
  {
   "cell_type": "code",
   "execution_count": 12,
   "metadata": {},
   "outputs": [
    {
     "data": {
      "text/html": [
       "<div>\n",
       "<style scoped>\n",
       "    .dataframe tbody tr th:only-of-type {\n",
       "        vertical-align: middle;\n",
       "    }\n",
       "\n",
       "    .dataframe tbody tr th {\n",
       "        vertical-align: top;\n",
       "    }\n",
       "\n",
       "    .dataframe thead th {\n",
       "        text-align: right;\n",
       "    }\n",
       "</style>\n",
       "<table border=\"1\" class=\"dataframe\">\n",
       "  <thead>\n",
       "    <tr style=\"text-align: right;\">\n",
       "      <th></th>\n",
       "      <th>user_id</th>\n",
       "      <th>first_name</th>\n",
       "      <th>last_name</th>\n",
       "      <th>age</th>\n",
       "      <th>city</th>\n",
       "      <th>reg_date</th>\n",
       "      <th>plan</th>\n",
       "    </tr>\n",
       "  </thead>\n",
       "  <tbody>\n",
       "    <tr>\n",
       "      <td>0</td>\n",
       "      <td>1000</td>\n",
       "      <td>Anamaria</td>\n",
       "      <td>Bauer</td>\n",
       "      <td>45</td>\n",
       "      <td>Atlanta-Sandy Springs-Roswell, GA</td>\n",
       "      <td>2018-12-24</td>\n",
       "      <td>ultimate</td>\n",
       "    </tr>\n",
       "    <tr>\n",
       "      <td>1</td>\n",
       "      <td>1001</td>\n",
       "      <td>Mickey</td>\n",
       "      <td>Wilkerson</td>\n",
       "      <td>28</td>\n",
       "      <td>Seattle-Tacoma-Bellevue, WA</td>\n",
       "      <td>2018-08-13</td>\n",
       "      <td>surf</td>\n",
       "    </tr>\n",
       "    <tr>\n",
       "      <td>2</td>\n",
       "      <td>1002</td>\n",
       "      <td>Carlee</td>\n",
       "      <td>Hoffman</td>\n",
       "      <td>36</td>\n",
       "      <td>Las Vegas-Henderson-Paradise, NV</td>\n",
       "      <td>2018-10-21</td>\n",
       "      <td>surf</td>\n",
       "    </tr>\n",
       "    <tr>\n",
       "      <td>3</td>\n",
       "      <td>1003</td>\n",
       "      <td>Reynaldo</td>\n",
       "      <td>Jenkins</td>\n",
       "      <td>52</td>\n",
       "      <td>Tulsa, OK</td>\n",
       "      <td>2018-01-28</td>\n",
       "      <td>surf</td>\n",
       "    </tr>\n",
       "    <tr>\n",
       "      <td>4</td>\n",
       "      <td>1004</td>\n",
       "      <td>Leonila</td>\n",
       "      <td>Thompson</td>\n",
       "      <td>40</td>\n",
       "      <td>Seattle-Tacoma-Bellevue, WA</td>\n",
       "      <td>2018-05-23</td>\n",
       "      <td>surf</td>\n",
       "    </tr>\n",
       "    <tr>\n",
       "      <td>5</td>\n",
       "      <td>1005</td>\n",
       "      <td>Livia</td>\n",
       "      <td>Shields</td>\n",
       "      <td>31</td>\n",
       "      <td>Dallas-Fort Worth-Arlington, TX</td>\n",
       "      <td>2018-11-29</td>\n",
       "      <td>surf</td>\n",
       "    </tr>\n",
       "    <tr>\n",
       "      <td>6</td>\n",
       "      <td>1006</td>\n",
       "      <td>Jesusa</td>\n",
       "      <td>Bradford</td>\n",
       "      <td>73</td>\n",
       "      <td>San Francisco-Oakland-Berkeley, CA</td>\n",
       "      <td>2018-11-27</td>\n",
       "      <td>ultimate</td>\n",
       "    </tr>\n",
       "    <tr>\n",
       "      <td>7</td>\n",
       "      <td>1007</td>\n",
       "      <td>Eusebio</td>\n",
       "      <td>Welch</td>\n",
       "      <td>42</td>\n",
       "      <td>Grand Rapids-Kentwood, MI</td>\n",
       "      <td>2018-07-11</td>\n",
       "      <td>surf</td>\n",
       "    </tr>\n",
       "    <tr>\n",
       "      <td>8</td>\n",
       "      <td>1008</td>\n",
       "      <td>Emely</td>\n",
       "      <td>Hoffman</td>\n",
       "      <td>53</td>\n",
       "      <td>Orlando-Kissimmee-Sanford, FL</td>\n",
       "      <td>2018-08-03</td>\n",
       "      <td>ultimate</td>\n",
       "    </tr>\n",
       "    <tr>\n",
       "      <td>9</td>\n",
       "      <td>1009</td>\n",
       "      <td>Gerry</td>\n",
       "      <td>Little</td>\n",
       "      <td>19</td>\n",
       "      <td>San Jose-Sunnyvale-Santa Clara, CA</td>\n",
       "      <td>2018-04-22</td>\n",
       "      <td>surf</td>\n",
       "    </tr>\n",
       "    <tr>\n",
       "      <td>10</td>\n",
       "      <td>1010</td>\n",
       "      <td>Wilber</td>\n",
       "      <td>Blair</td>\n",
       "      <td>52</td>\n",
       "      <td>Dallas-Fort Worth-Arlington, TX</td>\n",
       "      <td>2018-03-09</td>\n",
       "      <td>surf</td>\n",
       "    </tr>\n",
       "    <tr>\n",
       "      <td>11</td>\n",
       "      <td>1011</td>\n",
       "      <td>Halina</td>\n",
       "      <td>Henry</td>\n",
       "      <td>73</td>\n",
       "      <td>Cleveland-Elyria, OH</td>\n",
       "      <td>2018-01-18</td>\n",
       "      <td>ultimate</td>\n",
       "    </tr>\n",
       "    <tr>\n",
       "      <td>12</td>\n",
       "      <td>1012</td>\n",
       "      <td>Jonelle</td>\n",
       "      <td>Mcbride</td>\n",
       "      <td>59</td>\n",
       "      <td>Chicago-Naperville-Elgin, IL-IN-WI</td>\n",
       "      <td>2018-06-28</td>\n",
       "      <td>surf</td>\n",
       "    </tr>\n",
       "    <tr>\n",
       "      <td>13</td>\n",
       "      <td>1013</td>\n",
       "      <td>Nicolas</td>\n",
       "      <td>Snider</td>\n",
       "      <td>50</td>\n",
       "      <td>Knoxville, TN</td>\n",
       "      <td>2018-12-01</td>\n",
       "      <td>ultimate</td>\n",
       "    </tr>\n",
       "    <tr>\n",
       "      <td>14</td>\n",
       "      <td>1014</td>\n",
       "      <td>Edmundo</td>\n",
       "      <td>Simon</td>\n",
       "      <td>61</td>\n",
       "      <td>New York-Newark-Jersey City, NY-NJ-PA</td>\n",
       "      <td>2018-11-25</td>\n",
       "      <td>surf</td>\n",
       "    </tr>\n",
       "    <tr>\n",
       "      <td>15</td>\n",
       "      <td>1015</td>\n",
       "      <td>Beata</td>\n",
       "      <td>Carpenter</td>\n",
       "      <td>26</td>\n",
       "      <td>Pittsburgh, PA</td>\n",
       "      <td>2018-12-05</td>\n",
       "      <td>surf</td>\n",
       "    </tr>\n",
       "    <tr>\n",
       "      <td>16</td>\n",
       "      <td>1016</td>\n",
       "      <td>Jann</td>\n",
       "      <td>Salinas</td>\n",
       "      <td>30</td>\n",
       "      <td>Fresno, CA</td>\n",
       "      <td>2018-10-25</td>\n",
       "      <td>surf</td>\n",
       "    </tr>\n",
       "    <tr>\n",
       "      <td>17</td>\n",
       "      <td>1017</td>\n",
       "      <td>Boris</td>\n",
       "      <td>Gates</td>\n",
       "      <td>61</td>\n",
       "      <td>Washington-Arlington-Alexandria, DC-VA-MD-WV</td>\n",
       "      <td>2018-08-26</td>\n",
       "      <td>surf</td>\n",
       "    </tr>\n",
       "    <tr>\n",
       "      <td>18</td>\n",
       "      <td>1018</td>\n",
       "      <td>Dennis</td>\n",
       "      <td>Grimes</td>\n",
       "      <td>70</td>\n",
       "      <td>Indianapolis-Carmel-Anderson, IN</td>\n",
       "      <td>2018-10-17</td>\n",
       "      <td>surf</td>\n",
       "    </tr>\n",
       "    <tr>\n",
       "      <td>19</td>\n",
       "      <td>1019</td>\n",
       "      <td>Shizue</td>\n",
       "      <td>Landry</td>\n",
       "      <td>34</td>\n",
       "      <td>Jacksonville, FL</td>\n",
       "      <td>2018-01-16</td>\n",
       "      <td>surf</td>\n",
       "    </tr>\n",
       "    <tr>\n",
       "      <td>20</td>\n",
       "      <td>1020</td>\n",
       "      <td>Rutha</td>\n",
       "      <td>Bell</td>\n",
       "      <td>56</td>\n",
       "      <td>Dallas-Fort Worth-Arlington, TX</td>\n",
       "      <td>2018-11-08</td>\n",
       "      <td>surf</td>\n",
       "    </tr>\n",
       "    <tr>\n",
       "      <td>21</td>\n",
       "      <td>1021</td>\n",
       "      <td>Ricarda</td>\n",
       "      <td>Booker</td>\n",
       "      <td>37</td>\n",
       "      <td>Los Angeles-Long Beach-Anaheim, CA</td>\n",
       "      <td>2018-12-21</td>\n",
       "      <td>surf</td>\n",
       "    </tr>\n",
       "    <tr>\n",
       "      <td>22</td>\n",
       "      <td>1022</td>\n",
       "      <td>Bo</td>\n",
       "      <td>Snow</td>\n",
       "      <td>73</td>\n",
       "      <td>New York-Newark-Jersey City, NY-NJ-PA</td>\n",
       "      <td>2018-04-20</td>\n",
       "      <td>surf</td>\n",
       "    </tr>\n",
       "    <tr>\n",
       "      <td>23</td>\n",
       "      <td>1023</td>\n",
       "      <td>Jack</td>\n",
       "      <td>Delaney</td>\n",
       "      <td>70</td>\n",
       "      <td>Omaha-Council Bluffs, NE-IA</td>\n",
       "      <td>2018-07-06</td>\n",
       "      <td>surf</td>\n",
       "    </tr>\n",
       "    <tr>\n",
       "      <td>24</td>\n",
       "      <td>1024</td>\n",
       "      <td>Yuki</td>\n",
       "      <td>Tyson</td>\n",
       "      <td>74</td>\n",
       "      <td>New York-Newark-Jersey City, NY-NJ-PA</td>\n",
       "      <td>2018-08-21</td>\n",
       "      <td>surf</td>\n",
       "    </tr>\n",
       "    <tr>\n",
       "      <td>25</td>\n",
       "      <td>1025</td>\n",
       "      <td>Jess</td>\n",
       "      <td>Wilkinson</td>\n",
       "      <td>64</td>\n",
       "      <td>Atlanta-Sandy Springs-Roswell, GA</td>\n",
       "      <td>2018-10-28</td>\n",
       "      <td>ultimate</td>\n",
       "    </tr>\n",
       "    <tr>\n",
       "      <td>26</td>\n",
       "      <td>1026</td>\n",
       "      <td>Meggan</td>\n",
       "      <td>Hamilton</td>\n",
       "      <td>49</td>\n",
       "      <td>Houston-The Woodlands-Sugar Land, TX</td>\n",
       "      <td>2018-07-20</td>\n",
       "      <td>ultimate</td>\n",
       "    </tr>\n",
       "    <tr>\n",
       "      <td>27</td>\n",
       "      <td>1027</td>\n",
       "      <td>Georgeanna</td>\n",
       "      <td>Cardenas</td>\n",
       "      <td>38</td>\n",
       "      <td>New York-Newark-Jersey City, NY-NJ-PA</td>\n",
       "      <td>2018-06-26</td>\n",
       "      <td>surf</td>\n",
       "    </tr>\n",
       "    <tr>\n",
       "      <td>28</td>\n",
       "      <td>1028</td>\n",
       "      <td>Jefferey</td>\n",
       "      <td>Rasmussen</td>\n",
       "      <td>57</td>\n",
       "      <td>Philadelphia-Camden-Wilmington, PA-NJ-DE-MD</td>\n",
       "      <td>2018-02-21</td>\n",
       "      <td>ultimate</td>\n",
       "    </tr>\n",
       "    <tr>\n",
       "      <td>29</td>\n",
       "      <td>1029</td>\n",
       "      <td>Franklyn</td>\n",
       "      <td>Henson</td>\n",
       "      <td>59</td>\n",
       "      <td>Tampa-St. Petersburg-Clearwater, FL</td>\n",
       "      <td>2018-01-05</td>\n",
       "      <td>surf</td>\n",
       "    </tr>\n",
       "  </tbody>\n",
       "</table>\n",
       "</div>"
      ],
      "text/plain": [
       "    user_id  first_name  last_name  age  \\\n",
       "0      1000    Anamaria      Bauer   45   \n",
       "1      1001      Mickey  Wilkerson   28   \n",
       "2      1002      Carlee    Hoffman   36   \n",
       "3      1003    Reynaldo    Jenkins   52   \n",
       "4      1004     Leonila   Thompson   40   \n",
       "5      1005       Livia    Shields   31   \n",
       "6      1006      Jesusa   Bradford   73   \n",
       "7      1007     Eusebio      Welch   42   \n",
       "8      1008       Emely    Hoffman   53   \n",
       "9      1009       Gerry     Little   19   \n",
       "10     1010      Wilber      Blair   52   \n",
       "11     1011      Halina      Henry   73   \n",
       "12     1012     Jonelle    Mcbride   59   \n",
       "13     1013     Nicolas     Snider   50   \n",
       "14     1014     Edmundo      Simon   61   \n",
       "15     1015       Beata  Carpenter   26   \n",
       "16     1016        Jann    Salinas   30   \n",
       "17     1017       Boris      Gates   61   \n",
       "18     1018      Dennis     Grimes   70   \n",
       "19     1019      Shizue     Landry   34   \n",
       "20     1020       Rutha       Bell   56   \n",
       "21     1021     Ricarda     Booker   37   \n",
       "22     1022          Bo       Snow   73   \n",
       "23     1023        Jack    Delaney   70   \n",
       "24     1024        Yuki      Tyson   74   \n",
       "25     1025        Jess  Wilkinson   64   \n",
       "26     1026      Meggan   Hamilton   49   \n",
       "27     1027  Georgeanna   Cardenas   38   \n",
       "28     1028    Jefferey  Rasmussen   57   \n",
       "29     1029    Franklyn     Henson   59   \n",
       "\n",
       "                                            city    reg_date      plan  \n",
       "0              Atlanta-Sandy Springs-Roswell, GA  2018-12-24  ultimate  \n",
       "1                    Seattle-Tacoma-Bellevue, WA  2018-08-13      surf  \n",
       "2               Las Vegas-Henderson-Paradise, NV  2018-10-21      surf  \n",
       "3                                      Tulsa, OK  2018-01-28      surf  \n",
       "4                    Seattle-Tacoma-Bellevue, WA  2018-05-23      surf  \n",
       "5                Dallas-Fort Worth-Arlington, TX  2018-11-29      surf  \n",
       "6             San Francisco-Oakland-Berkeley, CA  2018-11-27  ultimate  \n",
       "7                      Grand Rapids-Kentwood, MI  2018-07-11      surf  \n",
       "8                  Orlando-Kissimmee-Sanford, FL  2018-08-03  ultimate  \n",
       "9             San Jose-Sunnyvale-Santa Clara, CA  2018-04-22      surf  \n",
       "10               Dallas-Fort Worth-Arlington, TX  2018-03-09      surf  \n",
       "11                          Cleveland-Elyria, OH  2018-01-18  ultimate  \n",
       "12            Chicago-Naperville-Elgin, IL-IN-WI  2018-06-28      surf  \n",
       "13                                 Knoxville, TN  2018-12-01  ultimate  \n",
       "14         New York-Newark-Jersey City, NY-NJ-PA  2018-11-25      surf  \n",
       "15                                Pittsburgh, PA  2018-12-05      surf  \n",
       "16                                    Fresno, CA  2018-10-25      surf  \n",
       "17  Washington-Arlington-Alexandria, DC-VA-MD-WV  2018-08-26      surf  \n",
       "18              Indianapolis-Carmel-Anderson, IN  2018-10-17      surf  \n",
       "19                              Jacksonville, FL  2018-01-16      surf  \n",
       "20               Dallas-Fort Worth-Arlington, TX  2018-11-08      surf  \n",
       "21            Los Angeles-Long Beach-Anaheim, CA  2018-12-21      surf  \n",
       "22         New York-Newark-Jersey City, NY-NJ-PA  2018-04-20      surf  \n",
       "23                   Omaha-Council Bluffs, NE-IA  2018-07-06      surf  \n",
       "24         New York-Newark-Jersey City, NY-NJ-PA  2018-08-21      surf  \n",
       "25             Atlanta-Sandy Springs-Roswell, GA  2018-10-28  ultimate  \n",
       "26          Houston-The Woodlands-Sugar Land, TX  2018-07-20  ultimate  \n",
       "27         New York-Newark-Jersey City, NY-NJ-PA  2018-06-26      surf  \n",
       "28   Philadelphia-Camden-Wilmington, PA-NJ-DE-MD  2018-02-21  ultimate  \n",
       "29           Tampa-St. Petersburg-Clearwater, FL  2018-01-05      surf  "
      ]
     },
     "execution_count": 12,
     "metadata": {},
     "output_type": "execute_result"
    }
   ],
   "source": [
    "user.head(30)"
   ]
  },
  {
   "cell_type": "markdown",
   "metadata": {},
   "source": [
    "### Enrich Data"
   ]
  },
  {
   "cell_type": "markdown",
   "metadata": {},
   "source": [
    "It might make our analysis more powerful if we seperate out the *state* information from the current city column. I will create a new state column and deliminate the data as such."
   ]
  },
  {
   "cell_type": "code",
   "execution_count": 13,
   "metadata": {},
   "outputs": [],
   "source": [
    "user[['city', 'state']] = user['city'].str.split(',', expand=True)"
   ]
  },
  {
   "cell_type": "code",
   "execution_count": 14,
   "metadata": {},
   "outputs": [
    {
     "data": {
      "text/html": [
       "<div>\n",
       "<style scoped>\n",
       "    .dataframe tbody tr th:only-of-type {\n",
       "        vertical-align: middle;\n",
       "    }\n",
       "\n",
       "    .dataframe tbody tr th {\n",
       "        vertical-align: top;\n",
       "    }\n",
       "\n",
       "    .dataframe thead th {\n",
       "        text-align: right;\n",
       "    }\n",
       "</style>\n",
       "<table border=\"1\" class=\"dataframe\">\n",
       "  <thead>\n",
       "    <tr style=\"text-align: right;\">\n",
       "      <th></th>\n",
       "      <th>user_id</th>\n",
       "      <th>first_name</th>\n",
       "      <th>last_name</th>\n",
       "      <th>age</th>\n",
       "      <th>city</th>\n",
       "      <th>reg_date</th>\n",
       "      <th>plan</th>\n",
       "      <th>state</th>\n",
       "    </tr>\n",
       "  </thead>\n",
       "  <tbody>\n",
       "    <tr>\n",
       "      <td>0</td>\n",
       "      <td>1000</td>\n",
       "      <td>Anamaria</td>\n",
       "      <td>Bauer</td>\n",
       "      <td>45</td>\n",
       "      <td>Atlanta-Sandy Springs-Roswell</td>\n",
       "      <td>2018-12-24</td>\n",
       "      <td>ultimate</td>\n",
       "      <td>GA</td>\n",
       "    </tr>\n",
       "    <tr>\n",
       "      <td>1</td>\n",
       "      <td>1001</td>\n",
       "      <td>Mickey</td>\n",
       "      <td>Wilkerson</td>\n",
       "      <td>28</td>\n",
       "      <td>Seattle-Tacoma-Bellevue</td>\n",
       "      <td>2018-08-13</td>\n",
       "      <td>surf</td>\n",
       "      <td>WA</td>\n",
       "    </tr>\n",
       "    <tr>\n",
       "      <td>2</td>\n",
       "      <td>1002</td>\n",
       "      <td>Carlee</td>\n",
       "      <td>Hoffman</td>\n",
       "      <td>36</td>\n",
       "      <td>Las Vegas-Henderson-Paradise</td>\n",
       "      <td>2018-10-21</td>\n",
       "      <td>surf</td>\n",
       "      <td>NV</td>\n",
       "    </tr>\n",
       "    <tr>\n",
       "      <td>3</td>\n",
       "      <td>1003</td>\n",
       "      <td>Reynaldo</td>\n",
       "      <td>Jenkins</td>\n",
       "      <td>52</td>\n",
       "      <td>Tulsa</td>\n",
       "      <td>2018-01-28</td>\n",
       "      <td>surf</td>\n",
       "      <td>OK</td>\n",
       "    </tr>\n",
       "    <tr>\n",
       "      <td>4</td>\n",
       "      <td>1004</td>\n",
       "      <td>Leonila</td>\n",
       "      <td>Thompson</td>\n",
       "      <td>40</td>\n",
       "      <td>Seattle-Tacoma-Bellevue</td>\n",
       "      <td>2018-05-23</td>\n",
       "      <td>surf</td>\n",
       "      <td>WA</td>\n",
       "    </tr>\n",
       "    <tr>\n",
       "      <td>5</td>\n",
       "      <td>1005</td>\n",
       "      <td>Livia</td>\n",
       "      <td>Shields</td>\n",
       "      <td>31</td>\n",
       "      <td>Dallas-Fort Worth-Arlington</td>\n",
       "      <td>2018-11-29</td>\n",
       "      <td>surf</td>\n",
       "      <td>TX</td>\n",
       "    </tr>\n",
       "    <tr>\n",
       "      <td>6</td>\n",
       "      <td>1006</td>\n",
       "      <td>Jesusa</td>\n",
       "      <td>Bradford</td>\n",
       "      <td>73</td>\n",
       "      <td>San Francisco-Oakland-Berkeley</td>\n",
       "      <td>2018-11-27</td>\n",
       "      <td>ultimate</td>\n",
       "      <td>CA</td>\n",
       "    </tr>\n",
       "    <tr>\n",
       "      <td>7</td>\n",
       "      <td>1007</td>\n",
       "      <td>Eusebio</td>\n",
       "      <td>Welch</td>\n",
       "      <td>42</td>\n",
       "      <td>Grand Rapids-Kentwood</td>\n",
       "      <td>2018-07-11</td>\n",
       "      <td>surf</td>\n",
       "      <td>MI</td>\n",
       "    </tr>\n",
       "    <tr>\n",
       "      <td>8</td>\n",
       "      <td>1008</td>\n",
       "      <td>Emely</td>\n",
       "      <td>Hoffman</td>\n",
       "      <td>53</td>\n",
       "      <td>Orlando-Kissimmee-Sanford</td>\n",
       "      <td>2018-08-03</td>\n",
       "      <td>ultimate</td>\n",
       "      <td>FL</td>\n",
       "    </tr>\n",
       "    <tr>\n",
       "      <td>9</td>\n",
       "      <td>1009</td>\n",
       "      <td>Gerry</td>\n",
       "      <td>Little</td>\n",
       "      <td>19</td>\n",
       "      <td>San Jose-Sunnyvale-Santa Clara</td>\n",
       "      <td>2018-04-22</td>\n",
       "      <td>surf</td>\n",
       "      <td>CA</td>\n",
       "    </tr>\n",
       "    <tr>\n",
       "      <td>10</td>\n",
       "      <td>1010</td>\n",
       "      <td>Wilber</td>\n",
       "      <td>Blair</td>\n",
       "      <td>52</td>\n",
       "      <td>Dallas-Fort Worth-Arlington</td>\n",
       "      <td>2018-03-09</td>\n",
       "      <td>surf</td>\n",
       "      <td>TX</td>\n",
       "    </tr>\n",
       "    <tr>\n",
       "      <td>11</td>\n",
       "      <td>1011</td>\n",
       "      <td>Halina</td>\n",
       "      <td>Henry</td>\n",
       "      <td>73</td>\n",
       "      <td>Cleveland-Elyria</td>\n",
       "      <td>2018-01-18</td>\n",
       "      <td>ultimate</td>\n",
       "      <td>OH</td>\n",
       "    </tr>\n",
       "    <tr>\n",
       "      <td>12</td>\n",
       "      <td>1012</td>\n",
       "      <td>Jonelle</td>\n",
       "      <td>Mcbride</td>\n",
       "      <td>59</td>\n",
       "      <td>Chicago-Naperville-Elgin</td>\n",
       "      <td>2018-06-28</td>\n",
       "      <td>surf</td>\n",
       "      <td>IL-IN-WI</td>\n",
       "    </tr>\n",
       "    <tr>\n",
       "      <td>13</td>\n",
       "      <td>1013</td>\n",
       "      <td>Nicolas</td>\n",
       "      <td>Snider</td>\n",
       "      <td>50</td>\n",
       "      <td>Knoxville</td>\n",
       "      <td>2018-12-01</td>\n",
       "      <td>ultimate</td>\n",
       "      <td>TN</td>\n",
       "    </tr>\n",
       "    <tr>\n",
       "      <td>14</td>\n",
       "      <td>1014</td>\n",
       "      <td>Edmundo</td>\n",
       "      <td>Simon</td>\n",
       "      <td>61</td>\n",
       "      <td>New York-Newark-Jersey City</td>\n",
       "      <td>2018-11-25</td>\n",
       "      <td>surf</td>\n",
       "      <td>NY-NJ-PA</td>\n",
       "    </tr>\n",
       "    <tr>\n",
       "      <td>15</td>\n",
       "      <td>1015</td>\n",
       "      <td>Beata</td>\n",
       "      <td>Carpenter</td>\n",
       "      <td>26</td>\n",
       "      <td>Pittsburgh</td>\n",
       "      <td>2018-12-05</td>\n",
       "      <td>surf</td>\n",
       "      <td>PA</td>\n",
       "    </tr>\n",
       "    <tr>\n",
       "      <td>16</td>\n",
       "      <td>1016</td>\n",
       "      <td>Jann</td>\n",
       "      <td>Salinas</td>\n",
       "      <td>30</td>\n",
       "      <td>Fresno</td>\n",
       "      <td>2018-10-25</td>\n",
       "      <td>surf</td>\n",
       "      <td>CA</td>\n",
       "    </tr>\n",
       "    <tr>\n",
       "      <td>17</td>\n",
       "      <td>1017</td>\n",
       "      <td>Boris</td>\n",
       "      <td>Gates</td>\n",
       "      <td>61</td>\n",
       "      <td>Washington-Arlington-Alexandria</td>\n",
       "      <td>2018-08-26</td>\n",
       "      <td>surf</td>\n",
       "      <td>DC-VA-MD-WV</td>\n",
       "    </tr>\n",
       "    <tr>\n",
       "      <td>18</td>\n",
       "      <td>1018</td>\n",
       "      <td>Dennis</td>\n",
       "      <td>Grimes</td>\n",
       "      <td>70</td>\n",
       "      <td>Indianapolis-Carmel-Anderson</td>\n",
       "      <td>2018-10-17</td>\n",
       "      <td>surf</td>\n",
       "      <td>IN</td>\n",
       "    </tr>\n",
       "    <tr>\n",
       "      <td>19</td>\n",
       "      <td>1019</td>\n",
       "      <td>Shizue</td>\n",
       "      <td>Landry</td>\n",
       "      <td>34</td>\n",
       "      <td>Jacksonville</td>\n",
       "      <td>2018-01-16</td>\n",
       "      <td>surf</td>\n",
       "      <td>FL</td>\n",
       "    </tr>\n",
       "    <tr>\n",
       "      <td>20</td>\n",
       "      <td>1020</td>\n",
       "      <td>Rutha</td>\n",
       "      <td>Bell</td>\n",
       "      <td>56</td>\n",
       "      <td>Dallas-Fort Worth-Arlington</td>\n",
       "      <td>2018-11-08</td>\n",
       "      <td>surf</td>\n",
       "      <td>TX</td>\n",
       "    </tr>\n",
       "    <tr>\n",
       "      <td>21</td>\n",
       "      <td>1021</td>\n",
       "      <td>Ricarda</td>\n",
       "      <td>Booker</td>\n",
       "      <td>37</td>\n",
       "      <td>Los Angeles-Long Beach-Anaheim</td>\n",
       "      <td>2018-12-21</td>\n",
       "      <td>surf</td>\n",
       "      <td>CA</td>\n",
       "    </tr>\n",
       "    <tr>\n",
       "      <td>22</td>\n",
       "      <td>1022</td>\n",
       "      <td>Bo</td>\n",
       "      <td>Snow</td>\n",
       "      <td>73</td>\n",
       "      <td>New York-Newark-Jersey City</td>\n",
       "      <td>2018-04-20</td>\n",
       "      <td>surf</td>\n",
       "      <td>NY-NJ-PA</td>\n",
       "    </tr>\n",
       "    <tr>\n",
       "      <td>23</td>\n",
       "      <td>1023</td>\n",
       "      <td>Jack</td>\n",
       "      <td>Delaney</td>\n",
       "      <td>70</td>\n",
       "      <td>Omaha-Council Bluffs</td>\n",
       "      <td>2018-07-06</td>\n",
       "      <td>surf</td>\n",
       "      <td>NE-IA</td>\n",
       "    </tr>\n",
       "    <tr>\n",
       "      <td>24</td>\n",
       "      <td>1024</td>\n",
       "      <td>Yuki</td>\n",
       "      <td>Tyson</td>\n",
       "      <td>74</td>\n",
       "      <td>New York-Newark-Jersey City</td>\n",
       "      <td>2018-08-21</td>\n",
       "      <td>surf</td>\n",
       "      <td>NY-NJ-PA</td>\n",
       "    </tr>\n",
       "    <tr>\n",
       "      <td>25</td>\n",
       "      <td>1025</td>\n",
       "      <td>Jess</td>\n",
       "      <td>Wilkinson</td>\n",
       "      <td>64</td>\n",
       "      <td>Atlanta-Sandy Springs-Roswell</td>\n",
       "      <td>2018-10-28</td>\n",
       "      <td>ultimate</td>\n",
       "      <td>GA</td>\n",
       "    </tr>\n",
       "    <tr>\n",
       "      <td>26</td>\n",
       "      <td>1026</td>\n",
       "      <td>Meggan</td>\n",
       "      <td>Hamilton</td>\n",
       "      <td>49</td>\n",
       "      <td>Houston-The Woodlands-Sugar Land</td>\n",
       "      <td>2018-07-20</td>\n",
       "      <td>ultimate</td>\n",
       "      <td>TX</td>\n",
       "    </tr>\n",
       "    <tr>\n",
       "      <td>27</td>\n",
       "      <td>1027</td>\n",
       "      <td>Georgeanna</td>\n",
       "      <td>Cardenas</td>\n",
       "      <td>38</td>\n",
       "      <td>New York-Newark-Jersey City</td>\n",
       "      <td>2018-06-26</td>\n",
       "      <td>surf</td>\n",
       "      <td>NY-NJ-PA</td>\n",
       "    </tr>\n",
       "    <tr>\n",
       "      <td>28</td>\n",
       "      <td>1028</td>\n",
       "      <td>Jefferey</td>\n",
       "      <td>Rasmussen</td>\n",
       "      <td>57</td>\n",
       "      <td>Philadelphia-Camden-Wilmington</td>\n",
       "      <td>2018-02-21</td>\n",
       "      <td>ultimate</td>\n",
       "      <td>PA-NJ-DE-MD</td>\n",
       "    </tr>\n",
       "    <tr>\n",
       "      <td>29</td>\n",
       "      <td>1029</td>\n",
       "      <td>Franklyn</td>\n",
       "      <td>Henson</td>\n",
       "      <td>59</td>\n",
       "      <td>Tampa-St. Petersburg-Clearwater</td>\n",
       "      <td>2018-01-05</td>\n",
       "      <td>surf</td>\n",
       "      <td>FL</td>\n",
       "    </tr>\n",
       "  </tbody>\n",
       "</table>\n",
       "</div>"
      ],
      "text/plain": [
       "    user_id  first_name  last_name  age                              city  \\\n",
       "0      1000    Anamaria      Bauer   45     Atlanta-Sandy Springs-Roswell   \n",
       "1      1001      Mickey  Wilkerson   28           Seattle-Tacoma-Bellevue   \n",
       "2      1002      Carlee    Hoffman   36      Las Vegas-Henderson-Paradise   \n",
       "3      1003    Reynaldo    Jenkins   52                             Tulsa   \n",
       "4      1004     Leonila   Thompson   40           Seattle-Tacoma-Bellevue   \n",
       "5      1005       Livia    Shields   31       Dallas-Fort Worth-Arlington   \n",
       "6      1006      Jesusa   Bradford   73    San Francisco-Oakland-Berkeley   \n",
       "7      1007     Eusebio      Welch   42             Grand Rapids-Kentwood   \n",
       "8      1008       Emely    Hoffman   53         Orlando-Kissimmee-Sanford   \n",
       "9      1009       Gerry     Little   19    San Jose-Sunnyvale-Santa Clara   \n",
       "10     1010      Wilber      Blair   52       Dallas-Fort Worth-Arlington   \n",
       "11     1011      Halina      Henry   73                  Cleveland-Elyria   \n",
       "12     1012     Jonelle    Mcbride   59          Chicago-Naperville-Elgin   \n",
       "13     1013     Nicolas     Snider   50                         Knoxville   \n",
       "14     1014     Edmundo      Simon   61       New York-Newark-Jersey City   \n",
       "15     1015       Beata  Carpenter   26                        Pittsburgh   \n",
       "16     1016        Jann    Salinas   30                            Fresno   \n",
       "17     1017       Boris      Gates   61   Washington-Arlington-Alexandria   \n",
       "18     1018      Dennis     Grimes   70      Indianapolis-Carmel-Anderson   \n",
       "19     1019      Shizue     Landry   34                      Jacksonville   \n",
       "20     1020       Rutha       Bell   56       Dallas-Fort Worth-Arlington   \n",
       "21     1021     Ricarda     Booker   37    Los Angeles-Long Beach-Anaheim   \n",
       "22     1022          Bo       Snow   73       New York-Newark-Jersey City   \n",
       "23     1023        Jack    Delaney   70              Omaha-Council Bluffs   \n",
       "24     1024        Yuki      Tyson   74       New York-Newark-Jersey City   \n",
       "25     1025        Jess  Wilkinson   64     Atlanta-Sandy Springs-Roswell   \n",
       "26     1026      Meggan   Hamilton   49  Houston-The Woodlands-Sugar Land   \n",
       "27     1027  Georgeanna   Cardenas   38       New York-Newark-Jersey City   \n",
       "28     1028    Jefferey  Rasmussen   57    Philadelphia-Camden-Wilmington   \n",
       "29     1029    Franklyn     Henson   59   Tampa-St. Petersburg-Clearwater   \n",
       "\n",
       "      reg_date      plan         state  \n",
       "0   2018-12-24  ultimate            GA  \n",
       "1   2018-08-13      surf            WA  \n",
       "2   2018-10-21      surf            NV  \n",
       "3   2018-01-28      surf            OK  \n",
       "4   2018-05-23      surf            WA  \n",
       "5   2018-11-29      surf            TX  \n",
       "6   2018-11-27  ultimate            CA  \n",
       "7   2018-07-11      surf            MI  \n",
       "8   2018-08-03  ultimate            FL  \n",
       "9   2018-04-22      surf            CA  \n",
       "10  2018-03-09      surf            TX  \n",
       "11  2018-01-18  ultimate            OH  \n",
       "12  2018-06-28      surf      IL-IN-WI  \n",
       "13  2018-12-01  ultimate            TN  \n",
       "14  2018-11-25      surf      NY-NJ-PA  \n",
       "15  2018-12-05      surf            PA  \n",
       "16  2018-10-25      surf            CA  \n",
       "17  2018-08-26      surf   DC-VA-MD-WV  \n",
       "18  2018-10-17      surf            IN  \n",
       "19  2018-01-16      surf            FL  \n",
       "20  2018-11-08      surf            TX  \n",
       "21  2018-12-21      surf            CA  \n",
       "22  2018-04-20      surf      NY-NJ-PA  \n",
       "23  2018-07-06      surf         NE-IA  \n",
       "24  2018-08-21      surf      NY-NJ-PA  \n",
       "25  2018-10-28  ultimate            GA  \n",
       "26  2018-07-20  ultimate            TX  \n",
       "27  2018-06-26      surf      NY-NJ-PA  \n",
       "28  2018-02-21  ultimate   PA-NJ-DE-MD  \n",
       "29  2018-01-05      surf            FL  "
      ]
     },
     "execution_count": 14,
     "metadata": {},
     "output_type": "execute_result"
    }
   ],
   "source": [
    "user.head(30)"
   ]
  },
  {
   "cell_type": "markdown",
   "metadata": {},
   "source": [
    "## Calls"
   ]
  },
  {
   "cell_type": "code",
   "execution_count": 15,
   "metadata": {},
   "outputs": [
    {
     "data": {
      "text/html": [
       "<div>\n",
       "<style scoped>\n",
       "    .dataframe tbody tr th:only-of-type {\n",
       "        vertical-align: middle;\n",
       "    }\n",
       "\n",
       "    .dataframe tbody tr th {\n",
       "        vertical-align: top;\n",
       "    }\n",
       "\n",
       "    .dataframe thead th {\n",
       "        text-align: right;\n",
       "    }\n",
       "</style>\n",
       "<table border=\"1\" class=\"dataframe\">\n",
       "  <thead>\n",
       "    <tr style=\"text-align: right;\">\n",
       "      <th></th>\n",
       "      <th>user_id</th>\n",
       "      <th>duration</th>\n",
       "    </tr>\n",
       "  </thead>\n",
       "  <tbody>\n",
       "    <tr>\n",
       "      <td>count</td>\n",
       "      <td>137735.000000</td>\n",
       "      <td>137735.000000</td>\n",
       "    </tr>\n",
       "    <tr>\n",
       "      <td>mean</td>\n",
       "      <td>1247.658046</td>\n",
       "      <td>6.745927</td>\n",
       "    </tr>\n",
       "    <tr>\n",
       "      <td>std</td>\n",
       "      <td>139.416268</td>\n",
       "      <td>5.839241</td>\n",
       "    </tr>\n",
       "    <tr>\n",
       "      <td>min</td>\n",
       "      <td>1000.000000</td>\n",
       "      <td>0.000000</td>\n",
       "    </tr>\n",
       "    <tr>\n",
       "      <td>25%</td>\n",
       "      <td>1128.000000</td>\n",
       "      <td>1.290000</td>\n",
       "    </tr>\n",
       "    <tr>\n",
       "      <td>50%</td>\n",
       "      <td>1247.000000</td>\n",
       "      <td>5.980000</td>\n",
       "    </tr>\n",
       "    <tr>\n",
       "      <td>75%</td>\n",
       "      <td>1365.000000</td>\n",
       "      <td>10.690000</td>\n",
       "    </tr>\n",
       "    <tr>\n",
       "      <td>max</td>\n",
       "      <td>1499.000000</td>\n",
       "      <td>37.600000</td>\n",
       "    </tr>\n",
       "  </tbody>\n",
       "</table>\n",
       "</div>"
      ],
      "text/plain": [
       "             user_id       duration\n",
       "count  137735.000000  137735.000000\n",
       "mean     1247.658046       6.745927\n",
       "std       139.416268       5.839241\n",
       "min      1000.000000       0.000000\n",
       "25%      1128.000000       1.290000\n",
       "50%      1247.000000       5.980000\n",
       "75%      1365.000000      10.690000\n",
       "max      1499.000000      37.600000"
      ]
     },
     "execution_count": 15,
     "metadata": {},
     "output_type": "execute_result"
    }
   ],
   "source": [
    "# Print the general/summary information about the calls' DataFrame\n",
    "\n",
    "call.describe()"
   ]
  },
  {
   "cell_type": "code",
   "execution_count": 16,
   "metadata": {},
   "outputs": [
    {
     "name": "stdout",
     "output_type": "stream",
     "text": [
      "<class 'pandas.core.frame.DataFrame'>\n",
      "RangeIndex: 137735 entries, 0 to 137734\n",
      "Data columns (total 4 columns):\n",
      "id           137735 non-null object\n",
      "user_id      137735 non-null int64\n",
      "call_date    137735 non-null object\n",
      "duration     137735 non-null float64\n",
      "dtypes: float64(1), int64(1), object(2)\n",
      "memory usage: 4.2+ MB\n"
     ]
    }
   ],
   "source": [
    "call.info()"
   ]
  },
  {
   "cell_type": "code",
   "execution_count": 17,
   "metadata": {},
   "outputs": [
    {
     "data": {
      "text/html": [
       "<div>\n",
       "<style scoped>\n",
       "    .dataframe tbody tr th:only-of-type {\n",
       "        vertical-align: middle;\n",
       "    }\n",
       "\n",
       "    .dataframe tbody tr th {\n",
       "        vertical-align: top;\n",
       "    }\n",
       "\n",
       "    .dataframe thead th {\n",
       "        text-align: right;\n",
       "    }\n",
       "</style>\n",
       "<table border=\"1\" class=\"dataframe\">\n",
       "  <thead>\n",
       "    <tr style=\"text-align: right;\">\n",
       "      <th></th>\n",
       "      <th>id</th>\n",
       "      <th>user_id</th>\n",
       "      <th>call_date</th>\n",
       "      <th>duration</th>\n",
       "    </tr>\n",
       "  </thead>\n",
       "  <tbody>\n",
       "    <tr>\n",
       "      <td>0</td>\n",
       "      <td>1000_93</td>\n",
       "      <td>1000</td>\n",
       "      <td>2018-12-27</td>\n",
       "      <td>8.52</td>\n",
       "    </tr>\n",
       "    <tr>\n",
       "      <td>1</td>\n",
       "      <td>1000_145</td>\n",
       "      <td>1000</td>\n",
       "      <td>2018-12-27</td>\n",
       "      <td>13.66</td>\n",
       "    </tr>\n",
       "    <tr>\n",
       "      <td>2</td>\n",
       "      <td>1000_247</td>\n",
       "      <td>1000</td>\n",
       "      <td>2018-12-27</td>\n",
       "      <td>14.48</td>\n",
       "    </tr>\n",
       "    <tr>\n",
       "      <td>3</td>\n",
       "      <td>1000_309</td>\n",
       "      <td>1000</td>\n",
       "      <td>2018-12-28</td>\n",
       "      <td>5.76</td>\n",
       "    </tr>\n",
       "    <tr>\n",
       "      <td>4</td>\n",
       "      <td>1000_380</td>\n",
       "      <td>1000</td>\n",
       "      <td>2018-12-30</td>\n",
       "      <td>4.22</td>\n",
       "    </tr>\n",
       "    <tr>\n",
       "      <td>...</td>\n",
       "      <td>...</td>\n",
       "      <td>...</td>\n",
       "      <td>...</td>\n",
       "      <td>...</td>\n",
       "    </tr>\n",
       "    <tr>\n",
       "      <td>137700</td>\n",
       "      <td>1499_169</td>\n",
       "      <td>1499</td>\n",
       "      <td>2018-10-27</td>\n",
       "      <td>1.21</td>\n",
       "    </tr>\n",
       "    <tr>\n",
       "      <td>137701</td>\n",
       "      <td>1499_170</td>\n",
       "      <td>1499</td>\n",
       "      <td>2018-09-28</td>\n",
       "      <td>9.44</td>\n",
       "    </tr>\n",
       "    <tr>\n",
       "      <td>137702</td>\n",
       "      <td>1499_171</td>\n",
       "      <td>1499</td>\n",
       "      <td>2018-12-03</td>\n",
       "      <td>6.88</td>\n",
       "    </tr>\n",
       "    <tr>\n",
       "      <td>137703</td>\n",
       "      <td>1499_172</td>\n",
       "      <td>1499</td>\n",
       "      <td>2018-11-22</td>\n",
       "      <td>1.21</td>\n",
       "    </tr>\n",
       "    <tr>\n",
       "      <td>137704</td>\n",
       "      <td>1499_173</td>\n",
       "      <td>1499</td>\n",
       "      <td>2018-10-10</td>\n",
       "      <td>0.00</td>\n",
       "    </tr>\n",
       "  </tbody>\n",
       "</table>\n",
       "<p>137705 rows × 4 columns</p>\n",
       "</div>"
      ],
      "text/plain": [
       "              id  user_id   call_date  duration\n",
       "0        1000_93     1000  2018-12-27      8.52\n",
       "1       1000_145     1000  2018-12-27     13.66\n",
       "2       1000_247     1000  2018-12-27     14.48\n",
       "3       1000_309     1000  2018-12-28      5.76\n",
       "4       1000_380     1000  2018-12-30      4.22\n",
       "...          ...      ...         ...       ...\n",
       "137700  1499_169     1499  2018-10-27      1.21\n",
       "137701  1499_170     1499  2018-09-28      9.44\n",
       "137702  1499_171     1499  2018-12-03      6.88\n",
       "137703  1499_172     1499  2018-11-22      1.21\n",
       "137704  1499_173     1499  2018-10-10      0.00\n",
       "\n",
       "[137705 rows x 4 columns]"
      ]
     },
     "execution_count": 17,
     "metadata": {},
     "output_type": "execute_result"
    }
   ],
   "source": [
    "# Print a sample of data for calls\n",
    "call.head(-30)"
   ]
  },
  {
   "cell_type": "markdown",
   "metadata": {},
   "source": [
    "The call table appears to be in good shape. There are no miscategorized data types, nor missing values.\n",
    "Arguably, the *id* column can be simplified - one can assume the number before the dash corresponds with the user_id.\n",
    "However, there's very little benefit to eliminating the prefix, so I will keep it as it is to err on the safer side.\n",
    "\n",
    "The call_date column is properly formatted, however, it would be helpful for later analysis to generate a corresponding *weekday* and a *month* column to compare usage across the week. \n",
    "\n",
    "For the *duration* column, two things can be done:\n",
    "1. the premise of the plans are that for calls, each individual call is rounded up. Even if the call lasted just one second, it will be counted as one minute. For this reason, we can preemptively round up the values in the table\n",
    "2. it would also be helpful to generate an additional categorical column that corresponds to the numerical value. I will divide the duration into its statistical quartiles and label accordingly."
   ]
  },
  {
   "cell_type": "markdown",
   "metadata": {},
   "source": [
    "### Fix data"
   ]
  },
  {
   "cell_type": "markdown",
   "metadata": {},
   "source": [
    "Note there are some call durations that are equal to 0, and they account for a significant portion of the table! 26834/137705 = 19.4%.\n",
    "\n",
    "For this reason, I think it's prudent to retroactively drop these rows. There's no reason why a 0.00 duration call should impact our analysis and hypothesis results later on."
   ]
  },
  {
   "cell_type": "code",
   "execution_count": 18,
   "metadata": {},
   "outputs": [
    {
     "data": {
      "text/html": [
       "<div>\n",
       "<style scoped>\n",
       "    .dataframe tbody tr th:only-of-type {\n",
       "        vertical-align: middle;\n",
       "    }\n",
       "\n",
       "    .dataframe tbody tr th {\n",
       "        vertical-align: top;\n",
       "    }\n",
       "\n",
       "    .dataframe thead th {\n",
       "        text-align: right;\n",
       "    }\n",
       "</style>\n",
       "<table border=\"1\" class=\"dataframe\">\n",
       "  <thead>\n",
       "    <tr style=\"text-align: right;\">\n",
       "      <th></th>\n",
       "      <th>id</th>\n",
       "      <th>user_id</th>\n",
       "      <th>call_date</th>\n",
       "      <th>duration</th>\n",
       "    </tr>\n",
       "  </thead>\n",
       "  <tbody>\n",
       "    <tr>\n",
       "      <td>0</td>\n",
       "      <td>1000_93</td>\n",
       "      <td>1000</td>\n",
       "      <td>2018-12-27</td>\n",
       "      <td>8.52</td>\n",
       "    </tr>\n",
       "    <tr>\n",
       "      <td>1</td>\n",
       "      <td>1000_145</td>\n",
       "      <td>1000</td>\n",
       "      <td>2018-12-27</td>\n",
       "      <td>13.66</td>\n",
       "    </tr>\n",
       "    <tr>\n",
       "      <td>2</td>\n",
       "      <td>1000_247</td>\n",
       "      <td>1000</td>\n",
       "      <td>2018-12-27</td>\n",
       "      <td>14.48</td>\n",
       "    </tr>\n",
       "    <tr>\n",
       "      <td>3</td>\n",
       "      <td>1000_309</td>\n",
       "      <td>1000</td>\n",
       "      <td>2018-12-28</td>\n",
       "      <td>5.76</td>\n",
       "    </tr>\n",
       "    <tr>\n",
       "      <td>4</td>\n",
       "      <td>1000_380</td>\n",
       "      <td>1000</td>\n",
       "      <td>2018-12-30</td>\n",
       "      <td>4.22</td>\n",
       "    </tr>\n",
       "    <tr>\n",
       "      <td>...</td>\n",
       "      <td>...</td>\n",
       "      <td>...</td>\n",
       "      <td>...</td>\n",
       "      <td>...</td>\n",
       "    </tr>\n",
       "    <tr>\n",
       "      <td>137689</td>\n",
       "      <td>1499_158</td>\n",
       "      <td>1499</td>\n",
       "      <td>2018-12-13</td>\n",
       "      <td>0.40</td>\n",
       "    </tr>\n",
       "    <tr>\n",
       "      <td>137691</td>\n",
       "      <td>1499_160</td>\n",
       "      <td>1499</td>\n",
       "      <td>2018-10-11</td>\n",
       "      <td>5.88</td>\n",
       "    </tr>\n",
       "    <tr>\n",
       "      <td>137692</td>\n",
       "      <td>1499_161</td>\n",
       "      <td>1499</td>\n",
       "      <td>2018-12-20</td>\n",
       "      <td>2.39</td>\n",
       "    </tr>\n",
       "    <tr>\n",
       "      <td>137693</td>\n",
       "      <td>1499_162</td>\n",
       "      <td>1499</td>\n",
       "      <td>2018-12-02</td>\n",
       "      <td>4.49</td>\n",
       "    </tr>\n",
       "    <tr>\n",
       "      <td>137696</td>\n",
       "      <td>1499_165</td>\n",
       "      <td>1499</td>\n",
       "      <td>2018-12-22</td>\n",
       "      <td>7.26</td>\n",
       "    </tr>\n",
       "  </tbody>\n",
       "</table>\n",
       "<p>110871 rows × 4 columns</p>\n",
       "</div>"
      ],
      "text/plain": [
       "              id  user_id   call_date  duration\n",
       "0        1000_93     1000  2018-12-27      8.52\n",
       "1       1000_145     1000  2018-12-27     13.66\n",
       "2       1000_247     1000  2018-12-27     14.48\n",
       "3       1000_309     1000  2018-12-28      5.76\n",
       "4       1000_380     1000  2018-12-30      4.22\n",
       "...          ...      ...         ...       ...\n",
       "137689  1499_158     1499  2018-12-13      0.40\n",
       "137691  1499_160     1499  2018-10-11      5.88\n",
       "137692  1499_161     1499  2018-12-20      2.39\n",
       "137693  1499_162     1499  2018-12-02      4.49\n",
       "137696  1499_165     1499  2018-12-22      7.26\n",
       "\n",
       "[110871 rows x 4 columns]"
      ]
     },
     "execution_count": 18,
     "metadata": {},
     "output_type": "execute_result"
    }
   ],
   "source": [
    "call['duration'].value_counts()\n",
    "call = call[call.duration != 0.00]\n",
    "call.head(-30)"
   ]
  },
  {
   "cell_type": "markdown",
   "metadata": {},
   "source": [
    "### Enrich data"
   ]
  },
  {
   "cell_type": "markdown",
   "metadata": {},
   "source": [
    "First thing we can do is to generate a corresponding *weekday* column to compare usage across the week."
   ]
  },
  {
   "cell_type": "code",
   "execution_count": 19,
   "metadata": {},
   "outputs": [],
   "source": [
    "call['weekday'] = pd.DatetimeIndex(call['call_date']).day_name()\n",
    "call['month'] = pd.DatetimeIndex(call['call_date']).month"
   ]
  },
  {
   "cell_type": "code",
   "execution_count": 20,
   "metadata": {},
   "outputs": [
    {
     "data": {
      "text/html": [
       "<div>\n",
       "<style scoped>\n",
       "    .dataframe tbody tr th:only-of-type {\n",
       "        vertical-align: middle;\n",
       "    }\n",
       "\n",
       "    .dataframe tbody tr th {\n",
       "        vertical-align: top;\n",
       "    }\n",
       "\n",
       "    .dataframe thead th {\n",
       "        text-align: right;\n",
       "    }\n",
       "</style>\n",
       "<table border=\"1\" class=\"dataframe\">\n",
       "  <thead>\n",
       "    <tr style=\"text-align: right;\">\n",
       "      <th></th>\n",
       "      <th>id</th>\n",
       "      <th>user_id</th>\n",
       "      <th>call_date</th>\n",
       "      <th>duration</th>\n",
       "      <th>weekday</th>\n",
       "      <th>month</th>\n",
       "    </tr>\n",
       "  </thead>\n",
       "  <tbody>\n",
       "    <tr>\n",
       "      <td>0</td>\n",
       "      <td>1000_93</td>\n",
       "      <td>1000</td>\n",
       "      <td>2018-12-27</td>\n",
       "      <td>8.52</td>\n",
       "      <td>Thursday</td>\n",
       "      <td>12</td>\n",
       "    </tr>\n",
       "    <tr>\n",
       "      <td>1</td>\n",
       "      <td>1000_145</td>\n",
       "      <td>1000</td>\n",
       "      <td>2018-12-27</td>\n",
       "      <td>13.66</td>\n",
       "      <td>Thursday</td>\n",
       "      <td>12</td>\n",
       "    </tr>\n",
       "    <tr>\n",
       "      <td>2</td>\n",
       "      <td>1000_247</td>\n",
       "      <td>1000</td>\n",
       "      <td>2018-12-27</td>\n",
       "      <td>14.48</td>\n",
       "      <td>Thursday</td>\n",
       "      <td>12</td>\n",
       "    </tr>\n",
       "    <tr>\n",
       "      <td>3</td>\n",
       "      <td>1000_309</td>\n",
       "      <td>1000</td>\n",
       "      <td>2018-12-28</td>\n",
       "      <td>5.76</td>\n",
       "      <td>Friday</td>\n",
       "      <td>12</td>\n",
       "    </tr>\n",
       "    <tr>\n",
       "      <td>4</td>\n",
       "      <td>1000_380</td>\n",
       "      <td>1000</td>\n",
       "      <td>2018-12-30</td>\n",
       "      <td>4.22</td>\n",
       "      <td>Sunday</td>\n",
       "      <td>12</td>\n",
       "    </tr>\n",
       "    <tr>\n",
       "      <td>5</td>\n",
       "      <td>1000_388</td>\n",
       "      <td>1000</td>\n",
       "      <td>2018-12-31</td>\n",
       "      <td>2.20</td>\n",
       "      <td>Monday</td>\n",
       "      <td>12</td>\n",
       "    </tr>\n",
       "    <tr>\n",
       "      <td>6</td>\n",
       "      <td>1000_510</td>\n",
       "      <td>1000</td>\n",
       "      <td>2018-12-27</td>\n",
       "      <td>5.75</td>\n",
       "      <td>Thursday</td>\n",
       "      <td>12</td>\n",
       "    </tr>\n",
       "    <tr>\n",
       "      <td>7</td>\n",
       "      <td>1000_521</td>\n",
       "      <td>1000</td>\n",
       "      <td>2018-12-28</td>\n",
       "      <td>14.18</td>\n",
       "      <td>Friday</td>\n",
       "      <td>12</td>\n",
       "    </tr>\n",
       "    <tr>\n",
       "      <td>8</td>\n",
       "      <td>1000_530</td>\n",
       "      <td>1000</td>\n",
       "      <td>2018-12-28</td>\n",
       "      <td>5.77</td>\n",
       "      <td>Friday</td>\n",
       "      <td>12</td>\n",
       "    </tr>\n",
       "    <tr>\n",
       "      <td>9</td>\n",
       "      <td>1000_544</td>\n",
       "      <td>1000</td>\n",
       "      <td>2018-12-26</td>\n",
       "      <td>4.40</td>\n",
       "      <td>Wednesday</td>\n",
       "      <td>12</td>\n",
       "    </tr>\n",
       "    <tr>\n",
       "      <td>10</td>\n",
       "      <td>1000_693</td>\n",
       "      <td>1000</td>\n",
       "      <td>2018-12-31</td>\n",
       "      <td>4.31</td>\n",
       "      <td>Monday</td>\n",
       "      <td>12</td>\n",
       "    </tr>\n",
       "    <tr>\n",
       "      <td>11</td>\n",
       "      <td>1000_705</td>\n",
       "      <td>1000</td>\n",
       "      <td>2018-12-31</td>\n",
       "      <td>12.78</td>\n",
       "      <td>Monday</td>\n",
       "      <td>12</td>\n",
       "    </tr>\n",
       "    <tr>\n",
       "      <td>12</td>\n",
       "      <td>1000_735</td>\n",
       "      <td>1000</td>\n",
       "      <td>2018-12-29</td>\n",
       "      <td>1.70</td>\n",
       "      <td>Saturday</td>\n",
       "      <td>12</td>\n",
       "    </tr>\n",
       "    <tr>\n",
       "      <td>13</td>\n",
       "      <td>1000_778</td>\n",
       "      <td>1000</td>\n",
       "      <td>2018-12-28</td>\n",
       "      <td>3.29</td>\n",
       "      <td>Friday</td>\n",
       "      <td>12</td>\n",
       "    </tr>\n",
       "    <tr>\n",
       "      <td>14</td>\n",
       "      <td>1000_826</td>\n",
       "      <td>1000</td>\n",
       "      <td>2018-12-26</td>\n",
       "      <td>9.96</td>\n",
       "      <td>Wednesday</td>\n",
       "      <td>12</td>\n",
       "    </tr>\n",
       "    <tr>\n",
       "      <td>15</td>\n",
       "      <td>1000_842</td>\n",
       "      <td>1000</td>\n",
       "      <td>2018-12-27</td>\n",
       "      <td>5.85</td>\n",
       "      <td>Thursday</td>\n",
       "      <td>12</td>\n",
       "    </tr>\n",
       "    <tr>\n",
       "      <td>16</td>\n",
       "      <td>1001_0</td>\n",
       "      <td>1001</td>\n",
       "      <td>2018-09-06</td>\n",
       "      <td>10.06</td>\n",
       "      <td>Thursday</td>\n",
       "      <td>9</td>\n",
       "    </tr>\n",
       "    <tr>\n",
       "      <td>17</td>\n",
       "      <td>1001_1</td>\n",
       "      <td>1001</td>\n",
       "      <td>2018-10-12</td>\n",
       "      <td>1.00</td>\n",
       "      <td>Friday</td>\n",
       "      <td>10</td>\n",
       "    </tr>\n",
       "    <tr>\n",
       "      <td>18</td>\n",
       "      <td>1001_2</td>\n",
       "      <td>1001</td>\n",
       "      <td>2018-10-17</td>\n",
       "      <td>15.83</td>\n",
       "      <td>Wednesday</td>\n",
       "      <td>10</td>\n",
       "    </tr>\n",
       "    <tr>\n",
       "      <td>20</td>\n",
       "      <td>1001_5</td>\n",
       "      <td>1001</td>\n",
       "      <td>2018-12-13</td>\n",
       "      <td>6.27</td>\n",
       "      <td>Thursday</td>\n",
       "      <td>12</td>\n",
       "    </tr>\n",
       "    <tr>\n",
       "      <td>21</td>\n",
       "      <td>1001_6</td>\n",
       "      <td>1001</td>\n",
       "      <td>2018-12-04</td>\n",
       "      <td>7.19</td>\n",
       "      <td>Tuesday</td>\n",
       "      <td>12</td>\n",
       "    </tr>\n",
       "    <tr>\n",
       "      <td>22</td>\n",
       "      <td>1001_8</td>\n",
       "      <td>1001</td>\n",
       "      <td>2018-11-17</td>\n",
       "      <td>2.45</td>\n",
       "      <td>Saturday</td>\n",
       "      <td>11</td>\n",
       "    </tr>\n",
       "    <tr>\n",
       "      <td>23</td>\n",
       "      <td>1001_9</td>\n",
       "      <td>1001</td>\n",
       "      <td>2018-11-19</td>\n",
       "      <td>2.40</td>\n",
       "      <td>Monday</td>\n",
       "      <td>11</td>\n",
       "    </tr>\n",
       "    <tr>\n",
       "      <td>24</td>\n",
       "      <td>1001_11</td>\n",
       "      <td>1001</td>\n",
       "      <td>2018-11-09</td>\n",
       "      <td>1.00</td>\n",
       "      <td>Friday</td>\n",
       "      <td>11</td>\n",
       "    </tr>\n",
       "    <tr>\n",
       "      <td>26</td>\n",
       "      <td>1001_19</td>\n",
       "      <td>1001</td>\n",
       "      <td>2018-11-15</td>\n",
       "      <td>30.00</td>\n",
       "      <td>Thursday</td>\n",
       "      <td>11</td>\n",
       "    </tr>\n",
       "    <tr>\n",
       "      <td>27</td>\n",
       "      <td>1001_20</td>\n",
       "      <td>1001</td>\n",
       "      <td>2018-09-21</td>\n",
       "      <td>5.75</td>\n",
       "      <td>Friday</td>\n",
       "      <td>9</td>\n",
       "    </tr>\n",
       "    <tr>\n",
       "      <td>28</td>\n",
       "      <td>1001_23</td>\n",
       "      <td>1001</td>\n",
       "      <td>2018-10-27</td>\n",
       "      <td>0.98</td>\n",
       "      <td>Saturday</td>\n",
       "      <td>10</td>\n",
       "    </tr>\n",
       "    <tr>\n",
       "      <td>29</td>\n",
       "      <td>1001_26</td>\n",
       "      <td>1001</td>\n",
       "      <td>2018-10-28</td>\n",
       "      <td>5.90</td>\n",
       "      <td>Sunday</td>\n",
       "      <td>10</td>\n",
       "    </tr>\n",
       "    <tr>\n",
       "      <td>30</td>\n",
       "      <td>1001_29</td>\n",
       "      <td>1001</td>\n",
       "      <td>2018-09-30</td>\n",
       "      <td>14.78</td>\n",
       "      <td>Sunday</td>\n",
       "      <td>9</td>\n",
       "    </tr>\n",
       "    <tr>\n",
       "      <td>33</td>\n",
       "      <td>1001_32</td>\n",
       "      <td>1001</td>\n",
       "      <td>2018-11-25</td>\n",
       "      <td>3.99</td>\n",
       "      <td>Sunday</td>\n",
       "      <td>11</td>\n",
       "    </tr>\n",
       "  </tbody>\n",
       "</table>\n",
       "</div>"
      ],
      "text/plain": [
       "          id  user_id   call_date  duration    weekday  month\n",
       "0    1000_93     1000  2018-12-27      8.52   Thursday     12\n",
       "1   1000_145     1000  2018-12-27     13.66   Thursday     12\n",
       "2   1000_247     1000  2018-12-27     14.48   Thursday     12\n",
       "3   1000_309     1000  2018-12-28      5.76     Friday     12\n",
       "4   1000_380     1000  2018-12-30      4.22     Sunday     12\n",
       "5   1000_388     1000  2018-12-31      2.20     Monday     12\n",
       "6   1000_510     1000  2018-12-27      5.75   Thursday     12\n",
       "7   1000_521     1000  2018-12-28     14.18     Friday     12\n",
       "8   1000_530     1000  2018-12-28      5.77     Friday     12\n",
       "9   1000_544     1000  2018-12-26      4.40  Wednesday     12\n",
       "10  1000_693     1000  2018-12-31      4.31     Monday     12\n",
       "11  1000_705     1000  2018-12-31     12.78     Monday     12\n",
       "12  1000_735     1000  2018-12-29      1.70   Saturday     12\n",
       "13  1000_778     1000  2018-12-28      3.29     Friday     12\n",
       "14  1000_826     1000  2018-12-26      9.96  Wednesday     12\n",
       "15  1000_842     1000  2018-12-27      5.85   Thursday     12\n",
       "16    1001_0     1001  2018-09-06     10.06   Thursday      9\n",
       "17    1001_1     1001  2018-10-12      1.00     Friday     10\n",
       "18    1001_2     1001  2018-10-17     15.83  Wednesday     10\n",
       "20    1001_5     1001  2018-12-13      6.27   Thursday     12\n",
       "21    1001_6     1001  2018-12-04      7.19    Tuesday     12\n",
       "22    1001_8     1001  2018-11-17      2.45   Saturday     11\n",
       "23    1001_9     1001  2018-11-19      2.40     Monday     11\n",
       "24   1001_11     1001  2018-11-09      1.00     Friday     11\n",
       "26   1001_19     1001  2018-11-15     30.00   Thursday     11\n",
       "27   1001_20     1001  2018-09-21      5.75     Friday      9\n",
       "28   1001_23     1001  2018-10-27      0.98   Saturday     10\n",
       "29   1001_26     1001  2018-10-28      5.90     Sunday     10\n",
       "30   1001_29     1001  2018-09-30     14.78     Sunday      9\n",
       "33   1001_32     1001  2018-11-25      3.99     Sunday     11"
      ]
     },
     "execution_count": 20,
     "metadata": {},
     "output_type": "execute_result"
    }
   ],
   "source": [
    "call.head(30)"
   ]
  },
  {
   "cell_type": "markdown",
   "metadata": {},
   "source": [
    "For the *duration* column, two things can be done:\n",
    "1. the premise of the plans are that for calls, each individual call is rounded up. Even if the call lasted just one second, it will be counted as one minute. For this reason, we can preemptively round up the values in the table\n",
    "2. it would also be helpful to generate an additional categorical column that corresponds to the numerical value. I will divide the duration into its statistical quartiles and label accordingly."
   ]
  },
  {
   "cell_type": "code",
   "execution_count": 21,
   "metadata": {},
   "outputs": [],
   "source": [
    "call['duration'] = call['duration'].apply(np.ceil)"
   ]
  },
  {
   "cell_type": "code",
   "execution_count": 22,
   "metadata": {},
   "outputs": [
    {
     "data": {
      "text/html": [
       "<div>\n",
       "<style scoped>\n",
       "    .dataframe tbody tr th:only-of-type {\n",
       "        vertical-align: middle;\n",
       "    }\n",
       "\n",
       "    .dataframe tbody tr th {\n",
       "        vertical-align: top;\n",
       "    }\n",
       "\n",
       "    .dataframe thead th {\n",
       "        text-align: right;\n",
       "    }\n",
       "</style>\n",
       "<table border=\"1\" class=\"dataframe\">\n",
       "  <thead>\n",
       "    <tr style=\"text-align: right;\">\n",
       "      <th></th>\n",
       "      <th>user_id</th>\n",
       "      <th>duration</th>\n",
       "      <th>month</th>\n",
       "    </tr>\n",
       "  </thead>\n",
       "  <tbody>\n",
       "    <tr>\n",
       "      <td>count</td>\n",
       "      <td>110901.000000</td>\n",
       "      <td>110901.000000</td>\n",
       "      <td>110901.000000</td>\n",
       "    </tr>\n",
       "    <tr>\n",
       "      <td>mean</td>\n",
       "      <td>1247.511871</td>\n",
       "      <td>8.875907</td>\n",
       "      <td>9.319231</td>\n",
       "    </tr>\n",
       "    <tr>\n",
       "      <td>std</td>\n",
       "      <td>139.475249</td>\n",
       "      <td>5.355181</td>\n",
       "      <td>2.415025</td>\n",
       "    </tr>\n",
       "    <tr>\n",
       "      <td>min</td>\n",
       "      <td>1000.000000</td>\n",
       "      <td>1.000000</td>\n",
       "      <td>1.000000</td>\n",
       "    </tr>\n",
       "    <tr>\n",
       "      <td>25%</td>\n",
       "      <td>1127.000000</td>\n",
       "      <td>5.000000</td>\n",
       "      <td>8.000000</td>\n",
       "    </tr>\n",
       "    <tr>\n",
       "      <td>50%</td>\n",
       "      <td>1247.000000</td>\n",
       "      <td>8.000000</td>\n",
       "      <td>10.000000</td>\n",
       "    </tr>\n",
       "    <tr>\n",
       "      <td>75%</td>\n",
       "      <td>1365.000000</td>\n",
       "      <td>12.000000</td>\n",
       "      <td>11.000000</td>\n",
       "    </tr>\n",
       "    <tr>\n",
       "      <td>max</td>\n",
       "      <td>1499.000000</td>\n",
       "      <td>38.000000</td>\n",
       "      <td>12.000000</td>\n",
       "    </tr>\n",
       "  </tbody>\n",
       "</table>\n",
       "</div>"
      ],
      "text/plain": [
       "             user_id       duration          month\n",
       "count  110901.000000  110901.000000  110901.000000\n",
       "mean     1247.511871       8.875907       9.319231\n",
       "std       139.475249       5.355181       2.415025\n",
       "min      1000.000000       1.000000       1.000000\n",
       "25%      1127.000000       5.000000       8.000000\n",
       "50%      1247.000000       8.000000      10.000000\n",
       "75%      1365.000000      12.000000      11.000000\n",
       "max      1499.000000      38.000000      12.000000"
      ]
     },
     "execution_count": 22,
     "metadata": {},
     "output_type": "execute_result"
    }
   ],
   "source": [
    "call.describe()"
   ]
  },
  {
   "cell_type": "code",
   "execution_count": 23,
   "metadata": {},
   "outputs": [],
   "source": [
    "conditions = [\n",
    "  np.logical_and(call['duration'].gt(0), np.less_equal(call['duration'], 5)), \n",
    "  np.logical_and(call['duration'].gt(5), np.less_equal(call['duration'],8)),\n",
    "  np.logical_and(call['duration'].gt(8), np.less_equal(call['duration'],12)),\n",
    "  np.logical_and(call['duration'].gt(12), np.less_equal(call['duration'],38))\n",
    "]\n",
    "\n",
    "outputs = ['Below 25% Percentile','Between 25%-50% Percentile','Between 51% and 75% Percentile', 'Above 75% Percentile']\n",
    "\n",
    "call['duration_percentile'] = pd.Series(np.select(conditions, outputs, 'Uncategorized'))\n"
   ]
  },
  {
   "cell_type": "code",
   "execution_count": 24,
   "metadata": {},
   "outputs": [
    {
     "data": {
      "text/html": [
       "<div>\n",
       "<style scoped>\n",
       "    .dataframe tbody tr th:only-of-type {\n",
       "        vertical-align: middle;\n",
       "    }\n",
       "\n",
       "    .dataframe tbody tr th {\n",
       "        vertical-align: top;\n",
       "    }\n",
       "\n",
       "    .dataframe thead th {\n",
       "        text-align: right;\n",
       "    }\n",
       "</style>\n",
       "<table border=\"1\" class=\"dataframe\">\n",
       "  <thead>\n",
       "    <tr style=\"text-align: right;\">\n",
       "      <th></th>\n",
       "      <th>id</th>\n",
       "      <th>user_id</th>\n",
       "      <th>call_date</th>\n",
       "      <th>duration</th>\n",
       "      <th>weekday</th>\n",
       "      <th>month</th>\n",
       "      <th>duration_percentile</th>\n",
       "    </tr>\n",
       "  </thead>\n",
       "  <tbody>\n",
       "    <tr>\n",
       "      <td>0</td>\n",
       "      <td>1000_93</td>\n",
       "      <td>1000</td>\n",
       "      <td>2018-12-27</td>\n",
       "      <td>9.0</td>\n",
       "      <td>Thursday</td>\n",
       "      <td>12</td>\n",
       "      <td>Between 51% and 75% Percentile</td>\n",
       "    </tr>\n",
       "    <tr>\n",
       "      <td>1</td>\n",
       "      <td>1000_145</td>\n",
       "      <td>1000</td>\n",
       "      <td>2018-12-27</td>\n",
       "      <td>14.0</td>\n",
       "      <td>Thursday</td>\n",
       "      <td>12</td>\n",
       "      <td>Above 75% Percentile</td>\n",
       "    </tr>\n",
       "    <tr>\n",
       "      <td>2</td>\n",
       "      <td>1000_247</td>\n",
       "      <td>1000</td>\n",
       "      <td>2018-12-27</td>\n",
       "      <td>15.0</td>\n",
       "      <td>Thursday</td>\n",
       "      <td>12</td>\n",
       "      <td>Above 75% Percentile</td>\n",
       "    </tr>\n",
       "    <tr>\n",
       "      <td>3</td>\n",
       "      <td>1000_309</td>\n",
       "      <td>1000</td>\n",
       "      <td>2018-12-28</td>\n",
       "      <td>6.0</td>\n",
       "      <td>Friday</td>\n",
       "      <td>12</td>\n",
       "      <td>Between 25%-50% Percentile</td>\n",
       "    </tr>\n",
       "    <tr>\n",
       "      <td>4</td>\n",
       "      <td>1000_380</td>\n",
       "      <td>1000</td>\n",
       "      <td>2018-12-30</td>\n",
       "      <td>5.0</td>\n",
       "      <td>Sunday</td>\n",
       "      <td>12</td>\n",
       "      <td>Below 25% Percentile</td>\n",
       "    </tr>\n",
       "    <tr>\n",
       "      <td>...</td>\n",
       "      <td>...</td>\n",
       "      <td>...</td>\n",
       "      <td>...</td>\n",
       "      <td>...</td>\n",
       "      <td>...</td>\n",
       "      <td>...</td>\n",
       "      <td>...</td>\n",
       "    </tr>\n",
       "    <tr>\n",
       "      <td>137689</td>\n",
       "      <td>1499_158</td>\n",
       "      <td>1499</td>\n",
       "      <td>2018-12-13</td>\n",
       "      <td>1.0</td>\n",
       "      <td>Thursday</td>\n",
       "      <td>12</td>\n",
       "      <td>NaN</td>\n",
       "    </tr>\n",
       "    <tr>\n",
       "      <td>137691</td>\n",
       "      <td>1499_160</td>\n",
       "      <td>1499</td>\n",
       "      <td>2018-10-11</td>\n",
       "      <td>6.0</td>\n",
       "      <td>Thursday</td>\n",
       "      <td>10</td>\n",
       "      <td>NaN</td>\n",
       "    </tr>\n",
       "    <tr>\n",
       "      <td>137692</td>\n",
       "      <td>1499_161</td>\n",
       "      <td>1499</td>\n",
       "      <td>2018-12-20</td>\n",
       "      <td>3.0</td>\n",
       "      <td>Thursday</td>\n",
       "      <td>12</td>\n",
       "      <td>NaN</td>\n",
       "    </tr>\n",
       "    <tr>\n",
       "      <td>137693</td>\n",
       "      <td>1499_162</td>\n",
       "      <td>1499</td>\n",
       "      <td>2018-12-02</td>\n",
       "      <td>5.0</td>\n",
       "      <td>Sunday</td>\n",
       "      <td>12</td>\n",
       "      <td>NaN</td>\n",
       "    </tr>\n",
       "    <tr>\n",
       "      <td>137696</td>\n",
       "      <td>1499_165</td>\n",
       "      <td>1499</td>\n",
       "      <td>2018-12-22</td>\n",
       "      <td>8.0</td>\n",
       "      <td>Saturday</td>\n",
       "      <td>12</td>\n",
       "      <td>NaN</td>\n",
       "    </tr>\n",
       "  </tbody>\n",
       "</table>\n",
       "<p>110871 rows × 7 columns</p>\n",
       "</div>"
      ],
      "text/plain": [
       "              id  user_id   call_date  duration   weekday  month  \\\n",
       "0        1000_93     1000  2018-12-27       9.0  Thursday     12   \n",
       "1       1000_145     1000  2018-12-27      14.0  Thursday     12   \n",
       "2       1000_247     1000  2018-12-27      15.0  Thursday     12   \n",
       "3       1000_309     1000  2018-12-28       6.0    Friday     12   \n",
       "4       1000_380     1000  2018-12-30       5.0    Sunday     12   \n",
       "...          ...      ...         ...       ...       ...    ...   \n",
       "137689  1499_158     1499  2018-12-13       1.0  Thursday     12   \n",
       "137691  1499_160     1499  2018-10-11       6.0  Thursday     10   \n",
       "137692  1499_161     1499  2018-12-20       3.0  Thursday     12   \n",
       "137693  1499_162     1499  2018-12-02       5.0    Sunday     12   \n",
       "137696  1499_165     1499  2018-12-22       8.0  Saturday     12   \n",
       "\n",
       "                   duration_percentile  \n",
       "0       Between 51% and 75% Percentile  \n",
       "1                 Above 75% Percentile  \n",
       "2                 Above 75% Percentile  \n",
       "3           Between 25%-50% Percentile  \n",
       "4                 Below 25% Percentile  \n",
       "...                                ...  \n",
       "137689                             NaN  \n",
       "137691                             NaN  \n",
       "137692                             NaN  \n",
       "137693                             NaN  \n",
       "137696                             NaN  \n",
       "\n",
       "[110871 rows x 7 columns]"
      ]
     },
     "execution_count": 24,
     "metadata": {},
     "output_type": "execute_result"
    }
   ],
   "source": [
    "call.head(-30)"
   ]
  },
  {
   "cell_type": "markdown",
   "metadata": {},
   "source": [
    "## Messages"
   ]
  },
  {
   "cell_type": "code",
   "execution_count": 25,
   "metadata": {},
   "outputs": [
    {
     "data": {
      "text/html": [
       "<div>\n",
       "<style scoped>\n",
       "    .dataframe tbody tr th:only-of-type {\n",
       "        vertical-align: middle;\n",
       "    }\n",
       "\n",
       "    .dataframe tbody tr th {\n",
       "        vertical-align: top;\n",
       "    }\n",
       "\n",
       "    .dataframe thead th {\n",
       "        text-align: right;\n",
       "    }\n",
       "</style>\n",
       "<table border=\"1\" class=\"dataframe\">\n",
       "  <thead>\n",
       "    <tr style=\"text-align: right;\">\n",
       "      <th></th>\n",
       "      <th>user_id</th>\n",
       "    </tr>\n",
       "  </thead>\n",
       "  <tbody>\n",
       "    <tr>\n",
       "      <td>count</td>\n",
       "      <td>76051.000000</td>\n",
       "    </tr>\n",
       "    <tr>\n",
       "      <td>mean</td>\n",
       "      <td>1245.972768</td>\n",
       "    </tr>\n",
       "    <tr>\n",
       "      <td>std</td>\n",
       "      <td>139.843635</td>\n",
       "    </tr>\n",
       "    <tr>\n",
       "      <td>min</td>\n",
       "      <td>1000.000000</td>\n",
       "    </tr>\n",
       "    <tr>\n",
       "      <td>25%</td>\n",
       "      <td>1123.000000</td>\n",
       "    </tr>\n",
       "    <tr>\n",
       "      <td>50%</td>\n",
       "      <td>1251.000000</td>\n",
       "    </tr>\n",
       "    <tr>\n",
       "      <td>75%</td>\n",
       "      <td>1362.000000</td>\n",
       "    </tr>\n",
       "    <tr>\n",
       "      <td>max</td>\n",
       "      <td>1497.000000</td>\n",
       "    </tr>\n",
       "  </tbody>\n",
       "</table>\n",
       "</div>"
      ],
      "text/plain": [
       "            user_id\n",
       "count  76051.000000\n",
       "mean    1245.972768\n",
       "std      139.843635\n",
       "min     1000.000000\n",
       "25%     1123.000000\n",
       "50%     1251.000000\n",
       "75%     1362.000000\n",
       "max     1497.000000"
      ]
     },
     "execution_count": 25,
     "metadata": {},
     "output_type": "execute_result"
    }
   ],
   "source": [
    "# Print the general/summary information about the messages' DataFrame\n",
    "message.describe()"
   ]
  },
  {
   "cell_type": "code",
   "execution_count": 26,
   "metadata": {},
   "outputs": [
    {
     "name": "stdout",
     "output_type": "stream",
     "text": [
      "<class 'pandas.core.frame.DataFrame'>\n",
      "RangeIndex: 76051 entries, 0 to 76050\n",
      "Data columns (total 3 columns):\n",
      "id              76051 non-null object\n",
      "user_id         76051 non-null int64\n",
      "message_date    76051 non-null object\n",
      "dtypes: int64(1), object(2)\n",
      "memory usage: 1.7+ MB\n"
     ]
    }
   ],
   "source": [
    "message.info()"
   ]
  },
  {
   "cell_type": "code",
   "execution_count": 27,
   "metadata": {},
   "outputs": [
    {
     "data": {
      "text/html": [
       "<div>\n",
       "<style scoped>\n",
       "    .dataframe tbody tr th:only-of-type {\n",
       "        vertical-align: middle;\n",
       "    }\n",
       "\n",
       "    .dataframe tbody tr th {\n",
       "        vertical-align: top;\n",
       "    }\n",
       "\n",
       "    .dataframe thead th {\n",
       "        text-align: right;\n",
       "    }\n",
       "</style>\n",
       "<table border=\"1\" class=\"dataframe\">\n",
       "  <thead>\n",
       "    <tr style=\"text-align: right;\">\n",
       "      <th></th>\n",
       "      <th>id</th>\n",
       "      <th>user_id</th>\n",
       "      <th>message_date</th>\n",
       "    </tr>\n",
       "  </thead>\n",
       "  <tbody>\n",
       "    <tr>\n",
       "      <td>0</td>\n",
       "      <td>1000_125</td>\n",
       "      <td>1000</td>\n",
       "      <td>2018-12-27</td>\n",
       "    </tr>\n",
       "    <tr>\n",
       "      <td>1</td>\n",
       "      <td>1000_160</td>\n",
       "      <td>1000</td>\n",
       "      <td>2018-12-31</td>\n",
       "    </tr>\n",
       "    <tr>\n",
       "      <td>2</td>\n",
       "      <td>1000_223</td>\n",
       "      <td>1000</td>\n",
       "      <td>2018-12-31</td>\n",
       "    </tr>\n",
       "    <tr>\n",
       "      <td>3</td>\n",
       "      <td>1000_251</td>\n",
       "      <td>1000</td>\n",
       "      <td>2018-12-27</td>\n",
       "    </tr>\n",
       "    <tr>\n",
       "      <td>4</td>\n",
       "      <td>1000_255</td>\n",
       "      <td>1000</td>\n",
       "      <td>2018-12-26</td>\n",
       "    </tr>\n",
       "    <tr>\n",
       "      <td>5</td>\n",
       "      <td>1000_346</td>\n",
       "      <td>1000</td>\n",
       "      <td>2018-12-29</td>\n",
       "    </tr>\n",
       "    <tr>\n",
       "      <td>6</td>\n",
       "      <td>1000_386</td>\n",
       "      <td>1000</td>\n",
       "      <td>2018-12-30</td>\n",
       "    </tr>\n",
       "    <tr>\n",
       "      <td>7</td>\n",
       "      <td>1000_413</td>\n",
       "      <td>1000</td>\n",
       "      <td>2018-12-31</td>\n",
       "    </tr>\n",
       "    <tr>\n",
       "      <td>8</td>\n",
       "      <td>1000_502</td>\n",
       "      <td>1000</td>\n",
       "      <td>2018-12-27</td>\n",
       "    </tr>\n",
       "    <tr>\n",
       "      <td>9</td>\n",
       "      <td>1000_525</td>\n",
       "      <td>1000</td>\n",
       "      <td>2018-12-28</td>\n",
       "    </tr>\n",
       "    <tr>\n",
       "      <td>10</td>\n",
       "      <td>1000_567</td>\n",
       "      <td>1000</td>\n",
       "      <td>2018-12-25</td>\n",
       "    </tr>\n",
       "    <tr>\n",
       "      <td>11</td>\n",
       "      <td>1001_1</td>\n",
       "      <td>1001</td>\n",
       "      <td>2018-11-14</td>\n",
       "    </tr>\n",
       "    <tr>\n",
       "      <td>12</td>\n",
       "      <td>1001_2</td>\n",
       "      <td>1001</td>\n",
       "      <td>2018-08-17</td>\n",
       "    </tr>\n",
       "    <tr>\n",
       "      <td>13</td>\n",
       "      <td>1001_5</td>\n",
       "      <td>1001</td>\n",
       "      <td>2018-12-05</td>\n",
       "    </tr>\n",
       "    <tr>\n",
       "      <td>14</td>\n",
       "      <td>1001_7</td>\n",
       "      <td>1001</td>\n",
       "      <td>2018-11-28</td>\n",
       "    </tr>\n",
       "    <tr>\n",
       "      <td>15</td>\n",
       "      <td>1001_9</td>\n",
       "      <td>1001</td>\n",
       "      <td>2018-10-23</td>\n",
       "    </tr>\n",
       "    <tr>\n",
       "      <td>16</td>\n",
       "      <td>1001_10</td>\n",
       "      <td>1001</td>\n",
       "      <td>2018-09-01</td>\n",
       "    </tr>\n",
       "    <tr>\n",
       "      <td>17</td>\n",
       "      <td>1001_11</td>\n",
       "      <td>1001</td>\n",
       "      <td>2018-11-18</td>\n",
       "    </tr>\n",
       "    <tr>\n",
       "      <td>18</td>\n",
       "      <td>1001_17</td>\n",
       "      <td>1001</td>\n",
       "      <td>2018-12-11</td>\n",
       "    </tr>\n",
       "    <tr>\n",
       "      <td>19</td>\n",
       "      <td>1001_18</td>\n",
       "      <td>1001</td>\n",
       "      <td>2018-10-01</td>\n",
       "    </tr>\n",
       "    <tr>\n",
       "      <td>20</td>\n",
       "      <td>1001_19</td>\n",
       "      <td>1001</td>\n",
       "      <td>2018-09-13</td>\n",
       "    </tr>\n",
       "    <tr>\n",
       "      <td>21</td>\n",
       "      <td>1001_21</td>\n",
       "      <td>1001</td>\n",
       "      <td>2018-12-30</td>\n",
       "    </tr>\n",
       "    <tr>\n",
       "      <td>22</td>\n",
       "      <td>1001_23</td>\n",
       "      <td>1001</td>\n",
       "      <td>2018-08-23</td>\n",
       "    </tr>\n",
       "    <tr>\n",
       "      <td>23</td>\n",
       "      <td>1001_25</td>\n",
       "      <td>1001</td>\n",
       "      <td>2018-10-10</td>\n",
       "    </tr>\n",
       "    <tr>\n",
       "      <td>24</td>\n",
       "      <td>1001_30</td>\n",
       "      <td>1001</td>\n",
       "      <td>2018-12-14</td>\n",
       "    </tr>\n",
       "    <tr>\n",
       "      <td>25</td>\n",
       "      <td>1001_32</td>\n",
       "      <td>1001</td>\n",
       "      <td>2018-09-11</td>\n",
       "    </tr>\n",
       "    <tr>\n",
       "      <td>26</td>\n",
       "      <td>1001_34</td>\n",
       "      <td>1001</td>\n",
       "      <td>2018-10-09</td>\n",
       "    </tr>\n",
       "    <tr>\n",
       "      <td>27</td>\n",
       "      <td>1001_35</td>\n",
       "      <td>1001</td>\n",
       "      <td>2018-09-18</td>\n",
       "    </tr>\n",
       "    <tr>\n",
       "      <td>28</td>\n",
       "      <td>1001_37</td>\n",
       "      <td>1001</td>\n",
       "      <td>2018-09-06</td>\n",
       "    </tr>\n",
       "    <tr>\n",
       "      <td>29</td>\n",
       "      <td>1001_39</td>\n",
       "      <td>1001</td>\n",
       "      <td>2018-09-13</td>\n",
       "    </tr>\n",
       "  </tbody>\n",
       "</table>\n",
       "</div>"
      ],
      "text/plain": [
       "          id  user_id message_date\n",
       "0   1000_125     1000   2018-12-27\n",
       "1   1000_160     1000   2018-12-31\n",
       "2   1000_223     1000   2018-12-31\n",
       "3   1000_251     1000   2018-12-27\n",
       "4   1000_255     1000   2018-12-26\n",
       "5   1000_346     1000   2018-12-29\n",
       "6   1000_386     1000   2018-12-30\n",
       "7   1000_413     1000   2018-12-31\n",
       "8   1000_502     1000   2018-12-27\n",
       "9   1000_525     1000   2018-12-28\n",
       "10  1000_567     1000   2018-12-25\n",
       "11    1001_1     1001   2018-11-14\n",
       "12    1001_2     1001   2018-08-17\n",
       "13    1001_5     1001   2018-12-05\n",
       "14    1001_7     1001   2018-11-28\n",
       "15    1001_9     1001   2018-10-23\n",
       "16   1001_10     1001   2018-09-01\n",
       "17   1001_11     1001   2018-11-18\n",
       "18   1001_17     1001   2018-12-11\n",
       "19   1001_18     1001   2018-10-01\n",
       "20   1001_19     1001   2018-09-13\n",
       "21   1001_21     1001   2018-12-30\n",
       "22   1001_23     1001   2018-08-23\n",
       "23   1001_25     1001   2018-10-10\n",
       "24   1001_30     1001   2018-12-14\n",
       "25   1001_32     1001   2018-09-11\n",
       "26   1001_34     1001   2018-10-09\n",
       "27   1001_35     1001   2018-09-18\n",
       "28   1001_37     1001   2018-09-06\n",
       "29   1001_39     1001   2018-09-13"
      ]
     },
     "execution_count": 27,
     "metadata": {},
     "output_type": "execute_result"
    }
   ],
   "source": [
    "# Print a sample of data for messages\n",
    "message.head(30)"
   ]
  },
  {
   "cell_type": "markdown",
   "metadata": {},
   "source": [
    "There are no missing data, and nothing seems inappropriation in terms of data category."
   ]
  },
  {
   "cell_type": "markdown",
   "metadata": {},
   "source": [
    "### Enrich data"
   ]
  },
  {
   "cell_type": "markdown",
   "metadata": {},
   "source": [
    "Similar to what we have done for the **Call** table, it would be beneficial to generate a corresponding *weekday* column and *month* to compare usage across the week. "
   ]
  },
  {
   "cell_type": "code",
   "execution_count": 28,
   "metadata": {},
   "outputs": [],
   "source": [
    "message['weekday'] = pd.DatetimeIndex(message['message_date']).day_name()\n",
    "message['month'] = pd.DatetimeIndex(message['message_date']).month"
   ]
  },
  {
   "cell_type": "code",
   "execution_count": 29,
   "metadata": {},
   "outputs": [
    {
     "data": {
      "text/html": [
       "<div>\n",
       "<style scoped>\n",
       "    .dataframe tbody tr th:only-of-type {\n",
       "        vertical-align: middle;\n",
       "    }\n",
       "\n",
       "    .dataframe tbody tr th {\n",
       "        vertical-align: top;\n",
       "    }\n",
       "\n",
       "    .dataframe thead th {\n",
       "        text-align: right;\n",
       "    }\n",
       "</style>\n",
       "<table border=\"1\" class=\"dataframe\">\n",
       "  <thead>\n",
       "    <tr style=\"text-align: right;\">\n",
       "      <th></th>\n",
       "      <th>id</th>\n",
       "      <th>user_id</th>\n",
       "      <th>message_date</th>\n",
       "      <th>weekday</th>\n",
       "      <th>month</th>\n",
       "    </tr>\n",
       "  </thead>\n",
       "  <tbody>\n",
       "    <tr>\n",
       "      <td>0</td>\n",
       "      <td>1000_125</td>\n",
       "      <td>1000</td>\n",
       "      <td>2018-12-27</td>\n",
       "      <td>Thursday</td>\n",
       "      <td>12</td>\n",
       "    </tr>\n",
       "    <tr>\n",
       "      <td>1</td>\n",
       "      <td>1000_160</td>\n",
       "      <td>1000</td>\n",
       "      <td>2018-12-31</td>\n",
       "      <td>Monday</td>\n",
       "      <td>12</td>\n",
       "    </tr>\n",
       "    <tr>\n",
       "      <td>2</td>\n",
       "      <td>1000_223</td>\n",
       "      <td>1000</td>\n",
       "      <td>2018-12-31</td>\n",
       "      <td>Monday</td>\n",
       "      <td>12</td>\n",
       "    </tr>\n",
       "    <tr>\n",
       "      <td>3</td>\n",
       "      <td>1000_251</td>\n",
       "      <td>1000</td>\n",
       "      <td>2018-12-27</td>\n",
       "      <td>Thursday</td>\n",
       "      <td>12</td>\n",
       "    </tr>\n",
       "    <tr>\n",
       "      <td>4</td>\n",
       "      <td>1000_255</td>\n",
       "      <td>1000</td>\n",
       "      <td>2018-12-26</td>\n",
       "      <td>Wednesday</td>\n",
       "      <td>12</td>\n",
       "    </tr>\n",
       "    <tr>\n",
       "      <td>5</td>\n",
       "      <td>1000_346</td>\n",
       "      <td>1000</td>\n",
       "      <td>2018-12-29</td>\n",
       "      <td>Saturday</td>\n",
       "      <td>12</td>\n",
       "    </tr>\n",
       "    <tr>\n",
       "      <td>6</td>\n",
       "      <td>1000_386</td>\n",
       "      <td>1000</td>\n",
       "      <td>2018-12-30</td>\n",
       "      <td>Sunday</td>\n",
       "      <td>12</td>\n",
       "    </tr>\n",
       "    <tr>\n",
       "      <td>7</td>\n",
       "      <td>1000_413</td>\n",
       "      <td>1000</td>\n",
       "      <td>2018-12-31</td>\n",
       "      <td>Monday</td>\n",
       "      <td>12</td>\n",
       "    </tr>\n",
       "    <tr>\n",
       "      <td>8</td>\n",
       "      <td>1000_502</td>\n",
       "      <td>1000</td>\n",
       "      <td>2018-12-27</td>\n",
       "      <td>Thursday</td>\n",
       "      <td>12</td>\n",
       "    </tr>\n",
       "    <tr>\n",
       "      <td>9</td>\n",
       "      <td>1000_525</td>\n",
       "      <td>1000</td>\n",
       "      <td>2018-12-28</td>\n",
       "      <td>Friday</td>\n",
       "      <td>12</td>\n",
       "    </tr>\n",
       "    <tr>\n",
       "      <td>10</td>\n",
       "      <td>1000_567</td>\n",
       "      <td>1000</td>\n",
       "      <td>2018-12-25</td>\n",
       "      <td>Tuesday</td>\n",
       "      <td>12</td>\n",
       "    </tr>\n",
       "    <tr>\n",
       "      <td>11</td>\n",
       "      <td>1001_1</td>\n",
       "      <td>1001</td>\n",
       "      <td>2018-11-14</td>\n",
       "      <td>Wednesday</td>\n",
       "      <td>11</td>\n",
       "    </tr>\n",
       "    <tr>\n",
       "      <td>12</td>\n",
       "      <td>1001_2</td>\n",
       "      <td>1001</td>\n",
       "      <td>2018-08-17</td>\n",
       "      <td>Friday</td>\n",
       "      <td>8</td>\n",
       "    </tr>\n",
       "    <tr>\n",
       "      <td>13</td>\n",
       "      <td>1001_5</td>\n",
       "      <td>1001</td>\n",
       "      <td>2018-12-05</td>\n",
       "      <td>Wednesday</td>\n",
       "      <td>12</td>\n",
       "    </tr>\n",
       "    <tr>\n",
       "      <td>14</td>\n",
       "      <td>1001_7</td>\n",
       "      <td>1001</td>\n",
       "      <td>2018-11-28</td>\n",
       "      <td>Wednesday</td>\n",
       "      <td>11</td>\n",
       "    </tr>\n",
       "    <tr>\n",
       "      <td>15</td>\n",
       "      <td>1001_9</td>\n",
       "      <td>1001</td>\n",
       "      <td>2018-10-23</td>\n",
       "      <td>Tuesday</td>\n",
       "      <td>10</td>\n",
       "    </tr>\n",
       "    <tr>\n",
       "      <td>16</td>\n",
       "      <td>1001_10</td>\n",
       "      <td>1001</td>\n",
       "      <td>2018-09-01</td>\n",
       "      <td>Saturday</td>\n",
       "      <td>9</td>\n",
       "    </tr>\n",
       "    <tr>\n",
       "      <td>17</td>\n",
       "      <td>1001_11</td>\n",
       "      <td>1001</td>\n",
       "      <td>2018-11-18</td>\n",
       "      <td>Sunday</td>\n",
       "      <td>11</td>\n",
       "    </tr>\n",
       "    <tr>\n",
       "      <td>18</td>\n",
       "      <td>1001_17</td>\n",
       "      <td>1001</td>\n",
       "      <td>2018-12-11</td>\n",
       "      <td>Tuesday</td>\n",
       "      <td>12</td>\n",
       "    </tr>\n",
       "    <tr>\n",
       "      <td>19</td>\n",
       "      <td>1001_18</td>\n",
       "      <td>1001</td>\n",
       "      <td>2018-10-01</td>\n",
       "      <td>Monday</td>\n",
       "      <td>10</td>\n",
       "    </tr>\n",
       "    <tr>\n",
       "      <td>20</td>\n",
       "      <td>1001_19</td>\n",
       "      <td>1001</td>\n",
       "      <td>2018-09-13</td>\n",
       "      <td>Thursday</td>\n",
       "      <td>9</td>\n",
       "    </tr>\n",
       "    <tr>\n",
       "      <td>21</td>\n",
       "      <td>1001_21</td>\n",
       "      <td>1001</td>\n",
       "      <td>2018-12-30</td>\n",
       "      <td>Sunday</td>\n",
       "      <td>12</td>\n",
       "    </tr>\n",
       "    <tr>\n",
       "      <td>22</td>\n",
       "      <td>1001_23</td>\n",
       "      <td>1001</td>\n",
       "      <td>2018-08-23</td>\n",
       "      <td>Thursday</td>\n",
       "      <td>8</td>\n",
       "    </tr>\n",
       "    <tr>\n",
       "      <td>23</td>\n",
       "      <td>1001_25</td>\n",
       "      <td>1001</td>\n",
       "      <td>2018-10-10</td>\n",
       "      <td>Wednesday</td>\n",
       "      <td>10</td>\n",
       "    </tr>\n",
       "    <tr>\n",
       "      <td>24</td>\n",
       "      <td>1001_30</td>\n",
       "      <td>1001</td>\n",
       "      <td>2018-12-14</td>\n",
       "      <td>Friday</td>\n",
       "      <td>12</td>\n",
       "    </tr>\n",
       "    <tr>\n",
       "      <td>25</td>\n",
       "      <td>1001_32</td>\n",
       "      <td>1001</td>\n",
       "      <td>2018-09-11</td>\n",
       "      <td>Tuesday</td>\n",
       "      <td>9</td>\n",
       "    </tr>\n",
       "    <tr>\n",
       "      <td>26</td>\n",
       "      <td>1001_34</td>\n",
       "      <td>1001</td>\n",
       "      <td>2018-10-09</td>\n",
       "      <td>Tuesday</td>\n",
       "      <td>10</td>\n",
       "    </tr>\n",
       "    <tr>\n",
       "      <td>27</td>\n",
       "      <td>1001_35</td>\n",
       "      <td>1001</td>\n",
       "      <td>2018-09-18</td>\n",
       "      <td>Tuesday</td>\n",
       "      <td>9</td>\n",
       "    </tr>\n",
       "    <tr>\n",
       "      <td>28</td>\n",
       "      <td>1001_37</td>\n",
       "      <td>1001</td>\n",
       "      <td>2018-09-06</td>\n",
       "      <td>Thursday</td>\n",
       "      <td>9</td>\n",
       "    </tr>\n",
       "    <tr>\n",
       "      <td>29</td>\n",
       "      <td>1001_39</td>\n",
       "      <td>1001</td>\n",
       "      <td>2018-09-13</td>\n",
       "      <td>Thursday</td>\n",
       "      <td>9</td>\n",
       "    </tr>\n",
       "  </tbody>\n",
       "</table>\n",
       "</div>"
      ],
      "text/plain": [
       "          id  user_id message_date    weekday  month\n",
       "0   1000_125     1000   2018-12-27   Thursday     12\n",
       "1   1000_160     1000   2018-12-31     Monday     12\n",
       "2   1000_223     1000   2018-12-31     Monday     12\n",
       "3   1000_251     1000   2018-12-27   Thursday     12\n",
       "4   1000_255     1000   2018-12-26  Wednesday     12\n",
       "5   1000_346     1000   2018-12-29   Saturday     12\n",
       "6   1000_386     1000   2018-12-30     Sunday     12\n",
       "7   1000_413     1000   2018-12-31     Monday     12\n",
       "8   1000_502     1000   2018-12-27   Thursday     12\n",
       "9   1000_525     1000   2018-12-28     Friday     12\n",
       "10  1000_567     1000   2018-12-25    Tuesday     12\n",
       "11    1001_1     1001   2018-11-14  Wednesday     11\n",
       "12    1001_2     1001   2018-08-17     Friday      8\n",
       "13    1001_5     1001   2018-12-05  Wednesday     12\n",
       "14    1001_7     1001   2018-11-28  Wednesday     11\n",
       "15    1001_9     1001   2018-10-23    Tuesday     10\n",
       "16   1001_10     1001   2018-09-01   Saturday      9\n",
       "17   1001_11     1001   2018-11-18     Sunday     11\n",
       "18   1001_17     1001   2018-12-11    Tuesday     12\n",
       "19   1001_18     1001   2018-10-01     Monday     10\n",
       "20   1001_19     1001   2018-09-13   Thursday      9\n",
       "21   1001_21     1001   2018-12-30     Sunday     12\n",
       "22   1001_23     1001   2018-08-23   Thursday      8\n",
       "23   1001_25     1001   2018-10-10  Wednesday     10\n",
       "24   1001_30     1001   2018-12-14     Friday     12\n",
       "25   1001_32     1001   2018-09-11    Tuesday      9\n",
       "26   1001_34     1001   2018-10-09    Tuesday     10\n",
       "27   1001_35     1001   2018-09-18    Tuesday      9\n",
       "28   1001_37     1001   2018-09-06   Thursday      9\n",
       "29   1001_39     1001   2018-09-13   Thursday      9"
      ]
     },
     "execution_count": 29,
     "metadata": {},
     "output_type": "execute_result"
    }
   ],
   "source": [
    "message.head(30)"
   ]
  },
  {
   "cell_type": "markdown",
   "metadata": {},
   "source": [
    "## Internet"
   ]
  },
  {
   "cell_type": "code",
   "execution_count": 30,
   "metadata": {},
   "outputs": [
    {
     "data": {
      "text/html": [
       "<div>\n",
       "<style scoped>\n",
       "    .dataframe tbody tr th:only-of-type {\n",
       "        vertical-align: middle;\n",
       "    }\n",
       "\n",
       "    .dataframe tbody tr th {\n",
       "        vertical-align: top;\n",
       "    }\n",
       "\n",
       "    .dataframe thead th {\n",
       "        text-align: right;\n",
       "    }\n",
       "</style>\n",
       "<table border=\"1\" class=\"dataframe\">\n",
       "  <thead>\n",
       "    <tr style=\"text-align: right;\">\n",
       "      <th></th>\n",
       "      <th>user_id</th>\n",
       "      <th>mb_used</th>\n",
       "    </tr>\n",
       "  </thead>\n",
       "  <tbody>\n",
       "    <tr>\n",
       "      <td>count</td>\n",
       "      <td>104825.000000</td>\n",
       "      <td>104825.000000</td>\n",
       "    </tr>\n",
       "    <tr>\n",
       "      <td>mean</td>\n",
       "      <td>1242.496361</td>\n",
       "      <td>366.713701</td>\n",
       "    </tr>\n",
       "    <tr>\n",
       "      <td>std</td>\n",
       "      <td>142.053913</td>\n",
       "      <td>277.170542</td>\n",
       "    </tr>\n",
       "    <tr>\n",
       "      <td>min</td>\n",
       "      <td>1000.000000</td>\n",
       "      <td>0.000000</td>\n",
       "    </tr>\n",
       "    <tr>\n",
       "      <td>25%</td>\n",
       "      <td>1122.000000</td>\n",
       "      <td>136.080000</td>\n",
       "    </tr>\n",
       "    <tr>\n",
       "      <td>50%</td>\n",
       "      <td>1236.000000</td>\n",
       "      <td>343.980000</td>\n",
       "    </tr>\n",
       "    <tr>\n",
       "      <td>75%</td>\n",
       "      <td>1367.000000</td>\n",
       "      <td>554.610000</td>\n",
       "    </tr>\n",
       "    <tr>\n",
       "      <td>max</td>\n",
       "      <td>1499.000000</td>\n",
       "      <td>1693.470000</td>\n",
       "    </tr>\n",
       "  </tbody>\n",
       "</table>\n",
       "</div>"
      ],
      "text/plain": [
       "             user_id        mb_used\n",
       "count  104825.000000  104825.000000\n",
       "mean     1242.496361     366.713701\n",
       "std       142.053913     277.170542\n",
       "min      1000.000000       0.000000\n",
       "25%      1122.000000     136.080000\n",
       "50%      1236.000000     343.980000\n",
       "75%      1367.000000     554.610000\n",
       "max      1499.000000    1693.470000"
      ]
     },
     "execution_count": 30,
     "metadata": {},
     "output_type": "execute_result"
    }
   ],
   "source": [
    "# Print the general/summary information about the internet DataFrame\n",
    "\n",
    "internet.describe()"
   ]
  },
  {
   "cell_type": "code",
   "execution_count": 31,
   "metadata": {},
   "outputs": [
    {
     "name": "stdout",
     "output_type": "stream",
     "text": [
      "<class 'pandas.core.frame.DataFrame'>\n",
      "RangeIndex: 104825 entries, 0 to 104824\n",
      "Data columns (total 4 columns):\n",
      "id              104825 non-null object\n",
      "user_id         104825 non-null int64\n",
      "session_date    104825 non-null object\n",
      "mb_used         104825 non-null float64\n",
      "dtypes: float64(1), int64(1), object(2)\n",
      "memory usage: 3.2+ MB\n"
     ]
    }
   ],
   "source": [
    "internet.info()"
   ]
  },
  {
   "cell_type": "code",
   "execution_count": 32,
   "metadata": {},
   "outputs": [
    {
     "data": {
      "text/html": [
       "<div>\n",
       "<style scoped>\n",
       "    .dataframe tbody tr th:only-of-type {\n",
       "        vertical-align: middle;\n",
       "    }\n",
       "\n",
       "    .dataframe tbody tr th {\n",
       "        vertical-align: top;\n",
       "    }\n",
       "\n",
       "    .dataframe thead th {\n",
       "        text-align: right;\n",
       "    }\n",
       "</style>\n",
       "<table border=\"1\" class=\"dataframe\">\n",
       "  <thead>\n",
       "    <tr style=\"text-align: right;\">\n",
       "      <th></th>\n",
       "      <th>id</th>\n",
       "      <th>user_id</th>\n",
       "      <th>session_date</th>\n",
       "      <th>mb_used</th>\n",
       "    </tr>\n",
       "  </thead>\n",
       "  <tbody>\n",
       "    <tr>\n",
       "      <td>0</td>\n",
       "      <td>1000_13</td>\n",
       "      <td>1000</td>\n",
       "      <td>2018-12-29</td>\n",
       "      <td>89.86</td>\n",
       "    </tr>\n",
       "    <tr>\n",
       "      <td>1</td>\n",
       "      <td>1000_204</td>\n",
       "      <td>1000</td>\n",
       "      <td>2018-12-31</td>\n",
       "      <td>0.00</td>\n",
       "    </tr>\n",
       "    <tr>\n",
       "      <td>2</td>\n",
       "      <td>1000_379</td>\n",
       "      <td>1000</td>\n",
       "      <td>2018-12-28</td>\n",
       "      <td>660.40</td>\n",
       "    </tr>\n",
       "    <tr>\n",
       "      <td>3</td>\n",
       "      <td>1000_413</td>\n",
       "      <td>1000</td>\n",
       "      <td>2018-12-26</td>\n",
       "      <td>270.99</td>\n",
       "    </tr>\n",
       "    <tr>\n",
       "      <td>4</td>\n",
       "      <td>1000_442</td>\n",
       "      <td>1000</td>\n",
       "      <td>2018-12-27</td>\n",
       "      <td>880.22</td>\n",
       "    </tr>\n",
       "    <tr>\n",
       "      <td>5</td>\n",
       "      <td>1001_0</td>\n",
       "      <td>1001</td>\n",
       "      <td>2018-08-24</td>\n",
       "      <td>284.68</td>\n",
       "    </tr>\n",
       "    <tr>\n",
       "      <td>6</td>\n",
       "      <td>1001_3</td>\n",
       "      <td>1001</td>\n",
       "      <td>2018-12-09</td>\n",
       "      <td>656.04</td>\n",
       "    </tr>\n",
       "    <tr>\n",
       "      <td>7</td>\n",
       "      <td>1001_4</td>\n",
       "      <td>1001</td>\n",
       "      <td>2018-11-04</td>\n",
       "      <td>16.97</td>\n",
       "    </tr>\n",
       "    <tr>\n",
       "      <td>8</td>\n",
       "      <td>1001_10</td>\n",
       "      <td>1001</td>\n",
       "      <td>2018-11-27</td>\n",
       "      <td>135.18</td>\n",
       "    </tr>\n",
       "    <tr>\n",
       "      <td>9</td>\n",
       "      <td>1001_15</td>\n",
       "      <td>1001</td>\n",
       "      <td>2018-12-13</td>\n",
       "      <td>761.92</td>\n",
       "    </tr>\n",
       "    <tr>\n",
       "      <td>10</td>\n",
       "      <td>1001_16</td>\n",
       "      <td>1001</td>\n",
       "      <td>2018-10-28</td>\n",
       "      <td>501.53</td>\n",
       "    </tr>\n",
       "    <tr>\n",
       "      <td>11</td>\n",
       "      <td>1001_17</td>\n",
       "      <td>1001</td>\n",
       "      <td>2018-09-05</td>\n",
       "      <td>727.29</td>\n",
       "    </tr>\n",
       "    <tr>\n",
       "      <td>12</td>\n",
       "      <td>1001_24</td>\n",
       "      <td>1001</td>\n",
       "      <td>2018-09-05</td>\n",
       "      <td>622.03</td>\n",
       "    </tr>\n",
       "    <tr>\n",
       "      <td>13</td>\n",
       "      <td>1001_25</td>\n",
       "      <td>1001</td>\n",
       "      <td>2018-10-14</td>\n",
       "      <td>310.43</td>\n",
       "    </tr>\n",
       "    <tr>\n",
       "      <td>14</td>\n",
       "      <td>1001_26</td>\n",
       "      <td>1001</td>\n",
       "      <td>2018-09-17</td>\n",
       "      <td>0.00</td>\n",
       "    </tr>\n",
       "    <tr>\n",
       "      <td>15</td>\n",
       "      <td>1001_27</td>\n",
       "      <td>1001</td>\n",
       "      <td>2018-12-13</td>\n",
       "      <td>149.17</td>\n",
       "    </tr>\n",
       "    <tr>\n",
       "      <td>16</td>\n",
       "      <td>1001_28</td>\n",
       "      <td>1001</td>\n",
       "      <td>2018-10-17</td>\n",
       "      <td>0.00</td>\n",
       "    </tr>\n",
       "    <tr>\n",
       "      <td>17</td>\n",
       "      <td>1001_29</td>\n",
       "      <td>1001</td>\n",
       "      <td>2018-10-09</td>\n",
       "      <td>1067.99</td>\n",
       "    </tr>\n",
       "    <tr>\n",
       "      <td>18</td>\n",
       "      <td>1001_30</td>\n",
       "      <td>1001</td>\n",
       "      <td>2018-12-27</td>\n",
       "      <td>157.20</td>\n",
       "    </tr>\n",
       "    <tr>\n",
       "      <td>19</td>\n",
       "      <td>1001_33</td>\n",
       "      <td>1001</td>\n",
       "      <td>2018-09-27</td>\n",
       "      <td>236.40</td>\n",
       "    </tr>\n",
       "    <tr>\n",
       "      <td>20</td>\n",
       "      <td>1001_34</td>\n",
       "      <td>1001</td>\n",
       "      <td>2018-09-18</td>\n",
       "      <td>299.66</td>\n",
       "    </tr>\n",
       "    <tr>\n",
       "      <td>21</td>\n",
       "      <td>1001_37</td>\n",
       "      <td>1001</td>\n",
       "      <td>2018-12-26</td>\n",
       "      <td>694.50</td>\n",
       "    </tr>\n",
       "    <tr>\n",
       "      <td>22</td>\n",
       "      <td>1001_38</td>\n",
       "      <td>1001</td>\n",
       "      <td>2018-11-25</td>\n",
       "      <td>288.27</td>\n",
       "    </tr>\n",
       "    <tr>\n",
       "      <td>23</td>\n",
       "      <td>1001_40</td>\n",
       "      <td>1001</td>\n",
       "      <td>2018-12-27</td>\n",
       "      <td>632.84</td>\n",
       "    </tr>\n",
       "    <tr>\n",
       "      <td>24</td>\n",
       "      <td>1001_42</td>\n",
       "      <td>1001</td>\n",
       "      <td>2018-12-03</td>\n",
       "      <td>474.35</td>\n",
       "    </tr>\n",
       "    <tr>\n",
       "      <td>25</td>\n",
       "      <td>1001_43</td>\n",
       "      <td>1001</td>\n",
       "      <td>2018-11-16</td>\n",
       "      <td>196.94</td>\n",
       "    </tr>\n",
       "    <tr>\n",
       "      <td>26</td>\n",
       "      <td>1001_44</td>\n",
       "      <td>1001</td>\n",
       "      <td>2018-09-27</td>\n",
       "      <td>44.91</td>\n",
       "    </tr>\n",
       "    <tr>\n",
       "      <td>27</td>\n",
       "      <td>1001_45</td>\n",
       "      <td>1001</td>\n",
       "      <td>2018-10-23</td>\n",
       "      <td>483.49</td>\n",
       "    </tr>\n",
       "    <tr>\n",
       "      <td>28</td>\n",
       "      <td>1001_47</td>\n",
       "      <td>1001</td>\n",
       "      <td>2018-12-07</td>\n",
       "      <td>317.01</td>\n",
       "    </tr>\n",
       "    <tr>\n",
       "      <td>29</td>\n",
       "      <td>1001_48</td>\n",
       "      <td>1001</td>\n",
       "      <td>2018-09-08</td>\n",
       "      <td>284.97</td>\n",
       "    </tr>\n",
       "  </tbody>\n",
       "</table>\n",
       "</div>"
      ],
      "text/plain": [
       "          id  user_id session_date  mb_used\n",
       "0    1000_13     1000   2018-12-29    89.86\n",
       "1   1000_204     1000   2018-12-31     0.00\n",
       "2   1000_379     1000   2018-12-28   660.40\n",
       "3   1000_413     1000   2018-12-26   270.99\n",
       "4   1000_442     1000   2018-12-27   880.22\n",
       "5     1001_0     1001   2018-08-24   284.68\n",
       "6     1001_3     1001   2018-12-09   656.04\n",
       "7     1001_4     1001   2018-11-04    16.97\n",
       "8    1001_10     1001   2018-11-27   135.18\n",
       "9    1001_15     1001   2018-12-13   761.92\n",
       "10   1001_16     1001   2018-10-28   501.53\n",
       "11   1001_17     1001   2018-09-05   727.29\n",
       "12   1001_24     1001   2018-09-05   622.03\n",
       "13   1001_25     1001   2018-10-14   310.43\n",
       "14   1001_26     1001   2018-09-17     0.00\n",
       "15   1001_27     1001   2018-12-13   149.17\n",
       "16   1001_28     1001   2018-10-17     0.00\n",
       "17   1001_29     1001   2018-10-09  1067.99\n",
       "18   1001_30     1001   2018-12-27   157.20\n",
       "19   1001_33     1001   2018-09-27   236.40\n",
       "20   1001_34     1001   2018-09-18   299.66\n",
       "21   1001_37     1001   2018-12-26   694.50\n",
       "22   1001_38     1001   2018-11-25   288.27\n",
       "23   1001_40     1001   2018-12-27   632.84\n",
       "24   1001_42     1001   2018-12-03   474.35\n",
       "25   1001_43     1001   2018-11-16   196.94\n",
       "26   1001_44     1001   2018-09-27    44.91\n",
       "27   1001_45     1001   2018-10-23   483.49\n",
       "28   1001_47     1001   2018-12-07   317.01\n",
       "29   1001_48     1001   2018-09-08   284.97"
      ]
     },
     "execution_count": 32,
     "metadata": {},
     "output_type": "execute_result"
    }
   ],
   "source": [
    "# Print a sample of data for the internet traffic\n",
    "\n",
    "internet.head(30)"
   ]
  },
  {
   "cell_type": "markdown",
   "metadata": {},
   "source": [
    "There are no missing values. However, there are *mb_used* values for which the data is 0.0. That data is not very meaningful. I will examine the total account of instances where these occur, and likely eliminate useless rows at this stage. \n",
    "\n",
    "In addition, similar to what was performed to the call and the message table, now it's a good time to add a corresponding weekday and a month column."
   ]
  },
  {
   "cell_type": "markdown",
   "metadata": {},
   "source": [
    "### Fix data"
   ]
  },
  {
   "cell_type": "markdown",
   "metadata": {},
   "source": [
    "There are *mb_used* values for which the data is 0.0. That data is not very meaningful. I will examine the total account of instances where these occur, and likely eliminate useless rows at this stage. "
   ]
  },
  {
   "cell_type": "code",
   "execution_count": 33,
   "metadata": {},
   "outputs": [
    {
     "data": {
      "text/plain": [
       "0.00      13747\n",
       "414.46        8\n",
       "435.77        8\n",
       "417.46        7\n",
       "313.79        7\n",
       "          ...  \n",
       "638.12        1\n",
       "217.39        1\n",
       "683.90        1\n",
       "243.97        1\n",
       "563.11        1\n",
       "Name: mb_used, Length: 57624, dtype: int64"
      ]
     },
     "execution_count": 33,
     "metadata": {},
     "output_type": "execute_result"
    }
   ],
   "source": [
    "internet['mb_used'].value_counts()"
   ]
  },
  {
   "cell_type": "code",
   "execution_count": 34,
   "metadata": {},
   "outputs": [
    {
     "data": {
      "text/html": [
       "<div>\n",
       "<style scoped>\n",
       "    .dataframe tbody tr th:only-of-type {\n",
       "        vertical-align: middle;\n",
       "    }\n",
       "\n",
       "    .dataframe tbody tr th {\n",
       "        vertical-align: top;\n",
       "    }\n",
       "\n",
       "    .dataframe thead th {\n",
       "        text-align: right;\n",
       "    }\n",
       "</style>\n",
       "<table border=\"1\" class=\"dataframe\">\n",
       "  <thead>\n",
       "    <tr style=\"text-align: right;\">\n",
       "      <th></th>\n",
       "      <th>id</th>\n",
       "      <th>user_id</th>\n",
       "      <th>session_date</th>\n",
       "      <th>mb_used</th>\n",
       "    </tr>\n",
       "  </thead>\n",
       "  <tbody>\n",
       "    <tr>\n",
       "      <td>0</td>\n",
       "      <td>1000_13</td>\n",
       "      <td>1000</td>\n",
       "      <td>2018-12-29</td>\n",
       "      <td>89.86</td>\n",
       "    </tr>\n",
       "    <tr>\n",
       "      <td>2</td>\n",
       "      <td>1000_379</td>\n",
       "      <td>1000</td>\n",
       "      <td>2018-12-28</td>\n",
       "      <td>660.40</td>\n",
       "    </tr>\n",
       "    <tr>\n",
       "      <td>3</td>\n",
       "      <td>1000_413</td>\n",
       "      <td>1000</td>\n",
       "      <td>2018-12-26</td>\n",
       "      <td>270.99</td>\n",
       "    </tr>\n",
       "    <tr>\n",
       "      <td>4</td>\n",
       "      <td>1000_442</td>\n",
       "      <td>1000</td>\n",
       "      <td>2018-12-27</td>\n",
       "      <td>880.22</td>\n",
       "    </tr>\n",
       "    <tr>\n",
       "      <td>5</td>\n",
       "      <td>1001_0</td>\n",
       "      <td>1001</td>\n",
       "      <td>2018-08-24</td>\n",
       "      <td>284.68</td>\n",
       "    </tr>\n",
       "    <tr>\n",
       "      <td>...</td>\n",
       "      <td>...</td>\n",
       "      <td>...</td>\n",
       "      <td>...</td>\n",
       "      <td>...</td>\n",
       "    </tr>\n",
       "    <tr>\n",
       "      <td>104785</td>\n",
       "      <td>1499_180</td>\n",
       "      <td>1499</td>\n",
       "      <td>2018-11-23</td>\n",
       "      <td>378.17</td>\n",
       "    </tr>\n",
       "    <tr>\n",
       "      <td>104786</td>\n",
       "      <td>1499_181</td>\n",
       "      <td>1499</td>\n",
       "      <td>2018-10-13</td>\n",
       "      <td>93.85</td>\n",
       "    </tr>\n",
       "    <tr>\n",
       "      <td>104787</td>\n",
       "      <td>1499_182</td>\n",
       "      <td>1499</td>\n",
       "      <td>2018-11-09</td>\n",
       "      <td>74.41</td>\n",
       "    </tr>\n",
       "    <tr>\n",
       "      <td>104788</td>\n",
       "      <td>1499_183</td>\n",
       "      <td>1499</td>\n",
       "      <td>2018-11-17</td>\n",
       "      <td>839.66</td>\n",
       "    </tr>\n",
       "    <tr>\n",
       "      <td>104789</td>\n",
       "      <td>1499_184</td>\n",
       "      <td>1499</td>\n",
       "      <td>2018-12-11</td>\n",
       "      <td>426.28</td>\n",
       "    </tr>\n",
       "  </tbody>\n",
       "</table>\n",
       "<p>91048 rows × 4 columns</p>\n",
       "</div>"
      ],
      "text/plain": [
       "              id  user_id session_date  mb_used\n",
       "0        1000_13     1000   2018-12-29    89.86\n",
       "2       1000_379     1000   2018-12-28   660.40\n",
       "3       1000_413     1000   2018-12-26   270.99\n",
       "4       1000_442     1000   2018-12-27   880.22\n",
       "5         1001_0     1001   2018-08-24   284.68\n",
       "...          ...      ...          ...      ...\n",
       "104785  1499_180     1499   2018-11-23   378.17\n",
       "104786  1499_181     1499   2018-10-13    93.85\n",
       "104787  1499_182     1499   2018-11-09    74.41\n",
       "104788  1499_183     1499   2018-11-17   839.66\n",
       "104789  1499_184     1499   2018-12-11   426.28\n",
       "\n",
       "[91048 rows x 4 columns]"
      ]
     },
     "execution_count": 34,
     "metadata": {},
     "output_type": "execute_result"
    }
   ],
   "source": [
    "internet = internet[internet.mb_used != 0.00]\n",
    "internet.head(-30)"
   ]
  },
  {
   "cell_type": "markdown",
   "metadata": {},
   "source": [
    "### Enrich data"
   ]
  },
  {
   "cell_type": "markdown",
   "metadata": {},
   "source": [
    "Similar to what was performed to the call and the message table, now it's a good time to add a corresponding weekday and month column."
   ]
  },
  {
   "cell_type": "code",
   "execution_count": 35,
   "metadata": {},
   "outputs": [
    {
     "data": {
      "text/html": [
       "<div>\n",
       "<style scoped>\n",
       "    .dataframe tbody tr th:only-of-type {\n",
       "        vertical-align: middle;\n",
       "    }\n",
       "\n",
       "    .dataframe tbody tr th {\n",
       "        vertical-align: top;\n",
       "    }\n",
       "\n",
       "    .dataframe thead th {\n",
       "        text-align: right;\n",
       "    }\n",
       "</style>\n",
       "<table border=\"1\" class=\"dataframe\">\n",
       "  <thead>\n",
       "    <tr style=\"text-align: right;\">\n",
       "      <th></th>\n",
       "      <th>id</th>\n",
       "      <th>user_id</th>\n",
       "      <th>session_date</th>\n",
       "      <th>mb_used</th>\n",
       "      <th>weekday</th>\n",
       "      <th>month</th>\n",
       "    </tr>\n",
       "  </thead>\n",
       "  <tbody>\n",
       "    <tr>\n",
       "      <td>0</td>\n",
       "      <td>1000_13</td>\n",
       "      <td>1000</td>\n",
       "      <td>2018-12-29</td>\n",
       "      <td>89.86</td>\n",
       "      <td>Saturday</td>\n",
       "      <td>12</td>\n",
       "    </tr>\n",
       "    <tr>\n",
       "      <td>2</td>\n",
       "      <td>1000_379</td>\n",
       "      <td>1000</td>\n",
       "      <td>2018-12-28</td>\n",
       "      <td>660.40</td>\n",
       "      <td>Friday</td>\n",
       "      <td>12</td>\n",
       "    </tr>\n",
       "    <tr>\n",
       "      <td>3</td>\n",
       "      <td>1000_413</td>\n",
       "      <td>1000</td>\n",
       "      <td>2018-12-26</td>\n",
       "      <td>270.99</td>\n",
       "      <td>Wednesday</td>\n",
       "      <td>12</td>\n",
       "    </tr>\n",
       "    <tr>\n",
       "      <td>4</td>\n",
       "      <td>1000_442</td>\n",
       "      <td>1000</td>\n",
       "      <td>2018-12-27</td>\n",
       "      <td>880.22</td>\n",
       "      <td>Thursday</td>\n",
       "      <td>12</td>\n",
       "    </tr>\n",
       "    <tr>\n",
       "      <td>5</td>\n",
       "      <td>1001_0</td>\n",
       "      <td>1001</td>\n",
       "      <td>2018-08-24</td>\n",
       "      <td>284.68</td>\n",
       "      <td>Friday</td>\n",
       "      <td>8</td>\n",
       "    </tr>\n",
       "    <tr>\n",
       "      <td>...</td>\n",
       "      <td>...</td>\n",
       "      <td>...</td>\n",
       "      <td>...</td>\n",
       "      <td>...</td>\n",
       "      <td>...</td>\n",
       "      <td>...</td>\n",
       "    </tr>\n",
       "    <tr>\n",
       "      <td>104785</td>\n",
       "      <td>1499_180</td>\n",
       "      <td>1499</td>\n",
       "      <td>2018-11-23</td>\n",
       "      <td>378.17</td>\n",
       "      <td>Friday</td>\n",
       "      <td>11</td>\n",
       "    </tr>\n",
       "    <tr>\n",
       "      <td>104786</td>\n",
       "      <td>1499_181</td>\n",
       "      <td>1499</td>\n",
       "      <td>2018-10-13</td>\n",
       "      <td>93.85</td>\n",
       "      <td>Saturday</td>\n",
       "      <td>10</td>\n",
       "    </tr>\n",
       "    <tr>\n",
       "      <td>104787</td>\n",
       "      <td>1499_182</td>\n",
       "      <td>1499</td>\n",
       "      <td>2018-11-09</td>\n",
       "      <td>74.41</td>\n",
       "      <td>Friday</td>\n",
       "      <td>11</td>\n",
       "    </tr>\n",
       "    <tr>\n",
       "      <td>104788</td>\n",
       "      <td>1499_183</td>\n",
       "      <td>1499</td>\n",
       "      <td>2018-11-17</td>\n",
       "      <td>839.66</td>\n",
       "      <td>Saturday</td>\n",
       "      <td>11</td>\n",
       "    </tr>\n",
       "    <tr>\n",
       "      <td>104789</td>\n",
       "      <td>1499_184</td>\n",
       "      <td>1499</td>\n",
       "      <td>2018-12-11</td>\n",
       "      <td>426.28</td>\n",
       "      <td>Tuesday</td>\n",
       "      <td>12</td>\n",
       "    </tr>\n",
       "  </tbody>\n",
       "</table>\n",
       "<p>91048 rows × 6 columns</p>\n",
       "</div>"
      ],
      "text/plain": [
       "              id  user_id session_date  mb_used    weekday  month\n",
       "0        1000_13     1000   2018-12-29    89.86   Saturday     12\n",
       "2       1000_379     1000   2018-12-28   660.40     Friday     12\n",
       "3       1000_413     1000   2018-12-26   270.99  Wednesday     12\n",
       "4       1000_442     1000   2018-12-27   880.22   Thursday     12\n",
       "5         1001_0     1001   2018-08-24   284.68     Friday      8\n",
       "...          ...      ...          ...      ...        ...    ...\n",
       "104785  1499_180     1499   2018-11-23   378.17     Friday     11\n",
       "104786  1499_181     1499   2018-10-13    93.85   Saturday     10\n",
       "104787  1499_182     1499   2018-11-09    74.41     Friday     11\n",
       "104788  1499_183     1499   2018-11-17   839.66   Saturday     11\n",
       "104789  1499_184     1499   2018-12-11   426.28    Tuesday     12\n",
       "\n",
       "[91048 rows x 6 columns]"
      ]
     },
     "execution_count": 35,
     "metadata": {},
     "output_type": "execute_result"
    }
   ],
   "source": [
    "internet['weekday'] = pd.DatetimeIndex(internet['session_date']).day_name()\n",
    "internet['month'] = pd.DatetimeIndex(internet['session_date']).month\n",
    "internet.head(-30)"
   ]
  },
  {
   "cell_type": "markdown",
   "metadata": {},
   "source": [
    "## Study plan conditions"
   ]
  },
  {
   "cell_type": "code",
   "execution_count": 36,
   "metadata": {},
   "outputs": [
    {
     "data": {
      "text/html": [
       "<div>\n",
       "<style scoped>\n",
       "    .dataframe tbody tr th:only-of-type {\n",
       "        vertical-align: middle;\n",
       "    }\n",
       "\n",
       "    .dataframe tbody tr th {\n",
       "        vertical-align: top;\n",
       "    }\n",
       "\n",
       "    .dataframe thead th {\n",
       "        text-align: right;\n",
       "    }\n",
       "</style>\n",
       "<table border=\"1\" class=\"dataframe\">\n",
       "  <thead>\n",
       "    <tr style=\"text-align: right;\">\n",
       "      <th></th>\n",
       "      <th>messages_included</th>\n",
       "      <th>mb_per_month_included</th>\n",
       "      <th>minutes_included</th>\n",
       "      <th>usd_monthly_pay</th>\n",
       "      <th>usd_per_gb</th>\n",
       "      <th>usd_per_message</th>\n",
       "      <th>usd_per_minute</th>\n",
       "      <th>plan_name</th>\n",
       "    </tr>\n",
       "  </thead>\n",
       "  <tbody>\n",
       "    <tr>\n",
       "      <td>0</td>\n",
       "      <td>50</td>\n",
       "      <td>15360</td>\n",
       "      <td>500</td>\n",
       "      <td>20</td>\n",
       "      <td>10</td>\n",
       "      <td>0.03</td>\n",
       "      <td>0.03</td>\n",
       "      <td>surf</td>\n",
       "    </tr>\n",
       "    <tr>\n",
       "      <td>1</td>\n",
       "      <td>1000</td>\n",
       "      <td>30720</td>\n",
       "      <td>3000</td>\n",
       "      <td>70</td>\n",
       "      <td>7</td>\n",
       "      <td>0.01</td>\n",
       "      <td>0.01</td>\n",
       "      <td>ultimate</td>\n",
       "    </tr>\n",
       "  </tbody>\n",
       "</table>\n",
       "</div>"
      ],
      "text/plain": [
       "   messages_included  mb_per_month_included  minutes_included  \\\n",
       "0                 50                  15360               500   \n",
       "1               1000                  30720              3000   \n",
       "\n",
       "   usd_monthly_pay  usd_per_gb  usd_per_message  usd_per_minute plan_name  \n",
       "0               20          10             0.03            0.03      surf  \n",
       "1               70           7             0.01            0.01  ultimate  "
      ]
     },
     "execution_count": 36,
     "metadata": {},
     "output_type": "execute_result"
    }
   ],
   "source": [
    "#Print out the plan conditions and make sure they are clear for you\n",
    "\n",
    "plan.head()"
   ]
  },
  {
   "cell_type": "markdown",
   "metadata": {},
   "source": [
    "Upon cross checking the plan table with project instructions, I see that the plan dataset contains minorly erroneous mb_per_month_included values. They should be corrected to 15000 and 30000 instead."
   ]
  },
  {
   "cell_type": "code",
   "execution_count": 37,
   "metadata": {},
   "outputs": [
    {
     "data": {
      "text/html": [
       "<div>\n",
       "<style scoped>\n",
       "    .dataframe tbody tr th:only-of-type {\n",
       "        vertical-align: middle;\n",
       "    }\n",
       "\n",
       "    .dataframe tbody tr th {\n",
       "        vertical-align: top;\n",
       "    }\n",
       "\n",
       "    .dataframe thead th {\n",
       "        text-align: right;\n",
       "    }\n",
       "</style>\n",
       "<table border=\"1\" class=\"dataframe\">\n",
       "  <thead>\n",
       "    <tr style=\"text-align: right;\">\n",
       "      <th></th>\n",
       "      <th></th>\n",
       "      <th>id</th>\n",
       "      <th>call_date</th>\n",
       "      <th>duration</th>\n",
       "      <th>weekday</th>\n",
       "      <th>duration_percentile</th>\n",
       "    </tr>\n",
       "    <tr>\n",
       "      <th>user_id</th>\n",
       "      <th>month</th>\n",
       "      <th></th>\n",
       "      <th></th>\n",
       "      <th></th>\n",
       "      <th></th>\n",
       "      <th></th>\n",
       "    </tr>\n",
       "  </thead>\n",
       "  <tbody>\n",
       "    <tr>\n",
       "      <td>1000</td>\n",
       "      <td>12</td>\n",
       "      <td>16</td>\n",
       "      <td>16</td>\n",
       "      <td>16</td>\n",
       "      <td>16</td>\n",
       "      <td>16</td>\n",
       "    </tr>\n",
       "    <tr>\n",
       "      <td rowspan=\"5\" valign=\"top\">1001</td>\n",
       "      <td>8</td>\n",
       "      <td>22</td>\n",
       "      <td>22</td>\n",
       "      <td>22</td>\n",
       "      <td>22</td>\n",
       "      <td>22</td>\n",
       "    </tr>\n",
       "    <tr>\n",
       "      <td>9</td>\n",
       "      <td>38</td>\n",
       "      <td>38</td>\n",
       "      <td>38</td>\n",
       "      <td>38</td>\n",
       "      <td>38</td>\n",
       "    </tr>\n",
       "    <tr>\n",
       "      <td>10</td>\n",
       "      <td>47</td>\n",
       "      <td>47</td>\n",
       "      <td>47</td>\n",
       "      <td>47</td>\n",
       "      <td>47</td>\n",
       "    </tr>\n",
       "    <tr>\n",
       "      <td>11</td>\n",
       "      <td>49</td>\n",
       "      <td>49</td>\n",
       "      <td>49</td>\n",
       "      <td>49</td>\n",
       "      <td>49</td>\n",
       "    </tr>\n",
       "    <tr>\n",
       "      <td>12</td>\n",
       "      <td>46</td>\n",
       "      <td>46</td>\n",
       "      <td>46</td>\n",
       "      <td>46</td>\n",
       "      <td>46</td>\n",
       "    </tr>\n",
       "    <tr>\n",
       "      <td rowspan=\"3\" valign=\"top\">1002</td>\n",
       "      <td>10</td>\n",
       "      <td>8</td>\n",
       "      <td>8</td>\n",
       "      <td>8</td>\n",
       "      <td>8</td>\n",
       "      <td>8</td>\n",
       "    </tr>\n",
       "    <tr>\n",
       "      <td>11</td>\n",
       "      <td>48</td>\n",
       "      <td>48</td>\n",
       "      <td>48</td>\n",
       "      <td>48</td>\n",
       "      <td>48</td>\n",
       "    </tr>\n",
       "    <tr>\n",
       "      <td>12</td>\n",
       "      <td>38</td>\n",
       "      <td>38</td>\n",
       "      <td>38</td>\n",
       "      <td>38</td>\n",
       "      <td>38</td>\n",
       "    </tr>\n",
       "    <tr>\n",
       "      <td>1003</td>\n",
       "      <td>12</td>\n",
       "      <td>118</td>\n",
       "      <td>118</td>\n",
       "      <td>118</td>\n",
       "      <td>118</td>\n",
       "      <td>118</td>\n",
       "    </tr>\n",
       "    <tr>\n",
       "      <td rowspan=\"8\" valign=\"top\">1004</td>\n",
       "      <td>5</td>\n",
       "      <td>19</td>\n",
       "      <td>19</td>\n",
       "      <td>19</td>\n",
       "      <td>19</td>\n",
       "      <td>19</td>\n",
       "    </tr>\n",
       "    <tr>\n",
       "      <td>6</td>\n",
       "      <td>33</td>\n",
       "      <td>33</td>\n",
       "      <td>33</td>\n",
       "      <td>33</td>\n",
       "      <td>33</td>\n",
       "    </tr>\n",
       "    <tr>\n",
       "      <td>7</td>\n",
       "      <td>45</td>\n",
       "      <td>45</td>\n",
       "      <td>45</td>\n",
       "      <td>45</td>\n",
       "      <td>45</td>\n",
       "    </tr>\n",
       "    <tr>\n",
       "      <td>8</td>\n",
       "      <td>42</td>\n",
       "      <td>42</td>\n",
       "      <td>42</td>\n",
       "      <td>42</td>\n",
       "      <td>42</td>\n",
       "    </tr>\n",
       "    <tr>\n",
       "      <td>9</td>\n",
       "      <td>32</td>\n",
       "      <td>32</td>\n",
       "      <td>32</td>\n",
       "      <td>32</td>\n",
       "      <td>32</td>\n",
       "    </tr>\n",
       "    <tr>\n",
       "      <td>10</td>\n",
       "      <td>47</td>\n",
       "      <td>47</td>\n",
       "      <td>47</td>\n",
       "      <td>47</td>\n",
       "      <td>47</td>\n",
       "    </tr>\n",
       "    <tr>\n",
       "      <td>11</td>\n",
       "      <td>45</td>\n",
       "      <td>45</td>\n",
       "      <td>45</td>\n",
       "      <td>45</td>\n",
       "      <td>45</td>\n",
       "    </tr>\n",
       "    <tr>\n",
       "      <td>12</td>\n",
       "      <td>43</td>\n",
       "      <td>43</td>\n",
       "      <td>43</td>\n",
       "      <td>43</td>\n",
       "      <td>43</td>\n",
       "    </tr>\n",
       "    <tr>\n",
       "      <td>1005</td>\n",
       "      <td>12</td>\n",
       "      <td>50</td>\n",
       "      <td>50</td>\n",
       "      <td>50</td>\n",
       "      <td>50</td>\n",
       "      <td>50</td>\n",
       "    </tr>\n",
       "    <tr>\n",
       "      <td rowspan=\"2\" valign=\"top\">1006</td>\n",
       "      <td>11</td>\n",
       "      <td>2</td>\n",
       "      <td>2</td>\n",
       "      <td>2</td>\n",
       "      <td>2</td>\n",
       "      <td>2</td>\n",
       "    </tr>\n",
       "    <tr>\n",
       "      <td>12</td>\n",
       "      <td>7</td>\n",
       "      <td>7</td>\n",
       "      <td>7</td>\n",
       "      <td>7</td>\n",
       "      <td>7</td>\n",
       "    </tr>\n",
       "    <tr>\n",
       "      <td rowspan=\"5\" valign=\"top\">1007</td>\n",
       "      <td>8</td>\n",
       "      <td>56</td>\n",
       "      <td>56</td>\n",
       "      <td>56</td>\n",
       "      <td>56</td>\n",
       "      <td>56</td>\n",
       "    </tr>\n",
       "    <tr>\n",
       "      <td>9</td>\n",
       "      <td>49</td>\n",
       "      <td>49</td>\n",
       "      <td>49</td>\n",
       "      <td>49</td>\n",
       "      <td>49</td>\n",
       "    </tr>\n",
       "    <tr>\n",
       "      <td>10</td>\n",
       "      <td>70</td>\n",
       "      <td>70</td>\n",
       "      <td>70</td>\n",
       "      <td>70</td>\n",
       "      <td>70</td>\n",
       "    </tr>\n",
       "    <tr>\n",
       "      <td>11</td>\n",
       "      <td>61</td>\n",
       "      <td>61</td>\n",
       "      <td>61</td>\n",
       "      <td>61</td>\n",
       "      <td>61</td>\n",
       "    </tr>\n",
       "    <tr>\n",
       "      <td>12</td>\n",
       "      <td>71</td>\n",
       "      <td>71</td>\n",
       "      <td>71</td>\n",
       "      <td>71</td>\n",
       "      <td>71</td>\n",
       "    </tr>\n",
       "    <tr>\n",
       "      <td rowspan=\"3\" valign=\"top\">1008</td>\n",
       "      <td>10</td>\n",
       "      <td>54</td>\n",
       "      <td>54</td>\n",
       "      <td>54</td>\n",
       "      <td>54</td>\n",
       "      <td>54</td>\n",
       "    </tr>\n",
       "    <tr>\n",
       "      <td>11</td>\n",
       "      <td>50</td>\n",
       "      <td>50</td>\n",
       "      <td>50</td>\n",
       "      <td>50</td>\n",
       "      <td>50</td>\n",
       "    </tr>\n",
       "    <tr>\n",
       "      <td>12</td>\n",
       "      <td>65</td>\n",
       "      <td>65</td>\n",
       "      <td>65</td>\n",
       "      <td>65</td>\n",
       "      <td>65</td>\n",
       "    </tr>\n",
       "    <tr>\n",
       "      <td>1009</td>\n",
       "      <td>5</td>\n",
       "      <td>61</td>\n",
       "      <td>61</td>\n",
       "      <td>61</td>\n",
       "      <td>61</td>\n",
       "      <td>61</td>\n",
       "    </tr>\n",
       "  </tbody>\n",
       "</table>\n",
       "</div>"
      ],
      "text/plain": [
       "                id  call_date  duration  weekday  duration_percentile\n",
       "user_id month                                                        \n",
       "1000    12      16         16        16       16                   16\n",
       "1001    8       22         22        22       22                   22\n",
       "        9       38         38        38       38                   38\n",
       "        10      47         47        47       47                   47\n",
       "        11      49         49        49       49                   49\n",
       "        12      46         46        46       46                   46\n",
       "1002    10       8          8         8        8                    8\n",
       "        11      48         48        48       48                   48\n",
       "        12      38         38        38       38                   38\n",
       "1003    12     118        118       118      118                  118\n",
       "1004    5       19         19        19       19                   19\n",
       "        6       33         33        33       33                   33\n",
       "        7       45         45        45       45                   45\n",
       "        8       42         42        42       42                   42\n",
       "        9       32         32        32       32                   32\n",
       "        10      47         47        47       47                   47\n",
       "        11      45         45        45       45                   45\n",
       "        12      43         43        43       43                   43\n",
       "1005    12      50         50        50       50                   50\n",
       "1006    11       2          2         2        2                    2\n",
       "        12       7          7         7        7                    7\n",
       "1007    8       56         56        56       56                   56\n",
       "        9       49         49        49       49                   49\n",
       "        10      70         70        70       70                   70\n",
       "        11      61         61        61       61                   61\n",
       "        12      71         71        71       71                   71\n",
       "1008    10      54         54        54       54                   54\n",
       "        11      50         50        50       50                   50\n",
       "        12      65         65        65       65                   65\n",
       "1009    5       61         61        61       61                   61"
      ]
     },
     "execution_count": 37,
     "metadata": {},
     "output_type": "execute_result"
    }
   ],
   "source": [
    "# Calculate the number of calls made by each user per month. Save the result.\n",
    "\n",
    "number_of_call = call.groupby(['user_id','month']).count()\n",
    "\n",
    "# user_call = call.groupby('user_id').count()\n",
    "number_of_call.head(30)"
   ]
  },
  {
   "cell_type": "code",
   "execution_count": 38,
   "metadata": {},
   "outputs": [
    {
     "data": {
      "text/html": [
       "<div>\n",
       "<style scoped>\n",
       "    .dataframe tbody tr th:only-of-type {\n",
       "        vertical-align: middle;\n",
       "    }\n",
       "\n",
       "    .dataframe tbody tr th {\n",
       "        vertical-align: top;\n",
       "    }\n",
       "\n",
       "    .dataframe thead th {\n",
       "        text-align: right;\n",
       "    }\n",
       "</style>\n",
       "<table border=\"1\" class=\"dataframe\">\n",
       "  <thead>\n",
       "    <tr style=\"text-align: right;\">\n",
       "      <th></th>\n",
       "      <th></th>\n",
       "      <th>duration</th>\n",
       "    </tr>\n",
       "    <tr>\n",
       "      <th>user_id</th>\n",
       "      <th>month</th>\n",
       "      <th></th>\n",
       "    </tr>\n",
       "  </thead>\n",
       "  <tbody>\n",
       "    <tr>\n",
       "      <td>1000</td>\n",
       "      <td>12</td>\n",
       "      <td>124.0</td>\n",
       "    </tr>\n",
       "    <tr>\n",
       "      <td rowspan=\"5\" valign=\"top\">1001</td>\n",
       "      <td>8</td>\n",
       "      <td>182.0</td>\n",
       "    </tr>\n",
       "    <tr>\n",
       "      <td>9</td>\n",
       "      <td>315.0</td>\n",
       "    </tr>\n",
       "    <tr>\n",
       "      <td>10</td>\n",
       "      <td>393.0</td>\n",
       "    </tr>\n",
       "    <tr>\n",
       "      <td>11</td>\n",
       "      <td>426.0</td>\n",
       "    </tr>\n",
       "    <tr>\n",
       "      <td>12</td>\n",
       "      <td>412.0</td>\n",
       "    </tr>\n",
       "    <tr>\n",
       "      <td rowspan=\"3\" valign=\"top\">1002</td>\n",
       "      <td>10</td>\n",
       "      <td>59.0</td>\n",
       "    </tr>\n",
       "    <tr>\n",
       "      <td>11</td>\n",
       "      <td>386.0</td>\n",
       "    </tr>\n",
       "    <tr>\n",
       "      <td>12</td>\n",
       "      <td>384.0</td>\n",
       "    </tr>\n",
       "    <tr>\n",
       "      <td>1003</td>\n",
       "      <td>12</td>\n",
       "      <td>1104.0</td>\n",
       "    </tr>\n",
       "    <tr>\n",
       "      <td rowspan=\"8\" valign=\"top\">1004</td>\n",
       "      <td>5</td>\n",
       "      <td>193.0</td>\n",
       "    </tr>\n",
       "    <tr>\n",
       "      <td>6</td>\n",
       "      <td>275.0</td>\n",
       "    </tr>\n",
       "    <tr>\n",
       "      <td>7</td>\n",
       "      <td>381.0</td>\n",
       "    </tr>\n",
       "    <tr>\n",
       "      <td>8</td>\n",
       "      <td>354.0</td>\n",
       "    </tr>\n",
       "    <tr>\n",
       "      <td>9</td>\n",
       "      <td>301.0</td>\n",
       "    </tr>\n",
       "    <tr>\n",
       "      <td>10</td>\n",
       "      <td>365.0</td>\n",
       "    </tr>\n",
       "    <tr>\n",
       "      <td>11</td>\n",
       "      <td>476.0</td>\n",
       "    </tr>\n",
       "    <tr>\n",
       "      <td>12</td>\n",
       "      <td>427.0</td>\n",
       "    </tr>\n",
       "    <tr>\n",
       "      <td>1005</td>\n",
       "      <td>12</td>\n",
       "      <td>496.0</td>\n",
       "    </tr>\n",
       "    <tr>\n",
       "      <td rowspan=\"2\" valign=\"top\">1006</td>\n",
       "      <td>11</td>\n",
       "      <td>10.0</td>\n",
       "    </tr>\n",
       "    <tr>\n",
       "      <td>12</td>\n",
       "      <td>59.0</td>\n",
       "    </tr>\n",
       "    <tr>\n",
       "      <td rowspan=\"5\" valign=\"top\">1007</td>\n",
       "      <td>8</td>\n",
       "      <td>456.0</td>\n",
       "    </tr>\n",
       "    <tr>\n",
       "      <td>9</td>\n",
       "      <td>399.0</td>\n",
       "    </tr>\n",
       "    <tr>\n",
       "      <td>10</td>\n",
       "      <td>645.0</td>\n",
       "    </tr>\n",
       "    <tr>\n",
       "      <td>11</td>\n",
       "      <td>524.0</td>\n",
       "    </tr>\n",
       "    <tr>\n",
       "      <td>12</td>\n",
       "      <td>617.0</td>\n",
       "    </tr>\n",
       "    <tr>\n",
       "      <td rowspan=\"3\" valign=\"top\">1008</td>\n",
       "      <td>10</td>\n",
       "      <td>476.0</td>\n",
       "    </tr>\n",
       "    <tr>\n",
       "      <td>11</td>\n",
       "      <td>446.0</td>\n",
       "    </tr>\n",
       "    <tr>\n",
       "      <td>12</td>\n",
       "      <td>634.0</td>\n",
       "    </tr>\n",
       "    <tr>\n",
       "      <td>1009</td>\n",
       "      <td>5</td>\n",
       "      <td>534.0</td>\n",
       "    </tr>\n",
       "  </tbody>\n",
       "</table>\n",
       "</div>"
      ],
      "text/plain": [
       "               duration\n",
       "user_id month          \n",
       "1000    12        124.0\n",
       "1001    8         182.0\n",
       "        9         315.0\n",
       "        10        393.0\n",
       "        11        426.0\n",
       "        12        412.0\n",
       "1002    10         59.0\n",
       "        11        386.0\n",
       "        12        384.0\n",
       "1003    12       1104.0\n",
       "1004    5         193.0\n",
       "        6         275.0\n",
       "        7         381.0\n",
       "        8         354.0\n",
       "        9         301.0\n",
       "        10        365.0\n",
       "        11        476.0\n",
       "        12        427.0\n",
       "1005    12        496.0\n",
       "1006    11         10.0\n",
       "        12         59.0\n",
       "1007    8         456.0\n",
       "        9         399.0\n",
       "        10        645.0\n",
       "        11        524.0\n",
       "        12        617.0\n",
       "1008    10        476.0\n",
       "        11        446.0\n",
       "        12        634.0\n",
       "1009    5         534.0"
      ]
     },
     "execution_count": 38,
     "metadata": {},
     "output_type": "execute_result"
    }
   ],
   "source": [
    "# Calculate the amount of minutes spent by each user per month. Save the result.\n",
    "\n",
    "amount_of_minutes = call.groupby(['user_id','month']).sum()\n",
    "amount_of_minutes.head(30)"
   ]
  },
  {
   "cell_type": "code",
   "execution_count": 39,
   "metadata": {},
   "outputs": [
    {
     "data": {
      "text/html": [
       "<div>\n",
       "<style scoped>\n",
       "    .dataframe tbody tr th:only-of-type {\n",
       "        vertical-align: middle;\n",
       "    }\n",
       "\n",
       "    .dataframe tbody tr th {\n",
       "        vertical-align: top;\n",
       "    }\n",
       "\n",
       "    .dataframe thead tr th {\n",
       "        text-align: left;\n",
       "    }\n",
       "</style>\n",
       "<table border=\"1\" class=\"dataframe\">\n",
       "  <thead>\n",
       "    <tr>\n",
       "      <th></th>\n",
       "      <th>user_id</th>\n",
       "      <th>month</th>\n",
       "      <th colspan=\"2\" halign=\"left\">duration</th>\n",
       "    </tr>\n",
       "    <tr>\n",
       "      <th></th>\n",
       "      <th></th>\n",
       "      <th></th>\n",
       "      <th>count</th>\n",
       "      <th>sum</th>\n",
       "    </tr>\n",
       "  </thead>\n",
       "  <tbody>\n",
       "    <tr>\n",
       "      <td>0</td>\n",
       "      <td>1000</td>\n",
       "      <td>12</td>\n",
       "      <td>16</td>\n",
       "      <td>124.0</td>\n",
       "    </tr>\n",
       "    <tr>\n",
       "      <td>1</td>\n",
       "      <td>1001</td>\n",
       "      <td>8</td>\n",
       "      <td>22</td>\n",
       "      <td>182.0</td>\n",
       "    </tr>\n",
       "    <tr>\n",
       "      <td>2</td>\n",
       "      <td>1001</td>\n",
       "      <td>9</td>\n",
       "      <td>38</td>\n",
       "      <td>315.0</td>\n",
       "    </tr>\n",
       "    <tr>\n",
       "      <td>3</td>\n",
       "      <td>1001</td>\n",
       "      <td>10</td>\n",
       "      <td>47</td>\n",
       "      <td>393.0</td>\n",
       "    </tr>\n",
       "    <tr>\n",
       "      <td>4</td>\n",
       "      <td>1001</td>\n",
       "      <td>11</td>\n",
       "      <td>49</td>\n",
       "      <td>426.0</td>\n",
       "    </tr>\n",
       "    <tr>\n",
       "      <td>...</td>\n",
       "      <td>...</td>\n",
       "      <td>...</td>\n",
       "      <td>...</td>\n",
       "      <td>...</td>\n",
       "    </tr>\n",
       "    <tr>\n",
       "      <td>2251</td>\n",
       "      <td>1498</td>\n",
       "      <td>12</td>\n",
       "      <td>32</td>\n",
       "      <td>339.0</td>\n",
       "    </tr>\n",
       "    <tr>\n",
       "      <td>2252</td>\n",
       "      <td>1499</td>\n",
       "      <td>9</td>\n",
       "      <td>35</td>\n",
       "      <td>346.0</td>\n",
       "    </tr>\n",
       "    <tr>\n",
       "      <td>2253</td>\n",
       "      <td>1499</td>\n",
       "      <td>10</td>\n",
       "      <td>41</td>\n",
       "      <td>385.0</td>\n",
       "    </tr>\n",
       "    <tr>\n",
       "      <td>2254</td>\n",
       "      <td>1499</td>\n",
       "      <td>11</td>\n",
       "      <td>39</td>\n",
       "      <td>308.0</td>\n",
       "    </tr>\n",
       "    <tr>\n",
       "      <td>2255</td>\n",
       "      <td>1499</td>\n",
       "      <td>12</td>\n",
       "      <td>56</td>\n",
       "      <td>496.0</td>\n",
       "    </tr>\n",
       "  </tbody>\n",
       "</table>\n",
       "<p>2256 rows × 4 columns</p>\n",
       "</div>"
      ],
      "text/plain": [
       "     user_id month duration       \n",
       "                      count    sum\n",
       "0       1000    12       16  124.0\n",
       "1       1001     8       22  182.0\n",
       "2       1001     9       38  315.0\n",
       "3       1001    10       47  393.0\n",
       "4       1001    11       49  426.0\n",
       "...      ...   ...      ...    ...\n",
       "2251    1498    12       32  339.0\n",
       "2252    1499     9       35  346.0\n",
       "2253    1499    10       41  385.0\n",
       "2254    1499    11       39  308.0\n",
       "2255    1499    12       56  496.0\n",
       "\n",
       "[2256 rows x 4 columns]"
      ]
     },
     "execution_count": 39,
     "metadata": {},
     "output_type": "execute_result"
    }
   ],
   "source": [
    "call.groupby(['user_id','month']).agg({'duration' : ('count','sum')}).reset_index()"
   ]
  },
  {
   "cell_type": "code",
   "execution_count": 40,
   "metadata": {},
   "outputs": [
    {
     "data": {
      "text/html": [
       "<div>\n",
       "<style scoped>\n",
       "    .dataframe tbody tr th:only-of-type {\n",
       "        vertical-align: middle;\n",
       "    }\n",
       "\n",
       "    .dataframe tbody tr th {\n",
       "        vertical-align: top;\n",
       "    }\n",
       "\n",
       "    .dataframe thead th {\n",
       "        text-align: right;\n",
       "    }\n",
       "</style>\n",
       "<table border=\"1\" class=\"dataframe\">\n",
       "  <thead>\n",
       "    <tr style=\"text-align: right;\">\n",
       "      <th></th>\n",
       "      <th></th>\n",
       "      <th>id</th>\n",
       "      <th>message_date</th>\n",
       "      <th>weekday</th>\n",
       "    </tr>\n",
       "    <tr>\n",
       "      <th>user_id</th>\n",
       "      <th>month</th>\n",
       "      <th></th>\n",
       "      <th></th>\n",
       "      <th></th>\n",
       "    </tr>\n",
       "  </thead>\n",
       "  <tbody>\n",
       "    <tr>\n",
       "      <td>1000</td>\n",
       "      <td>12</td>\n",
       "      <td>11</td>\n",
       "      <td>11</td>\n",
       "      <td>11</td>\n",
       "    </tr>\n",
       "    <tr>\n",
       "      <td rowspan=\"5\" valign=\"top\">1001</td>\n",
       "      <td>8</td>\n",
       "      <td>30</td>\n",
       "      <td>30</td>\n",
       "      <td>30</td>\n",
       "    </tr>\n",
       "    <tr>\n",
       "      <td>9</td>\n",
       "      <td>44</td>\n",
       "      <td>44</td>\n",
       "      <td>44</td>\n",
       "    </tr>\n",
       "    <tr>\n",
       "      <td>10</td>\n",
       "      <td>53</td>\n",
       "      <td>53</td>\n",
       "      <td>53</td>\n",
       "    </tr>\n",
       "    <tr>\n",
       "      <td>11</td>\n",
       "      <td>36</td>\n",
       "      <td>36</td>\n",
       "      <td>36</td>\n",
       "    </tr>\n",
       "    <tr>\n",
       "      <td>12</td>\n",
       "      <td>44</td>\n",
       "      <td>44</td>\n",
       "      <td>44</td>\n",
       "    </tr>\n",
       "    <tr>\n",
       "      <td rowspan=\"3\" valign=\"top\">1002</td>\n",
       "      <td>10</td>\n",
       "      <td>15</td>\n",
       "      <td>15</td>\n",
       "      <td>15</td>\n",
       "    </tr>\n",
       "    <tr>\n",
       "      <td>11</td>\n",
       "      <td>32</td>\n",
       "      <td>32</td>\n",
       "      <td>32</td>\n",
       "    </tr>\n",
       "    <tr>\n",
       "      <td>12</td>\n",
       "      <td>41</td>\n",
       "      <td>41</td>\n",
       "      <td>41</td>\n",
       "    </tr>\n",
       "    <tr>\n",
       "      <td>1003</td>\n",
       "      <td>12</td>\n",
       "      <td>50</td>\n",
       "      <td>50</td>\n",
       "      <td>50</td>\n",
       "    </tr>\n",
       "    <tr>\n",
       "      <td rowspan=\"8\" valign=\"top\">1004</td>\n",
       "      <td>5</td>\n",
       "      <td>7</td>\n",
       "      <td>7</td>\n",
       "      <td>7</td>\n",
       "    </tr>\n",
       "    <tr>\n",
       "      <td>6</td>\n",
       "      <td>18</td>\n",
       "      <td>18</td>\n",
       "      <td>18</td>\n",
       "    </tr>\n",
       "    <tr>\n",
       "      <td>7</td>\n",
       "      <td>26</td>\n",
       "      <td>26</td>\n",
       "      <td>26</td>\n",
       "    </tr>\n",
       "    <tr>\n",
       "      <td>8</td>\n",
       "      <td>25</td>\n",
       "      <td>25</td>\n",
       "      <td>25</td>\n",
       "    </tr>\n",
       "    <tr>\n",
       "      <td>9</td>\n",
       "      <td>21</td>\n",
       "      <td>21</td>\n",
       "      <td>21</td>\n",
       "    </tr>\n",
       "    <tr>\n",
       "      <td>10</td>\n",
       "      <td>24</td>\n",
       "      <td>24</td>\n",
       "      <td>24</td>\n",
       "    </tr>\n",
       "    <tr>\n",
       "      <td>11</td>\n",
       "      <td>25</td>\n",
       "      <td>25</td>\n",
       "      <td>25</td>\n",
       "    </tr>\n",
       "    <tr>\n",
       "      <td>12</td>\n",
       "      <td>31</td>\n",
       "      <td>31</td>\n",
       "      <td>31</td>\n",
       "    </tr>\n",
       "    <tr>\n",
       "      <td>1005</td>\n",
       "      <td>12</td>\n",
       "      <td>11</td>\n",
       "      <td>11</td>\n",
       "      <td>11</td>\n",
       "    </tr>\n",
       "    <tr>\n",
       "      <td rowspan=\"2\" valign=\"top\">1006</td>\n",
       "      <td>11</td>\n",
       "      <td>15</td>\n",
       "      <td>15</td>\n",
       "      <td>15</td>\n",
       "    </tr>\n",
       "    <tr>\n",
       "      <td>12</td>\n",
       "      <td>139</td>\n",
       "      <td>139</td>\n",
       "      <td>139</td>\n",
       "    </tr>\n",
       "    <tr>\n",
       "      <td rowspan=\"5\" valign=\"top\">1007</td>\n",
       "      <td>8</td>\n",
       "      <td>51</td>\n",
       "      <td>51</td>\n",
       "      <td>51</td>\n",
       "    </tr>\n",
       "    <tr>\n",
       "      <td>9</td>\n",
       "      <td>47</td>\n",
       "      <td>47</td>\n",
       "      <td>47</td>\n",
       "    </tr>\n",
       "    <tr>\n",
       "      <td>10</td>\n",
       "      <td>59</td>\n",
       "      <td>59</td>\n",
       "      <td>59</td>\n",
       "    </tr>\n",
       "    <tr>\n",
       "      <td>11</td>\n",
       "      <td>48</td>\n",
       "      <td>48</td>\n",
       "      <td>48</td>\n",
       "    </tr>\n",
       "    <tr>\n",
       "      <td>12</td>\n",
       "      <td>50</td>\n",
       "      <td>50</td>\n",
       "      <td>50</td>\n",
       "    </tr>\n",
       "    <tr>\n",
       "      <td rowspan=\"3\" valign=\"top\">1008</td>\n",
       "      <td>10</td>\n",
       "      <td>21</td>\n",
       "      <td>21</td>\n",
       "      <td>21</td>\n",
       "    </tr>\n",
       "    <tr>\n",
       "      <td>11</td>\n",
       "      <td>37</td>\n",
       "      <td>37</td>\n",
       "      <td>37</td>\n",
       "    </tr>\n",
       "    <tr>\n",
       "      <td>12</td>\n",
       "      <td>26</td>\n",
       "      <td>26</td>\n",
       "      <td>26</td>\n",
       "    </tr>\n",
       "    <tr>\n",
       "      <td>1011</td>\n",
       "      <td>6</td>\n",
       "      <td>21</td>\n",
       "      <td>21</td>\n",
       "      <td>21</td>\n",
       "    </tr>\n",
       "  </tbody>\n",
       "</table>\n",
       "</div>"
      ],
      "text/plain": [
       "                id  message_date  weekday\n",
       "user_id month                            \n",
       "1000    12      11            11       11\n",
       "1001    8       30            30       30\n",
       "        9       44            44       44\n",
       "        10      53            53       53\n",
       "        11      36            36       36\n",
       "        12      44            44       44\n",
       "1002    10      15            15       15\n",
       "        11      32            32       32\n",
       "        12      41            41       41\n",
       "1003    12      50            50       50\n",
       "1004    5        7             7        7\n",
       "        6       18            18       18\n",
       "        7       26            26       26\n",
       "        8       25            25       25\n",
       "        9       21            21       21\n",
       "        10      24            24       24\n",
       "        11      25            25       25\n",
       "        12      31            31       31\n",
       "1005    12      11            11       11\n",
       "1006    11      15            15       15\n",
       "        12     139           139      139\n",
       "1007    8       51            51       51\n",
       "        9       47            47       47\n",
       "        10      59            59       59\n",
       "        11      48            48       48\n",
       "        12      50            50       50\n",
       "1008    10      21            21       21\n",
       "        11      37            37       37\n",
       "        12      26            26       26\n",
       "1011    6       21            21       21"
      ]
     },
     "execution_count": 40,
     "metadata": {},
     "output_type": "execute_result"
    }
   ],
   "source": [
    "# Calculate the number of messages sent by each user per month. Save the result.\n",
    "\n",
    "number_of_messages = message.groupby(['user_id','month']).count()\n",
    "number_of_messages.head(30)\n"
   ]
  },
  {
   "cell_type": "code",
   "execution_count": 41,
   "metadata": {},
   "outputs": [
    {
     "data": {
      "text/html": [
       "<div>\n",
       "<style scoped>\n",
       "    .dataframe tbody tr th:only-of-type {\n",
       "        vertical-align: middle;\n",
       "    }\n",
       "\n",
       "    .dataframe tbody tr th {\n",
       "        vertical-align: top;\n",
       "    }\n",
       "\n",
       "    .dataframe thead th {\n",
       "        text-align: right;\n",
       "    }\n",
       "</style>\n",
       "<table border=\"1\" class=\"dataframe\">\n",
       "  <thead>\n",
       "    <tr style=\"text-align: right;\">\n",
       "      <th></th>\n",
       "      <th></th>\n",
       "      <th>mb_used</th>\n",
       "    </tr>\n",
       "    <tr>\n",
       "      <th>user_id</th>\n",
       "      <th>month</th>\n",
       "      <th></th>\n",
       "    </tr>\n",
       "  </thead>\n",
       "  <tbody>\n",
       "    <tr>\n",
       "      <td>1000</td>\n",
       "      <td>12</td>\n",
       "      <td>1901.47</td>\n",
       "    </tr>\n",
       "    <tr>\n",
       "      <td rowspan=\"5\" valign=\"top\">1001</td>\n",
       "      <td>8</td>\n",
       "      <td>6919.15</td>\n",
       "    </tr>\n",
       "    <tr>\n",
       "      <td>9</td>\n",
       "      <td>13314.82</td>\n",
       "    </tr>\n",
       "    <tr>\n",
       "      <td>10</td>\n",
       "      <td>22330.49</td>\n",
       "    </tr>\n",
       "    <tr>\n",
       "      <td>11</td>\n",
       "      <td>18504.30</td>\n",
       "    </tr>\n",
       "    <tr>\n",
       "      <td>12</td>\n",
       "      <td>19369.18</td>\n",
       "    </tr>\n",
       "    <tr>\n",
       "      <td rowspan=\"3\" valign=\"top\">1002</td>\n",
       "      <td>10</td>\n",
       "      <td>6552.01</td>\n",
       "    </tr>\n",
       "    <tr>\n",
       "      <td>11</td>\n",
       "      <td>19345.08</td>\n",
       "    </tr>\n",
       "    <tr>\n",
       "      <td>12</td>\n",
       "      <td>14396.24</td>\n",
       "    </tr>\n",
       "    <tr>\n",
       "      <td>1003</td>\n",
       "      <td>12</td>\n",
       "      <td>27044.14</td>\n",
       "    </tr>\n",
       "    <tr>\n",
       "      <td rowspan=\"8\" valign=\"top\">1004</td>\n",
       "      <td>5</td>\n",
       "      <td>6547.21</td>\n",
       "    </tr>\n",
       "    <tr>\n",
       "      <td>6</td>\n",
       "      <td>20672.82</td>\n",
       "    </tr>\n",
       "    <tr>\n",
       "      <td>7</td>\n",
       "      <td>24516.62</td>\n",
       "    </tr>\n",
       "    <tr>\n",
       "      <td>8</td>\n",
       "      <td>27981.74</td>\n",
       "    </tr>\n",
       "    <tr>\n",
       "      <td>9</td>\n",
       "      <td>18852.72</td>\n",
       "    </tr>\n",
       "    <tr>\n",
       "      <td>10</td>\n",
       "      <td>14541.63</td>\n",
       "    </tr>\n",
       "    <tr>\n",
       "      <td>11</td>\n",
       "      <td>21850.78</td>\n",
       "    </tr>\n",
       "    <tr>\n",
       "      <td>12</td>\n",
       "      <td>21389.29</td>\n",
       "    </tr>\n",
       "    <tr>\n",
       "      <td>1005</td>\n",
       "      <td>12</td>\n",
       "      <td>17140.17</td>\n",
       "    </tr>\n",
       "    <tr>\n",
       "      <td rowspan=\"2\" valign=\"top\">1006</td>\n",
       "      <td>11</td>\n",
       "      <td>2068.37</td>\n",
       "    </tr>\n",
       "    <tr>\n",
       "      <td>12</td>\n",
       "      <td>32118.82</td>\n",
       "    </tr>\n",
       "    <tr>\n",
       "      <td rowspan=\"5\" valign=\"top\">1007</td>\n",
       "      <td>8</td>\n",
       "      <td>24439.88</td>\n",
       "    </tr>\n",
       "    <tr>\n",
       "      <td>9</td>\n",
       "      <td>28123.95</td>\n",
       "    </tr>\n",
       "    <tr>\n",
       "      <td>10</td>\n",
       "      <td>37885.63</td>\n",
       "    </tr>\n",
       "    <tr>\n",
       "      <td>11</td>\n",
       "      <td>24334.00</td>\n",
       "    </tr>\n",
       "    <tr>\n",
       "      <td>12</td>\n",
       "      <td>29069.28</td>\n",
       "    </tr>\n",
       "    <tr>\n",
       "      <td rowspan=\"3\" valign=\"top\">1008</td>\n",
       "      <td>10</td>\n",
       "      <td>17106.99</td>\n",
       "    </tr>\n",
       "    <tr>\n",
       "      <td>11</td>\n",
       "      <td>23676.72</td>\n",
       "    </tr>\n",
       "    <tr>\n",
       "      <td>12</td>\n",
       "      <td>14689.33</td>\n",
       "    </tr>\n",
       "    <tr>\n",
       "      <td>1009</td>\n",
       "      <td>5</td>\n",
       "      <td>20389.40</td>\n",
       "    </tr>\n",
       "  </tbody>\n",
       "</table>\n",
       "</div>"
      ],
      "text/plain": [
       "                mb_used\n",
       "user_id month          \n",
       "1000    12      1901.47\n",
       "1001    8       6919.15\n",
       "        9      13314.82\n",
       "        10     22330.49\n",
       "        11     18504.30\n",
       "        12     19369.18\n",
       "1002    10      6552.01\n",
       "        11     19345.08\n",
       "        12     14396.24\n",
       "1003    12     27044.14\n",
       "1004    5       6547.21\n",
       "        6      20672.82\n",
       "        7      24516.62\n",
       "        8      27981.74\n",
       "        9      18852.72\n",
       "        10     14541.63\n",
       "        11     21850.78\n",
       "        12     21389.29\n",
       "1005    12     17140.17\n",
       "1006    11      2068.37\n",
       "        12     32118.82\n",
       "1007    8      24439.88\n",
       "        9      28123.95\n",
       "        10     37885.63\n",
       "        11     24334.00\n",
       "        12     29069.28\n",
       "1008    10     17106.99\n",
       "        11     23676.72\n",
       "        12     14689.33\n",
       "1009    5      20389.40"
      ]
     },
     "execution_count": 41,
     "metadata": {},
     "output_type": "execute_result"
    }
   ],
   "source": [
    "# Calculate the volume of internet traffic used by each user per month. Save the result.\n",
    "\n",
    "volume_of_internet = internet.groupby(['user_id','month']).sum()\n",
    "volume_of_internet.head(30)"
   ]
  },
  {
   "cell_type": "markdown",
   "metadata": {},
   "source": [
    "The next step is to put the aggregate data together into one DataFrame so that one record in it would represent what an unique user consumed in a given month."
   ]
  },
  {
   "cell_type": "markdown",
   "metadata": {},
   "source": [
    "For web traffic, individual web sessions are not rounded up. Instead, the total for the month is rounded up. If someone uses 1025 megabytes this month, they will be charged for 2 gigabytes."
   ]
  },
  {
   "cell_type": "code",
   "execution_count": 42,
   "metadata": {},
   "outputs": [
    {
     "data": {
      "text/html": [
       "<div>\n",
       "<style scoped>\n",
       "    .dataframe tbody tr th:only-of-type {\n",
       "        vertical-align: middle;\n",
       "    }\n",
       "\n",
       "    .dataframe tbody tr th {\n",
       "        vertical-align: top;\n",
       "    }\n",
       "\n",
       "    .dataframe thead th {\n",
       "        text-align: right;\n",
       "    }\n",
       "</style>\n",
       "<table border=\"1\" class=\"dataframe\">\n",
       "  <thead>\n",
       "    <tr style=\"text-align: right;\">\n",
       "      <th></th>\n",
       "      <th></th>\n",
       "      <th>call_date</th>\n",
       "      <th>duration</th>\n",
       "      <th>message_date</th>\n",
       "      <th>mb_used</th>\n",
       "    </tr>\n",
       "    <tr>\n",
       "      <th>user_id</th>\n",
       "      <th>month</th>\n",
       "      <th></th>\n",
       "      <th></th>\n",
       "      <th></th>\n",
       "      <th></th>\n",
       "    </tr>\n",
       "  </thead>\n",
       "  <tbody>\n",
       "    <tr>\n",
       "      <td>1000</td>\n",
       "      <td>12</td>\n",
       "      <td>16.0</td>\n",
       "      <td>124.0</td>\n",
       "      <td>11.0</td>\n",
       "      <td>1901.47</td>\n",
       "    </tr>\n",
       "    <tr>\n",
       "      <td rowspan=\"5\" valign=\"top\">1001</td>\n",
       "      <td>8</td>\n",
       "      <td>22.0</td>\n",
       "      <td>182.0</td>\n",
       "      <td>30.0</td>\n",
       "      <td>6919.15</td>\n",
       "    </tr>\n",
       "    <tr>\n",
       "      <td>9</td>\n",
       "      <td>38.0</td>\n",
       "      <td>315.0</td>\n",
       "      <td>44.0</td>\n",
       "      <td>13314.82</td>\n",
       "    </tr>\n",
       "    <tr>\n",
       "      <td>10</td>\n",
       "      <td>47.0</td>\n",
       "      <td>393.0</td>\n",
       "      <td>53.0</td>\n",
       "      <td>22330.49</td>\n",
       "    </tr>\n",
       "    <tr>\n",
       "      <td>11</td>\n",
       "      <td>49.0</td>\n",
       "      <td>426.0</td>\n",
       "      <td>36.0</td>\n",
       "      <td>18504.30</td>\n",
       "    </tr>\n",
       "    <tr>\n",
       "      <td>12</td>\n",
       "      <td>46.0</td>\n",
       "      <td>412.0</td>\n",
       "      <td>44.0</td>\n",
       "      <td>19369.18</td>\n",
       "    </tr>\n",
       "    <tr>\n",
       "      <td rowspan=\"3\" valign=\"top\">1002</td>\n",
       "      <td>10</td>\n",
       "      <td>8.0</td>\n",
       "      <td>59.0</td>\n",
       "      <td>15.0</td>\n",
       "      <td>6552.01</td>\n",
       "    </tr>\n",
       "    <tr>\n",
       "      <td>11</td>\n",
       "      <td>48.0</td>\n",
       "      <td>386.0</td>\n",
       "      <td>32.0</td>\n",
       "      <td>19345.08</td>\n",
       "    </tr>\n",
       "    <tr>\n",
       "      <td>12</td>\n",
       "      <td>38.0</td>\n",
       "      <td>384.0</td>\n",
       "      <td>41.0</td>\n",
       "      <td>14396.24</td>\n",
       "    </tr>\n",
       "    <tr>\n",
       "      <td>1003</td>\n",
       "      <td>12</td>\n",
       "      <td>118.0</td>\n",
       "      <td>1104.0</td>\n",
       "      <td>50.0</td>\n",
       "      <td>27044.14</td>\n",
       "    </tr>\n",
       "    <tr>\n",
       "      <td rowspan=\"8\" valign=\"top\">1004</td>\n",
       "      <td>5</td>\n",
       "      <td>19.0</td>\n",
       "      <td>193.0</td>\n",
       "      <td>7.0</td>\n",
       "      <td>6547.21</td>\n",
       "    </tr>\n",
       "    <tr>\n",
       "      <td>6</td>\n",
       "      <td>33.0</td>\n",
       "      <td>275.0</td>\n",
       "      <td>18.0</td>\n",
       "      <td>20672.82</td>\n",
       "    </tr>\n",
       "    <tr>\n",
       "      <td>7</td>\n",
       "      <td>45.0</td>\n",
       "      <td>381.0</td>\n",
       "      <td>26.0</td>\n",
       "      <td>24516.62</td>\n",
       "    </tr>\n",
       "    <tr>\n",
       "      <td>8</td>\n",
       "      <td>42.0</td>\n",
       "      <td>354.0</td>\n",
       "      <td>25.0</td>\n",
       "      <td>27981.74</td>\n",
       "    </tr>\n",
       "    <tr>\n",
       "      <td>9</td>\n",
       "      <td>32.0</td>\n",
       "      <td>301.0</td>\n",
       "      <td>21.0</td>\n",
       "      <td>18852.72</td>\n",
       "    </tr>\n",
       "    <tr>\n",
       "      <td>10</td>\n",
       "      <td>47.0</td>\n",
       "      <td>365.0</td>\n",
       "      <td>24.0</td>\n",
       "      <td>14541.63</td>\n",
       "    </tr>\n",
       "    <tr>\n",
       "      <td>11</td>\n",
       "      <td>45.0</td>\n",
       "      <td>476.0</td>\n",
       "      <td>25.0</td>\n",
       "      <td>21850.78</td>\n",
       "    </tr>\n",
       "    <tr>\n",
       "      <td>12</td>\n",
       "      <td>43.0</td>\n",
       "      <td>427.0</td>\n",
       "      <td>31.0</td>\n",
       "      <td>21389.29</td>\n",
       "    </tr>\n",
       "    <tr>\n",
       "      <td>1005</td>\n",
       "      <td>12</td>\n",
       "      <td>50.0</td>\n",
       "      <td>496.0</td>\n",
       "      <td>11.0</td>\n",
       "      <td>17140.17</td>\n",
       "    </tr>\n",
       "    <tr>\n",
       "      <td>1006</td>\n",
       "      <td>11</td>\n",
       "      <td>2.0</td>\n",
       "      <td>10.0</td>\n",
       "      <td>15.0</td>\n",
       "      <td>2068.37</td>\n",
       "    </tr>\n",
       "  </tbody>\n",
       "</table>\n",
       "</div>"
      ],
      "text/plain": [
       "               call_date  duration  message_date   mb_used\n",
       "user_id month                                             \n",
       "1000    12          16.0     124.0          11.0   1901.47\n",
       "1001    8           22.0     182.0          30.0   6919.15\n",
       "        9           38.0     315.0          44.0  13314.82\n",
       "        10          47.0     393.0          53.0  22330.49\n",
       "        11          49.0     426.0          36.0  18504.30\n",
       "        12          46.0     412.0          44.0  19369.18\n",
       "1002    10           8.0      59.0          15.0   6552.01\n",
       "        11          48.0     386.0          32.0  19345.08\n",
       "        12          38.0     384.0          41.0  14396.24\n",
       "1003    12         118.0    1104.0          50.0  27044.14\n",
       "1004    5           19.0     193.0           7.0   6547.21\n",
       "        6           33.0     275.0          18.0  20672.82\n",
       "        7           45.0     381.0          26.0  24516.62\n",
       "        8           42.0     354.0          25.0  27981.74\n",
       "        9           32.0     301.0          21.0  18852.72\n",
       "        10          47.0     365.0          24.0  14541.63\n",
       "        11          45.0     476.0          25.0  21850.78\n",
       "        12          43.0     427.0          31.0  21389.29\n",
       "1005    12          50.0     496.0          11.0  17140.17\n",
       "1006    11           2.0      10.0          15.0   2068.37"
      ]
     },
     "execution_count": 42,
     "metadata": {},
     "output_type": "execute_result"
    }
   ],
   "source": [
    "# Merge the data for calls, minutes, messages, internet based on user_id and month\n",
    "# result1 = pd.merge(number_of_call,\n",
    "#                  amount_of_minutes,\n",
    "#                  on='user_id', \n",
    "#                  how='outer', \n",
    "#                  indicator=True)\n",
    "\n",
    "# result1 = result1[result1._merge == \"both\"]\n",
    "# result1['_merge'].value_counts()\n",
    "\n",
    "\n",
    "df = pd.concat([number_of_call['call_date'],amount_of_minutes['duration'],number_of_messages['message_date'],volume_of_internet], axis=1)\n",
    "df.head(20)\n"
   ]
  },
  {
   "cell_type": "code",
   "execution_count": 43,
   "metadata": {},
   "outputs": [],
   "source": [
    "df = df.reset_index()"
   ]
  },
  {
   "cell_type": "code",
   "execution_count": 44,
   "metadata": {},
   "outputs": [
    {
     "data": {
      "text/html": [
       "<div>\n",
       "<style scoped>\n",
       "    .dataframe tbody tr th:only-of-type {\n",
       "        vertical-align: middle;\n",
       "    }\n",
       "\n",
       "    .dataframe tbody tr th {\n",
       "        vertical-align: top;\n",
       "    }\n",
       "\n",
       "    .dataframe thead th {\n",
       "        text-align: right;\n",
       "    }\n",
       "</style>\n",
       "<table border=\"1\" class=\"dataframe\">\n",
       "  <thead>\n",
       "    <tr style=\"text-align: right;\">\n",
       "      <th></th>\n",
       "      <th>user_id</th>\n",
       "      <th>month</th>\n",
       "      <th>number_of_call</th>\n",
       "      <th>amount_of_minutes</th>\n",
       "      <th>number_of_messages</th>\n",
       "      <th>volume_of_internet</th>\n",
       "      <th>first_name</th>\n",
       "      <th>last_name</th>\n",
       "      <th>age</th>\n",
       "      <th>city</th>\n",
       "      <th>reg_date</th>\n",
       "      <th>plan</th>\n",
       "      <th>state</th>\n",
       "    </tr>\n",
       "  </thead>\n",
       "  <tbody>\n",
       "    <tr>\n",
       "      <td>0</td>\n",
       "      <td>1000</td>\n",
       "      <td>12</td>\n",
       "      <td>16.0</td>\n",
       "      <td>124.0</td>\n",
       "      <td>11.0</td>\n",
       "      <td>1901.47</td>\n",
       "      <td>Anamaria</td>\n",
       "      <td>Bauer</td>\n",
       "      <td>45</td>\n",
       "      <td>Atlanta-Sandy Springs-Roswell</td>\n",
       "      <td>2018-12-24</td>\n",
       "      <td>ultimate</td>\n",
       "      <td>GA</td>\n",
       "    </tr>\n",
       "    <tr>\n",
       "      <td>1</td>\n",
       "      <td>1001</td>\n",
       "      <td>8</td>\n",
       "      <td>22.0</td>\n",
       "      <td>182.0</td>\n",
       "      <td>30.0</td>\n",
       "      <td>6919.15</td>\n",
       "      <td>Mickey</td>\n",
       "      <td>Wilkerson</td>\n",
       "      <td>28</td>\n",
       "      <td>Seattle-Tacoma-Bellevue</td>\n",
       "      <td>2018-08-13</td>\n",
       "      <td>surf</td>\n",
       "      <td>WA</td>\n",
       "    </tr>\n",
       "    <tr>\n",
       "      <td>2</td>\n",
       "      <td>1001</td>\n",
       "      <td>9</td>\n",
       "      <td>38.0</td>\n",
       "      <td>315.0</td>\n",
       "      <td>44.0</td>\n",
       "      <td>13314.82</td>\n",
       "      <td>Mickey</td>\n",
       "      <td>Wilkerson</td>\n",
       "      <td>28</td>\n",
       "      <td>Seattle-Tacoma-Bellevue</td>\n",
       "      <td>2018-08-13</td>\n",
       "      <td>surf</td>\n",
       "      <td>WA</td>\n",
       "    </tr>\n",
       "    <tr>\n",
       "      <td>3</td>\n",
       "      <td>1001</td>\n",
       "      <td>10</td>\n",
       "      <td>47.0</td>\n",
       "      <td>393.0</td>\n",
       "      <td>53.0</td>\n",
       "      <td>22330.49</td>\n",
       "      <td>Mickey</td>\n",
       "      <td>Wilkerson</td>\n",
       "      <td>28</td>\n",
       "      <td>Seattle-Tacoma-Bellevue</td>\n",
       "      <td>2018-08-13</td>\n",
       "      <td>surf</td>\n",
       "      <td>WA</td>\n",
       "    </tr>\n",
       "    <tr>\n",
       "      <td>4</td>\n",
       "      <td>1001</td>\n",
       "      <td>11</td>\n",
       "      <td>49.0</td>\n",
       "      <td>426.0</td>\n",
       "      <td>36.0</td>\n",
       "      <td>18504.30</td>\n",
       "      <td>Mickey</td>\n",
       "      <td>Wilkerson</td>\n",
       "      <td>28</td>\n",
       "      <td>Seattle-Tacoma-Bellevue</td>\n",
       "      <td>2018-08-13</td>\n",
       "      <td>surf</td>\n",
       "      <td>WA</td>\n",
       "    </tr>\n",
       "    <tr>\n",
       "      <td>...</td>\n",
       "      <td>...</td>\n",
       "      <td>...</td>\n",
       "      <td>...</td>\n",
       "      <td>...</td>\n",
       "      <td>...</td>\n",
       "      <td>...</td>\n",
       "      <td>...</td>\n",
       "      <td>...</td>\n",
       "      <td>...</td>\n",
       "      <td>...</td>\n",
       "      <td>...</td>\n",
       "      <td>...</td>\n",
       "      <td>...</td>\n",
       "    </tr>\n",
       "    <tr>\n",
       "      <td>2288</td>\n",
       "      <td>1498</td>\n",
       "      <td>12</td>\n",
       "      <td>32.0</td>\n",
       "      <td>339.0</td>\n",
       "      <td>NaN</td>\n",
       "      <td>23137.69</td>\n",
       "      <td>Scot</td>\n",
       "      <td>Williamson</td>\n",
       "      <td>51</td>\n",
       "      <td>New York-Newark-Jersey City</td>\n",
       "      <td>2018-02-04</td>\n",
       "      <td>surf</td>\n",
       "      <td>NY-NJ-PA</td>\n",
       "    </tr>\n",
       "    <tr>\n",
       "      <td>2289</td>\n",
       "      <td>1499</td>\n",
       "      <td>9</td>\n",
       "      <td>35.0</td>\n",
       "      <td>346.0</td>\n",
       "      <td>NaN</td>\n",
       "      <td>12984.76</td>\n",
       "      <td>Shena</td>\n",
       "      <td>Dickson</td>\n",
       "      <td>37</td>\n",
       "      <td>Orlando-Kissimmee-Sanford</td>\n",
       "      <td>2018-05-06</td>\n",
       "      <td>surf</td>\n",
       "      <td>FL</td>\n",
       "    </tr>\n",
       "    <tr>\n",
       "      <td>2290</td>\n",
       "      <td>1499</td>\n",
       "      <td>10</td>\n",
       "      <td>41.0</td>\n",
       "      <td>385.0</td>\n",
       "      <td>NaN</td>\n",
       "      <td>19492.43</td>\n",
       "      <td>Shena</td>\n",
       "      <td>Dickson</td>\n",
       "      <td>37</td>\n",
       "      <td>Orlando-Kissimmee-Sanford</td>\n",
       "      <td>2018-05-06</td>\n",
       "      <td>surf</td>\n",
       "      <td>FL</td>\n",
       "    </tr>\n",
       "    <tr>\n",
       "      <td>2291</td>\n",
       "      <td>1499</td>\n",
       "      <td>11</td>\n",
       "      <td>39.0</td>\n",
       "      <td>308.0</td>\n",
       "      <td>NaN</td>\n",
       "      <td>16813.83</td>\n",
       "      <td>Shena</td>\n",
       "      <td>Dickson</td>\n",
       "      <td>37</td>\n",
       "      <td>Orlando-Kissimmee-Sanford</td>\n",
       "      <td>2018-05-06</td>\n",
       "      <td>surf</td>\n",
       "      <td>FL</td>\n",
       "    </tr>\n",
       "    <tr>\n",
       "      <td>2292</td>\n",
       "      <td>1499</td>\n",
       "      <td>12</td>\n",
       "      <td>56.0</td>\n",
       "      <td>496.0</td>\n",
       "      <td>NaN</td>\n",
       "      <td>22059.21</td>\n",
       "      <td>Shena</td>\n",
       "      <td>Dickson</td>\n",
       "      <td>37</td>\n",
       "      <td>Orlando-Kissimmee-Sanford</td>\n",
       "      <td>2018-05-06</td>\n",
       "      <td>surf</td>\n",
       "      <td>FL</td>\n",
       "    </tr>\n",
       "  </tbody>\n",
       "</table>\n",
       "<p>2293 rows × 13 columns</p>\n",
       "</div>"
      ],
      "text/plain": [
       "      user_id  month  number_of_call  amount_of_minutes  number_of_messages  \\\n",
       "0        1000     12            16.0              124.0                11.0   \n",
       "1        1001      8            22.0              182.0                30.0   \n",
       "2        1001      9            38.0              315.0                44.0   \n",
       "3        1001     10            47.0              393.0                53.0   \n",
       "4        1001     11            49.0              426.0                36.0   \n",
       "...       ...    ...             ...                ...                 ...   \n",
       "2288     1498     12            32.0              339.0                 NaN   \n",
       "2289     1499      9            35.0              346.0                 NaN   \n",
       "2290     1499     10            41.0              385.0                 NaN   \n",
       "2291     1499     11            39.0              308.0                 NaN   \n",
       "2292     1499     12            56.0              496.0                 NaN   \n",
       "\n",
       "      volume_of_internet first_name   last_name  age  \\\n",
       "0                1901.47   Anamaria       Bauer   45   \n",
       "1                6919.15     Mickey   Wilkerson   28   \n",
       "2               13314.82     Mickey   Wilkerson   28   \n",
       "3               22330.49     Mickey   Wilkerson   28   \n",
       "4               18504.30     Mickey   Wilkerson   28   \n",
       "...                  ...        ...         ...  ...   \n",
       "2288            23137.69       Scot  Williamson   51   \n",
       "2289            12984.76      Shena     Dickson   37   \n",
       "2290            19492.43      Shena     Dickson   37   \n",
       "2291            16813.83      Shena     Dickson   37   \n",
       "2292            22059.21      Shena     Dickson   37   \n",
       "\n",
       "                               city    reg_date      plan      state  \n",
       "0     Atlanta-Sandy Springs-Roswell  2018-12-24  ultimate         GA  \n",
       "1           Seattle-Tacoma-Bellevue  2018-08-13      surf         WA  \n",
       "2           Seattle-Tacoma-Bellevue  2018-08-13      surf         WA  \n",
       "3           Seattle-Tacoma-Bellevue  2018-08-13      surf         WA  \n",
       "4           Seattle-Tacoma-Bellevue  2018-08-13      surf         WA  \n",
       "...                             ...         ...       ...        ...  \n",
       "2288    New York-Newark-Jersey City  2018-02-04      surf   NY-NJ-PA  \n",
       "2289      Orlando-Kissimmee-Sanford  2018-05-06      surf         FL  \n",
       "2290      Orlando-Kissimmee-Sanford  2018-05-06      surf         FL  \n",
       "2291      Orlando-Kissimmee-Sanford  2018-05-06      surf         FL  \n",
       "2292      Orlando-Kissimmee-Sanford  2018-05-06      surf         FL  \n",
       "\n",
       "[2293 rows x 13 columns]"
      ]
     },
     "execution_count": 44,
     "metadata": {},
     "output_type": "execute_result"
    }
   ],
   "source": [
    "# Add the plan information\n",
    "\n",
    "data = pd.merge(left = df, right = user, on=['user_id'])\n",
    "data.rename(columns={\"call_date\": \"number_of_call\", \"duration\": \"amount_of_minutes\", \"message_date\":'number_of_messages',\"mb_used\":\"volume_of_internet\"})"
   ]
  },
  {
   "cell_type": "code",
   "execution_count": 45,
   "metadata": {},
   "outputs": [
    {
     "data": {
      "text/html": [
       "<div>\n",
       "<style scoped>\n",
       "    .dataframe tbody tr th:only-of-type {\n",
       "        vertical-align: middle;\n",
       "    }\n",
       "\n",
       "    .dataframe tbody tr th {\n",
       "        vertical-align: top;\n",
       "    }\n",
       "\n",
       "    .dataframe thead th {\n",
       "        text-align: right;\n",
       "    }\n",
       "</style>\n",
       "<table border=\"1\" class=\"dataframe\">\n",
       "  <thead>\n",
       "    <tr style=\"text-align: right;\">\n",
       "      <th></th>\n",
       "      <th>user_id</th>\n",
       "      <th>month</th>\n",
       "      <th>call_date</th>\n",
       "      <th>duration</th>\n",
       "      <th>message_date</th>\n",
       "      <th>mb_used</th>\n",
       "      <th>first_name</th>\n",
       "      <th>last_name</th>\n",
       "      <th>age</th>\n",
       "      <th>city</th>\n",
       "      <th>reg_date</th>\n",
       "      <th>plan</th>\n",
       "      <th>state</th>\n",
       "    </tr>\n",
       "  </thead>\n",
       "  <tbody>\n",
       "    <tr>\n",
       "      <td>0</td>\n",
       "      <td>1000</td>\n",
       "      <td>12</td>\n",
       "      <td>16.0</td>\n",
       "      <td>124.0</td>\n",
       "      <td>11.0</td>\n",
       "      <td>1901.47</td>\n",
       "      <td>Anamaria</td>\n",
       "      <td>Bauer</td>\n",
       "      <td>45</td>\n",
       "      <td>Atlanta-Sandy Springs-Roswell</td>\n",
       "      <td>2018-12-24</td>\n",
       "      <td>ultimate</td>\n",
       "      <td>GA</td>\n",
       "    </tr>\n",
       "    <tr>\n",
       "      <td>1</td>\n",
       "      <td>1001</td>\n",
       "      <td>8</td>\n",
       "      <td>22.0</td>\n",
       "      <td>182.0</td>\n",
       "      <td>30.0</td>\n",
       "      <td>6919.15</td>\n",
       "      <td>Mickey</td>\n",
       "      <td>Wilkerson</td>\n",
       "      <td>28</td>\n",
       "      <td>Seattle-Tacoma-Bellevue</td>\n",
       "      <td>2018-08-13</td>\n",
       "      <td>surf</td>\n",
       "      <td>WA</td>\n",
       "    </tr>\n",
       "    <tr>\n",
       "      <td>2</td>\n",
       "      <td>1001</td>\n",
       "      <td>9</td>\n",
       "      <td>38.0</td>\n",
       "      <td>315.0</td>\n",
       "      <td>44.0</td>\n",
       "      <td>13314.82</td>\n",
       "      <td>Mickey</td>\n",
       "      <td>Wilkerson</td>\n",
       "      <td>28</td>\n",
       "      <td>Seattle-Tacoma-Bellevue</td>\n",
       "      <td>2018-08-13</td>\n",
       "      <td>surf</td>\n",
       "      <td>WA</td>\n",
       "    </tr>\n",
       "    <tr>\n",
       "      <td>3</td>\n",
       "      <td>1001</td>\n",
       "      <td>10</td>\n",
       "      <td>47.0</td>\n",
       "      <td>393.0</td>\n",
       "      <td>53.0</td>\n",
       "      <td>22330.49</td>\n",
       "      <td>Mickey</td>\n",
       "      <td>Wilkerson</td>\n",
       "      <td>28</td>\n",
       "      <td>Seattle-Tacoma-Bellevue</td>\n",
       "      <td>2018-08-13</td>\n",
       "      <td>surf</td>\n",
       "      <td>WA</td>\n",
       "    </tr>\n",
       "    <tr>\n",
       "      <td>4</td>\n",
       "      <td>1001</td>\n",
       "      <td>11</td>\n",
       "      <td>49.0</td>\n",
       "      <td>426.0</td>\n",
       "      <td>36.0</td>\n",
       "      <td>18504.30</td>\n",
       "      <td>Mickey</td>\n",
       "      <td>Wilkerson</td>\n",
       "      <td>28</td>\n",
       "      <td>Seattle-Tacoma-Bellevue</td>\n",
       "      <td>2018-08-13</td>\n",
       "      <td>surf</td>\n",
       "      <td>WA</td>\n",
       "    </tr>\n",
       "    <tr>\n",
       "      <td>5</td>\n",
       "      <td>1001</td>\n",
       "      <td>12</td>\n",
       "      <td>46.0</td>\n",
       "      <td>412.0</td>\n",
       "      <td>44.0</td>\n",
       "      <td>19369.18</td>\n",
       "      <td>Mickey</td>\n",
       "      <td>Wilkerson</td>\n",
       "      <td>28</td>\n",
       "      <td>Seattle-Tacoma-Bellevue</td>\n",
       "      <td>2018-08-13</td>\n",
       "      <td>surf</td>\n",
       "      <td>WA</td>\n",
       "    </tr>\n",
       "    <tr>\n",
       "      <td>6</td>\n",
       "      <td>1002</td>\n",
       "      <td>10</td>\n",
       "      <td>8.0</td>\n",
       "      <td>59.0</td>\n",
       "      <td>15.0</td>\n",
       "      <td>6552.01</td>\n",
       "      <td>Carlee</td>\n",
       "      <td>Hoffman</td>\n",
       "      <td>36</td>\n",
       "      <td>Las Vegas-Henderson-Paradise</td>\n",
       "      <td>2018-10-21</td>\n",
       "      <td>surf</td>\n",
       "      <td>NV</td>\n",
       "    </tr>\n",
       "    <tr>\n",
       "      <td>7</td>\n",
       "      <td>1002</td>\n",
       "      <td>11</td>\n",
       "      <td>48.0</td>\n",
       "      <td>386.0</td>\n",
       "      <td>32.0</td>\n",
       "      <td>19345.08</td>\n",
       "      <td>Carlee</td>\n",
       "      <td>Hoffman</td>\n",
       "      <td>36</td>\n",
       "      <td>Las Vegas-Henderson-Paradise</td>\n",
       "      <td>2018-10-21</td>\n",
       "      <td>surf</td>\n",
       "      <td>NV</td>\n",
       "    </tr>\n",
       "    <tr>\n",
       "      <td>8</td>\n",
       "      <td>1002</td>\n",
       "      <td>12</td>\n",
       "      <td>38.0</td>\n",
       "      <td>384.0</td>\n",
       "      <td>41.0</td>\n",
       "      <td>14396.24</td>\n",
       "      <td>Carlee</td>\n",
       "      <td>Hoffman</td>\n",
       "      <td>36</td>\n",
       "      <td>Las Vegas-Henderson-Paradise</td>\n",
       "      <td>2018-10-21</td>\n",
       "      <td>surf</td>\n",
       "      <td>NV</td>\n",
       "    </tr>\n",
       "    <tr>\n",
       "      <td>9</td>\n",
       "      <td>1003</td>\n",
       "      <td>12</td>\n",
       "      <td>118.0</td>\n",
       "      <td>1104.0</td>\n",
       "      <td>50.0</td>\n",
       "      <td>27044.14</td>\n",
       "      <td>Reynaldo</td>\n",
       "      <td>Jenkins</td>\n",
       "      <td>52</td>\n",
       "      <td>Tulsa</td>\n",
       "      <td>2018-01-28</td>\n",
       "      <td>surf</td>\n",
       "      <td>OK</td>\n",
       "    </tr>\n",
       "    <tr>\n",
       "      <td>10</td>\n",
       "      <td>1004</td>\n",
       "      <td>5</td>\n",
       "      <td>19.0</td>\n",
       "      <td>193.0</td>\n",
       "      <td>7.0</td>\n",
       "      <td>6547.21</td>\n",
       "      <td>Leonila</td>\n",
       "      <td>Thompson</td>\n",
       "      <td>40</td>\n",
       "      <td>Seattle-Tacoma-Bellevue</td>\n",
       "      <td>2018-05-23</td>\n",
       "      <td>surf</td>\n",
       "      <td>WA</td>\n",
       "    </tr>\n",
       "    <tr>\n",
       "      <td>11</td>\n",
       "      <td>1004</td>\n",
       "      <td>6</td>\n",
       "      <td>33.0</td>\n",
       "      <td>275.0</td>\n",
       "      <td>18.0</td>\n",
       "      <td>20672.82</td>\n",
       "      <td>Leonila</td>\n",
       "      <td>Thompson</td>\n",
       "      <td>40</td>\n",
       "      <td>Seattle-Tacoma-Bellevue</td>\n",
       "      <td>2018-05-23</td>\n",
       "      <td>surf</td>\n",
       "      <td>WA</td>\n",
       "    </tr>\n",
       "    <tr>\n",
       "      <td>12</td>\n",
       "      <td>1004</td>\n",
       "      <td>7</td>\n",
       "      <td>45.0</td>\n",
       "      <td>381.0</td>\n",
       "      <td>26.0</td>\n",
       "      <td>24516.62</td>\n",
       "      <td>Leonila</td>\n",
       "      <td>Thompson</td>\n",
       "      <td>40</td>\n",
       "      <td>Seattle-Tacoma-Bellevue</td>\n",
       "      <td>2018-05-23</td>\n",
       "      <td>surf</td>\n",
       "      <td>WA</td>\n",
       "    </tr>\n",
       "    <tr>\n",
       "      <td>13</td>\n",
       "      <td>1004</td>\n",
       "      <td>8</td>\n",
       "      <td>42.0</td>\n",
       "      <td>354.0</td>\n",
       "      <td>25.0</td>\n",
       "      <td>27981.74</td>\n",
       "      <td>Leonila</td>\n",
       "      <td>Thompson</td>\n",
       "      <td>40</td>\n",
       "      <td>Seattle-Tacoma-Bellevue</td>\n",
       "      <td>2018-05-23</td>\n",
       "      <td>surf</td>\n",
       "      <td>WA</td>\n",
       "    </tr>\n",
       "    <tr>\n",
       "      <td>14</td>\n",
       "      <td>1004</td>\n",
       "      <td>9</td>\n",
       "      <td>32.0</td>\n",
       "      <td>301.0</td>\n",
       "      <td>21.0</td>\n",
       "      <td>18852.72</td>\n",
       "      <td>Leonila</td>\n",
       "      <td>Thompson</td>\n",
       "      <td>40</td>\n",
       "      <td>Seattle-Tacoma-Bellevue</td>\n",
       "      <td>2018-05-23</td>\n",
       "      <td>surf</td>\n",
       "      <td>WA</td>\n",
       "    </tr>\n",
       "    <tr>\n",
       "      <td>15</td>\n",
       "      <td>1004</td>\n",
       "      <td>10</td>\n",
       "      <td>47.0</td>\n",
       "      <td>365.0</td>\n",
       "      <td>24.0</td>\n",
       "      <td>14541.63</td>\n",
       "      <td>Leonila</td>\n",
       "      <td>Thompson</td>\n",
       "      <td>40</td>\n",
       "      <td>Seattle-Tacoma-Bellevue</td>\n",
       "      <td>2018-05-23</td>\n",
       "      <td>surf</td>\n",
       "      <td>WA</td>\n",
       "    </tr>\n",
       "    <tr>\n",
       "      <td>16</td>\n",
       "      <td>1004</td>\n",
       "      <td>11</td>\n",
       "      <td>45.0</td>\n",
       "      <td>476.0</td>\n",
       "      <td>25.0</td>\n",
       "      <td>21850.78</td>\n",
       "      <td>Leonila</td>\n",
       "      <td>Thompson</td>\n",
       "      <td>40</td>\n",
       "      <td>Seattle-Tacoma-Bellevue</td>\n",
       "      <td>2018-05-23</td>\n",
       "      <td>surf</td>\n",
       "      <td>WA</td>\n",
       "    </tr>\n",
       "    <tr>\n",
       "      <td>17</td>\n",
       "      <td>1004</td>\n",
       "      <td>12</td>\n",
       "      <td>43.0</td>\n",
       "      <td>427.0</td>\n",
       "      <td>31.0</td>\n",
       "      <td>21389.29</td>\n",
       "      <td>Leonila</td>\n",
       "      <td>Thompson</td>\n",
       "      <td>40</td>\n",
       "      <td>Seattle-Tacoma-Bellevue</td>\n",
       "      <td>2018-05-23</td>\n",
       "      <td>surf</td>\n",
       "      <td>WA</td>\n",
       "    </tr>\n",
       "    <tr>\n",
       "      <td>18</td>\n",
       "      <td>1005</td>\n",
       "      <td>12</td>\n",
       "      <td>50.0</td>\n",
       "      <td>496.0</td>\n",
       "      <td>11.0</td>\n",
       "      <td>17140.17</td>\n",
       "      <td>Livia</td>\n",
       "      <td>Shields</td>\n",
       "      <td>31</td>\n",
       "      <td>Dallas-Fort Worth-Arlington</td>\n",
       "      <td>2018-11-29</td>\n",
       "      <td>surf</td>\n",
       "      <td>TX</td>\n",
       "    </tr>\n",
       "    <tr>\n",
       "      <td>19</td>\n",
       "      <td>1006</td>\n",
       "      <td>11</td>\n",
       "      <td>2.0</td>\n",
       "      <td>10.0</td>\n",
       "      <td>15.0</td>\n",
       "      <td>2068.37</td>\n",
       "      <td>Jesusa</td>\n",
       "      <td>Bradford</td>\n",
       "      <td>73</td>\n",
       "      <td>San Francisco-Oakland-Berkeley</td>\n",
       "      <td>2018-11-27</td>\n",
       "      <td>ultimate</td>\n",
       "      <td>CA</td>\n",
       "    </tr>\n",
       "  </tbody>\n",
       "</table>\n",
       "</div>"
      ],
      "text/plain": [
       "    user_id  month  call_date  duration  message_date   mb_used first_name  \\\n",
       "0      1000     12       16.0     124.0          11.0   1901.47   Anamaria   \n",
       "1      1001      8       22.0     182.0          30.0   6919.15     Mickey   \n",
       "2      1001      9       38.0     315.0          44.0  13314.82     Mickey   \n",
       "3      1001     10       47.0     393.0          53.0  22330.49     Mickey   \n",
       "4      1001     11       49.0     426.0          36.0  18504.30     Mickey   \n",
       "5      1001     12       46.0     412.0          44.0  19369.18     Mickey   \n",
       "6      1002     10        8.0      59.0          15.0   6552.01     Carlee   \n",
       "7      1002     11       48.0     386.0          32.0  19345.08     Carlee   \n",
       "8      1002     12       38.0     384.0          41.0  14396.24     Carlee   \n",
       "9      1003     12      118.0    1104.0          50.0  27044.14   Reynaldo   \n",
       "10     1004      5       19.0     193.0           7.0   6547.21    Leonila   \n",
       "11     1004      6       33.0     275.0          18.0  20672.82    Leonila   \n",
       "12     1004      7       45.0     381.0          26.0  24516.62    Leonila   \n",
       "13     1004      8       42.0     354.0          25.0  27981.74    Leonila   \n",
       "14     1004      9       32.0     301.0          21.0  18852.72    Leonila   \n",
       "15     1004     10       47.0     365.0          24.0  14541.63    Leonila   \n",
       "16     1004     11       45.0     476.0          25.0  21850.78    Leonila   \n",
       "17     1004     12       43.0     427.0          31.0  21389.29    Leonila   \n",
       "18     1005     12       50.0     496.0          11.0  17140.17      Livia   \n",
       "19     1006     11        2.0      10.0          15.0   2068.37     Jesusa   \n",
       "\n",
       "    last_name  age                            city    reg_date      plan state  \n",
       "0       Bauer   45   Atlanta-Sandy Springs-Roswell  2018-12-24  ultimate    GA  \n",
       "1   Wilkerson   28         Seattle-Tacoma-Bellevue  2018-08-13      surf    WA  \n",
       "2   Wilkerson   28         Seattle-Tacoma-Bellevue  2018-08-13      surf    WA  \n",
       "3   Wilkerson   28         Seattle-Tacoma-Bellevue  2018-08-13      surf    WA  \n",
       "4   Wilkerson   28         Seattle-Tacoma-Bellevue  2018-08-13      surf    WA  \n",
       "5   Wilkerson   28         Seattle-Tacoma-Bellevue  2018-08-13      surf    WA  \n",
       "6     Hoffman   36    Las Vegas-Henderson-Paradise  2018-10-21      surf    NV  \n",
       "7     Hoffman   36    Las Vegas-Henderson-Paradise  2018-10-21      surf    NV  \n",
       "8     Hoffman   36    Las Vegas-Henderson-Paradise  2018-10-21      surf    NV  \n",
       "9     Jenkins   52                           Tulsa  2018-01-28      surf    OK  \n",
       "10   Thompson   40         Seattle-Tacoma-Bellevue  2018-05-23      surf    WA  \n",
       "11   Thompson   40         Seattle-Tacoma-Bellevue  2018-05-23      surf    WA  \n",
       "12   Thompson   40         Seattle-Tacoma-Bellevue  2018-05-23      surf    WA  \n",
       "13   Thompson   40         Seattle-Tacoma-Bellevue  2018-05-23      surf    WA  \n",
       "14   Thompson   40         Seattle-Tacoma-Bellevue  2018-05-23      surf    WA  \n",
       "15   Thompson   40         Seattle-Tacoma-Bellevue  2018-05-23      surf    WA  \n",
       "16   Thompson   40         Seattle-Tacoma-Bellevue  2018-05-23      surf    WA  \n",
       "17   Thompson   40         Seattle-Tacoma-Bellevue  2018-05-23      surf    WA  \n",
       "18    Shields   31     Dallas-Fort Worth-Arlington  2018-11-29      surf    TX  \n",
       "19   Bradford   73  San Francisco-Oakland-Berkeley  2018-11-27  ultimate    CA  "
      ]
     },
     "execution_count": 45,
     "metadata": {},
     "output_type": "execute_result"
    }
   ],
   "source": [
    "data.head(20)"
   ]
  },
  {
   "cell_type": "markdown",
   "metadata": {},
   "source": [
    "I will now calculate the monthly revenue from each user:\n",
    "- subtract the free package limit from the total number of calls, text messages, and data\n",
    "- multiply the result by the calling plan value\n",
    "- add the monthly charge depending on the calling plan\n",
    "\n",
    "NOTE: the total for the month is rounded up. If someone uses 1025 megabytes this month, they will be charged for 2 gigabytes.\n",
    "\n",
    "If plan is surf:\n",
    "- base charge is $20\n",
    "- monthly minutes - 500; exceeding 3 cents per minute\n",
    "- monthly texts - 50; exceeding 3 cents per text\n",
    "- monthly data - 15; exceeding 10 dollars per GB\n",
    "\n",
    "If the plan is ultimate:\n",
    "- base charge is $70\n",
    "- monthly minutes - 3000; exceeding 1 cent per minute\n",
    "- monthly texts - 1000; exceeding 1 cent per text\n",
    "- monthly data - 30; exceeding 7 dollars per GB"
   ]
  },
  {
   "cell_type": "code",
   "execution_count": 46,
   "metadata": {},
   "outputs": [],
   "source": [
    "# Calculate the monthly revenue for each user\n",
    "# Create a duplicate of the data dataframe\n",
    "revenue = data"
   ]
  },
  {
   "cell_type": "code",
   "execution_count": 47,
   "metadata": {},
   "outputs": [],
   "source": [
    "# Transform the \"mb_used\" column to reflect the round-up policy of both data plans\n",
    "\n",
    "revenue[\"mb_used\"] = 1/1000 * revenue[\"mb_used\"]\n",
    "revenue[\"mb_used\"] = revenue[\"mb_used\"].apply(np.ceil)\n"
   ]
  },
  {
   "cell_type": "code",
   "execution_count": 48,
   "metadata": {},
   "outputs": [],
   "source": [
    "# Generate excess numbers for text, call, and data \n",
    "# Surf plan\n",
    "revenue['duration'].mask(revenue['plan']== 'surf',revenue['duration']-500,inplace= True)\n",
    "revenue.loc[data['duration'] <=0, \"duration\"] = 0\n",
    "\n",
    "revenue['message_date'].mask(revenue['plan']== 'surf',revenue['message_date']-50,inplace= True)\n",
    "revenue.loc[revenue['message_date'] <=0, 'message_date'] = 0\n",
    "\n",
    "revenue['mb_used'].mask(revenue['plan']== 'surf',revenue['mb_used']-15,inplace= True)\n",
    "revenue.loc[revenue['mb_used'] <=0, 'mb_used'] = 0\n",
    "\n",
    "revenue['base_cost']=0\n",
    "revenue['excess_call_fee'] = 0\n",
    "revenue['excess_text_fee'] = 0\n",
    "revenue['excess_data_fee'] = 0\n",
    "revenue['base_cost'].mask(revenue['plan']== 'surf', 20 ,inplace= True)\n"
   ]
  },
  {
   "cell_type": "code",
   "execution_count": 49,
   "metadata": {},
   "outputs": [],
   "source": [
    "# Ultimate plan \n",
    "revenue['duration'].mask(revenue['plan']== 'ultimate',revenue['duration']-3000,inplace= True)\n",
    "revenue.loc[data['duration'] <=0, \"duration\"] = 0\n",
    "\n",
    "revenue['message_date'].mask(revenue['plan']== 'ultimate',revenue['message_date']-1000,inplace= True)\n",
    "revenue.loc[revenue['message_date'] <=0, 'message_date'] = 0\n",
    "\n",
    "revenue['mb_used'].mask(revenue['plan']== 'ultimate',revenue['mb_used']-30,inplace= True)\n",
    "revenue.loc[revenue['mb_used'] <=0, 'mb_used'] = 0\n",
    "\n",
    "revenue['base_cost'].mask(revenue['plan']== 'ultimate', 70 ,inplace= True)"
   ]
  },
  {
   "cell_type": "code",
   "execution_count": 50,
   "metadata": {},
   "outputs": [],
   "source": [
    "# Total charge calculations based on different criteria for surf \n",
    "revenue ['excess_call_fee'] = np.where(revenue['plan']== 'surf',\n",
    "                                           revenue ['duration'] * 0.03,\n",
    "                                           revenue ['duration'])\n",
    "\n",
    "\n",
    "revenue ['excess_text_fee'] = np.where(revenue['plan']== 'surf',\n",
    "                                           revenue ['message_date'] * 0.03,\n",
    "                                           revenue ['message_date'])\n",
    "\n",
    "revenue ['excess_data_fee'] = np.where(revenue['plan']== 'surf',\n",
    "                                           revenue ['mb_used'] * 10,\n",
    "                                           revenue ['mb_used'])\n",
    "\n",
    "column_names = ['base_cost', 'excess_call_fee', 'excess_text_fee', 'excess_data_fee']\n",
    "revenue['total_cost']= revenue[column_names].sum(axis=1)"
   ]
  },
  {
   "cell_type": "code",
   "execution_count": 51,
   "metadata": {},
   "outputs": [],
   "source": [
    "# Ultimate plan monthly charges\n",
    "\n",
    "revenue ['excess_call_fee'] = np.where(revenue['plan']== 'ultime',\n",
    "                                           revenue ['duration'] * 0.01,\n",
    "                                           revenue ['duration'])\n",
    "\n",
    "\n",
    "revenue ['excess_text_fee'] = np.where(revenue['plan']== 'ultime',\n",
    "                                           revenue ['message_date'] * 0.01,\n",
    "                                           revenue ['message_date'])\n",
    "\n",
    "revenue ['excess_data_fee'] = np.where(revenue['plan']== 'ultime',\n",
    "                                           revenue ['mb_used'] * 7,\n",
    "                                           revenue ['mb_used'])\n",
    "\n",
    "column_names = ['base_cost', 'excess_call_fee', 'excess_text_fee', 'excess_data_fee']\n",
    "revenue['total_cost']= revenue[column_names].sum(axis=1)"
   ]
  },
  {
   "cell_type": "code",
   "execution_count": 52,
   "metadata": {},
   "outputs": [
    {
     "data": {
      "text/html": [
       "<div>\n",
       "<style scoped>\n",
       "    .dataframe tbody tr th:only-of-type {\n",
       "        vertical-align: middle;\n",
       "    }\n",
       "\n",
       "    .dataframe tbody tr th {\n",
       "        vertical-align: top;\n",
       "    }\n",
       "\n",
       "    .dataframe thead th {\n",
       "        text-align: right;\n",
       "    }\n",
       "</style>\n",
       "<table border=\"1\" class=\"dataframe\">\n",
       "  <thead>\n",
       "    <tr style=\"text-align: right;\">\n",
       "      <th></th>\n",
       "      <th>user_id</th>\n",
       "      <th>month</th>\n",
       "      <th>call_date</th>\n",
       "      <th>duration</th>\n",
       "      <th>message_date</th>\n",
       "      <th>mb_used</th>\n",
       "      <th>first_name</th>\n",
       "      <th>last_name</th>\n",
       "      <th>age</th>\n",
       "      <th>city</th>\n",
       "      <th>reg_date</th>\n",
       "      <th>plan</th>\n",
       "      <th>state</th>\n",
       "      <th>base_cost</th>\n",
       "      <th>excess_call_fee</th>\n",
       "      <th>excess_text_fee</th>\n",
       "      <th>excess_data_fee</th>\n",
       "      <th>total_cost</th>\n",
       "    </tr>\n",
       "  </thead>\n",
       "  <tbody>\n",
       "    <tr>\n",
       "      <td>0</td>\n",
       "      <td>1000</td>\n",
       "      <td>12</td>\n",
       "      <td>16.0</td>\n",
       "      <td>0.0</td>\n",
       "      <td>0.0</td>\n",
       "      <td>0.0</td>\n",
       "      <td>Anamaria</td>\n",
       "      <td>Bauer</td>\n",
       "      <td>45</td>\n",
       "      <td>Atlanta-Sandy Springs-Roswell</td>\n",
       "      <td>2018-12-24</td>\n",
       "      <td>ultimate</td>\n",
       "      <td>GA</td>\n",
       "      <td>70</td>\n",
       "      <td>0.0</td>\n",
       "      <td>0.0</td>\n",
       "      <td>0.0</td>\n",
       "      <td>70.0</td>\n",
       "    </tr>\n",
       "    <tr>\n",
       "      <td>1</td>\n",
       "      <td>1001</td>\n",
       "      <td>8</td>\n",
       "      <td>22.0</td>\n",
       "      <td>0.0</td>\n",
       "      <td>0.0</td>\n",
       "      <td>0.0</td>\n",
       "      <td>Mickey</td>\n",
       "      <td>Wilkerson</td>\n",
       "      <td>28</td>\n",
       "      <td>Seattle-Tacoma-Bellevue</td>\n",
       "      <td>2018-08-13</td>\n",
       "      <td>surf</td>\n",
       "      <td>WA</td>\n",
       "      <td>20</td>\n",
       "      <td>0.0</td>\n",
       "      <td>0.0</td>\n",
       "      <td>0.0</td>\n",
       "      <td>20.0</td>\n",
       "    </tr>\n",
       "    <tr>\n",
       "      <td>2</td>\n",
       "      <td>1001</td>\n",
       "      <td>9</td>\n",
       "      <td>38.0</td>\n",
       "      <td>0.0</td>\n",
       "      <td>0.0</td>\n",
       "      <td>0.0</td>\n",
       "      <td>Mickey</td>\n",
       "      <td>Wilkerson</td>\n",
       "      <td>28</td>\n",
       "      <td>Seattle-Tacoma-Bellevue</td>\n",
       "      <td>2018-08-13</td>\n",
       "      <td>surf</td>\n",
       "      <td>WA</td>\n",
       "      <td>20</td>\n",
       "      <td>0.0</td>\n",
       "      <td>0.0</td>\n",
       "      <td>0.0</td>\n",
       "      <td>20.0</td>\n",
       "    </tr>\n",
       "    <tr>\n",
       "      <td>3</td>\n",
       "      <td>1001</td>\n",
       "      <td>10</td>\n",
       "      <td>47.0</td>\n",
       "      <td>0.0</td>\n",
       "      <td>3.0</td>\n",
       "      <td>8.0</td>\n",
       "      <td>Mickey</td>\n",
       "      <td>Wilkerson</td>\n",
       "      <td>28</td>\n",
       "      <td>Seattle-Tacoma-Bellevue</td>\n",
       "      <td>2018-08-13</td>\n",
       "      <td>surf</td>\n",
       "      <td>WA</td>\n",
       "      <td>20</td>\n",
       "      <td>0.0</td>\n",
       "      <td>3.0</td>\n",
       "      <td>8.0</td>\n",
       "      <td>31.0</td>\n",
       "    </tr>\n",
       "    <tr>\n",
       "      <td>4</td>\n",
       "      <td>1001</td>\n",
       "      <td>11</td>\n",
       "      <td>49.0</td>\n",
       "      <td>0.0</td>\n",
       "      <td>0.0</td>\n",
       "      <td>4.0</td>\n",
       "      <td>Mickey</td>\n",
       "      <td>Wilkerson</td>\n",
       "      <td>28</td>\n",
       "      <td>Seattle-Tacoma-Bellevue</td>\n",
       "      <td>2018-08-13</td>\n",
       "      <td>surf</td>\n",
       "      <td>WA</td>\n",
       "      <td>20</td>\n",
       "      <td>0.0</td>\n",
       "      <td>0.0</td>\n",
       "      <td>4.0</td>\n",
       "      <td>24.0</td>\n",
       "    </tr>\n",
       "    <tr>\n",
       "      <td>5</td>\n",
       "      <td>1001</td>\n",
       "      <td>12</td>\n",
       "      <td>46.0</td>\n",
       "      <td>0.0</td>\n",
       "      <td>0.0</td>\n",
       "      <td>5.0</td>\n",
       "      <td>Mickey</td>\n",
       "      <td>Wilkerson</td>\n",
       "      <td>28</td>\n",
       "      <td>Seattle-Tacoma-Bellevue</td>\n",
       "      <td>2018-08-13</td>\n",
       "      <td>surf</td>\n",
       "      <td>WA</td>\n",
       "      <td>20</td>\n",
       "      <td>0.0</td>\n",
       "      <td>0.0</td>\n",
       "      <td>5.0</td>\n",
       "      <td>25.0</td>\n",
       "    </tr>\n",
       "    <tr>\n",
       "      <td>6</td>\n",
       "      <td>1002</td>\n",
       "      <td>10</td>\n",
       "      <td>8.0</td>\n",
       "      <td>0.0</td>\n",
       "      <td>0.0</td>\n",
       "      <td>0.0</td>\n",
       "      <td>Carlee</td>\n",
       "      <td>Hoffman</td>\n",
       "      <td>36</td>\n",
       "      <td>Las Vegas-Henderson-Paradise</td>\n",
       "      <td>2018-10-21</td>\n",
       "      <td>surf</td>\n",
       "      <td>NV</td>\n",
       "      <td>20</td>\n",
       "      <td>0.0</td>\n",
       "      <td>0.0</td>\n",
       "      <td>0.0</td>\n",
       "      <td>20.0</td>\n",
       "    </tr>\n",
       "    <tr>\n",
       "      <td>7</td>\n",
       "      <td>1002</td>\n",
       "      <td>11</td>\n",
       "      <td>48.0</td>\n",
       "      <td>0.0</td>\n",
       "      <td>0.0</td>\n",
       "      <td>5.0</td>\n",
       "      <td>Carlee</td>\n",
       "      <td>Hoffman</td>\n",
       "      <td>36</td>\n",
       "      <td>Las Vegas-Henderson-Paradise</td>\n",
       "      <td>2018-10-21</td>\n",
       "      <td>surf</td>\n",
       "      <td>NV</td>\n",
       "      <td>20</td>\n",
       "      <td>0.0</td>\n",
       "      <td>0.0</td>\n",
       "      <td>5.0</td>\n",
       "      <td>25.0</td>\n",
       "    </tr>\n",
       "    <tr>\n",
       "      <td>8</td>\n",
       "      <td>1002</td>\n",
       "      <td>12</td>\n",
       "      <td>38.0</td>\n",
       "      <td>0.0</td>\n",
       "      <td>0.0</td>\n",
       "      <td>0.0</td>\n",
       "      <td>Carlee</td>\n",
       "      <td>Hoffman</td>\n",
       "      <td>36</td>\n",
       "      <td>Las Vegas-Henderson-Paradise</td>\n",
       "      <td>2018-10-21</td>\n",
       "      <td>surf</td>\n",
       "      <td>NV</td>\n",
       "      <td>20</td>\n",
       "      <td>0.0</td>\n",
       "      <td>0.0</td>\n",
       "      <td>0.0</td>\n",
       "      <td>20.0</td>\n",
       "    </tr>\n",
       "    <tr>\n",
       "      <td>9</td>\n",
       "      <td>1003</td>\n",
       "      <td>12</td>\n",
       "      <td>118.0</td>\n",
       "      <td>604.0</td>\n",
       "      <td>0.0</td>\n",
       "      <td>13.0</td>\n",
       "      <td>Reynaldo</td>\n",
       "      <td>Jenkins</td>\n",
       "      <td>52</td>\n",
       "      <td>Tulsa</td>\n",
       "      <td>2018-01-28</td>\n",
       "      <td>surf</td>\n",
       "      <td>OK</td>\n",
       "      <td>20</td>\n",
       "      <td>604.0</td>\n",
       "      <td>0.0</td>\n",
       "      <td>13.0</td>\n",
       "      <td>637.0</td>\n",
       "    </tr>\n",
       "    <tr>\n",
       "      <td>10</td>\n",
       "      <td>1004</td>\n",
       "      <td>5</td>\n",
       "      <td>19.0</td>\n",
       "      <td>0.0</td>\n",
       "      <td>0.0</td>\n",
       "      <td>0.0</td>\n",
       "      <td>Leonila</td>\n",
       "      <td>Thompson</td>\n",
       "      <td>40</td>\n",
       "      <td>Seattle-Tacoma-Bellevue</td>\n",
       "      <td>2018-05-23</td>\n",
       "      <td>surf</td>\n",
       "      <td>WA</td>\n",
       "      <td>20</td>\n",
       "      <td>0.0</td>\n",
       "      <td>0.0</td>\n",
       "      <td>0.0</td>\n",
       "      <td>20.0</td>\n",
       "    </tr>\n",
       "    <tr>\n",
       "      <td>11</td>\n",
       "      <td>1004</td>\n",
       "      <td>6</td>\n",
       "      <td>33.0</td>\n",
       "      <td>0.0</td>\n",
       "      <td>0.0</td>\n",
       "      <td>6.0</td>\n",
       "      <td>Leonila</td>\n",
       "      <td>Thompson</td>\n",
       "      <td>40</td>\n",
       "      <td>Seattle-Tacoma-Bellevue</td>\n",
       "      <td>2018-05-23</td>\n",
       "      <td>surf</td>\n",
       "      <td>WA</td>\n",
       "      <td>20</td>\n",
       "      <td>0.0</td>\n",
       "      <td>0.0</td>\n",
       "      <td>6.0</td>\n",
       "      <td>26.0</td>\n",
       "    </tr>\n",
       "    <tr>\n",
       "      <td>12</td>\n",
       "      <td>1004</td>\n",
       "      <td>7</td>\n",
       "      <td>45.0</td>\n",
       "      <td>0.0</td>\n",
       "      <td>0.0</td>\n",
       "      <td>10.0</td>\n",
       "      <td>Leonila</td>\n",
       "      <td>Thompson</td>\n",
       "      <td>40</td>\n",
       "      <td>Seattle-Tacoma-Bellevue</td>\n",
       "      <td>2018-05-23</td>\n",
       "      <td>surf</td>\n",
       "      <td>WA</td>\n",
       "      <td>20</td>\n",
       "      <td>0.0</td>\n",
       "      <td>0.0</td>\n",
       "      <td>10.0</td>\n",
       "      <td>30.0</td>\n",
       "    </tr>\n",
       "    <tr>\n",
       "      <td>13</td>\n",
       "      <td>1004</td>\n",
       "      <td>8</td>\n",
       "      <td>42.0</td>\n",
       "      <td>0.0</td>\n",
       "      <td>0.0</td>\n",
       "      <td>13.0</td>\n",
       "      <td>Leonila</td>\n",
       "      <td>Thompson</td>\n",
       "      <td>40</td>\n",
       "      <td>Seattle-Tacoma-Bellevue</td>\n",
       "      <td>2018-05-23</td>\n",
       "      <td>surf</td>\n",
       "      <td>WA</td>\n",
       "      <td>20</td>\n",
       "      <td>0.0</td>\n",
       "      <td>0.0</td>\n",
       "      <td>13.0</td>\n",
       "      <td>33.0</td>\n",
       "    </tr>\n",
       "    <tr>\n",
       "      <td>14</td>\n",
       "      <td>1004</td>\n",
       "      <td>9</td>\n",
       "      <td>32.0</td>\n",
       "      <td>0.0</td>\n",
       "      <td>0.0</td>\n",
       "      <td>4.0</td>\n",
       "      <td>Leonila</td>\n",
       "      <td>Thompson</td>\n",
       "      <td>40</td>\n",
       "      <td>Seattle-Tacoma-Bellevue</td>\n",
       "      <td>2018-05-23</td>\n",
       "      <td>surf</td>\n",
       "      <td>WA</td>\n",
       "      <td>20</td>\n",
       "      <td>0.0</td>\n",
       "      <td>0.0</td>\n",
       "      <td>4.0</td>\n",
       "      <td>24.0</td>\n",
       "    </tr>\n",
       "    <tr>\n",
       "      <td>15</td>\n",
       "      <td>1004</td>\n",
       "      <td>10</td>\n",
       "      <td>47.0</td>\n",
       "      <td>0.0</td>\n",
       "      <td>0.0</td>\n",
       "      <td>0.0</td>\n",
       "      <td>Leonila</td>\n",
       "      <td>Thompson</td>\n",
       "      <td>40</td>\n",
       "      <td>Seattle-Tacoma-Bellevue</td>\n",
       "      <td>2018-05-23</td>\n",
       "      <td>surf</td>\n",
       "      <td>WA</td>\n",
       "      <td>20</td>\n",
       "      <td>0.0</td>\n",
       "      <td>0.0</td>\n",
       "      <td>0.0</td>\n",
       "      <td>20.0</td>\n",
       "    </tr>\n",
       "    <tr>\n",
       "      <td>16</td>\n",
       "      <td>1004</td>\n",
       "      <td>11</td>\n",
       "      <td>45.0</td>\n",
       "      <td>0.0</td>\n",
       "      <td>0.0</td>\n",
       "      <td>7.0</td>\n",
       "      <td>Leonila</td>\n",
       "      <td>Thompson</td>\n",
       "      <td>40</td>\n",
       "      <td>Seattle-Tacoma-Bellevue</td>\n",
       "      <td>2018-05-23</td>\n",
       "      <td>surf</td>\n",
       "      <td>WA</td>\n",
       "      <td>20</td>\n",
       "      <td>0.0</td>\n",
       "      <td>0.0</td>\n",
       "      <td>7.0</td>\n",
       "      <td>27.0</td>\n",
       "    </tr>\n",
       "    <tr>\n",
       "      <td>17</td>\n",
       "      <td>1004</td>\n",
       "      <td>12</td>\n",
       "      <td>43.0</td>\n",
       "      <td>0.0</td>\n",
       "      <td>0.0</td>\n",
       "      <td>7.0</td>\n",
       "      <td>Leonila</td>\n",
       "      <td>Thompson</td>\n",
       "      <td>40</td>\n",
       "      <td>Seattle-Tacoma-Bellevue</td>\n",
       "      <td>2018-05-23</td>\n",
       "      <td>surf</td>\n",
       "      <td>WA</td>\n",
       "      <td>20</td>\n",
       "      <td>0.0</td>\n",
       "      <td>0.0</td>\n",
       "      <td>7.0</td>\n",
       "      <td>27.0</td>\n",
       "    </tr>\n",
       "    <tr>\n",
       "      <td>18</td>\n",
       "      <td>1005</td>\n",
       "      <td>12</td>\n",
       "      <td>50.0</td>\n",
       "      <td>0.0</td>\n",
       "      <td>0.0</td>\n",
       "      <td>3.0</td>\n",
       "      <td>Livia</td>\n",
       "      <td>Shields</td>\n",
       "      <td>31</td>\n",
       "      <td>Dallas-Fort Worth-Arlington</td>\n",
       "      <td>2018-11-29</td>\n",
       "      <td>surf</td>\n",
       "      <td>TX</td>\n",
       "      <td>20</td>\n",
       "      <td>0.0</td>\n",
       "      <td>0.0</td>\n",
       "      <td>3.0</td>\n",
       "      <td>23.0</td>\n",
       "    </tr>\n",
       "    <tr>\n",
       "      <td>19</td>\n",
       "      <td>1006</td>\n",
       "      <td>11</td>\n",
       "      <td>2.0</td>\n",
       "      <td>0.0</td>\n",
       "      <td>0.0</td>\n",
       "      <td>0.0</td>\n",
       "      <td>Jesusa</td>\n",
       "      <td>Bradford</td>\n",
       "      <td>73</td>\n",
       "      <td>San Francisco-Oakland-Berkeley</td>\n",
       "      <td>2018-11-27</td>\n",
       "      <td>ultimate</td>\n",
       "      <td>CA</td>\n",
       "      <td>70</td>\n",
       "      <td>0.0</td>\n",
       "      <td>0.0</td>\n",
       "      <td>0.0</td>\n",
       "      <td>70.0</td>\n",
       "    </tr>\n",
       "    <tr>\n",
       "      <td>20</td>\n",
       "      <td>1006</td>\n",
       "      <td>12</td>\n",
       "      <td>7.0</td>\n",
       "      <td>0.0</td>\n",
       "      <td>0.0</td>\n",
       "      <td>3.0</td>\n",
       "      <td>Jesusa</td>\n",
       "      <td>Bradford</td>\n",
       "      <td>73</td>\n",
       "      <td>San Francisco-Oakland-Berkeley</td>\n",
       "      <td>2018-11-27</td>\n",
       "      <td>ultimate</td>\n",
       "      <td>CA</td>\n",
       "      <td>70</td>\n",
       "      <td>0.0</td>\n",
       "      <td>0.0</td>\n",
       "      <td>3.0</td>\n",
       "      <td>73.0</td>\n",
       "    </tr>\n",
       "    <tr>\n",
       "      <td>21</td>\n",
       "      <td>1007</td>\n",
       "      <td>8</td>\n",
       "      <td>56.0</td>\n",
       "      <td>0.0</td>\n",
       "      <td>1.0</td>\n",
       "      <td>10.0</td>\n",
       "      <td>Eusebio</td>\n",
       "      <td>Welch</td>\n",
       "      <td>42</td>\n",
       "      <td>Grand Rapids-Kentwood</td>\n",
       "      <td>2018-07-11</td>\n",
       "      <td>surf</td>\n",
       "      <td>MI</td>\n",
       "      <td>20</td>\n",
       "      <td>0.0</td>\n",
       "      <td>1.0</td>\n",
       "      <td>10.0</td>\n",
       "      <td>31.0</td>\n",
       "    </tr>\n",
       "    <tr>\n",
       "      <td>22</td>\n",
       "      <td>1007</td>\n",
       "      <td>9</td>\n",
       "      <td>49.0</td>\n",
       "      <td>0.0</td>\n",
       "      <td>0.0</td>\n",
       "      <td>14.0</td>\n",
       "      <td>Eusebio</td>\n",
       "      <td>Welch</td>\n",
       "      <td>42</td>\n",
       "      <td>Grand Rapids-Kentwood</td>\n",
       "      <td>2018-07-11</td>\n",
       "      <td>surf</td>\n",
       "      <td>MI</td>\n",
       "      <td>20</td>\n",
       "      <td>0.0</td>\n",
       "      <td>0.0</td>\n",
       "      <td>14.0</td>\n",
       "      <td>34.0</td>\n",
       "    </tr>\n",
       "    <tr>\n",
       "      <td>23</td>\n",
       "      <td>1007</td>\n",
       "      <td>10</td>\n",
       "      <td>70.0</td>\n",
       "      <td>145.0</td>\n",
       "      <td>9.0</td>\n",
       "      <td>23.0</td>\n",
       "      <td>Eusebio</td>\n",
       "      <td>Welch</td>\n",
       "      <td>42</td>\n",
       "      <td>Grand Rapids-Kentwood</td>\n",
       "      <td>2018-07-11</td>\n",
       "      <td>surf</td>\n",
       "      <td>MI</td>\n",
       "      <td>20</td>\n",
       "      <td>145.0</td>\n",
       "      <td>9.0</td>\n",
       "      <td>23.0</td>\n",
       "      <td>197.0</td>\n",
       "    </tr>\n",
       "    <tr>\n",
       "      <td>24</td>\n",
       "      <td>1007</td>\n",
       "      <td>11</td>\n",
       "      <td>61.0</td>\n",
       "      <td>24.0</td>\n",
       "      <td>0.0</td>\n",
       "      <td>10.0</td>\n",
       "      <td>Eusebio</td>\n",
       "      <td>Welch</td>\n",
       "      <td>42</td>\n",
       "      <td>Grand Rapids-Kentwood</td>\n",
       "      <td>2018-07-11</td>\n",
       "      <td>surf</td>\n",
       "      <td>MI</td>\n",
       "      <td>20</td>\n",
       "      <td>24.0</td>\n",
       "      <td>0.0</td>\n",
       "      <td>10.0</td>\n",
       "      <td>54.0</td>\n",
       "    </tr>\n",
       "    <tr>\n",
       "      <td>25</td>\n",
       "      <td>1007</td>\n",
       "      <td>12</td>\n",
       "      <td>71.0</td>\n",
       "      <td>117.0</td>\n",
       "      <td>0.0</td>\n",
       "      <td>15.0</td>\n",
       "      <td>Eusebio</td>\n",
       "      <td>Welch</td>\n",
       "      <td>42</td>\n",
       "      <td>Grand Rapids-Kentwood</td>\n",
       "      <td>2018-07-11</td>\n",
       "      <td>surf</td>\n",
       "      <td>MI</td>\n",
       "      <td>20</td>\n",
       "      <td>117.0</td>\n",
       "      <td>0.0</td>\n",
       "      <td>15.0</td>\n",
       "      <td>152.0</td>\n",
       "    </tr>\n",
       "    <tr>\n",
       "      <td>26</td>\n",
       "      <td>1008</td>\n",
       "      <td>10</td>\n",
       "      <td>54.0</td>\n",
       "      <td>0.0</td>\n",
       "      <td>0.0</td>\n",
       "      <td>0.0</td>\n",
       "      <td>Emely</td>\n",
       "      <td>Hoffman</td>\n",
       "      <td>53</td>\n",
       "      <td>Orlando-Kissimmee-Sanford</td>\n",
       "      <td>2018-08-03</td>\n",
       "      <td>ultimate</td>\n",
       "      <td>FL</td>\n",
       "      <td>70</td>\n",
       "      <td>0.0</td>\n",
       "      <td>0.0</td>\n",
       "      <td>0.0</td>\n",
       "      <td>70.0</td>\n",
       "    </tr>\n",
       "    <tr>\n",
       "      <td>27</td>\n",
       "      <td>1008</td>\n",
       "      <td>11</td>\n",
       "      <td>50.0</td>\n",
       "      <td>0.0</td>\n",
       "      <td>0.0</td>\n",
       "      <td>0.0</td>\n",
       "      <td>Emely</td>\n",
       "      <td>Hoffman</td>\n",
       "      <td>53</td>\n",
       "      <td>Orlando-Kissimmee-Sanford</td>\n",
       "      <td>2018-08-03</td>\n",
       "      <td>ultimate</td>\n",
       "      <td>FL</td>\n",
       "      <td>70</td>\n",
       "      <td>0.0</td>\n",
       "      <td>0.0</td>\n",
       "      <td>0.0</td>\n",
       "      <td>70.0</td>\n",
       "    </tr>\n",
       "    <tr>\n",
       "      <td>28</td>\n",
       "      <td>1008</td>\n",
       "      <td>12</td>\n",
       "      <td>65.0</td>\n",
       "      <td>0.0</td>\n",
       "      <td>0.0</td>\n",
       "      <td>0.0</td>\n",
       "      <td>Emely</td>\n",
       "      <td>Hoffman</td>\n",
       "      <td>53</td>\n",
       "      <td>Orlando-Kissimmee-Sanford</td>\n",
       "      <td>2018-08-03</td>\n",
       "      <td>ultimate</td>\n",
       "      <td>FL</td>\n",
       "      <td>70</td>\n",
       "      <td>0.0</td>\n",
       "      <td>0.0</td>\n",
       "      <td>0.0</td>\n",
       "      <td>70.0</td>\n",
       "    </tr>\n",
       "    <tr>\n",
       "      <td>29</td>\n",
       "      <td>1009</td>\n",
       "      <td>5</td>\n",
       "      <td>61.0</td>\n",
       "      <td>34.0</td>\n",
       "      <td>NaN</td>\n",
       "      <td>6.0</td>\n",
       "      <td>Gerry</td>\n",
       "      <td>Little</td>\n",
       "      <td>19</td>\n",
       "      <td>San Jose-Sunnyvale-Santa Clara</td>\n",
       "      <td>2018-04-22</td>\n",
       "      <td>surf</td>\n",
       "      <td>CA</td>\n",
       "      <td>20</td>\n",
       "      <td>34.0</td>\n",
       "      <td>NaN</td>\n",
       "      <td>6.0</td>\n",
       "      <td>60.0</td>\n",
       "    </tr>\n",
       "    <tr>\n",
       "      <td>30</td>\n",
       "      <td>1009</td>\n",
       "      <td>6</td>\n",
       "      <td>94.0</td>\n",
       "      <td>323.0</td>\n",
       "      <td>NaN</td>\n",
       "      <td>4.0</td>\n",
       "      <td>Gerry</td>\n",
       "      <td>Little</td>\n",
       "      <td>19</td>\n",
       "      <td>San Jose-Sunnyvale-Santa Clara</td>\n",
       "      <td>2018-04-22</td>\n",
       "      <td>surf</td>\n",
       "      <td>CA</td>\n",
       "      <td>20</td>\n",
       "      <td>323.0</td>\n",
       "      <td>NaN</td>\n",
       "      <td>4.0</td>\n",
       "      <td>347.0</td>\n",
       "    </tr>\n",
       "    <tr>\n",
       "      <td>31</td>\n",
       "      <td>1009</td>\n",
       "      <td>7</td>\n",
       "      <td>103.0</td>\n",
       "      <td>380.0</td>\n",
       "      <td>NaN</td>\n",
       "      <td>16.0</td>\n",
       "      <td>Gerry</td>\n",
       "      <td>Little</td>\n",
       "      <td>19</td>\n",
       "      <td>San Jose-Sunnyvale-Santa Clara</td>\n",
       "      <td>2018-04-22</td>\n",
       "      <td>surf</td>\n",
       "      <td>CA</td>\n",
       "      <td>20</td>\n",
       "      <td>380.0</td>\n",
       "      <td>NaN</td>\n",
       "      <td>16.0</td>\n",
       "      <td>416.0</td>\n",
       "    </tr>\n",
       "    <tr>\n",
       "      <td>32</td>\n",
       "      <td>1009</td>\n",
       "      <td>8</td>\n",
       "      <td>88.0</td>\n",
       "      <td>231.0</td>\n",
       "      <td>NaN</td>\n",
       "      <td>10.0</td>\n",
       "      <td>Gerry</td>\n",
       "      <td>Little</td>\n",
       "      <td>19</td>\n",
       "      <td>San Jose-Sunnyvale-Santa Clara</td>\n",
       "      <td>2018-04-22</td>\n",
       "      <td>surf</td>\n",
       "      <td>CA</td>\n",
       "      <td>20</td>\n",
       "      <td>231.0</td>\n",
       "      <td>NaN</td>\n",
       "      <td>10.0</td>\n",
       "      <td>261.0</td>\n",
       "    </tr>\n",
       "    <tr>\n",
       "      <td>33</td>\n",
       "      <td>1009</td>\n",
       "      <td>9</td>\n",
       "      <td>92.0</td>\n",
       "      <td>276.0</td>\n",
       "      <td>NaN</td>\n",
       "      <td>6.0</td>\n",
       "      <td>Gerry</td>\n",
       "      <td>Little</td>\n",
       "      <td>19</td>\n",
       "      <td>San Jose-Sunnyvale-Santa Clara</td>\n",
       "      <td>2018-04-22</td>\n",
       "      <td>surf</td>\n",
       "      <td>CA</td>\n",
       "      <td>20</td>\n",
       "      <td>276.0</td>\n",
       "      <td>NaN</td>\n",
       "      <td>6.0</td>\n",
       "      <td>302.0</td>\n",
       "    </tr>\n",
       "    <tr>\n",
       "      <td>34</td>\n",
       "      <td>1009</td>\n",
       "      <td>10</td>\n",
       "      <td>93.0</td>\n",
       "      <td>240.0</td>\n",
       "      <td>NaN</td>\n",
       "      <td>8.0</td>\n",
       "      <td>Gerry</td>\n",
       "      <td>Little</td>\n",
       "      <td>19</td>\n",
       "      <td>San Jose-Sunnyvale-Santa Clara</td>\n",
       "      <td>2018-04-22</td>\n",
       "      <td>surf</td>\n",
       "      <td>CA</td>\n",
       "      <td>20</td>\n",
       "      <td>240.0</td>\n",
       "      <td>NaN</td>\n",
       "      <td>8.0</td>\n",
       "      <td>268.0</td>\n",
       "    </tr>\n",
       "    <tr>\n",
       "      <td>35</td>\n",
       "      <td>1009</td>\n",
       "      <td>11</td>\n",
       "      <td>80.0</td>\n",
       "      <td>214.0</td>\n",
       "      <td>NaN</td>\n",
       "      <td>11.0</td>\n",
       "      <td>Gerry</td>\n",
       "      <td>Little</td>\n",
       "      <td>19</td>\n",
       "      <td>San Jose-Sunnyvale-Santa Clara</td>\n",
       "      <td>2018-04-22</td>\n",
       "      <td>surf</td>\n",
       "      <td>CA</td>\n",
       "      <td>20</td>\n",
       "      <td>214.0</td>\n",
       "      <td>NaN</td>\n",
       "      <td>11.0</td>\n",
       "      <td>245.0</td>\n",
       "    </tr>\n",
       "    <tr>\n",
       "      <td>36</td>\n",
       "      <td>1009</td>\n",
       "      <td>12</td>\n",
       "      <td>87.0</td>\n",
       "      <td>256.0</td>\n",
       "      <td>NaN</td>\n",
       "      <td>9.0</td>\n",
       "      <td>Gerry</td>\n",
       "      <td>Little</td>\n",
       "      <td>19</td>\n",
       "      <td>San Jose-Sunnyvale-Santa Clara</td>\n",
       "      <td>2018-04-22</td>\n",
       "      <td>surf</td>\n",
       "      <td>CA</td>\n",
       "      <td>20</td>\n",
       "      <td>256.0</td>\n",
       "      <td>NaN</td>\n",
       "      <td>9.0</td>\n",
       "      <td>285.0</td>\n",
       "    </tr>\n",
       "    <tr>\n",
       "      <td>37</td>\n",
       "      <td>1010</td>\n",
       "      <td>3</td>\n",
       "      <td>47.0</td>\n",
       "      <td>0.0</td>\n",
       "      <td>NaN</td>\n",
       "      <td>0.0</td>\n",
       "      <td>Wilber</td>\n",
       "      <td>Blair</td>\n",
       "      <td>52</td>\n",
       "      <td>Dallas-Fort Worth-Arlington</td>\n",
       "      <td>2018-03-09</td>\n",
       "      <td>surf</td>\n",
       "      <td>TX</td>\n",
       "      <td>20</td>\n",
       "      <td>0.0</td>\n",
       "      <td>NaN</td>\n",
       "      <td>0.0</td>\n",
       "      <td>20.0</td>\n",
       "    </tr>\n",
       "    <tr>\n",
       "      <td>38</td>\n",
       "      <td>1010</td>\n",
       "      <td>4</td>\n",
       "      <td>76.0</td>\n",
       "      <td>156.0</td>\n",
       "      <td>NaN</td>\n",
       "      <td>5.0</td>\n",
       "      <td>Wilber</td>\n",
       "      <td>Blair</td>\n",
       "      <td>52</td>\n",
       "      <td>Dallas-Fort Worth-Arlington</td>\n",
       "      <td>2018-03-09</td>\n",
       "      <td>surf</td>\n",
       "      <td>TX</td>\n",
       "      <td>20</td>\n",
       "      <td>156.0</td>\n",
       "      <td>NaN</td>\n",
       "      <td>5.0</td>\n",
       "      <td>181.0</td>\n",
       "    </tr>\n",
       "    <tr>\n",
       "      <td>39</td>\n",
       "      <td>1010</td>\n",
       "      <td>5</td>\n",
       "      <td>64.0</td>\n",
       "      <td>32.0</td>\n",
       "      <td>NaN</td>\n",
       "      <td>1.0</td>\n",
       "      <td>Wilber</td>\n",
       "      <td>Blair</td>\n",
       "      <td>52</td>\n",
       "      <td>Dallas-Fort Worth-Arlington</td>\n",
       "      <td>2018-03-09</td>\n",
       "      <td>surf</td>\n",
       "      <td>TX</td>\n",
       "      <td>20</td>\n",
       "      <td>32.0</td>\n",
       "      <td>NaN</td>\n",
       "      <td>1.0</td>\n",
       "      <td>53.0</td>\n",
       "    </tr>\n",
       "    <tr>\n",
       "      <td>40</td>\n",
       "      <td>1010</td>\n",
       "      <td>6</td>\n",
       "      <td>61.0</td>\n",
       "      <td>53.0</td>\n",
       "      <td>NaN</td>\n",
       "      <td>2.0</td>\n",
       "      <td>Wilber</td>\n",
       "      <td>Blair</td>\n",
       "      <td>52</td>\n",
       "      <td>Dallas-Fort Worth-Arlington</td>\n",
       "      <td>2018-03-09</td>\n",
       "      <td>surf</td>\n",
       "      <td>TX</td>\n",
       "      <td>20</td>\n",
       "      <td>53.0</td>\n",
       "      <td>NaN</td>\n",
       "      <td>2.0</td>\n",
       "      <td>75.0</td>\n",
       "    </tr>\n",
       "    <tr>\n",
       "      <td>41</td>\n",
       "      <td>1010</td>\n",
       "      <td>7</td>\n",
       "      <td>80.0</td>\n",
       "      <td>198.0</td>\n",
       "      <td>NaN</td>\n",
       "      <td>0.0</td>\n",
       "      <td>Wilber</td>\n",
       "      <td>Blair</td>\n",
       "      <td>52</td>\n",
       "      <td>Dallas-Fort Worth-Arlington</td>\n",
       "      <td>2018-03-09</td>\n",
       "      <td>surf</td>\n",
       "      <td>TX</td>\n",
       "      <td>20</td>\n",
       "      <td>198.0</td>\n",
       "      <td>NaN</td>\n",
       "      <td>0.0</td>\n",
       "      <td>218.0</td>\n",
       "    </tr>\n",
       "    <tr>\n",
       "      <td>42</td>\n",
       "      <td>1010</td>\n",
       "      <td>8</td>\n",
       "      <td>80.0</td>\n",
       "      <td>137.0</td>\n",
       "      <td>NaN</td>\n",
       "      <td>5.0</td>\n",
       "      <td>Wilber</td>\n",
       "      <td>Blair</td>\n",
       "      <td>52</td>\n",
       "      <td>Dallas-Fort Worth-Arlington</td>\n",
       "      <td>2018-03-09</td>\n",
       "      <td>surf</td>\n",
       "      <td>TX</td>\n",
       "      <td>20</td>\n",
       "      <td>137.0</td>\n",
       "      <td>NaN</td>\n",
       "      <td>5.0</td>\n",
       "      <td>162.0</td>\n",
       "    </tr>\n",
       "    <tr>\n",
       "      <td>43</td>\n",
       "      <td>1010</td>\n",
       "      <td>9</td>\n",
       "      <td>69.0</td>\n",
       "      <td>101.0</td>\n",
       "      <td>NaN</td>\n",
       "      <td>2.0</td>\n",
       "      <td>Wilber</td>\n",
       "      <td>Blair</td>\n",
       "      <td>52</td>\n",
       "      <td>Dallas-Fort Worth-Arlington</td>\n",
       "      <td>2018-03-09</td>\n",
       "      <td>surf</td>\n",
       "      <td>TX</td>\n",
       "      <td>20</td>\n",
       "      <td>101.0</td>\n",
       "      <td>NaN</td>\n",
       "      <td>2.0</td>\n",
       "      <td>123.0</td>\n",
       "    </tr>\n",
       "    <tr>\n",
       "      <td>44</td>\n",
       "      <td>1010</td>\n",
       "      <td>10</td>\n",
       "      <td>78.0</td>\n",
       "      <td>211.0</td>\n",
       "      <td>NaN</td>\n",
       "      <td>2.0</td>\n",
       "      <td>Wilber</td>\n",
       "      <td>Blair</td>\n",
       "      <td>52</td>\n",
       "      <td>Dallas-Fort Worth-Arlington</td>\n",
       "      <td>2018-03-09</td>\n",
       "      <td>surf</td>\n",
       "      <td>TX</td>\n",
       "      <td>20</td>\n",
       "      <td>211.0</td>\n",
       "      <td>NaN</td>\n",
       "      <td>2.0</td>\n",
       "      <td>233.0</td>\n",
       "    </tr>\n",
       "    <tr>\n",
       "      <td>45</td>\n",
       "      <td>1010</td>\n",
       "      <td>11</td>\n",
       "      <td>26.0</td>\n",
       "      <td>0.0</td>\n",
       "      <td>NaN</td>\n",
       "      <td>0.0</td>\n",
       "      <td>Wilber</td>\n",
       "      <td>Blair</td>\n",
       "      <td>52</td>\n",
       "      <td>Dallas-Fort Worth-Arlington</td>\n",
       "      <td>2018-03-09</td>\n",
       "      <td>surf</td>\n",
       "      <td>TX</td>\n",
       "      <td>20</td>\n",
       "      <td>0.0</td>\n",
       "      <td>NaN</td>\n",
       "      <td>0.0</td>\n",
       "      <td>20.0</td>\n",
       "    </tr>\n",
       "    <tr>\n",
       "      <td>46</td>\n",
       "      <td>1011</td>\n",
       "      <td>6</td>\n",
       "      <td>13.0</td>\n",
       "      <td>0.0</td>\n",
       "      <td>0.0</td>\n",
       "      <td>0.0</td>\n",
       "      <td>Halina</td>\n",
       "      <td>Henry</td>\n",
       "      <td>73</td>\n",
       "      <td>Cleveland-Elyria</td>\n",
       "      <td>2018-01-18</td>\n",
       "      <td>ultimate</td>\n",
       "      <td>OH</td>\n",
       "      <td>70</td>\n",
       "      <td>0.0</td>\n",
       "      <td>0.0</td>\n",
       "      <td>0.0</td>\n",
       "      <td>70.0</td>\n",
       "    </tr>\n",
       "    <tr>\n",
       "      <td>47</td>\n",
       "      <td>1011</td>\n",
       "      <td>7</td>\n",
       "      <td>49.0</td>\n",
       "      <td>0.0</td>\n",
       "      <td>0.0</td>\n",
       "      <td>0.0</td>\n",
       "      <td>Halina</td>\n",
       "      <td>Henry</td>\n",
       "      <td>73</td>\n",
       "      <td>Cleveland-Elyria</td>\n",
       "      <td>2018-01-18</td>\n",
       "      <td>ultimate</td>\n",
       "      <td>OH</td>\n",
       "      <td>70</td>\n",
       "      <td>0.0</td>\n",
       "      <td>0.0</td>\n",
       "      <td>0.0</td>\n",
       "      <td>70.0</td>\n",
       "    </tr>\n",
       "    <tr>\n",
       "      <td>48</td>\n",
       "      <td>1011</td>\n",
       "      <td>8</td>\n",
       "      <td>49.0</td>\n",
       "      <td>0.0</td>\n",
       "      <td>0.0</td>\n",
       "      <td>0.0</td>\n",
       "      <td>Halina</td>\n",
       "      <td>Henry</td>\n",
       "      <td>73</td>\n",
       "      <td>Cleveland-Elyria</td>\n",
       "      <td>2018-01-18</td>\n",
       "      <td>ultimate</td>\n",
       "      <td>OH</td>\n",
       "      <td>70</td>\n",
       "      <td>0.0</td>\n",
       "      <td>0.0</td>\n",
       "      <td>0.0</td>\n",
       "      <td>70.0</td>\n",
       "    </tr>\n",
       "    <tr>\n",
       "      <td>49</td>\n",
       "      <td>1011</td>\n",
       "      <td>9</td>\n",
       "      <td>55.0</td>\n",
       "      <td>0.0</td>\n",
       "      <td>0.0</td>\n",
       "      <td>0.0</td>\n",
       "      <td>Halina</td>\n",
       "      <td>Henry</td>\n",
       "      <td>73</td>\n",
       "      <td>Cleveland-Elyria</td>\n",
       "      <td>2018-01-18</td>\n",
       "      <td>ultimate</td>\n",
       "      <td>OH</td>\n",
       "      <td>70</td>\n",
       "      <td>0.0</td>\n",
       "      <td>0.0</td>\n",
       "      <td>0.0</td>\n",
       "      <td>70.0</td>\n",
       "    </tr>\n",
       "  </tbody>\n",
       "</table>\n",
       "</div>"
      ],
      "text/plain": [
       "    user_id  month  call_date  duration  message_date  mb_used first_name  \\\n",
       "0      1000     12       16.0       0.0           0.0      0.0   Anamaria   \n",
       "1      1001      8       22.0       0.0           0.0      0.0     Mickey   \n",
       "2      1001      9       38.0       0.0           0.0      0.0     Mickey   \n",
       "3      1001     10       47.0       0.0           3.0      8.0     Mickey   \n",
       "4      1001     11       49.0       0.0           0.0      4.0     Mickey   \n",
       "5      1001     12       46.0       0.0           0.0      5.0     Mickey   \n",
       "6      1002     10        8.0       0.0           0.0      0.0     Carlee   \n",
       "7      1002     11       48.0       0.0           0.0      5.0     Carlee   \n",
       "8      1002     12       38.0       0.0           0.0      0.0     Carlee   \n",
       "9      1003     12      118.0     604.0           0.0     13.0   Reynaldo   \n",
       "10     1004      5       19.0       0.0           0.0      0.0    Leonila   \n",
       "11     1004      6       33.0       0.0           0.0      6.0    Leonila   \n",
       "12     1004      7       45.0       0.0           0.0     10.0    Leonila   \n",
       "13     1004      8       42.0       0.0           0.0     13.0    Leonila   \n",
       "14     1004      9       32.0       0.0           0.0      4.0    Leonila   \n",
       "15     1004     10       47.0       0.0           0.0      0.0    Leonila   \n",
       "16     1004     11       45.0       0.0           0.0      7.0    Leonila   \n",
       "17     1004     12       43.0       0.0           0.0      7.0    Leonila   \n",
       "18     1005     12       50.0       0.0           0.0      3.0      Livia   \n",
       "19     1006     11        2.0       0.0           0.0      0.0     Jesusa   \n",
       "20     1006     12        7.0       0.0           0.0      3.0     Jesusa   \n",
       "21     1007      8       56.0       0.0           1.0     10.0    Eusebio   \n",
       "22     1007      9       49.0       0.0           0.0     14.0    Eusebio   \n",
       "23     1007     10       70.0     145.0           9.0     23.0    Eusebio   \n",
       "24     1007     11       61.0      24.0           0.0     10.0    Eusebio   \n",
       "25     1007     12       71.0     117.0           0.0     15.0    Eusebio   \n",
       "26     1008     10       54.0       0.0           0.0      0.0      Emely   \n",
       "27     1008     11       50.0       0.0           0.0      0.0      Emely   \n",
       "28     1008     12       65.0       0.0           0.0      0.0      Emely   \n",
       "29     1009      5       61.0      34.0           NaN      6.0      Gerry   \n",
       "30     1009      6       94.0     323.0           NaN      4.0      Gerry   \n",
       "31     1009      7      103.0     380.0           NaN     16.0      Gerry   \n",
       "32     1009      8       88.0     231.0           NaN     10.0      Gerry   \n",
       "33     1009      9       92.0     276.0           NaN      6.0      Gerry   \n",
       "34     1009     10       93.0     240.0           NaN      8.0      Gerry   \n",
       "35     1009     11       80.0     214.0           NaN     11.0      Gerry   \n",
       "36     1009     12       87.0     256.0           NaN      9.0      Gerry   \n",
       "37     1010      3       47.0       0.0           NaN      0.0     Wilber   \n",
       "38     1010      4       76.0     156.0           NaN      5.0     Wilber   \n",
       "39     1010      5       64.0      32.0           NaN      1.0     Wilber   \n",
       "40     1010      6       61.0      53.0           NaN      2.0     Wilber   \n",
       "41     1010      7       80.0     198.0           NaN      0.0     Wilber   \n",
       "42     1010      8       80.0     137.0           NaN      5.0     Wilber   \n",
       "43     1010      9       69.0     101.0           NaN      2.0     Wilber   \n",
       "44     1010     10       78.0     211.0           NaN      2.0     Wilber   \n",
       "45     1010     11       26.0       0.0           NaN      0.0     Wilber   \n",
       "46     1011      6       13.0       0.0           0.0      0.0     Halina   \n",
       "47     1011      7       49.0       0.0           0.0      0.0     Halina   \n",
       "48     1011      8       49.0       0.0           0.0      0.0     Halina   \n",
       "49     1011      9       55.0       0.0           0.0      0.0     Halina   \n",
       "\n",
       "    last_name  age                            city    reg_date      plan  \\\n",
       "0       Bauer   45   Atlanta-Sandy Springs-Roswell  2018-12-24  ultimate   \n",
       "1   Wilkerson   28         Seattle-Tacoma-Bellevue  2018-08-13      surf   \n",
       "2   Wilkerson   28         Seattle-Tacoma-Bellevue  2018-08-13      surf   \n",
       "3   Wilkerson   28         Seattle-Tacoma-Bellevue  2018-08-13      surf   \n",
       "4   Wilkerson   28         Seattle-Tacoma-Bellevue  2018-08-13      surf   \n",
       "5   Wilkerson   28         Seattle-Tacoma-Bellevue  2018-08-13      surf   \n",
       "6     Hoffman   36    Las Vegas-Henderson-Paradise  2018-10-21      surf   \n",
       "7     Hoffman   36    Las Vegas-Henderson-Paradise  2018-10-21      surf   \n",
       "8     Hoffman   36    Las Vegas-Henderson-Paradise  2018-10-21      surf   \n",
       "9     Jenkins   52                           Tulsa  2018-01-28      surf   \n",
       "10   Thompson   40         Seattle-Tacoma-Bellevue  2018-05-23      surf   \n",
       "11   Thompson   40         Seattle-Tacoma-Bellevue  2018-05-23      surf   \n",
       "12   Thompson   40         Seattle-Tacoma-Bellevue  2018-05-23      surf   \n",
       "13   Thompson   40         Seattle-Tacoma-Bellevue  2018-05-23      surf   \n",
       "14   Thompson   40         Seattle-Tacoma-Bellevue  2018-05-23      surf   \n",
       "15   Thompson   40         Seattle-Tacoma-Bellevue  2018-05-23      surf   \n",
       "16   Thompson   40         Seattle-Tacoma-Bellevue  2018-05-23      surf   \n",
       "17   Thompson   40         Seattle-Tacoma-Bellevue  2018-05-23      surf   \n",
       "18    Shields   31     Dallas-Fort Worth-Arlington  2018-11-29      surf   \n",
       "19   Bradford   73  San Francisco-Oakland-Berkeley  2018-11-27  ultimate   \n",
       "20   Bradford   73  San Francisco-Oakland-Berkeley  2018-11-27  ultimate   \n",
       "21      Welch   42           Grand Rapids-Kentwood  2018-07-11      surf   \n",
       "22      Welch   42           Grand Rapids-Kentwood  2018-07-11      surf   \n",
       "23      Welch   42           Grand Rapids-Kentwood  2018-07-11      surf   \n",
       "24      Welch   42           Grand Rapids-Kentwood  2018-07-11      surf   \n",
       "25      Welch   42           Grand Rapids-Kentwood  2018-07-11      surf   \n",
       "26    Hoffman   53       Orlando-Kissimmee-Sanford  2018-08-03  ultimate   \n",
       "27    Hoffman   53       Orlando-Kissimmee-Sanford  2018-08-03  ultimate   \n",
       "28    Hoffman   53       Orlando-Kissimmee-Sanford  2018-08-03  ultimate   \n",
       "29     Little   19  San Jose-Sunnyvale-Santa Clara  2018-04-22      surf   \n",
       "30     Little   19  San Jose-Sunnyvale-Santa Clara  2018-04-22      surf   \n",
       "31     Little   19  San Jose-Sunnyvale-Santa Clara  2018-04-22      surf   \n",
       "32     Little   19  San Jose-Sunnyvale-Santa Clara  2018-04-22      surf   \n",
       "33     Little   19  San Jose-Sunnyvale-Santa Clara  2018-04-22      surf   \n",
       "34     Little   19  San Jose-Sunnyvale-Santa Clara  2018-04-22      surf   \n",
       "35     Little   19  San Jose-Sunnyvale-Santa Clara  2018-04-22      surf   \n",
       "36     Little   19  San Jose-Sunnyvale-Santa Clara  2018-04-22      surf   \n",
       "37      Blair   52     Dallas-Fort Worth-Arlington  2018-03-09      surf   \n",
       "38      Blair   52     Dallas-Fort Worth-Arlington  2018-03-09      surf   \n",
       "39      Blair   52     Dallas-Fort Worth-Arlington  2018-03-09      surf   \n",
       "40      Blair   52     Dallas-Fort Worth-Arlington  2018-03-09      surf   \n",
       "41      Blair   52     Dallas-Fort Worth-Arlington  2018-03-09      surf   \n",
       "42      Blair   52     Dallas-Fort Worth-Arlington  2018-03-09      surf   \n",
       "43      Blair   52     Dallas-Fort Worth-Arlington  2018-03-09      surf   \n",
       "44      Blair   52     Dallas-Fort Worth-Arlington  2018-03-09      surf   \n",
       "45      Blair   52     Dallas-Fort Worth-Arlington  2018-03-09      surf   \n",
       "46      Henry   73                Cleveland-Elyria  2018-01-18  ultimate   \n",
       "47      Henry   73                Cleveland-Elyria  2018-01-18  ultimate   \n",
       "48      Henry   73                Cleveland-Elyria  2018-01-18  ultimate   \n",
       "49      Henry   73                Cleveland-Elyria  2018-01-18  ultimate   \n",
       "\n",
       "   state  base_cost  excess_call_fee  excess_text_fee  excess_data_fee  \\\n",
       "0     GA         70              0.0              0.0              0.0   \n",
       "1     WA         20              0.0              0.0              0.0   \n",
       "2     WA         20              0.0              0.0              0.0   \n",
       "3     WA         20              0.0              3.0              8.0   \n",
       "4     WA         20              0.0              0.0              4.0   \n",
       "5     WA         20              0.0              0.0              5.0   \n",
       "6     NV         20              0.0              0.0              0.0   \n",
       "7     NV         20              0.0              0.0              5.0   \n",
       "8     NV         20              0.0              0.0              0.0   \n",
       "9     OK         20            604.0              0.0             13.0   \n",
       "10    WA         20              0.0              0.0              0.0   \n",
       "11    WA         20              0.0              0.0              6.0   \n",
       "12    WA         20              0.0              0.0             10.0   \n",
       "13    WA         20              0.0              0.0             13.0   \n",
       "14    WA         20              0.0              0.0              4.0   \n",
       "15    WA         20              0.0              0.0              0.0   \n",
       "16    WA         20              0.0              0.0              7.0   \n",
       "17    WA         20              0.0              0.0              7.0   \n",
       "18    TX         20              0.0              0.0              3.0   \n",
       "19    CA         70              0.0              0.0              0.0   \n",
       "20    CA         70              0.0              0.0              3.0   \n",
       "21    MI         20              0.0              1.0             10.0   \n",
       "22    MI         20              0.0              0.0             14.0   \n",
       "23    MI         20            145.0              9.0             23.0   \n",
       "24    MI         20             24.0              0.0             10.0   \n",
       "25    MI         20            117.0              0.0             15.0   \n",
       "26    FL         70              0.0              0.0              0.0   \n",
       "27    FL         70              0.0              0.0              0.0   \n",
       "28    FL         70              0.0              0.0              0.0   \n",
       "29    CA         20             34.0              NaN              6.0   \n",
       "30    CA         20            323.0              NaN              4.0   \n",
       "31    CA         20            380.0              NaN             16.0   \n",
       "32    CA         20            231.0              NaN             10.0   \n",
       "33    CA         20            276.0              NaN              6.0   \n",
       "34    CA         20            240.0              NaN              8.0   \n",
       "35    CA         20            214.0              NaN             11.0   \n",
       "36    CA         20            256.0              NaN              9.0   \n",
       "37    TX         20              0.0              NaN              0.0   \n",
       "38    TX         20            156.0              NaN              5.0   \n",
       "39    TX         20             32.0              NaN              1.0   \n",
       "40    TX         20             53.0              NaN              2.0   \n",
       "41    TX         20            198.0              NaN              0.0   \n",
       "42    TX         20            137.0              NaN              5.0   \n",
       "43    TX         20            101.0              NaN              2.0   \n",
       "44    TX         20            211.0              NaN              2.0   \n",
       "45    TX         20              0.0              NaN              0.0   \n",
       "46    OH         70              0.0              0.0              0.0   \n",
       "47    OH         70              0.0              0.0              0.0   \n",
       "48    OH         70              0.0              0.0              0.0   \n",
       "49    OH         70              0.0              0.0              0.0   \n",
       "\n",
       "    total_cost  \n",
       "0         70.0  \n",
       "1         20.0  \n",
       "2         20.0  \n",
       "3         31.0  \n",
       "4         24.0  \n",
       "5         25.0  \n",
       "6         20.0  \n",
       "7         25.0  \n",
       "8         20.0  \n",
       "9        637.0  \n",
       "10        20.0  \n",
       "11        26.0  \n",
       "12        30.0  \n",
       "13        33.0  \n",
       "14        24.0  \n",
       "15        20.0  \n",
       "16        27.0  \n",
       "17        27.0  \n",
       "18        23.0  \n",
       "19        70.0  \n",
       "20        73.0  \n",
       "21        31.0  \n",
       "22        34.0  \n",
       "23       197.0  \n",
       "24        54.0  \n",
       "25       152.0  \n",
       "26        70.0  \n",
       "27        70.0  \n",
       "28        70.0  \n",
       "29        60.0  \n",
       "30       347.0  \n",
       "31       416.0  \n",
       "32       261.0  \n",
       "33       302.0  \n",
       "34       268.0  \n",
       "35       245.0  \n",
       "36       285.0  \n",
       "37        20.0  \n",
       "38       181.0  \n",
       "39        53.0  \n",
       "40        75.0  \n",
       "41       218.0  \n",
       "42       162.0  \n",
       "43       123.0  \n",
       "44       233.0  \n",
       "45        20.0  \n",
       "46        70.0  \n",
       "47        70.0  \n",
       "48        70.0  \n",
       "49        70.0  "
      ]
     },
     "execution_count": 52,
     "metadata": {},
     "output_type": "execute_result"
    }
   ],
   "source": [
    "revenue.head(50)"
   ]
  },
  {
   "cell_type": "markdown",
   "metadata": {},
   "source": [
    "## Study user behaviour"
   ]
  },
  {
   "cell_type": "markdown",
   "metadata": {},
   "source": [
    "In this section, I will calculate descriptive statistics and generate histograms for the aggregated data.\n",
    "\n",
    "Given that the main task is to compare the plans and decide on which one is more profitable, the statistics and the plots are calculated on a per-plan basis.\n",
    "\n",
    "I will calculate the mean, variance, and standard deviation and describe the distribution in terms of the minutes, texts, and volume of data the users of each plan require per month."
   ]
  },
  {
   "cell_type": "markdown",
   "metadata": {},
   "source": [
    "### Calls"
   ]
  },
  {
   "cell_type": "code",
   "execution_count": 54,
   "metadata": {},
   "outputs": [
    {
     "data": {
      "text/html": [
       "<div>\n",
       "<style scoped>\n",
       "    .dataframe tbody tr th:only-of-type {\n",
       "        vertical-align: middle;\n",
       "    }\n",
       "\n",
       "    .dataframe tbody tr th {\n",
       "        vertical-align: top;\n",
       "    }\n",
       "\n",
       "    .dataframe thead th {\n",
       "        text-align: right;\n",
       "    }\n",
       "</style>\n",
       "<table border=\"1\" class=\"dataframe\">\n",
       "  <thead>\n",
       "    <tr style=\"text-align: right;\">\n",
       "      <th></th>\n",
       "      <th>user_id</th>\n",
       "      <th>month</th>\n",
       "      <th>number_of_call</th>\n",
       "      <th>amount_of_minutes</th>\n",
       "      <th>number_of_messages</th>\n",
       "      <th>volume_of_internet</th>\n",
       "      <th>first_name</th>\n",
       "      <th>last_name</th>\n",
       "      <th>age</th>\n",
       "      <th>city</th>\n",
       "      <th>reg_date</th>\n",
       "      <th>plan</th>\n",
       "      <th>state</th>\n",
       "    </tr>\n",
       "  </thead>\n",
       "  <tbody>\n",
       "    <tr>\n",
       "      <td>0</td>\n",
       "      <td>1000</td>\n",
       "      <td>12</td>\n",
       "      <td>16.0</td>\n",
       "      <td>124.0</td>\n",
       "      <td>11.0</td>\n",
       "      <td>1901.47</td>\n",
       "      <td>Anamaria</td>\n",
       "      <td>Bauer</td>\n",
       "      <td>45</td>\n",
       "      <td>Atlanta-Sandy Springs-Roswell</td>\n",
       "      <td>2018-12-24</td>\n",
       "      <td>ultimate</td>\n",
       "      <td>GA</td>\n",
       "    </tr>\n",
       "    <tr>\n",
       "      <td>1</td>\n",
       "      <td>1001</td>\n",
       "      <td>8</td>\n",
       "      <td>22.0</td>\n",
       "      <td>182.0</td>\n",
       "      <td>30.0</td>\n",
       "      <td>6919.15</td>\n",
       "      <td>Mickey</td>\n",
       "      <td>Wilkerson</td>\n",
       "      <td>28</td>\n",
       "      <td>Seattle-Tacoma-Bellevue</td>\n",
       "      <td>2018-08-13</td>\n",
       "      <td>surf</td>\n",
       "      <td>WA</td>\n",
       "    </tr>\n",
       "    <tr>\n",
       "      <td>2</td>\n",
       "      <td>1001</td>\n",
       "      <td>9</td>\n",
       "      <td>38.0</td>\n",
       "      <td>315.0</td>\n",
       "      <td>44.0</td>\n",
       "      <td>13314.82</td>\n",
       "      <td>Mickey</td>\n",
       "      <td>Wilkerson</td>\n",
       "      <td>28</td>\n",
       "      <td>Seattle-Tacoma-Bellevue</td>\n",
       "      <td>2018-08-13</td>\n",
       "      <td>surf</td>\n",
       "      <td>WA</td>\n",
       "    </tr>\n",
       "    <tr>\n",
       "      <td>3</td>\n",
       "      <td>1001</td>\n",
       "      <td>10</td>\n",
       "      <td>47.0</td>\n",
       "      <td>393.0</td>\n",
       "      <td>53.0</td>\n",
       "      <td>22330.49</td>\n",
       "      <td>Mickey</td>\n",
       "      <td>Wilkerson</td>\n",
       "      <td>28</td>\n",
       "      <td>Seattle-Tacoma-Bellevue</td>\n",
       "      <td>2018-08-13</td>\n",
       "      <td>surf</td>\n",
       "      <td>WA</td>\n",
       "    </tr>\n",
       "    <tr>\n",
       "      <td>4</td>\n",
       "      <td>1001</td>\n",
       "      <td>11</td>\n",
       "      <td>49.0</td>\n",
       "      <td>426.0</td>\n",
       "      <td>36.0</td>\n",
       "      <td>18504.30</td>\n",
       "      <td>Mickey</td>\n",
       "      <td>Wilkerson</td>\n",
       "      <td>28</td>\n",
       "      <td>Seattle-Tacoma-Bellevue</td>\n",
       "      <td>2018-08-13</td>\n",
       "      <td>surf</td>\n",
       "      <td>WA</td>\n",
       "    </tr>\n",
       "    <tr>\n",
       "      <td>...</td>\n",
       "      <td>...</td>\n",
       "      <td>...</td>\n",
       "      <td>...</td>\n",
       "      <td>...</td>\n",
       "      <td>...</td>\n",
       "      <td>...</td>\n",
       "      <td>...</td>\n",
       "      <td>...</td>\n",
       "      <td>...</td>\n",
       "      <td>...</td>\n",
       "      <td>...</td>\n",
       "      <td>...</td>\n",
       "      <td>...</td>\n",
       "    </tr>\n",
       "    <tr>\n",
       "      <td>2288</td>\n",
       "      <td>1498</td>\n",
       "      <td>12</td>\n",
       "      <td>32.0</td>\n",
       "      <td>339.0</td>\n",
       "      <td>NaN</td>\n",
       "      <td>23137.69</td>\n",
       "      <td>Scot</td>\n",
       "      <td>Williamson</td>\n",
       "      <td>51</td>\n",
       "      <td>New York-Newark-Jersey City</td>\n",
       "      <td>2018-02-04</td>\n",
       "      <td>surf</td>\n",
       "      <td>NY-NJ-PA</td>\n",
       "    </tr>\n",
       "    <tr>\n",
       "      <td>2289</td>\n",
       "      <td>1499</td>\n",
       "      <td>9</td>\n",
       "      <td>35.0</td>\n",
       "      <td>346.0</td>\n",
       "      <td>NaN</td>\n",
       "      <td>12984.76</td>\n",
       "      <td>Shena</td>\n",
       "      <td>Dickson</td>\n",
       "      <td>37</td>\n",
       "      <td>Orlando-Kissimmee-Sanford</td>\n",
       "      <td>2018-05-06</td>\n",
       "      <td>surf</td>\n",
       "      <td>FL</td>\n",
       "    </tr>\n",
       "    <tr>\n",
       "      <td>2290</td>\n",
       "      <td>1499</td>\n",
       "      <td>10</td>\n",
       "      <td>41.0</td>\n",
       "      <td>385.0</td>\n",
       "      <td>NaN</td>\n",
       "      <td>19492.43</td>\n",
       "      <td>Shena</td>\n",
       "      <td>Dickson</td>\n",
       "      <td>37</td>\n",
       "      <td>Orlando-Kissimmee-Sanford</td>\n",
       "      <td>2018-05-06</td>\n",
       "      <td>surf</td>\n",
       "      <td>FL</td>\n",
       "    </tr>\n",
       "    <tr>\n",
       "      <td>2291</td>\n",
       "      <td>1499</td>\n",
       "      <td>11</td>\n",
       "      <td>39.0</td>\n",
       "      <td>308.0</td>\n",
       "      <td>NaN</td>\n",
       "      <td>16813.83</td>\n",
       "      <td>Shena</td>\n",
       "      <td>Dickson</td>\n",
       "      <td>37</td>\n",
       "      <td>Orlando-Kissimmee-Sanford</td>\n",
       "      <td>2018-05-06</td>\n",
       "      <td>surf</td>\n",
       "      <td>FL</td>\n",
       "    </tr>\n",
       "    <tr>\n",
       "      <td>2292</td>\n",
       "      <td>1499</td>\n",
       "      <td>12</td>\n",
       "      <td>56.0</td>\n",
       "      <td>496.0</td>\n",
       "      <td>NaN</td>\n",
       "      <td>22059.21</td>\n",
       "      <td>Shena</td>\n",
       "      <td>Dickson</td>\n",
       "      <td>37</td>\n",
       "      <td>Orlando-Kissimmee-Sanford</td>\n",
       "      <td>2018-05-06</td>\n",
       "      <td>surf</td>\n",
       "      <td>FL</td>\n",
       "    </tr>\n",
       "  </tbody>\n",
       "</table>\n",
       "<p>2293 rows × 13 columns</p>\n",
       "</div>"
      ],
      "text/plain": [
       "      user_id  month  number_of_call  amount_of_minutes  number_of_messages  \\\n",
       "0        1000     12            16.0              124.0                11.0   \n",
       "1        1001      8            22.0              182.0                30.0   \n",
       "2        1001      9            38.0              315.0                44.0   \n",
       "3        1001     10            47.0              393.0                53.0   \n",
       "4        1001     11            49.0              426.0                36.0   \n",
       "...       ...    ...             ...                ...                 ...   \n",
       "2288     1498     12            32.0              339.0                 NaN   \n",
       "2289     1499      9            35.0              346.0                 NaN   \n",
       "2290     1499     10            41.0              385.0                 NaN   \n",
       "2291     1499     11            39.0              308.0                 NaN   \n",
       "2292     1499     12            56.0              496.0                 NaN   \n",
       "\n",
       "      volume_of_internet first_name   last_name  age  \\\n",
       "0                1901.47   Anamaria       Bauer   45   \n",
       "1                6919.15     Mickey   Wilkerson   28   \n",
       "2               13314.82     Mickey   Wilkerson   28   \n",
       "3               22330.49     Mickey   Wilkerson   28   \n",
       "4               18504.30     Mickey   Wilkerson   28   \n",
       "...                  ...        ...         ...  ...   \n",
       "2288            23137.69       Scot  Williamson   51   \n",
       "2289            12984.76      Shena     Dickson   37   \n",
       "2290            19492.43      Shena     Dickson   37   \n",
       "2291            16813.83      Shena     Dickson   37   \n",
       "2292            22059.21      Shena     Dickson   37   \n",
       "\n",
       "                               city    reg_date      plan      state  \n",
       "0     Atlanta-Sandy Springs-Roswell  2018-12-24  ultimate         GA  \n",
       "1           Seattle-Tacoma-Bellevue  2018-08-13      surf         WA  \n",
       "2           Seattle-Tacoma-Bellevue  2018-08-13      surf         WA  \n",
       "3           Seattle-Tacoma-Bellevue  2018-08-13      surf         WA  \n",
       "4           Seattle-Tacoma-Bellevue  2018-08-13      surf         WA  \n",
       "...                             ...         ...       ...        ...  \n",
       "2288    New York-Newark-Jersey City  2018-02-04      surf   NY-NJ-PA  \n",
       "2289      Orlando-Kissimmee-Sanford  2018-05-06      surf         FL  \n",
       "2290      Orlando-Kissimmee-Sanford  2018-05-06      surf         FL  \n",
       "2291      Orlando-Kissimmee-Sanford  2018-05-06      surf         FL  \n",
       "2292      Orlando-Kissimmee-Sanford  2018-05-06      surf         FL  \n",
       "\n",
       "[2293 rows x 13 columns]"
      ]
     },
     "execution_count": 54,
     "metadata": {},
     "output_type": "execute_result"
    }
   ],
   "source": [
    "data = pd.merge(left = df, right = user, on=['user_id'])\n",
    "data.rename(columns={\"call_date\": \"number_of_call\", \"duration\": \"amount_of_minutes\", \"message_date\":'number_of_messages',\"mb_used\":\"volume_of_internet\"})"
   ]
  },
  {
   "cell_type": "code",
   "execution_count": 55,
   "metadata": {},
   "outputs": [
    {
     "data": {
      "text/html": [
       "<div>\n",
       "<style scoped>\n",
       "    .dataframe tbody tr th:only-of-type {\n",
       "        vertical-align: middle;\n",
       "    }\n",
       "\n",
       "    .dataframe tbody tr th {\n",
       "        vertical-align: top;\n",
       "    }\n",
       "\n",
       "    .dataframe thead th {\n",
       "        text-align: right;\n",
       "    }\n",
       "</style>\n",
       "<table border=\"1\" class=\"dataframe\">\n",
       "  <thead>\n",
       "    <tr style=\"text-align: right;\">\n",
       "      <th></th>\n",
       "      <th>user_id</th>\n",
       "      <th>month</th>\n",
       "      <th>call_date</th>\n",
       "      <th>duration</th>\n",
       "      <th>message_date</th>\n",
       "      <th>mb_used</th>\n",
       "      <th>first_name</th>\n",
       "      <th>last_name</th>\n",
       "      <th>age</th>\n",
       "      <th>city</th>\n",
       "      <th>reg_date</th>\n",
       "      <th>plan</th>\n",
       "      <th>state</th>\n",
       "    </tr>\n",
       "  </thead>\n",
       "  <tbody>\n",
       "    <tr>\n",
       "      <td>1</td>\n",
       "      <td>1001</td>\n",
       "      <td>8</td>\n",
       "      <td>22.0</td>\n",
       "      <td>182.0</td>\n",
       "      <td>30.0</td>\n",
       "      <td>6919.15</td>\n",
       "      <td>Mickey</td>\n",
       "      <td>Wilkerson</td>\n",
       "      <td>28</td>\n",
       "      <td>Seattle-Tacoma-Bellevue</td>\n",
       "      <td>2018-08-13</td>\n",
       "      <td>surf</td>\n",
       "      <td>WA</td>\n",
       "    </tr>\n",
       "    <tr>\n",
       "      <td>2</td>\n",
       "      <td>1001</td>\n",
       "      <td>9</td>\n",
       "      <td>38.0</td>\n",
       "      <td>315.0</td>\n",
       "      <td>44.0</td>\n",
       "      <td>13314.82</td>\n",
       "      <td>Mickey</td>\n",
       "      <td>Wilkerson</td>\n",
       "      <td>28</td>\n",
       "      <td>Seattle-Tacoma-Bellevue</td>\n",
       "      <td>2018-08-13</td>\n",
       "      <td>surf</td>\n",
       "      <td>WA</td>\n",
       "    </tr>\n",
       "    <tr>\n",
       "      <td>3</td>\n",
       "      <td>1001</td>\n",
       "      <td>10</td>\n",
       "      <td>47.0</td>\n",
       "      <td>393.0</td>\n",
       "      <td>53.0</td>\n",
       "      <td>22330.49</td>\n",
       "      <td>Mickey</td>\n",
       "      <td>Wilkerson</td>\n",
       "      <td>28</td>\n",
       "      <td>Seattle-Tacoma-Bellevue</td>\n",
       "      <td>2018-08-13</td>\n",
       "      <td>surf</td>\n",
       "      <td>WA</td>\n",
       "    </tr>\n",
       "    <tr>\n",
       "      <td>4</td>\n",
       "      <td>1001</td>\n",
       "      <td>11</td>\n",
       "      <td>49.0</td>\n",
       "      <td>426.0</td>\n",
       "      <td>36.0</td>\n",
       "      <td>18504.30</td>\n",
       "      <td>Mickey</td>\n",
       "      <td>Wilkerson</td>\n",
       "      <td>28</td>\n",
       "      <td>Seattle-Tacoma-Bellevue</td>\n",
       "      <td>2018-08-13</td>\n",
       "      <td>surf</td>\n",
       "      <td>WA</td>\n",
       "    </tr>\n",
       "    <tr>\n",
       "      <td>5</td>\n",
       "      <td>1001</td>\n",
       "      <td>12</td>\n",
       "      <td>46.0</td>\n",
       "      <td>412.0</td>\n",
       "      <td>44.0</td>\n",
       "      <td>19369.18</td>\n",
       "      <td>Mickey</td>\n",
       "      <td>Wilkerson</td>\n",
       "      <td>28</td>\n",
       "      <td>Seattle-Tacoma-Bellevue</td>\n",
       "      <td>2018-08-13</td>\n",
       "      <td>surf</td>\n",
       "      <td>WA</td>\n",
       "    </tr>\n",
       "    <tr>\n",
       "      <td>6</td>\n",
       "      <td>1002</td>\n",
       "      <td>10</td>\n",
       "      <td>8.0</td>\n",
       "      <td>59.0</td>\n",
       "      <td>15.0</td>\n",
       "      <td>6552.01</td>\n",
       "      <td>Carlee</td>\n",
       "      <td>Hoffman</td>\n",
       "      <td>36</td>\n",
       "      <td>Las Vegas-Henderson-Paradise</td>\n",
       "      <td>2018-10-21</td>\n",
       "      <td>surf</td>\n",
       "      <td>NV</td>\n",
       "    </tr>\n",
       "    <tr>\n",
       "      <td>7</td>\n",
       "      <td>1002</td>\n",
       "      <td>11</td>\n",
       "      <td>48.0</td>\n",
       "      <td>386.0</td>\n",
       "      <td>32.0</td>\n",
       "      <td>19345.08</td>\n",
       "      <td>Carlee</td>\n",
       "      <td>Hoffman</td>\n",
       "      <td>36</td>\n",
       "      <td>Las Vegas-Henderson-Paradise</td>\n",
       "      <td>2018-10-21</td>\n",
       "      <td>surf</td>\n",
       "      <td>NV</td>\n",
       "    </tr>\n",
       "    <tr>\n",
       "      <td>8</td>\n",
       "      <td>1002</td>\n",
       "      <td>12</td>\n",
       "      <td>38.0</td>\n",
       "      <td>384.0</td>\n",
       "      <td>41.0</td>\n",
       "      <td>14396.24</td>\n",
       "      <td>Carlee</td>\n",
       "      <td>Hoffman</td>\n",
       "      <td>36</td>\n",
       "      <td>Las Vegas-Henderson-Paradise</td>\n",
       "      <td>2018-10-21</td>\n",
       "      <td>surf</td>\n",
       "      <td>NV</td>\n",
       "    </tr>\n",
       "    <tr>\n",
       "      <td>9</td>\n",
       "      <td>1003</td>\n",
       "      <td>12</td>\n",
       "      <td>118.0</td>\n",
       "      <td>1104.0</td>\n",
       "      <td>50.0</td>\n",
       "      <td>27044.14</td>\n",
       "      <td>Reynaldo</td>\n",
       "      <td>Jenkins</td>\n",
       "      <td>52</td>\n",
       "      <td>Tulsa</td>\n",
       "      <td>2018-01-28</td>\n",
       "      <td>surf</td>\n",
       "      <td>OK</td>\n",
       "    </tr>\n",
       "    <tr>\n",
       "      <td>10</td>\n",
       "      <td>1004</td>\n",
       "      <td>5</td>\n",
       "      <td>19.0</td>\n",
       "      <td>193.0</td>\n",
       "      <td>7.0</td>\n",
       "      <td>6547.21</td>\n",
       "      <td>Leonila</td>\n",
       "      <td>Thompson</td>\n",
       "      <td>40</td>\n",
       "      <td>Seattle-Tacoma-Bellevue</td>\n",
       "      <td>2018-05-23</td>\n",
       "      <td>surf</td>\n",
       "      <td>WA</td>\n",
       "    </tr>\n",
       "    <tr>\n",
       "      <td>11</td>\n",
       "      <td>1004</td>\n",
       "      <td>6</td>\n",
       "      <td>33.0</td>\n",
       "      <td>275.0</td>\n",
       "      <td>18.0</td>\n",
       "      <td>20672.82</td>\n",
       "      <td>Leonila</td>\n",
       "      <td>Thompson</td>\n",
       "      <td>40</td>\n",
       "      <td>Seattle-Tacoma-Bellevue</td>\n",
       "      <td>2018-05-23</td>\n",
       "      <td>surf</td>\n",
       "      <td>WA</td>\n",
       "    </tr>\n",
       "    <tr>\n",
       "      <td>12</td>\n",
       "      <td>1004</td>\n",
       "      <td>7</td>\n",
       "      <td>45.0</td>\n",
       "      <td>381.0</td>\n",
       "      <td>26.0</td>\n",
       "      <td>24516.62</td>\n",
       "      <td>Leonila</td>\n",
       "      <td>Thompson</td>\n",
       "      <td>40</td>\n",
       "      <td>Seattle-Tacoma-Bellevue</td>\n",
       "      <td>2018-05-23</td>\n",
       "      <td>surf</td>\n",
       "      <td>WA</td>\n",
       "    </tr>\n",
       "    <tr>\n",
       "      <td>13</td>\n",
       "      <td>1004</td>\n",
       "      <td>8</td>\n",
       "      <td>42.0</td>\n",
       "      <td>354.0</td>\n",
       "      <td>25.0</td>\n",
       "      <td>27981.74</td>\n",
       "      <td>Leonila</td>\n",
       "      <td>Thompson</td>\n",
       "      <td>40</td>\n",
       "      <td>Seattle-Tacoma-Bellevue</td>\n",
       "      <td>2018-05-23</td>\n",
       "      <td>surf</td>\n",
       "      <td>WA</td>\n",
       "    </tr>\n",
       "    <tr>\n",
       "      <td>14</td>\n",
       "      <td>1004</td>\n",
       "      <td>9</td>\n",
       "      <td>32.0</td>\n",
       "      <td>301.0</td>\n",
       "      <td>21.0</td>\n",
       "      <td>18852.72</td>\n",
       "      <td>Leonila</td>\n",
       "      <td>Thompson</td>\n",
       "      <td>40</td>\n",
       "      <td>Seattle-Tacoma-Bellevue</td>\n",
       "      <td>2018-05-23</td>\n",
       "      <td>surf</td>\n",
       "      <td>WA</td>\n",
       "    </tr>\n",
       "    <tr>\n",
       "      <td>15</td>\n",
       "      <td>1004</td>\n",
       "      <td>10</td>\n",
       "      <td>47.0</td>\n",
       "      <td>365.0</td>\n",
       "      <td>24.0</td>\n",
       "      <td>14541.63</td>\n",
       "      <td>Leonila</td>\n",
       "      <td>Thompson</td>\n",
       "      <td>40</td>\n",
       "      <td>Seattle-Tacoma-Bellevue</td>\n",
       "      <td>2018-05-23</td>\n",
       "      <td>surf</td>\n",
       "      <td>WA</td>\n",
       "    </tr>\n",
       "    <tr>\n",
       "      <td>16</td>\n",
       "      <td>1004</td>\n",
       "      <td>11</td>\n",
       "      <td>45.0</td>\n",
       "      <td>476.0</td>\n",
       "      <td>25.0</td>\n",
       "      <td>21850.78</td>\n",
       "      <td>Leonila</td>\n",
       "      <td>Thompson</td>\n",
       "      <td>40</td>\n",
       "      <td>Seattle-Tacoma-Bellevue</td>\n",
       "      <td>2018-05-23</td>\n",
       "      <td>surf</td>\n",
       "      <td>WA</td>\n",
       "    </tr>\n",
       "    <tr>\n",
       "      <td>17</td>\n",
       "      <td>1004</td>\n",
       "      <td>12</td>\n",
       "      <td>43.0</td>\n",
       "      <td>427.0</td>\n",
       "      <td>31.0</td>\n",
       "      <td>21389.29</td>\n",
       "      <td>Leonila</td>\n",
       "      <td>Thompson</td>\n",
       "      <td>40</td>\n",
       "      <td>Seattle-Tacoma-Bellevue</td>\n",
       "      <td>2018-05-23</td>\n",
       "      <td>surf</td>\n",
       "      <td>WA</td>\n",
       "    </tr>\n",
       "    <tr>\n",
       "      <td>18</td>\n",
       "      <td>1005</td>\n",
       "      <td>12</td>\n",
       "      <td>50.0</td>\n",
       "      <td>496.0</td>\n",
       "      <td>11.0</td>\n",
       "      <td>17140.17</td>\n",
       "      <td>Livia</td>\n",
       "      <td>Shields</td>\n",
       "      <td>31</td>\n",
       "      <td>Dallas-Fort Worth-Arlington</td>\n",
       "      <td>2018-11-29</td>\n",
       "      <td>surf</td>\n",
       "      <td>TX</td>\n",
       "    </tr>\n",
       "    <tr>\n",
       "      <td>21</td>\n",
       "      <td>1007</td>\n",
       "      <td>8</td>\n",
       "      <td>56.0</td>\n",
       "      <td>456.0</td>\n",
       "      <td>51.0</td>\n",
       "      <td>24439.88</td>\n",
       "      <td>Eusebio</td>\n",
       "      <td>Welch</td>\n",
       "      <td>42</td>\n",
       "      <td>Grand Rapids-Kentwood</td>\n",
       "      <td>2018-07-11</td>\n",
       "      <td>surf</td>\n",
       "      <td>MI</td>\n",
       "    </tr>\n",
       "    <tr>\n",
       "      <td>22</td>\n",
       "      <td>1007</td>\n",
       "      <td>9</td>\n",
       "      <td>49.0</td>\n",
       "      <td>399.0</td>\n",
       "      <td>47.0</td>\n",
       "      <td>28123.95</td>\n",
       "      <td>Eusebio</td>\n",
       "      <td>Welch</td>\n",
       "      <td>42</td>\n",
       "      <td>Grand Rapids-Kentwood</td>\n",
       "      <td>2018-07-11</td>\n",
       "      <td>surf</td>\n",
       "      <td>MI</td>\n",
       "    </tr>\n",
       "  </tbody>\n",
       "</table>\n",
       "</div>"
      ],
      "text/plain": [
       "    user_id  month  call_date  duration  message_date   mb_used first_name  \\\n",
       "1      1001      8       22.0     182.0          30.0   6919.15     Mickey   \n",
       "2      1001      9       38.0     315.0          44.0  13314.82     Mickey   \n",
       "3      1001     10       47.0     393.0          53.0  22330.49     Mickey   \n",
       "4      1001     11       49.0     426.0          36.0  18504.30     Mickey   \n",
       "5      1001     12       46.0     412.0          44.0  19369.18     Mickey   \n",
       "6      1002     10        8.0      59.0          15.0   6552.01     Carlee   \n",
       "7      1002     11       48.0     386.0          32.0  19345.08     Carlee   \n",
       "8      1002     12       38.0     384.0          41.0  14396.24     Carlee   \n",
       "9      1003     12      118.0    1104.0          50.0  27044.14   Reynaldo   \n",
       "10     1004      5       19.0     193.0           7.0   6547.21    Leonila   \n",
       "11     1004      6       33.0     275.0          18.0  20672.82    Leonila   \n",
       "12     1004      7       45.0     381.0          26.0  24516.62    Leonila   \n",
       "13     1004      8       42.0     354.0          25.0  27981.74    Leonila   \n",
       "14     1004      9       32.0     301.0          21.0  18852.72    Leonila   \n",
       "15     1004     10       47.0     365.0          24.0  14541.63    Leonila   \n",
       "16     1004     11       45.0     476.0          25.0  21850.78    Leonila   \n",
       "17     1004     12       43.0     427.0          31.0  21389.29    Leonila   \n",
       "18     1005     12       50.0     496.0          11.0  17140.17      Livia   \n",
       "21     1007      8       56.0     456.0          51.0  24439.88    Eusebio   \n",
       "22     1007      9       49.0     399.0          47.0  28123.95    Eusebio   \n",
       "\n",
       "    last_name  age                          city    reg_date  plan state  \n",
       "1   Wilkerson   28       Seattle-Tacoma-Bellevue  2018-08-13  surf    WA  \n",
       "2   Wilkerson   28       Seattle-Tacoma-Bellevue  2018-08-13  surf    WA  \n",
       "3   Wilkerson   28       Seattle-Tacoma-Bellevue  2018-08-13  surf    WA  \n",
       "4   Wilkerson   28       Seattle-Tacoma-Bellevue  2018-08-13  surf    WA  \n",
       "5   Wilkerson   28       Seattle-Tacoma-Bellevue  2018-08-13  surf    WA  \n",
       "6     Hoffman   36  Las Vegas-Henderson-Paradise  2018-10-21  surf    NV  \n",
       "7     Hoffman   36  Las Vegas-Henderson-Paradise  2018-10-21  surf    NV  \n",
       "8     Hoffman   36  Las Vegas-Henderson-Paradise  2018-10-21  surf    NV  \n",
       "9     Jenkins   52                         Tulsa  2018-01-28  surf    OK  \n",
       "10   Thompson   40       Seattle-Tacoma-Bellevue  2018-05-23  surf    WA  \n",
       "11   Thompson   40       Seattle-Tacoma-Bellevue  2018-05-23  surf    WA  \n",
       "12   Thompson   40       Seattle-Tacoma-Bellevue  2018-05-23  surf    WA  \n",
       "13   Thompson   40       Seattle-Tacoma-Bellevue  2018-05-23  surf    WA  \n",
       "14   Thompson   40       Seattle-Tacoma-Bellevue  2018-05-23  surf    WA  \n",
       "15   Thompson   40       Seattle-Tacoma-Bellevue  2018-05-23  surf    WA  \n",
       "16   Thompson   40       Seattle-Tacoma-Bellevue  2018-05-23  surf    WA  \n",
       "17   Thompson   40       Seattle-Tacoma-Bellevue  2018-05-23  surf    WA  \n",
       "18    Shields   31   Dallas-Fort Worth-Arlington  2018-11-29  surf    TX  \n",
       "21      Welch   42         Grand Rapids-Kentwood  2018-07-11  surf    MI  \n",
       "22      Welch   42         Grand Rapids-Kentwood  2018-07-11  surf    MI  "
      ]
     },
     "execution_count": 55,
     "metadata": {},
     "output_type": "execute_result"
    }
   ],
   "source": [
    "# Compare average duration of calls per each plan per each distinct month. Plot a bar plat to visualize it.\n",
    "# Surf plan average duration of call per month\n",
    "import matplotlib.pyplot as plt\n",
    "surf = data[data['plan']=='surf']\n",
    "surf.head(20)"
   ]
  },
  {
   "cell_type": "code",
   "execution_count": 56,
   "metadata": {},
   "outputs": [
    {
     "data": {
      "image/png": "[encoded data removed]",
      "text/plain": [
       "<Figure size 432x288 with 1 Axes>"
      ]
     },
     "metadata": {
      "needs_background": "light"
     },
     "output_type": "display_data"
    }
   ],
   "source": [
    "# Plot a boxplot to visualize the distribution of the monthly call duration\n",
    "# Surf\n",
    "surf.boxplot('duration', by = 'month')\n",
    "plt.show()"
   ]
  },
  {
   "cell_type": "code",
   "execution_count": 57,
   "metadata": {},
   "outputs": [
    {
     "data": {
      "image/png": "[encoded data removed]",
      "text/plain": [
       "<Figure size 432x288 with 1 Axes>"
      ]
     },
     "metadata": {
      "needs_background": "light"
     },
     "output_type": "display_data"
    }
   ],
   "source": [
    "# Plot a boxplot to visualize the distribution of the monthly call duration\n",
    "# Ultimate\n",
    "\n",
    "ultimate = data[data['plan']=='ultimate']\n",
    "ultimate.boxplot('duration', by = 'month')\n",
    "plt.show()"
   ]
  },
  {
   "cell_type": "code",
   "execution_count": 58,
   "metadata": {},
   "outputs": [
    {
     "data": {
      "text/plain": [
       "count     712.000000\n",
       "mean      435.286517\n",
       "std       237.459650\n",
       "min        10.000000\n",
       "25%       263.000000\n",
       "50%       425.500000\n",
       "75%       566.000000\n",
       "max      1369.000000\n",
       "Name: duration, dtype: float64"
      ]
     },
     "execution_count": 58,
     "metadata": {},
     "output_type": "execute_result"
    }
   ],
   "source": [
    "# Calculate the mean and the variance of the monthly call duration\n",
    "ultimate_duration = ultimate['duration']\n",
    "surf_duration = surf['duration']\n",
    "\n",
    "ultimate_duration.describe()\n"
   ]
  },
  {
   "cell_type": "code",
   "execution_count": 59,
   "metadata": {},
   "outputs": [],
   "source": [
    "variance_ultimate = 237.459650 * 237.459650"
   ]
  },
  {
   "cell_type": "code",
   "execution_count": 60,
   "metadata": {},
   "outputs": [
    {
     "data": {
      "text/plain": [
       "count    1544.000000\n",
       "mean      436.802461\n",
       "std       229.088544\n",
       "min         2.000000\n",
       "25%       279.000000\n",
       "50%       430.000000\n",
       "75%       579.000000\n",
       "max      1510.000000\n",
       "Name: duration, dtype: float64"
      ]
     },
     "execution_count": 60,
     "metadata": {},
     "output_type": "execute_result"
    }
   ],
   "source": [
    "surf_duration.describe()\n"
   ]
  },
  {
   "cell_type": "code",
   "execution_count": 61,
   "metadata": {},
   "outputs": [],
   "source": [
    "variance_surf = 229.088544 * 229.088544"
   ]
  },
  {
   "cell_type": "code",
   "execution_count": 62,
   "metadata": {},
   "outputs": [
    {
     "data": {
      "image/png": "[encoded data removed]",
      "text/plain": [
       "<Figure size 720x576 with 1 Axes>"
      ]
     },
     "metadata": {
      "needs_background": "light"
     },
     "output_type": "display_data"
    }
   ],
   "source": [
    "# Compare the number of minutes users of each plan require each month. Plot a histogram.\n",
    "\n",
    "plt.figure(figsize=[10,8])\n",
    "x = ultimate['duration']\n",
    "y = surf['duration']\n",
    "n, bins, patches = plt.hist([x, y])"
   ]
  },
  {
   "cell_type": "markdown",
   "metadata": {},
   "source": [
    "#### Call Conclusions\n",
    "\n",
    "1. Mean -> observing the average between the two plans, users' average duration of phone call did not differ dramatically. For the surf plan group avg is 436 min and for the ultimate plan the average is 435 min by month.\n",
    "\n",
    "    - Our boxplots above confirms the similarity between the plans' means. There's no significant difference between plan usages by months. That means, users of both plans speak about 400+ minutes on phone calls.\n",
    "\n",
    "2. Variance --> the ultimate group users have a larger variance, indicating that call duration in the ultimate user group are farther from the mean and farther from each other, resulting in a wider spread of data.\n",
    "\n",
    "3. Distribution and implications --> \n",
    "    - When we look at the histogram above, both plans display a negative skew, indicating that most users of both plans tend to speak on the lower end of duration. \n",
    "    - The skewed distribution increases to peak at 400-600 for both groups, although the aggregate duration of ultimate plan users are higher. \n",
    "    - This makes intuitive sense as high call-duration users would self select and opt for a plan that allows for more minutes. "
   ]
  },
  {
   "cell_type": "markdown",
   "metadata": {},
   "source": [
    "### Messages"
   ]
  },
  {
   "cell_type": "code",
   "execution_count": 63,
   "metadata": {},
   "outputs": [],
   "source": [
    "# Compare the number of messages users of each plan tend to send each month\n",
    "surf_messages = surf['message_date']\n",
    "ultimate_messages = ultimate['message_date']"
   ]
  },
  {
   "cell_type": "code",
   "execution_count": 64,
   "metadata": {},
   "outputs": [
    {
     "data": {
      "text/plain": [
       "count    1222.000000\n",
       "mean       40.109656\n",
       "std        33.035500\n",
       "min         1.000000\n",
       "25%        16.000000\n",
       "50%        32.000000\n",
       "75%        54.000000\n",
       "max       266.000000\n",
       "Name: message_date, dtype: float64"
      ]
     },
     "execution_count": 64,
     "metadata": {},
     "output_type": "execute_result"
    }
   ],
   "source": [
    "surf_messages.describe()"
   ]
  },
  {
   "cell_type": "code",
   "execution_count": 65,
   "metadata": {},
   "outputs": [
    {
     "data": {
      "text/plain": [
       "count    584.000000\n",
       "mean      46.296233\n",
       "std       32.942118\n",
       "min        1.000000\n",
       "25%       21.000000\n",
       "50%       41.000000\n",
       "75%       66.000000\n",
       "max      166.000000\n",
       "Name: message_date, dtype: float64"
      ]
     },
     "execution_count": 65,
     "metadata": {},
     "output_type": "execute_result"
    }
   ],
   "source": [
    "ultimate_messages.describe()"
   ]
  },
  {
   "cell_type": "code",
   "execution_count": 66,
   "metadata": {},
   "outputs": [
    {
     "data": {
      "image/png": "[encoded data removed]",
      "text/plain": [
       "<Figure size 432x288 with 1 Axes>"
      ]
     },
     "metadata": {
      "needs_background": "light"
     },
     "output_type": "display_data"
    }
   ],
   "source": [
    "surf.boxplot('message_date', by = 'month')\n",
    "plt.show()"
   ]
  },
  {
   "cell_type": "code",
   "execution_count": 67,
   "metadata": {},
   "outputs": [
    {
     "data": {
      "image/png": "[encoded data removed]",
      "text/plain": [
       "<Figure size 432x288 with 1 Axes>"
      ]
     },
     "metadata": {
      "needs_background": "light"
     },
     "output_type": "display_data"
    }
   ],
   "source": [
    "ultimate.boxplot('message_date', by = 'month')\n",
    "plt.show()"
   ]
  },
  {
   "cell_type": "code",
   "execution_count": 68,
   "metadata": {},
   "outputs": [
    {
     "data": {
      "image/png": "[encoded data removed]",
      "text/plain": [
       "<Figure size 720x576 with 1 Axes>"
      ]
     },
     "metadata": {
      "needs_background": "light"
     },
     "output_type": "display_data"
    }
   ],
   "source": [
    "\n",
    "plt.figure(figsize=[10,8])\n",
    "x = ultimate_messages\n",
    "y = surf_messages\n",
    "n, bins, patches = plt.hist([x, y])"
   ]
  },
  {
   "cell_type": "markdown",
   "metadata": {},
   "source": [
    "#### Message Conclusions\n",
    "\n",
    "1. Mean -> observing the average between the two plans, ultimate plan users has a higher average at 46 messages, and the surf plan group avg is 40.\n",
    "\n",
    "    - Our boxplots confirms that the ultimate plan users has a higher average messages sent by month. Surf plan has more outliers over-sending messages beyond its plan base limit. Ultimate plan users has longer \"whiskers\", indicating a larger range of messages sent. This makes intuitive sense as the message limit for the ultimate plan is fairly high, at 1000 messages.\n",
    "\n",
    "2. Variance --> the two groups have very similar variance at about 1024. This means that the amount of messages sent by either groups are not too far from the mean or far from each other, resulting in a less wide spread of data.\n",
    "\n",
    "3. Distribution and implications --> \n",
    "    - When we look at the histogram above, both plans display a negative skew, indicating that most users of both plans text an lower amount of messages. \n",
    "    - The skewed distribution peaks immediately at 0-50 count for both groups, and decreases steadily over higher counts, although the aggregate message amount of ultimate plan users are higher. \n",
    "    - This makes intuitive sense as high text-amount users would self select and opt for a plan that allows for more messages. "
   ]
  },
  {
   "cell_type": "markdown",
   "metadata": {},
   "source": [
    " "
   ]
  },
  {
   "cell_type": "markdown",
   "metadata": {},
   "source": [
    "### Internet"
   ]
  },
  {
   "cell_type": "code",
   "execution_count": 69,
   "metadata": {},
   "outputs": [],
   "source": [
    "surf_internet = surf['mb_used']\n",
    "ultimate_internet = ultimate['mb_used']\n"
   ]
  },
  {
   "cell_type": "code",
   "execution_count": 70,
   "metadata": {},
   "outputs": [
    {
     "data": {
      "text/plain": [
       "count     1558.000000\n",
       "mean     16717.702137\n",
       "std       7884.682983\n",
       "min         92.310000\n",
       "25%      12187.955000\n",
       "50%      16923.830000\n",
       "75%      21039.860000\n",
       "max      70931.590000\n",
       "Name: mb_used, dtype: float64"
      ]
     },
     "execution_count": 70,
     "metadata": {},
     "output_type": "execute_result"
    }
   ],
   "source": [
    "surf_internet.describe()\n"
   ]
  },
  {
   "cell_type": "code",
   "execution_count": 71,
   "metadata": {},
   "outputs": [
    {
     "name": "stdout",
     "output_type": "stream",
     "text": [
      "62157456\n"
     ]
    }
   ],
   "source": [
    "surf_internet_variance = 7884*7884\n",
    "print(surf_internet_variance)"
   ]
  },
  {
   "cell_type": "code",
   "execution_count": 72,
   "metadata": {},
   "outputs": [
    {
     "data": {
      "text/plain": [
       "count      719.000000\n",
       "mean     17238.642253\n",
       "std       7831.018323\n",
       "min        233.170000\n",
       "25%      12671.130000\n",
       "50%      16863.450000\n",
       "75%      21025.155000\n",
       "max      46595.330000\n",
       "Name: mb_used, dtype: float64"
      ]
     },
     "execution_count": 72,
     "metadata": {},
     "output_type": "execute_result"
    }
   ],
   "source": [
    "ultimate_internet.describe()\n"
   ]
  },
  {
   "cell_type": "code",
   "execution_count": 73,
   "metadata": {},
   "outputs": [
    {
     "name": "stdout",
     "output_type": "stream",
     "text": [
      "61324847.97516174\n"
     ]
    }
   ],
   "source": [
    "ultimate_internet_variance = 7831.018323 * 7831.018323\n",
    "print(ultimate_internet_variance)"
   ]
  },
  {
   "cell_type": "code",
   "execution_count": 74,
   "metadata": {},
   "outputs": [
    {
     "data": {
      "image/png": "[encoded data removed]",
      "text/plain": [
       "<Figure size 432x288 with 1 Axes>"
      ]
     },
     "metadata": {
      "needs_background": "light"
     },
     "output_type": "display_data"
    }
   ],
   "source": [
    "surf.boxplot('mb_used', by = 'month')\n",
    "plt.show()\n"
   ]
  },
  {
   "cell_type": "code",
   "execution_count": 75,
   "metadata": {},
   "outputs": [
    {
     "data": {
      "image/png": "[encoded data removed]",
      "text/plain": [
       "<Figure size 432x288 with 1 Axes>"
      ]
     },
     "metadata": {
      "needs_background": "light"
     },
     "output_type": "display_data"
    }
   ],
   "source": [
    "ultimate.boxplot('mb_used', by = 'month')\n",
    "plt.show()\n"
   ]
  },
  {
   "cell_type": "code",
   "execution_count": 76,
   "metadata": {},
   "outputs": [
    {
     "data": {
      "image/png": "[encoded data removed]",
      "text/plain": [
       "<Figure size 720x576 with 1 Axes>"
      ]
     },
     "metadata": {
      "needs_background": "light"
     },
     "output_type": "display_data"
    }
   ],
   "source": [
    "plt.figure(figsize=[10,8])\n",
    "x = ultimate_internet\n",
    "y = surf_internet\n",
    "n, bins, patches = plt.hist([x, y])"
   ]
  },
  {
   "cell_type": "markdown",
   "metadata": {},
   "source": [
    "#### Internet Conclusions\n",
    "\n",
    "1. Mean -> observing the average between the two plans, ultimate plan users has a higher internet usage at 17238 mb, and the surf plan group avg is 16717.\n",
    "\n",
    "    - Our boxplots confirms that the ultimate plan users has a higher average internet usages by month. Surf plan has more outliers over-using data beyond its plan base limit. Ultimate plan users has longer \"whiskers\" and wider ranges i.e. boxes, indicating a larger range of internet usage. This makes intuitive sense as the internet limit for the ultimate plan is fairly high, at 30 GB.\n",
    "\n",
    "2. Variance --> the ultimate plan group has an enormous variance! This means that the amount of internet usage of this group is far from the mean and far from each other, resulting in a  wide spread of data -- which is evident in the boxplot. \n",
    "\n",
    "3. Distribution and implications --> \n",
    "    - When we look at the histogram above, although the shape of distribution is not perfectly normal, it is fairly bell-shaped with just a slight negative skew.\n",
    "    - The faily-normal distribution peaks at 10000-20000 mb of internet count for both groups.\n",
    "    - The aggregate internet usage of ultimate plan users are higher. This makes intuitive sense as these users would self select and opt for a plan that allows for more internet mbs. "
   ]
  },
  {
   "cell_type": "markdown",
   "metadata": {},
   "source": [
    "## Revenue"
   ]
  },
  {
   "cell_type": "code",
   "execution_count": 77,
   "metadata": {},
   "outputs": [
    {
     "data": {
      "text/html": [
       "<div>\n",
       "<style scoped>\n",
       "    .dataframe tbody tr th:only-of-type {\n",
       "        vertical-align: middle;\n",
       "    }\n",
       "\n",
       "    .dataframe tbody tr th {\n",
       "        vertical-align: top;\n",
       "    }\n",
       "\n",
       "    .dataframe thead th {\n",
       "        text-align: right;\n",
       "    }\n",
       "</style>\n",
       "<table border=\"1\" class=\"dataframe\">\n",
       "  <thead>\n",
       "    <tr style=\"text-align: right;\">\n",
       "      <th></th>\n",
       "      <th>user_id</th>\n",
       "      <th>month</th>\n",
       "      <th>call_date</th>\n",
       "      <th>duration</th>\n",
       "      <th>message_date</th>\n",
       "      <th>mb_used</th>\n",
       "      <th>first_name</th>\n",
       "      <th>last_name</th>\n",
       "      <th>age</th>\n",
       "      <th>city</th>\n",
       "      <th>reg_date</th>\n",
       "      <th>plan</th>\n",
       "      <th>state</th>\n",
       "      <th>base_cost</th>\n",
       "      <th>excess_call_fee</th>\n",
       "      <th>excess_text_fee</th>\n",
       "      <th>excess_data_fee</th>\n",
       "      <th>total_cost</th>\n",
       "    </tr>\n",
       "  </thead>\n",
       "  <tbody>\n",
       "    <tr>\n",
       "      <td>1</td>\n",
       "      <td>1001</td>\n",
       "      <td>8</td>\n",
       "      <td>22.0</td>\n",
       "      <td>0.0</td>\n",
       "      <td>0.0</td>\n",
       "      <td>0.0</td>\n",
       "      <td>Mickey</td>\n",
       "      <td>Wilkerson</td>\n",
       "      <td>28</td>\n",
       "      <td>Seattle-Tacoma-Bellevue</td>\n",
       "      <td>2018-08-13</td>\n",
       "      <td>surf</td>\n",
       "      <td>WA</td>\n",
       "      <td>20</td>\n",
       "      <td>0.0</td>\n",
       "      <td>0.0</td>\n",
       "      <td>0.0</td>\n",
       "      <td>20.0</td>\n",
       "    </tr>\n",
       "    <tr>\n",
       "      <td>2</td>\n",
       "      <td>1001</td>\n",
       "      <td>9</td>\n",
       "      <td>38.0</td>\n",
       "      <td>0.0</td>\n",
       "      <td>0.0</td>\n",
       "      <td>0.0</td>\n",
       "      <td>Mickey</td>\n",
       "      <td>Wilkerson</td>\n",
       "      <td>28</td>\n",
       "      <td>Seattle-Tacoma-Bellevue</td>\n",
       "      <td>2018-08-13</td>\n",
       "      <td>surf</td>\n",
       "      <td>WA</td>\n",
       "      <td>20</td>\n",
       "      <td>0.0</td>\n",
       "      <td>0.0</td>\n",
       "      <td>0.0</td>\n",
       "      <td>20.0</td>\n",
       "    </tr>\n",
       "    <tr>\n",
       "      <td>3</td>\n",
       "      <td>1001</td>\n",
       "      <td>10</td>\n",
       "      <td>47.0</td>\n",
       "      <td>0.0</td>\n",
       "      <td>3.0</td>\n",
       "      <td>8.0</td>\n",
       "      <td>Mickey</td>\n",
       "      <td>Wilkerson</td>\n",
       "      <td>28</td>\n",
       "      <td>Seattle-Tacoma-Bellevue</td>\n",
       "      <td>2018-08-13</td>\n",
       "      <td>surf</td>\n",
       "      <td>WA</td>\n",
       "      <td>20</td>\n",
       "      <td>0.0</td>\n",
       "      <td>3.0</td>\n",
       "      <td>8.0</td>\n",
       "      <td>31.0</td>\n",
       "    </tr>\n",
       "    <tr>\n",
       "      <td>4</td>\n",
       "      <td>1001</td>\n",
       "      <td>11</td>\n",
       "      <td>49.0</td>\n",
       "      <td>0.0</td>\n",
       "      <td>0.0</td>\n",
       "      <td>4.0</td>\n",
       "      <td>Mickey</td>\n",
       "      <td>Wilkerson</td>\n",
       "      <td>28</td>\n",
       "      <td>Seattle-Tacoma-Bellevue</td>\n",
       "      <td>2018-08-13</td>\n",
       "      <td>surf</td>\n",
       "      <td>WA</td>\n",
       "      <td>20</td>\n",
       "      <td>0.0</td>\n",
       "      <td>0.0</td>\n",
       "      <td>4.0</td>\n",
       "      <td>24.0</td>\n",
       "    </tr>\n",
       "    <tr>\n",
       "      <td>5</td>\n",
       "      <td>1001</td>\n",
       "      <td>12</td>\n",
       "      <td>46.0</td>\n",
       "      <td>0.0</td>\n",
       "      <td>0.0</td>\n",
       "      <td>5.0</td>\n",
       "      <td>Mickey</td>\n",
       "      <td>Wilkerson</td>\n",
       "      <td>28</td>\n",
       "      <td>Seattle-Tacoma-Bellevue</td>\n",
       "      <td>2018-08-13</td>\n",
       "      <td>surf</td>\n",
       "      <td>WA</td>\n",
       "      <td>20</td>\n",
       "      <td>0.0</td>\n",
       "      <td>0.0</td>\n",
       "      <td>5.0</td>\n",
       "      <td>25.0</td>\n",
       "    </tr>\n",
       "    <tr>\n",
       "      <td>6</td>\n",
       "      <td>1002</td>\n",
       "      <td>10</td>\n",
       "      <td>8.0</td>\n",
       "      <td>0.0</td>\n",
       "      <td>0.0</td>\n",
       "      <td>0.0</td>\n",
       "      <td>Carlee</td>\n",
       "      <td>Hoffman</td>\n",
       "      <td>36</td>\n",
       "      <td>Las Vegas-Henderson-Paradise</td>\n",
       "      <td>2018-10-21</td>\n",
       "      <td>surf</td>\n",
       "      <td>NV</td>\n",
       "      <td>20</td>\n",
       "      <td>0.0</td>\n",
       "      <td>0.0</td>\n",
       "      <td>0.0</td>\n",
       "      <td>20.0</td>\n",
       "    </tr>\n",
       "    <tr>\n",
       "      <td>7</td>\n",
       "      <td>1002</td>\n",
       "      <td>11</td>\n",
       "      <td>48.0</td>\n",
       "      <td>0.0</td>\n",
       "      <td>0.0</td>\n",
       "      <td>5.0</td>\n",
       "      <td>Carlee</td>\n",
       "      <td>Hoffman</td>\n",
       "      <td>36</td>\n",
       "      <td>Las Vegas-Henderson-Paradise</td>\n",
       "      <td>2018-10-21</td>\n",
       "      <td>surf</td>\n",
       "      <td>NV</td>\n",
       "      <td>20</td>\n",
       "      <td>0.0</td>\n",
       "      <td>0.0</td>\n",
       "      <td>5.0</td>\n",
       "      <td>25.0</td>\n",
       "    </tr>\n",
       "    <tr>\n",
       "      <td>8</td>\n",
       "      <td>1002</td>\n",
       "      <td>12</td>\n",
       "      <td>38.0</td>\n",
       "      <td>0.0</td>\n",
       "      <td>0.0</td>\n",
       "      <td>0.0</td>\n",
       "      <td>Carlee</td>\n",
       "      <td>Hoffman</td>\n",
       "      <td>36</td>\n",
       "      <td>Las Vegas-Henderson-Paradise</td>\n",
       "      <td>2018-10-21</td>\n",
       "      <td>surf</td>\n",
       "      <td>NV</td>\n",
       "      <td>20</td>\n",
       "      <td>0.0</td>\n",
       "      <td>0.0</td>\n",
       "      <td>0.0</td>\n",
       "      <td>20.0</td>\n",
       "    </tr>\n",
       "    <tr>\n",
       "      <td>9</td>\n",
       "      <td>1003</td>\n",
       "      <td>12</td>\n",
       "      <td>118.0</td>\n",
       "      <td>604.0</td>\n",
       "      <td>0.0</td>\n",
       "      <td>13.0</td>\n",
       "      <td>Reynaldo</td>\n",
       "      <td>Jenkins</td>\n",
       "      <td>52</td>\n",
       "      <td>Tulsa</td>\n",
       "      <td>2018-01-28</td>\n",
       "      <td>surf</td>\n",
       "      <td>OK</td>\n",
       "      <td>20</td>\n",
       "      <td>604.0</td>\n",
       "      <td>0.0</td>\n",
       "      <td>13.0</td>\n",
       "      <td>637.0</td>\n",
       "    </tr>\n",
       "    <tr>\n",
       "      <td>10</td>\n",
       "      <td>1004</td>\n",
       "      <td>5</td>\n",
       "      <td>19.0</td>\n",
       "      <td>0.0</td>\n",
       "      <td>0.0</td>\n",
       "      <td>0.0</td>\n",
       "      <td>Leonila</td>\n",
       "      <td>Thompson</td>\n",
       "      <td>40</td>\n",
       "      <td>Seattle-Tacoma-Bellevue</td>\n",
       "      <td>2018-05-23</td>\n",
       "      <td>surf</td>\n",
       "      <td>WA</td>\n",
       "      <td>20</td>\n",
       "      <td>0.0</td>\n",
       "      <td>0.0</td>\n",
       "      <td>0.0</td>\n",
       "      <td>20.0</td>\n",
       "    </tr>\n",
       "    <tr>\n",
       "      <td>11</td>\n",
       "      <td>1004</td>\n",
       "      <td>6</td>\n",
       "      <td>33.0</td>\n",
       "      <td>0.0</td>\n",
       "      <td>0.0</td>\n",
       "      <td>6.0</td>\n",
       "      <td>Leonila</td>\n",
       "      <td>Thompson</td>\n",
       "      <td>40</td>\n",
       "      <td>Seattle-Tacoma-Bellevue</td>\n",
       "      <td>2018-05-23</td>\n",
       "      <td>surf</td>\n",
       "      <td>WA</td>\n",
       "      <td>20</td>\n",
       "      <td>0.0</td>\n",
       "      <td>0.0</td>\n",
       "      <td>6.0</td>\n",
       "      <td>26.0</td>\n",
       "    </tr>\n",
       "    <tr>\n",
       "      <td>12</td>\n",
       "      <td>1004</td>\n",
       "      <td>7</td>\n",
       "      <td>45.0</td>\n",
       "      <td>0.0</td>\n",
       "      <td>0.0</td>\n",
       "      <td>10.0</td>\n",
       "      <td>Leonila</td>\n",
       "      <td>Thompson</td>\n",
       "      <td>40</td>\n",
       "      <td>Seattle-Tacoma-Bellevue</td>\n",
       "      <td>2018-05-23</td>\n",
       "      <td>surf</td>\n",
       "      <td>WA</td>\n",
       "      <td>20</td>\n",
       "      <td>0.0</td>\n",
       "      <td>0.0</td>\n",
       "      <td>10.0</td>\n",
       "      <td>30.0</td>\n",
       "    </tr>\n",
       "    <tr>\n",
       "      <td>13</td>\n",
       "      <td>1004</td>\n",
       "      <td>8</td>\n",
       "      <td>42.0</td>\n",
       "      <td>0.0</td>\n",
       "      <td>0.0</td>\n",
       "      <td>13.0</td>\n",
       "      <td>Leonila</td>\n",
       "      <td>Thompson</td>\n",
       "      <td>40</td>\n",
       "      <td>Seattle-Tacoma-Bellevue</td>\n",
       "      <td>2018-05-23</td>\n",
       "      <td>surf</td>\n",
       "      <td>WA</td>\n",
       "      <td>20</td>\n",
       "      <td>0.0</td>\n",
       "      <td>0.0</td>\n",
       "      <td>13.0</td>\n",
       "      <td>33.0</td>\n",
       "    </tr>\n",
       "    <tr>\n",
       "      <td>14</td>\n",
       "      <td>1004</td>\n",
       "      <td>9</td>\n",
       "      <td>32.0</td>\n",
       "      <td>0.0</td>\n",
       "      <td>0.0</td>\n",
       "      <td>4.0</td>\n",
       "      <td>Leonila</td>\n",
       "      <td>Thompson</td>\n",
       "      <td>40</td>\n",
       "      <td>Seattle-Tacoma-Bellevue</td>\n",
       "      <td>2018-05-23</td>\n",
       "      <td>surf</td>\n",
       "      <td>WA</td>\n",
       "      <td>20</td>\n",
       "      <td>0.0</td>\n",
       "      <td>0.0</td>\n",
       "      <td>4.0</td>\n",
       "      <td>24.0</td>\n",
       "    </tr>\n",
       "    <tr>\n",
       "      <td>15</td>\n",
       "      <td>1004</td>\n",
       "      <td>10</td>\n",
       "      <td>47.0</td>\n",
       "      <td>0.0</td>\n",
       "      <td>0.0</td>\n",
       "      <td>0.0</td>\n",
       "      <td>Leonila</td>\n",
       "      <td>Thompson</td>\n",
       "      <td>40</td>\n",
       "      <td>Seattle-Tacoma-Bellevue</td>\n",
       "      <td>2018-05-23</td>\n",
       "      <td>surf</td>\n",
       "      <td>WA</td>\n",
       "      <td>20</td>\n",
       "      <td>0.0</td>\n",
       "      <td>0.0</td>\n",
       "      <td>0.0</td>\n",
       "      <td>20.0</td>\n",
       "    </tr>\n",
       "    <tr>\n",
       "      <td>16</td>\n",
       "      <td>1004</td>\n",
       "      <td>11</td>\n",
       "      <td>45.0</td>\n",
       "      <td>0.0</td>\n",
       "      <td>0.0</td>\n",
       "      <td>7.0</td>\n",
       "      <td>Leonila</td>\n",
       "      <td>Thompson</td>\n",
       "      <td>40</td>\n",
       "      <td>Seattle-Tacoma-Bellevue</td>\n",
       "      <td>2018-05-23</td>\n",
       "      <td>surf</td>\n",
       "      <td>WA</td>\n",
       "      <td>20</td>\n",
       "      <td>0.0</td>\n",
       "      <td>0.0</td>\n",
       "      <td>7.0</td>\n",
       "      <td>27.0</td>\n",
       "    </tr>\n",
       "    <tr>\n",
       "      <td>17</td>\n",
       "      <td>1004</td>\n",
       "      <td>12</td>\n",
       "      <td>43.0</td>\n",
       "      <td>0.0</td>\n",
       "      <td>0.0</td>\n",
       "      <td>7.0</td>\n",
       "      <td>Leonila</td>\n",
       "      <td>Thompson</td>\n",
       "      <td>40</td>\n",
       "      <td>Seattle-Tacoma-Bellevue</td>\n",
       "      <td>2018-05-23</td>\n",
       "      <td>surf</td>\n",
       "      <td>WA</td>\n",
       "      <td>20</td>\n",
       "      <td>0.0</td>\n",
       "      <td>0.0</td>\n",
       "      <td>7.0</td>\n",
       "      <td>27.0</td>\n",
       "    </tr>\n",
       "    <tr>\n",
       "      <td>18</td>\n",
       "      <td>1005</td>\n",
       "      <td>12</td>\n",
       "      <td>50.0</td>\n",
       "      <td>0.0</td>\n",
       "      <td>0.0</td>\n",
       "      <td>3.0</td>\n",
       "      <td>Livia</td>\n",
       "      <td>Shields</td>\n",
       "      <td>31</td>\n",
       "      <td>Dallas-Fort Worth-Arlington</td>\n",
       "      <td>2018-11-29</td>\n",
       "      <td>surf</td>\n",
       "      <td>TX</td>\n",
       "      <td>20</td>\n",
       "      <td>0.0</td>\n",
       "      <td>0.0</td>\n",
       "      <td>3.0</td>\n",
       "      <td>23.0</td>\n",
       "    </tr>\n",
       "    <tr>\n",
       "      <td>21</td>\n",
       "      <td>1007</td>\n",
       "      <td>8</td>\n",
       "      <td>56.0</td>\n",
       "      <td>0.0</td>\n",
       "      <td>1.0</td>\n",
       "      <td>10.0</td>\n",
       "      <td>Eusebio</td>\n",
       "      <td>Welch</td>\n",
       "      <td>42</td>\n",
       "      <td>Grand Rapids-Kentwood</td>\n",
       "      <td>2018-07-11</td>\n",
       "      <td>surf</td>\n",
       "      <td>MI</td>\n",
       "      <td>20</td>\n",
       "      <td>0.0</td>\n",
       "      <td>1.0</td>\n",
       "      <td>10.0</td>\n",
       "      <td>31.0</td>\n",
       "    </tr>\n",
       "    <tr>\n",
       "      <td>22</td>\n",
       "      <td>1007</td>\n",
       "      <td>9</td>\n",
       "      <td>49.0</td>\n",
       "      <td>0.0</td>\n",
       "      <td>0.0</td>\n",
       "      <td>14.0</td>\n",
       "      <td>Eusebio</td>\n",
       "      <td>Welch</td>\n",
       "      <td>42</td>\n",
       "      <td>Grand Rapids-Kentwood</td>\n",
       "      <td>2018-07-11</td>\n",
       "      <td>surf</td>\n",
       "      <td>MI</td>\n",
       "      <td>20</td>\n",
       "      <td>0.0</td>\n",
       "      <td>0.0</td>\n",
       "      <td>14.0</td>\n",
       "      <td>34.0</td>\n",
       "    </tr>\n",
       "  </tbody>\n",
       "</table>\n",
       "</div>"
      ],
      "text/plain": [
       "    user_id  month  call_date  duration  message_date  mb_used first_name  \\\n",
       "1      1001      8       22.0       0.0           0.0      0.0     Mickey   \n",
       "2      1001      9       38.0       0.0           0.0      0.0     Mickey   \n",
       "3      1001     10       47.0       0.0           3.0      8.0     Mickey   \n",
       "4      1001     11       49.0       0.0           0.0      4.0     Mickey   \n",
       "5      1001     12       46.0       0.0           0.0      5.0     Mickey   \n",
       "6      1002     10        8.0       0.0           0.0      0.0     Carlee   \n",
       "7      1002     11       48.0       0.0           0.0      5.0     Carlee   \n",
       "8      1002     12       38.0       0.0           0.0      0.0     Carlee   \n",
       "9      1003     12      118.0     604.0           0.0     13.0   Reynaldo   \n",
       "10     1004      5       19.0       0.0           0.0      0.0    Leonila   \n",
       "11     1004      6       33.0       0.0           0.0      6.0    Leonila   \n",
       "12     1004      7       45.0       0.0           0.0     10.0    Leonila   \n",
       "13     1004      8       42.0       0.0           0.0     13.0    Leonila   \n",
       "14     1004      9       32.0       0.0           0.0      4.0    Leonila   \n",
       "15     1004     10       47.0       0.0           0.0      0.0    Leonila   \n",
       "16     1004     11       45.0       0.0           0.0      7.0    Leonila   \n",
       "17     1004     12       43.0       0.0           0.0      7.0    Leonila   \n",
       "18     1005     12       50.0       0.0           0.0      3.0      Livia   \n",
       "21     1007      8       56.0       0.0           1.0     10.0    Eusebio   \n",
       "22     1007      9       49.0       0.0           0.0     14.0    Eusebio   \n",
       "\n",
       "    last_name  age                          city    reg_date  plan state  \\\n",
       "1   Wilkerson   28       Seattle-Tacoma-Bellevue  2018-08-13  surf    WA   \n",
       "2   Wilkerson   28       Seattle-Tacoma-Bellevue  2018-08-13  surf    WA   \n",
       "3   Wilkerson   28       Seattle-Tacoma-Bellevue  2018-08-13  surf    WA   \n",
       "4   Wilkerson   28       Seattle-Tacoma-Bellevue  2018-08-13  surf    WA   \n",
       "5   Wilkerson   28       Seattle-Tacoma-Bellevue  2018-08-13  surf    WA   \n",
       "6     Hoffman   36  Las Vegas-Henderson-Paradise  2018-10-21  surf    NV   \n",
       "7     Hoffman   36  Las Vegas-Henderson-Paradise  2018-10-21  surf    NV   \n",
       "8     Hoffman   36  Las Vegas-Henderson-Paradise  2018-10-21  surf    NV   \n",
       "9     Jenkins   52                         Tulsa  2018-01-28  surf    OK   \n",
       "10   Thompson   40       Seattle-Tacoma-Bellevue  2018-05-23  surf    WA   \n",
       "11   Thompson   40       Seattle-Tacoma-Bellevue  2018-05-23  surf    WA   \n",
       "12   Thompson   40       Seattle-Tacoma-Bellevue  2018-05-23  surf    WA   \n",
       "13   Thompson   40       Seattle-Tacoma-Bellevue  2018-05-23  surf    WA   \n",
       "14   Thompson   40       Seattle-Tacoma-Bellevue  2018-05-23  surf    WA   \n",
       "15   Thompson   40       Seattle-Tacoma-Bellevue  2018-05-23  surf    WA   \n",
       "16   Thompson   40       Seattle-Tacoma-Bellevue  2018-05-23  surf    WA   \n",
       "17   Thompson   40       Seattle-Tacoma-Bellevue  2018-05-23  surf    WA   \n",
       "18    Shields   31   Dallas-Fort Worth-Arlington  2018-11-29  surf    TX   \n",
       "21      Welch   42         Grand Rapids-Kentwood  2018-07-11  surf    MI   \n",
       "22      Welch   42         Grand Rapids-Kentwood  2018-07-11  surf    MI   \n",
       "\n",
       "    base_cost  excess_call_fee  excess_text_fee  excess_data_fee  total_cost  \n",
       "1          20              0.0              0.0              0.0        20.0  \n",
       "2          20              0.0              0.0              0.0        20.0  \n",
       "3          20              0.0              3.0              8.0        31.0  \n",
       "4          20              0.0              0.0              4.0        24.0  \n",
       "5          20              0.0              0.0              5.0        25.0  \n",
       "6          20              0.0              0.0              0.0        20.0  \n",
       "7          20              0.0              0.0              5.0        25.0  \n",
       "8          20              0.0              0.0              0.0        20.0  \n",
       "9          20            604.0              0.0             13.0       637.0  \n",
       "10         20              0.0              0.0              0.0        20.0  \n",
       "11         20              0.0              0.0              6.0        26.0  \n",
       "12         20              0.0              0.0             10.0        30.0  \n",
       "13         20              0.0              0.0             13.0        33.0  \n",
       "14         20              0.0              0.0              4.0        24.0  \n",
       "15         20              0.0              0.0              0.0        20.0  \n",
       "16         20              0.0              0.0              7.0        27.0  \n",
       "17         20              0.0              0.0              7.0        27.0  \n",
       "18         20              0.0              0.0              3.0        23.0  \n",
       "21         20              0.0              1.0             10.0        31.0  \n",
       "22         20              0.0              0.0             14.0        34.0  "
      ]
     },
     "execution_count": 77,
     "metadata": {},
     "output_type": "execute_result"
    }
   ],
   "source": [
    "surf_revenue = revenue[revenue['plan'] == 'surf']\n",
    "surf_revenue.head(20)"
   ]
  },
  {
   "cell_type": "code",
   "execution_count": 78,
   "metadata": {},
   "outputs": [
    {
     "data": {
      "text/html": [
       "<div>\n",
       "<style scoped>\n",
       "    .dataframe tbody tr th:only-of-type {\n",
       "        vertical-align: middle;\n",
       "    }\n",
       "\n",
       "    .dataframe tbody tr th {\n",
       "        vertical-align: top;\n",
       "    }\n",
       "\n",
       "    .dataframe thead th {\n",
       "        text-align: right;\n",
       "    }\n",
       "</style>\n",
       "<table border=\"1\" class=\"dataframe\">\n",
       "  <thead>\n",
       "    <tr style=\"text-align: right;\">\n",
       "      <th></th>\n",
       "      <th>user_id</th>\n",
       "      <th>month</th>\n",
       "      <th>call_date</th>\n",
       "      <th>duration</th>\n",
       "      <th>message_date</th>\n",
       "      <th>mb_used</th>\n",
       "      <th>first_name</th>\n",
       "      <th>last_name</th>\n",
       "      <th>age</th>\n",
       "      <th>city</th>\n",
       "      <th>reg_date</th>\n",
       "      <th>plan</th>\n",
       "      <th>state</th>\n",
       "      <th>base_cost</th>\n",
       "      <th>excess_call_fee</th>\n",
       "      <th>excess_text_fee</th>\n",
       "      <th>excess_data_fee</th>\n",
       "      <th>total_cost</th>\n",
       "    </tr>\n",
       "  </thead>\n",
       "  <tbody>\n",
       "    <tr>\n",
       "      <td>0</td>\n",
       "      <td>1000</td>\n",
       "      <td>12</td>\n",
       "      <td>16.0</td>\n",
       "      <td>0.0</td>\n",
       "      <td>0.0</td>\n",
       "      <td>0.0</td>\n",
       "      <td>Anamaria</td>\n",
       "      <td>Bauer</td>\n",
       "      <td>45</td>\n",
       "      <td>Atlanta-Sandy Springs-Roswell</td>\n",
       "      <td>2018-12-24</td>\n",
       "      <td>ultimate</td>\n",
       "      <td>GA</td>\n",
       "      <td>70</td>\n",
       "      <td>0.0</td>\n",
       "      <td>0.0</td>\n",
       "      <td>0.0</td>\n",
       "      <td>70.0</td>\n",
       "    </tr>\n",
       "    <tr>\n",
       "      <td>19</td>\n",
       "      <td>1006</td>\n",
       "      <td>11</td>\n",
       "      <td>2.0</td>\n",
       "      <td>0.0</td>\n",
       "      <td>0.0</td>\n",
       "      <td>0.0</td>\n",
       "      <td>Jesusa</td>\n",
       "      <td>Bradford</td>\n",
       "      <td>73</td>\n",
       "      <td>San Francisco-Oakland-Berkeley</td>\n",
       "      <td>2018-11-27</td>\n",
       "      <td>ultimate</td>\n",
       "      <td>CA</td>\n",
       "      <td>70</td>\n",
       "      <td>0.0</td>\n",
       "      <td>0.0</td>\n",
       "      <td>0.0</td>\n",
       "      <td>70.0</td>\n",
       "    </tr>\n",
       "    <tr>\n",
       "      <td>20</td>\n",
       "      <td>1006</td>\n",
       "      <td>12</td>\n",
       "      <td>7.0</td>\n",
       "      <td>0.0</td>\n",
       "      <td>0.0</td>\n",
       "      <td>3.0</td>\n",
       "      <td>Jesusa</td>\n",
       "      <td>Bradford</td>\n",
       "      <td>73</td>\n",
       "      <td>San Francisco-Oakland-Berkeley</td>\n",
       "      <td>2018-11-27</td>\n",
       "      <td>ultimate</td>\n",
       "      <td>CA</td>\n",
       "      <td>70</td>\n",
       "      <td>0.0</td>\n",
       "      <td>0.0</td>\n",
       "      <td>3.0</td>\n",
       "      <td>73.0</td>\n",
       "    </tr>\n",
       "    <tr>\n",
       "      <td>26</td>\n",
       "      <td>1008</td>\n",
       "      <td>10</td>\n",
       "      <td>54.0</td>\n",
       "      <td>0.0</td>\n",
       "      <td>0.0</td>\n",
       "      <td>0.0</td>\n",
       "      <td>Emely</td>\n",
       "      <td>Hoffman</td>\n",
       "      <td>53</td>\n",
       "      <td>Orlando-Kissimmee-Sanford</td>\n",
       "      <td>2018-08-03</td>\n",
       "      <td>ultimate</td>\n",
       "      <td>FL</td>\n",
       "      <td>70</td>\n",
       "      <td>0.0</td>\n",
       "      <td>0.0</td>\n",
       "      <td>0.0</td>\n",
       "      <td>70.0</td>\n",
       "    </tr>\n",
       "    <tr>\n",
       "      <td>27</td>\n",
       "      <td>1008</td>\n",
       "      <td>11</td>\n",
       "      <td>50.0</td>\n",
       "      <td>0.0</td>\n",
       "      <td>0.0</td>\n",
       "      <td>0.0</td>\n",
       "      <td>Emely</td>\n",
       "      <td>Hoffman</td>\n",
       "      <td>53</td>\n",
       "      <td>Orlando-Kissimmee-Sanford</td>\n",
       "      <td>2018-08-03</td>\n",
       "      <td>ultimate</td>\n",
       "      <td>FL</td>\n",
       "      <td>70</td>\n",
       "      <td>0.0</td>\n",
       "      <td>0.0</td>\n",
       "      <td>0.0</td>\n",
       "      <td>70.0</td>\n",
       "    </tr>\n",
       "    <tr>\n",
       "      <td>28</td>\n",
       "      <td>1008</td>\n",
       "      <td>12</td>\n",
       "      <td>65.0</td>\n",
       "      <td>0.0</td>\n",
       "      <td>0.0</td>\n",
       "      <td>0.0</td>\n",
       "      <td>Emely</td>\n",
       "      <td>Hoffman</td>\n",
       "      <td>53</td>\n",
       "      <td>Orlando-Kissimmee-Sanford</td>\n",
       "      <td>2018-08-03</td>\n",
       "      <td>ultimate</td>\n",
       "      <td>FL</td>\n",
       "      <td>70</td>\n",
       "      <td>0.0</td>\n",
       "      <td>0.0</td>\n",
       "      <td>0.0</td>\n",
       "      <td>70.0</td>\n",
       "    </tr>\n",
       "    <tr>\n",
       "      <td>46</td>\n",
       "      <td>1011</td>\n",
       "      <td>6</td>\n",
       "      <td>13.0</td>\n",
       "      <td>0.0</td>\n",
       "      <td>0.0</td>\n",
       "      <td>0.0</td>\n",
       "      <td>Halina</td>\n",
       "      <td>Henry</td>\n",
       "      <td>73</td>\n",
       "      <td>Cleveland-Elyria</td>\n",
       "      <td>2018-01-18</td>\n",
       "      <td>ultimate</td>\n",
       "      <td>OH</td>\n",
       "      <td>70</td>\n",
       "      <td>0.0</td>\n",
       "      <td>0.0</td>\n",
       "      <td>0.0</td>\n",
       "      <td>70.0</td>\n",
       "    </tr>\n",
       "    <tr>\n",
       "      <td>47</td>\n",
       "      <td>1011</td>\n",
       "      <td>7</td>\n",
       "      <td>49.0</td>\n",
       "      <td>0.0</td>\n",
       "      <td>0.0</td>\n",
       "      <td>0.0</td>\n",
       "      <td>Halina</td>\n",
       "      <td>Henry</td>\n",
       "      <td>73</td>\n",
       "      <td>Cleveland-Elyria</td>\n",
       "      <td>2018-01-18</td>\n",
       "      <td>ultimate</td>\n",
       "      <td>OH</td>\n",
       "      <td>70</td>\n",
       "      <td>0.0</td>\n",
       "      <td>0.0</td>\n",
       "      <td>0.0</td>\n",
       "      <td>70.0</td>\n",
       "    </tr>\n",
       "    <tr>\n",
       "      <td>48</td>\n",
       "      <td>1011</td>\n",
       "      <td>8</td>\n",
       "      <td>49.0</td>\n",
       "      <td>0.0</td>\n",
       "      <td>0.0</td>\n",
       "      <td>0.0</td>\n",
       "      <td>Halina</td>\n",
       "      <td>Henry</td>\n",
       "      <td>73</td>\n",
       "      <td>Cleveland-Elyria</td>\n",
       "      <td>2018-01-18</td>\n",
       "      <td>ultimate</td>\n",
       "      <td>OH</td>\n",
       "      <td>70</td>\n",
       "      <td>0.0</td>\n",
       "      <td>0.0</td>\n",
       "      <td>0.0</td>\n",
       "      <td>70.0</td>\n",
       "    </tr>\n",
       "    <tr>\n",
       "      <td>49</td>\n",
       "      <td>1011</td>\n",
       "      <td>9</td>\n",
       "      <td>55.0</td>\n",
       "      <td>0.0</td>\n",
       "      <td>0.0</td>\n",
       "      <td>0.0</td>\n",
       "      <td>Halina</td>\n",
       "      <td>Henry</td>\n",
       "      <td>73</td>\n",
       "      <td>Cleveland-Elyria</td>\n",
       "      <td>2018-01-18</td>\n",
       "      <td>ultimate</td>\n",
       "      <td>OH</td>\n",
       "      <td>70</td>\n",
       "      <td>0.0</td>\n",
       "      <td>0.0</td>\n",
       "      <td>0.0</td>\n",
       "      <td>70.0</td>\n",
       "    </tr>\n",
       "    <tr>\n",
       "      <td>50</td>\n",
       "      <td>1011</td>\n",
       "      <td>10</td>\n",
       "      <td>60.0</td>\n",
       "      <td>0.0</td>\n",
       "      <td>0.0</td>\n",
       "      <td>0.0</td>\n",
       "      <td>Halina</td>\n",
       "      <td>Henry</td>\n",
       "      <td>73</td>\n",
       "      <td>Cleveland-Elyria</td>\n",
       "      <td>2018-01-18</td>\n",
       "      <td>ultimate</td>\n",
       "      <td>OH</td>\n",
       "      <td>70</td>\n",
       "      <td>0.0</td>\n",
       "      <td>0.0</td>\n",
       "      <td>0.0</td>\n",
       "      <td>70.0</td>\n",
       "    </tr>\n",
       "    <tr>\n",
       "      <td>51</td>\n",
       "      <td>1011</td>\n",
       "      <td>11</td>\n",
       "      <td>57.0</td>\n",
       "      <td>0.0</td>\n",
       "      <td>0.0</td>\n",
       "      <td>0.0</td>\n",
       "      <td>Halina</td>\n",
       "      <td>Henry</td>\n",
       "      <td>73</td>\n",
       "      <td>Cleveland-Elyria</td>\n",
       "      <td>2018-01-18</td>\n",
       "      <td>ultimate</td>\n",
       "      <td>OH</td>\n",
       "      <td>70</td>\n",
       "      <td>0.0</td>\n",
       "      <td>0.0</td>\n",
       "      <td>0.0</td>\n",
       "      <td>70.0</td>\n",
       "    </tr>\n",
       "    <tr>\n",
       "      <td>52</td>\n",
       "      <td>1011</td>\n",
       "      <td>12</td>\n",
       "      <td>39.0</td>\n",
       "      <td>0.0</td>\n",
       "      <td>0.0</td>\n",
       "      <td>0.0</td>\n",
       "      <td>Halina</td>\n",
       "      <td>Henry</td>\n",
       "      <td>73</td>\n",
       "      <td>Cleveland-Elyria</td>\n",
       "      <td>2018-01-18</td>\n",
       "      <td>ultimate</td>\n",
       "      <td>OH</td>\n",
       "      <td>70</td>\n",
       "      <td>0.0</td>\n",
       "      <td>0.0</td>\n",
       "      <td>0.0</td>\n",
       "      <td>70.0</td>\n",
       "    </tr>\n",
       "    <tr>\n",
       "      <td>55</td>\n",
       "      <td>1013</td>\n",
       "      <td>12</td>\n",
       "      <td>26.0</td>\n",
       "      <td>0.0</td>\n",
       "      <td>0.0</td>\n",
       "      <td>0.0</td>\n",
       "      <td>Nicolas</td>\n",
       "      <td>Snider</td>\n",
       "      <td>50</td>\n",
       "      <td>Knoxville</td>\n",
       "      <td>2018-12-01</td>\n",
       "      <td>ultimate</td>\n",
       "      <td>TN</td>\n",
       "      <td>70</td>\n",
       "      <td>0.0</td>\n",
       "      <td>0.0</td>\n",
       "      <td>0.0</td>\n",
       "      <td>70.0</td>\n",
       "    </tr>\n",
       "    <tr>\n",
       "      <td>86</td>\n",
       "      <td>1026</td>\n",
       "      <td>7</td>\n",
       "      <td>18.0</td>\n",
       "      <td>0.0</td>\n",
       "      <td>0.0</td>\n",
       "      <td>0.0</td>\n",
       "      <td>Meggan</td>\n",
       "      <td>Hamilton</td>\n",
       "      <td>49</td>\n",
       "      <td>Houston-The Woodlands-Sugar Land</td>\n",
       "      <td>2018-07-20</td>\n",
       "      <td>ultimate</td>\n",
       "      <td>TX</td>\n",
       "      <td>70</td>\n",
       "      <td>0.0</td>\n",
       "      <td>0.0</td>\n",
       "      <td>0.0</td>\n",
       "      <td>70.0</td>\n",
       "    </tr>\n",
       "    <tr>\n",
       "      <td>87</td>\n",
       "      <td>1026</td>\n",
       "      <td>8</td>\n",
       "      <td>24.0</td>\n",
       "      <td>0.0</td>\n",
       "      <td>0.0</td>\n",
       "      <td>0.0</td>\n",
       "      <td>Meggan</td>\n",
       "      <td>Hamilton</td>\n",
       "      <td>49</td>\n",
       "      <td>Houston-The Woodlands-Sugar Land</td>\n",
       "      <td>2018-07-20</td>\n",
       "      <td>ultimate</td>\n",
       "      <td>TX</td>\n",
       "      <td>70</td>\n",
       "      <td>0.0</td>\n",
       "      <td>0.0</td>\n",
       "      <td>0.0</td>\n",
       "      <td>70.0</td>\n",
       "    </tr>\n",
       "    <tr>\n",
       "      <td>94</td>\n",
       "      <td>1028</td>\n",
       "      <td>2</td>\n",
       "      <td>NaN</td>\n",
       "      <td>NaN</td>\n",
       "      <td>0.0</td>\n",
       "      <td>0.0</td>\n",
       "      <td>Jefferey</td>\n",
       "      <td>Rasmussen</td>\n",
       "      <td>57</td>\n",
       "      <td>Philadelphia-Camden-Wilmington</td>\n",
       "      <td>2018-02-21</td>\n",
       "      <td>ultimate</td>\n",
       "      <td>PA-NJ-DE-MD</td>\n",
       "      <td>70</td>\n",
       "      <td>NaN</td>\n",
       "      <td>0.0</td>\n",
       "      <td>0.0</td>\n",
       "      <td>70.0</td>\n",
       "    </tr>\n",
       "    <tr>\n",
       "      <td>95</td>\n",
       "      <td>1028</td>\n",
       "      <td>3</td>\n",
       "      <td>4.0</td>\n",
       "      <td>0.0</td>\n",
       "      <td>0.0</td>\n",
       "      <td>7.0</td>\n",
       "      <td>Jefferey</td>\n",
       "      <td>Rasmussen</td>\n",
       "      <td>57</td>\n",
       "      <td>Philadelphia-Camden-Wilmington</td>\n",
       "      <td>2018-02-21</td>\n",
       "      <td>ultimate</td>\n",
       "      <td>PA-NJ-DE-MD</td>\n",
       "      <td>70</td>\n",
       "      <td>0.0</td>\n",
       "      <td>0.0</td>\n",
       "      <td>7.0</td>\n",
       "      <td>77.0</td>\n",
       "    </tr>\n",
       "    <tr>\n",
       "      <td>96</td>\n",
       "      <td>1028</td>\n",
       "      <td>4</td>\n",
       "      <td>6.0</td>\n",
       "      <td>0.0</td>\n",
       "      <td>0.0</td>\n",
       "      <td>8.0</td>\n",
       "      <td>Jefferey</td>\n",
       "      <td>Rasmussen</td>\n",
       "      <td>57</td>\n",
       "      <td>Philadelphia-Camden-Wilmington</td>\n",
       "      <td>2018-02-21</td>\n",
       "      <td>ultimate</td>\n",
       "      <td>PA-NJ-DE-MD</td>\n",
       "      <td>70</td>\n",
       "      <td>0.0</td>\n",
       "      <td>0.0</td>\n",
       "      <td>8.0</td>\n",
       "      <td>78.0</td>\n",
       "    </tr>\n",
       "    <tr>\n",
       "      <td>97</td>\n",
       "      <td>1028</td>\n",
       "      <td>5</td>\n",
       "      <td>7.0</td>\n",
       "      <td>0.0</td>\n",
       "      <td>0.0</td>\n",
       "      <td>3.0</td>\n",
       "      <td>Jefferey</td>\n",
       "      <td>Rasmussen</td>\n",
       "      <td>57</td>\n",
       "      <td>Philadelphia-Camden-Wilmington</td>\n",
       "      <td>2018-02-21</td>\n",
       "      <td>ultimate</td>\n",
       "      <td>PA-NJ-DE-MD</td>\n",
       "      <td>70</td>\n",
       "      <td>0.0</td>\n",
       "      <td>0.0</td>\n",
       "      <td>3.0</td>\n",
       "      <td>73.0</td>\n",
       "    </tr>\n",
       "  </tbody>\n",
       "</table>\n",
       "</div>"
      ],
      "text/plain": [
       "    user_id  month  call_date  duration  message_date  mb_used first_name  \\\n",
       "0      1000     12       16.0       0.0           0.0      0.0   Anamaria   \n",
       "19     1006     11        2.0       0.0           0.0      0.0     Jesusa   \n",
       "20     1006     12        7.0       0.0           0.0      3.0     Jesusa   \n",
       "26     1008     10       54.0       0.0           0.0      0.0      Emely   \n",
       "27     1008     11       50.0       0.0           0.0      0.0      Emely   \n",
       "28     1008     12       65.0       0.0           0.0      0.0      Emely   \n",
       "46     1011      6       13.0       0.0           0.0      0.0     Halina   \n",
       "47     1011      7       49.0       0.0           0.0      0.0     Halina   \n",
       "48     1011      8       49.0       0.0           0.0      0.0     Halina   \n",
       "49     1011      9       55.0       0.0           0.0      0.0     Halina   \n",
       "50     1011     10       60.0       0.0           0.0      0.0     Halina   \n",
       "51     1011     11       57.0       0.0           0.0      0.0     Halina   \n",
       "52     1011     12       39.0       0.0           0.0      0.0     Halina   \n",
       "55     1013     12       26.0       0.0           0.0      0.0    Nicolas   \n",
       "86     1026      7       18.0       0.0           0.0      0.0     Meggan   \n",
       "87     1026      8       24.0       0.0           0.0      0.0     Meggan   \n",
       "94     1028      2        NaN       NaN           0.0      0.0   Jefferey   \n",
       "95     1028      3        4.0       0.0           0.0      7.0   Jefferey   \n",
       "96     1028      4        6.0       0.0           0.0      8.0   Jefferey   \n",
       "97     1028      5        7.0       0.0           0.0      3.0   Jefferey   \n",
       "\n",
       "    last_name  age                              city    reg_date      plan  \\\n",
       "0       Bauer   45     Atlanta-Sandy Springs-Roswell  2018-12-24  ultimate   \n",
       "19   Bradford   73    San Francisco-Oakland-Berkeley  2018-11-27  ultimate   \n",
       "20   Bradford   73    San Francisco-Oakland-Berkeley  2018-11-27  ultimate   \n",
       "26    Hoffman   53         Orlando-Kissimmee-Sanford  2018-08-03  ultimate   \n",
       "27    Hoffman   53         Orlando-Kissimmee-Sanford  2018-08-03  ultimate   \n",
       "28    Hoffman   53         Orlando-Kissimmee-Sanford  2018-08-03  ultimate   \n",
       "46      Henry   73                  Cleveland-Elyria  2018-01-18  ultimate   \n",
       "47      Henry   73                  Cleveland-Elyria  2018-01-18  ultimate   \n",
       "48      Henry   73                  Cleveland-Elyria  2018-01-18  ultimate   \n",
       "49      Henry   73                  Cleveland-Elyria  2018-01-18  ultimate   \n",
       "50      Henry   73                  Cleveland-Elyria  2018-01-18  ultimate   \n",
       "51      Henry   73                  Cleveland-Elyria  2018-01-18  ultimate   \n",
       "52      Henry   73                  Cleveland-Elyria  2018-01-18  ultimate   \n",
       "55     Snider   50                         Knoxville  2018-12-01  ultimate   \n",
       "86   Hamilton   49  Houston-The Woodlands-Sugar Land  2018-07-20  ultimate   \n",
       "87   Hamilton   49  Houston-The Woodlands-Sugar Land  2018-07-20  ultimate   \n",
       "94  Rasmussen   57    Philadelphia-Camden-Wilmington  2018-02-21  ultimate   \n",
       "95  Rasmussen   57    Philadelphia-Camden-Wilmington  2018-02-21  ultimate   \n",
       "96  Rasmussen   57    Philadelphia-Camden-Wilmington  2018-02-21  ultimate   \n",
       "97  Rasmussen   57    Philadelphia-Camden-Wilmington  2018-02-21  ultimate   \n",
       "\n",
       "           state  base_cost  excess_call_fee  excess_text_fee  \\\n",
       "0             GA         70              0.0              0.0   \n",
       "19            CA         70              0.0              0.0   \n",
       "20            CA         70              0.0              0.0   \n",
       "26            FL         70              0.0              0.0   \n",
       "27            FL         70              0.0              0.0   \n",
       "28            FL         70              0.0              0.0   \n",
       "46            OH         70              0.0              0.0   \n",
       "47            OH         70              0.0              0.0   \n",
       "48            OH         70              0.0              0.0   \n",
       "49            OH         70              0.0              0.0   \n",
       "50            OH         70              0.0              0.0   \n",
       "51            OH         70              0.0              0.0   \n",
       "52            OH         70              0.0              0.0   \n",
       "55            TN         70              0.0              0.0   \n",
       "86            TX         70              0.0              0.0   \n",
       "87            TX         70              0.0              0.0   \n",
       "94   PA-NJ-DE-MD         70              NaN              0.0   \n",
       "95   PA-NJ-DE-MD         70              0.0              0.0   \n",
       "96   PA-NJ-DE-MD         70              0.0              0.0   \n",
       "97   PA-NJ-DE-MD         70              0.0              0.0   \n",
       "\n",
       "    excess_data_fee  total_cost  \n",
       "0               0.0        70.0  \n",
       "19              0.0        70.0  \n",
       "20              3.0        73.0  \n",
       "26              0.0        70.0  \n",
       "27              0.0        70.0  \n",
       "28              0.0        70.0  \n",
       "46              0.0        70.0  \n",
       "47              0.0        70.0  \n",
       "48              0.0        70.0  \n",
       "49              0.0        70.0  \n",
       "50              0.0        70.0  \n",
       "51              0.0        70.0  \n",
       "52              0.0        70.0  \n",
       "55              0.0        70.0  \n",
       "86              0.0        70.0  \n",
       "87              0.0        70.0  \n",
       "94              0.0        70.0  \n",
       "95              7.0        77.0  \n",
       "96              8.0        78.0  \n",
       "97              3.0        73.0  "
      ]
     },
     "execution_count": 78,
     "metadata": {},
     "output_type": "execute_result"
    }
   ],
   "source": [
    "ultimate_revenue = revenue[revenue['plan'] == 'ultimate']\n",
    "ultimate_revenue.head(20)"
   ]
  },
  {
   "cell_type": "code",
   "execution_count": 79,
   "metadata": {},
   "outputs": [
    {
     "data": {
      "text/plain": [
       "count    1573.000000\n",
       "mean       92.627463\n",
       "std       133.093019\n",
       "min        20.000000\n",
       "25%        20.000000\n",
       "50%        29.000000\n",
       "75%       110.000000\n",
       "max      1128.000000\n",
       "Name: total_cost, dtype: float64"
      ]
     },
     "execution_count": 79,
     "metadata": {},
     "output_type": "execute_result"
    }
   ],
   "source": [
    "surf_revenue['total_cost'].describe()"
   ]
  },
  {
   "cell_type": "code",
   "execution_count": 80,
   "metadata": {},
   "outputs": [
    {
     "name": "stdout",
     "output_type": "stream",
     "text": [
      "17713.75170653436\n"
     ]
    }
   ],
   "source": [
    "surf_revenue_variane =  133.093019* 133.093019\n",
    "print (surf_revenue_variane)"
   ]
  },
  {
   "cell_type": "code",
   "execution_count": 81,
   "metadata": {},
   "outputs": [
    {
     "data": {
      "text/plain": [
       "count    720.000000\n",
       "mean      70.386111\n",
       "std        1.810440\n",
       "min       70.000000\n",
       "25%       70.000000\n",
       "50%       70.000000\n",
       "75%       70.000000\n",
       "max       87.000000\n",
       "Name: total_cost, dtype: float64"
      ]
     },
     "execution_count": 81,
     "metadata": {},
     "output_type": "execute_result"
    }
   ],
   "source": [
    "ultimate_revenue['total_cost'].describe()\n"
   ]
  },
  {
   "cell_type": "code",
   "execution_count": 82,
   "metadata": {},
   "outputs": [
    {
     "data": {
      "image/png": "[encoded data removed]",
      "text/plain": [
       "<Figure size 432x288 with 1 Axes>"
      ]
     },
     "metadata": {
      "needs_background": "light"
     },
     "output_type": "display_data"
    }
   ],
   "source": [
    "surf_revenue.boxplot('total_cost',by='month')\n",
    "plt.show()"
   ]
  },
  {
   "cell_type": "code",
   "execution_count": 83,
   "metadata": {},
   "outputs": [
    {
     "data": {
      "image/png": "[encoded data removed]",
      "text/plain": [
       "<Figure size 432x288 with 1 Axes>"
      ]
     },
     "metadata": {
      "needs_background": "light"
     },
     "output_type": "display_data"
    }
   ],
   "source": [
    "ultimate_revenue.boxplot('total_cost',by='month')\n",
    "plt.show()\n"
   ]
  },
  {
   "cell_type": "code",
   "execution_count": 84,
   "metadata": {},
   "outputs": [
    {
     "data": {
      "image/png": "[encoded data removed]",
      "text/plain": [
       "<Figure size 720x576 with 1 Axes>"
      ]
     },
     "metadata": {
      "needs_background": "light"
     },
     "output_type": "display_data"
    }
   ],
   "source": [
    "plt.figure(figsize=[10,8])\n",
    "x = ultimate_revenue['total_cost']\n",
    "y = surf_revenue['total_cost']\n",
    "n, bins, patches = plt.hist([x, y])"
   ]
  },
  {
   "cell_type": "markdown",
   "metadata": {},
   "source": [
    "#### Revenue Conclusions\n",
    "\n",
    "1. Mean -> observing the average between the two plans, **ultimate plan users has a surpringly lower cost at 70 per month (same as its base cost), while the avg of the total cost of the surf plan is 92.**\n",
    "\n",
    "    - Our boxplots confirms that the ultimate plan users has a lower cost/revenue by month. Surf plan has more outliers. It also has longer \"whiskers\" and wider ranges i.e. boxes, indicating a larger range of plan revenue. This makes intuitive sense as it can be easy to go over the surf plan limits, and get overcharged at a higher rate per extra text/call/GB.\n",
    "\n",
    "2. Variance --> the surf plan group has an enormous variance! This means that the plan cost/revenue of this group is far from the mean and far from each other, resulting in a wide spread of data -- which is evident in the boxplot. \n",
    "\n",
    "3. Distribution and implications --> \n",
    "    - When we look at the histogram above, ultimate plan revenue is completely contained in range/bar under 100.\n",
    "    - While the surf plan revenue peaks at 100, it gradually declines and forms a left-skewed distribution, streching into the 1000+ range.\n",
    "    - The aggregate revenue of the surf plan is higher. This makes intuitive sense as it can be easy to go over the surf plan limits, and get overcharged at a higher rate per extra text/call/GB."
   ]
  },
  {
   "cell_type": "markdown",
   "metadata": {},
   "source": [
    "## Test statistical hypotheses"
   ]
  },
  {
   "cell_type": "markdown",
   "metadata": {},
   "source": [
    "First, we test for the hypothesis that the average revenue from users of the Ultimate and Surf calling plans differs.\n",
    "\n",
    "This is essentially a hypothesis test on the Equality of Two Population Means.\n",
    "Null hypothesis is that the population mean of the surf plan revenue is the same as the ultimate plan revenue."
   ]
  },
  {
   "cell_type": "code",
   "execution_count": 85,
   "metadata": {},
   "outputs": [
    {
     "name": "stdout",
     "output_type": "stream",
     "text": [
      "p-value:  4.708260487246744e-11\n",
      "We reject the null hypothesis\n"
     ]
    }
   ],
   "source": [
    "# Test the hypotheses\n",
    "\n",
    "sample_1 = surf_revenue['total_cost']\n",
    "sample_2 = ultimate_revenue['total_cost']\n",
    "\n",
    "alpha = 0.05  # critical statistical significance level\n",
    "# if the p-value is less than alpha, we reject the hypothesis\n",
    "\n",
    "results = st.ttest_ind(sample_1, sample_2, equal_var=False)\n",
    "\n",
    "print('p-value: ', results.pvalue)\n",
    "\n",
    "if results.pvalue < alpha:\n",
    "    print(\"We reject the null hypothesis\")\n",
    "else:\n",
    "    print(\"We can't reject the null hypothesis\") "
   ]
  },
  {
   "cell_type": "markdown",
   "metadata": {},
   "source": [
    "Since we are rejecting the null hypothesis, we conclude that the average revenue from users of the Ultimate and Surf calling plans differs."
   ]
  },
  {
   "cell_type": "markdown",
   "metadata": {},
   "source": [
    "The second hypothesis tests for that the average revenue from users in the NY-NJ area is different from that of the users from the other regions. \n",
    "\n",
    "The null hypothsis is that the average revenue from users in the NY-NJ area is the same as that of the users from the other regions."
   ]
  },
  {
   "cell_type": "code",
   "execution_count": 86,
   "metadata": {},
   "outputs": [
    {
     "data": {
      "text/html": [
       "<div>\n",
       "<style scoped>\n",
       "    .dataframe tbody tr th:only-of-type {\n",
       "        vertical-align: middle;\n",
       "    }\n",
       "\n",
       "    .dataframe tbody tr th {\n",
       "        vertical-align: top;\n",
       "    }\n",
       "\n",
       "    .dataframe thead th {\n",
       "        text-align: right;\n",
       "    }\n",
       "</style>\n",
       "<table border=\"1\" class=\"dataframe\">\n",
       "  <thead>\n",
       "    <tr style=\"text-align: right;\">\n",
       "      <th></th>\n",
       "      <th>user_id</th>\n",
       "      <th>month</th>\n",
       "      <th>call_date</th>\n",
       "      <th>duration</th>\n",
       "      <th>message_date</th>\n",
       "      <th>mb_used</th>\n",
       "      <th>first_name</th>\n",
       "      <th>last_name</th>\n",
       "      <th>age</th>\n",
       "      <th>city</th>\n",
       "      <th>reg_date</th>\n",
       "      <th>plan</th>\n",
       "      <th>state</th>\n",
       "      <th>base_cost</th>\n",
       "      <th>excess_call_fee</th>\n",
       "      <th>excess_text_fee</th>\n",
       "      <th>excess_data_fee</th>\n",
       "      <th>total_cost</th>\n",
       "    </tr>\n",
       "  </thead>\n",
       "  <tbody>\n",
       "    <tr>\n",
       "      <td>0</td>\n",
       "      <td>1000</td>\n",
       "      <td>12</td>\n",
       "      <td>16.0</td>\n",
       "      <td>0.0</td>\n",
       "      <td>0.0</td>\n",
       "      <td>0.0</td>\n",
       "      <td>Anamaria</td>\n",
       "      <td>Bauer</td>\n",
       "      <td>45</td>\n",
       "      <td>Atlanta-Sandy Springs-Roswell</td>\n",
       "      <td>2018-12-24</td>\n",
       "      <td>ultimate</td>\n",
       "      <td>GA</td>\n",
       "      <td>70</td>\n",
       "      <td>0.0</td>\n",
       "      <td>0.0</td>\n",
       "      <td>0.0</td>\n",
       "      <td>70.0</td>\n",
       "    </tr>\n",
       "    <tr>\n",
       "      <td>1</td>\n",
       "      <td>1001</td>\n",
       "      <td>8</td>\n",
       "      <td>22.0</td>\n",
       "      <td>0.0</td>\n",
       "      <td>0.0</td>\n",
       "      <td>0.0</td>\n",
       "      <td>Mickey</td>\n",
       "      <td>Wilkerson</td>\n",
       "      <td>28</td>\n",
       "      <td>Seattle-Tacoma-Bellevue</td>\n",
       "      <td>2018-08-13</td>\n",
       "      <td>surf</td>\n",
       "      <td>WA</td>\n",
       "      <td>20</td>\n",
       "      <td>0.0</td>\n",
       "      <td>0.0</td>\n",
       "      <td>0.0</td>\n",
       "      <td>20.0</td>\n",
       "    </tr>\n",
       "    <tr>\n",
       "      <td>2</td>\n",
       "      <td>1001</td>\n",
       "      <td>9</td>\n",
       "      <td>38.0</td>\n",
       "      <td>0.0</td>\n",
       "      <td>0.0</td>\n",
       "      <td>0.0</td>\n",
       "      <td>Mickey</td>\n",
       "      <td>Wilkerson</td>\n",
       "      <td>28</td>\n",
       "      <td>Seattle-Tacoma-Bellevue</td>\n",
       "      <td>2018-08-13</td>\n",
       "      <td>surf</td>\n",
       "      <td>WA</td>\n",
       "      <td>20</td>\n",
       "      <td>0.0</td>\n",
       "      <td>0.0</td>\n",
       "      <td>0.0</td>\n",
       "      <td>20.0</td>\n",
       "    </tr>\n",
       "    <tr>\n",
       "      <td>3</td>\n",
       "      <td>1001</td>\n",
       "      <td>10</td>\n",
       "      <td>47.0</td>\n",
       "      <td>0.0</td>\n",
       "      <td>3.0</td>\n",
       "      <td>8.0</td>\n",
       "      <td>Mickey</td>\n",
       "      <td>Wilkerson</td>\n",
       "      <td>28</td>\n",
       "      <td>Seattle-Tacoma-Bellevue</td>\n",
       "      <td>2018-08-13</td>\n",
       "      <td>surf</td>\n",
       "      <td>WA</td>\n",
       "      <td>20</td>\n",
       "      <td>0.0</td>\n",
       "      <td>3.0</td>\n",
       "      <td>8.0</td>\n",
       "      <td>31.0</td>\n",
       "    </tr>\n",
       "    <tr>\n",
       "      <td>4</td>\n",
       "      <td>1001</td>\n",
       "      <td>11</td>\n",
       "      <td>49.0</td>\n",
       "      <td>0.0</td>\n",
       "      <td>0.0</td>\n",
       "      <td>4.0</td>\n",
       "      <td>Mickey</td>\n",
       "      <td>Wilkerson</td>\n",
       "      <td>28</td>\n",
       "      <td>Seattle-Tacoma-Bellevue</td>\n",
       "      <td>2018-08-13</td>\n",
       "      <td>surf</td>\n",
       "      <td>WA</td>\n",
       "      <td>20</td>\n",
       "      <td>0.0</td>\n",
       "      <td>0.0</td>\n",
       "      <td>4.0</td>\n",
       "      <td>24.0</td>\n",
       "    </tr>\n",
       "    <tr>\n",
       "      <td>5</td>\n",
       "      <td>1001</td>\n",
       "      <td>12</td>\n",
       "      <td>46.0</td>\n",
       "      <td>0.0</td>\n",
       "      <td>0.0</td>\n",
       "      <td>5.0</td>\n",
       "      <td>Mickey</td>\n",
       "      <td>Wilkerson</td>\n",
       "      <td>28</td>\n",
       "      <td>Seattle-Tacoma-Bellevue</td>\n",
       "      <td>2018-08-13</td>\n",
       "      <td>surf</td>\n",
       "      <td>WA</td>\n",
       "      <td>20</td>\n",
       "      <td>0.0</td>\n",
       "      <td>0.0</td>\n",
       "      <td>5.0</td>\n",
       "      <td>25.0</td>\n",
       "    </tr>\n",
       "    <tr>\n",
       "      <td>6</td>\n",
       "      <td>1002</td>\n",
       "      <td>10</td>\n",
       "      <td>8.0</td>\n",
       "      <td>0.0</td>\n",
       "      <td>0.0</td>\n",
       "      <td>0.0</td>\n",
       "      <td>Carlee</td>\n",
       "      <td>Hoffman</td>\n",
       "      <td>36</td>\n",
       "      <td>Las Vegas-Henderson-Paradise</td>\n",
       "      <td>2018-10-21</td>\n",
       "      <td>surf</td>\n",
       "      <td>NV</td>\n",
       "      <td>20</td>\n",
       "      <td>0.0</td>\n",
       "      <td>0.0</td>\n",
       "      <td>0.0</td>\n",
       "      <td>20.0</td>\n",
       "    </tr>\n",
       "    <tr>\n",
       "      <td>7</td>\n",
       "      <td>1002</td>\n",
       "      <td>11</td>\n",
       "      <td>48.0</td>\n",
       "      <td>0.0</td>\n",
       "      <td>0.0</td>\n",
       "      <td>5.0</td>\n",
       "      <td>Carlee</td>\n",
       "      <td>Hoffman</td>\n",
       "      <td>36</td>\n",
       "      <td>Las Vegas-Henderson-Paradise</td>\n",
       "      <td>2018-10-21</td>\n",
       "      <td>surf</td>\n",
       "      <td>NV</td>\n",
       "      <td>20</td>\n",
       "      <td>0.0</td>\n",
       "      <td>0.0</td>\n",
       "      <td>5.0</td>\n",
       "      <td>25.0</td>\n",
       "    </tr>\n",
       "    <tr>\n",
       "      <td>8</td>\n",
       "      <td>1002</td>\n",
       "      <td>12</td>\n",
       "      <td>38.0</td>\n",
       "      <td>0.0</td>\n",
       "      <td>0.0</td>\n",
       "      <td>0.0</td>\n",
       "      <td>Carlee</td>\n",
       "      <td>Hoffman</td>\n",
       "      <td>36</td>\n",
       "      <td>Las Vegas-Henderson-Paradise</td>\n",
       "      <td>2018-10-21</td>\n",
       "      <td>surf</td>\n",
       "      <td>NV</td>\n",
       "      <td>20</td>\n",
       "      <td>0.0</td>\n",
       "      <td>0.0</td>\n",
       "      <td>0.0</td>\n",
       "      <td>20.0</td>\n",
       "    </tr>\n",
       "    <tr>\n",
       "      <td>9</td>\n",
       "      <td>1003</td>\n",
       "      <td>12</td>\n",
       "      <td>118.0</td>\n",
       "      <td>604.0</td>\n",
       "      <td>0.0</td>\n",
       "      <td>13.0</td>\n",
       "      <td>Reynaldo</td>\n",
       "      <td>Jenkins</td>\n",
       "      <td>52</td>\n",
       "      <td>Tulsa</td>\n",
       "      <td>2018-01-28</td>\n",
       "      <td>surf</td>\n",
       "      <td>OK</td>\n",
       "      <td>20</td>\n",
       "      <td>604.0</td>\n",
       "      <td>0.0</td>\n",
       "      <td>13.0</td>\n",
       "      <td>637.0</td>\n",
       "    </tr>\n",
       "    <tr>\n",
       "      <td>10</td>\n",
       "      <td>1004</td>\n",
       "      <td>5</td>\n",
       "      <td>19.0</td>\n",
       "      <td>0.0</td>\n",
       "      <td>0.0</td>\n",
       "      <td>0.0</td>\n",
       "      <td>Leonila</td>\n",
       "      <td>Thompson</td>\n",
       "      <td>40</td>\n",
       "      <td>Seattle-Tacoma-Bellevue</td>\n",
       "      <td>2018-05-23</td>\n",
       "      <td>surf</td>\n",
       "      <td>WA</td>\n",
       "      <td>20</td>\n",
       "      <td>0.0</td>\n",
       "      <td>0.0</td>\n",
       "      <td>0.0</td>\n",
       "      <td>20.0</td>\n",
       "    </tr>\n",
       "    <tr>\n",
       "      <td>11</td>\n",
       "      <td>1004</td>\n",
       "      <td>6</td>\n",
       "      <td>33.0</td>\n",
       "      <td>0.0</td>\n",
       "      <td>0.0</td>\n",
       "      <td>6.0</td>\n",
       "      <td>Leonila</td>\n",
       "      <td>Thompson</td>\n",
       "      <td>40</td>\n",
       "      <td>Seattle-Tacoma-Bellevue</td>\n",
       "      <td>2018-05-23</td>\n",
       "      <td>surf</td>\n",
       "      <td>WA</td>\n",
       "      <td>20</td>\n",
       "      <td>0.0</td>\n",
       "      <td>0.0</td>\n",
       "      <td>6.0</td>\n",
       "      <td>26.0</td>\n",
       "    </tr>\n",
       "    <tr>\n",
       "      <td>12</td>\n",
       "      <td>1004</td>\n",
       "      <td>7</td>\n",
       "      <td>45.0</td>\n",
       "      <td>0.0</td>\n",
       "      <td>0.0</td>\n",
       "      <td>10.0</td>\n",
       "      <td>Leonila</td>\n",
       "      <td>Thompson</td>\n",
       "      <td>40</td>\n",
       "      <td>Seattle-Tacoma-Bellevue</td>\n",
       "      <td>2018-05-23</td>\n",
       "      <td>surf</td>\n",
       "      <td>WA</td>\n",
       "      <td>20</td>\n",
       "      <td>0.0</td>\n",
       "      <td>0.0</td>\n",
       "      <td>10.0</td>\n",
       "      <td>30.0</td>\n",
       "    </tr>\n",
       "    <tr>\n",
       "      <td>13</td>\n",
       "      <td>1004</td>\n",
       "      <td>8</td>\n",
       "      <td>42.0</td>\n",
       "      <td>0.0</td>\n",
       "      <td>0.0</td>\n",
       "      <td>13.0</td>\n",
       "      <td>Leonila</td>\n",
       "      <td>Thompson</td>\n",
       "      <td>40</td>\n",
       "      <td>Seattle-Tacoma-Bellevue</td>\n",
       "      <td>2018-05-23</td>\n",
       "      <td>surf</td>\n",
       "      <td>WA</td>\n",
       "      <td>20</td>\n",
       "      <td>0.0</td>\n",
       "      <td>0.0</td>\n",
       "      <td>13.0</td>\n",
       "      <td>33.0</td>\n",
       "    </tr>\n",
       "    <tr>\n",
       "      <td>14</td>\n",
       "      <td>1004</td>\n",
       "      <td>9</td>\n",
       "      <td>32.0</td>\n",
       "      <td>0.0</td>\n",
       "      <td>0.0</td>\n",
       "      <td>4.0</td>\n",
       "      <td>Leonila</td>\n",
       "      <td>Thompson</td>\n",
       "      <td>40</td>\n",
       "      <td>Seattle-Tacoma-Bellevue</td>\n",
       "      <td>2018-05-23</td>\n",
       "      <td>surf</td>\n",
       "      <td>WA</td>\n",
       "      <td>20</td>\n",
       "      <td>0.0</td>\n",
       "      <td>0.0</td>\n",
       "      <td>4.0</td>\n",
       "      <td>24.0</td>\n",
       "    </tr>\n",
       "    <tr>\n",
       "      <td>15</td>\n",
       "      <td>1004</td>\n",
       "      <td>10</td>\n",
       "      <td>47.0</td>\n",
       "      <td>0.0</td>\n",
       "      <td>0.0</td>\n",
       "      <td>0.0</td>\n",
       "      <td>Leonila</td>\n",
       "      <td>Thompson</td>\n",
       "      <td>40</td>\n",
       "      <td>Seattle-Tacoma-Bellevue</td>\n",
       "      <td>2018-05-23</td>\n",
       "      <td>surf</td>\n",
       "      <td>WA</td>\n",
       "      <td>20</td>\n",
       "      <td>0.0</td>\n",
       "      <td>0.0</td>\n",
       "      <td>0.0</td>\n",
       "      <td>20.0</td>\n",
       "    </tr>\n",
       "    <tr>\n",
       "      <td>16</td>\n",
       "      <td>1004</td>\n",
       "      <td>11</td>\n",
       "      <td>45.0</td>\n",
       "      <td>0.0</td>\n",
       "      <td>0.0</td>\n",
       "      <td>7.0</td>\n",
       "      <td>Leonila</td>\n",
       "      <td>Thompson</td>\n",
       "      <td>40</td>\n",
       "      <td>Seattle-Tacoma-Bellevue</td>\n",
       "      <td>2018-05-23</td>\n",
       "      <td>surf</td>\n",
       "      <td>WA</td>\n",
       "      <td>20</td>\n",
       "      <td>0.0</td>\n",
       "      <td>0.0</td>\n",
       "      <td>7.0</td>\n",
       "      <td>27.0</td>\n",
       "    </tr>\n",
       "    <tr>\n",
       "      <td>17</td>\n",
       "      <td>1004</td>\n",
       "      <td>12</td>\n",
       "      <td>43.0</td>\n",
       "      <td>0.0</td>\n",
       "      <td>0.0</td>\n",
       "      <td>7.0</td>\n",
       "      <td>Leonila</td>\n",
       "      <td>Thompson</td>\n",
       "      <td>40</td>\n",
       "      <td>Seattle-Tacoma-Bellevue</td>\n",
       "      <td>2018-05-23</td>\n",
       "      <td>surf</td>\n",
       "      <td>WA</td>\n",
       "      <td>20</td>\n",
       "      <td>0.0</td>\n",
       "      <td>0.0</td>\n",
       "      <td>7.0</td>\n",
       "      <td>27.0</td>\n",
       "    </tr>\n",
       "    <tr>\n",
       "      <td>18</td>\n",
       "      <td>1005</td>\n",
       "      <td>12</td>\n",
       "      <td>50.0</td>\n",
       "      <td>0.0</td>\n",
       "      <td>0.0</td>\n",
       "      <td>3.0</td>\n",
       "      <td>Livia</td>\n",
       "      <td>Shields</td>\n",
       "      <td>31</td>\n",
       "      <td>Dallas-Fort Worth-Arlington</td>\n",
       "      <td>2018-11-29</td>\n",
       "      <td>surf</td>\n",
       "      <td>TX</td>\n",
       "      <td>20</td>\n",
       "      <td>0.0</td>\n",
       "      <td>0.0</td>\n",
       "      <td>3.0</td>\n",
       "      <td>23.0</td>\n",
       "    </tr>\n",
       "    <tr>\n",
       "      <td>19</td>\n",
       "      <td>1006</td>\n",
       "      <td>11</td>\n",
       "      <td>2.0</td>\n",
       "      <td>0.0</td>\n",
       "      <td>0.0</td>\n",
       "      <td>0.0</td>\n",
       "      <td>Jesusa</td>\n",
       "      <td>Bradford</td>\n",
       "      <td>73</td>\n",
       "      <td>San Francisco-Oakland-Berkeley</td>\n",
       "      <td>2018-11-27</td>\n",
       "      <td>ultimate</td>\n",
       "      <td>CA</td>\n",
       "      <td>70</td>\n",
       "      <td>0.0</td>\n",
       "      <td>0.0</td>\n",
       "      <td>0.0</td>\n",
       "      <td>70.0</td>\n",
       "    </tr>\n",
       "    <tr>\n",
       "      <td>20</td>\n",
       "      <td>1006</td>\n",
       "      <td>12</td>\n",
       "      <td>7.0</td>\n",
       "      <td>0.0</td>\n",
       "      <td>0.0</td>\n",
       "      <td>3.0</td>\n",
       "      <td>Jesusa</td>\n",
       "      <td>Bradford</td>\n",
       "      <td>73</td>\n",
       "      <td>San Francisco-Oakland-Berkeley</td>\n",
       "      <td>2018-11-27</td>\n",
       "      <td>ultimate</td>\n",
       "      <td>CA</td>\n",
       "      <td>70</td>\n",
       "      <td>0.0</td>\n",
       "      <td>0.0</td>\n",
       "      <td>3.0</td>\n",
       "      <td>73.0</td>\n",
       "    </tr>\n",
       "    <tr>\n",
       "      <td>21</td>\n",
       "      <td>1007</td>\n",
       "      <td>8</td>\n",
       "      <td>56.0</td>\n",
       "      <td>0.0</td>\n",
       "      <td>1.0</td>\n",
       "      <td>10.0</td>\n",
       "      <td>Eusebio</td>\n",
       "      <td>Welch</td>\n",
       "      <td>42</td>\n",
       "      <td>Grand Rapids-Kentwood</td>\n",
       "      <td>2018-07-11</td>\n",
       "      <td>surf</td>\n",
       "      <td>MI</td>\n",
       "      <td>20</td>\n",
       "      <td>0.0</td>\n",
       "      <td>1.0</td>\n",
       "      <td>10.0</td>\n",
       "      <td>31.0</td>\n",
       "    </tr>\n",
       "    <tr>\n",
       "      <td>22</td>\n",
       "      <td>1007</td>\n",
       "      <td>9</td>\n",
       "      <td>49.0</td>\n",
       "      <td>0.0</td>\n",
       "      <td>0.0</td>\n",
       "      <td>14.0</td>\n",
       "      <td>Eusebio</td>\n",
       "      <td>Welch</td>\n",
       "      <td>42</td>\n",
       "      <td>Grand Rapids-Kentwood</td>\n",
       "      <td>2018-07-11</td>\n",
       "      <td>surf</td>\n",
       "      <td>MI</td>\n",
       "      <td>20</td>\n",
       "      <td>0.0</td>\n",
       "      <td>0.0</td>\n",
       "      <td>14.0</td>\n",
       "      <td>34.0</td>\n",
       "    </tr>\n",
       "    <tr>\n",
       "      <td>23</td>\n",
       "      <td>1007</td>\n",
       "      <td>10</td>\n",
       "      <td>70.0</td>\n",
       "      <td>145.0</td>\n",
       "      <td>9.0</td>\n",
       "      <td>23.0</td>\n",
       "      <td>Eusebio</td>\n",
       "      <td>Welch</td>\n",
       "      <td>42</td>\n",
       "      <td>Grand Rapids-Kentwood</td>\n",
       "      <td>2018-07-11</td>\n",
       "      <td>surf</td>\n",
       "      <td>MI</td>\n",
       "      <td>20</td>\n",
       "      <td>145.0</td>\n",
       "      <td>9.0</td>\n",
       "      <td>23.0</td>\n",
       "      <td>197.0</td>\n",
       "    </tr>\n",
       "    <tr>\n",
       "      <td>24</td>\n",
       "      <td>1007</td>\n",
       "      <td>11</td>\n",
       "      <td>61.0</td>\n",
       "      <td>24.0</td>\n",
       "      <td>0.0</td>\n",
       "      <td>10.0</td>\n",
       "      <td>Eusebio</td>\n",
       "      <td>Welch</td>\n",
       "      <td>42</td>\n",
       "      <td>Grand Rapids-Kentwood</td>\n",
       "      <td>2018-07-11</td>\n",
       "      <td>surf</td>\n",
       "      <td>MI</td>\n",
       "      <td>20</td>\n",
       "      <td>24.0</td>\n",
       "      <td>0.0</td>\n",
       "      <td>10.0</td>\n",
       "      <td>54.0</td>\n",
       "    </tr>\n",
       "    <tr>\n",
       "      <td>25</td>\n",
       "      <td>1007</td>\n",
       "      <td>12</td>\n",
       "      <td>71.0</td>\n",
       "      <td>117.0</td>\n",
       "      <td>0.0</td>\n",
       "      <td>15.0</td>\n",
       "      <td>Eusebio</td>\n",
       "      <td>Welch</td>\n",
       "      <td>42</td>\n",
       "      <td>Grand Rapids-Kentwood</td>\n",
       "      <td>2018-07-11</td>\n",
       "      <td>surf</td>\n",
       "      <td>MI</td>\n",
       "      <td>20</td>\n",
       "      <td>117.0</td>\n",
       "      <td>0.0</td>\n",
       "      <td>15.0</td>\n",
       "      <td>152.0</td>\n",
       "    </tr>\n",
       "    <tr>\n",
       "      <td>26</td>\n",
       "      <td>1008</td>\n",
       "      <td>10</td>\n",
       "      <td>54.0</td>\n",
       "      <td>0.0</td>\n",
       "      <td>0.0</td>\n",
       "      <td>0.0</td>\n",
       "      <td>Emely</td>\n",
       "      <td>Hoffman</td>\n",
       "      <td>53</td>\n",
       "      <td>Orlando-Kissimmee-Sanford</td>\n",
       "      <td>2018-08-03</td>\n",
       "      <td>ultimate</td>\n",
       "      <td>FL</td>\n",
       "      <td>70</td>\n",
       "      <td>0.0</td>\n",
       "      <td>0.0</td>\n",
       "      <td>0.0</td>\n",
       "      <td>70.0</td>\n",
       "    </tr>\n",
       "    <tr>\n",
       "      <td>27</td>\n",
       "      <td>1008</td>\n",
       "      <td>11</td>\n",
       "      <td>50.0</td>\n",
       "      <td>0.0</td>\n",
       "      <td>0.0</td>\n",
       "      <td>0.0</td>\n",
       "      <td>Emely</td>\n",
       "      <td>Hoffman</td>\n",
       "      <td>53</td>\n",
       "      <td>Orlando-Kissimmee-Sanford</td>\n",
       "      <td>2018-08-03</td>\n",
       "      <td>ultimate</td>\n",
       "      <td>FL</td>\n",
       "      <td>70</td>\n",
       "      <td>0.0</td>\n",
       "      <td>0.0</td>\n",
       "      <td>0.0</td>\n",
       "      <td>70.0</td>\n",
       "    </tr>\n",
       "    <tr>\n",
       "      <td>28</td>\n",
       "      <td>1008</td>\n",
       "      <td>12</td>\n",
       "      <td>65.0</td>\n",
       "      <td>0.0</td>\n",
       "      <td>0.0</td>\n",
       "      <td>0.0</td>\n",
       "      <td>Emely</td>\n",
       "      <td>Hoffman</td>\n",
       "      <td>53</td>\n",
       "      <td>Orlando-Kissimmee-Sanford</td>\n",
       "      <td>2018-08-03</td>\n",
       "      <td>ultimate</td>\n",
       "      <td>FL</td>\n",
       "      <td>70</td>\n",
       "      <td>0.0</td>\n",
       "      <td>0.0</td>\n",
       "      <td>0.0</td>\n",
       "      <td>70.0</td>\n",
       "    </tr>\n",
       "    <tr>\n",
       "      <td>29</td>\n",
       "      <td>1009</td>\n",
       "      <td>5</td>\n",
       "      <td>61.0</td>\n",
       "      <td>34.0</td>\n",
       "      <td>NaN</td>\n",
       "      <td>6.0</td>\n",
       "      <td>Gerry</td>\n",
       "      <td>Little</td>\n",
       "      <td>19</td>\n",
       "      <td>San Jose-Sunnyvale-Santa Clara</td>\n",
       "      <td>2018-04-22</td>\n",
       "      <td>surf</td>\n",
       "      <td>CA</td>\n",
       "      <td>20</td>\n",
       "      <td>34.0</td>\n",
       "      <td>NaN</td>\n",
       "      <td>6.0</td>\n",
       "      <td>60.0</td>\n",
       "    </tr>\n",
       "  </tbody>\n",
       "</table>\n",
       "</div>"
      ],
      "text/plain": [
       "    user_id  month  call_date  duration  message_date  mb_used first_name  \\\n",
       "0      1000     12       16.0       0.0           0.0      0.0   Anamaria   \n",
       "1      1001      8       22.0       0.0           0.0      0.0     Mickey   \n",
       "2      1001      9       38.0       0.0           0.0      0.0     Mickey   \n",
       "3      1001     10       47.0       0.0           3.0      8.0     Mickey   \n",
       "4      1001     11       49.0       0.0           0.0      4.0     Mickey   \n",
       "5      1001     12       46.0       0.0           0.0      5.0     Mickey   \n",
       "6      1002     10        8.0       0.0           0.0      0.0     Carlee   \n",
       "7      1002     11       48.0       0.0           0.0      5.0     Carlee   \n",
       "8      1002     12       38.0       0.0           0.0      0.0     Carlee   \n",
       "9      1003     12      118.0     604.0           0.0     13.0   Reynaldo   \n",
       "10     1004      5       19.0       0.0           0.0      0.0    Leonila   \n",
       "11     1004      6       33.0       0.0           0.0      6.0    Leonila   \n",
       "12     1004      7       45.0       0.0           0.0     10.0    Leonila   \n",
       "13     1004      8       42.0       0.0           0.0     13.0    Leonila   \n",
       "14     1004      9       32.0       0.0           0.0      4.0    Leonila   \n",
       "15     1004     10       47.0       0.0           0.0      0.0    Leonila   \n",
       "16     1004     11       45.0       0.0           0.0      7.0    Leonila   \n",
       "17     1004     12       43.0       0.0           0.0      7.0    Leonila   \n",
       "18     1005     12       50.0       0.0           0.0      3.0      Livia   \n",
       "19     1006     11        2.0       0.0           0.0      0.0     Jesusa   \n",
       "20     1006     12        7.0       0.0           0.0      3.0     Jesusa   \n",
       "21     1007      8       56.0       0.0           1.0     10.0    Eusebio   \n",
       "22     1007      9       49.0       0.0           0.0     14.0    Eusebio   \n",
       "23     1007     10       70.0     145.0           9.0     23.0    Eusebio   \n",
       "24     1007     11       61.0      24.0           0.0     10.0    Eusebio   \n",
       "25     1007     12       71.0     117.0           0.0     15.0    Eusebio   \n",
       "26     1008     10       54.0       0.0           0.0      0.0      Emely   \n",
       "27     1008     11       50.0       0.0           0.0      0.0      Emely   \n",
       "28     1008     12       65.0       0.0           0.0      0.0      Emely   \n",
       "29     1009      5       61.0      34.0           NaN      6.0      Gerry   \n",
       "\n",
       "    last_name  age                            city    reg_date      plan  \\\n",
       "0       Bauer   45   Atlanta-Sandy Springs-Roswell  2018-12-24  ultimate   \n",
       "1   Wilkerson   28         Seattle-Tacoma-Bellevue  2018-08-13      surf   \n",
       "2   Wilkerson   28         Seattle-Tacoma-Bellevue  2018-08-13      surf   \n",
       "3   Wilkerson   28         Seattle-Tacoma-Bellevue  2018-08-13      surf   \n",
       "4   Wilkerson   28         Seattle-Tacoma-Bellevue  2018-08-13      surf   \n",
       "5   Wilkerson   28         Seattle-Tacoma-Bellevue  2018-08-13      surf   \n",
       "6     Hoffman   36    Las Vegas-Henderson-Paradise  2018-10-21      surf   \n",
       "7     Hoffman   36    Las Vegas-Henderson-Paradise  2018-10-21      surf   \n",
       "8     Hoffman   36    Las Vegas-Henderson-Paradise  2018-10-21      surf   \n",
       "9     Jenkins   52                           Tulsa  2018-01-28      surf   \n",
       "10   Thompson   40         Seattle-Tacoma-Bellevue  2018-05-23      surf   \n",
       "11   Thompson   40         Seattle-Tacoma-Bellevue  2018-05-23      surf   \n",
       "12   Thompson   40         Seattle-Tacoma-Bellevue  2018-05-23      surf   \n",
       "13   Thompson   40         Seattle-Tacoma-Bellevue  2018-05-23      surf   \n",
       "14   Thompson   40         Seattle-Tacoma-Bellevue  2018-05-23      surf   \n",
       "15   Thompson   40         Seattle-Tacoma-Bellevue  2018-05-23      surf   \n",
       "16   Thompson   40         Seattle-Tacoma-Bellevue  2018-05-23      surf   \n",
       "17   Thompson   40         Seattle-Tacoma-Bellevue  2018-05-23      surf   \n",
       "18    Shields   31     Dallas-Fort Worth-Arlington  2018-11-29      surf   \n",
       "19   Bradford   73  San Francisco-Oakland-Berkeley  2018-11-27  ultimate   \n",
       "20   Bradford   73  San Francisco-Oakland-Berkeley  2018-11-27  ultimate   \n",
       "21      Welch   42           Grand Rapids-Kentwood  2018-07-11      surf   \n",
       "22      Welch   42           Grand Rapids-Kentwood  2018-07-11      surf   \n",
       "23      Welch   42           Grand Rapids-Kentwood  2018-07-11      surf   \n",
       "24      Welch   42           Grand Rapids-Kentwood  2018-07-11      surf   \n",
       "25      Welch   42           Grand Rapids-Kentwood  2018-07-11      surf   \n",
       "26    Hoffman   53       Orlando-Kissimmee-Sanford  2018-08-03  ultimate   \n",
       "27    Hoffman   53       Orlando-Kissimmee-Sanford  2018-08-03  ultimate   \n",
       "28    Hoffman   53       Orlando-Kissimmee-Sanford  2018-08-03  ultimate   \n",
       "29     Little   19  San Jose-Sunnyvale-Santa Clara  2018-04-22      surf   \n",
       "\n",
       "   state  base_cost  excess_call_fee  excess_text_fee  excess_data_fee  \\\n",
       "0     GA         70              0.0              0.0              0.0   \n",
       "1     WA         20              0.0              0.0              0.0   \n",
       "2     WA         20              0.0              0.0              0.0   \n",
       "3     WA         20              0.0              3.0              8.0   \n",
       "4     WA         20              0.0              0.0              4.0   \n",
       "5     WA         20              0.0              0.0              5.0   \n",
       "6     NV         20              0.0              0.0              0.0   \n",
       "7     NV         20              0.0              0.0              5.0   \n",
       "8     NV         20              0.0              0.0              0.0   \n",
       "9     OK         20            604.0              0.0             13.0   \n",
       "10    WA         20              0.0              0.0              0.0   \n",
       "11    WA         20              0.0              0.0              6.0   \n",
       "12    WA         20              0.0              0.0             10.0   \n",
       "13    WA         20              0.0              0.0             13.0   \n",
       "14    WA         20              0.0              0.0              4.0   \n",
       "15    WA         20              0.0              0.0              0.0   \n",
       "16    WA         20              0.0              0.0              7.0   \n",
       "17    WA         20              0.0              0.0              7.0   \n",
       "18    TX         20              0.0              0.0              3.0   \n",
       "19    CA         70              0.0              0.0              0.0   \n",
       "20    CA         70              0.0              0.0              3.0   \n",
       "21    MI         20              0.0              1.0             10.0   \n",
       "22    MI         20              0.0              0.0             14.0   \n",
       "23    MI         20            145.0              9.0             23.0   \n",
       "24    MI         20             24.0              0.0             10.0   \n",
       "25    MI         20            117.0              0.0             15.0   \n",
       "26    FL         70              0.0              0.0              0.0   \n",
       "27    FL         70              0.0              0.0              0.0   \n",
       "28    FL         70              0.0              0.0              0.0   \n",
       "29    CA         20             34.0              NaN              6.0   \n",
       "\n",
       "    total_cost  \n",
       "0         70.0  \n",
       "1         20.0  \n",
       "2         20.0  \n",
       "3         31.0  \n",
       "4         24.0  \n",
       "5         25.0  \n",
       "6         20.0  \n",
       "7         25.0  \n",
       "8         20.0  \n",
       "9        637.0  \n",
       "10        20.0  \n",
       "11        26.0  \n",
       "12        30.0  \n",
       "13        33.0  \n",
       "14        24.0  \n",
       "15        20.0  \n",
       "16        27.0  \n",
       "17        27.0  \n",
       "18        23.0  \n",
       "19        70.0  \n",
       "20        73.0  \n",
       "21        31.0  \n",
       "22        34.0  \n",
       "23       197.0  \n",
       "24        54.0  \n",
       "25       152.0  \n",
       "26        70.0  \n",
       "27        70.0  \n",
       "28        70.0  \n",
       "29        60.0  "
      ]
     },
     "execution_count": 86,
     "metadata": {},
     "output_type": "execute_result"
    }
   ],
   "source": [
    "revenue.head(30)"
   ]
  },
  {
   "cell_type": "code",
   "execution_count": 87,
   "metadata": {},
   "outputs": [
    {
     "data": {
      "text/html": [
       "<div>\n",
       "<style scoped>\n",
       "    .dataframe tbody tr th:only-of-type {\n",
       "        vertical-align: middle;\n",
       "    }\n",
       "\n",
       "    .dataframe tbody tr th {\n",
       "        vertical-align: top;\n",
       "    }\n",
       "\n",
       "    .dataframe thead th {\n",
       "        text-align: right;\n",
       "    }\n",
       "</style>\n",
       "<table border=\"1\" class=\"dataframe\">\n",
       "  <thead>\n",
       "    <tr style=\"text-align: right;\">\n",
       "      <th></th>\n",
       "      <th>user_id</th>\n",
       "      <th>month</th>\n",
       "      <th>call_date</th>\n",
       "      <th>duration</th>\n",
       "      <th>message_date</th>\n",
       "      <th>mb_used</th>\n",
       "      <th>first_name</th>\n",
       "      <th>last_name</th>\n",
       "      <th>age</th>\n",
       "      <th>city</th>\n",
       "      <th>reg_date</th>\n",
       "      <th>plan</th>\n",
       "      <th>state</th>\n",
       "      <th>base_cost</th>\n",
       "      <th>excess_call_fee</th>\n",
       "      <th>excess_text_fee</th>\n",
       "      <th>excess_data_fee</th>\n",
       "      <th>total_cost</th>\n",
       "    </tr>\n",
       "  </thead>\n",
       "  <tbody>\n",
       "    <tr>\n",
       "      <td>56</td>\n",
       "      <td>1014</td>\n",
       "      <td>11</td>\n",
       "      <td>23.0</td>\n",
       "      <td>0.0</td>\n",
       "      <td>0.0</td>\n",
       "      <td>0.0</td>\n",
       "      <td>Edmundo</td>\n",
       "      <td>Simon</td>\n",
       "      <td>61</td>\n",
       "      <td>New York-Newark-Jersey City</td>\n",
       "      <td>2018-11-25</td>\n",
       "      <td>surf</td>\n",
       "      <td>NY-NJ-PA</td>\n",
       "      <td>20</td>\n",
       "      <td>0.0</td>\n",
       "      <td>0.0</td>\n",
       "      <td>0.0</td>\n",
       "      <td>20.0</td>\n",
       "    </tr>\n",
       "    <tr>\n",
       "      <td>57</td>\n",
       "      <td>1014</td>\n",
       "      <td>12</td>\n",
       "      <td>125.0</td>\n",
       "      <td>614.0</td>\n",
       "      <td>14.0</td>\n",
       "      <td>0.0</td>\n",
       "      <td>Edmundo</td>\n",
       "      <td>Simon</td>\n",
       "      <td>61</td>\n",
       "      <td>New York-Newark-Jersey City</td>\n",
       "      <td>2018-11-25</td>\n",
       "      <td>surf</td>\n",
       "      <td>NY-NJ-PA</td>\n",
       "      <td>20</td>\n",
       "      <td>614.0</td>\n",
       "      <td>14.0</td>\n",
       "      <td>0.0</td>\n",
       "      <td>648.0</td>\n",
       "    </tr>\n",
       "    <tr>\n",
       "      <td>75</td>\n",
       "      <td>1022</td>\n",
       "      <td>5</td>\n",
       "      <td>32.0</td>\n",
       "      <td>0.0</td>\n",
       "      <td>NaN</td>\n",
       "      <td>0.0</td>\n",
       "      <td>Bo</td>\n",
       "      <td>Snow</td>\n",
       "      <td>73</td>\n",
       "      <td>New York-Newark-Jersey City</td>\n",
       "      <td>2018-04-20</td>\n",
       "      <td>surf</td>\n",
       "      <td>NY-NJ-PA</td>\n",
       "      <td>20</td>\n",
       "      <td>0.0</td>\n",
       "      <td>NaN</td>\n",
       "      <td>0.0</td>\n",
       "      <td>20.0</td>\n",
       "    </tr>\n",
       "    <tr>\n",
       "      <td>76</td>\n",
       "      <td>1022</td>\n",
       "      <td>6</td>\n",
       "      <td>65.0</td>\n",
       "      <td>0.0</td>\n",
       "      <td>NaN</td>\n",
       "      <td>9.0</td>\n",
       "      <td>Bo</td>\n",
       "      <td>Snow</td>\n",
       "      <td>73</td>\n",
       "      <td>New York-Newark-Jersey City</td>\n",
       "      <td>2018-04-20</td>\n",
       "      <td>surf</td>\n",
       "      <td>NY-NJ-PA</td>\n",
       "      <td>20</td>\n",
       "      <td>0.0</td>\n",
       "      <td>NaN</td>\n",
       "      <td>9.0</td>\n",
       "      <td>29.0</td>\n",
       "    </tr>\n",
       "    <tr>\n",
       "      <td>77</td>\n",
       "      <td>1022</td>\n",
       "      <td>7</td>\n",
       "      <td>56.0</td>\n",
       "      <td>0.0</td>\n",
       "      <td>NaN</td>\n",
       "      <td>0.0</td>\n",
       "      <td>Bo</td>\n",
       "      <td>Snow</td>\n",
       "      <td>73</td>\n",
       "      <td>New York-Newark-Jersey City</td>\n",
       "      <td>2018-04-20</td>\n",
       "      <td>surf</td>\n",
       "      <td>NY-NJ-PA</td>\n",
       "      <td>20</td>\n",
       "      <td>0.0</td>\n",
       "      <td>NaN</td>\n",
       "      <td>0.0</td>\n",
       "      <td>20.0</td>\n",
       "    </tr>\n",
       "    <tr>\n",
       "      <td>78</td>\n",
       "      <td>1022</td>\n",
       "      <td>8</td>\n",
       "      <td>69.0</td>\n",
       "      <td>131.0</td>\n",
       "      <td>NaN</td>\n",
       "      <td>7.0</td>\n",
       "      <td>Bo</td>\n",
       "      <td>Snow</td>\n",
       "      <td>73</td>\n",
       "      <td>New York-Newark-Jersey City</td>\n",
       "      <td>2018-04-20</td>\n",
       "      <td>surf</td>\n",
       "      <td>NY-NJ-PA</td>\n",
       "      <td>20</td>\n",
       "      <td>131.0</td>\n",
       "      <td>NaN</td>\n",
       "      <td>7.0</td>\n",
       "      <td>158.0</td>\n",
       "    </tr>\n",
       "    <tr>\n",
       "      <td>79</td>\n",
       "      <td>1022</td>\n",
       "      <td>9</td>\n",
       "      <td>54.0</td>\n",
       "      <td>10.0</td>\n",
       "      <td>NaN</td>\n",
       "      <td>0.0</td>\n",
       "      <td>Bo</td>\n",
       "      <td>Snow</td>\n",
       "      <td>73</td>\n",
       "      <td>New York-Newark-Jersey City</td>\n",
       "      <td>2018-04-20</td>\n",
       "      <td>surf</td>\n",
       "      <td>NY-NJ-PA</td>\n",
       "      <td>20</td>\n",
       "      <td>10.0</td>\n",
       "      <td>NaN</td>\n",
       "      <td>0.0</td>\n",
       "      <td>30.0</td>\n",
       "    </tr>\n",
       "    <tr>\n",
       "      <td>80</td>\n",
       "      <td>1022</td>\n",
       "      <td>10</td>\n",
       "      <td>69.0</td>\n",
       "      <td>74.0</td>\n",
       "      <td>NaN</td>\n",
       "      <td>4.0</td>\n",
       "      <td>Bo</td>\n",
       "      <td>Snow</td>\n",
       "      <td>73</td>\n",
       "      <td>New York-Newark-Jersey City</td>\n",
       "      <td>2018-04-20</td>\n",
       "      <td>surf</td>\n",
       "      <td>NY-NJ-PA</td>\n",
       "      <td>20</td>\n",
       "      <td>74.0</td>\n",
       "      <td>NaN</td>\n",
       "      <td>4.0</td>\n",
       "      <td>98.0</td>\n",
       "    </tr>\n",
       "    <tr>\n",
       "      <td>81</td>\n",
       "      <td>1022</td>\n",
       "      <td>11</td>\n",
       "      <td>61.0</td>\n",
       "      <td>0.0</td>\n",
       "      <td>NaN</td>\n",
       "      <td>8.0</td>\n",
       "      <td>Bo</td>\n",
       "      <td>Snow</td>\n",
       "      <td>73</td>\n",
       "      <td>New York-Newark-Jersey City</td>\n",
       "      <td>2018-04-20</td>\n",
       "      <td>surf</td>\n",
       "      <td>NY-NJ-PA</td>\n",
       "      <td>20</td>\n",
       "      <td>0.0</td>\n",
       "      <td>NaN</td>\n",
       "      <td>8.0</td>\n",
       "      <td>28.0</td>\n",
       "    </tr>\n",
       "    <tr>\n",
       "      <td>82</td>\n",
       "      <td>1022</td>\n",
       "      <td>12</td>\n",
       "      <td>62.0</td>\n",
       "      <td>85.0</td>\n",
       "      <td>NaN</td>\n",
       "      <td>4.0</td>\n",
       "      <td>Bo</td>\n",
       "      <td>Snow</td>\n",
       "      <td>73</td>\n",
       "      <td>New York-Newark-Jersey City</td>\n",
       "      <td>2018-04-20</td>\n",
       "      <td>surf</td>\n",
       "      <td>NY-NJ-PA</td>\n",
       "      <td>20</td>\n",
       "      <td>85.0</td>\n",
       "      <td>NaN</td>\n",
       "      <td>4.0</td>\n",
       "      <td>109.0</td>\n",
       "    </tr>\n",
       "    <tr>\n",
       "      <td>85</td>\n",
       "      <td>1024</td>\n",
       "      <td>12</td>\n",
       "      <td>64.0</td>\n",
       "      <td>64.0</td>\n",
       "      <td>NaN</td>\n",
       "      <td>0.0</td>\n",
       "      <td>Yuki</td>\n",
       "      <td>Tyson</td>\n",
       "      <td>74</td>\n",
       "      <td>New York-Newark-Jersey City</td>\n",
       "      <td>2018-08-21</td>\n",
       "      <td>surf</td>\n",
       "      <td>NY-NJ-PA</td>\n",
       "      <td>20</td>\n",
       "      <td>64.0</td>\n",
       "      <td>NaN</td>\n",
       "      <td>0.0</td>\n",
       "      <td>84.0</td>\n",
       "    </tr>\n",
       "    <tr>\n",
       "      <td>88</td>\n",
       "      <td>1027</td>\n",
       "      <td>7</td>\n",
       "      <td>38.0</td>\n",
       "      <td>0.0</td>\n",
       "      <td>0.0</td>\n",
       "      <td>0.0</td>\n",
       "      <td>Georgeanna</td>\n",
       "      <td>Cardenas</td>\n",
       "      <td>38</td>\n",
       "      <td>New York-Newark-Jersey City</td>\n",
       "      <td>2018-06-26</td>\n",
       "      <td>surf</td>\n",
       "      <td>NY-NJ-PA</td>\n",
       "      <td>20</td>\n",
       "      <td>0.0</td>\n",
       "      <td>0.0</td>\n",
       "      <td>0.0</td>\n",
       "      <td>20.0</td>\n",
       "    </tr>\n",
       "    <tr>\n",
       "      <td>89</td>\n",
       "      <td>1027</td>\n",
       "      <td>8</td>\n",
       "      <td>41.0</td>\n",
       "      <td>0.0</td>\n",
       "      <td>0.0</td>\n",
       "      <td>6.0</td>\n",
       "      <td>Georgeanna</td>\n",
       "      <td>Cardenas</td>\n",
       "      <td>38</td>\n",
       "      <td>New York-Newark-Jersey City</td>\n",
       "      <td>2018-06-26</td>\n",
       "      <td>surf</td>\n",
       "      <td>NY-NJ-PA</td>\n",
       "      <td>20</td>\n",
       "      <td>0.0</td>\n",
       "      <td>0.0</td>\n",
       "      <td>6.0</td>\n",
       "      <td>26.0</td>\n",
       "    </tr>\n",
       "    <tr>\n",
       "      <td>90</td>\n",
       "      <td>1027</td>\n",
       "      <td>9</td>\n",
       "      <td>43.0</td>\n",
       "      <td>0.0</td>\n",
       "      <td>0.0</td>\n",
       "      <td>3.0</td>\n",
       "      <td>Georgeanna</td>\n",
       "      <td>Cardenas</td>\n",
       "      <td>38</td>\n",
       "      <td>New York-Newark-Jersey City</td>\n",
       "      <td>2018-06-26</td>\n",
       "      <td>surf</td>\n",
       "      <td>NY-NJ-PA</td>\n",
       "      <td>20</td>\n",
       "      <td>0.0</td>\n",
       "      <td>0.0</td>\n",
       "      <td>3.0</td>\n",
       "      <td>23.0</td>\n",
       "    </tr>\n",
       "    <tr>\n",
       "      <td>91</td>\n",
       "      <td>1027</td>\n",
       "      <td>10</td>\n",
       "      <td>46.0</td>\n",
       "      <td>0.0</td>\n",
       "      <td>0.0</td>\n",
       "      <td>0.0</td>\n",
       "      <td>Georgeanna</td>\n",
       "      <td>Cardenas</td>\n",
       "      <td>38</td>\n",
       "      <td>New York-Newark-Jersey City</td>\n",
       "      <td>2018-06-26</td>\n",
       "      <td>surf</td>\n",
       "      <td>NY-NJ-PA</td>\n",
       "      <td>20</td>\n",
       "      <td>0.0</td>\n",
       "      <td>0.0</td>\n",
       "      <td>0.0</td>\n",
       "      <td>20.0</td>\n",
       "    </tr>\n",
       "    <tr>\n",
       "      <td>92</td>\n",
       "      <td>1027</td>\n",
       "      <td>11</td>\n",
       "      <td>40.0</td>\n",
       "      <td>0.0</td>\n",
       "      <td>0.0</td>\n",
       "      <td>1.0</td>\n",
       "      <td>Georgeanna</td>\n",
       "      <td>Cardenas</td>\n",
       "      <td>38</td>\n",
       "      <td>New York-Newark-Jersey City</td>\n",
       "      <td>2018-06-26</td>\n",
       "      <td>surf</td>\n",
       "      <td>NY-NJ-PA</td>\n",
       "      <td>20</td>\n",
       "      <td>0.0</td>\n",
       "      <td>0.0</td>\n",
       "      <td>1.0</td>\n",
       "      <td>21.0</td>\n",
       "    </tr>\n",
       "    <tr>\n",
       "      <td>93</td>\n",
       "      <td>1027</td>\n",
       "      <td>12</td>\n",
       "      <td>40.0</td>\n",
       "      <td>0.0</td>\n",
       "      <td>0.0</td>\n",
       "      <td>0.0</td>\n",
       "      <td>Georgeanna</td>\n",
       "      <td>Cardenas</td>\n",
       "      <td>38</td>\n",
       "      <td>New York-Newark-Jersey City</td>\n",
       "      <td>2018-06-26</td>\n",
       "      <td>surf</td>\n",
       "      <td>NY-NJ-PA</td>\n",
       "      <td>20</td>\n",
       "      <td>0.0</td>\n",
       "      <td>0.0</td>\n",
       "      <td>0.0</td>\n",
       "      <td>20.0</td>\n",
       "    </tr>\n",
       "    <tr>\n",
       "      <td>113</td>\n",
       "      <td>1031</td>\n",
       "      <td>7</td>\n",
       "      <td>29.0</td>\n",
       "      <td>0.0</td>\n",
       "      <td>0.0</td>\n",
       "      <td>0.0</td>\n",
       "      <td>Lane</td>\n",
       "      <td>Martin</td>\n",
       "      <td>52</td>\n",
       "      <td>New York-Newark-Jersey City</td>\n",
       "      <td>2018-07-15</td>\n",
       "      <td>ultimate</td>\n",
       "      <td>NY-NJ-PA</td>\n",
       "      <td>70</td>\n",
       "      <td>0.0</td>\n",
       "      <td>0.0</td>\n",
       "      <td>0.0</td>\n",
       "      <td>70.0</td>\n",
       "    </tr>\n",
       "    <tr>\n",
       "      <td>114</td>\n",
       "      <td>1031</td>\n",
       "      <td>8</td>\n",
       "      <td>53.0</td>\n",
       "      <td>0.0</td>\n",
       "      <td>0.0</td>\n",
       "      <td>0.0</td>\n",
       "      <td>Lane</td>\n",
       "      <td>Martin</td>\n",
       "      <td>52</td>\n",
       "      <td>New York-Newark-Jersey City</td>\n",
       "      <td>2018-07-15</td>\n",
       "      <td>ultimate</td>\n",
       "      <td>NY-NJ-PA</td>\n",
       "      <td>70</td>\n",
       "      <td>0.0</td>\n",
       "      <td>0.0</td>\n",
       "      <td>0.0</td>\n",
       "      <td>70.0</td>\n",
       "    </tr>\n",
       "    <tr>\n",
       "      <td>115</td>\n",
       "      <td>1031</td>\n",
       "      <td>9</td>\n",
       "      <td>59.0</td>\n",
       "      <td>0.0</td>\n",
       "      <td>0.0</td>\n",
       "      <td>0.0</td>\n",
       "      <td>Lane</td>\n",
       "      <td>Martin</td>\n",
       "      <td>52</td>\n",
       "      <td>New York-Newark-Jersey City</td>\n",
       "      <td>2018-07-15</td>\n",
       "      <td>ultimate</td>\n",
       "      <td>NY-NJ-PA</td>\n",
       "      <td>70</td>\n",
       "      <td>0.0</td>\n",
       "      <td>0.0</td>\n",
       "      <td>0.0</td>\n",
       "      <td>70.0</td>\n",
       "    </tr>\n",
       "  </tbody>\n",
       "</table>\n",
       "</div>"
      ],
      "text/plain": [
       "     user_id  month  call_date  duration  message_date  mb_used  first_name  \\\n",
       "56      1014     11       23.0       0.0           0.0      0.0     Edmundo   \n",
       "57      1014     12      125.0     614.0          14.0      0.0     Edmundo   \n",
       "75      1022      5       32.0       0.0           NaN      0.0          Bo   \n",
       "76      1022      6       65.0       0.0           NaN      9.0          Bo   \n",
       "77      1022      7       56.0       0.0           NaN      0.0          Bo   \n",
       "78      1022      8       69.0     131.0           NaN      7.0          Bo   \n",
       "79      1022      9       54.0      10.0           NaN      0.0          Bo   \n",
       "80      1022     10       69.0      74.0           NaN      4.0          Bo   \n",
       "81      1022     11       61.0       0.0           NaN      8.0          Bo   \n",
       "82      1022     12       62.0      85.0           NaN      4.0          Bo   \n",
       "85      1024     12       64.0      64.0           NaN      0.0        Yuki   \n",
       "88      1027      7       38.0       0.0           0.0      0.0  Georgeanna   \n",
       "89      1027      8       41.0       0.0           0.0      6.0  Georgeanna   \n",
       "90      1027      9       43.0       0.0           0.0      3.0  Georgeanna   \n",
       "91      1027     10       46.0       0.0           0.0      0.0  Georgeanna   \n",
       "92      1027     11       40.0       0.0           0.0      1.0  Georgeanna   \n",
       "93      1027     12       40.0       0.0           0.0      0.0  Georgeanna   \n",
       "113     1031      7       29.0       0.0           0.0      0.0        Lane   \n",
       "114     1031      8       53.0       0.0           0.0      0.0        Lane   \n",
       "115     1031      9       59.0       0.0           0.0      0.0        Lane   \n",
       "\n",
       "    last_name  age                         city    reg_date      plan  \\\n",
       "56      Simon   61  New York-Newark-Jersey City  2018-11-25      surf   \n",
       "57      Simon   61  New York-Newark-Jersey City  2018-11-25      surf   \n",
       "75       Snow   73  New York-Newark-Jersey City  2018-04-20      surf   \n",
       "76       Snow   73  New York-Newark-Jersey City  2018-04-20      surf   \n",
       "77       Snow   73  New York-Newark-Jersey City  2018-04-20      surf   \n",
       "78       Snow   73  New York-Newark-Jersey City  2018-04-20      surf   \n",
       "79       Snow   73  New York-Newark-Jersey City  2018-04-20      surf   \n",
       "80       Snow   73  New York-Newark-Jersey City  2018-04-20      surf   \n",
       "81       Snow   73  New York-Newark-Jersey City  2018-04-20      surf   \n",
       "82       Snow   73  New York-Newark-Jersey City  2018-04-20      surf   \n",
       "85      Tyson   74  New York-Newark-Jersey City  2018-08-21      surf   \n",
       "88   Cardenas   38  New York-Newark-Jersey City  2018-06-26      surf   \n",
       "89   Cardenas   38  New York-Newark-Jersey City  2018-06-26      surf   \n",
       "90   Cardenas   38  New York-Newark-Jersey City  2018-06-26      surf   \n",
       "91   Cardenas   38  New York-Newark-Jersey City  2018-06-26      surf   \n",
       "92   Cardenas   38  New York-Newark-Jersey City  2018-06-26      surf   \n",
       "93   Cardenas   38  New York-Newark-Jersey City  2018-06-26      surf   \n",
       "113    Martin   52  New York-Newark-Jersey City  2018-07-15  ultimate   \n",
       "114    Martin   52  New York-Newark-Jersey City  2018-07-15  ultimate   \n",
       "115    Martin   52  New York-Newark-Jersey City  2018-07-15  ultimate   \n",
       "\n",
       "         state  base_cost  excess_call_fee  excess_text_fee  excess_data_fee  \\\n",
       "56    NY-NJ-PA         20              0.0              0.0              0.0   \n",
       "57    NY-NJ-PA         20            614.0             14.0              0.0   \n",
       "75    NY-NJ-PA         20              0.0              NaN              0.0   \n",
       "76    NY-NJ-PA         20              0.0              NaN              9.0   \n",
       "77    NY-NJ-PA         20              0.0              NaN              0.0   \n",
       "78    NY-NJ-PA         20            131.0              NaN              7.0   \n",
       "79    NY-NJ-PA         20             10.0              NaN              0.0   \n",
       "80    NY-NJ-PA         20             74.0              NaN              4.0   \n",
       "81    NY-NJ-PA         20              0.0              NaN              8.0   \n",
       "82    NY-NJ-PA         20             85.0              NaN              4.0   \n",
       "85    NY-NJ-PA         20             64.0              NaN              0.0   \n",
       "88    NY-NJ-PA         20              0.0              0.0              0.0   \n",
       "89    NY-NJ-PA         20              0.0              0.0              6.0   \n",
       "90    NY-NJ-PA         20              0.0              0.0              3.0   \n",
       "91    NY-NJ-PA         20              0.0              0.0              0.0   \n",
       "92    NY-NJ-PA         20              0.0              0.0              1.0   \n",
       "93    NY-NJ-PA         20              0.0              0.0              0.0   \n",
       "113   NY-NJ-PA         70              0.0              0.0              0.0   \n",
       "114   NY-NJ-PA         70              0.0              0.0              0.0   \n",
       "115   NY-NJ-PA         70              0.0              0.0              0.0   \n",
       "\n",
       "     total_cost  \n",
       "56         20.0  \n",
       "57        648.0  \n",
       "75         20.0  \n",
       "76         29.0  \n",
       "77         20.0  \n",
       "78        158.0  \n",
       "79         30.0  \n",
       "80         98.0  \n",
       "81         28.0  \n",
       "82        109.0  \n",
       "85         84.0  \n",
       "88         20.0  \n",
       "89         26.0  \n",
       "90         23.0  \n",
       "91         20.0  \n",
       "92         21.0  \n",
       "93         20.0  \n",
       "113        70.0  \n",
       "114        70.0  \n",
       "115        70.0  "
      ]
     },
     "execution_count": 87,
     "metadata": {},
     "output_type": "execute_result"
    }
   ],
   "source": [
    "NY = revenue[revenue['state'].str.contains('NY-NJ-PA')]\n",
    "\n",
    "NY.head(20)"
   ]
  },
  {
   "cell_type": "code",
   "execution_count": 88,
   "metadata": {},
   "outputs": [
    {
     "data": {
      "text/html": [
       "<div>\n",
       "<style scoped>\n",
       "    .dataframe tbody tr th:only-of-type {\n",
       "        vertical-align: middle;\n",
       "    }\n",
       "\n",
       "    .dataframe tbody tr th {\n",
       "        vertical-align: top;\n",
       "    }\n",
       "\n",
       "    .dataframe thead th {\n",
       "        text-align: right;\n",
       "    }\n",
       "</style>\n",
       "<table border=\"1\" class=\"dataframe\">\n",
       "  <thead>\n",
       "    <tr style=\"text-align: right;\">\n",
       "      <th></th>\n",
       "      <th>user_id</th>\n",
       "      <th>month</th>\n",
       "      <th>call_date</th>\n",
       "      <th>duration</th>\n",
       "      <th>message_date</th>\n",
       "      <th>mb_used</th>\n",
       "      <th>first_name</th>\n",
       "      <th>last_name</th>\n",
       "      <th>age</th>\n",
       "      <th>city</th>\n",
       "      <th>reg_date</th>\n",
       "      <th>plan</th>\n",
       "      <th>state</th>\n",
       "      <th>base_cost</th>\n",
       "      <th>excess_call_fee</th>\n",
       "      <th>excess_text_fee</th>\n",
       "      <th>excess_data_fee</th>\n",
       "      <th>total_cost</th>\n",
       "    </tr>\n",
       "  </thead>\n",
       "  <tbody>\n",
       "    <tr>\n",
       "      <td>0</td>\n",
       "      <td>1000</td>\n",
       "      <td>12</td>\n",
       "      <td>16.0</td>\n",
       "      <td>0.0</td>\n",
       "      <td>0.0</td>\n",
       "      <td>0.0</td>\n",
       "      <td>Anamaria</td>\n",
       "      <td>Bauer</td>\n",
       "      <td>45</td>\n",
       "      <td>Atlanta-Sandy Springs-Roswell</td>\n",
       "      <td>2018-12-24</td>\n",
       "      <td>ultimate</td>\n",
       "      <td>GA</td>\n",
       "      <td>70</td>\n",
       "      <td>0.0</td>\n",
       "      <td>0.0</td>\n",
       "      <td>0.0</td>\n",
       "      <td>70.0</td>\n",
       "    </tr>\n",
       "    <tr>\n",
       "      <td>1</td>\n",
       "      <td>1001</td>\n",
       "      <td>8</td>\n",
       "      <td>22.0</td>\n",
       "      <td>0.0</td>\n",
       "      <td>0.0</td>\n",
       "      <td>0.0</td>\n",
       "      <td>Mickey</td>\n",
       "      <td>Wilkerson</td>\n",
       "      <td>28</td>\n",
       "      <td>Seattle-Tacoma-Bellevue</td>\n",
       "      <td>2018-08-13</td>\n",
       "      <td>surf</td>\n",
       "      <td>WA</td>\n",
       "      <td>20</td>\n",
       "      <td>0.0</td>\n",
       "      <td>0.0</td>\n",
       "      <td>0.0</td>\n",
       "      <td>20.0</td>\n",
       "    </tr>\n",
       "    <tr>\n",
       "      <td>2</td>\n",
       "      <td>1001</td>\n",
       "      <td>9</td>\n",
       "      <td>38.0</td>\n",
       "      <td>0.0</td>\n",
       "      <td>0.0</td>\n",
       "      <td>0.0</td>\n",
       "      <td>Mickey</td>\n",
       "      <td>Wilkerson</td>\n",
       "      <td>28</td>\n",
       "      <td>Seattle-Tacoma-Bellevue</td>\n",
       "      <td>2018-08-13</td>\n",
       "      <td>surf</td>\n",
       "      <td>WA</td>\n",
       "      <td>20</td>\n",
       "      <td>0.0</td>\n",
       "      <td>0.0</td>\n",
       "      <td>0.0</td>\n",
       "      <td>20.0</td>\n",
       "    </tr>\n",
       "    <tr>\n",
       "      <td>3</td>\n",
       "      <td>1001</td>\n",
       "      <td>10</td>\n",
       "      <td>47.0</td>\n",
       "      <td>0.0</td>\n",
       "      <td>3.0</td>\n",
       "      <td>8.0</td>\n",
       "      <td>Mickey</td>\n",
       "      <td>Wilkerson</td>\n",
       "      <td>28</td>\n",
       "      <td>Seattle-Tacoma-Bellevue</td>\n",
       "      <td>2018-08-13</td>\n",
       "      <td>surf</td>\n",
       "      <td>WA</td>\n",
       "      <td>20</td>\n",
       "      <td>0.0</td>\n",
       "      <td>3.0</td>\n",
       "      <td>8.0</td>\n",
       "      <td>31.0</td>\n",
       "    </tr>\n",
       "    <tr>\n",
       "      <td>4</td>\n",
       "      <td>1001</td>\n",
       "      <td>11</td>\n",
       "      <td>49.0</td>\n",
       "      <td>0.0</td>\n",
       "      <td>0.0</td>\n",
       "      <td>4.0</td>\n",
       "      <td>Mickey</td>\n",
       "      <td>Wilkerson</td>\n",
       "      <td>28</td>\n",
       "      <td>Seattle-Tacoma-Bellevue</td>\n",
       "      <td>2018-08-13</td>\n",
       "      <td>surf</td>\n",
       "      <td>WA</td>\n",
       "      <td>20</td>\n",
       "      <td>0.0</td>\n",
       "      <td>0.0</td>\n",
       "      <td>4.0</td>\n",
       "      <td>24.0</td>\n",
       "    </tr>\n",
       "    <tr>\n",
       "      <td>5</td>\n",
       "      <td>1001</td>\n",
       "      <td>12</td>\n",
       "      <td>46.0</td>\n",
       "      <td>0.0</td>\n",
       "      <td>0.0</td>\n",
       "      <td>5.0</td>\n",
       "      <td>Mickey</td>\n",
       "      <td>Wilkerson</td>\n",
       "      <td>28</td>\n",
       "      <td>Seattle-Tacoma-Bellevue</td>\n",
       "      <td>2018-08-13</td>\n",
       "      <td>surf</td>\n",
       "      <td>WA</td>\n",
       "      <td>20</td>\n",
       "      <td>0.0</td>\n",
       "      <td>0.0</td>\n",
       "      <td>5.0</td>\n",
       "      <td>25.0</td>\n",
       "    </tr>\n",
       "    <tr>\n",
       "      <td>6</td>\n",
       "      <td>1002</td>\n",
       "      <td>10</td>\n",
       "      <td>8.0</td>\n",
       "      <td>0.0</td>\n",
       "      <td>0.0</td>\n",
       "      <td>0.0</td>\n",
       "      <td>Carlee</td>\n",
       "      <td>Hoffman</td>\n",
       "      <td>36</td>\n",
       "      <td>Las Vegas-Henderson-Paradise</td>\n",
       "      <td>2018-10-21</td>\n",
       "      <td>surf</td>\n",
       "      <td>NV</td>\n",
       "      <td>20</td>\n",
       "      <td>0.0</td>\n",
       "      <td>0.0</td>\n",
       "      <td>0.0</td>\n",
       "      <td>20.0</td>\n",
       "    </tr>\n",
       "    <tr>\n",
       "      <td>7</td>\n",
       "      <td>1002</td>\n",
       "      <td>11</td>\n",
       "      <td>48.0</td>\n",
       "      <td>0.0</td>\n",
       "      <td>0.0</td>\n",
       "      <td>5.0</td>\n",
       "      <td>Carlee</td>\n",
       "      <td>Hoffman</td>\n",
       "      <td>36</td>\n",
       "      <td>Las Vegas-Henderson-Paradise</td>\n",
       "      <td>2018-10-21</td>\n",
       "      <td>surf</td>\n",
       "      <td>NV</td>\n",
       "      <td>20</td>\n",
       "      <td>0.0</td>\n",
       "      <td>0.0</td>\n",
       "      <td>5.0</td>\n",
       "      <td>25.0</td>\n",
       "    </tr>\n",
       "    <tr>\n",
       "      <td>8</td>\n",
       "      <td>1002</td>\n",
       "      <td>12</td>\n",
       "      <td>38.0</td>\n",
       "      <td>0.0</td>\n",
       "      <td>0.0</td>\n",
       "      <td>0.0</td>\n",
       "      <td>Carlee</td>\n",
       "      <td>Hoffman</td>\n",
       "      <td>36</td>\n",
       "      <td>Las Vegas-Henderson-Paradise</td>\n",
       "      <td>2018-10-21</td>\n",
       "      <td>surf</td>\n",
       "      <td>NV</td>\n",
       "      <td>20</td>\n",
       "      <td>0.0</td>\n",
       "      <td>0.0</td>\n",
       "      <td>0.0</td>\n",
       "      <td>20.0</td>\n",
       "    </tr>\n",
       "    <tr>\n",
       "      <td>9</td>\n",
       "      <td>1003</td>\n",
       "      <td>12</td>\n",
       "      <td>118.0</td>\n",
       "      <td>604.0</td>\n",
       "      <td>0.0</td>\n",
       "      <td>13.0</td>\n",
       "      <td>Reynaldo</td>\n",
       "      <td>Jenkins</td>\n",
       "      <td>52</td>\n",
       "      <td>Tulsa</td>\n",
       "      <td>2018-01-28</td>\n",
       "      <td>surf</td>\n",
       "      <td>OK</td>\n",
       "      <td>20</td>\n",
       "      <td>604.0</td>\n",
       "      <td>0.0</td>\n",
       "      <td>13.0</td>\n",
       "      <td>637.0</td>\n",
       "    </tr>\n",
       "    <tr>\n",
       "      <td>10</td>\n",
       "      <td>1004</td>\n",
       "      <td>5</td>\n",
       "      <td>19.0</td>\n",
       "      <td>0.0</td>\n",
       "      <td>0.0</td>\n",
       "      <td>0.0</td>\n",
       "      <td>Leonila</td>\n",
       "      <td>Thompson</td>\n",
       "      <td>40</td>\n",
       "      <td>Seattle-Tacoma-Bellevue</td>\n",
       "      <td>2018-05-23</td>\n",
       "      <td>surf</td>\n",
       "      <td>WA</td>\n",
       "      <td>20</td>\n",
       "      <td>0.0</td>\n",
       "      <td>0.0</td>\n",
       "      <td>0.0</td>\n",
       "      <td>20.0</td>\n",
       "    </tr>\n",
       "    <tr>\n",
       "      <td>11</td>\n",
       "      <td>1004</td>\n",
       "      <td>6</td>\n",
       "      <td>33.0</td>\n",
       "      <td>0.0</td>\n",
       "      <td>0.0</td>\n",
       "      <td>6.0</td>\n",
       "      <td>Leonila</td>\n",
       "      <td>Thompson</td>\n",
       "      <td>40</td>\n",
       "      <td>Seattle-Tacoma-Bellevue</td>\n",
       "      <td>2018-05-23</td>\n",
       "      <td>surf</td>\n",
       "      <td>WA</td>\n",
       "      <td>20</td>\n",
       "      <td>0.0</td>\n",
       "      <td>0.0</td>\n",
       "      <td>6.0</td>\n",
       "      <td>26.0</td>\n",
       "    </tr>\n",
       "    <tr>\n",
       "      <td>12</td>\n",
       "      <td>1004</td>\n",
       "      <td>7</td>\n",
       "      <td>45.0</td>\n",
       "      <td>0.0</td>\n",
       "      <td>0.0</td>\n",
       "      <td>10.0</td>\n",
       "      <td>Leonila</td>\n",
       "      <td>Thompson</td>\n",
       "      <td>40</td>\n",
       "      <td>Seattle-Tacoma-Bellevue</td>\n",
       "      <td>2018-05-23</td>\n",
       "      <td>surf</td>\n",
       "      <td>WA</td>\n",
       "      <td>20</td>\n",
       "      <td>0.0</td>\n",
       "      <td>0.0</td>\n",
       "      <td>10.0</td>\n",
       "      <td>30.0</td>\n",
       "    </tr>\n",
       "    <tr>\n",
       "      <td>13</td>\n",
       "      <td>1004</td>\n",
       "      <td>8</td>\n",
       "      <td>42.0</td>\n",
       "      <td>0.0</td>\n",
       "      <td>0.0</td>\n",
       "      <td>13.0</td>\n",
       "      <td>Leonila</td>\n",
       "      <td>Thompson</td>\n",
       "      <td>40</td>\n",
       "      <td>Seattle-Tacoma-Bellevue</td>\n",
       "      <td>2018-05-23</td>\n",
       "      <td>surf</td>\n",
       "      <td>WA</td>\n",
       "      <td>20</td>\n",
       "      <td>0.0</td>\n",
       "      <td>0.0</td>\n",
       "      <td>13.0</td>\n",
       "      <td>33.0</td>\n",
       "    </tr>\n",
       "    <tr>\n",
       "      <td>14</td>\n",
       "      <td>1004</td>\n",
       "      <td>9</td>\n",
       "      <td>32.0</td>\n",
       "      <td>0.0</td>\n",
       "      <td>0.0</td>\n",
       "      <td>4.0</td>\n",
       "      <td>Leonila</td>\n",
       "      <td>Thompson</td>\n",
       "      <td>40</td>\n",
       "      <td>Seattle-Tacoma-Bellevue</td>\n",
       "      <td>2018-05-23</td>\n",
       "      <td>surf</td>\n",
       "      <td>WA</td>\n",
       "      <td>20</td>\n",
       "      <td>0.0</td>\n",
       "      <td>0.0</td>\n",
       "      <td>4.0</td>\n",
       "      <td>24.0</td>\n",
       "    </tr>\n",
       "    <tr>\n",
       "      <td>15</td>\n",
       "      <td>1004</td>\n",
       "      <td>10</td>\n",
       "      <td>47.0</td>\n",
       "      <td>0.0</td>\n",
       "      <td>0.0</td>\n",
       "      <td>0.0</td>\n",
       "      <td>Leonila</td>\n",
       "      <td>Thompson</td>\n",
       "      <td>40</td>\n",
       "      <td>Seattle-Tacoma-Bellevue</td>\n",
       "      <td>2018-05-23</td>\n",
       "      <td>surf</td>\n",
       "      <td>WA</td>\n",
       "      <td>20</td>\n",
       "      <td>0.0</td>\n",
       "      <td>0.0</td>\n",
       "      <td>0.0</td>\n",
       "      <td>20.0</td>\n",
       "    </tr>\n",
       "    <tr>\n",
       "      <td>16</td>\n",
       "      <td>1004</td>\n",
       "      <td>11</td>\n",
       "      <td>45.0</td>\n",
       "      <td>0.0</td>\n",
       "      <td>0.0</td>\n",
       "      <td>7.0</td>\n",
       "      <td>Leonila</td>\n",
       "      <td>Thompson</td>\n",
       "      <td>40</td>\n",
       "      <td>Seattle-Tacoma-Bellevue</td>\n",
       "      <td>2018-05-23</td>\n",
       "      <td>surf</td>\n",
       "      <td>WA</td>\n",
       "      <td>20</td>\n",
       "      <td>0.0</td>\n",
       "      <td>0.0</td>\n",
       "      <td>7.0</td>\n",
       "      <td>27.0</td>\n",
       "    </tr>\n",
       "    <tr>\n",
       "      <td>17</td>\n",
       "      <td>1004</td>\n",
       "      <td>12</td>\n",
       "      <td>43.0</td>\n",
       "      <td>0.0</td>\n",
       "      <td>0.0</td>\n",
       "      <td>7.0</td>\n",
       "      <td>Leonila</td>\n",
       "      <td>Thompson</td>\n",
       "      <td>40</td>\n",
       "      <td>Seattle-Tacoma-Bellevue</td>\n",
       "      <td>2018-05-23</td>\n",
       "      <td>surf</td>\n",
       "      <td>WA</td>\n",
       "      <td>20</td>\n",
       "      <td>0.0</td>\n",
       "      <td>0.0</td>\n",
       "      <td>7.0</td>\n",
       "      <td>27.0</td>\n",
       "    </tr>\n",
       "    <tr>\n",
       "      <td>18</td>\n",
       "      <td>1005</td>\n",
       "      <td>12</td>\n",
       "      <td>50.0</td>\n",
       "      <td>0.0</td>\n",
       "      <td>0.0</td>\n",
       "      <td>3.0</td>\n",
       "      <td>Livia</td>\n",
       "      <td>Shields</td>\n",
       "      <td>31</td>\n",
       "      <td>Dallas-Fort Worth-Arlington</td>\n",
       "      <td>2018-11-29</td>\n",
       "      <td>surf</td>\n",
       "      <td>TX</td>\n",
       "      <td>20</td>\n",
       "      <td>0.0</td>\n",
       "      <td>0.0</td>\n",
       "      <td>3.0</td>\n",
       "      <td>23.0</td>\n",
       "    </tr>\n",
       "    <tr>\n",
       "      <td>19</td>\n",
       "      <td>1006</td>\n",
       "      <td>11</td>\n",
       "      <td>2.0</td>\n",
       "      <td>0.0</td>\n",
       "      <td>0.0</td>\n",
       "      <td>0.0</td>\n",
       "      <td>Jesusa</td>\n",
       "      <td>Bradford</td>\n",
       "      <td>73</td>\n",
       "      <td>San Francisco-Oakland-Berkeley</td>\n",
       "      <td>2018-11-27</td>\n",
       "      <td>ultimate</td>\n",
       "      <td>CA</td>\n",
       "      <td>70</td>\n",
       "      <td>0.0</td>\n",
       "      <td>0.0</td>\n",
       "      <td>0.0</td>\n",
       "      <td>70.0</td>\n",
       "    </tr>\n",
       "  </tbody>\n",
       "</table>\n",
       "</div>"
      ],
      "text/plain": [
       "    user_id  month  call_date  duration  message_date  mb_used first_name  \\\n",
       "0      1000     12       16.0       0.0           0.0      0.0   Anamaria   \n",
       "1      1001      8       22.0       0.0           0.0      0.0     Mickey   \n",
       "2      1001      9       38.0       0.0           0.0      0.0     Mickey   \n",
       "3      1001     10       47.0       0.0           3.0      8.0     Mickey   \n",
       "4      1001     11       49.0       0.0           0.0      4.0     Mickey   \n",
       "5      1001     12       46.0       0.0           0.0      5.0     Mickey   \n",
       "6      1002     10        8.0       0.0           0.0      0.0     Carlee   \n",
       "7      1002     11       48.0       0.0           0.0      5.0     Carlee   \n",
       "8      1002     12       38.0       0.0           0.0      0.0     Carlee   \n",
       "9      1003     12      118.0     604.0           0.0     13.0   Reynaldo   \n",
       "10     1004      5       19.0       0.0           0.0      0.0    Leonila   \n",
       "11     1004      6       33.0       0.0           0.0      6.0    Leonila   \n",
       "12     1004      7       45.0       0.0           0.0     10.0    Leonila   \n",
       "13     1004      8       42.0       0.0           0.0     13.0    Leonila   \n",
       "14     1004      9       32.0       0.0           0.0      4.0    Leonila   \n",
       "15     1004     10       47.0       0.0           0.0      0.0    Leonila   \n",
       "16     1004     11       45.0       0.0           0.0      7.0    Leonila   \n",
       "17     1004     12       43.0       0.0           0.0      7.0    Leonila   \n",
       "18     1005     12       50.0       0.0           0.0      3.0      Livia   \n",
       "19     1006     11        2.0       0.0           0.0      0.0     Jesusa   \n",
       "\n",
       "    last_name  age                            city    reg_date      plan  \\\n",
       "0       Bauer   45   Atlanta-Sandy Springs-Roswell  2018-12-24  ultimate   \n",
       "1   Wilkerson   28         Seattle-Tacoma-Bellevue  2018-08-13      surf   \n",
       "2   Wilkerson   28         Seattle-Tacoma-Bellevue  2018-08-13      surf   \n",
       "3   Wilkerson   28         Seattle-Tacoma-Bellevue  2018-08-13      surf   \n",
       "4   Wilkerson   28         Seattle-Tacoma-Bellevue  2018-08-13      surf   \n",
       "5   Wilkerson   28         Seattle-Tacoma-Bellevue  2018-08-13      surf   \n",
       "6     Hoffman   36    Las Vegas-Henderson-Paradise  2018-10-21      surf   \n",
       "7     Hoffman   36    Las Vegas-Henderson-Paradise  2018-10-21      surf   \n",
       "8     Hoffman   36    Las Vegas-Henderson-Paradise  2018-10-21      surf   \n",
       "9     Jenkins   52                           Tulsa  2018-01-28      surf   \n",
       "10   Thompson   40         Seattle-Tacoma-Bellevue  2018-05-23      surf   \n",
       "11   Thompson   40         Seattle-Tacoma-Bellevue  2018-05-23      surf   \n",
       "12   Thompson   40         Seattle-Tacoma-Bellevue  2018-05-23      surf   \n",
       "13   Thompson   40         Seattle-Tacoma-Bellevue  2018-05-23      surf   \n",
       "14   Thompson   40         Seattle-Tacoma-Bellevue  2018-05-23      surf   \n",
       "15   Thompson   40         Seattle-Tacoma-Bellevue  2018-05-23      surf   \n",
       "16   Thompson   40         Seattle-Tacoma-Bellevue  2018-05-23      surf   \n",
       "17   Thompson   40         Seattle-Tacoma-Bellevue  2018-05-23      surf   \n",
       "18    Shields   31     Dallas-Fort Worth-Arlington  2018-11-29      surf   \n",
       "19   Bradford   73  San Francisco-Oakland-Berkeley  2018-11-27  ultimate   \n",
       "\n",
       "   state  base_cost  excess_call_fee  excess_text_fee  excess_data_fee  \\\n",
       "0     GA         70              0.0              0.0              0.0   \n",
       "1     WA         20              0.0              0.0              0.0   \n",
       "2     WA         20              0.0              0.0              0.0   \n",
       "3     WA         20              0.0              3.0              8.0   \n",
       "4     WA         20              0.0              0.0              4.0   \n",
       "5     WA         20              0.0              0.0              5.0   \n",
       "6     NV         20              0.0              0.0              0.0   \n",
       "7     NV         20              0.0              0.0              5.0   \n",
       "8     NV         20              0.0              0.0              0.0   \n",
       "9     OK         20            604.0              0.0             13.0   \n",
       "10    WA         20              0.0              0.0              0.0   \n",
       "11    WA         20              0.0              0.0              6.0   \n",
       "12    WA         20              0.0              0.0             10.0   \n",
       "13    WA         20              0.0              0.0             13.0   \n",
       "14    WA         20              0.0              0.0              4.0   \n",
       "15    WA         20              0.0              0.0              0.0   \n",
       "16    WA         20              0.0              0.0              7.0   \n",
       "17    WA         20              0.0              0.0              7.0   \n",
       "18    TX         20              0.0              0.0              3.0   \n",
       "19    CA         70              0.0              0.0              0.0   \n",
       "\n",
       "    total_cost  \n",
       "0         70.0  \n",
       "1         20.0  \n",
       "2         20.0  \n",
       "3         31.0  \n",
       "4         24.0  \n",
       "5         25.0  \n",
       "6         20.0  \n",
       "7         25.0  \n",
       "8         20.0  \n",
       "9        637.0  \n",
       "10        20.0  \n",
       "11        26.0  \n",
       "12        30.0  \n",
       "13        33.0  \n",
       "14        24.0  \n",
       "15        20.0  \n",
       "16        27.0  \n",
       "17        27.0  \n",
       "18        23.0  \n",
       "19        70.0  "
      ]
     },
     "execution_count": 88,
     "metadata": {},
     "output_type": "execute_result"
    }
   ],
   "source": [
    "Other_states = revenue[~revenue['state'].str.contains('NY-NJ-PA')]\n",
    "Other_states.head(20)"
   ]
  },
  {
   "cell_type": "code",
   "execution_count": 89,
   "metadata": {},
   "outputs": [
    {
     "name": "stdout",
     "output_type": "stream",
     "text": [
      "p-value:  0.2411314586646174\n",
      "We can't reject the null hypothesis\n"
     ]
    }
   ],
   "source": [
    "# Test the hypotheses\n",
    "sample_3 = NY['total_cost']\n",
    "sample_4 = Other_states['total_cost']\n",
    "\n",
    "alpha = 0.05  # critical statistical significance level\n",
    "# if the p-value is less than alpha, we reject the hypothesis\n",
    "\n",
    "results = st.ttest_ind(sample_3, sample_4)\n",
    "\n",
    "print('p-value: ', results.pvalue)\n",
    "\n",
    "if results.pvalue < alpha:\n",
    "    print(\"We reject the null hypothesis\")\n",
    "else:\n",
    "    print(\"We can't reject the null hypothesis\") \n"
   ]
  },
  {
   "cell_type": "markdown",
   "metadata": {},
   "source": [
    "Since we cannot reject the null hypothesis,  the average revenue from users in the NY-NJ area is the same as that of the users from the other regions."
   ]
  },
  {
   "cell_type": "markdown",
   "metadata": {},
   "source": [
    "## General conclusion\n",
    "\n",
    "#### Call Conclusions\n",
    "\n",
    "1. Users' average duration of phone call did not differ dramatically between plans, while the ultimate group has a larger variance.\n",
    "2. Both plans display a negative skew, indicating that most users of both plans tend to speak on the lower end of duration, peaking at 400-600 minutes each and just around the surf plan base limit.\n",
    "    \n",
    "#### Message Conclusions\n",
    "\n",
    "1. The ultimate plan users has a higher average messages sent by month. Surf plan has more outliers over-sending messages beyond its plan base limit. Ultimate plan users has longer \"whiskers\", indicating a larger range of messages sent. This makes intuitive sense as the message limit for the ultimate plan is fairly high, at 1000 messages.\n",
    "\n",
    "2. Both plans display a negative skew, indicating that most users of both plans text an lower amount of messages. The skewed distribution peaks immediately at 0-50 count for both groups, which is just around the surf plan base limit.\n",
    "\n",
    "#### Internet Conclusions\n",
    "\n",
    "1. The ultimate plan users has a higher average internet usages by month. Surf plan has more outliers over-using data beyond its plan base limit. \n",
    "\n",
    "2. The ultimate plan group has an enormous variance! This makes intuitive sense as the internet limit for the ultimate plan is fairly high, at 30 GB.\n",
    "\n",
    "3. Internet usage histogram shows a faily-normal distribution, peaking at 10000-20000 mb of internet usage for both groups.\n",
    "    \n",
    "#### Revenue Conclusions\n",
    "\n",
    "1.**The ultimate plan users has a surpringly lower cost at 70 per month (same as its base cost), while the avg of the total cost of the surf plan is 92.**\n",
    "\n",
    "2. The surf plan group has an enormous variance! This means that the plan cost/revenue of this group is far from the mean and far from each other. This makes intuitive sense as it can be easy to go over the surf plan limits, and get overcharged at a higher rate per extra text/call/GB.\n",
    "\n",
    "3. In terms of distribution, the ultimate plan revenue is completely contained in range/bar under 100.\n",
    "\n",
    "4. The aggregate revenue of the surf plan is higher. This makes intuitive sense as it can be easy to go over the surf plan limits, and get overcharged at a higher rate per extra text/call/GB.\n",
    "\n",
    "#### Plan Conclusions\n",
    "\n",
    "While call and message do not make or break revenue between the two plans, internet usage is the key determinant in the cost/revenue. Surf users have a lower internet allowance, and given the round-up rule, they often go over the limit and end up paying on average more per month. Users seem to have volatility in terms of their usage by month, resulting in a large spread of data with unpredictability -- which ultimately boosts revenue and benefits the carrier.\n",
    "    \n",
    "#### Hypotheses Testing\n",
    "1. Rejecting the null hypothesis, we conclude that the average revenue from users of the Ultimate and Surf calling plans differs.\n",
    "2. Since we cannot reject the null hypothesis,  the average revenue from users in the NY-NJ area is the same as that of the users from the other regions."
   ]
  }
 ],
 "metadata": {
  "ExecuteTimeLog": [
   {
    "duration": 828,
    "start_time": "2021-11-16T09:21:11.304Z"
   },
   {
    "duration": 893,
    "start_time": "2021-11-16T09:21:17.728Z"
   },
   {
    "duration": 1150,
    "start_time": "2021-11-16T09:21:29.568Z"
   },
   {
    "duration": 3,
    "start_time": "2021-11-16T09:24:14.495Z"
   },
   {
    "duration": 120,
    "start_time": "2021-11-16T09:24:46.630Z"
   },
   {
    "duration": 3,
    "start_time": "2021-11-16T09:28:27.882Z"
   },
   {
    "duration": 4,
    "start_time": "2021-11-16T09:29:54.281Z"
   },
   {
    "duration": 3,
    "start_time": "2021-11-16T09:30:45.936Z"
   },
   {
    "duration": 4,
    "start_time": "2021-11-16T09:31:06.300Z"
   },
   {
    "duration": 113,
    "start_time": "2021-11-16T09:31:37.208Z"
   },
   {
    "duration": 143,
    "start_time": "2021-11-16T09:31:48.656Z"
   },
   {
    "duration": 98,
    "start_time": "2021-11-16T09:31:55.678Z"
   },
   {
    "duration": 3,
    "start_time": "2021-11-16T09:32:08.535Z"
   },
   {
    "duration": 111,
    "start_time": "2021-11-16T09:32:10.120Z"
   },
   {
    "duration": 3,
    "start_time": "2021-11-16T09:32:15.732Z"
   },
   {
    "duration": 4,
    "start_time": "2021-11-16T09:32:29.423Z"
   },
   {
    "duration": 3,
    "start_time": "2021-11-16T10:03:03.074Z"
   },
   {
    "duration": 3,
    "start_time": "2021-11-16T10:10:01.288Z"
   },
   {
    "duration": 3,
    "start_time": "2021-11-16T10:10:46.923Z"
   },
   {
    "duration": 121,
    "start_time": "2021-11-16T10:37:46.494Z"
   },
   {
    "duration": 125,
    "start_time": "2021-11-16T10:38:20.632Z"
   },
   {
    "duration": 112,
    "start_time": "2021-11-16T10:46:53.001Z"
   },
   {
    "duration": 110,
    "start_time": "2021-11-16T10:48:25.775Z"
   },
   {
    "duration": 3,
    "start_time": "2021-11-16T10:50:18.720Z"
   },
   {
    "duration": 4,
    "start_time": "2021-11-16T10:50:37.649Z"
   },
   {
    "duration": 2,
    "start_time": "2021-11-16T10:50:51.884Z"
   },
   {
    "duration": 3,
    "start_time": "2021-11-16T10:51:56.237Z"
   },
   {
    "duration": 101,
    "start_time": "2021-11-16T10:53:13.791Z"
   },
   {
    "duration": 3,
    "start_time": "2021-11-16T10:55:59.186Z"
   },
   {
    "duration": 3,
    "start_time": "2021-11-16T10:56:10.751Z"
   },
   {
    "duration": 3,
    "start_time": "2021-11-16T10:56:49.038Z"
   },
   {
    "duration": 3,
    "start_time": "2021-11-16T10:56:49.174Z"
   },
   {
    "duration": 4,
    "start_time": "2021-11-16T10:56:49.414Z"
   },
   {
    "duration": 3,
    "start_time": "2021-11-16T10:56:49.680Z"
   },
   {
    "duration": 3,
    "start_time": "2021-11-16T10:56:50.370Z"
   },
   {
    "duration": 114,
    "start_time": "2021-11-16T10:59:34.518Z"
   },
   {
    "duration": 3,
    "start_time": "2021-11-16T11:01:41.201Z"
   },
   {
    "duration": 116,
    "start_time": "2021-11-16T11:01:48.754Z"
   },
   {
    "duration": 3,
    "start_time": "2021-11-16T11:02:16.685Z"
   },
   {
    "duration": 3,
    "start_time": "2021-11-16T11:02:19.479Z"
   },
   {
    "duration": 3,
    "start_time": "2021-11-16T11:02:47.067Z"
   },
   {
    "duration": 3,
    "start_time": "2021-11-16T11:02:49.353Z"
   },
   {
    "duration": 3,
    "start_time": "2021-11-16T11:03:07.835Z"
   },
   {
    "duration": 3,
    "start_time": "2021-11-16T11:03:07.953Z"
   },
   {
    "duration": 112,
    "start_time": "2021-11-16T11:07:52.072Z"
   },
   {
    "duration": 187,
    "start_time": "2021-11-16T11:09:23.468Z"
   },
   {
    "duration": 4,
    "start_time": "2021-11-16T11:10:01.455Z"
   },
   {
    "duration": 3,
    "start_time": "2021-11-16T11:10:05.069Z"
   },
   {
    "duration": 4,
    "start_time": "2021-11-16T11:10:13.376Z"
   },
   {
    "duration": 3,
    "start_time": "2021-11-16T11:10:14.434Z"
   },
   {
    "duration": 3,
    "start_time": "2021-11-16T11:10:22.853Z"
   },
   {
    "duration": 4,
    "start_time": "2021-11-16T11:27:29.279Z"
   },
   {
    "duration": 4,
    "start_time": "2021-11-16T11:29:08.919Z"
   },
   {
    "duration": 118,
    "start_time": "2021-11-16T11:29:46.703Z"
   },
   {
    "duration": 437,
    "start_time": "2021-11-16T11:36:02.181Z"
   },
   {
    "duration": 157,
    "start_time": "2021-11-16T11:36:14.388Z"
   },
   {
    "duration": 207,
    "start_time": "2021-11-16T11:47:15.898Z"
   },
   {
    "duration": 3,
    "start_time": "2021-11-16T11:53:52.092Z"
   },
   {
    "duration": 3,
    "start_time": "2021-11-16T11:53:52.236Z"
   },
   {
    "duration": 3,
    "start_time": "2021-11-16T11:59:12.005Z"
   },
   {
    "duration": 112,
    "start_time": "2021-11-16T12:00:33.446Z"
   },
   {
    "duration": 3,
    "start_time": "2021-11-16T12:02:14.453Z"
   },
   {
    "duration": 3,
    "start_time": "2021-11-16T12:02:39.512Z"
   },
   {
    "duration": 106,
    "start_time": "2021-11-16T12:03:03.460Z"
   },
   {
    "duration": 3,
    "start_time": "2021-11-17T20:37:21.139Z"
   },
   {
    "duration": 3,
    "start_time": "2021-11-17T20:37:22.229Z"
   },
   {
    "duration": 3,
    "start_time": "2021-11-17T20:38:38.806Z"
   },
   {
    "duration": 3,
    "start_time": "2021-11-17T20:38:41.958Z"
   },
   {
    "duration": 3,
    "start_time": "2021-11-17T20:43:46.551Z"
   },
   {
    "duration": 4,
    "start_time": "2021-11-17T20:58:21.835Z"
   },
   {
    "duration": 3,
    "start_time": "2021-11-17T20:59:21.872Z"
   },
   {
    "duration": 4,
    "start_time": "2021-11-17T20:59:45.352Z"
   },
   {
    "duration": 4,
    "start_time": "2021-11-17T20:59:49.646Z"
   },
   {
    "duration": 159,
    "start_time": "2021-11-17T21:02:26.949Z"
   },
   {
    "duration": 3,
    "start_time": "2021-11-17T21:03:53.461Z"
   },
   {
    "duration": 3,
    "start_time": "2021-11-17T21:03:53.694Z"
   },
   {
    "duration": 3,
    "start_time": "2021-11-17T21:05:28.145Z"
   },
   {
    "duration": 116,
    "start_time": "2021-11-17T21:05:57.787Z"
   },
   {
    "duration": 3,
    "start_time": "2021-11-17T21:06:37.993Z"
   },
   {
    "duration": 3,
    "start_time": "2021-11-17T21:06:38.261Z"
   },
   {
    "duration": 3,
    "start_time": "2021-11-17T21:11:54.358Z"
   },
   {
    "duration": 3,
    "start_time": "2021-11-17T21:12:43.846Z"
   },
   {
    "duration": 4,
    "start_time": "2021-11-17T21:13:08.773Z"
   },
   {
    "duration": 3,
    "start_time": "2021-11-17T21:14:44.441Z"
   },
   {
    "duration": 3,
    "start_time": "2021-11-17T21:15:42.059Z"
   },
   {
    "duration": 4,
    "start_time": "2021-11-17T21:15:51.995Z"
   },
   {
    "duration": 3,
    "start_time": "2021-11-17T21:15:53.923Z"
   },
   {
    "duration": 3,
    "start_time": "2021-11-17T21:15:55.282Z"
   },
   {
    "duration": 3,
    "start_time": "2021-11-17T21:16:28.492Z"
   },
   {
    "duration": 3,
    "start_time": "2021-11-17T21:16:32.603Z"
   },
   {
    "duration": 3,
    "start_time": "2021-11-17T21:17:06.941Z"
   },
   {
    "duration": 98,
    "start_time": "2021-11-17T21:18:05.733Z"
   },
   {
    "duration": 4,
    "start_time": "2021-11-17T21:21:35.255Z"
   },
   {
    "duration": 3,
    "start_time": "2021-11-17T21:21:37.804Z"
   },
   {
    "duration": 4,
    "start_time": "2021-11-17T21:23:06.071Z"
   },
   {
    "duration": 3,
    "start_time": "2021-11-17T21:23:24.799Z"
   },
   {
    "duration": 3,
    "start_time": "2021-11-17T21:23:32.591Z"
   },
   {
    "duration": 98,
    "start_time": "2021-11-17T21:28:31.559Z"
   },
   {
    "duration": 3,
    "start_time": "2021-11-17T21:28:45.448Z"
   },
   {
    "duration": 3,
    "start_time": "2021-11-17T21:29:17.303Z"
   },
   {
    "duration": 3,
    "start_time": "2021-11-17T21:29:29.617Z"
   },
   {
    "duration": 3,
    "start_time": "2021-11-17T21:29:32.681Z"
   },
   {
    "duration": 3,
    "start_time": "2021-11-17T21:36:11.474Z"
   },
   {
    "duration": 3,
    "start_time": "2021-11-17T21:36:14.791Z"
   },
   {
    "duration": 3,
    "start_time": "2021-11-17T21:36:53.943Z"
   },
   {
    "duration": 3,
    "start_time": "2021-11-17T21:36:56.165Z"
   },
   {
    "duration": 4,
    "start_time": "2021-11-17T21:37:16.590Z"
   },
   {
    "duration": 3,
    "start_time": "2021-11-17T21:37:22.702Z"
   },
   {
    "duration": 4,
    "start_time": "2021-11-17T21:38:03.479Z"
   },
   {
    "duration": 3,
    "start_time": "2021-11-17T21:38:08.601Z"
   },
   {
    "duration": 3,
    "start_time": "2021-11-17T21:38:12.928Z"
   },
   {
    "duration": 3,
    "start_time": "2021-11-17T21:38:48.896Z"
   },
   {
    "duration": 2,
    "start_time": "2021-11-17T21:38:49.171Z"
   },
   {
    "duration": 4,
    "start_time": "2021-11-17T21:39:57.889Z"
   },
   {
    "duration": 3,
    "start_time": "2021-11-17T21:39:58.057Z"
   },
   {
    "duration": 3,
    "start_time": "2021-11-17T21:41:20.108Z"
   },
   {
    "duration": 3,
    "start_time": "2021-11-17T21:41:20.629Z"
   },
   {
    "duration": 3,
    "start_time": "2021-11-17T21:42:49.136Z"
   },
   {
    "duration": 3,
    "start_time": "2021-11-17T21:43:15.137Z"
   },
   {
    "duration": 4,
    "start_time": "2021-11-17T21:43:16.766Z"
   },
   {
    "duration": 4,
    "start_time": "2021-11-17T21:43:31.711Z"
   },
   {
    "duration": 3,
    "start_time": "2021-11-17T21:43:36.312Z"
   },
   {
    "duration": 4,
    "start_time": "2021-11-17T21:45:08.825Z"
   },
   {
    "duration": 4,
    "start_time": "2021-11-17T21:45:10.119Z"
   },
   {
    "duration": 4,
    "start_time": "2021-11-17T21:45:13.748Z"
   },
   {
    "duration": 3,
    "start_time": "2021-11-17T21:45:22.219Z"
   },
   {
    "duration": 3,
    "start_time": "2021-11-17T21:45:33.412Z"
   },
   {
    "duration": 2,
    "start_time": "2021-11-17T21:46:01.885Z"
   },
   {
    "duration": 3,
    "start_time": "2021-11-17T21:46:03.628Z"
   },
   {
    "duration": 107,
    "start_time": "2021-11-17T21:47:32.512Z"
   },
   {
    "duration": 103,
    "start_time": "2021-11-17T21:50:36.243Z"
   },
   {
    "duration": 3,
    "start_time": "2021-11-18T06:28:31.440Z"
   },
   {
    "duration": 3,
    "start_time": "2021-11-18T06:29:00.168Z"
   },
   {
    "duration": 3,
    "start_time": "2021-11-18T06:31:27.008Z"
   },
   {
    "duration": 2,
    "start_time": "2021-11-18T06:35:34.288Z"
   },
   {
    "duration": 2,
    "start_time": "2021-11-18T06:38:04.527Z"
   },
   {
    "duration": 286,
    "start_time": "2022-01-09T01:45:56.738Z"
   },
   {
    "duration": 352,
    "start_time": "2022-01-09T01:46:04.429Z"
   },
   {
    "duration": 587,
    "start_time": "2022-01-09T01:46:06.583Z"
   },
   {
    "duration": 288,
    "start_time": "2022-01-09T01:46:09.543Z"
   },
   {
    "duration": 350,
    "start_time": "2022-01-09T01:46:27.962Z"
   },
   {
    "duration": 913,
    "start_time": "2022-01-09T01:46:29.848Z"
   },
   {
    "duration": 32,
    "start_time": "2022-01-09T01:46:34.129Z"
   },
   {
    "duration": 11,
    "start_time": "2022-01-09T01:46:50.733Z"
   },
   {
    "duration": 7,
    "start_time": "2022-01-09T01:49:16.109Z"
   },
   {
    "duration": 7,
    "start_time": "2022-01-09T01:58:21.612Z"
   },
   {
    "duration": 14,
    "start_time": "2022-01-09T01:58:39.387Z"
   },
   {
    "duration": 12,
    "start_time": "2022-01-09T01:58:43.455Z"
   },
   {
    "duration": 6,
    "start_time": "2022-01-09T02:02:23.599Z"
   },
   {
    "duration": 13,
    "start_time": "2022-01-09T02:02:44.827Z"
   },
   {
    "duration": 14,
    "start_time": "2022-01-09T02:03:13.152Z"
   },
   {
    "duration": 9,
    "start_time": "2022-01-09T02:03:16.156Z"
   },
   {
    "duration": 6,
    "start_time": "2022-01-09T02:03:23.752Z"
   },
   {
    "duration": 12,
    "start_time": "2022-01-09T02:03:44.900Z"
   },
   {
    "duration": 14,
    "start_time": "2022-01-09T02:08:17.456Z"
   },
   {
    "duration": 4,
    "start_time": "2022-01-09T02:09:00.756Z"
   },
   {
    "duration": 13,
    "start_time": "2022-01-09T02:09:15.349Z"
   },
   {
    "duration": -76,
    "start_time": "2022-01-09T02:10:48.960Z"
   },
   {
    "duration": -77,
    "start_time": "2022-01-09T02:10:48.962Z"
   },
   {
    "duration": 911,
    "start_time": "2022-01-09T02:10:49.296Z"
   },
   {
    "duration": 308,
    "start_time": "2022-01-09T02:10:50.209Z"
   },
   {
    "duration": 32,
    "start_time": "2022-01-09T02:10:50.519Z"
   },
   {
    "duration": 8,
    "start_time": "2022-01-09T02:10:50.553Z"
   },
   {
    "duration": 8,
    "start_time": "2022-01-09T02:10:50.563Z"
   },
   {
    "duration": 15,
    "start_time": "2022-01-09T02:10:50.573Z"
   },
   {
    "duration": 6,
    "start_time": "2022-01-09T02:10:50.589Z"
   },
   {
    "duration": 16,
    "start_time": "2022-01-09T02:10:50.597Z"
   },
   {
    "duration": 6,
    "start_time": "2022-01-09T02:10:50.615Z"
   },
   {
    "duration": 42,
    "start_time": "2022-01-09T02:10:50.623Z"
   },
   {
    "duration": 4,
    "start_time": "2022-01-09T02:10:50.667Z"
   },
   {
    "duration": 5,
    "start_time": "2022-01-09T02:10:50.673Z"
   },
   {
    "duration": 4,
    "start_time": "2022-01-09T02:10:50.679Z"
   },
   {
    "duration": 4,
    "start_time": "2022-01-09T02:10:50.685Z"
   },
   {
    "duration": 6,
    "start_time": "2022-01-09T02:10:50.690Z"
   },
   {
    "duration": 4,
    "start_time": "2022-01-09T02:10:50.697Z"
   },
   {
    "duration": 4,
    "start_time": "2022-01-09T02:10:50.703Z"
   },
   {
    "duration": 5,
    "start_time": "2022-01-09T02:10:50.708Z"
   },
   {
    "duration": 4,
    "start_time": "2022-01-09T02:10:50.715Z"
   },
   {
    "duration": 5,
    "start_time": "2022-01-09T02:10:50.720Z"
   },
   {
    "duration": 4,
    "start_time": "2022-01-09T02:10:50.727Z"
   },
   {
    "duration": 27,
    "start_time": "2022-01-09T02:10:50.733Z"
   },
   {
    "duration": 3,
    "start_time": "2022-01-09T02:10:50.762Z"
   },
   {
    "duration": 5,
    "start_time": "2022-01-09T02:10:50.766Z"
   },
   {
    "duration": 10,
    "start_time": "2022-01-09T02:10:50.772Z"
   },
   {
    "duration": 8,
    "start_time": "2022-01-09T02:10:50.783Z"
   },
   {
    "duration": 3,
    "start_time": "2022-01-09T02:10:50.795Z"
   },
   {
    "duration": 10,
    "start_time": "2022-01-09T02:10:50.800Z"
   },
   {
    "duration": 17,
    "start_time": "2022-01-09T02:10:50.811Z"
   },
   {
    "duration": 9,
    "start_time": "2022-01-09T02:10:50.830Z"
   },
   {
    "duration": 4,
    "start_time": "2022-01-09T02:10:50.841Z"
   },
   {
    "duration": 6,
    "start_time": "2022-01-09T02:10:50.847Z"
   },
   {
    "duration": 5,
    "start_time": "2022-01-09T02:10:50.855Z"
   },
   {
    "duration": 4,
    "start_time": "2022-01-09T02:11:37.132Z"
   },
   {
    "duration": 14,
    "start_time": "2022-01-09T02:11:47.082Z"
   },
   {
    "duration": 5,
    "start_time": "2022-01-09T02:12:04.646Z"
   },
   {
    "duration": 13,
    "start_time": "2022-01-09T02:12:07.526Z"
   },
   {
    "duration": 3,
    "start_time": "2022-01-09T02:13:14.154Z"
   },
   {
    "duration": 12,
    "start_time": "2022-01-09T02:13:16.244Z"
   },
   {
    "duration": 3,
    "start_time": "2022-01-09T02:13:33.199Z"
   },
   {
    "duration": 13,
    "start_time": "2022-01-09T02:13:38.001Z"
   },
   {
    "duration": 3,
    "start_time": "2022-01-09T02:13:45.256Z"
   },
   {
    "duration": 12,
    "start_time": "2022-01-09T02:13:48.059Z"
   },
   {
    "duration": 76,
    "start_time": "2022-01-09T02:15:46.934Z"
   },
   {
    "duration": 3,
    "start_time": "2022-01-09T02:16:09.287Z"
   },
   {
    "duration": 12,
    "start_time": "2022-01-09T02:16:12.197Z"
   },
   {
    "duration": 896,
    "start_time": "2022-01-09T02:16:19.804Z"
   },
   {
    "duration": 306,
    "start_time": "2022-01-09T02:16:20.702Z"
   },
   {
    "duration": 35,
    "start_time": "2022-01-09T02:16:21.011Z"
   },
   {
    "duration": 8,
    "start_time": "2022-01-09T02:16:21.048Z"
   },
   {
    "duration": 8,
    "start_time": "2022-01-09T02:16:21.057Z"
   },
   {
    "duration": 20,
    "start_time": "2022-01-09T02:16:21.067Z"
   },
   {
    "duration": 6,
    "start_time": "2022-01-09T02:16:21.089Z"
   },
   {
    "duration": 16,
    "start_time": "2022-01-09T02:16:21.097Z"
   },
   {
    "duration": 5,
    "start_time": "2022-01-09T02:16:21.116Z"
   },
   {
    "duration": 42,
    "start_time": "2022-01-09T02:16:21.124Z"
   },
   {
    "duration": 5,
    "start_time": "2022-01-09T02:16:21.168Z"
   },
   {
    "duration": 16,
    "start_time": "2022-01-09T02:16:21.174Z"
   },
   {
    "duration": 4,
    "start_time": "2022-01-09T02:16:21.191Z"
   },
   {
    "duration": 4,
    "start_time": "2022-01-09T02:16:21.196Z"
   },
   {
    "duration": 7,
    "start_time": "2022-01-09T02:16:21.202Z"
   },
   {
    "duration": 5,
    "start_time": "2022-01-09T02:16:21.210Z"
   },
   {
    "duration": 4,
    "start_time": "2022-01-09T02:16:21.216Z"
   },
   {
    "duration": 6,
    "start_time": "2022-01-09T02:16:21.222Z"
   },
   {
    "duration": 4,
    "start_time": "2022-01-09T02:16:21.229Z"
   },
   {
    "duration": 10,
    "start_time": "2022-01-09T02:16:21.235Z"
   },
   {
    "duration": 2,
    "start_time": "2022-01-09T02:16:21.261Z"
   },
   {
    "duration": 9,
    "start_time": "2022-01-09T02:16:21.265Z"
   },
   {
    "duration": 4,
    "start_time": "2022-01-09T02:16:21.276Z"
   },
   {
    "duration": 5,
    "start_time": "2022-01-09T02:16:21.282Z"
   },
   {
    "duration": 4,
    "start_time": "2022-01-09T02:16:21.288Z"
   },
   {
    "duration": 9,
    "start_time": "2022-01-09T02:16:21.294Z"
   },
   {
    "duration": 8,
    "start_time": "2022-01-09T02:16:21.306Z"
   },
   {
    "duration": 10,
    "start_time": "2022-01-09T02:16:21.316Z"
   },
   {
    "duration": 17,
    "start_time": "2022-01-09T02:16:21.328Z"
   },
   {
    "duration": 6,
    "start_time": "2022-01-09T02:16:21.347Z"
   },
   {
    "duration": 5,
    "start_time": "2022-01-09T02:16:21.354Z"
   },
   {
    "duration": 4,
    "start_time": "2022-01-09T02:16:21.361Z"
   },
   {
    "duration": 5,
    "start_time": "2022-01-09T02:16:21.367Z"
   },
   {
    "duration": 5,
    "start_time": "2022-01-09T02:16:21.374Z"
   },
   {
    "duration": 6,
    "start_time": "2022-01-09T02:17:30.711Z"
   },
   {
    "duration": 13,
    "start_time": "2022-01-09T02:17:39.155Z"
   },
   {
    "duration": 4,
    "start_time": "2022-01-09T02:18:43.265Z"
   },
   {
    "duration": 13,
    "start_time": "2022-01-09T02:18:46.084Z"
   },
   {
    "duration": 3,
    "start_time": "2022-01-09T02:27:03.148Z"
   },
   {
    "duration": 14,
    "start_time": "2022-01-09T02:27:07.113Z"
   },
   {
    "duration": 881,
    "start_time": "2022-01-09T02:27:24.318Z"
   },
   {
    "duration": 313,
    "start_time": "2022-01-09T02:27:25.201Z"
   },
   {
    "duration": 32,
    "start_time": "2022-01-09T02:27:25.516Z"
   },
   {
    "duration": 8,
    "start_time": "2022-01-09T02:27:25.550Z"
   },
   {
    "duration": 9,
    "start_time": "2022-01-09T02:27:25.559Z"
   },
   {
    "duration": 16,
    "start_time": "2022-01-09T02:27:25.569Z"
   },
   {
    "duration": 6,
    "start_time": "2022-01-09T02:27:25.587Z"
   },
   {
    "duration": 14,
    "start_time": "2022-01-09T02:27:25.595Z"
   },
   {
    "duration": 14,
    "start_time": "2022-01-09T02:27:25.611Z"
   },
   {
    "duration": 18,
    "start_time": "2022-01-09T02:27:25.626Z"
   },
   {
    "duration": 16,
    "start_time": "2022-01-09T02:27:25.645Z"
   },
   {
    "duration": 6,
    "start_time": "2022-01-09T02:27:25.662Z"
   },
   {
    "duration": 13,
    "start_time": "2022-01-09T02:27:25.670Z"
   },
   {
    "duration": 3,
    "start_time": "2022-01-09T02:27:25.685Z"
   },
   {
    "duration": 5,
    "start_time": "2022-01-09T02:27:25.689Z"
   },
   {
    "duration": 6,
    "start_time": "2022-01-09T02:27:25.695Z"
   },
   {
    "duration": 5,
    "start_time": "2022-01-09T02:27:25.702Z"
   },
   {
    "duration": 7,
    "start_time": "2022-01-09T02:27:25.708Z"
   },
   {
    "duration": 4,
    "start_time": "2022-01-09T02:27:25.717Z"
   },
   {
    "duration": 4,
    "start_time": "2022-01-09T02:27:25.723Z"
   },
   {
    "duration": 4,
    "start_time": "2022-01-09T02:27:25.729Z"
   },
   {
    "duration": 5,
    "start_time": "2022-01-09T02:27:25.734Z"
   },
   {
    "duration": 19,
    "start_time": "2022-01-09T02:27:25.742Z"
   },
   {
    "duration": 9,
    "start_time": "2022-01-09T02:27:25.763Z"
   },
   {
    "duration": 4,
    "start_time": "2022-01-09T02:27:25.773Z"
   },
   {
    "duration": 5,
    "start_time": "2022-01-09T02:27:25.779Z"
   },
   {
    "duration": 4,
    "start_time": "2022-01-09T02:27:25.786Z"
   },
   {
    "duration": 4,
    "start_time": "2022-01-09T02:27:25.792Z"
   },
   {
    "duration": 4,
    "start_time": "2022-01-09T02:27:25.797Z"
   },
   {
    "duration": 4,
    "start_time": "2022-01-09T02:27:25.803Z"
   },
   {
    "duration": 6,
    "start_time": "2022-01-09T02:27:25.809Z"
   },
   {
    "duration": 5,
    "start_time": "2022-01-09T02:27:25.817Z"
   },
   {
    "duration": 4,
    "start_time": "2022-01-09T02:27:25.823Z"
   },
   {
    "duration": 4,
    "start_time": "2022-01-09T02:27:25.829Z"
   },
   {
    "duration": 5,
    "start_time": "2022-01-09T02:27:25.834Z"
   },
   {
    "duration": 4,
    "start_time": "2022-01-09T02:30:34.435Z"
   },
   {
    "duration": 13,
    "start_time": "2022-01-09T02:30:37.303Z"
   },
   {
    "duration": 5,
    "start_time": "2022-01-09T04:40:32.776Z"
   },
   {
    "duration": 14,
    "start_time": "2022-01-09T04:40:42.859Z"
   },
   {
    "duration": 5,
    "start_time": "2022-01-09T04:42:14.086Z"
   },
   {
    "duration": 14,
    "start_time": "2022-01-09T04:42:16.871Z"
   },
   {
    "duration": 314,
    "start_time": "2022-01-09T04:43:20.340Z"
   },
   {
    "duration": 5,
    "start_time": "2022-01-09T04:43:26.797Z"
   },
   {
    "duration": 13,
    "start_time": "2022-01-09T04:43:29.841Z"
   },
   {
    "duration": 24,
    "start_time": "2022-01-09T04:44:16.702Z"
   },
   {
    "duration": 16,
    "start_time": "2022-01-09T04:44:19.884Z"
   },
   {
    "duration": 10,
    "start_time": "2022-01-09T04:44:23.396Z"
   },
   {
    "duration": 13,
    "start_time": "2022-01-09T05:00:42.619Z"
   },
   {
    "duration": 3,
    "start_time": "2022-01-09T05:02:38.655Z"
   },
   {
    "duration": 245,
    "start_time": "2022-01-09T05:03:51.871Z"
   },
   {
    "duration": 59,
    "start_time": "2022-01-09T05:04:52.639Z"
   },
   {
    "duration": 14,
    "start_time": "2022-01-09T05:05:23.312Z"
   },
   {
    "duration": 5911,
    "start_time": "2022-01-09T05:07:49.063Z"
   },
   {
    "duration": 6672,
    "start_time": "2022-01-09T05:09:07.006Z"
   },
   {
    "duration": 6775,
    "start_time": "2022-01-09T05:10:07.013Z"
   },
   {
    "duration": 1345,
    "start_time": "2022-01-09T05:17:20.804Z"
   },
   {
    "duration": 1640,
    "start_time": "2022-01-09T05:18:17.302Z"
   },
   {
    "duration": 1417,
    "start_time": "2022-01-09T05:18:51.682Z"
   },
   {
    "duration": 399,
    "start_time": "2022-01-09T05:19:17.946Z"
   },
   {
    "duration": 668,
    "start_time": "2022-01-09T05:19:30.546Z"
   },
   {
    "duration": 630,
    "start_time": "2022-01-09T05:20:08.656Z"
   },
   {
    "duration": 6197,
    "start_time": "2022-01-09T05:24:06.194Z"
   },
   {
    "duration": 243,
    "start_time": "2022-01-09T05:24:38.850Z"
   },
   {
    "duration": 48,
    "start_time": "2022-01-09T05:26:38.267Z"
   },
   {
    "duration": 14,
    "start_time": "2022-01-09T05:26:47.185Z"
   },
   {
    "duration": 13,
    "start_time": "2022-01-09T05:27:00.339Z"
   },
   {
    "duration": 12,
    "start_time": "2022-01-09T05:30:25.498Z"
   },
   {
    "duration": 32,
    "start_time": "2022-01-09T05:31:17.947Z"
   },
   {
    "duration": 36,
    "start_time": "2022-01-09T05:33:43.174Z"
   },
   {
    "duration": 13,
    "start_time": "2022-01-09T05:33:56.141Z"
   },
   {
    "duration": 20,
    "start_time": "2022-01-09T05:34:05.185Z"
   },
   {
    "duration": 12,
    "start_time": "2022-01-09T05:34:44.582Z"
   },
   {
    "duration": 11,
    "start_time": "2022-01-09T05:34:47.221Z"
   },
   {
    "duration": 9,
    "start_time": "2022-01-09T05:34:51.353Z"
   },
   {
    "duration": 34,
    "start_time": "2022-01-09T05:37:56.487Z"
   },
   {
    "duration": 10,
    "start_time": "2022-01-09T05:38:04.260Z"
   },
   {
    "duration": 20,
    "start_time": "2022-01-09T05:38:48.658Z"
   },
   {
    "duration": 15,
    "start_time": "2022-01-09T05:38:51.523Z"
   },
   {
    "duration": 8,
    "start_time": "2022-01-09T05:38:54.550Z"
   },
   {
    "duration": 11,
    "start_time": "2022-01-09T05:39:02.229Z"
   },
   {
    "duration": 12,
    "start_time": "2022-01-09T05:42:13.429Z"
   },
   {
    "duration": 12,
    "start_time": "2022-01-09T05:42:54.065Z"
   },
   {
    "duration": 19,
    "start_time": "2022-01-09T05:43:01.175Z"
   },
   {
    "duration": 41,
    "start_time": "2022-01-09T05:43:55.685Z"
   },
   {
    "duration": 60,
    "start_time": "2022-01-09T05:44:03.320Z"
   },
   {
    "duration": 6,
    "start_time": "2022-01-09T05:46:29.682Z"
   },
   {
    "duration": 7,
    "start_time": "2022-01-09T05:46:35.600Z"
   },
   {
    "duration": 6,
    "start_time": "2022-01-09T05:46:43.101Z"
   },
   {
    "duration": 9,
    "start_time": "2022-01-09T05:46:57.021Z"
   },
   {
    "duration": 9,
    "start_time": "2022-01-09T05:46:59.975Z"
   },
   {
    "duration": 76,
    "start_time": "2022-01-09T05:51:09.183Z"
   },
   {
    "duration": 3,
    "start_time": "2022-01-09T05:51:19.386Z"
   },
   {
    "duration": 5,
    "start_time": "2022-01-09T05:51:34.929Z"
   },
   {
    "duration": 10,
    "start_time": "2022-01-09T05:51:43.313Z"
   },
   {
    "duration": 27,
    "start_time": "2022-01-09T05:56:45.201Z"
   },
   {
    "duration": 3,
    "start_time": "2022-01-09T05:57:51.022Z"
   },
   {
    "duration": 5,
    "start_time": "2022-01-09T06:00:25.308Z"
   },
   {
    "duration": 24,
    "start_time": "2022-01-09T06:00:37.077Z"
   },
   {
    "duration": 46,
    "start_time": "2022-01-09T06:01:06.073Z"
   },
   {
    "duration": 15,
    "start_time": "2022-01-09T06:01:09.271Z"
   },
   {
    "duration": 6722,
    "start_time": "2022-01-09T06:17:46.088Z"
   },
   {
    "duration": -151,
    "start_time": "2022-01-09T06:17:52.963Z"
   },
   {
    "duration": 79,
    "start_time": "2022-01-09T06:18:05.163Z"
   },
   {
    "duration": 16,
    "start_time": "2022-01-09T06:19:11.280Z"
   },
   {
    "duration": 278,
    "start_time": "2022-01-09T06:20:57.480Z"
   },
   {
    "duration": 57,
    "start_time": "2022-01-09T06:21:05.007Z"
   },
   {
    "duration": 12,
    "start_time": "2022-01-09T06:21:08.272Z"
   },
   {
    "duration": 6323,
    "start_time": "2022-01-09T06:23:48.954Z"
   },
   {
    "duration": 7490,
    "start_time": "2022-01-09T06:23:55.708Z"
   },
   {
    "duration": 308,
    "start_time": "2022-01-09T06:24:10.557Z"
   },
   {
    "duration": 82,
    "start_time": "2022-01-09T06:25:04.056Z"
   },
   {
    "duration": 10,
    "start_time": "2022-01-09T06:33:46.902Z"
   },
   {
    "duration": 361,
    "start_time": "2022-01-09T06:53:28.963Z"
   },
   {
    "duration": 340,
    "start_time": "2022-01-09T06:53:39.990Z"
   },
   {
    "duration": 263,
    "start_time": "2022-01-09T06:55:49.186Z"
   },
   {
    "duration": 32,
    "start_time": "2022-01-09T06:56:30.545Z"
   },
   {
    "duration": 29,
    "start_time": "2022-01-09T06:59:03.904Z"
   },
   {
    "duration": 10,
    "start_time": "2022-01-09T06:59:42.601Z"
   },
   {
    "duration": 17,
    "start_time": "2022-01-09T07:01:31.807Z"
   },
   {
    "duration": 19,
    "start_time": "2022-01-09T07:01:39.418Z"
   },
   {
    "duration": 115,
    "start_time": "2022-01-09T07:02:15.167Z"
   },
   {
    "duration": 37,
    "start_time": "2022-01-09T07:02:38.055Z"
   },
   {
    "duration": 18,
    "start_time": "2022-01-09T07:03:37.039Z"
   },
   {
    "duration": 22,
    "start_time": "2022-01-09T07:03:42.769Z"
   },
   {
    "duration": 39,
    "start_time": "2022-01-09T07:04:15.674Z"
   },
   {
    "duration": 826,
    "start_time": "2022-01-09T07:04:37.651Z"
   },
   {
    "duration": 38,
    "start_time": "2022-01-09T07:05:12.145Z"
   },
   {
    "duration": 42,
    "start_time": "2022-01-09T07:05:57.394Z"
   },
   {
    "duration": 24,
    "start_time": "2022-01-09T07:07:56.290Z"
   },
   {
    "duration": 29,
    "start_time": "2022-01-09T07:08:43.610Z"
   },
   {
    "duration": 21,
    "start_time": "2022-01-09T07:09:17.709Z"
   },
   {
    "duration": 21,
    "start_time": "2022-01-09T07:09:38.097Z"
   },
   {
    "duration": 29,
    "start_time": "2022-01-09T07:14:25.824Z"
   },
   {
    "duration": 24,
    "start_time": "2022-01-09T07:15:05.965Z"
   },
   {
    "duration": 15,
    "start_time": "2022-01-09T07:15:20.228Z"
   },
   {
    "duration": 22,
    "start_time": "2022-01-09T07:15:27.404Z"
   },
   {
    "duration": 19,
    "start_time": "2022-01-09T07:16:40.296Z"
   },
   {
    "duration": 18,
    "start_time": "2022-01-09T07:18:09.150Z"
   },
   {
    "duration": 23,
    "start_time": "2022-01-09T07:18:42.732Z"
   },
   {
    "duration": 337,
    "start_time": "2022-01-09T07:20:29.841Z"
   },
   {
    "duration": 260,
    "start_time": "2022-01-09T07:20:45.757Z"
   },
   {
    "duration": 83,
    "start_time": "2022-01-09T07:20:55.323Z"
   },
   {
    "duration": 15,
    "start_time": "2022-01-09T07:20:58.693Z"
   },
   {
    "duration": 43,
    "start_time": "2022-01-09T07:21:47.970Z"
   },
   {
    "duration": 28,
    "start_time": "2022-01-09T07:21:57.820Z"
   },
   {
    "duration": 32,
    "start_time": "2022-01-09T07:23:00.042Z"
   },
   {
    "duration": 32,
    "start_time": "2022-01-09T07:23:12.768Z"
   },
   {
    "duration": 33,
    "start_time": "2022-01-09T07:23:18.947Z"
   },
   {
    "duration": 35,
    "start_time": "2022-01-09T07:23:31.824Z"
   },
   {
    "duration": 36,
    "start_time": "2022-01-09T07:23:41.458Z"
   },
   {
    "duration": 403,
    "start_time": "2022-01-09T07:24:32.471Z"
   },
   {
    "duration": 33,
    "start_time": "2022-01-09T07:24:48.117Z"
   },
   {
    "duration": 9,
    "start_time": "2022-01-09T07:25:02.948Z"
   },
   {
    "duration": 24,
    "start_time": "2022-01-09T07:25:24.098Z"
   },
   {
    "duration": 25,
    "start_time": "2022-01-09T07:25:45.042Z"
   },
   {
    "duration": 20,
    "start_time": "2022-01-09T07:25:59.527Z"
   },
   {
    "duration": 18,
    "start_time": "2022-01-09T07:26:06.798Z"
   },
   {
    "duration": 22,
    "start_time": "2022-01-09T07:26:17.394Z"
   },
   {
    "duration": 28,
    "start_time": "2022-01-09T07:26:20.682Z"
   },
   {
    "duration": 26,
    "start_time": "2022-01-09T07:26:31.289Z"
   },
   {
    "duration": 26,
    "start_time": "2022-01-09T07:26:42.908Z"
   },
   {
    "duration": 19,
    "start_time": "2022-01-09T07:26:53.165Z"
   },
   {
    "duration": 24,
    "start_time": "2022-01-09T07:27:00.451Z"
   },
   {
    "duration": 1451,
    "start_time": "2022-01-09T07:28:35.381Z"
   },
   {
    "duration": 29,
    "start_time": "2022-01-09T07:28:49.865Z"
   },
   {
    "duration": 24,
    "start_time": "2022-01-09T07:28:55.688Z"
   },
   {
    "duration": -200,
    "start_time": "2022-01-09T07:30:03.055Z"
   },
   {
    "duration": 6643,
    "start_time": "2022-01-09T07:30:11.398Z"
   },
   {
    "duration": 6628,
    "start_time": "2022-01-09T07:30:18.548Z"
   },
   {
    "duration": 27,
    "start_time": "2022-01-09T07:30:30.183Z"
   },
   {
    "duration": 85,
    "start_time": "2022-01-09T07:30:38.327Z"
   },
   {
    "duration": 6404,
    "start_time": "2022-01-09T07:30:59.232Z"
   },
   {
    "duration": 26,
    "start_time": "2022-01-09T07:31:20.082Z"
   },
   {
    "duration": -388,
    "start_time": "2022-01-09T07:32:26.297Z"
   },
   {
    "duration": 117,
    "start_time": "2022-01-09T07:33:11.035Z"
   },
   {
    "duration": 6984,
    "start_time": "2022-01-09T07:34:01.754Z"
   },
   {
    "duration": 6776,
    "start_time": "2022-01-09T07:34:20.103Z"
   },
   {
    "duration": 326,
    "start_time": "2022-01-09T07:35:12.593Z"
   },
   {
    "duration": 731,
    "start_time": "2022-01-09T07:35:27.289Z"
   },
   {
    "duration": 493,
    "start_time": "2022-01-09T07:35:38.714Z"
   },
   {
    "duration": 21,
    "start_time": "2022-01-09T07:37:07.004Z"
   },
   {
    "duration": 19,
    "start_time": "2022-01-09T07:37:34.274Z"
   },
   {
    "duration": 251,
    "start_time": "2022-01-09T07:38:10.185Z"
   },
   {
    "duration": 20,
    "start_time": "2022-01-09T07:38:38.597Z"
   },
   {
    "duration": 21,
    "start_time": "2022-01-09T07:40:29.924Z"
   },
   {
    "duration": 20,
    "start_time": "2022-01-09T07:40:36.667Z"
   },
   {
    "duration": 20,
    "start_time": "2022-01-09T07:41:53.465Z"
   },
   {
    "duration": 935,
    "start_time": "2022-01-09T07:42:08.602Z"
   },
   {
    "duration": 324,
    "start_time": "2022-01-09T07:42:09.539Z"
   },
   {
    "duration": 33,
    "start_time": "2022-01-09T07:42:09.865Z"
   },
   {
    "duration": 9,
    "start_time": "2022-01-09T07:42:09.900Z"
   },
   {
    "duration": 7,
    "start_time": "2022-01-09T07:42:09.911Z"
   },
   {
    "duration": 42,
    "start_time": "2022-01-09T07:42:09.920Z"
   },
   {
    "duration": 6,
    "start_time": "2022-01-09T07:42:09.963Z"
   },
   {
    "duration": 16,
    "start_time": "2022-01-09T07:42:09.972Z"
   },
   {
    "duration": 7,
    "start_time": "2022-01-09T07:42:09.990Z"
   },
   {
    "duration": 35,
    "start_time": "2022-01-09T07:42:09.998Z"
   },
   {
    "duration": 7,
    "start_time": "2022-01-09T07:42:10.035Z"
   },
   {
    "duration": 17,
    "start_time": "2022-01-09T07:42:10.044Z"
   },
   {
    "duration": 8,
    "start_time": "2022-01-09T07:42:10.063Z"
   },
   {
    "duration": 17,
    "start_time": "2022-01-09T07:42:10.073Z"
   },
   {
    "duration": 29,
    "start_time": "2022-01-09T07:42:10.092Z"
   },
   {
    "duration": 37,
    "start_time": "2022-01-09T07:42:10.123Z"
   },
   {
    "duration": 12,
    "start_time": "2022-01-09T07:42:10.162Z"
   },
   {
    "duration": 26,
    "start_time": "2022-01-09T07:42:10.176Z"
   },
   {
    "duration": 101,
    "start_time": "2022-01-09T07:42:10.204Z"
   },
   {
    "duration": 15,
    "start_time": "2022-01-09T07:42:10.306Z"
   },
   {
    "duration": 7,
    "start_time": "2022-01-09T07:42:10.323Z"
   },
   {
    "duration": 60,
    "start_time": "2022-01-09T07:42:10.332Z"
   },
   {
    "duration": 41,
    "start_time": "2022-01-09T07:42:10.396Z"
   },
   {
    "duration": 43,
    "start_time": "2022-01-09T07:42:10.439Z"
   },
   {
    "duration": 11,
    "start_time": "2022-01-09T07:42:10.484Z"
   },
   {
    "duration": 12,
    "start_time": "2022-01-09T07:42:10.497Z"
   },
   {
    "duration": 15,
    "start_time": "2022-01-09T07:42:10.511Z"
   },
   {
    "duration": 81,
    "start_time": "2022-01-09T07:42:10.527Z"
   },
   {
    "duration": 11,
    "start_time": "2022-01-09T07:42:10.610Z"
   },
   {
    "duration": 45,
    "start_time": "2022-01-09T07:42:10.622Z"
   },
   {
    "duration": 14,
    "start_time": "2022-01-09T07:42:10.668Z"
   },
   {
    "duration": 11,
    "start_time": "2022-01-09T07:42:10.684Z"
   },
   {
    "duration": 26,
    "start_time": "2022-01-09T07:42:10.696Z"
   },
   {
    "duration": 18,
    "start_time": "2022-01-09T07:42:10.724Z"
   },
   {
    "duration": 86,
    "start_time": "2022-01-09T07:42:10.761Z"
   },
   {
    "duration": 19,
    "start_time": "2022-01-09T07:42:10.849Z"
   },
   {
    "duration": 18,
    "start_time": "2022-01-09T07:42:10.871Z"
   },
   {
    "duration": 21,
    "start_time": "2022-01-09T07:42:10.891Z"
   },
   {
    "duration": 85,
    "start_time": "2022-01-09T07:42:10.914Z"
   },
   {
    "duration": 28,
    "start_time": "2022-01-09T07:42:11.001Z"
   },
   {
    "duration": 50,
    "start_time": "2022-01-09T07:42:11.031Z"
   },
   {
    "duration": 28,
    "start_time": "2022-01-09T07:42:11.083Z"
   },
   {
    "duration": 17,
    "start_time": "2022-01-09T07:42:11.113Z"
   },
   {
    "duration": 56,
    "start_time": "2022-01-09T07:42:11.131Z"
   },
   {
    "duration": 406,
    "start_time": "2022-01-09T07:42:11.188Z"
   },
   {
    "duration": -55,
    "start_time": "2022-01-09T07:42:11.651Z"
   },
   {
    "duration": -57,
    "start_time": "2022-01-09T07:42:11.654Z"
   },
   {
    "duration": -58,
    "start_time": "2022-01-09T07:42:11.656Z"
   },
   {
    "duration": -62,
    "start_time": "2022-01-09T07:42:11.661Z"
   },
   {
    "duration": -63,
    "start_time": "2022-01-09T07:42:11.664Z"
   },
   {
    "duration": -64,
    "start_time": "2022-01-09T07:42:11.666Z"
   },
   {
    "duration": -73,
    "start_time": "2022-01-09T07:42:11.677Z"
   },
   {
    "duration": -75,
    "start_time": "2022-01-09T07:42:11.680Z"
   },
   {
    "duration": -77,
    "start_time": "2022-01-09T07:42:11.683Z"
   },
   {
    "duration": -78,
    "start_time": "2022-01-09T07:42:11.685Z"
   },
   {
    "duration": 22,
    "start_time": "2022-01-09T07:42:48.921Z"
   },
   {
    "duration": 300,
    "start_time": "2022-01-10T23:52:28.819Z"
   },
   {
    "duration": 1237,
    "start_time": "2022-01-10T23:52:56.002Z"
   },
   {
    "duration": 800,
    "start_time": "2022-01-10T23:52:57.242Z"
   },
   {
    "duration": 51,
    "start_time": "2022-01-10T23:52:58.045Z"
   },
   {
    "duration": 12,
    "start_time": "2022-01-10T23:52:58.098Z"
   },
   {
    "duration": 11,
    "start_time": "2022-01-10T23:52:58.113Z"
   },
   {
    "duration": 23,
    "start_time": "2022-01-10T23:52:58.126Z"
   },
   {
    "duration": 8,
    "start_time": "2022-01-10T23:52:58.152Z"
   },
   {
    "duration": 55,
    "start_time": "2022-01-10T23:52:58.166Z"
   },
   {
    "duration": 9,
    "start_time": "2022-01-10T23:52:58.225Z"
   },
   {
    "duration": 20,
    "start_time": "2022-01-10T23:52:58.236Z"
   },
   {
    "duration": 5,
    "start_time": "2022-01-10T23:52:58.259Z"
   },
   {
    "duration": 67,
    "start_time": "2022-01-10T23:52:58.266Z"
   },
   {
    "duration": 18,
    "start_time": "2022-01-10T23:52:58.335Z"
   },
   {
    "duration": 26,
    "start_time": "2022-01-10T23:52:58.355Z"
   },
   {
    "duration": 47,
    "start_time": "2022-01-10T23:52:58.383Z"
   },
   {
    "duration": 21,
    "start_time": "2022-01-10T23:52:58.433Z"
   },
   {
    "duration": 17,
    "start_time": "2022-01-10T23:52:58.456Z"
   },
   {
    "duration": 68,
    "start_time": "2022-01-10T23:52:58.475Z"
   },
   {
    "duration": 124,
    "start_time": "2022-01-10T23:52:58.545Z"
   },
   {
    "duration": 20,
    "start_time": "2022-01-10T23:52:58.671Z"
   },
   {
    "duration": 24,
    "start_time": "2022-01-10T23:52:58.693Z"
   },
   {
    "duration": 59,
    "start_time": "2022-01-10T23:52:58.719Z"
   },
   {
    "duration": 80,
    "start_time": "2022-01-10T23:52:58.783Z"
   },
   {
    "duration": 60,
    "start_time": "2022-01-10T23:52:58.866Z"
   },
   {
    "duration": 16,
    "start_time": "2022-01-10T23:52:58.928Z"
   },
   {
    "duration": 15,
    "start_time": "2022-01-10T23:52:58.947Z"
   },
   {
    "duration": 12,
    "start_time": "2022-01-10T23:52:58.964Z"
   },
   {
    "duration": 112,
    "start_time": "2022-01-10T23:52:58.979Z"
   },
   {
    "duration": 25,
    "start_time": "2022-01-10T23:52:59.093Z"
   },
   {
    "duration": 27,
    "start_time": "2022-01-10T23:52:59.120Z"
   },
   {
    "duration": 18,
    "start_time": "2022-01-10T23:52:59.149Z"
   },
   {
    "duration": 14,
    "start_time": "2022-01-10T23:52:59.170Z"
   },
   {
    "duration": 19,
    "start_time": "2022-01-10T23:52:59.218Z"
   },
   {
    "duration": 24,
    "start_time": "2022-01-10T23:52:59.240Z"
   },
   {
    "duration": 161,
    "start_time": "2022-01-10T23:52:59.266Z"
   },
   {
    "duration": 12,
    "start_time": "2022-01-10T23:52:59.429Z"
   },
   {
    "duration": 5,
    "start_time": "2022-01-10T23:52:59.443Z"
   },
   {
    "duration": 14,
    "start_time": "2022-01-10T23:52:59.450Z"
   },
   {
    "duration": 121,
    "start_time": "2022-01-10T23:52:59.467Z"
   },
   {
    "duration": 45,
    "start_time": "2022-01-10T23:52:59.590Z"
   },
   {
    "duration": 40,
    "start_time": "2022-01-10T23:52:59.637Z"
   },
   {
    "duration": 60,
    "start_time": "2022-01-10T23:52:59.680Z"
   },
   {
    "duration": 367,
    "start_time": "2022-01-10T23:52:59.743Z"
   },
   {
    "duration": -773,
    "start_time": "2022-01-10T23:53:00.886Z"
   },
   {
    "duration": -774,
    "start_time": "2022-01-10T23:53:00.888Z"
   },
   {
    "duration": -775,
    "start_time": "2022-01-10T23:53:00.891Z"
   },
   {
    "duration": -776,
    "start_time": "2022-01-10T23:53:00.893Z"
   },
   {
    "duration": -778,
    "start_time": "2022-01-10T23:53:00.896Z"
   },
   {
    "duration": -778,
    "start_time": "2022-01-10T23:53:00.898Z"
   },
   {
    "duration": -779,
    "start_time": "2022-01-10T23:53:00.900Z"
   },
   {
    "duration": -780,
    "start_time": "2022-01-10T23:53:00.902Z"
   },
   {
    "duration": -780,
    "start_time": "2022-01-10T23:53:00.904Z"
   },
   {
    "duration": -781,
    "start_time": "2022-01-10T23:53:00.906Z"
   },
   {
    "duration": -883,
    "start_time": "2022-01-10T23:53:01.009Z"
   },
   {
    "duration": -884,
    "start_time": "2022-01-10T23:53:01.011Z"
   },
   {
    "duration": 126,
    "start_time": "2022-01-10T23:53:34.633Z"
   },
   {
    "duration": 134,
    "start_time": "2022-01-10T23:54:28.978Z"
   },
   {
    "duration": 256,
    "start_time": "2022-01-10T23:56:54.489Z"
   },
   {
    "duration": 213,
    "start_time": "2022-01-10T23:57:05.959Z"
   },
   {
    "duration": 251,
    "start_time": "2022-01-10T23:58:02.206Z"
   },
   {
    "duration": 35,
    "start_time": "2022-01-10T23:58:13.924Z"
   },
   {
    "duration": 240,
    "start_time": "2022-01-10T23:58:37.353Z"
   },
   {
    "duration": 266,
    "start_time": "2022-01-10T23:58:55.582Z"
   },
   {
    "duration": 52,
    "start_time": "2022-01-10T23:59:35.255Z"
   },
   {
    "duration": 232,
    "start_time": "2022-01-11T00:00:06.063Z"
   },
   {
    "duration": 285,
    "start_time": "2022-01-11T00:00:14.734Z"
   },
   {
    "duration": 23,
    "start_time": "2022-01-11T00:00:41.376Z"
   },
   {
    "duration": 38,
    "start_time": "2022-01-11T00:00:47.967Z"
   },
   {
    "duration": 277,
    "start_time": "2022-01-11T00:01:41.026Z"
   },
   {
    "duration": 35,
    "start_time": "2022-01-11T00:01:54.346Z"
   },
   {
    "duration": 24,
    "start_time": "2022-01-11T00:02:01.100Z"
   },
   {
    "duration": 37,
    "start_time": "2022-01-11T00:02:11.179Z"
   },
   {
    "duration": 36,
    "start_time": "2022-01-11T00:02:24.622Z"
   },
   {
    "duration": 38,
    "start_time": "2022-01-11T00:02:44.230Z"
   },
   {
    "duration": 29,
    "start_time": "2022-01-11T00:02:50.724Z"
   },
   {
    "duration": 38,
    "start_time": "2022-01-11T00:02:57.870Z"
   },
   {
    "duration": 40,
    "start_time": "2022-01-11T00:04:24.526Z"
   },
   {
    "duration": 50,
    "start_time": "2022-01-11T00:04:37.003Z"
   },
   {
    "duration": 44,
    "start_time": "2022-01-11T00:05:41.228Z"
   },
   {
    "duration": 42,
    "start_time": "2022-01-11T00:06:09.475Z"
   },
   {
    "duration": 298,
    "start_time": "2022-01-11T00:06:45.669Z"
   },
   {
    "duration": 44,
    "start_time": "2022-01-11T00:06:52.058Z"
   },
   {
    "duration": 7,
    "start_time": "2022-01-11T00:07:42.593Z"
   },
   {
    "duration": 20,
    "start_time": "2022-01-11T00:07:51.002Z"
   },
   {
    "duration": 109,
    "start_time": "2022-01-11T00:08:25.824Z"
   },
   {
    "duration": 46,
    "start_time": "2022-01-11T00:11:05.963Z"
   },
   {
    "duration": 56,
    "start_time": "2022-01-11T00:11:35.634Z"
   },
   {
    "duration": 48,
    "start_time": "2022-01-11T00:11:49.952Z"
   },
   {
    "duration": 55,
    "start_time": "2022-01-11T00:12:18.758Z"
   },
   {
    "duration": 54,
    "start_time": "2022-01-11T00:12:56.057Z"
   },
   {
    "duration": 47,
    "start_time": "2022-01-11T00:13:28.060Z"
   },
   {
    "duration": 32,
    "start_time": "2022-01-11T00:13:51.603Z"
   },
   {
    "duration": 52,
    "start_time": "2022-01-11T00:15:03.421Z"
   },
   {
    "duration": 1198,
    "start_time": "2022-01-11T00:15:52.733Z"
   },
   {
    "duration": 383,
    "start_time": "2022-01-11T00:15:53.934Z"
   },
   {
    "duration": 52,
    "start_time": "2022-01-11T00:15:54.321Z"
   },
   {
    "duration": 13,
    "start_time": "2022-01-11T00:15:54.375Z"
   },
   {
    "duration": 9,
    "start_time": "2022-01-11T00:15:54.417Z"
   },
   {
    "duration": 22,
    "start_time": "2022-01-11T00:15:54.429Z"
   },
   {
    "duration": 10,
    "start_time": "2022-01-11T00:15:54.454Z"
   },
   {
    "duration": 52,
    "start_time": "2022-01-11T00:15:54.466Z"
   },
   {
    "duration": 8,
    "start_time": "2022-01-11T00:15:54.522Z"
   },
   {
    "duration": 25,
    "start_time": "2022-01-11T00:15:54.533Z"
   },
   {
    "duration": 10,
    "start_time": "2022-01-11T00:15:54.560Z"
   },
   {
    "duration": 50,
    "start_time": "2022-01-11T00:15:54.572Z"
   },
   {
    "duration": 13,
    "start_time": "2022-01-11T00:15:54.624Z"
   },
   {
    "duration": 23,
    "start_time": "2022-01-11T00:15:54.639Z"
   },
   {
    "duration": 54,
    "start_time": "2022-01-11T00:15:54.664Z"
   },
   {
    "duration": 21,
    "start_time": "2022-01-11T00:15:54.720Z"
   },
   {
    "duration": 16,
    "start_time": "2022-01-11T00:15:54.744Z"
   },
   {
    "duration": 63,
    "start_time": "2022-01-11T00:15:54.762Z"
   },
   {
    "duration": 120,
    "start_time": "2022-01-11T00:15:54.828Z"
   },
   {
    "duration": 20,
    "start_time": "2022-01-11T00:15:54.950Z"
   },
   {
    "duration": 7,
    "start_time": "2022-01-11T00:15:54.972Z"
   },
   {
    "duration": 79,
    "start_time": "2022-01-11T00:15:54.982Z"
   },
   {
    "duration": 77,
    "start_time": "2022-01-11T00:15:55.063Z"
   },
   {
    "duration": 47,
    "start_time": "2022-01-11T00:15:55.142Z"
   },
   {
    "duration": 36,
    "start_time": "2022-01-11T00:15:55.191Z"
   },
   {
    "duration": 16,
    "start_time": "2022-01-11T00:15:55.229Z"
   },
   {
    "duration": 12,
    "start_time": "2022-01-11T00:15:55.250Z"
   },
   {
    "duration": 104,
    "start_time": "2022-01-11T00:15:55.266Z"
   },
   {
    "duration": 16,
    "start_time": "2022-01-11T00:15:55.373Z"
   },
   {
    "duration": 46,
    "start_time": "2022-01-11T00:15:55.391Z"
   },
   {
    "duration": 19,
    "start_time": "2022-01-11T00:15:55.439Z"
   },
   {
    "duration": 14,
    "start_time": "2022-01-11T00:15:55.461Z"
   },
   {
    "duration": 55,
    "start_time": "2022-01-11T00:15:55.477Z"
   },
   {
    "duration": 26,
    "start_time": "2022-01-11T00:15:55.534Z"
   },
   {
    "duration": 155,
    "start_time": "2022-01-11T00:15:55.562Z"
   },
   {
    "duration": 14,
    "start_time": "2022-01-11T00:15:55.720Z"
   },
   {
    "duration": 14,
    "start_time": "2022-01-11T00:15:55.736Z"
   },
   {
    "duration": 22,
    "start_time": "2022-01-11T00:15:55.753Z"
   },
   {
    "duration": 110,
    "start_time": "2022-01-11T00:15:55.777Z"
   },
   {
    "duration": 43,
    "start_time": "2022-01-11T00:15:55.890Z"
   },
   {
    "duration": 44,
    "start_time": "2022-01-11T00:15:55.936Z"
   },
   {
    "duration": 61,
    "start_time": "2022-01-11T00:15:55.982Z"
   },
   {
    "duration": 130,
    "start_time": "2022-01-11T00:15:56.045Z"
   },
   {
    "duration": 2,
    "start_time": "2022-01-11T00:15:56.177Z"
   },
   {
    "duration": 7,
    "start_time": "2022-01-11T00:15:56.182Z"
   },
   {
    "duration": 26,
    "start_time": "2022-01-11T00:15:56.191Z"
   },
   {
    "duration": 3,
    "start_time": "2022-01-11T00:15:56.219Z"
   },
   {
    "duration": 8,
    "start_time": "2022-01-11T00:15:56.224Z"
   },
   {
    "duration": 6,
    "start_time": "2022-01-11T00:15:56.235Z"
   },
   {
    "duration": 6,
    "start_time": "2022-01-11T00:15:56.243Z"
   },
   {
    "duration": 10,
    "start_time": "2022-01-11T00:15:56.252Z"
   },
   {
    "duration": 9,
    "start_time": "2022-01-11T00:15:56.264Z"
   },
   {
    "duration": 6,
    "start_time": "2022-01-11T00:15:56.275Z"
   },
   {
    "duration": 55,
    "start_time": "2022-01-11T00:16:39.148Z"
   },
   {
    "duration": 49,
    "start_time": "2022-01-11T00:16:59.031Z"
   },
   {
    "duration": 1213,
    "start_time": "2022-01-11T00:17:49.814Z"
   },
   {
    "duration": 367,
    "start_time": "2022-01-11T00:19:01.076Z"
   },
   {
    "duration": 12,
    "start_time": "2022-01-11T00:19:12.368Z"
   },
   {
    "duration": 43,
    "start_time": "2022-01-11T00:19:17.582Z"
   },
   {
    "duration": 1002,
    "start_time": "2022-01-11T00:20:24.741Z"
   },
   {
    "duration": 261,
    "start_time": "2022-01-11T00:21:13.746Z"
   },
   {
    "duration": 269,
    "start_time": "2022-01-11T00:21:19.764Z"
   },
   {
    "duration": 14,
    "start_time": "2022-01-11T00:21:29.890Z"
   },
   {
    "duration": 35,
    "start_time": "2022-01-11T00:21:41.077Z"
   },
   {
    "duration": 36,
    "start_time": "2022-01-11T00:22:12.720Z"
   },
   {
    "duration": 32,
    "start_time": "2022-01-11T00:22:34.476Z"
   },
   {
    "duration": 37,
    "start_time": "2022-01-11T00:22:48.629Z"
   },
   {
    "duration": 31,
    "start_time": "2022-01-11T00:23:40.620Z"
   },
   {
    "duration": 37,
    "start_time": "2022-01-11T00:23:50.206Z"
   },
   {
    "duration": 50,
    "start_time": "2022-01-11T00:23:57.698Z"
   },
   {
    "duration": 46,
    "start_time": "2022-01-11T00:24:13.168Z"
   },
   {
    "duration": 49,
    "start_time": "2022-01-11T00:24:42.138Z"
   },
   {
    "duration": 55,
    "start_time": "2022-01-11T00:24:53.470Z"
   },
   {
    "duration": 53,
    "start_time": "2022-01-11T00:25:32.418Z"
   },
   {
    "duration": 55,
    "start_time": "2022-01-11T00:25:43.750Z"
   },
   {
    "duration": 54,
    "start_time": "2022-01-11T00:27:10.925Z"
   },
   {
    "duration": 53,
    "start_time": "2022-01-11T00:27:55.770Z"
   },
   {
    "duration": 4864,
    "start_time": "2022-01-11T00:28:09.814Z"
   },
   {
    "duration": 298,
    "start_time": "2022-01-11T00:28:22.061Z"
   },
   {
    "duration": 52,
    "start_time": "2022-01-11T00:28:25.873Z"
   },
   {
    "duration": 856,
    "start_time": "2022-01-11T00:28:37.228Z"
   },
   {
    "duration": 96,
    "start_time": "2022-01-11T00:28:56.756Z"
   },
   {
    "duration": 5011,
    "start_time": "2022-01-11T00:29:06.941Z"
   },
   {
    "duration": 4885,
    "start_time": "2022-01-11T00:29:24.096Z"
   },
   {
    "duration": 51,
    "start_time": "2022-01-11T00:29:41.212Z"
   },
   {
    "duration": 51,
    "start_time": "2022-01-11T00:29:53.246Z"
   },
   {
    "duration": 4723,
    "start_time": "2022-01-11T00:30:04.309Z"
   },
   {
    "duration": 57,
    "start_time": "2022-01-11T00:30:34.569Z"
   },
   {
    "duration": 324,
    "start_time": "2022-01-11T00:31:22.932Z"
   },
   {
    "duration": 31,
    "start_time": "2022-01-11T00:31:36.364Z"
   },
   {
    "duration": 50,
    "start_time": "2022-01-11T00:31:44.981Z"
   },
   {
    "duration": 54,
    "start_time": "2022-01-11T00:31:54.267Z"
   },
   {
    "duration": 28,
    "start_time": "2022-01-11T00:32:15.585Z"
   },
   {
    "duration": 53,
    "start_time": "2022-01-11T00:32:28.775Z"
   },
   {
    "duration": 52,
    "start_time": "2022-01-11T00:32:41.280Z"
   },
   {
    "duration": 53,
    "start_time": "2022-01-11T00:32:49.164Z"
   },
   {
    "duration": 52,
    "start_time": "2022-01-11T00:32:55.763Z"
   },
   {
    "duration": 49,
    "start_time": "2022-01-11T00:33:05.847Z"
   },
   {
    "duration": 54,
    "start_time": "2022-01-11T00:33:15.856Z"
   },
   {
    "duration": 48,
    "start_time": "2022-01-11T00:33:28.046Z"
   },
   {
    "duration": 51,
    "start_time": "2022-01-11T00:33:33.806Z"
   },
   {
    "duration": 109,
    "start_time": "2022-01-11T00:33:45.409Z"
   },
   {
    "duration": 51,
    "start_time": "2022-01-11T00:33:50.159Z"
   },
   {
    "duration": 295,
    "start_time": "2022-01-11T00:34:51.760Z"
   },
   {
    "duration": 285,
    "start_time": "2022-01-11T00:35:00.401Z"
   },
   {
    "duration": 7028,
    "start_time": "2022-01-11T00:35:15.638Z"
   },
   {
    "duration": 39,
    "start_time": "2022-01-11T00:35:33.895Z"
   },
   {
    "duration": 6319,
    "start_time": "2022-01-11T00:35:45.034Z"
   },
   {
    "duration": 29,
    "start_time": "2022-01-11T00:36:08.183Z"
   },
   {
    "duration": 88,
    "start_time": "2022-01-11T00:36:19.011Z"
   },
   {
    "duration": 50,
    "start_time": "2022-01-11T00:36:33.857Z"
   },
   {
    "duration": 7642,
    "start_time": "2022-01-11T00:36:50.406Z"
   },
   {
    "duration": 44,
    "start_time": "2022-01-11T00:37:06.562Z"
   },
   {
    "duration": 44,
    "start_time": "2022-01-11T00:37:56.190Z"
   },
   {
    "duration": 42,
    "start_time": "2022-01-11T00:38:11.600Z"
   },
   {
    "duration": 48,
    "start_time": "2022-01-11T00:38:19.773Z"
   },
   {
    "duration": 49,
    "start_time": "2022-01-11T00:38:26.595Z"
   },
   {
    "duration": 1081,
    "start_time": "2022-01-11T00:39:09.272Z"
   },
   {
    "duration": 978,
    "start_time": "2022-01-11T00:39:19.482Z"
   },
   {
    "duration": 1246,
    "start_time": "2022-01-11T00:39:51.277Z"
   },
   {
    "duration": 31,
    "start_time": "2022-01-11T00:40:40.194Z"
   },
   {
    "duration": 20,
    "start_time": "2022-01-11T00:40:44.296Z"
   },
   {
    "duration": 46,
    "start_time": "2022-01-11T00:40:52.123Z"
   },
   {
    "duration": 28,
    "start_time": "2022-01-11T00:41:10.201Z"
   },
   {
    "duration": 43,
    "start_time": "2022-01-11T00:41:21.689Z"
   },
   {
    "duration": 380,
    "start_time": "2022-01-11T00:43:05.099Z"
   },
   {
    "duration": 18,
    "start_time": "2022-01-11T00:43:13.481Z"
   },
   {
    "duration": 6,
    "start_time": "2022-01-11T00:43:21.034Z"
   },
   {
    "duration": 4,
    "start_time": "2022-01-11T00:43:35.165Z"
   },
   {
    "duration": 21,
    "start_time": "2022-01-11T00:44:21.024Z"
   },
   {
    "duration": 44,
    "start_time": "2022-01-11T00:44:30.692Z"
   },
   {
    "duration": 29,
    "start_time": "2022-01-11T00:44:48.357Z"
   },
   {
    "duration": 47,
    "start_time": "2022-01-11T00:48:31.670Z"
   },
   {
    "duration": 45,
    "start_time": "2022-01-11T00:50:32.443Z"
   },
   {
    "duration": 274,
    "start_time": "2022-01-11T00:50:50.049Z"
   },
   {
    "duration": 27,
    "start_time": "2022-01-11T00:51:09.913Z"
   },
   {
    "duration": 90,
    "start_time": "2022-01-11T00:51:43.958Z"
   },
   {
    "duration": 20,
    "start_time": "2022-01-11T00:51:51.614Z"
   },
   {
    "duration": 44,
    "start_time": "2022-01-11T00:51:57.479Z"
   },
   {
    "duration": 262,
    "start_time": "2022-01-11T00:52:32.612Z"
   },
   {
    "duration": 256,
    "start_time": "2022-01-11T00:53:22.302Z"
   },
   {
    "duration": 45,
    "start_time": "2022-01-11T00:53:29.848Z"
   },
   {
    "duration": 253,
    "start_time": "2022-01-11T00:54:02.486Z"
   },
   {
    "duration": 14,
    "start_time": "2022-01-11T00:54:28.133Z"
   },
   {
    "duration": 39,
    "start_time": "2022-01-11T00:54:44.968Z"
   },
   {
    "duration": 263,
    "start_time": "2022-01-11T00:54:58.922Z"
   },
   {
    "duration": 33,
    "start_time": "2022-01-11T00:55:07.787Z"
   },
   {
    "duration": 287,
    "start_time": "2022-01-11T00:56:07.639Z"
   },
   {
    "duration": 44,
    "start_time": "2022-01-11T00:57:10.516Z"
   },
   {
    "duration": 243,
    "start_time": "2022-01-11T00:57:41.048Z"
   },
   {
    "duration": 484,
    "start_time": "2022-01-11T00:57:57.464Z"
   },
   {
    "duration": 254,
    "start_time": "2022-01-11T00:58:17.936Z"
   },
   {
    "duration": 272,
    "start_time": "2022-01-11T00:58:27.576Z"
   },
   {
    "duration": 248,
    "start_time": "2022-01-11T00:58:43.907Z"
   },
   {
    "duration": 946,
    "start_time": "2022-01-11T00:59:06.429Z"
   },
   {
    "duration": 10,
    "start_time": "2022-01-11T00:59:15.440Z"
   },
   {
    "duration": 8,
    "start_time": "2022-01-11T00:59:23.025Z"
   },
   {
    "duration": 27,
    "start_time": "2022-01-11T00:59:28.276Z"
   },
   {
    "duration": 38,
    "start_time": "2022-01-11T00:59:49.330Z"
   },
   {
    "duration": -226,
    "start_time": "2022-01-11T01:00:19.820Z"
   },
   {
    "duration": 36,
    "start_time": "2022-01-11T01:00:35.713Z"
   },
   {
    "duration": 261,
    "start_time": "2022-01-11T01:01:27.857Z"
   },
   {
    "duration": 10,
    "start_time": "2022-01-11T01:01:56.575Z"
   },
   {
    "duration": 31,
    "start_time": "2022-01-11T01:02:04.944Z"
   },
   {
    "duration": 1010,
    "start_time": "2022-01-11T01:03:13.880Z"
   },
   {
    "duration": 49,
    "start_time": "2022-01-11T01:03:33.374Z"
   },
   {
    "duration": 270,
    "start_time": "2022-01-11T01:03:43.589Z"
   },
   {
    "duration": 259,
    "start_time": "2022-01-11T01:03:58.259Z"
   },
   {
    "duration": 8,
    "start_time": "2022-01-11T01:05:21.790Z"
   },
   {
    "duration": 29,
    "start_time": "2022-01-11T01:05:29.810Z"
   },
   {
    "duration": 1237,
    "start_time": "2022-01-11T01:07:01.287Z"
   },
   {
    "duration": 1236,
    "start_time": "2022-01-11T15:56:00.648Z"
   },
   {
    "duration": 1115,
    "start_time": "2022-01-11T15:56:01.887Z"
   },
   {
    "duration": 54,
    "start_time": "2022-01-11T15:56:03.005Z"
   },
   {
    "duration": 14,
    "start_time": "2022-01-11T15:56:03.063Z"
   },
   {
    "duration": 21,
    "start_time": "2022-01-11T15:56:03.080Z"
   },
   {
    "duration": 41,
    "start_time": "2022-01-11T15:56:03.104Z"
   },
   {
    "duration": 13,
    "start_time": "2022-01-11T15:56:03.164Z"
   },
   {
    "duration": 23,
    "start_time": "2022-01-11T15:56:03.183Z"
   },
   {
    "duration": 11,
    "start_time": "2022-01-11T15:56:03.209Z"
   },
   {
    "duration": 58,
    "start_time": "2022-01-11T15:56:03.223Z"
   },
   {
    "duration": 8,
    "start_time": "2022-01-11T15:56:03.284Z"
   },
   {
    "duration": 32,
    "start_time": "2022-01-11T15:56:03.295Z"
   },
   {
    "duration": 8,
    "start_time": "2022-01-11T15:56:03.363Z"
   },
   {
    "duration": 31,
    "start_time": "2022-01-11T15:56:03.375Z"
   },
   {
    "duration": 61,
    "start_time": "2022-01-11T15:56:03.409Z"
   },
   {
    "duration": 32,
    "start_time": "2022-01-11T15:56:03.473Z"
   },
   {
    "duration": 18,
    "start_time": "2022-01-11T15:56:03.508Z"
   },
   {
    "duration": 69,
    "start_time": "2022-01-11T15:56:03.528Z"
   },
   {
    "duration": 135,
    "start_time": "2022-01-11T15:56:03.600Z"
   },
   {
    "duration": 34,
    "start_time": "2022-01-11T15:56:03.738Z"
   },
   {
    "duration": 6,
    "start_time": "2022-01-11T15:56:03.775Z"
   },
   {
    "duration": 85,
    "start_time": "2022-01-11T15:56:03.784Z"
   },
   {
    "duration": 86,
    "start_time": "2022-01-11T15:56:03.877Z"
   },
   {
    "duration": 61,
    "start_time": "2022-01-11T15:56:03.967Z"
   },
   {
    "duration": 45,
    "start_time": "2022-01-11T15:56:04.031Z"
   },
   {
    "duration": 23,
    "start_time": "2022-01-11T15:56:04.079Z"
   },
   {
    "duration": 14,
    "start_time": "2022-01-11T15:56:04.104Z"
   },
   {
    "duration": 113,
    "start_time": "2022-01-11T15:56:04.121Z"
   },
   {
    "duration": 31,
    "start_time": "2022-01-11T15:56:04.237Z"
   },
   {
    "duration": 32,
    "start_time": "2022-01-11T15:56:04.271Z"
   },
   {
    "duration": 20,
    "start_time": "2022-01-11T15:56:04.306Z"
   },
   {
    "duration": 48,
    "start_time": "2022-01-11T15:56:04.330Z"
   },
   {
    "duration": 21,
    "start_time": "2022-01-11T15:56:04.381Z"
   },
   {
    "duration": 66,
    "start_time": "2022-01-11T15:56:04.405Z"
   },
   {
    "duration": 138,
    "start_time": "2022-01-11T15:56:04.474Z"
   },
   {
    "duration": 13,
    "start_time": "2022-01-11T15:56:04.615Z"
   },
   {
    "duration": 7,
    "start_time": "2022-01-11T15:56:04.630Z"
   },
   {
    "duration": 13,
    "start_time": "2022-01-11T15:56:04.663Z"
   },
   {
    "duration": 114,
    "start_time": "2022-01-11T15:56:04.678Z"
   },
   {
    "duration": 34,
    "start_time": "2022-01-11T15:56:04.795Z"
   },
   {
    "duration": 67,
    "start_time": "2022-01-11T15:56:04.832Z"
   },
   {
    "duration": 65,
    "start_time": "2022-01-11T15:56:04.902Z"
   },
   {
    "duration": 141,
    "start_time": "2022-01-11T15:56:04.971Z"
   },
   {
    "duration": 1400,
    "start_time": "2022-01-11T15:56:05.114Z"
   },
   {
    "duration": -192,
    "start_time": "2022-01-11T15:56:06.709Z"
   },
   {
    "duration": -194,
    "start_time": "2022-01-11T15:56:06.713Z"
   },
   {
    "duration": -195,
    "start_time": "2022-01-11T15:56:06.716Z"
   },
   {
    "duration": -196,
    "start_time": "2022-01-11T15:56:06.719Z"
   },
   {
    "duration": -199,
    "start_time": "2022-01-11T15:56:06.723Z"
   },
   {
    "duration": -201,
    "start_time": "2022-01-11T15:56:06.726Z"
   },
   {
    "duration": -203,
    "start_time": "2022-01-11T15:56:06.730Z"
   },
   {
    "duration": -204,
    "start_time": "2022-01-11T15:56:06.732Z"
   },
   {
    "duration": -207,
    "start_time": "2022-01-11T15:56:06.736Z"
   },
   {
    "duration": 1171,
    "start_time": "2022-01-11T16:27:56.595Z"
   },
   {
    "duration": 385,
    "start_time": "2022-01-11T16:27:57.769Z"
   },
   {
    "duration": 54,
    "start_time": "2022-01-11T16:27:58.157Z"
   },
   {
    "duration": 13,
    "start_time": "2022-01-11T16:27:58.215Z"
   },
   {
    "duration": 38,
    "start_time": "2022-01-11T16:27:58.230Z"
   },
   {
    "duration": 24,
    "start_time": "2022-01-11T16:27:58.270Z"
   },
   {
    "duration": 9,
    "start_time": "2022-01-11T16:27:58.296Z"
   },
   {
    "duration": 57,
    "start_time": "2022-01-11T16:27:58.309Z"
   },
   {
    "duration": 12,
    "start_time": "2022-01-11T16:27:58.370Z"
   },
   {
    "duration": 20,
    "start_time": "2022-01-11T16:27:58.385Z"
   },
   {
    "duration": 7,
    "start_time": "2022-01-11T16:27:58.407Z"
   },
   {
    "duration": 57,
    "start_time": "2022-01-11T16:27:58.416Z"
   },
   {
    "duration": 11,
    "start_time": "2022-01-11T16:27:58.475Z"
   },
   {
    "duration": 38,
    "start_time": "2022-01-11T16:27:58.488Z"
   },
   {
    "duration": 45,
    "start_time": "2022-01-11T16:27:58.529Z"
   },
   {
    "duration": 22,
    "start_time": "2022-01-11T16:27:58.577Z"
   },
   {
    "duration": 18,
    "start_time": "2022-01-11T16:27:58.603Z"
   },
   {
    "duration": 68,
    "start_time": "2022-01-11T16:27:58.624Z"
   },
   {
    "duration": 152,
    "start_time": "2022-01-11T16:27:58.695Z"
   },
   {
    "duration": 29,
    "start_time": "2022-01-11T16:27:58.849Z"
   },
   {
    "duration": 5,
    "start_time": "2022-01-11T16:27:58.881Z"
   },
   {
    "duration": 76,
    "start_time": "2022-01-11T16:27:58.888Z"
   },
   {
    "duration": 52,
    "start_time": "2022-01-11T16:27:58.972Z"
   },
   {
    "duration": 67,
    "start_time": "2022-01-11T16:27:59.027Z"
   },
   {
    "duration": 39,
    "start_time": "2022-01-11T16:27:59.097Z"
   },
   {
    "duration": 30,
    "start_time": "2022-01-11T16:27:59.139Z"
   },
   {
    "duration": 36,
    "start_time": "2022-01-11T16:27:59.173Z"
   },
   {
    "duration": 84,
    "start_time": "2022-01-11T16:27:59.212Z"
   },
   {
    "duration": 18,
    "start_time": "2022-01-11T16:27:59.298Z"
   },
   {
    "duration": 45,
    "start_time": "2022-01-11T16:27:59.319Z"
   },
   {
    "duration": 19,
    "start_time": "2022-01-11T16:27:59.367Z"
   },
   {
    "duration": 20,
    "start_time": "2022-01-11T16:27:59.389Z"
   },
   {
    "duration": 54,
    "start_time": "2022-01-11T16:27:59.412Z"
   },
   {
    "duration": 25,
    "start_time": "2022-01-11T16:27:59.468Z"
   },
   {
    "duration": 144,
    "start_time": "2022-01-11T16:27:59.495Z"
   },
   {
    "duration": 22,
    "start_time": "2022-01-11T16:27:59.642Z"
   },
   {
    "duration": 13,
    "start_time": "2022-01-11T16:27:59.667Z"
   },
   {
    "duration": 32,
    "start_time": "2022-01-11T16:27:59.683Z"
   },
   {
    "duration": 95,
    "start_time": "2022-01-11T16:27:59.718Z"
   },
   {
    "duration": 34,
    "start_time": "2022-01-11T16:27:59.815Z"
   },
   {
    "duration": 49,
    "start_time": "2022-01-11T16:27:59.851Z"
   },
   {
    "duration": 38,
    "start_time": "2022-01-11T16:27:59.902Z"
   },
   {
    "duration": 113,
    "start_time": "2022-01-11T16:27:59.971Z"
   },
   {
    "duration": 1522,
    "start_time": "2022-01-11T16:28:00.086Z"
   },
   {
    "duration": -94,
    "start_time": "2022-01-11T16:28:01.705Z"
   },
   {
    "duration": -103,
    "start_time": "2022-01-11T16:28:01.715Z"
   },
   {
    "duration": -106,
    "start_time": "2022-01-11T16:28:01.720Z"
   },
   {
    "duration": -110,
    "start_time": "2022-01-11T16:28:01.726Z"
   },
   {
    "duration": -115,
    "start_time": "2022-01-11T16:28:01.732Z"
   },
   {
    "duration": -118,
    "start_time": "2022-01-11T16:28:01.737Z"
   },
   {
    "duration": -122,
    "start_time": "2022-01-11T16:28:01.743Z"
   },
   {
    "duration": -125,
    "start_time": "2022-01-11T16:28:01.748Z"
   },
   {
    "duration": -141,
    "start_time": "2022-01-11T16:28:01.765Z"
   },
   {
    "duration": 1231,
    "start_time": "2022-01-11T16:34:22.539Z"
   },
   {
    "duration": 396,
    "start_time": "2022-01-11T16:45:01.791Z"
   },
   {
    "duration": 19,
    "start_time": "2022-01-11T16:45:03.646Z"
   },
   {
    "duration": 22,
    "start_time": "2022-01-11T16:45:14.343Z"
   },
   {
    "duration": 20,
    "start_time": "2022-01-11T16:45:21.757Z"
   },
   {
    "duration": 23,
    "start_time": "2022-01-11T16:45:29.343Z"
   },
   {
    "duration": 24,
    "start_time": "2022-01-11T16:47:04.894Z"
   },
   {
    "duration": 7,
    "start_time": "2022-01-11T16:47:18.539Z"
   },
   {
    "duration": 21,
    "start_time": "2022-01-11T16:47:23.250Z"
   },
   {
    "duration": 22,
    "start_time": "2022-01-11T16:49:11.041Z"
   },
   {
    "duration": 19,
    "start_time": "2022-01-11T16:49:15.359Z"
   },
   {
    "duration": 11,
    "start_time": "2022-01-11T16:49:39.930Z"
   },
   {
    "duration": 32,
    "start_time": "2022-01-11T16:49:44.667Z"
   },
   {
    "duration": 446,
    "start_time": "2022-01-11T21:17:36.560Z"
   },
   {
    "duration": 331,
    "start_time": "2022-01-11T21:17:43.917Z"
   },
   {
    "duration": 991,
    "start_time": "2022-01-11T21:18:01.408Z"
   },
   {
    "duration": 1650,
    "start_time": "2022-01-11T21:18:02.401Z"
   },
   {
    "duration": 44,
    "start_time": "2022-01-11T21:18:04.053Z"
   },
   {
    "duration": 8,
    "start_time": "2022-01-11T21:18:04.098Z"
   },
   {
    "duration": 14,
    "start_time": "2022-01-11T21:18:04.108Z"
   },
   {
    "duration": 31,
    "start_time": "2022-01-11T21:18:04.124Z"
   },
   {
    "duration": 6,
    "start_time": "2022-01-11T21:18:04.157Z"
   },
   {
    "duration": 22,
    "start_time": "2022-01-11T21:18:04.165Z"
   },
   {
    "duration": 8,
    "start_time": "2022-01-11T21:18:04.189Z"
   },
   {
    "duration": 15,
    "start_time": "2022-01-11T21:18:04.199Z"
   },
   {
    "duration": 12,
    "start_time": "2022-01-11T21:18:04.216Z"
   },
   {
    "duration": 22,
    "start_time": "2022-01-11T21:18:04.235Z"
   },
   {
    "duration": 8,
    "start_time": "2022-01-11T21:18:04.259Z"
   },
   {
    "duration": 17,
    "start_time": "2022-01-11T21:18:04.268Z"
   },
   {
    "duration": 27,
    "start_time": "2022-01-11T21:18:04.287Z"
   },
   {
    "duration": 25,
    "start_time": "2022-01-11T21:18:04.315Z"
   },
   {
    "duration": 19,
    "start_time": "2022-01-11T21:18:04.342Z"
   },
   {
    "duration": 27,
    "start_time": "2022-01-11T21:18:04.362Z"
   },
   {
    "duration": 78,
    "start_time": "2022-01-11T21:18:04.390Z"
   },
   {
    "duration": 12,
    "start_time": "2022-01-11T21:18:04.470Z"
   },
   {
    "duration": 9,
    "start_time": "2022-01-11T21:18:04.483Z"
   },
   {
    "duration": 53,
    "start_time": "2022-01-11T21:18:04.494Z"
   },
   {
    "duration": 39,
    "start_time": "2022-01-11T21:18:04.549Z"
   },
   {
    "duration": 46,
    "start_time": "2022-01-11T21:18:04.589Z"
   },
   {
    "duration": 13,
    "start_time": "2022-01-11T21:18:04.638Z"
   },
   {
    "duration": 10,
    "start_time": "2022-01-11T21:18:04.652Z"
   },
   {
    "duration": 8,
    "start_time": "2022-01-11T21:18:04.665Z"
   },
   {
    "duration": 72,
    "start_time": "2022-01-11T21:18:04.675Z"
   },
   {
    "duration": 11,
    "start_time": "2022-01-11T21:18:04.749Z"
   },
   {
    "duration": 27,
    "start_time": "2022-01-11T21:18:04.761Z"
   },
   {
    "duration": 12,
    "start_time": "2022-01-11T21:18:04.789Z"
   },
   {
    "duration": 31,
    "start_time": "2022-01-11T21:18:04.802Z"
   },
   {
    "duration": 21,
    "start_time": "2022-01-11T21:18:04.835Z"
   },
   {
    "duration": 14,
    "start_time": "2022-01-11T21:18:04.858Z"
   },
   {
    "duration": 103,
    "start_time": "2022-01-11T21:18:04.874Z"
   },
   {
    "duration": 7,
    "start_time": "2022-01-11T21:18:04.979Z"
   },
   {
    "duration": 77,
    "start_time": "2022-01-11T21:18:04.987Z"
   },
   {
    "duration": 21,
    "start_time": "2022-01-11T21:18:05.065Z"
   },
   {
    "duration": 22,
    "start_time": "2022-01-11T21:18:05.088Z"
   },
   {
    "duration": 48,
    "start_time": "2022-01-11T21:18:05.111Z"
   },
   {
    "duration": 27,
    "start_time": "2022-01-11T21:18:05.160Z"
   },
   {
    "duration": 102,
    "start_time": "2022-01-11T21:18:05.188Z"
   },
   {
    "duration": 1412,
    "start_time": "2022-01-11T21:18:05.291Z"
   },
   {
    "duration": -224,
    "start_time": "2022-01-11T21:18:06.929Z"
   },
   {
    "duration": -225,
    "start_time": "2022-01-11T21:18:06.931Z"
   },
   {
    "duration": -227,
    "start_time": "2022-01-11T21:18:06.933Z"
   },
   {
    "duration": -229,
    "start_time": "2022-01-11T21:18:06.936Z"
   },
   {
    "duration": -230,
    "start_time": "2022-01-11T21:18:06.938Z"
   },
   {
    "duration": -231,
    "start_time": "2022-01-11T21:18:06.940Z"
   },
   {
    "duration": -233,
    "start_time": "2022-01-11T21:18:06.943Z"
   },
   {
    "duration": -234,
    "start_time": "2022-01-11T21:18:06.945Z"
   },
   {
    "duration": -235,
    "start_time": "2022-01-11T21:18:06.947Z"
   },
   {
    "duration": -236,
    "start_time": "2022-01-11T21:18:06.949Z"
   },
   {
    "duration": 5,
    "start_time": "2022-01-11T21:19:10.340Z"
   },
   {
    "duration": 8,
    "start_time": "2022-01-11T21:19:29.371Z"
   },
   {
    "duration": 16,
    "start_time": "2022-01-11T21:19:37.252Z"
   },
   {
    "duration": 23,
    "start_time": "2022-01-11T21:20:01.342Z"
   },
   {
    "duration": 16,
    "start_time": "2022-01-11T21:20:20.891Z"
   },
   {
    "duration": 29,
    "start_time": "2022-01-11T21:22:10.316Z"
   },
   {
    "duration": 28,
    "start_time": "2022-01-11T21:22:21.111Z"
   },
   {
    "duration": 8,
    "start_time": "2022-01-11T21:30:14.861Z"
   },
   {
    "duration": 20,
    "start_time": "2022-01-11T21:30:27.318Z"
   },
   {
    "duration": 14,
    "start_time": "2022-01-11T21:31:22.260Z"
   },
   {
    "duration": 15,
    "start_time": "2022-01-11T21:31:29.888Z"
   },
   {
    "duration": 10,
    "start_time": "2022-01-11T21:31:45.324Z"
   },
   {
    "duration": 23,
    "start_time": "2022-01-11T21:31:48.128Z"
   },
   {
    "duration": 156,
    "start_time": "2022-01-11T21:33:37.509Z"
   },
   {
    "duration": 113,
    "start_time": "2022-01-11T21:34:00.344Z"
   },
   {
    "duration": 9,
    "start_time": "2022-01-11T21:34:20.827Z"
   },
   {
    "duration": 23,
    "start_time": "2022-01-11T21:34:23.525Z"
   },
   {
    "duration": 1034,
    "start_time": "2022-01-11T21:34:43.342Z"
   },
   {
    "duration": 312,
    "start_time": "2022-01-11T21:34:44.378Z"
   },
   {
    "duration": 31,
    "start_time": "2022-01-11T21:34:44.692Z"
   },
   {
    "duration": 9,
    "start_time": "2022-01-11T21:34:44.725Z"
   },
   {
    "duration": 18,
    "start_time": "2022-01-11T21:34:44.736Z"
   },
   {
    "duration": 17,
    "start_time": "2022-01-11T21:34:44.756Z"
   },
   {
    "duration": 7,
    "start_time": "2022-01-11T21:34:44.775Z"
   },
   {
    "duration": 14,
    "start_time": "2022-01-11T21:34:44.784Z"
   },
   {
    "duration": 5,
    "start_time": "2022-01-11T21:34:44.800Z"
   },
   {
    "duration": 38,
    "start_time": "2022-01-11T21:34:44.807Z"
   },
   {
    "duration": 5,
    "start_time": "2022-01-11T21:34:44.847Z"
   },
   {
    "duration": 13,
    "start_time": "2022-01-11T21:34:44.854Z"
   },
   {
    "duration": 6,
    "start_time": "2022-01-11T21:34:44.868Z"
   },
   {
    "duration": 14,
    "start_time": "2022-01-11T21:34:44.875Z"
   },
   {
    "duration": 46,
    "start_time": "2022-01-11T21:34:44.891Z"
   },
   {
    "duration": 14,
    "start_time": "2022-01-11T21:34:44.939Z"
   },
   {
    "duration": 11,
    "start_time": "2022-01-11T21:34:44.955Z"
   },
   {
    "duration": 27,
    "start_time": "2022-01-11T21:34:44.968Z"
   },
   {
    "duration": 84,
    "start_time": "2022-01-11T21:34:44.996Z"
   },
   {
    "duration": 11,
    "start_time": "2022-01-11T21:34:45.082Z"
   },
   {
    "duration": 5,
    "start_time": "2022-01-11T21:34:45.095Z"
   },
   {
    "duration": 57,
    "start_time": "2022-01-11T21:34:45.102Z"
   },
   {
    "duration": 39,
    "start_time": "2022-01-11T21:34:45.163Z"
   },
   {
    "duration": 45,
    "start_time": "2022-01-11T21:34:45.205Z"
   },
   {
    "duration": 12,
    "start_time": "2022-01-11T21:34:45.251Z"
   },
   {
    "duration": 10,
    "start_time": "2022-01-11T21:34:45.264Z"
   },
   {
    "duration": 8,
    "start_time": "2022-01-11T21:34:45.275Z"
   },
   {
    "duration": 80,
    "start_time": "2022-01-11T21:34:45.285Z"
   },
   {
    "duration": 10,
    "start_time": "2022-01-11T21:34:45.366Z"
   },
   {
    "duration": 20,
    "start_time": "2022-01-11T21:34:45.377Z"
   },
   {
    "duration": 13,
    "start_time": "2022-01-11T21:34:45.398Z"
   },
   {
    "duration": 14,
    "start_time": "2022-01-11T21:34:45.427Z"
   },
   {
    "duration": 18,
    "start_time": "2022-01-11T21:34:45.443Z"
   },
   {
    "duration": 15,
    "start_time": "2022-01-11T21:34:45.463Z"
   },
   {
    "duration": 100,
    "start_time": "2022-01-11T21:34:45.479Z"
   },
   {
    "duration": 7,
    "start_time": "2022-01-11T21:34:45.581Z"
   },
   {
    "duration": 76,
    "start_time": "2022-01-11T21:34:45.590Z"
   },
   {
    "duration": 21,
    "start_time": "2022-01-11T21:34:45.668Z"
   },
   {
    "duration": 22,
    "start_time": "2022-01-11T21:34:45.690Z"
   },
   {
    "duration": 33,
    "start_time": "2022-01-11T21:34:45.727Z"
   },
   {
    "duration": 26,
    "start_time": "2022-01-11T21:34:45.761Z"
   },
   {
    "duration": 96,
    "start_time": "2022-01-11T21:34:45.789Z"
   },
   {
    "duration": 4,
    "start_time": "2022-01-11T21:34:45.886Z"
   },
   {
    "duration": 39,
    "start_time": "2022-01-11T21:34:45.892Z"
   },
   {
    "duration": 19,
    "start_time": "2022-01-11T21:34:45.933Z"
   },
   {
    "duration": 5,
    "start_time": "2022-01-11T21:34:45.953Z"
   },
   {
    "duration": 22,
    "start_time": "2022-01-11T21:34:45.959Z"
   },
   {
    "duration": 26,
    "start_time": "2022-01-11T21:34:45.982Z"
   },
   {
    "duration": 5,
    "start_time": "2022-01-11T21:34:46.009Z"
   },
   {
    "duration": 24,
    "start_time": "2022-01-11T21:34:46.016Z"
   },
   {
    "duration": 31,
    "start_time": "2022-01-11T21:34:46.042Z"
   },
   {
    "duration": 18,
    "start_time": "2022-01-11T21:34:46.075Z"
   },
   {
    "duration": 11,
    "start_time": "2022-01-11T21:34:46.095Z"
   },
   {
    "duration": 6,
    "start_time": "2022-01-11T21:34:46.108Z"
   },
   {
    "duration": 6,
    "start_time": "2022-01-11T21:34:46.116Z"
   },
   {
    "duration": 10,
    "start_time": "2022-01-11T21:34:46.124Z"
   },
   {
    "duration": 469,
    "start_time": "2022-01-11T21:36:33.285Z"
   },
   {
    "duration": 8,
    "start_time": "2022-01-11T21:36:39.435Z"
   },
   {
    "duration": 16,
    "start_time": "2022-01-11T21:36:41.775Z"
   },
   {
    "duration": 963,
    "start_time": "2022-01-11T21:36:55.614Z"
   },
   {
    "duration": 401,
    "start_time": "2022-01-11T21:36:56.579Z"
   },
   {
    "duration": 49,
    "start_time": "2022-01-11T21:36:56.982Z"
   },
   {
    "duration": 11,
    "start_time": "2022-01-11T21:36:57.034Z"
   },
   {
    "duration": 7,
    "start_time": "2022-01-11T21:36:57.047Z"
   },
   {
    "duration": 14,
    "start_time": "2022-01-11T21:36:57.055Z"
   },
   {
    "duration": 5,
    "start_time": "2022-01-11T21:36:57.071Z"
   },
   {
    "duration": 13,
    "start_time": "2022-01-11T21:36:57.079Z"
   },
   {
    "duration": 6,
    "start_time": "2022-01-11T21:36:57.094Z"
   },
   {
    "duration": 45,
    "start_time": "2022-01-11T21:36:57.101Z"
   },
   {
    "duration": 5,
    "start_time": "2022-01-11T21:36:57.148Z"
   },
   {
    "duration": 14,
    "start_time": "2022-01-11T21:36:57.154Z"
   },
   {
    "duration": 7,
    "start_time": "2022-01-11T21:36:57.170Z"
   },
   {
    "duration": 14,
    "start_time": "2022-01-11T21:36:57.178Z"
   },
   {
    "duration": 49,
    "start_time": "2022-01-11T21:36:57.194Z"
   },
   {
    "duration": 15,
    "start_time": "2022-01-11T21:36:57.245Z"
   },
   {
    "duration": 11,
    "start_time": "2022-01-11T21:36:57.261Z"
   },
   {
    "duration": 23,
    "start_time": "2022-01-11T21:36:57.274Z"
   },
   {
    "duration": 100,
    "start_time": "2022-01-11T21:36:57.299Z"
   },
   {
    "duration": 11,
    "start_time": "2022-01-11T21:36:57.401Z"
   },
   {
    "duration": 16,
    "start_time": "2022-01-11T21:36:57.414Z"
   },
   {
    "duration": 48,
    "start_time": "2022-01-11T21:36:57.432Z"
   },
   {
    "duration": 39,
    "start_time": "2022-01-11T21:36:57.483Z"
   },
   {
    "duration": 32,
    "start_time": "2022-01-11T21:36:57.524Z"
   },
   {
    "duration": 11,
    "start_time": "2022-01-11T21:36:57.558Z"
   },
   {
    "duration": 10,
    "start_time": "2022-01-11T21:36:57.570Z"
   },
   {
    "duration": 10,
    "start_time": "2022-01-11T21:36:57.581Z"
   },
   {
    "duration": 90,
    "start_time": "2022-01-11T21:36:57.592Z"
   },
   {
    "duration": 10,
    "start_time": "2022-01-11T21:36:57.684Z"
   },
   {
    "duration": 20,
    "start_time": "2022-01-11T21:36:57.695Z"
   },
   {
    "duration": 18,
    "start_time": "2022-01-11T21:36:57.727Z"
   },
   {
    "duration": 14,
    "start_time": "2022-01-11T21:36:57.747Z"
   },
   {
    "duration": 12,
    "start_time": "2022-01-11T21:36:57.762Z"
   },
   {
    "duration": 15,
    "start_time": "2022-01-11T21:36:57.776Z"
   },
   {
    "duration": 105,
    "start_time": "2022-01-11T21:36:57.793Z"
   },
   {
    "duration": 9,
    "start_time": "2022-01-11T21:36:57.900Z"
   },
   {
    "duration": 70,
    "start_time": "2022-01-11T21:36:57.911Z"
   },
   {
    "duration": 22,
    "start_time": "2022-01-11T21:36:57.983Z"
   },
   {
    "duration": 44,
    "start_time": "2022-01-11T21:36:58.007Z"
   },
   {
    "duration": 27,
    "start_time": "2022-01-11T21:36:58.053Z"
   },
   {
    "duration": 49,
    "start_time": "2022-01-11T21:36:58.081Z"
   },
   {
    "duration": 75,
    "start_time": "2022-01-11T21:36:58.131Z"
   },
   {
    "duration": 5,
    "start_time": "2022-01-11T21:36:58.207Z"
   },
   {
    "duration": 36,
    "start_time": "2022-01-11T21:36:58.213Z"
   },
   {
    "duration": 14,
    "start_time": "2022-01-11T21:36:58.251Z"
   },
   {
    "duration": 4,
    "start_time": "2022-01-11T21:36:58.266Z"
   },
   {
    "duration": 14,
    "start_time": "2022-01-11T21:36:58.271Z"
   },
   {
    "duration": 15,
    "start_time": "2022-01-11T21:36:58.286Z"
   },
   {
    "duration": 7,
    "start_time": "2022-01-11T21:36:58.302Z"
   },
   {
    "duration": 5,
    "start_time": "2022-01-11T21:36:58.334Z"
   },
   {
    "duration": 8,
    "start_time": "2022-01-11T21:36:58.341Z"
   },
   {
    "duration": 5,
    "start_time": "2022-01-11T21:36:58.350Z"
   },
   {
    "duration": 4,
    "start_time": "2022-01-11T21:36:58.356Z"
   },
   {
    "duration": 6,
    "start_time": "2022-01-11T21:36:58.362Z"
   },
   {
    "duration": 4,
    "start_time": "2022-01-11T21:36:58.369Z"
   },
   {
    "duration": 4,
    "start_time": "2022-01-11T21:36:58.375Z"
   },
   {
    "duration": 10,
    "start_time": "2022-01-11T21:38:03.608Z"
   },
   {
    "duration": 17,
    "start_time": "2022-01-11T21:38:11.253Z"
   },
   {
    "duration": 2,
    "start_time": "2022-01-11T21:38:35.798Z"
   },
   {
    "duration": 12,
    "start_time": "2022-01-11T21:39:01.703Z"
   },
   {
    "duration": 23,
    "start_time": "2022-01-11T21:39:05.358Z"
   },
   {
    "duration": 456,
    "start_time": "2022-01-11T21:44:24.051Z"
   },
   {
    "duration": 3,
    "start_time": "2022-01-11T21:45:44.988Z"
   },
   {
    "duration": 8,
    "start_time": "2022-01-11T21:46:46.572Z"
   },
   {
    "duration": 15,
    "start_time": "2022-01-11T21:47:02.942Z"
   },
   {
    "duration": 7,
    "start_time": "2022-01-11T21:47:39.555Z"
   },
   {
    "duration": 8,
    "start_time": "2022-01-11T21:47:47.226Z"
   },
   {
    "duration": 956,
    "start_time": "2022-01-11T21:48:10.301Z"
   },
   {
    "duration": 468,
    "start_time": "2022-01-11T21:48:11.259Z"
   },
   {
    "duration": 85,
    "start_time": "2022-01-11T21:48:11.745Z"
   },
   {
    "duration": 53,
    "start_time": "2022-01-11T21:48:11.841Z"
   },
   {
    "duration": 64,
    "start_time": "2022-01-11T21:48:11.909Z"
   },
   {
    "duration": 16,
    "start_time": "2022-01-11T21:48:11.976Z"
   },
   {
    "duration": 8,
    "start_time": "2022-01-11T21:48:11.994Z"
   },
   {
    "duration": 16,
    "start_time": "2022-01-11T21:48:12.005Z"
   },
   {
    "duration": 24,
    "start_time": "2022-01-11T21:48:12.022Z"
   },
   {
    "duration": 14,
    "start_time": "2022-01-11T21:48:12.047Z"
   },
   {
    "duration": 5,
    "start_time": "2022-01-11T21:48:12.062Z"
   },
   {
    "duration": 15,
    "start_time": "2022-01-11T21:48:12.068Z"
   },
   {
    "duration": 6,
    "start_time": "2022-01-11T21:48:12.085Z"
   },
   {
    "duration": 14,
    "start_time": "2022-01-11T21:48:12.092Z"
   },
   {
    "duration": 37,
    "start_time": "2022-01-11T21:48:12.107Z"
   },
   {
    "duration": 15,
    "start_time": "2022-01-11T21:48:12.145Z"
   },
   {
    "duration": 10,
    "start_time": "2022-01-11T21:48:12.162Z"
   },
   {
    "duration": 27,
    "start_time": "2022-01-11T21:48:12.173Z"
   },
   {
    "duration": 95,
    "start_time": "2022-01-11T21:48:12.201Z"
   },
   {
    "duration": 16,
    "start_time": "2022-01-11T21:48:12.297Z"
   },
   {
    "duration": 18,
    "start_time": "2022-01-11T21:48:12.315Z"
   },
   {
    "duration": 51,
    "start_time": "2022-01-11T21:48:12.335Z"
   },
   {
    "duration": 41,
    "start_time": "2022-01-11T21:48:12.389Z"
   },
   {
    "duration": 29,
    "start_time": "2022-01-11T21:48:12.433Z"
   },
   {
    "duration": 10,
    "start_time": "2022-01-11T21:48:12.464Z"
   },
   {
    "duration": 9,
    "start_time": "2022-01-11T21:48:12.475Z"
   },
   {
    "duration": 7,
    "start_time": "2022-01-11T21:48:12.486Z"
   },
   {
    "duration": 84,
    "start_time": "2022-01-11T21:48:12.495Z"
   },
   {
    "duration": 9,
    "start_time": "2022-01-11T21:48:12.581Z"
   },
   {
    "duration": 21,
    "start_time": "2022-01-11T21:48:12.592Z"
   },
   {
    "duration": 26,
    "start_time": "2022-01-11T21:48:12.614Z"
   },
   {
    "duration": 23,
    "start_time": "2022-01-11T21:48:12.641Z"
   },
   {
    "duration": 16,
    "start_time": "2022-01-11T21:48:12.665Z"
   },
   {
    "duration": 21,
    "start_time": "2022-01-11T21:48:12.683Z"
   },
   {
    "duration": 139,
    "start_time": "2022-01-11T21:48:12.706Z"
   },
   {
    "duration": 8,
    "start_time": "2022-01-11T21:48:12.847Z"
   },
   {
    "duration": 60,
    "start_time": "2022-01-11T21:48:12.857Z"
   },
   {
    "duration": 36,
    "start_time": "2022-01-11T21:48:12.919Z"
   },
   {
    "duration": 23,
    "start_time": "2022-01-11T21:48:12.956Z"
   },
   {
    "duration": 28,
    "start_time": "2022-01-11T21:48:12.981Z"
   },
   {
    "duration": 29,
    "start_time": "2022-01-11T21:48:13.031Z"
   },
   {
    "duration": 84,
    "start_time": "2022-01-11T21:48:13.062Z"
   },
   {
    "duration": 5,
    "start_time": "2022-01-11T21:48:13.148Z"
   },
   {
    "duration": 23,
    "start_time": "2022-01-11T21:48:13.154Z"
   },
   {
    "duration": 16,
    "start_time": "2022-01-11T21:48:13.179Z"
   },
   {
    "duration": 3,
    "start_time": "2022-01-11T21:48:13.197Z"
   },
   {
    "duration": 38,
    "start_time": "2022-01-11T21:48:13.201Z"
   },
   {
    "duration": 20,
    "start_time": "2022-01-11T21:48:13.241Z"
   },
   {
    "duration": 17,
    "start_time": "2022-01-11T21:48:13.262Z"
   },
   {
    "duration": 21,
    "start_time": "2022-01-11T21:48:13.281Z"
   },
   {
    "duration": 5,
    "start_time": "2022-01-11T21:48:13.304Z"
   },
   {
    "duration": 25,
    "start_time": "2022-01-11T21:48:13.310Z"
   },
   {
    "duration": 10,
    "start_time": "2022-01-11T21:48:13.337Z"
   },
   {
    "duration": 5,
    "start_time": "2022-01-11T21:48:13.349Z"
   },
   {
    "duration": 4,
    "start_time": "2022-01-11T21:48:13.355Z"
   },
   {
    "duration": 7,
    "start_time": "2022-01-11T21:48:13.361Z"
   },
   {
    "duration": 7,
    "start_time": "2022-01-11T21:48:13.369Z"
   },
   {
    "duration": 5,
    "start_time": "2022-01-11T21:48:13.377Z"
   },
   {
    "duration": 4,
    "start_time": "2022-01-11T21:48:43.452Z"
   },
   {
    "duration": 17,
    "start_time": "2022-01-11T21:48:46.742Z"
   },
   {
    "duration": 3,
    "start_time": "2022-01-11T21:49:02.156Z"
   },
   {
    "duration": 939,
    "start_time": "2022-01-11T21:49:17.770Z"
   },
   {
    "duration": 325,
    "start_time": "2022-01-11T21:49:18.711Z"
   },
   {
    "duration": 39,
    "start_time": "2022-01-11T21:49:19.038Z"
   },
   {
    "duration": 8,
    "start_time": "2022-01-11T21:49:19.079Z"
   },
   {
    "duration": 8,
    "start_time": "2022-01-11T21:49:19.089Z"
   },
   {
    "duration": 35,
    "start_time": "2022-01-11T21:49:19.099Z"
   },
   {
    "duration": 8,
    "start_time": "2022-01-11T21:49:19.136Z"
   },
   {
    "duration": 16,
    "start_time": "2022-01-11T21:49:19.146Z"
   },
   {
    "duration": 7,
    "start_time": "2022-01-11T21:49:19.164Z"
   },
   {
    "duration": 13,
    "start_time": "2022-01-11T21:49:19.172Z"
   },
   {
    "duration": 7,
    "start_time": "2022-01-11T21:49:19.186Z"
   },
   {
    "duration": 40,
    "start_time": "2022-01-11T21:49:19.195Z"
   },
   {
    "duration": 20,
    "start_time": "2022-01-11T21:49:19.236Z"
   },
   {
    "duration": 16,
    "start_time": "2022-01-11T21:49:19.258Z"
   },
   {
    "duration": 24,
    "start_time": "2022-01-11T21:49:19.275Z"
   },
   {
    "duration": 15,
    "start_time": "2022-01-11T21:49:19.300Z"
   },
   {
    "duration": 13,
    "start_time": "2022-01-11T21:49:19.329Z"
   },
   {
    "duration": 33,
    "start_time": "2022-01-11T21:49:19.344Z"
   },
   {
    "duration": 130,
    "start_time": "2022-01-11T21:49:19.379Z"
   },
   {
    "duration": 19,
    "start_time": "2022-01-11T21:49:19.511Z"
   },
   {
    "duration": 4,
    "start_time": "2022-01-11T21:49:19.532Z"
   },
   {
    "duration": 60,
    "start_time": "2022-01-11T21:49:19.538Z"
   },
   {
    "duration": 62,
    "start_time": "2022-01-11T21:49:19.600Z"
   },
   {
    "duration": 30,
    "start_time": "2022-01-11T21:49:19.664Z"
   },
   {
    "duration": 10,
    "start_time": "2022-01-11T21:49:19.696Z"
   },
   {
    "duration": 26,
    "start_time": "2022-01-11T21:49:19.709Z"
   },
   {
    "duration": 18,
    "start_time": "2022-01-11T21:49:19.738Z"
   },
   {
    "duration": 55,
    "start_time": "2022-01-11T21:49:19.757Z"
   },
   {
    "duration": 15,
    "start_time": "2022-01-11T21:49:19.814Z"
   },
   {
    "duration": 23,
    "start_time": "2022-01-11T21:49:19.830Z"
   },
   {
    "duration": 12,
    "start_time": "2022-01-11T21:49:19.854Z"
   },
   {
    "duration": 8,
    "start_time": "2022-01-11T21:49:19.868Z"
   },
   {
    "duration": 13,
    "start_time": "2022-01-11T21:49:19.878Z"
   },
   {
    "duration": 44,
    "start_time": "2022-01-11T21:49:19.892Z"
   },
   {
    "duration": 93,
    "start_time": "2022-01-11T21:49:19.937Z"
   },
   {
    "duration": 9,
    "start_time": "2022-01-11T21:49:20.032Z"
   },
   {
    "duration": 59,
    "start_time": "2022-01-11T21:49:20.043Z"
   },
   {
    "duration": 43,
    "start_time": "2022-01-11T21:49:20.103Z"
   },
   {
    "duration": 23,
    "start_time": "2022-01-11T21:49:20.148Z"
   },
   {
    "duration": 28,
    "start_time": "2022-01-11T21:49:20.173Z"
   },
   {
    "duration": 49,
    "start_time": "2022-01-11T21:49:20.203Z"
   },
   {
    "duration": 79,
    "start_time": "2022-01-11T21:49:20.254Z"
   },
   {
    "duration": 5,
    "start_time": "2022-01-11T21:49:20.335Z"
   },
   {
    "duration": 25,
    "start_time": "2022-01-11T21:49:20.342Z"
   },
   {
    "duration": 14,
    "start_time": "2022-01-11T21:49:20.369Z"
   },
   {
    "duration": 5,
    "start_time": "2022-01-11T21:49:20.385Z"
   },
   {
    "duration": 18,
    "start_time": "2022-01-11T21:49:20.391Z"
   },
   {
    "duration": 26,
    "start_time": "2022-01-11T21:49:20.410Z"
   },
   {
    "duration": 11,
    "start_time": "2022-01-11T21:49:20.437Z"
   },
   {
    "duration": 14,
    "start_time": "2022-01-11T21:49:20.450Z"
   },
   {
    "duration": 4,
    "start_time": "2022-01-11T21:49:20.466Z"
   },
   {
    "duration": 5,
    "start_time": "2022-01-11T21:49:20.471Z"
   },
   {
    "duration": 9,
    "start_time": "2022-01-11T21:49:20.478Z"
   },
   {
    "duration": 5,
    "start_time": "2022-01-11T21:49:20.488Z"
   },
   {
    "duration": 4,
    "start_time": "2022-01-11T21:49:20.495Z"
   },
   {
    "duration": 4,
    "start_time": "2022-01-11T21:49:20.501Z"
   },
   {
    "duration": 25,
    "start_time": "2022-01-11T21:49:20.506Z"
   },
   {
    "duration": 11,
    "start_time": "2022-01-11T21:49:20.532Z"
   },
   {
    "duration": 15,
    "start_time": "2022-01-11T21:50:15.344Z"
   },
   {
    "duration": 13,
    "start_time": "2022-01-11T21:51:29.752Z"
   },
   {
    "duration": 24,
    "start_time": "2022-01-11T21:51:33.994Z"
   },
   {
    "duration": 14,
    "start_time": "2022-01-11T21:52:41.447Z"
   },
   {
    "duration": 24,
    "start_time": "2022-01-11T21:52:44.299Z"
   },
   {
    "duration": 15,
    "start_time": "2022-01-11T21:53:10.876Z"
   },
   {
    "duration": 16,
    "start_time": "2022-01-11T21:53:13.575Z"
   },
   {
    "duration": 480,
    "start_time": "2022-01-11T21:55:10.527Z"
   },
   {
    "duration": 363,
    "start_time": "2022-01-11T21:55:46.402Z"
   },
   {
    "duration": 8818,
    "start_time": "2022-01-11T21:56:21.855Z"
   },
   {
    "duration": 22,
    "start_time": "2022-01-11T21:57:04.221Z"
   },
   {
    "duration": 18,
    "start_time": "2022-01-11T21:59:36.609Z"
   },
   {
    "duration": 16,
    "start_time": "2022-01-11T21:59:39.660Z"
   },
   {
    "duration": 18,
    "start_time": "2022-01-11T21:59:46.308Z"
   },
   {
    "duration": 22,
    "start_time": "2022-01-11T21:59:51.353Z"
   },
   {
    "duration": 17,
    "start_time": "2022-01-11T21:59:53.158Z"
   },
   {
    "duration": 18,
    "start_time": "2022-01-11T21:59:54.858Z"
   },
   {
    "duration": 967,
    "start_time": "2022-01-11T22:01:59.290Z"
   },
   {
    "duration": 323,
    "start_time": "2022-01-11T22:02:00.258Z"
   },
   {
    "duration": 32,
    "start_time": "2022-01-11T22:02:00.583Z"
   },
   {
    "duration": 7,
    "start_time": "2022-01-11T22:02:00.617Z"
   },
   {
    "duration": 24,
    "start_time": "2022-01-11T22:02:00.626Z"
   },
   {
    "duration": 16,
    "start_time": "2022-01-11T22:02:00.652Z"
   },
   {
    "duration": 12,
    "start_time": "2022-01-11T22:02:00.670Z"
   },
   {
    "duration": 29,
    "start_time": "2022-01-11T22:02:00.684Z"
   },
   {
    "duration": 15,
    "start_time": "2022-01-11T22:02:00.715Z"
   },
   {
    "duration": 26,
    "start_time": "2022-01-11T22:02:00.732Z"
   },
   {
    "duration": 7,
    "start_time": "2022-01-11T22:02:00.760Z"
   },
   {
    "duration": 14,
    "start_time": "2022-01-11T22:02:00.769Z"
   },
   {
    "duration": 13,
    "start_time": "2022-01-11T22:02:00.784Z"
   },
   {
    "duration": 16,
    "start_time": "2022-01-11T22:02:00.798Z"
   },
   {
    "duration": 38,
    "start_time": "2022-01-11T22:02:00.816Z"
   },
   {
    "duration": 25,
    "start_time": "2022-01-11T22:02:00.856Z"
   },
   {
    "duration": 13,
    "start_time": "2022-01-11T22:02:00.883Z"
   },
   {
    "duration": 44,
    "start_time": "2022-01-11T22:02:00.898Z"
   },
   {
    "duration": 94,
    "start_time": "2022-01-11T22:02:00.944Z"
   },
   {
    "duration": 13,
    "start_time": "2022-01-11T22:02:01.040Z"
   },
   {
    "duration": 7,
    "start_time": "2022-01-11T22:02:01.055Z"
   },
   {
    "duration": 42,
    "start_time": "2022-01-11T22:02:01.064Z"
   },
   {
    "duration": 67,
    "start_time": "2022-01-11T22:02:01.109Z"
   },
   {
    "duration": 32,
    "start_time": "2022-01-11T22:02:01.179Z"
   },
   {
    "duration": 23,
    "start_time": "2022-01-11T22:02:01.213Z"
   },
   {
    "duration": 17,
    "start_time": "2022-01-11T22:02:01.238Z"
   },
   {
    "duration": 9,
    "start_time": "2022-01-11T22:02:01.257Z"
   },
   {
    "duration": 70,
    "start_time": "2022-01-11T22:02:01.268Z"
   },
   {
    "duration": 12,
    "start_time": "2022-01-11T22:02:01.340Z"
   },
   {
    "duration": 21,
    "start_time": "2022-01-11T22:02:01.354Z"
   },
   {
    "duration": 13,
    "start_time": "2022-01-11T22:02:01.377Z"
   },
   {
    "duration": 41,
    "start_time": "2022-01-11T22:02:01.392Z"
   },
   {
    "duration": 15,
    "start_time": "2022-01-11T22:02:01.435Z"
   },
   {
    "duration": 25,
    "start_time": "2022-01-11T22:02:01.452Z"
   },
   {
    "duration": 119,
    "start_time": "2022-01-11T22:02:01.479Z"
   },
   {
    "duration": 7,
    "start_time": "2022-01-11T22:02:01.600Z"
   },
   {
    "duration": 74,
    "start_time": "2022-01-11T22:02:01.609Z"
   },
   {
    "duration": 23,
    "start_time": "2022-01-11T22:02:01.685Z"
   },
   {
    "duration": 42,
    "start_time": "2022-01-11T22:02:01.710Z"
   },
   {
    "duration": 29,
    "start_time": "2022-01-11T22:02:01.754Z"
   },
   {
    "duration": 60,
    "start_time": "2022-01-11T22:02:01.784Z"
   },
   {
    "duration": 85,
    "start_time": "2022-01-11T22:02:01.846Z"
   },
   {
    "duration": 5,
    "start_time": "2022-01-11T22:02:01.933Z"
   },
   {
    "duration": 36,
    "start_time": "2022-01-11T22:02:01.940Z"
   },
   {
    "duration": 14,
    "start_time": "2022-01-11T22:02:01.978Z"
   },
   {
    "duration": 4,
    "start_time": "2022-01-11T22:02:01.994Z"
   },
   {
    "duration": 15,
    "start_time": "2022-01-11T22:02:02.000Z"
   },
   {
    "duration": 39,
    "start_time": "2022-01-11T22:02:02.017Z"
   },
   {
    "duration": 20,
    "start_time": "2022-01-11T22:02:02.057Z"
   },
   {
    "duration": 25,
    "start_time": "2022-01-11T22:02:02.079Z"
   },
   {
    "duration": 24,
    "start_time": "2022-01-11T22:02:02.106Z"
   },
   {
    "duration": 3,
    "start_time": "2022-01-11T22:02:02.135Z"
   },
   {
    "duration": 7,
    "start_time": "2022-01-11T22:02:02.140Z"
   },
   {
    "duration": 7,
    "start_time": "2022-01-11T22:02:02.148Z"
   },
   {
    "duration": 5,
    "start_time": "2022-01-11T22:02:02.156Z"
   },
   {
    "duration": 5,
    "start_time": "2022-01-11T22:02:02.162Z"
   },
   {
    "duration": 5,
    "start_time": "2022-01-11T22:02:02.168Z"
   },
   {
    "duration": 5,
    "start_time": "2022-01-11T22:02:02.175Z"
   },
   {
    "duration": 5,
    "start_time": "2022-01-11T22:02:02.181Z"
   },
   {
    "duration": 19,
    "start_time": "2022-01-11T22:02:56.391Z"
   },
   {
    "duration": 7,
    "start_time": "2022-01-11T22:05:47.985Z"
   },
   {
    "duration": 19,
    "start_time": "2022-01-11T22:05:50.354Z"
   },
   {
    "duration": 13,
    "start_time": "2022-01-11T22:08:14.870Z"
   },
   {
    "duration": 20,
    "start_time": "2022-01-11T22:08:17.044Z"
   },
   {
    "duration": 9,
    "start_time": "2022-01-11T22:09:19.654Z"
   },
   {
    "duration": 25,
    "start_time": "2022-01-11T22:09:22.320Z"
   },
   {
    "duration": 34,
    "start_time": "2022-01-11T22:09:40.395Z"
   },
   {
    "duration": 565,
    "start_time": "2022-01-11T22:19:12.797Z"
   },
   {
    "duration": 369,
    "start_time": "2022-01-11T22:20:01.645Z"
   },
   {
    "duration": 321,
    "start_time": "2022-01-11T22:20:26.464Z"
   },
   {
    "duration": 5,
    "start_time": "2022-01-11T22:22:03.301Z"
   },
   {
    "duration": 24,
    "start_time": "2022-01-11T22:22:10.248Z"
   },
   {
    "duration": 465,
    "start_time": "2022-01-11T22:22:46.041Z"
   },
   {
    "duration": 118,
    "start_time": "2022-01-11T22:23:25.675Z"
   },
   {
    "duration": 964,
    "start_time": "2022-01-11T22:26:22.884Z"
   },
   {
    "duration": 294,
    "start_time": "2022-01-11T22:26:23.850Z"
   },
   {
    "duration": 32,
    "start_time": "2022-01-11T22:26:24.145Z"
   },
   {
    "duration": 19,
    "start_time": "2022-01-11T22:26:24.179Z"
   },
   {
    "duration": 14,
    "start_time": "2022-01-11T22:26:24.200Z"
   },
   {
    "duration": 22,
    "start_time": "2022-01-11T22:26:24.216Z"
   },
   {
    "duration": 19,
    "start_time": "2022-01-11T22:26:24.240Z"
   },
   {
    "duration": 21,
    "start_time": "2022-01-11T22:26:24.262Z"
   },
   {
    "duration": 5,
    "start_time": "2022-01-11T22:26:24.285Z"
   },
   {
    "duration": 15,
    "start_time": "2022-01-11T22:26:24.291Z"
   },
   {
    "duration": 7,
    "start_time": "2022-01-11T22:26:24.307Z"
   },
   {
    "duration": 19,
    "start_time": "2022-01-11T22:26:24.315Z"
   },
   {
    "duration": 13,
    "start_time": "2022-01-11T22:26:24.336Z"
   },
   {
    "duration": 18,
    "start_time": "2022-01-11T22:26:24.351Z"
   },
   {
    "duration": 25,
    "start_time": "2022-01-11T22:26:24.371Z"
   },
   {
    "duration": 15,
    "start_time": "2022-01-11T22:26:24.398Z"
   },
   {
    "duration": 17,
    "start_time": "2022-01-11T22:26:24.414Z"
   },
   {
    "duration": 28,
    "start_time": "2022-01-11T22:26:24.433Z"
   },
   {
    "duration": 79,
    "start_time": "2022-01-11T22:26:24.462Z"
   },
   {
    "duration": 12,
    "start_time": "2022-01-11T22:26:24.543Z"
   },
   {
    "duration": 18,
    "start_time": "2022-01-11T22:26:24.556Z"
   },
   {
    "duration": 42,
    "start_time": "2022-01-11T22:26:24.575Z"
   },
   {
    "duration": 49,
    "start_time": "2022-01-11T22:26:24.621Z"
   },
   {
    "duration": 33,
    "start_time": "2022-01-11T22:26:24.673Z"
   },
   {
    "duration": 22,
    "start_time": "2022-01-11T22:26:24.708Z"
   },
   {
    "duration": 17,
    "start_time": "2022-01-11T22:26:24.731Z"
   },
   {
    "duration": 11,
    "start_time": "2022-01-11T22:26:24.749Z"
   },
   {
    "duration": 59,
    "start_time": "2022-01-11T22:26:24.762Z"
   },
   {
    "duration": 13,
    "start_time": "2022-01-11T22:26:24.822Z"
   },
   {
    "duration": 26,
    "start_time": "2022-01-11T22:26:24.837Z"
   },
   {
    "duration": 11,
    "start_time": "2022-01-11T22:26:24.865Z"
   },
   {
    "duration": 9,
    "start_time": "2022-01-11T22:26:24.878Z"
   },
   {
    "duration": 14,
    "start_time": "2022-01-11T22:26:24.888Z"
   },
   {
    "duration": 37,
    "start_time": "2022-01-11T22:26:24.904Z"
   },
   {
    "duration": 78,
    "start_time": "2022-01-11T22:26:24.942Z"
   },
   {
    "duration": 10,
    "start_time": "2022-01-11T22:26:25.031Z"
   },
   {
    "duration": 66,
    "start_time": "2022-01-11T22:26:25.043Z"
   },
   {
    "duration": 29,
    "start_time": "2022-01-11T22:26:25.111Z"
   },
   {
    "duration": 21,
    "start_time": "2022-01-11T22:26:25.142Z"
   },
   {
    "duration": 28,
    "start_time": "2022-01-11T22:26:25.165Z"
   },
   {
    "duration": 49,
    "start_time": "2022-01-11T22:26:25.194Z"
   },
   {
    "duration": 67,
    "start_time": "2022-01-11T22:26:25.245Z"
   },
   {
    "duration": 16,
    "start_time": "2022-01-11T22:26:25.314Z"
   },
   {
    "duration": 28,
    "start_time": "2022-01-11T22:26:25.332Z"
   },
   {
    "duration": 23,
    "start_time": "2022-01-11T22:26:25.362Z"
   },
   {
    "duration": 13,
    "start_time": "2022-01-11T22:26:25.386Z"
   },
   {
    "duration": 20,
    "start_time": "2022-01-11T22:26:25.401Z"
   },
   {
    "duration": 26,
    "start_time": "2022-01-11T22:26:25.422Z"
   },
   {
    "duration": 20,
    "start_time": "2022-01-11T22:26:25.449Z"
   },
   {
    "duration": 8,
    "start_time": "2022-01-11T22:26:25.471Z"
   },
   {
    "duration": 18,
    "start_time": "2022-01-11T22:26:25.481Z"
   },
   {
    "duration": 48,
    "start_time": "2022-01-11T22:26:25.501Z"
   },
   {
    "duration": 93,
    "start_time": "2022-01-11T22:26:25.550Z"
   },
   {
    "duration": 127,
    "start_time": "2022-01-11T22:26:25.645Z"
   },
   {
    "duration": 2,
    "start_time": "2022-01-11T22:26:25.774Z"
   },
   {
    "duration": 9,
    "start_time": "2022-01-11T22:26:25.777Z"
   },
   {
    "duration": 9,
    "start_time": "2022-01-11T22:26:25.787Z"
   },
   {
    "duration": 5,
    "start_time": "2022-01-11T22:26:25.797Z"
   },
   {
    "duration": 5,
    "start_time": "2022-01-11T22:26:25.803Z"
   },
   {
    "duration": 5,
    "start_time": "2022-01-11T22:26:25.809Z"
   },
   {
    "duration": 5,
    "start_time": "2022-01-11T22:26:25.815Z"
   },
   {
    "duration": 4,
    "start_time": "2022-01-11T22:26:25.821Z"
   },
   {
    "duration": 20,
    "start_time": "2022-01-11T22:27:20.281Z"
   },
   {
    "duration": 22,
    "start_time": "2022-01-11T22:27:58.578Z"
   },
   {
    "duration": 16,
    "start_time": "2022-01-11T22:28:04.765Z"
   },
   {
    "duration": 140,
    "start_time": "2022-01-11T22:28:12.827Z"
   },
   {
    "duration": 782,
    "start_time": "2022-01-11T22:31:08.802Z"
   },
   {
    "duration": 260,
    "start_time": "2022-01-11T22:31:21.327Z"
   },
   {
    "duration": 164,
    "start_time": "2022-01-11T22:31:40.741Z"
   },
   {
    "duration": 205,
    "start_time": "2022-01-11T22:50:06.406Z"
   },
   {
    "duration": 164,
    "start_time": "2022-01-11T22:51:13.440Z"
   },
   {
    "duration": 188,
    "start_time": "2022-01-11T22:51:21.321Z"
   },
   {
    "duration": 194,
    "start_time": "2022-01-11T22:51:29.480Z"
   },
   {
    "duration": 192,
    "start_time": "2022-01-11T22:51:34.155Z"
   },
   {
    "duration": 404,
    "start_time": "2022-01-11T22:52:34.040Z"
   },
   {
    "duration": 291,
    "start_time": "2022-01-11T22:52:50.462Z"
   },
   {
    "duration": 491,
    "start_time": "2022-01-11T22:53:51.541Z"
   },
   {
    "duration": 8,
    "start_time": "2022-01-11T22:54:03.810Z"
   },
   {
    "duration": 287,
    "start_time": "2022-01-11T22:54:41.100Z"
   },
   {
    "duration": 465,
    "start_time": "2022-01-11T22:58:09.680Z"
   },
   {
    "duration": 746,
    "start_time": "2022-01-11T22:58:15.165Z"
   },
   {
    "duration": 1411,
    "start_time": "2022-01-11T22:58:51.797Z"
   },
   {
    "duration": 814,
    "start_time": "2022-01-11T22:59:52.754Z"
   },
   {
    "duration": 193,
    "start_time": "2022-01-11T23:00:39.978Z"
   },
   {
    "duration": 185,
    "start_time": "2022-01-11T23:00:46.983Z"
   },
   {
    "duration": 610,
    "start_time": "2022-01-11T23:01:07.293Z"
   },
   {
    "duration": 184,
    "start_time": "2022-01-11T23:01:23.897Z"
   },
   {
    "duration": 401,
    "start_time": "2022-01-11T23:04:03.749Z"
   },
   {
    "duration": 396,
    "start_time": "2022-01-11T23:04:17.866Z"
   },
   {
    "duration": 175,
    "start_time": "2022-01-11T23:04:21.518Z"
   },
   {
    "duration": 9,
    "start_time": "2022-01-11T23:06:26.461Z"
   },
   {
    "duration": 7,
    "start_time": "2022-01-11T23:06:34.635Z"
   },
   {
    "duration": 343,
    "start_time": "2022-01-11T23:07:13.613Z"
   },
   {
    "duration": 8,
    "start_time": "2022-01-11T23:07:43.696Z"
   },
   {
    "duration": 6,
    "start_time": "2022-01-11T23:07:55.388Z"
   },
   {
    "duration": 6,
    "start_time": "2022-01-11T23:08:19.924Z"
   },
   {
    "duration": 6,
    "start_time": "2022-01-11T23:08:22.579Z"
   },
   {
    "duration": 8,
    "start_time": "2022-01-11T23:08:35.786Z"
   },
   {
    "duration": 2,
    "start_time": "2022-01-11T23:08:38.688Z"
   },
   {
    "duration": 8,
    "start_time": "2022-01-11T23:08:41.744Z"
   },
   {
    "duration": 3,
    "start_time": "2022-01-11T23:08:44.343Z"
   },
   {
    "duration": 285,
    "start_time": "2022-01-11T23:09:59.494Z"
   },
   {
    "duration": 169,
    "start_time": "2022-01-11T23:12:01.380Z"
   },
   {
    "duration": 7,
    "start_time": "2022-01-11T23:14:16.306Z"
   },
   {
    "duration": 4188,
    "start_time": "2022-01-11T23:14:49.905Z"
   },
   {
    "duration": -122,
    "start_time": "2022-01-11T23:14:54.217Z"
   },
   {
    "duration": 8,
    "start_time": "2022-01-11T23:15:11.978Z"
   },
   {
    "duration": 8,
    "start_time": "2022-01-11T23:15:16.401Z"
   },
   {
    "duration": 6170,
    "start_time": "2022-01-11T23:18:29.106Z"
   },
   {
    "duration": 170,
    "start_time": "2022-01-11T23:18:48.515Z"
   },
   {
    "duration": 187,
    "start_time": "2022-01-11T23:19:59.048Z"
   },
   {
    "duration": 175,
    "start_time": "2022-01-11T23:21:53.605Z"
   },
   {
    "duration": 160,
    "start_time": "2022-01-11T23:22:08.142Z"
   },
   {
    "duration": 175,
    "start_time": "2022-01-11T23:22:45.191Z"
   },
   {
    "duration": 480,
    "start_time": "2022-01-11T23:24:22.842Z"
   },
   {
    "duration": 3,
    "start_time": "2022-01-11T23:24:56.218Z"
   },
   {
    "duration": 461,
    "start_time": "2022-01-11T23:25:39.379Z"
   },
   {
    "duration": 3,
    "start_time": "2022-01-11T23:26:02.046Z"
   },
   {
    "duration": 3694,
    "start_time": "2022-01-11T23:26:03.860Z"
   },
   {
    "duration": 1050,
    "start_time": "2022-01-11T23:26:38.732Z"
   },
   {
    "duration": 173,
    "start_time": "2022-01-11T23:26:55.704Z"
   },
   {
    "duration": 8405,
    "start_time": "2022-01-11T23:27:12.487Z"
   },
   {
    "duration": 163,
    "start_time": "2022-01-11T23:27:36.025Z"
   },
   {
    "duration": 1566,
    "start_time": "2022-01-11T23:28:18.320Z"
   },
   {
    "duration": 287,
    "start_time": "2022-01-11T23:28:29.952Z"
   },
   {
    "duration": 724,
    "start_time": "2022-01-11T23:29:49.027Z"
   },
   {
    "duration": 713,
    "start_time": "2022-01-11T23:29:52.544Z"
   },
   {
    "duration": 214,
    "start_time": "2022-01-11T23:29:58.245Z"
   },
   {
    "duration": 359,
    "start_time": "2022-01-11T23:30:35.911Z"
   },
   {
    "duration": 338,
    "start_time": "2022-01-11T23:30:46.600Z"
   },
   {
    "duration": 326,
    "start_time": "2022-01-11T23:47:40.142Z"
   },
   {
    "duration": 3,
    "start_time": "2022-01-11T23:47:47.272Z"
   },
   {
    "duration": 8,
    "start_time": "2022-01-11T23:47:48.840Z"
   },
   {
    "duration": 7,
    "start_time": "2022-01-11T23:47:51.102Z"
   },
   {
    "duration": 274,
    "start_time": "2022-01-11T23:47:53.478Z"
   },
   {
    "duration": 346,
    "start_time": "2022-01-11T23:47:59.100Z"
   },
   {
    "duration": 273,
    "start_time": "2022-01-11T23:48:06.057Z"
   },
   {
    "duration": 204,
    "start_time": "2022-01-11T23:48:13.139Z"
   },
   {
    "duration": 3,
    "start_time": "2022-01-12T00:13:24.316Z"
   },
   {
    "duration": 8,
    "start_time": "2022-01-12T00:13:26.074Z"
   },
   {
    "duration": 7,
    "start_time": "2022-01-12T00:13:29.278Z"
   },
   {
    "duration": 279,
    "start_time": "2022-01-12T00:13:32.853Z"
   },
   {
    "duration": 370,
    "start_time": "2022-01-12T00:13:36.052Z"
   },
   {
    "duration": 227,
    "start_time": "2022-01-12T00:13:48.707Z"
   },
   {
    "duration": 2,
    "start_time": "2022-01-12T00:18:34.172Z"
   },
   {
    "duration": 3,
    "start_time": "2022-01-12T00:18:41.665Z"
   },
   {
    "duration": 3,
    "start_time": "2022-01-12T00:19:07.050Z"
   },
   {
    "duration": 8390,
    "start_time": "2022-01-12T00:24:47.250Z"
   },
   {
    "duration": 4,
    "start_time": "2022-01-12T00:26:38.121Z"
   },
   {
    "duration": 35,
    "start_time": "2022-01-12T00:27:05.534Z"
   },
   {
    "duration": 7,
    "start_time": "2022-01-12T00:27:23.951Z"
   },
   {
    "duration": 344,
    "start_time": "2022-01-12T00:27:39.758Z"
   },
   {
    "duration": 7,
    "start_time": "2022-01-12T00:27:52.237Z"
   },
   {
    "duration": 7,
    "start_time": "2022-01-12T00:27:55.246Z"
   },
   {
    "duration": 972,
    "start_time": "2022-01-12T00:34:01.242Z"
   },
   {
    "duration": 291,
    "start_time": "2022-01-12T00:34:02.216Z"
   },
   {
    "duration": 29,
    "start_time": "2022-01-12T00:34:02.509Z"
   },
   {
    "duration": 7,
    "start_time": "2022-01-12T00:34:02.540Z"
   },
   {
    "duration": 8,
    "start_time": "2022-01-12T00:34:02.549Z"
   },
   {
    "duration": 13,
    "start_time": "2022-01-12T00:34:02.558Z"
   },
   {
    "duration": 5,
    "start_time": "2022-01-12T00:34:02.572Z"
   },
   {
    "duration": 15,
    "start_time": "2022-01-12T00:34:02.579Z"
   },
   {
    "duration": 6,
    "start_time": "2022-01-12T00:34:02.596Z"
   },
   {
    "duration": 29,
    "start_time": "2022-01-12T00:34:02.603Z"
   },
   {
    "duration": 5,
    "start_time": "2022-01-12T00:34:02.633Z"
   },
   {
    "duration": 13,
    "start_time": "2022-01-12T00:34:02.639Z"
   },
   {
    "duration": 7,
    "start_time": "2022-01-12T00:34:02.654Z"
   },
   {
    "duration": 14,
    "start_time": "2022-01-12T00:34:02.663Z"
   },
   {
    "duration": 21,
    "start_time": "2022-01-12T00:34:02.679Z"
   },
   {
    "duration": 37,
    "start_time": "2022-01-12T00:34:02.702Z"
   },
   {
    "duration": 9,
    "start_time": "2022-01-12T00:34:02.741Z"
   },
   {
    "duration": 20,
    "start_time": "2022-01-12T00:34:02.751Z"
   },
   {
    "duration": 85,
    "start_time": "2022-01-12T00:34:02.773Z"
   },
   {
    "duration": 10,
    "start_time": "2022-01-12T00:34:02.860Z"
   },
   {
    "duration": 6,
    "start_time": "2022-01-12T00:34:02.871Z"
   },
   {
    "duration": 50,
    "start_time": "2022-01-12T00:34:02.878Z"
   },
   {
    "duration": 39,
    "start_time": "2022-01-12T00:34:02.932Z"
   },
   {
    "duration": 29,
    "start_time": "2022-01-12T00:34:02.974Z"
   },
   {
    "duration": 30,
    "start_time": "2022-01-12T00:34:03.004Z"
   },
   {
    "duration": 10,
    "start_time": "2022-01-12T00:34:03.035Z"
   },
   {
    "duration": 7,
    "start_time": "2022-01-12T00:34:03.046Z"
   },
   {
    "duration": 51,
    "start_time": "2022-01-12T00:34:03.055Z"
   },
   {
    "duration": 26,
    "start_time": "2022-01-12T00:34:03.107Z"
   },
   {
    "duration": 19,
    "start_time": "2022-01-12T00:34:03.134Z"
   },
   {
    "duration": 11,
    "start_time": "2022-01-12T00:34:03.154Z"
   },
   {
    "duration": 9,
    "start_time": "2022-01-12T00:34:03.167Z"
   },
   {
    "duration": 12,
    "start_time": "2022-01-12T00:34:03.177Z"
   },
   {
    "duration": 47,
    "start_time": "2022-01-12T00:34:03.191Z"
   },
   {
    "duration": 88,
    "start_time": "2022-01-12T00:34:03.240Z"
   },
   {
    "duration": 8,
    "start_time": "2022-01-12T00:34:03.329Z"
   },
   {
    "duration": 61,
    "start_time": "2022-01-12T00:34:03.338Z"
   },
   {
    "duration": 39,
    "start_time": "2022-01-12T00:34:03.400Z"
   },
   {
    "duration": 23,
    "start_time": "2022-01-12T00:34:03.441Z"
   },
   {
    "duration": 27,
    "start_time": "2022-01-12T00:34:03.466Z"
   },
   {
    "duration": 49,
    "start_time": "2022-01-12T00:34:03.495Z"
   },
   {
    "duration": 82,
    "start_time": "2022-01-12T00:34:03.546Z"
   },
   {
    "duration": 5,
    "start_time": "2022-01-12T00:34:03.630Z"
   },
   {
    "duration": 22,
    "start_time": "2022-01-12T00:34:03.636Z"
   },
   {
    "duration": 15,
    "start_time": "2022-01-12T00:34:03.659Z"
   },
   {
    "duration": 2,
    "start_time": "2022-01-12T00:34:03.676Z"
   },
   {
    "duration": 8,
    "start_time": "2022-01-12T00:34:03.680Z"
   },
   {
    "duration": 49,
    "start_time": "2022-01-12T00:34:03.690Z"
   },
   {
    "duration": 14,
    "start_time": "2022-01-12T00:34:03.740Z"
   },
   {
    "duration": 9,
    "start_time": "2022-01-12T00:34:03.756Z"
   },
   {
    "duration": 8,
    "start_time": "2022-01-12T00:34:03.767Z"
   },
   {
    "duration": 52,
    "start_time": "2022-01-12T00:34:03.777Z"
   },
   {
    "duration": 21,
    "start_time": "2022-01-12T00:34:03.831Z"
   },
   {
    "duration": 90,
    "start_time": "2022-01-12T00:34:03.853Z"
   },
   {
    "duration": 297,
    "start_time": "2022-01-12T00:34:03.945Z"
   },
   {
    "duration": 298,
    "start_time": "2022-01-12T00:34:04.244Z"
   },
   {
    "duration": 8,
    "start_time": "2022-01-12T00:34:04.544Z"
   },
   {
    "duration": 7,
    "start_time": "2022-01-12T00:34:04.554Z"
   },
   {
    "duration": 8,
    "start_time": "2022-01-12T00:34:04.562Z"
   },
   {
    "duration": 2,
    "start_time": "2022-01-12T00:34:04.572Z"
   },
   {
    "duration": 240,
    "start_time": "2022-01-12T00:34:04.576Z"
   },
   {
    "duration": 9,
    "start_time": "2022-01-12T00:34:04.818Z"
   },
   {
    "duration": 10,
    "start_time": "2022-01-12T00:34:04.829Z"
   },
   {
    "duration": 7,
    "start_time": "2022-01-12T00:34:04.840Z"
   },
   {
    "duration": 349,
    "start_time": "2022-01-12T00:34:04.849Z"
   },
   {
    "duration": 281,
    "start_time": "2022-01-12T00:34:05.200Z"
   },
   {
    "duration": 214,
    "start_time": "2022-01-12T00:34:05.483Z"
   },
   {
    "duration": 3,
    "start_time": "2022-01-12T00:34:05.702Z"
   },
   {
    "duration": 21,
    "start_time": "2022-01-12T00:34:05.707Z"
   },
   {
    "duration": 3,
    "start_time": "2022-01-12T00:34:05.730Z"
   },
   {
    "duration": 8,
    "start_time": "2022-01-12T00:34:05.734Z"
   },
   {
    "duration": 3,
    "start_time": "2022-01-12T00:34:05.744Z"
   },
   {
    "duration": 298,
    "start_time": "2022-01-12T00:34:05.749Z"
   },
   {
    "duration": 275,
    "start_time": "2022-01-12T00:34:06.049Z"
   },
   {
    "duration": 229,
    "start_time": "2022-01-12T00:34:06.326Z"
   },
   {
    "duration": 4,
    "start_time": "2022-01-12T00:34:06.557Z"
   },
   {
    "duration": 6,
    "start_time": "2022-01-12T00:34:06.562Z"
   },
   {
    "duration": 8,
    "start_time": "2022-01-12T00:34:06.570Z"
   },
   {
    "duration": 6,
    "start_time": "2022-01-12T00:34:06.579Z"
   },
   {
    "duration": 845,
    "start_time": "2022-01-12T00:34:06.587Z"
   },
   {
    "duration": 2,
    "start_time": "2022-01-12T00:34:07.434Z"
   },
   {
    "duration": 6,
    "start_time": "2022-01-12T00:34:07.438Z"
   },
   {
    "duration": 21,
    "start_time": "2022-01-12T00:34:25.460Z"
   },
   {
    "duration": 20,
    "start_time": "2022-01-12T00:34:37.472Z"
   },
   {
    "duration": 272,
    "start_time": "2022-01-12T00:35:23.978Z"
   },
   {
    "duration": 268,
    "start_time": "2022-01-12T00:35:51.144Z"
   },
   {
    "duration": 204,
    "start_time": "2022-01-12T00:36:19.283Z"
   },
   {
    "duration": 3,
    "start_time": "2022-01-12T00:42:23.840Z"
   },
   {
    "duration": 5,
    "start_time": "2022-01-12T00:49:52.721Z"
   },
   {
    "duration": 5,
    "start_time": "2022-01-12T00:52:45.100Z"
   },
   {
    "duration": 836,
    "start_time": "2022-01-12T00:58:48.994Z"
   },
   {
    "duration": 4,
    "start_time": "2022-01-12T00:58:55.849Z"
   },
   {
    "duration": 10,
    "start_time": "2022-01-12T00:59:05.012Z"
   },
   {
    "duration": 408,
    "start_time": "2022-01-12T00:59:23.389Z"
   },
   {
    "duration": 330,
    "start_time": "2022-01-12T00:59:32.440Z"
   },
   {
    "duration": 4,
    "start_time": "2022-01-12T01:00:05.014Z"
   },
   {
    "duration": 355,
    "start_time": "2022-01-12T01:00:11.696Z"
   },
   {
    "duration": 10,
    "start_time": "2022-01-12T01:00:21.118Z"
   },
   {
    "duration": 10,
    "start_time": "2022-01-12T01:01:25.231Z"
   },
   {
    "duration": 23,
    "start_time": "2022-01-12T01:01:41.551Z"
   },
   {
    "duration": 30,
    "start_time": "2022-01-12T01:03:24.077Z"
   },
   {
    "duration": 21,
    "start_time": "2022-01-12T01:05:04.001Z"
   },
   {
    "duration": 5,
    "start_time": "2022-01-12T01:05:22.308Z"
   },
   {
    "duration": 894,
    "start_time": "2022-01-12T01:19:07.255Z"
   },
   {
    "duration": 277,
    "start_time": "2022-01-12T01:19:08.151Z"
   },
   {
    "duration": 29,
    "start_time": "2022-01-12T01:19:08.429Z"
   },
   {
    "duration": 7,
    "start_time": "2022-01-12T01:19:08.460Z"
   },
   {
    "duration": 8,
    "start_time": "2022-01-12T01:19:08.469Z"
   },
   {
    "duration": 15,
    "start_time": "2022-01-12T01:19:08.478Z"
   },
   {
    "duration": 5,
    "start_time": "2022-01-12T01:19:08.495Z"
   },
   {
    "duration": 35,
    "start_time": "2022-01-12T01:19:08.502Z"
   },
   {
    "duration": 10,
    "start_time": "2022-01-12T01:19:08.539Z"
   },
   {
    "duration": 12,
    "start_time": "2022-01-12T01:19:08.550Z"
   },
   {
    "duration": 4,
    "start_time": "2022-01-12T01:19:08.563Z"
   },
   {
    "duration": 13,
    "start_time": "2022-01-12T01:19:08.568Z"
   },
   {
    "duration": 6,
    "start_time": "2022-01-12T01:19:08.582Z"
   },
   {
    "duration": 24,
    "start_time": "2022-01-12T01:19:08.590Z"
   },
   {
    "duration": 23,
    "start_time": "2022-01-12T01:19:08.627Z"
   },
   {
    "duration": 14,
    "start_time": "2022-01-12T01:19:08.651Z"
   },
   {
    "duration": 22,
    "start_time": "2022-01-12T01:19:08.666Z"
   },
   {
    "duration": 28,
    "start_time": "2022-01-12T01:19:08.690Z"
   },
   {
    "duration": 72,
    "start_time": "2022-01-12T01:19:08.720Z"
   },
   {
    "duration": 11,
    "start_time": "2022-01-12T01:19:08.794Z"
   },
   {
    "duration": 20,
    "start_time": "2022-01-12T01:19:08.807Z"
   },
   {
    "duration": 47,
    "start_time": "2022-01-12T01:19:08.828Z"
   },
   {
    "duration": 39,
    "start_time": "2022-01-12T01:19:08.878Z"
   },
   {
    "duration": 32,
    "start_time": "2022-01-12T01:19:08.919Z"
   },
   {
    "duration": 10,
    "start_time": "2022-01-12T01:19:08.952Z"
   },
   {
    "duration": 12,
    "start_time": "2022-01-12T01:19:08.963Z"
   },
   {
    "duration": 9,
    "start_time": "2022-01-12T01:19:08.976Z"
   },
   {
    "duration": 66,
    "start_time": "2022-01-12T01:19:08.987Z"
   },
   {
    "duration": 10,
    "start_time": "2022-01-12T01:19:09.054Z"
   },
   {
    "duration": 22,
    "start_time": "2022-01-12T01:19:09.065Z"
   },
   {
    "duration": 12,
    "start_time": "2022-01-12T01:19:09.088Z"
   },
   {
    "duration": 29,
    "start_time": "2022-01-12T01:19:09.102Z"
   },
   {
    "duration": 12,
    "start_time": "2022-01-12T01:19:09.132Z"
   },
   {
    "duration": 15,
    "start_time": "2022-01-12T01:19:09.146Z"
   },
   {
    "duration": 100,
    "start_time": "2022-01-12T01:19:09.162Z"
   },
   {
    "duration": 9,
    "start_time": "2022-01-12T01:19:09.265Z"
   },
   {
    "duration": 69,
    "start_time": "2022-01-12T01:19:09.276Z"
   },
   {
    "duration": 20,
    "start_time": "2022-01-12T01:19:09.347Z"
   },
   {
    "duration": 22,
    "start_time": "2022-01-12T01:19:09.369Z"
   },
   {
    "duration": 48,
    "start_time": "2022-01-12T01:19:09.393Z"
   },
   {
    "duration": 28,
    "start_time": "2022-01-12T01:19:09.442Z"
   },
   {
    "duration": 84,
    "start_time": "2022-01-12T01:19:09.471Z"
   },
   {
    "duration": 4,
    "start_time": "2022-01-12T01:19:09.556Z"
   },
   {
    "duration": 22,
    "start_time": "2022-01-12T01:19:09.562Z"
   },
   {
    "duration": 13,
    "start_time": "2022-01-12T01:19:09.586Z"
   },
   {
    "duration": 4,
    "start_time": "2022-01-12T01:19:09.601Z"
   },
   {
    "duration": 7,
    "start_time": "2022-01-12T01:19:09.627Z"
   },
   {
    "duration": 17,
    "start_time": "2022-01-12T01:19:09.635Z"
   },
   {
    "duration": 14,
    "start_time": "2022-01-12T01:19:09.653Z"
   },
   {
    "duration": 8,
    "start_time": "2022-01-12T01:19:09.668Z"
   },
   {
    "duration": 9,
    "start_time": "2022-01-12T01:19:09.678Z"
   },
   {
    "duration": 49,
    "start_time": "2022-01-12T01:19:09.689Z"
   },
   {
    "duration": 21,
    "start_time": "2022-01-12T01:19:09.739Z"
   },
   {
    "duration": 84,
    "start_time": "2022-01-12T01:19:09.762Z"
   },
   {
    "duration": 294,
    "start_time": "2022-01-12T01:19:09.847Z"
   },
   {
    "duration": 279,
    "start_time": "2022-01-12T01:19:10.143Z"
   },
   {
    "duration": 9,
    "start_time": "2022-01-12T01:19:10.423Z"
   },
   {
    "duration": 4,
    "start_time": "2022-01-12T01:19:10.433Z"
   },
   {
    "duration": 8,
    "start_time": "2022-01-12T01:19:10.438Z"
   },
   {
    "duration": 1,
    "start_time": "2022-01-12T01:19:10.448Z"
   },
   {
    "duration": 240,
    "start_time": "2022-01-12T01:19:10.451Z"
   },
   {
    "duration": 3,
    "start_time": "2022-01-12T01:19:10.692Z"
   },
   {
    "duration": 16,
    "start_time": "2022-01-12T01:19:10.696Z"
   },
   {
    "duration": 15,
    "start_time": "2022-01-12T01:19:10.713Z"
   },
   {
    "duration": 334,
    "start_time": "2022-01-12T01:19:10.729Z"
   },
   {
    "duration": 278,
    "start_time": "2022-01-12T01:19:11.065Z"
   },
   {
    "duration": 213,
    "start_time": "2022-01-12T01:19:11.344Z"
   },
   {
    "duration": 3,
    "start_time": "2022-01-12T01:19:11.562Z"
   },
   {
    "duration": 9,
    "start_time": "2022-01-12T01:19:11.566Z"
   },
   {
    "duration": 3,
    "start_time": "2022-01-12T01:19:11.576Z"
   },
   {
    "duration": 8,
    "start_time": "2022-01-12T01:19:11.580Z"
   },
   {
    "duration": 2,
    "start_time": "2022-01-12T01:19:11.589Z"
   },
   {
    "duration": 305,
    "start_time": "2022-01-12T01:19:11.593Z"
   },
   {
    "duration": 275,
    "start_time": "2022-01-12T01:19:11.899Z"
   },
   {
    "duration": 226,
    "start_time": "2022-01-12T01:19:12.175Z"
   },
   {
    "duration": 26,
    "start_time": "2022-01-12T01:19:12.402Z"
   },
   {
    "duration": 21,
    "start_time": "2022-01-12T01:19:12.429Z"
   },
   {
    "duration": 8,
    "start_time": "2022-01-12T01:19:12.451Z"
   },
   {
    "duration": 5,
    "start_time": "2022-01-12T01:19:12.460Z"
   },
   {
    "duration": 7,
    "start_time": "2022-01-12T01:19:12.466Z"
   },
   {
    "duration": 288,
    "start_time": "2022-01-12T01:19:12.474Z"
   },
   {
    "duration": 361,
    "start_time": "2022-01-12T01:19:12.763Z"
   },
   {
    "duration": 217,
    "start_time": "2022-01-12T01:19:13.126Z"
   },
   {
    "duration": 5,
    "start_time": "2022-01-12T01:19:13.345Z"
   },
   {
    "duration": 24,
    "start_time": "2022-01-12T01:19:13.351Z"
   },
   {
    "duration": 23,
    "start_time": "2022-01-12T01:19:13.376Z"
   },
   {
    "duration": 39,
    "start_time": "2022-01-12T01:19:13.400Z"
   },
   {
    "duration": 5,
    "start_time": "2022-01-12T01:19:13.440Z"
   },
   {
    "duration": 480,
    "start_time": "2022-01-12T12:12:34.351Z"
   },
   {
    "duration": 349,
    "start_time": "2022-01-12T12:13:01.555Z"
   },
   {
    "duration": 1332,
    "start_time": "2022-01-12T12:14:13.161Z"
   },
   {
    "duration": 1063,
    "start_time": "2022-01-12T12:14:14.496Z"
   },
   {
    "duration": 49,
    "start_time": "2022-01-12T12:14:15.563Z"
   },
   {
    "duration": 12,
    "start_time": "2022-01-12T12:14:15.615Z"
   },
   {
    "duration": 12,
    "start_time": "2022-01-12T12:14:15.629Z"
   },
   {
    "duration": 21,
    "start_time": "2022-01-12T12:14:15.643Z"
   },
   {
    "duration": 8,
    "start_time": "2022-01-12T12:14:15.666Z"
   },
   {
    "duration": 57,
    "start_time": "2022-01-12T12:14:15.678Z"
   },
   {
    "duration": 8,
    "start_time": "2022-01-12T12:14:15.738Z"
   },
   {
    "duration": 21,
    "start_time": "2022-01-12T12:14:15.748Z"
   },
   {
    "duration": 5,
    "start_time": "2022-01-12T12:14:15.771Z"
   },
   {
    "duration": 58,
    "start_time": "2022-01-12T12:14:15.779Z"
   },
   {
    "duration": 8,
    "start_time": "2022-01-12T12:14:15.840Z"
   },
   {
    "duration": 25,
    "start_time": "2022-01-12T12:14:15.850Z"
   },
   {
    "duration": 56,
    "start_time": "2022-01-12T12:14:15.877Z"
   },
   {
    "duration": 21,
    "start_time": "2022-01-12T12:14:15.935Z"
   },
   {
    "duration": 18,
    "start_time": "2022-01-12T12:14:15.958Z"
   },
   {
    "duration": 64,
    "start_time": "2022-01-12T12:14:15.978Z"
   },
   {
    "duration": 127,
    "start_time": "2022-01-12T12:14:16.045Z"
   },
   {
    "duration": 20,
    "start_time": "2022-01-12T12:14:16.174Z"
   },
   {
    "duration": 7,
    "start_time": "2022-01-12T12:14:16.196Z"
   },
   {
    "duration": 68,
    "start_time": "2022-01-12T12:14:16.205Z"
   },
   {
    "duration": 77,
    "start_time": "2022-01-12T12:14:16.279Z"
   },
   {
    "duration": 44,
    "start_time": "2022-01-12T12:14:16.360Z"
   },
   {
    "duration": 32,
    "start_time": "2022-01-12T12:14:16.406Z"
   },
   {
    "duration": 14,
    "start_time": "2022-01-12T12:14:16.440Z"
   },
   {
    "duration": 13,
    "start_time": "2022-01-12T12:14:16.457Z"
   },
   {
    "duration": 108,
    "start_time": "2022-01-12T12:14:16.473Z"
   },
   {
    "duration": 16,
    "start_time": "2022-01-12T12:14:16.584Z"
   },
   {
    "duration": 44,
    "start_time": "2022-01-12T12:14:16.602Z"
   },
   {
    "duration": 17,
    "start_time": "2022-01-12T12:14:16.648Z"
   },
   {
    "duration": 15,
    "start_time": "2022-01-12T12:14:16.668Z"
   },
   {
    "duration": 51,
    "start_time": "2022-01-12T12:14:16.685Z"
   },
   {
    "duration": 24,
    "start_time": "2022-01-12T12:14:16.739Z"
   },
   {
    "duration": 141,
    "start_time": "2022-01-12T12:14:16.765Z"
   },
   {
    "duration": 21,
    "start_time": "2022-01-12T12:14:16.908Z"
   },
   {
    "duration": 96,
    "start_time": "2022-01-12T12:14:16.931Z"
   },
   {
    "duration": 33,
    "start_time": "2022-01-12T12:14:17.030Z"
   },
   {
    "duration": 66,
    "start_time": "2022-01-12T12:14:17.065Z"
   },
   {
    "duration": 42,
    "start_time": "2022-01-12T12:14:17.134Z"
   },
   {
    "duration": 68,
    "start_time": "2022-01-12T12:14:17.179Z"
   },
   {
    "duration": 103,
    "start_time": "2022-01-12T12:14:17.250Z"
   },
   {
    "duration": 7,
    "start_time": "2022-01-12T12:14:17.357Z"
   },
   {
    "duration": 62,
    "start_time": "2022-01-12T12:14:17.367Z"
   },
   {
    "duration": 25,
    "start_time": "2022-01-12T12:14:17.432Z"
   },
   {
    "duration": 4,
    "start_time": "2022-01-12T12:14:17.460Z"
   },
   {
    "duration": 15,
    "start_time": "2022-01-12T12:14:17.467Z"
   },
   {
    "duration": 63,
    "start_time": "2022-01-12T12:14:17.484Z"
   },
   {
    "duration": 25,
    "start_time": "2022-01-12T12:14:17.549Z"
   },
   {
    "duration": 14,
    "start_time": "2022-01-12T12:14:17.576Z"
   },
   {
    "duration": 41,
    "start_time": "2022-01-12T12:14:17.593Z"
   },
   {
    "duration": 49,
    "start_time": "2022-01-12T12:14:17.636Z"
   },
   {
    "duration": 53,
    "start_time": "2022-01-12T12:14:17.688Z"
   },
   {
    "duration": 35,
    "start_time": "2022-01-12T12:14:17.743Z"
   },
   {
    "duration": 155,
    "start_time": "2022-01-12T12:14:17.780Z"
   },
   {
    "duration": 553,
    "start_time": "2022-01-12T12:14:17.937Z"
   },
   {
    "duration": 530,
    "start_time": "2022-01-12T12:14:18.493Z"
   },
   {
    "duration": 11,
    "start_time": "2022-01-12T12:14:19.025Z"
   },
   {
    "duration": 3,
    "start_time": "2022-01-12T12:14:19.038Z"
   },
   {
    "duration": 10,
    "start_time": "2022-01-12T12:14:19.043Z"
   },
   {
    "duration": 4,
    "start_time": "2022-01-12T12:14:19.055Z"
   },
   {
    "duration": 426,
    "start_time": "2022-01-12T12:14:19.061Z"
   },
   {
    "duration": 4,
    "start_time": "2022-01-12T12:14:19.489Z"
   },
   {
    "duration": 30,
    "start_time": "2022-01-12T12:14:19.495Z"
   },
   {
    "duration": 10,
    "start_time": "2022-01-12T12:14:19.528Z"
   },
   {
    "duration": 576,
    "start_time": "2022-01-12T12:14:19.541Z"
   },
   {
    "duration": 520,
    "start_time": "2022-01-12T12:14:20.124Z"
   },
   {
    "duration": 397,
    "start_time": "2022-01-12T12:14:20.652Z"
   },
   {
    "duration": 3,
    "start_time": "2022-01-12T12:14:21.053Z"
   },
   {
    "duration": 11,
    "start_time": "2022-01-12T12:14:21.059Z"
   },
   {
    "duration": 4,
    "start_time": "2022-01-12T12:14:21.072Z"
   },
   {
    "duration": 46,
    "start_time": "2022-01-12T12:14:21.079Z"
   },
   {
    "duration": 5,
    "start_time": "2022-01-12T12:14:21.127Z"
   },
   {
    "duration": 521,
    "start_time": "2022-01-12T12:14:21.134Z"
   },
   {
    "duration": 503,
    "start_time": "2022-01-12T12:14:21.657Z"
   },
   {
    "duration": 406,
    "start_time": "2022-01-12T12:14:22.162Z"
   },
   {
    "duration": 36,
    "start_time": "2022-01-12T12:14:22.571Z"
   },
   {
    "duration": 36,
    "start_time": "2022-01-12T12:14:22.624Z"
   },
   {
    "duration": 10,
    "start_time": "2022-01-12T12:14:22.663Z"
   },
   {
    "duration": 4,
    "start_time": "2022-01-12T12:14:22.675Z"
   },
   {
    "duration": 49,
    "start_time": "2022-01-12T12:14:22.681Z"
   },
   {
    "duration": 541,
    "start_time": "2022-01-12T12:14:22.732Z"
   },
   {
    "duration": 618,
    "start_time": "2022-01-12T12:14:23.275Z"
   },
   {
    "duration": 402,
    "start_time": "2022-01-12T12:14:23.896Z"
   },
   {
    "duration": 8,
    "start_time": "2022-01-12T12:14:24.301Z"
   },
   {
    "duration": 50,
    "start_time": "2022-01-12T12:14:24.311Z"
   },
   {
    "duration": 64,
    "start_time": "2022-01-12T12:14:24.364Z"
   },
   {
    "duration": 43,
    "start_time": "2022-01-12T12:14:24.430Z"
   },
   {
    "duration": 7,
    "start_time": "2022-01-12T12:14:24.476Z"
   }
  ],
  "kernelspec": {
   "display_name": "Python 3",
   "language": "python",
   "name": "python3"
  },
  "language_info": {
   "codemirror_mode": {
    "name": "ipython",
    "version": 3
   },
   "file_extension": ".py",
   "mimetype": "text/x-python",
   "name": "python",
   "nbconvert_exporter": "python",
   "pygments_lexer": "ipython3",
   "version": "3.7.8"
  },
  "toc": {
   "base_numbering": 1,
   "nav_menu": {},
   "number_sections": true,
   "sideBar": true,
   "skip_h1_title": false,
   "title_cell": "Table of Contents",
   "title_sidebar": "Contents",
   "toc_cell": false,
   "toc_position": {
    "height": "calc(100% - 180px)",
    "left": "10px",
    "top": "150px",
    "width": "165px"
   },
   "toc_section_display": true,
   "toc_window_display": false
  }
 },
 "nbformat": 4,
 "nbformat_minor": 2
}
